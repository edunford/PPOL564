{
  "cells": [
    {
      "cell_type": "markdown",
      "source": [
        "<h1><center> PPOL564 - Data Science I: Foundations </center><h1>\n",
        "<h3><center><font color='grey'>Using Jupyter Notebooks, Magic Commands, & Extensions</font></center></h3>"
      ],
      "metadata": {
        "slideshow": {
          "slide_type": "slide"
        }
      }
    },
    {
      "cell_type": "markdown",
      "source": [
        "# What is a Notebook and why use it?"
      ],
      "metadata": {}
    },
    {
      "cell_type": "markdown",
      "source": [
        "The Jupyter Notebook is an open-source web application that allows you to **create and share documents** that contain \n",
        "\n",
        "- live code, \n",
        "- equations, \n",
        "- visualizations and \n",
        "- narrative text. \n",
        "\n",
        "Uses include: data cleaning and transformation, numerical simulation, statistical modeling, data visualization, machine learning, and much more. \n",
        "\n",
        "**Pros**:\n",
        "\n",
        "- Notebooks are **ubiquitous**, \n",
        "- Reproducible: transmitting and conveying results\n",
        "- We can **build code interactively** (like we do in `R`). This makes Jupyter notebooks particularly friendly when you're first learning Python\n",
        "    - This also makes `Atom` + `Hydrogen` and `Spyder` equally useful.\n",
        "- stable\n",
        "\n",
        "**Cons**:\n",
        "\n",
        "- _Non-linear_: sometimes we can fall out of sequence when writing code. E.g. write code dependencies _after_ we first need to use them.\n",
        "- There is a process to spinning a Notebook up.\n",
        "\n",
        "\n",
        "### `.ipynb` is really a `JSON` file\n",
        "At it's core, an Jupyter notebook is a [JSON (JavaScript Object Notation) file](https://en.wikipedia.org/wiki/JSON).  Let's see what the notebook that we are currently using looks like:"
      ],
      "metadata": {}
    },
    {
      "cell_type": "markdown",
      "source": [
        "# Initializing a Notebook\n",
        "\n",
        "There are two primary methods for initializing a notebook. \n",
        "\n",
        "1. **Via the command line**\n",
        "    - Go into the working directory containing your `.ipynb` notebook. \n",
        "        - e.g. `cd /Users/me/Desktop/`\n",
        "    - type `jupyter notebook`\n",
        "    - the web application will open up in your default browser. \n",
        "    - from there, click on the notebook and \"spin it up\". The notebook will then be \"running\". \n",
        "    - We can close the notebook by clicking on the `Quit` and `Logout` buttons on the page. \n",
        "        - `Quit` == close the local server (i.e. the web application connection)\n",
        "        - `Logout` == shut down the home page of the web application (but keep the server running)\n",
        "    - We can also close the server connection in the console using the combo of `Control-C` in the console. \n",
        "    - We can also relocate the the server (say if we accidentally close the Notebook) by using the local URL pathway provided when the notebook first activates.\n",
        "\n",
        "\n",
        "2. **Via the Anaconda Navigator** (requires you installing an [Anaconda distribution](https://www.anaconda.com/distribution/))\n",
        "\n",
        "    - Click on the Anaconda Icon\n",
        "    - Click \"Launch\" on the jupyter notebook icon.\n",
        "    - The web application will immediately fire up (also yielding a console panel much like what we say via the command line approach). \n",
        "    - One issue is that your working directory (i.e. where the notebook thinks you are on your computer) will be where ever Anaconda is stored (for me, it's at the very top of my file directory). Housing your projects here can be suboptimal for a whole range of reasons, so we'll need to **_change the working directory_** to the actual location that we want. \n",
        "        - One benefit of spinning up a Jupyter notebook via the command line is that your working directory will always be where you initialized the notebook. "
      ],
      "metadata": {}
    },
    {
      "cell_type": "markdown",
      "source": [
        "---\n",
        "\n",
        "# Kernels\n",
        "\n",
        "A kernel is a computational engine that executes the code contained in a notebook document. A cell (or \"Chunk\") is a container for text to be displayed in the notebook or code to be executed by the notebook's kernel.\n",
        "\n",
        "Though we can only have one type of kernel running for any given notebook (we can't change between kernels in the middle of a notebook), we can use jupyter beyond just a python kernel. Here is a [list of all the kernels](https://github.com/jupyter/jupyter/wiki/Jupyter-kernels) that you can use with a jupyter notebook. For example, we can easily employ an [R kernel in a jupyter notebook](https://irkernel.github.io/). This was always the notebooks original intent. Actually, \"Jupyter\" is a loose acronym meaning Julia, Python and R"
      ],
      "metadata": {}
    },
    {
      "cell_type": "markdown",
      "source": [
        "---\n",
        "\n",
        "# Usage\n",
        "\n",
        "\n",
        "## Code Chunks\n",
        "\n",
        "Code chunks are what we use to execute Python (or whatever kernel we have running) code. In addition, we can write prose in a code chunk by altering the metadata regarding how the code should be run.\n",
        "\n",
        "There are **two states** of a code chunk:\n",
        "\n",
        "- **Edit Mode**: Edit mode is indicated by a <font color =\"green\">green cell border</font> and a prompt showing in the editor area. When a cell is in edit mode, you can type into the cell, like a normal text editor. Enter edit mode by pressing Enter or using the mouse to click on a cell's editor area.\n",
        "\n",
        "\n",
        "- **Command Mode**: Command mode is indicated by a grey cell border with a <font color = \"blue\">blue left margin</font>. When you are in command mode, you are able to edit the notebook as a whole, but not type into individual cells. Most importantly, in command mode, the keyboard is mapped to a set of shortcuts that let you perform notebook and cell actions efficiently. For example, if you are in command mode and you press c, you will copy the current cell - no modifier is needed. Don't try to type into a cell in command mode. Enter command mode by pressing `Esc` or using the mouse to click outside a cell's editor area.\n",
        "\n",
        "We can **switch between Markdown and Code chunks** either \n",
        "\n",
        "- By using the **_drop down menu_** in the tool bar (in either mode)\n",
        "\n",
        "\n",
        "- By using the **_shortcut_**:\n",
        "    - Press `y` when on the cell in Command Mode to switch to a code chunk.\n",
        "    - Press `m` when on the cell in Command Mode to switch to a markdown chunk\n",
        "\n",
        "## Executing Code \n",
        "A code chunk will always reflect the behavior of the kernel that you're using (e.g. a Python code chunk will follow Python coding Syntax). \n",
        "\n",
        "**Best Practices**\n",
        "\n",
        "- Break code chunks up! \n",
        "- Every code chunk should render some output (the aim is to be able to read what we were doing without needing to fire the notebook back up)\n",
        "- Use spaces. Keep the chunk readable. Less is more.\n",
        "\n",
        "## Using Markdown\n",
        "The Markdown chunks will use the [Markdown](https://www.markdownguide.org/) and will allow for writing mathematical equations using LaTex. "
      ],
      "metadata": {}
    },
    {
      "cell_type": "markdown",
      "source": [
        "## Shortcuts\n",
        "\n",
        "As with most user interfaces, Jupyter Notebooks have developed their own way of doing things. Thus there are a number of useful shortcuts that you can employ to help perform useful tasks. \n",
        "\n",
        "We can access a full (searchable) list of keyboard shortcuts by pressing `p` when in Command Mode, or by clicking the keyboard icon in the tools.\n",
        "\n",
        "Important ones while in Command Mode:\n",
        "\n",
        "- `a`: create a new code chunk _above_ the current one.\n",
        "- `b`: create a new code chunk _below_ the current one.\n",
        "- `ii`: interrupt the kernel (really useful when some code is running too long or you've accidentally initiated an infinite loop!\n",
        "- `y`: code mode\n",
        "- `m`: markdown mode\n",
        "- `shift` + `m`: merge cells (when more than one cell is highlighted)\n",
        "\n",
        "Important ones while in Edit Mode:\n",
        "\n",
        "- `shit` + `ctrl` + `minus`: split cell"
      ],
      "metadata": {}
    },
    {
      "cell_type": "markdown",
      "source": [
        "---\n",
        "\n",
        "# Magic Commands\n",
        "\n",
        "Magic commands, and are prefixed by the `%` character. These magic commands are designed to succinctly solve various common problems in standard data analysis. \n",
        "\n",
        "Magic commands come in two flavors: \n",
        "\n",
        "- **line magics**, which are denoted by a _single_ `%` prefix and operate on a single line of input, \n",
        "- **cell magics**, which are denoted by a _double_ `%%` prefix and operate on multiple lines of input. \n",
        "\n",
        "List off all the available magic commands."
      ],
      "metadata": {}
    },
    {
      "cell_type": "code",
      "source": [
        "%lsmagic"
      ],
      "outputs": [
        {
          "output_type": "execute_result",
          "execution_count": 7,
          "data": {
            "application/json": {
              "cell": {
                "!": "OSMagics",
                "HTML": "Other",
                "SVG": "Other",
                "bash": "Other",
                "capture": "ExecutionMagics",
                "debug": "ExecutionMagics",
                "file": "Other",
                "html": "DisplayMagics",
                "javascript": "DisplayMagics",
                "js": "DisplayMagics",
                "latex": "DisplayMagics",
                "markdown": "DisplayMagics",
                "perl": "Other",
                "prun": "ExecutionMagics",
                "pypy": "Other",
                "python": "Other",
                "python2": "Other",
                "python3": "Other",
                "ruby": "Other",
                "script": "ScriptMagics",
                "sh": "Other",
                "svg": "DisplayMagics",
                "sx": "OSMagics",
                "system": "OSMagics",
                "time": "ExecutionMagics",
                "timeit": "ExecutionMagics",
                "writefile": "OSMagics"
              },
              "line": {
                "alias": "OSMagics",
                "alias_magic": "BasicMagics",
                "autocall": "AutoMagics",
                "automagic": "AutoMagics",
                "autosave": "KernelMagics",
                "bookmark": "OSMagics",
                "cat": "Other",
                "cd": "OSMagics",
                "clear": "KernelMagics",
                "colors": "BasicMagics",
                "config": "ConfigMagics",
                "connect_info": "KernelMagics",
                "cp": "Other",
                "debug": "ExecutionMagics",
                "dhist": "OSMagics",
                "dirs": "OSMagics",
                "doctest_mode": "BasicMagics",
                "ed": "Other",
                "edit": "KernelMagics",
                "env": "OSMagics",
                "gui": "BasicMagics",
                "hist": "Other",
                "history": "HistoryMagics",
                "killbgscripts": "ScriptMagics",
                "ldir": "Other",
                "less": "KernelMagics",
                "lf": "Other",
                "lk": "Other",
                "ll": "Other",
                "load": "CodeMagics",
                "load_ext": "ExtensionMagics",
                "loadpy": "CodeMagics",
                "logoff": "LoggingMagics",
                "logon": "LoggingMagics",
                "logstart": "LoggingMagics",
                "logstate": "LoggingMagics",
                "logstop": "LoggingMagics",
                "ls": "Other",
                "lsmagic": "BasicMagics",
                "lx": "Other",
                "macro": "ExecutionMagics",
                "magic": "BasicMagics",
                "man": "KernelMagics",
                "matplotlib": "PylabMagics",
                "mkdir": "Other",
                "more": "KernelMagics",
                "mv": "Other",
                "notebook": "BasicMagics",
                "page": "BasicMagics",
                "pastebin": "CodeMagics",
                "pdb": "ExecutionMagics",
                "pdef": "NamespaceMagics",
                "pdoc": "NamespaceMagics",
                "pfile": "NamespaceMagics",
                "pinfo": "NamespaceMagics",
                "pinfo2": "NamespaceMagics",
                "pip": "BasicMagics",
                "popd": "OSMagics",
                "pprint": "BasicMagics",
                "precision": "BasicMagics",
                "profile": "BasicMagics",
                "prun": "ExecutionMagics",
                "psearch": "NamespaceMagics",
                "psource": "NamespaceMagics",
                "pushd": "OSMagics",
                "pwd": "OSMagics",
                "pycat": "OSMagics",
                "pylab": "PylabMagics",
                "qtconsole": "KernelMagics",
                "quickref": "BasicMagics",
                "recall": "HistoryMagics",
                "rehashx": "OSMagics",
                "reload_ext": "ExtensionMagics",
                "rep": "Other",
                "rerun": "HistoryMagics",
                "reset": "NamespaceMagics",
                "reset_selective": "NamespaceMagics",
                "rm": "Other",
                "rmdir": "Other",
                "run": "ExecutionMagics",
                "save": "CodeMagics",
                "sc": "OSMagics",
                "set_env": "OSMagics",
                "store": "StoreMagics",
                "sx": "OSMagics",
                "system": "OSMagics",
                "tb": "ExecutionMagics",
                "time": "ExecutionMagics",
                "timeit": "ExecutionMagics",
                "unalias": "OSMagics",
                "unload_ext": "ExtensionMagics",
                "who": "NamespaceMagics",
                "who_ls": "NamespaceMagics",
                "whos": "NamespaceMagics",
                "xdel": "NamespaceMagics",
                "xmode": "BasicMagics"
              }
            },
            "text/plain": [
              "Available line magics:\n",
              "%alias  %alias_magic  %autocall  %automagic  %autosave  %bookmark  %cat  %cd  %clear  %colors  %config  %connect_info  %cp  %debug  %dhist  %dirs  %doctest_mode  %ed  %edit  %env  %gui  %hist  %history  %killbgscripts  %ldir  %less  %lf  %lk  %ll  %load  %load_ext  %loadpy  %logoff  %logon  %logstart  %logstate  %logstop  %ls  %lsmagic  %lx  %macro  %magic  %man  %matplotlib  %mkdir  %more  %mv  %notebook  %page  %pastebin  %pdb  %pdef  %pdoc  %pfile  %pinfo  %pinfo2  %popd  %pprint  %precision  %profile  %prun  %psearch  %psource  %pushd  %pwd  %pycat  %pylab  %qtconsole  %quickref  %recall  %rehashx  %reload_ext  %rep  %rerun  %reset  %reset_selective  %rm  %rmdir  %run  %save  %sc  %set_env  %store  %sx  %system  %tb  %time  %timeit  %unalias  %unload_ext  %who  %who_ls  %whos  %xdel  %xmode\n",
              "\n",
              "Available cell magics:\n",
              "%%!  %%HTML  %%SVG  %%bash  %%capture  %%debug  %%file  %%html  %%javascript  %%js  %%latex  %%markdown  %%perl  %%prun  %%pypy  %%python  %%python2  %%python3  %%ruby  %%script  %%sh  %%svg  %%sx  %%system  %%time  %%timeit  %%writefile\n",
              "\n",
              "Automagic is ON, % prefix IS NOT needed for line magics."
            ]
          },
          "metadata": {}
        }
      ],
      "execution_count": 7,
      "metadata": {}
    },
    {
      "cell_type": "markdown",
      "source": [
        "Or consult the quick reference sheet of all available magic"
      ],
      "metadata": {}
    },
    {
      "cell_type": "code",
      "source": [
        "%quickref"
      ],
      "outputs": [],
      "execution_count": 3,
      "metadata": {}
    },
    {
      "cell_type": "markdown",
      "source": [
        "## Useful Magic\n",
        "\n",
        "Here are some useful magic commands that come in handy as you're working with code."
      ],
      "metadata": {}
    },
    {
      "cell_type": "markdown",
      "source": [
        "### Bookmarking\n",
        "\"Come back here later\""
      ],
      "metadata": {}
    },
    {
      "cell_type": "code",
      "source": [
        "%bookmark Home"
      ],
      "outputs": [],
      "execution_count": 7,
      "metadata": {}
    },
    {
      "cell_type": "markdown",
      "source": [
        "See below"
      ],
      "metadata": {}
    },
    {
      "cell_type": "markdown",
      "source": [
        "### Changing working directories "
      ],
      "metadata": {}
    },
    {
      "cell_type": "code",
      "source": [
        "%cd ~/Desktop"
      ],
      "outputs": [
        {
          "output_type": "stream",
          "name": "stdout",
          "text": [
            "/Users/edunford/Desktop\n"
          ]
        }
      ],
      "execution_count": 4,
      "metadata": {}
    },
    {
      "cell_type": "code",
      "source": [
        "%pwd"
      ],
      "outputs": [
        {
          "output_type": "execute_result",
          "execution_count": 5,
          "data": {
            "text/plain": [
              "'/Users/edunford/Desktop'"
            ]
          },
          "metadata": {}
        }
      ],
      "execution_count": 5,
      "metadata": {}
    },
    {
      "cell_type": "markdown",
      "source": [
        "Using the bookmark to return to where we were..."
      ],
      "metadata": {}
    },
    {
      "cell_type": "code",
      "source": [
        "%cd -b Home"
      ],
      "outputs": [
        {
          "output_type": "stream",
          "name": "stderr",
          "text": [
            "UsageError: Bookmark 'Home' not found.  Use '%bookmark -l' to see your bookmarks.\n"
          ]
        }
      ],
      "execution_count": 6,
      "metadata": {}
    },
    {
      "cell_type": "code",
      "source": [
        "%pwd"
      ],
      "outputs": [
        {
          "output_type": "execute_result",
          "execution_count": 13,
          "data": {
            "text/plain": [
              "'/Users/ericdunford/Dropbox/Georgetown/Courses/PPOL564-Foundations/lectures/lecture_03'"
            ]
          },
          "metadata": {}
        }
      ],
      "execution_count": 13,
      "metadata": {}
    },
    {
      "cell_type": "markdown",
      "source": [
        "### Writing code to files\n",
        "\n",
        "Extremely useful when we develop some functionality that we'd like to utilize later on."
      ],
      "metadata": {}
    },
    {
      "cell_type": "code",
      "source": [
        "%%writefile my_fib_func.py\n",
        "def fib(n):\n",
        "    '''Fibonacci Sequence'''\n",
        "    x = [0]*n\n",
        "    for i in range(n):\n",
        "        if i == 0:\n",
        "            x[i] = 0\n",
        "        elif i == 1:\n",
        "            x[i] = 1\n",
        "        else:\n",
        "            x[i] = x[i-2] + x[i-1]\n",
        "    return x"
      ],
      "outputs": [
        {
          "output_type": "stream",
          "name": "stdout",
          "text": [
            "Writing my_fib_func.py\n"
          ]
        }
      ],
      "execution_count": 8,
      "metadata": {}
    },
    {
      "cell_type": "code",
      "source": [
        "%ls # list files ( see our function)"
      ],
      "outputs": [
        {
          "output_type": "stream",
          "name": "stdout",
          "text": [
            "lecture_03-using-jupyter-notebooks.ipynb\r\n",
            "my_fib_func.py\r\n"
          ]
        }
      ],
      "execution_count": 15,
      "metadata": {}
    },
    {
      "cell_type": "markdown",
      "source": [
        "### Reading in files"
      ],
      "metadata": {}
    },
    {
      "cell_type": "code",
      "source": [
        "# %load my_fib_func.py\n",
        "def fib(n):\n",
        "    '''Fibonacci Sequence'''\n",
        "    x = [0]*n\n",
        "    for i in range(n):\n",
        "        if i == 0:\n",
        "            x[i] = 0\n",
        "        elif i == 1:\n",
        "            x[i] = 1\n",
        "        else:\n",
        "            x[i] = x[i-2] + x[i-1]\n",
        "    return x"
      ],
      "outputs": [],
      "execution_count": null,
      "metadata": {}
    },
    {
      "cell_type": "markdown",
      "source": [
        "### Run an external file as a program"
      ],
      "metadata": {}
    },
    {
      "cell_type": "code",
      "source": [
        "%run my_fib_func.py"
      ],
      "outputs": [],
      "execution_count": 10,
      "metadata": {}
    },
    {
      "cell_type": "markdown",
      "source": [
        "### Timing Code\n",
        "\n",
        "How fast does what we wrote run?"
      ],
      "metadata": {}
    },
    {
      "cell_type": "code",
      "source": [
        "%time fib(10)"
      ],
      "outputs": [
        {
          "output_type": "stream",
          "name": "stdout",
          "text": [
            "CPU times: user 12 µs, sys: 0 ns, total: 12 µs\n",
            "Wall time: 16.9 µs\n"
          ]
        },
        {
          "output_type": "execute_result",
          "execution_count": 11,
          "data": {
            "text/plain": [
              "[0, 1, 1, 2, 3, 5, 8, 13, 21, 34]"
            ]
          },
          "metadata": {}
        }
      ],
      "execution_count": 11,
      "metadata": {}
    },
    {
      "cell_type": "markdown",
      "source": [
        "How long does many runs take (statistical sample)?"
      ],
      "metadata": {}
    },
    {
      "cell_type": "code",
      "source": [
        "%%timeit\n",
        "fib(10)"
      ],
      "outputs": [
        {
          "output_type": "stream",
          "name": "stdout",
          "text": [
            "2.66 µs ± 32.9 ns per loop (mean ± std. dev. of 7 runs, 100000 loops each)\n"
          ]
        }
      ],
      "execution_count": 12,
      "metadata": {}
    },
    {
      "cell_type": "markdown",
      "source": [
        "### Look up object names in the name space"
      ],
      "metadata": {}
    },
    {
      "cell_type": "code",
      "source": [
        "main_dat = [1,2,3,4]\n",
        "main_key = [\"a\",\"b\"]\n",
        "x = 5\n",
        "y = 6"
      ],
      "outputs": [],
      "execution_count": 13,
      "metadata": {}
    },
    {
      "cell_type": "code",
      "source": [
        "%psearch main*"
      ],
      "outputs": [],
      "execution_count": 14,
      "metadata": {}
    },
    {
      "cell_type": "markdown",
      "source": [
        "Whenever you encounter an error or exception, just open a new notebook cell, type `%debug` and run the cell. This will open a command line where you can test your code and inspect all variables right up to the line that threw the error. Type `n` and hit Enter to run the next line of code (The `->` arrow shows you the current position). Use `c` to continue until the next breakpoint. `q` quits the debugger and code execution."
      ],
      "metadata": {}
    },
    {
      "cell_type": "markdown",
      "source": [
        "### Asking for help"
      ],
      "metadata": {}
    },
    {
      "cell_type": "code",
      "source": [
        "%%timeit?"
      ],
      "outputs": [],
      "execution_count": 15,
      "metadata": {}
    },
    {
      "cell_type": "markdown",
      "source": [
        "---\n",
        "\n",
        "# Notebook Extensions\n",
        "\n",
        "We can expand the functionality of Jupyter notebooks through extensions. Extensions allow for use to create and use new features that better customize the notebook's user experience. For example, there are extensions for spell check, a table of contents to ease navigation, run code in parallel, and for viewing differences in notebooks when using Version control.\n",
        "\n",
        "Download python module to install notebook extensions: https://github.com/ipython-contrib/jupyter_contrib_nbextensions\n",
        "\n",
        "Using `PyPi` (module manager):\n",
        "\n",
        "```bash\n",
        "pip install jupyter_nbextensions_configurator jupyter_contrib_nbextensions\n",
        "jupyter contrib nbextension install --user\n",
        "jupyter nbextensions_configurator enable --user\n",
        "```\n",
        "\n",
        "Using `Conda` (Anaconda module manager):\n",
        "\n",
        "```bash\n",
        "conda install -c conda-forge jupyter_contrib_nbextensions\n",
        "jupyter contrib nbextension install --user\n",
        "jupyter nbextensions_configurator enable --user\n",
        "```\n",
        "\n",
        "Extensions can be activated most easily on the home screen when you first activate your Jupyter notebook.\n",
        "\n",
        "\n",
        "## Useful Extensions\n",
        "\n",
        "- **Collapsible headings**: allows you to collapse some parts of the notebooks.\n",
        "- **Notify**: sends a notification when the notebook becomes idle (for long running tasks)\n",
        "- **Code folding**: folds function, loops, and indented code chunks (makes things tidy)\n",
        "- **nbdime**: provides tools for git differencing and merging of Jupyter Notebooks.\n",
        "    - Requires installation: `pip install nbdime`"
      ],
      "metadata": {}
    },
    {
      "cell_type": "markdown",
      "source": [],
      "metadata": {
        "nteract": {
          "transient": {
            "deleting": false
          }
        }
      }
    }
  ],
  "metadata": {
    "kernelspec": {
      "display_name": "Python 3",
      "language": "python",
      "name": "python3"
    },
    "language_info": {
      "name": "python",
      "version": "3.7.0",
      "mimetype": "text/x-python",
      "codemirror_mode": {
        "name": "ipython",
        "version": 3
      },
      "pygments_lexer": "ipython3",
      "nbconvert_exporter": "python",
      "file_extension": ".py"
    },
    "toc": {
      "toc_position": {
        "height": "calc(100% - 180px)",
        "left": "10px",
        "top": "150px",
        "width": "165px"
      },
      "skip_h1_title": false,
      "number_sections": false,
      "title_cell": "Table of Contents",
      "toc_window_display": false,
      "base_numbering": 1,
      "toc_section_display": true,
      "title_sidebar": "Contents",
      "toc_cell": false,
      "nav_menu": {
        "height": "495px",
        "width": "373.991px"
      },
      "sideBar": true
    },
    "nteract": {
      "version": "0.23.3"
    }
  },
  "nbformat": 4,
  "nbformat_minor": 2
}