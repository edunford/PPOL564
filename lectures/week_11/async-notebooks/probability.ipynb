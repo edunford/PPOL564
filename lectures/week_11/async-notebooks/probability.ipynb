{
 "cells": [
  {
   "cell_type": "markdown",
   "metadata": {},
   "source": [
    "<h1><center> PPOL564 | DS1: Foundations <br><br><font color='grey'> \n",
    "Probability </font> </center><h1>\n",
    "\n",
    "### Concepts:\n",
    "\n",
    "- Basics concepts underpinning probability theory\n",
    "- PMF/PDFs, CDFs, Expectation, and Variance\n",
    "- Survey of some Discrete and Continuous Distributions\n",
    "- Proving the Central Limit Theorem with simulation"
   ]
  },
  {
   "cell_type": "code",
   "execution_count": 1,
   "metadata": {},
   "outputs": [],
   "source": [
    "import numpy as np\n",
    "import pandas as pd\n",
    "import matplotlib.pyplot as plt\n",
    "import seaborn as sns\n",
    "import math\n",
    "import itertools\n",
    "import warnings\n",
    "warnings.filterwarnings(\"ignore\")\n",
    "plt.style.use('ggplot')"
   ]
  },
  {
   "cell_type": "markdown",
   "metadata": {},
   "source": [
    "# Probability Basics"
   ]
  },
  {
   "cell_type": "markdown",
   "metadata": {},
   "source": [
    "### Probability Space\n",
    "\n",
    "All probabilities lie between zero and one. \n",
    "\n",
    "<br>\n",
    "<br>\n",
    "\n",
    "$$Pr(A) \\in [0,1]$$\n",
    "\n",
    "<br>\n",
    "<br>\n",
    "\n",
    "If $Pr(A) = 0$, then $A$ _cannot happen_. If $Pr(A) = 1$, then $A$ is certain."
   ]
  },
  {
   "cell_type": "markdown",
   "metadata": {},
   "source": [
    "### Sample Space\n",
    "> The set of all possible outcomes. That is, each possible event we _might_ observe. \n",
    "\n",
    "<br>\n",
    "<br>\n",
    "\n",
    "$$Pr(A) = \\frac{\\text{No. of outcomes in event A}}{\\text{No. of outcomes in the sample space}}$$\n",
    "\n",
    "<br>\n",
    "<br>\n",
    "\n",
    "- **simple event**  = a single outcome (cannot be broken down further into another constituent part, i.e. multiple outcomes)\n",
    "- **compound event**  = two or more simple events\n",
    "\n",
    "If $S$ is the sample space containing all events that might happen, then\n",
    "\n",
    "<br>\n",
    "<br>\n",
    "\n",
    "$$Pr(S) = 1$$"
   ]
  },
  {
   "cell_type": "markdown",
   "metadata": {},
   "source": [
    "### Independence\n",
    "\n",
    "> Two events are considered independent if the probability that one event occurs does not change the probability that the other event occurs.\n",
    "\n",
    "<br>\n",
    "<br>\n",
    "$$Pr(A | B) = Pr(A)$$\n",
    "\n",
    "<br>\n",
    "<br>\n",
    "\n",
    "$$Pr(B | A) = Pr(B)$$\n",
    "\n",
    "<br>\n",
    "<br>"
   ]
  },
  {
   "cell_type": "markdown",
   "metadata": {},
   "source": [
    "### Joint Probability\n",
    "\n",
    "> The probability of two or more independent events occurring.\n",
    "\n",
    "The probability that $A$ _and_ $B$ happen.\n",
    "\n",
    "For example, say the probability that you'll check Facebook 5 times today is .33 _and_ the probability that I'll say \"right\" more than 4 times in this lecture is .56. Then the joint probability of these two independent events is .33*.56 is .185.\n",
    "\n",
    "<br>\n",
    "<br>\n",
    "\n",
    "$$Pr(A \\cap B) = Pr(A)Pr(B)$$\n",
    "\n",
    "<br>\n",
    "<br>"
   ]
  },
  {
   "cell_type": "markdown",
   "metadata": {},
   "source": [
    "### Mutually exclusive\n",
    "\n",
    "> Two events are considered mutually exclusive when one event _cannot_ occur if the other event has occurred.\n",
    "\n",
    "For example, consider the education levels for respondents in a survey: (1) some high school, (2) high school graduate, (3) some college, (4) college graduate, (5) some graduate training, (6) graduated from graduate school. Respondents can only be located in one of these categories. \n",
    "\n",
    "<br>\n",
    "<br>\n",
    "\n",
    "$$Pr(A \\cap B) = 0$$"
   ]
  },
  {
   "cell_type": "markdown",
   "metadata": {},
   "source": [
    "### Conditional Probability \n",
    "\n",
    "> The probability that one event occurring is affected by whether another event occurs.\n",
    "\n",
    "<br>\n",
    "<br>\n",
    "\n",
    "The probability of $A$ _given_ $B$.\n",
    "\n",
    "$$Pr(A | B) = \\frac{Pr(A \\cap B)}{Pr(B)}$$\n",
    "\n",
    "<br>\n",
    "<br>\n",
    "\n"
   ]
  },
  {
   "cell_type": "markdown",
   "metadata": {},
   "source": [
    "### Intersection: $\\cap$ \n",
    "\n",
    "> Events that are common to both $A$ _and_ $B$. \n",
    "\n",
    "<span><img src=\"http://ericdunford.com/ppol670/Lectures/week_04/Figures/inner_join.png\" width =20%></span>\n",
    "\n",
    "\n",
    "\n",
    "<br>\n",
    "<br>\n",
    "When $A$ and $B$ are independent\n",
    "\n",
    "<br>\n",
    "<br>\n",
    "\n",
    "$$Pr(A \\cap B) = Pr(A)Pr(B)$$\n",
    "\n",
    "<br>\n",
    "<br>\n",
    "\n",
    "When $A$ and $B$ are dependent\n",
    "\n",
    "<br>\n",
    "<br>\n",
    "\n",
    "$$Pr(A \\cap B) = Pr(B | A)Pr(A) = Pr(A|B)Pr(B)$$"
   ]
  },
  {
   "cell_type": "code",
   "execution_count": 2,
   "metadata": {},
   "outputs": [
    {
     "data": {
      "text/plain": [
       "{2, 8}"
      ]
     },
     "execution_count": 2,
     "metadata": {},
     "output_type": "execute_result"
    }
   ],
   "source": [
    "A = set([1,2,5,8])\n",
    "B = set([2,3,8,9])\n",
    "A.intersection(B)"
   ]
  },
  {
   "cell_type": "markdown",
   "metadata": {},
   "source": [
    "### Union: $\\cup$\n",
    "\n",
    "> Compound event where either $A$ _or_ $B$ happens, or both.\n",
    "\n",
    "\n",
    "\n",
    "\n",
    "<span><img src=\"http://ericdunford.com/ppol670/Lectures/week_04/Figures/left_join.png\" width =20%></span>\n",
    "<span><img src=\"http://ericdunford.com/ppol670/Lectures/week_04/Figures/right_join.png\" width =20%></span>\n",
    "<span><img src=\"http://ericdunford.com/ppol670/Lectures/week_04/Figures/full_join.png\" width =20%></span>\n",
    "\n",
    "<br>\n",
    "<br>\n",
    "\n",
    "$$Pr(A \\cup B) = Pr(A) + Pr(B) - Pr(A \\cap B)$$\n",
    "\n",
    "<br>\n",
    "<br>"
   ]
  },
  {
   "cell_type": "code",
   "execution_count": 3,
   "metadata": {},
   "outputs": [
    {
     "data": {
      "text/plain": [
       "{1, 2, 3, 5, 8, 9}"
      ]
     },
     "execution_count": 3,
     "metadata": {},
     "output_type": "execute_result"
    }
   ],
   "source": [
    "A = set([1,2,5,8])\n",
    "B = set([2,3,8,9])\n",
    "A.union(B)"
   ]
  },
  {
   "cell_type": "markdown",
   "metadata": {},
   "source": [
    "### Combinations\n",
    "\n",
    "> A combination is a way of choosing $k$ objects from $n$ objects when the order in which one chooses those objects is irrelevant.\n",
    "\n",
    "$$\\begin{pmatrix}  n  \\\\ k  \\end{pmatrix} = \\frac{n!}{k!(n-k)!}$$"
   ]
  },
  {
   "cell_type": "code",
   "execution_count": 4,
   "metadata": {},
   "outputs": [
    {
     "data": {
      "text/plain": [
       "6.0"
      ]
     },
     "execution_count": 4,
     "metadata": {},
     "output_type": "execute_result"
    }
   ],
   "source": [
    "# How many combinations of 2 pairs can we draw?\n",
    "options = \"abcd\"\n",
    "n = len(options)\n",
    "k = 2\n",
    "\n",
    "# Possible combinations\n",
    "math.factorial(n)/(math.factorial(k)*math.factorial(n-k))"
   ]
  },
  {
   "cell_type": "code",
   "execution_count": 5,
   "metadata": {},
   "outputs": [
    {
     "data": {
      "text/plain": [
       "[('a', 'b'), ('a', 'c'), ('a', 'd'), ('b', 'c'), ('b', 'd'), ('c', 'd')]"
      ]
     },
     "execution_count": 5,
     "metadata": {},
     "output_type": "execute_result"
    }
   ],
   "source": [
    "[i for i in itertools.combinations(options,2)]"
   ]
  },
  {
   "cell_type": "markdown",
   "metadata": {},
   "source": [
    "### Permutations\n",
    "\n",
    "> A permutation is a way of choosing $k$ objects from $n$ objects in which the order one chooses those objects matters.\n",
    "\n",
    "$$\\frac{n!}{(n-k)!}$$"
   ]
  },
  {
   "cell_type": "code",
   "execution_count": 6,
   "metadata": {},
   "outputs": [
    {
     "data": {
      "text/plain": [
       "12.0"
      ]
     },
     "execution_count": 6,
     "metadata": {},
     "output_type": "execute_result"
    }
   ],
   "source": [
    "math.factorial(n)/math.factorial(n-k)"
   ]
  },
  {
   "cell_type": "code",
   "execution_count": 7,
   "metadata": {},
   "outputs": [
    {
     "data": {
      "text/plain": [
       "[('a', 'b'),\n",
       " ('a', 'c'),\n",
       " ('a', 'd'),\n",
       " ('b', 'a'),\n",
       " ('b', 'c'),\n",
       " ('b', 'd'),\n",
       " ('c', 'a'),\n",
       " ('c', 'b'),\n",
       " ('c', 'd'),\n",
       " ('d', 'a'),\n",
       " ('d', 'b'),\n",
       " ('d', 'c')]"
      ]
     },
     "execution_count": 7,
     "metadata": {},
     "output_type": "execute_result"
    }
   ],
   "source": [
    "[i for i in itertools.permutations(options,2)]"
   ]
  },
  {
   "cell_type": "markdown",
   "metadata": {},
   "source": [
    "### Random Variable\n",
    "\n",
    "> A random variable is a variable that can take some array of values, with the probability that it takes any particular value defined according to some random process. \n",
    "\n",
    "Up to this point, we've talked about variables deterministically. That is, $x$ or $y$ are values that we can solve for given some equation.\n",
    "\n",
    "<br>\n",
    "<br>\n",
    "\n",
    "$$ x + 4 = 6 $$\n",
    "$$ x = 2 $$\n",
    "\n",
    "<br>\n",
    "<br>\n",
    "\n",
    "A random variable, on the other hand, is a mapping some random process (like a coin flip) to a numerical value.\n",
    "\n",
    "<br>\n",
    "<br>\n",
    "\n",
    "$$Pr(X) = \\begin{cases} 1 \\;\\; Heads\\\\ 0 \\;\\; Tails\\end{cases}$$\n",
    "\n",
    "<br>\n",
    "<br>\n",
    "\n",
    "A random variable can potentially take on many values; thus, it no longer makes sense to specify a specific value, rather the _probability_ that $X$ will take on a specific value. \n",
    "\n",
    "<br>\n",
    "<br>\n",
    "\n",
    "$$Pr(X=1) = .5$$\n",
    "\n",
    "<br>\n",
    "<br>\n",
    "\n",
    "A **discrete random variable** is a variable whose range is countable. \n",
    "\n",
    "- $X$ is a finite set (e.g. a set of integers {1,2,3,4,...})\n",
    "- $X$ maps to the natural numbers (\"infinitely countable\")\n",
    "\n",
    "\n",
    "$$ A = \\text{the year 55th student accepted into DSPP was born}$$\n",
    "\n",
    "\n",
    "A **continuous random variable** is a variable whose range is uncountable, or put differently, whose range can take on any value in an interval.\n",
    "\n",
    "\n",
    "$$ B = \\text{the height of the 55th student accepted into DSPP}$$\n"
   ]
  },
  {
   "cell_type": "markdown",
   "metadata": {},
   "source": [
    "### Probability Distribution\n",
    "\n",
    "> The set of values a random variable might take. The function that defines the probability that each value occurs is known as a probability mass function (PMF) (discrete variables) or a probability distribution function (PDF) (continuous variables). (More on this below)."
   ]
  },
  {
   "cell_type": "markdown",
   "metadata": {},
   "source": [
    "### Sample Distribution\n",
    "Probability distributions are theoretical constructs. When dealing with actual data, we encountered a \"**sample distribution**\", which are of the number of cases that take each of the values in a sample space for a given portion of the population of cases. We already encountered this when calculating \"frequencies\" (or counts) when summarizing empirical data. "
   ]
  },
  {
   "cell_type": "code",
   "execution_count": 8,
   "metadata": {},
   "outputs": [
    {
     "data": {
      "text/plain": [
       "x\n",
       "1    6\n",
       "2    7\n",
       "3    3\n",
       "dtype: int64"
      ]
     },
     "execution_count": 8,
     "metadata": {},
     "output_type": "execute_result"
    }
   ],
   "source": [
    "# Discrete Distribution\n",
    "D = pd.DataFrame(dict(x=np.array([1,1,3,2,1,2,2,3,2,1,1,2,1,2,3,2])))\n",
    "D.groupby(\"x\").size()"
   ]
  },
  {
   "cell_type": "code",
   "execution_count": 9,
   "metadata": {},
   "outputs": [
    {
     "data": {
      "image/png": "[encoded data removed]",
      "text/plain": [
       "<Figure size 720x216 with 1 Axes>"
      ]
     },
     "metadata": {},
     "output_type": "display_data"
    }
   ],
   "source": [
    "plt.figure(figsize=(10,3))\n",
    "sns.countplot(D.x,color=\"steelblue\")\n",
    "plt.show()"
   ]
  },
  {
   "cell_type": "markdown",
   "metadata": {},
   "source": [
    "### Contingency Tables\n",
    "\n",
    "We can display the joint frequency distributions for two discrete random variables as a matrix. Representing discrete variables as a table can offer an straightforward way for calculating probabilities given observed data. These are also known as cross-tabs (or \"cross-tabulation tables\")\n",
    "\n",
    "We can calculate the \"**marginal probabilities**\" by summing across the rows and columns (and reporting those sums in the margins of the table (i.e. thus why we say \"marginal\")).\n",
    "\n",
    "<br>\n",
    "<br>\n",
    "\n",
    "|      _       | Previous Drug Use | No Previous Drug Use | Total |\n",
    "|---------------|:-------------------:|:----------------------:|:-------:|\n",
    "| **Voted (2016)**  |       344         |     456              | 800\n",
    "| **Did Not Vote (2016)**|       566    |      132             | 698\n",
    "| **Total** |       910    |      588           | 1498\n",
    "\n",
    "<br>\n",
    "<br>"
   ]
  },
  {
   "cell_type": "markdown",
   "metadata": {},
   "source": [
    "_Questions_:\n",
    "\n",
    "1. What is the probability of someone voted in 2016?\n",
    "\n",
    "<br>\n",
    "<br>\n",
    "\n",
    "$$ Pr(\\text{Voted}) = \\frac{800}{1498} \\approx .53$$\n",
    "\n",
    "<br>\n",
    "<br>\n",
    "\n",
    "2. What is the probability that someone voted _and_ reported previous drug use?\n",
    "\n",
    "<br>\n",
    "<br>\n",
    "\n",
    "$$ Pr(\\text{Voted} \\cap \\text{Drug Use}) = \\frac{344}{1498} \\approx .23 $$\n",
    "\n",
    "<br>\n",
    "<br>\n",
    "\n",
    "3. What is the probability someone voted _or_ reported no previous drug use?\n",
    "\n",
    "<br>\n",
    "<br>\n",
    "\n",
    "$$ Pr(\\text{Voted} \\cup \\text{No Drug Use}) = \\frac{800}{1498} + \\frac{588}{1498} - \\frac{456}{1498} \\approx .62 $$\n",
    "\n",
    "<br>\n",
    "<br>\n",
    "\n",
    "4. What is the probability someone voted given reporting previous drug use?\n",
    "\n",
    "<br>\n",
    "<br>\n",
    "\n",
    "$$ Pr(\\text{Voted} | \\text{Drug Use}) = \\frac{344}{910} \\approx .38 $$\n",
    "\n",
    "<br>\n",
    "<br>\n",
    "\n",
    "$$ Pr(\\text{Voted} | \\text{Drug Use}) = \\frac{Pr(\\text{Voted} \\cap \\text{Drug Use})}{Pr(\\text{Drug Use})} = \\frac{\\frac{344}{1498}}{\\frac{910}{1498}} \\approx .38 $$\n",
    "\n",
    "<br>\n",
    "<br>"
   ]
  },
  {
   "cell_type": "markdown",
   "metadata": {},
   "source": [
    "# Expectations of Random Variables"
   ]
  },
  {
   "cell_type": "markdown",
   "metadata": {},
   "source": [
    "### Probability Mass Function "
   ]
  },
  {
   "cell_type": "markdown",
   "metadata": {},
   "source": [
    "$X$ is a random variable is the number 4 people randomly sampled from the population who voted in the last election. What is the probability that three out of the four people voted, $Pr(X = 3)$?\n",
    "\n",
    "To calculate this, we need need to know something about all the potential outcomes of $X$, that is, we need to understand every potential permutation that we could draw. This forms the possible sample space. "
   ]
  },
  {
   "cell_type": "code",
   "execution_count": 10,
   "metadata": {},
   "outputs": [
    {
     "data": {
      "text/plain": [
       "{('NV', 'NV', 'NV', 'NV'),\n",
       " ('NV', 'NV', 'NV', 'V'),\n",
       " ('NV', 'NV', 'V', 'NV'),\n",
       " ('NV', 'NV', 'V', 'V'),\n",
       " ('NV', 'V', 'NV', 'NV'),\n",
       " ('NV', 'V', 'NV', 'V'),\n",
       " ('NV', 'V', 'V', 'NV'),\n",
       " ('NV', 'V', 'V', 'V'),\n",
       " ('V', 'NV', 'NV', 'NV'),\n",
       " ('V', 'NV', 'NV', 'V'),\n",
       " ('V', 'NV', 'V', 'NV'),\n",
       " ('V', 'NV', 'V', 'V'),\n",
       " ('V', 'V', 'NV', 'NV'),\n",
       " ('V', 'V', 'NV', 'V'),\n",
       " ('V', 'V', 'V', 'NV'),\n",
       " ('V', 'V', 'V', 'V')}"
      ]
     },
     "execution_count": 10,
     "metadata": {},
     "output_type": "execute_result"
    }
   ],
   "source": [
    "voted = [\"V\"]*4\n",
    "not_voted = [\"NV\"]*4\n",
    "options = voted + not_voted\n",
    "possible_outcomes = set(itertools.permutations(options,4))\n",
    "possible_outcomes"
   ]
  },
  {
   "cell_type": "markdown",
   "metadata": {},
   "source": [
    "Now let's calculate the probability that 3 out of the 4 randomly selected individuals voted in the last election."
   ]
  },
  {
   "cell_type": "code",
   "execution_count": 11,
   "metadata": {},
   "outputs": [
    {
     "data": {
      "text/plain": [
       "0.25"
      ]
     },
     "execution_count": 11,
     "metadata": {},
     "output_type": "execute_result"
    }
   ],
   "source": [
    "cnt_3_voted = sum([1 for entry in possible_outcomes if entry.count(\"V\") == 3])\n",
    "total = len(possible_outcomes)\n",
    "pr_3_voted = cnt_3_voted/total\n",
    "pr_3_voted"
   ]
  },
  {
   "cell_type": "markdown",
   "metadata": {},
   "source": [
    "We can calculate the probability of every possible voting outcome (i.e. $Pr(X = 0)$, $Pr(X = 1)$, ...). This is known as the **probability mass function**. "
   ]
  },
  {
   "cell_type": "code",
   "execution_count": 12,
   "metadata": {},
   "outputs": [
    {
     "data": {
      "text/html": [
       "<div>\n",
       "<style scoped>\n",
       "    .dataframe tbody tr th:only-of-type {\n",
       "        vertical-align: middle;\n",
       "    }\n",
       "\n",
       "    .dataframe tbody tr th {\n",
       "        vertical-align: top;\n",
       "    }\n",
       "\n",
       "    .dataframe thead th {\n",
       "        text-align: right;\n",
       "    }\n",
       "</style>\n",
       "<table border=\"1\" class=\"dataframe\">\n",
       "  <thead>\n",
       "    <tr style=\"text-align: right;\">\n",
       "      <th></th>\n",
       "      <th>X</th>\n",
       "      <th>probability</th>\n",
       "    </tr>\n",
       "  </thead>\n",
       "  <tbody>\n",
       "    <tr>\n",
       "      <th>0</th>\n",
       "      <td>0</td>\n",
       "      <td>0.0625</td>\n",
       "    </tr>\n",
       "    <tr>\n",
       "      <th>1</th>\n",
       "      <td>1</td>\n",
       "      <td>0.2500</td>\n",
       "    </tr>\n",
       "    <tr>\n",
       "      <th>2</th>\n",
       "      <td>2</td>\n",
       "      <td>0.3750</td>\n",
       "    </tr>\n",
       "    <tr>\n",
       "      <th>3</th>\n",
       "      <td>3</td>\n",
       "      <td>0.2500</td>\n",
       "    </tr>\n",
       "    <tr>\n",
       "      <th>4</th>\n",
       "      <td>4</td>\n",
       "      <td>0.0625</td>\n",
       "    </tr>\n",
       "  </tbody>\n",
       "</table>\n",
       "</div>"
      ],
      "text/plain": [
       "   X  probability\n",
       "0  0       0.0625\n",
       "1  1       0.2500\n",
       "2  2       0.3750\n",
       "3  3       0.2500\n",
       "4  4       0.0625"
      ]
     },
     "execution_count": 12,
     "metadata": {},
     "output_type": "execute_result"
    }
   ],
   "source": [
    "pmf = []\n",
    "for i in range(4+1):\n",
    "    pr = sum([1 for entry in possible_outcomes if entry.count(\"V\") == i])/len(possible_outcomes)\n",
    "    pmf.append([i,pr])\n",
    "pmf = pd.DataFrame(pmf,columns=[\"X\",\"probability\"])\n",
    "pmf"
   ]
  },
  {
   "cell_type": "code",
   "execution_count": 13,
   "metadata": {},
   "outputs": [
    {
     "data": {
      "image/png": "[encoded data removed]",
      "text/plain": [
       "<Figure size 864x216 with 1 Axes>"
      ]
     },
     "metadata": {},
     "output_type": "display_data"
    }
   ],
   "source": [
    "plt.figure(figsize=(12,3))\n",
    "sns.barplot(\"X\",\"probability\",color=\"steelblue\",data=pmf)\n",
    "plt.show()"
   ]
  },
  {
   "cell_type": "markdown",
   "metadata": {},
   "source": [
    "The PMF (or the PDF in the continuous case) is denoted by $f(x)$"
   ]
  },
  {
   "cell_type": "markdown",
   "metadata": {},
   "source": [
    "### Cumulative Distribution Function "
   ]
  },
  {
   "cell_type": "markdown",
   "metadata": {},
   "source": [
    "Note that the probability for each outcome of $X$ (computed above) sums to 1."
   ]
  },
  {
   "cell_type": "code",
   "execution_count": 14,
   "metadata": {},
   "outputs": [
    {
     "data": {
      "text/plain": [
       "1.0"
      ]
     },
     "execution_count": 14,
     "metadata": {},
     "output_type": "execute_result"
    }
   ],
   "source": [
    "pmf.probability.sum()"
   ]
  },
  {
   "cell_type": "markdown",
   "metadata": {},
   "source": [
    "The cumulative distribution function (CDF) describes the function that covers a range of values below a specific value and can be defined for both discrete and continuous distributions. \n",
    "\n",
    "<br>\n",
    "<br>\n",
    "\n",
    "$$ Pr(X \\le x) = \\sum_{i\\le x} p(i)$$\n",
    "\n",
    "<br>\n",
    "<br>"
   ]
  },
  {
   "cell_type": "code",
   "execution_count": 15,
   "metadata": {},
   "outputs": [
    {
     "data": {
      "text/html": [
       "<div>\n",
       "<style scoped>\n",
       "    .dataframe tbody tr th:only-of-type {\n",
       "        vertical-align: middle;\n",
       "    }\n",
       "\n",
       "    .dataframe tbody tr th {\n",
       "        vertical-align: top;\n",
       "    }\n",
       "\n",
       "    .dataframe thead th {\n",
       "        text-align: right;\n",
       "    }\n",
       "</style>\n",
       "<table border=\"1\" class=\"dataframe\">\n",
       "  <thead>\n",
       "    <tr style=\"text-align: right;\">\n",
       "      <th></th>\n",
       "      <th>X</th>\n",
       "      <th>probability</th>\n",
       "      <th>cdf</th>\n",
       "    </tr>\n",
       "  </thead>\n",
       "  <tbody>\n",
       "    <tr>\n",
       "      <th>0</th>\n",
       "      <td>0</td>\n",
       "      <td>0.0625</td>\n",
       "      <td>0.0625</td>\n",
       "    </tr>\n",
       "    <tr>\n",
       "      <th>1</th>\n",
       "      <td>1</td>\n",
       "      <td>0.2500</td>\n",
       "      <td>0.3125</td>\n",
       "    </tr>\n",
       "    <tr>\n",
       "      <th>2</th>\n",
       "      <td>2</td>\n",
       "      <td>0.3750</td>\n",
       "      <td>0.6875</td>\n",
       "    </tr>\n",
       "    <tr>\n",
       "      <th>3</th>\n",
       "      <td>3</td>\n",
       "      <td>0.2500</td>\n",
       "      <td>0.9375</td>\n",
       "    </tr>\n",
       "    <tr>\n",
       "      <th>4</th>\n",
       "      <td>4</td>\n",
       "      <td>0.0625</td>\n",
       "      <td>1.0000</td>\n",
       "    </tr>\n",
       "  </tbody>\n",
       "</table>\n",
       "</div>"
      ],
      "text/plain": [
       "   X  probability     cdf\n",
       "0  0       0.0625  0.0625\n",
       "1  1       0.2500  0.3125\n",
       "2  2       0.3750  0.6875\n",
       "3  3       0.2500  0.9375\n",
       "4  4       0.0625  1.0000"
      ]
     },
     "execution_count": 15,
     "metadata": {},
     "output_type": "execute_result"
    }
   ],
   "source": [
    "pmf.loc[:,\"cdf\"] = pmf.probability.cumsum()\n",
    "pmf"
   ]
  },
  {
   "cell_type": "code",
   "execution_count": 16,
   "metadata": {},
   "outputs": [
    {
     "data": {
      "image/png": "[encoded data removed]",
      "text/plain": [
       "<Figure size 864x216 with 1 Axes>"
      ]
     },
     "metadata": {},
     "output_type": "display_data"
    }
   ],
   "source": [
    "plt.figure(figsize=(12,3))\n",
    "sns.barplot(\"X\",\"cdf\",color=\"steelblue\",data=pmf,alpha=.5)\n",
    "sns.lineplot(\"X\",\"cdf\",color=\"orange\",data=pmf)\n",
    "sns.scatterplot(\"X\",\"cdf\",color=\"orange\",s=250,data=pmf)\n",
    "plt.show()"
   ]
  },
  {
   "cell_type": "markdown",
   "metadata": {},
   "source": [
    "We can query the CDF to find the probability that a value is less than or equal to some value.\n",
    "\n",
    "$$ Pr(X \\le 2) = Pr(X = 0) + Pr(X = 1) + Pr(X = 2)$$"
   ]
  },
  {
   "cell_type": "code",
   "execution_count": 17,
   "metadata": {},
   "outputs": [
    {
     "data": {
      "text/plain": [
       "2    0.6875\n",
       "Name: cdf, dtype: float64"
      ]
     },
     "execution_count": 17,
     "metadata": {},
     "output_type": "execute_result"
    }
   ],
   "source": [
    "pmf.query(\"X == 2\").cdf"
   ]
  },
  {
   "cell_type": "markdown",
   "metadata": {},
   "source": [
    "The CDF is denoted by $F(x)$"
   ]
  },
  {
   "cell_type": "markdown",
   "metadata": {},
   "source": [
    "### Expected Value\n",
    "The **expectation** (or the \"expected value\") of a random variable $X$, denoted simply as $E[X]$, is the sum of the possible values the variable might take weighted by the probability that each value will turn up.\n",
    "\n",
    "<br>\n",
    "<br>\n",
    "\n",
    "For discrete distributions,\n",
    "<br>\n",
    "<br>\n",
    "\n",
    "$$ E[X] = \\sum_{i=1}^N x_i Pr(X=x_i) = \\mu_x$$\n",
    "\n",
    "<br>\n",
    "<br>\n",
    "\n",
    "For continuous distributions,\n",
    "\n",
    "<br>\n",
    "<br>\n",
    "\n",
    "$$ E[X] = \\int_{-\\infty }^\\infty  x f(x) dx = \\mu_x$$\n",
    "\n",
    "<br>\n",
    "<br>\n",
    "\n",
    "where $f(x)$ denotes the probability density function."
   ]
  },
  {
   "cell_type": "markdown",
   "metadata": {},
   "source": [
    "Let's work through this definition using the example from above."
   ]
  },
  {
   "cell_type": "code",
   "execution_count": 18,
   "metadata": {},
   "outputs": [
    {
     "name": "stdout",
     "output_type": "stream",
     "text": [
      "[0 1 2 3 4]\n",
      "[0.0625 0.25   0.375  0.25   0.0625]\n"
     ]
    },
    {
     "data": {
      "text/plain": [
       "2.0"
      ]
     },
     "execution_count": 18,
     "metadata": {},
     "output_type": "execute_result"
    }
   ],
   "source": [
    "x = pmf.X.values; print(x)\n",
    "p = pmf.probability.values; print(p)\n",
    "mean_x = sum(x*p)\n",
    "mean_x"
   ]
  },
  {
   "cell_type": "markdown",
   "metadata": {},
   "source": [
    "### Variance\n",
    "\n",
    "The **variance** measures the spread of observed values away from the expected ones. \n",
    "\n",
    "<br>\n",
    "<br>\n",
    "\n",
    "For discrete distributions,\n",
    "<br>\n",
    "<br>\n",
    "\n",
    "$$Var(X) =  \\sum_{i=1}^N (x_i - \\mu)^2 Pr(X=x_i) = \\sigma^2_x$$\n",
    "\n",
    "<br>\n",
    "<br>\n",
    "\n",
    "For continuous distributions,\n",
    "\n",
    "<br>\n",
    "<br>\n",
    "\n",
    "$$ E[X] = \\int_{-\\infty }^\\infty  (x - \\mu)^2 f(x) dx = \\sigma^2_x$$\n",
    "\n",
    "<br>\n",
    "<br>\n",
    "\n",
    "where $f(x)$ denotes the probability density function (PDF)."
   ]
  },
  {
   "cell_type": "code",
   "execution_count": 19,
   "metadata": {},
   "outputs": [
    {
     "data": {
      "text/plain": [
       "1.0"
      ]
     },
     "execution_count": 19,
     "metadata": {},
     "output_type": "execute_result"
    }
   ],
   "source": [
    "# Again, keeping with the working example from above...\n",
    "sum(((x - mean_x)**2)*p)"
   ]
  },
  {
   "cell_type": "markdown",
   "metadata": {},
   "source": [
    "To get the **standard deviation**, we just take the square root of the variance.\n",
    "\n",
    "$$ \\sigma_x = \\sqrt{\\sigma^2_x} $$"
   ]
  },
  {
   "cell_type": "code",
   "execution_count": 20,
   "metadata": {},
   "outputs": [
    {
     "data": {
      "text/plain": [
       "1.0"
      ]
     },
     "execution_count": 20,
     "metadata": {},
     "output_type": "execute_result"
    }
   ],
   "source": [
    "math.sqrt(sum(((x - 2)**2)*p))"
   ]
  },
  {
   "cell_type": "markdown",
   "metadata": {},
   "source": [
    "# Discrete Distributions"
   ]
  },
  {
   "cell_type": "markdown",
   "metadata": {},
   "source": [
    "## Bernoulli Distribution \n",
    "\n",
    "> The Bernoulli Distribution  describes the frequency of two outcomes over repeated observations (e.g. coin flips). The distribution is built on the assumption that the individual events are _independent_ of one another (e.g. the outcome of one coin flip doesn't effect the outcome of the subsequent flip). The Bernoulli Distribution is the building block for other discrete distributions.\n",
    "\n",
    "<br>\n",
    "<br>\n",
    "\n",
    "The PMF for the Bernoulli Distribution\n",
    "\n",
    "<br>\n",
    "<br>\n",
    "\n",
    "$$Pr(Y = y \\;|\\; p) = \\begin{cases} 1 - p \\;\\;\\text{ for } y= 0\\\\ p \\;\\;\\;\\;\\;\\;\\;\\:\\text{ for } y= 1 \\end{cases}$$\n",
    "\n",
    "\n",
    "<br>\n",
    "<br>\n",
    "\n",
    "$$ Pr(Y = y \\;|\\; p) = p^y (1 - p) ^{1-y}$$ \n",
    "\n",
    "<br>\n",
    "<br>\n",
    "\n",
    "where $y = 0$ or $y = 1$.\n",
    "\n",
    "<br>\n",
    "<br>\n",
    "\n",
    "We denote a variable that is distributed as a Bernoulli distribution as \n",
    "\n",
    "<br>\n",
    "<br>\n",
    "\n",
    "$$Y \\sim Bern(p)$$\n",
    "\n",
    "<br>\n",
    "<br>\n",
    "\n",
    "Where the parameter $p$ corresponds to the probability of \"success\"."
   ]
  },
  {
   "cell_type": "markdown",
   "metadata": {},
   "source": [
    "### Expectation (Mean) \n",
    "\n",
    "Recall our equation for the mean. \n",
    "\n",
    "$$ E[X] = \\sum_{i=1}^N x_i Pr(X=x_i)$$\n",
    "\n",
    "<br>\n",
    "<br>\n",
    "\n",
    "$$ E[Y] = (1)p + (0)(1-p)$$\n",
    "\n",
    "<br>\n",
    "<br>\n",
    "\n",
    "$$ E[Y] = p$$"
   ]
  },
  {
   "cell_type": "markdown",
   "metadata": {},
   "source": [
    "### Variance"
   ]
  },
  {
   "cell_type": "markdown",
   "metadata": {},
   "source": [
    "Recall our equation for the variance.\n",
    "\n",
    "$$Var(X) =  \\sum_{i=1}^N (x_i - \\mu)^2 Pr(X=x_i) $$\n",
    "\n",
    "\n",
    "<br>\n",
    "<br>\n",
    "\n",
    "$$ Var(Y) = ((1)-p)^2 p + ((0)-p)^2 (1-p) $$\n",
    "\n",
    "<br>\n",
    "<br>\n",
    "\n",
    "$$ Var(Y) = p^3 - 2p^2 + p + p^2 - p^3 $$\n",
    "\n",
    "<br>\n",
    "<br>\n",
    "\n",
    "$$ Var(Y) = -p^2 + p $$\n",
    "\n",
    "<br>\n",
    "<br>\n",
    "\n",
    "$$ Var(Y) = p(1-p) $$\n",
    "\n",
    "<br>\n",
    "<br>"
   ]
  },
  {
   "cell_type": "markdown",
   "metadata": {},
   "source": [
    "### Simulation"
   ]
  },
  {
   "cell_type": "code",
   "execution_count": 21,
   "metadata": {},
   "outputs": [
    {
     "data": {
      "image/png": "[encoded data removed]",
      "text/plain": [
       "<Figure size 864x288 with 1 Axes>"
      ]
     },
     "metadata": {},
     "output_type": "display_data"
    }
   ],
   "source": [
    "np.random.seed(1234)\n",
    "Y = np.random.binomial(n = 1, p = .6,size = 100)\n",
    "\n",
    "# Plot\n",
    "plt.figure(figsize=(12,4))\n",
    "ax = sns.countplot(Y,color=\"steelblue\")\n",
    "ax = ax.set(xlabel='Y', ylabel='Frequency')"
   ]
  },
  {
   "cell_type": "markdown",
   "metadata": {},
   "source": [
    "## Binomial Distribution\n",
    "\n",
    "The binomial distribution can describe any discrete distribution with three or more observations where \n",
    "\n",
    "- each observation is composed of a binary outcome (e.g. yes/no, war/no war, voted/didn't vote), \n",
    "- the observations are independent, and \n",
    "- we have a record of the number of times one value was obtained (e.g. the sum of positive outcomes). \n",
    "\n",
    "In other words, it is the discrete probability distribution of the number of successes in a sequence of $n$ independent \"experiments\" or \"trials\", where $p$ is the probability of success of each trial. Note that $p$ is assumed to be constant and $n$ finite. \n",
    "\n",
    "The PMF for the Binomial Distribution\n",
    "\n",
    "<br>\n",
    "<br>\n",
    "\n",
    "$$Pr(Y = y |n,p) = \\begin{pmatrix}  n  \\\\ y  \\end{pmatrix} p^y(1-p)^{n-y}$$\n",
    "\n",
    "<br>\n",
    "<br>\n",
    "\n",
    "where $n \\ge y$, and $n$ and $y$ are positive integers and $0 \\le p \\le 1$.\n",
    "\n",
    "<br>\n",
    "<br>\n",
    "\n",
    "We denote a variable that is distributed as a Binomial distribution as \n",
    "\n",
    "<br>\n",
    "<br>\n",
    "\n",
    "$$Y \\sim Bin(n,p)$$\n",
    "\n",
    "<br>\n",
    "<br>\n",
    "\n",
    "Where the parameters $n$ denotes the number of trials, and $p$ corresponds to the probability of \"success\"."
   ]
  },
  {
   "cell_type": "markdown",
   "metadata": {},
   "source": [
    "### Expectation (Mean)\n",
    "\n",
    "Recall that the expected value for any single trial is determined by the Bernoulli Distribution.\n",
    "\n",
    "$$\\mu_{bernoulli} = p $$\n",
    "\n",
    "For the binomial distribution, we are repeating a Bernoulli trial $n$ times. Given that the outcome (0 or 1) and probability of success ($p$) is constant, we can multiple those individual probabilities of success by our $n$ trials. \n",
    "\n",
    "<br>\n",
    "<br>\n",
    "\n",
    "$$ E[Y] = n((1)p + (0)(1-p)) $$\n",
    "\n",
    "$$ E[Y] = np $$ \n",
    "\n"
   ]
  },
  {
   "cell_type": "markdown",
   "metadata": {},
   "source": [
    "### Variance\n",
    "\n",
    "Likewise, we are multiplying the variance of the Bernoulli distribution by the $n$ trials. "
   ]
  },
  {
   "cell_type": "markdown",
   "metadata": {},
   "source": [
    "$$ Var(Y) = np(1-p)$$"
   ]
  },
  {
   "cell_type": "markdown",
   "metadata": {},
   "source": [
    "### Simulation"
   ]
  },
  {
   "cell_type": "code",
   "execution_count": 22,
   "metadata": {},
   "outputs": [
    {
     "data": {
      "image/png": "[encoded data removed]",
      "text/plain": [
       "<Figure size 864x360 with 1 Axes>"
      ]
     },
     "metadata": {},
     "output_type": "display_data"
    }
   ],
   "source": [
    "np.random.seed(1234)\n",
    "Y = np.random.binomial(n = 10, p = .5,size = 100)\n",
    "\n",
    "# Plot\n",
    "plt.figure(figsize=(12,5))\n",
    "ax = sns.countplot(Y,color=\"steelblue\")\n",
    "ax = ax.set(xlabel='X', ylabel='Frequency')"
   ]
  },
  {
   "cell_type": "markdown",
   "metadata": {},
   "source": [
    "An interesting thing to note is that as $n$ is large and $p$ is close to .5, then the binomial distribution begins to approximate a _Normal Distribution_ (see below), where $Y \\sim Normal(np,np(1-p))$. "
   ]
  },
  {
   "cell_type": "code",
   "execution_count": 23,
   "metadata": {},
   "outputs": [
    {
     "data": {
      "image/png": "[encoded data removed]",
      "text/plain": [
       "<Figure size 864x360 with 1 Axes>"
      ]
     },
     "metadata": {},
     "output_type": "display_data"
    }
   ],
   "source": [
    "# Altering values of n and p\n",
    "np.random.seed(1234)\n",
    "Y = np.random.binomial(n = 1000, p = .5,size = 5000)\n",
    "\n",
    "# Plot\n",
    "plt.figure(figsize=(12,5))\n",
    "ax = sns.distplot(Y,color=\"steelblue\")\n",
    "ax = ax.set(xlabel='Y', ylabel='Frequency')"
   ]
  },
  {
   "cell_type": "markdown",
   "metadata": {},
   "source": [
    "## Multinomial Distribution\n",
    "\n",
    "\"The multinomial distribution is an extension of the binomial distribution to cases where more than two mutually exclusive outcomes can occur (i.e. think about an election where we have more than two candidates in a race). The multinomial distribution counts the number of times each one of $k$ different outcomes happens, where each outcome happens with probability $p_i$, $i \\in \\{1,\\dots,k\\}$. Since the outcomes are mutually exclusive and colelctively exhaustive, all these probabilities sum to one.\" (224) "
   ]
  },
  {
   "cell_type": "markdown",
   "metadata": {},
   "source": [
    "The PMF of the Multinomial Distribution is\n",
    "\n",
    "<br>\n",
    "<br>\n",
    "\n",
    "$$Pr( (Y_1 = y_1) \\cap (Y_2 = y_2) \\cap \\dots \\cap (Y_k = y_k) ) = \\begin{cases} \\frac{n!}{y_1!\\dots y_k!} \\prod_{i=1}^k p_i^{y_i} \\;\\; when \\sum_{i=1}^k y_i = n\\\\ 0 \\;\\;\\; \\text{otherwise} \\end{cases}$$\n",
    "\n",
    "<br>\n",
    "<br>\n",
    "\n",
    "We denote a variable that is distributed as a Multinomial distribution as \n",
    "\n",
    "<br>\n",
    "<br>\n",
    "\n",
    "$$Y \\sim Multinomial(n,p_1,\\dots,p_k)$$\n",
    "\n",
    "<br>\n",
    "<br>\n",
    "\n",
    "Where the parameters $n$ denotes the number of trials, and $p_i$ corresponds to the probability of \"success\" for each outcome, where $\\sum_{i=1}^k p_i  = 1$"
   ]
  },
  {
   "cell_type": "markdown",
   "metadata": {},
   "source": [
    "### Expectation (Mean)\n",
    "\n",
    "$$ E[Y_i] = np_i $$\n",
    "\n",
    "where $i \\in \\{1,\\dots,k\\}$ and $k$ is the total number of possible outcomes."
   ]
  },
  {
   "cell_type": "markdown",
   "metadata": {},
   "source": [
    "### Variance\n",
    "\n",
    "\n",
    "$$ Var[Y_i] = np_i(1-p_i) $$\n",
    "\n",
    "where $i \\in \\{1,\\dots,k\\}$ and $k$ is the total number of possible outcomes."
   ]
  },
  {
   "cell_type": "markdown",
   "metadata": {},
   "source": [
    "### Simulation"
   ]
  },
  {
   "cell_type": "code",
   "execution_count": 24,
   "metadata": {},
   "outputs": [
    {
     "data": {
      "text/plain": [
       "array([[0, 2, 1],\n",
       "       [1, 2, 0],\n",
       "       [2, 0, 1],\n",
       "       [0, 2, 1],\n",
       "       [2, 1, 0],\n",
       "       [1, 1, 1],\n",
       "       [1, 1, 1],\n",
       "       [1, 1, 1],\n",
       "       [1, 0, 2],\n",
       "       [2, 1, 0]])"
      ]
     },
     "execution_count": 24,
     "metadata": {},
     "output_type": "execute_result"
    }
   ],
   "source": [
    "np.random.seed(1234)\n",
    "Y = np.random.multinomial(n= 3,pvals = [1/3]*3,size=10)\n",
    "Y"
   ]
  },
  {
   "cell_type": "markdown",
   "metadata": {},
   "source": [
    "## Poisson Distribution\n",
    "\n",
    "The Poisson distribution describes event counts produced by a process that (1) can be specified as a positive integer, (2) is independent from the count that came before it, and (3) has a known mean (or \"rate\"). That is, the expected number of events per interval is known. The Poisson distribution is used often when modeling some type of count process: e.g. number of cars that drive by Georgetown's front gate, the number of violent events in a specific geospatial region, etc."
   ]
  },
  {
   "cell_type": "markdown",
   "metadata": {},
   "source": [
    "The PMF of the Poisson Distribution can be written as \n",
    "\n",
    "<br>\n",
    "<br>\n",
    "\n",
    "$$ P(Y = k) = \\frac{e^{-\\lambda} \\lambda^k}{k!} $$\n",
    "\n",
    "<br>\n",
    "<br>\n",
    "where $k \\in \\{0,1,2,\\dots \\}$ (i.e. $k$ is positively defined integer) and $\\lambda$ denotes the rate/mean (i.e. the expected count).\n",
    "\n",
    "\n",
    "<br>\n",
    "<br>\n",
    "\n",
    "We denote a variable that is distributed as a Poisson distribution as \n",
    "\n",
    "<br>\n",
    "<br>\n",
    "\n",
    "$$Y \\sim Pois(\\lambda)$$\n",
    "\n",
    "<br>\n",
    "<br>\n",
    "\n",
    "Where the $\\lambda$ parameters captures expected count and variance of the distribution."
   ]
  },
  {
   "cell_type": "markdown",
   "metadata": {},
   "source": [
    "### Expectation (Mean)\n",
    "\n",
    "$$ E[Y] = \\lambda $$\n"
   ]
  },
  {
   "cell_type": "markdown",
   "metadata": {},
   "source": [
    "### Variance\n",
    "\n",
    "\n",
    "<br>\n",
    "<br>\n",
    "\n",
    "$$ Var[Y] = \\lambda $$\n",
    "\n",
    "\n",
    "<br>\n",
    "<br>"
   ]
  },
  {
   "cell_type": "markdown",
   "metadata": {},
   "source": [
    "Note that the Poisson distribution has the interesting property where the variance is equal to the mean. When this property doesn't hold in the empirical data, then we usually use another distribution call the **_negative binomial distribution_**."
   ]
  },
  {
   "cell_type": "markdown",
   "metadata": {},
   "source": [
    "### Simulation"
   ]
  },
  {
   "cell_type": "code",
   "execution_count": 25,
   "metadata": {},
   "outputs": [
    {
     "data": {
      "image/png": "[encoded data removed]",
      "text/plain": [
       "<Figure size 864x360 with 1 Axes>"
      ]
     },
     "metadata": {},
     "output_type": "display_data"
    }
   ],
   "source": [
    "np.random.seed(1234)\n",
    "Y = np.random.poisson(lam=1,size = 100)\n",
    "\n",
    "# Plot\n",
    "plt.figure(figsize=(12,5))\n",
    "ax = sns.countplot(Y,color=\"steelblue\")\n",
    "ax = ax.set(xlabel='X', ylabel='Frequency')"
   ]
  },
  {
   "cell_type": "markdown",
   "metadata": {},
   "source": [
    "Again note that as the value of $\\lambda$ gets larger, the Poisson distribution begins to approximate the normal distribution, where $Y \\sim Normal(\\lambda,\\lambda)$. "
   ]
  },
  {
   "cell_type": "code",
   "execution_count": 26,
   "metadata": {},
   "outputs": [
    {
     "data": {
      "image/png": "[encoded data removed]",
      "text/plain": [
       "<Figure size 864x360 with 1 Axes>"
      ]
     },
     "metadata": {},
     "output_type": "display_data"
    }
   ],
   "source": [
    "# Altering values of n and p\n",
    "np.random.seed(1234)\n",
    "Y = np.random.poisson(lam=500,size = 1000)\n",
    "\n",
    "# Plot\n",
    "plt.figure(figsize=(12,5))\n",
    "ax = sns.distplot(Y,color=\"steelblue\")\n",
    "ax = ax.set(xlabel='Y', ylabel='Frequency')"
   ]
  },
  {
   "cell_type": "markdown",
   "metadata": {},
   "source": [
    "# Continuous Distributions"
   ]
  },
  {
   "cell_type": "markdown",
   "metadata": {},
   "source": [
    "### Probability Density Function (PDF)\n",
    "\n",
    "<br>\n",
    "<br>\n",
    "\n",
    "$$ Pr( X \\in [a,b]) = \\int^b_a f(x) dx$$\n",
    "\n",
    "<br>\n",
    "<br>\n",
    "\n",
    "where\n",
    "\n",
    "$$ Pr( - \\infty < X < \\infty) = \\int^{ - \\infty}_\\infty f(x) dx = 1$$"
   ]
  },
  {
   "cell_type": "markdown",
   "metadata": {},
   "source": [
    "### Cumulative Density Function (CDF)\n",
    "\n",
    "<br>\n",
    "<br>\n",
    "\n",
    "$$ Pr(X \\le x) = F(x) = \\int_{-\\infty}^x f(t) dt $$\n",
    "\n",
    "<br>\n",
    "<br>"
   ]
  },
  {
   "cell_type": "markdown",
   "metadata": {},
   "source": [
    "## Uniform Distribution\n",
    "\n",
    "The uniform distribution is a continuous distribution that assigns equal probability to all possible values/events in the sample space (i.e. a given range). \n",
    "\n",
    "The PDF of the uniform distribution is \n",
    "\n",
    "$$ f(x) = \\frac{1}{b-a} $$\n",
    "\n",
    "where $x \\in (a,b)$\n",
    "\n",
    "<br>\n",
    "<br>\n",
    "\n",
    "We denote a variable that is distributed as a Uniform distribution as \n",
    "\n",
    "<br>\n",
    "<br>\n",
    "\n",
    "$$Y \\sim Unif(a,b)$$\n",
    "\n",
    "<br>\n",
    "<br>\n",
    "\n",
    "Where the parameters $a$ and $b$ correspond with the bounds of the range."
   ]
  },
  {
   "cell_type": "markdown",
   "metadata": {},
   "source": [
    "### Expectation (Mean)\n",
    "\n",
    "$$ E[Y] = \\frac{a+b}{2}$$"
   ]
  },
  {
   "cell_type": "markdown",
   "metadata": {},
   "source": [
    "### Variance\n",
    "\n",
    "$$ Var[Y] = \\frac{(b-a)^2}{12}$$"
   ]
  },
  {
   "cell_type": "markdown",
   "metadata": {},
   "source": [
    "### Simulation"
   ]
  },
  {
   "cell_type": "code",
   "execution_count": 27,
   "metadata": {},
   "outputs": [
    {
     "data": {
      "image/png": "[encoded data removed]",
      "text/plain": [
       "<Figure size 864x360 with 1 Axes>"
      ]
     },
     "metadata": {},
     "output_type": "display_data"
    }
   ],
   "source": [
    "np.random.seed(1234)\n",
    "Y = np.random.uniform(low=-10,high=10,size=5000)\n",
    "\n",
    "# Plot\n",
    "plt.figure(figsize=(12,5))\n",
    "ax = sns.distplot(Y,color=\"steelblue\")\n",
    "ax = ax.set(xlabel='Y', ylabel='Frequency')"
   ]
  },
  {
   "cell_type": "markdown",
   "metadata": {},
   "source": [
    "## Gaussian (Normal) Distribution\n",
    "\n",
    "The Normal distribution is easily the most famous of the distributions. This distribution composes the theoretical underpinnings of the linear model. I'll remind you all of it's properties here given that you've had extensive exposure to it in your stats sequence. "
   ]
  },
  {
   "cell_type": "markdown",
   "metadata": {},
   "source": [
    "The PDF of the Normal distribution is \n",
    "\n",
    "$$ F(x; \\mu, \\sigma^2)  = \\frac{1}{\\sigma\\sqrt{2 \\pi}} e^{\\frac{-(x-\\mu)^2}{2\\sigma^2}} $$\n",
    "\n",
    "<br>\n",
    "<br>\n",
    "\n",
    "We denote a variable that is distributed as a Normal distribution as \n",
    "\n",
    "<br>\n",
    "<br>\n",
    "\n",
    "$$Y \\sim N(\\mu,\\sigma^2)$$\n",
    "\n",
    "<br>\n",
    "<br>\n",
    "\n",
    "Where the parameter $\\mu$ corresponds with the expectation (mean) and $\\sigma^2$ correspond with the variance."
   ]
  },
  {
   "cell_type": "markdown",
   "metadata": {},
   "source": [
    "### Expectation (Mean)\n",
    "\n",
    "$$ E[Y] = \\mu $$"
   ]
  },
  {
   "cell_type": "markdown",
   "metadata": {},
   "source": [
    "### Variance\n",
    "\n",
    "$$ Var[Y] = \\sigma^2 $$"
   ]
  },
  {
   "cell_type": "markdown",
   "metadata": {},
   "source": [
    "### Simulation"
   ]
  },
  {
   "cell_type": "code",
   "execution_count": 28,
   "metadata": {},
   "outputs": [
    {
     "data": {
      "image/png": "[encoded data removed]",
      "text/plain": [
       "<Figure size 864x360 with 1 Axes>"
      ]
     },
     "metadata": {},
     "output_type": "display_data"
    }
   ],
   "source": [
    "np.random.seed(1234)\n",
    "Y = np.random.normal(loc=5,scale=10,size=5000)\n",
    "\n",
    "# Plot\n",
    "plt.figure(figsize=(12,5))\n",
    "ax = sns.distplot(Y,color=\"steelblue\")\n",
    "ax = ax.set(xlabel='Y', ylabel='Frequency')"
   ]
  },
  {
   "cell_type": "markdown",
   "metadata": {},
   "source": [
    "## Various Distributions: Special Cases of Each Other\n",
    "\n",
    "There are many more distributions (both continuous and discrete) covered elsewhere. It's useful to keep in mind that they're all interconnected. Some distributions are special cases of other distributions and the like. \n",
    "\n",
    "![](http://ericdunford.com/ppol561/Lectures/week_02/Figures/probability-connections.png)"
   ]
  },
  {
   "cell_type": "markdown",
   "metadata": {},
   "source": [
    "# Central Limit Theorem"
   ]
  },
  {
   "cell_type": "markdown",
   "metadata": {},
   "source": [
    "Let's finish off by exploring the central limit theorem from a different angle using simulation. \n",
    "\n",
    "The central limit theorem states that the average of _any_ random variable follows a normal distribution, especially as the sample grows increasingly large. In short, no matter how odd the distribution you're sampling from, their means will stack normal. \n",
    "\n",
    "Let's simulate a distribution that is clearly not normal and see this in action. "
   ]
  },
  {
   "cell_type": "code",
   "execution_count": 29,
   "metadata": {},
   "outputs": [
    {
     "data": {
      "image/png": "[encoded data removed]",
      "text/plain": [
       "<Figure size 864x360 with 1 Axes>"
      ]
     },
     "metadata": {},
     "output_type": "display_data"
    }
   ],
   "source": [
    "# First lets start with a poisson distribution\n",
    "np.random.seed(1234)\n",
    "Y = np.random.poisson(1,size=1000)\n",
    "\n",
    "plt.figure(figsize=(12,5))\n",
    "ax = sns.distplot(Y,color=\"steelblue\")\n",
    "ax = ax.set(xlabel='Y', ylabel='Frequency')"
   ]
  },
  {
   "cell_type": "code",
   "execution_count": 30,
   "metadata": {},
   "outputs": [
    {
     "name": "stdout",
     "output_type": "stream",
     "text": [
      "[0.976, 1.013, 0.977, 1.015] ..."
     ]
    }
   ],
   "source": [
    "'''\n",
    "The following code takes repeated simulated draws from a poisson distribution,\n",
    "calculates the average, and then stores the values. \n",
    "'''\n",
    "n_samples = 500\n",
    "averages = [0]*n_samples\n",
    "for i in range(n_samples):\n",
    "    Y = np.random.poisson(1,size=1000)\n",
    "    averages[i] = Y.mean()\n",
    "    \n",
    "print(averages[1:5],end=\" ...\")"
   ]
  },
  {
   "cell_type": "code",
   "execution_count": 31,
   "metadata": {},
   "outputs": [
    {
     "data": {
      "image/png": "[encoded data removed]",
      "text/plain": [
       "<Figure size 864x360 with 1 Axes>"
      ]
     },
     "metadata": {},
     "output_type": "display_data"
    }
   ],
   "source": [
    "plt.figure(figsize=(12,5))\n",
    "ax = sns.distplot(averages,color=\"steelblue\")\n",
    "ax = ax.set(xlabel='Y', ylabel='Frequency')"
   ]
  },
  {
   "cell_type": "markdown",
   "metadata": {},
   "source": [
    "Again!"
   ]
  },
  {
   "cell_type": "code",
   "execution_count": 32,
   "metadata": {},
   "outputs": [
    {
     "data": {
      "image/png": "[encoded data removed]",
      "text/plain": [
       "<Figure size 864x216 with 1 Axes>"
      ]
     },
     "metadata": {},
     "output_type": "display_data"
    }
   ],
   "source": [
    "# First lets start with a Bernoulli distribution\n",
    "np.random.seed(1234)\n",
    "Y = np.random.binomial(1,p=.2,size=1000)\n",
    "\n",
    "plt.figure(figsize=(12,3))\n",
    "ax = sns.countplot(Y,color=\"steelblue\")\n",
    "ax = ax.set(xlabel='Y', ylabel='Frequency')"
   ]
  },
  {
   "cell_type": "code",
   "execution_count": 33,
   "metadata": {},
   "outputs": [
    {
     "data": {
      "image/png": "[encoded data removed]",
      "text/plain": [
       "<Figure size 864x360 with 1 Axes>"
      ]
     },
     "metadata": {},
     "output_type": "display_data"
    }
   ],
   "source": [
    "n_samples = 500\n",
    "averages = [0]*n_samples\n",
    "for i in range(n_samples):\n",
    "    Y = np.random.binomial(1,p=.2,size=1000)\n",
    "    averages[i] = Y.mean()\n",
    "    \n",
    "# Plot the averages\n",
    "plt.figure(figsize=(12,5))\n",
    "ax = sns.distplot(averages,color=\"steelblue\")\n",
    "ax = ax.set(xlabel='Y', ylabel='Frequency')"
   ]
  }
 ],
 "metadata": {
  "kernelspec": {
   "display_name": "Python 3",
   "language": "python",
   "name": "python3"
  },
  "language_info": {
   "codemirror_mode": {
    "name": "ipython",
    "version": 3
   },
   "file_extension": ".py",
   "mimetype": "text/x-python",
   "name": "python",
   "nbconvert_exporter": "python",
   "pygments_lexer": "ipython3",
   "version": "3.7.0"
  },
  "toc": {
   "base_numbering": 1,
   "nav_menu": {},
   "number_sections": false,
   "sideBar": false,
   "skip_h1_title": false,
   "title_cell": "Table of Contents",
   "title_sidebar": "Contents",
   "toc_cell": false,
   "toc_position": {},
   "toc_section_display": true,
   "toc_window_display": false
  }
 },
 "nbformat": 4,
 "nbformat_minor": 2
}
