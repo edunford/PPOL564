{
 "cells": [
  {
   "cell_type": "markdown",
   "metadata": {},
   "source": [
    "<h1><center> PPOL564 | DS1 | Foundations <br><br><font color='grey'> Writing Classes </font> </center><h1>"
   ]
  },
  {
   "cell_type": "markdown",
   "metadata": {},
   "source": [
    "# Classes \n",
    "\n",
    "Classes are the way of defining the structure and behavior of an object at the time when we create the object. An object's class controls its initialization and which attributes are available through the object. Classes make complex problems tractable but class can make simple solutions overly complex as well. Thus, we need to strike a balance when using classes. \n",
    "\n",
    "We can initialize a class using the `class` keyword, which is a built in that allows us to define the class object. The convention is to use \"camel-case\" when naming classes in python. Class is a statement that binds the class level code to the class name."
   ]
  },
  {
   "cell_type": "code",
   "execution_count": 1,
   "metadata": {},
   "outputs": [],
   "source": [
    "class DataWrangler:\n",
    "    pass "
   ]
  },
  {
   "cell_type": "markdown",
   "metadata": {},
   "source": [
    "We **initialize** a class by calling **constructor** (which we just created)."
   ]
  },
  {
   "cell_type": "code",
   "execution_count": 2,
   "metadata": {},
   "outputs": [
    {
     "data": {
      "text/plain": [
       "__main__.DataWrangler"
      ]
     },
     "execution_count": 2,
     "metadata": {},
     "output_type": "execute_result"
    }
   ],
   "source": [
    "DW = DataWrangler()\n",
    "type(DW) # It is of type 'DataWrangler'"
   ]
  },
  {
   "cell_type": "markdown",
   "metadata": {},
   "source": [
    "#### What is going on here?\n",
    "\n",
    "Recall when we write a function using the `def` keyword, we are binding the code contained in that function's code chunk to the specified name.\n",
    "```python\n",
    "def this_name(x)\n",
    "    return x**2\n",
    "```\n",
    "binds the code `x**2` to the name `this_name`.\n",
    "\n",
    "\n",
    "Likewise, we can can do this with larger, more complex chunks of code using classes. \n",
    "\n",
    "```python\n",
    "class MyClass:\n",
    "    \n",
    "    def func_1():\n",
    "    \n",
    "    def func_2():\n",
    "    \n",
    "    def func_n():\n",
    "```\n",
    "\n",
    "**Classes** offer a way of housing whole systems of code to an object. In essence, it offers us a way to create our own object types with their own methods (internal functions) and attributes (dunder). Put simply, a class is a logical grouping of data and functions."
   ]
  },
  {
   "cell_type": "code",
   "execution_count": 3,
   "metadata": {},
   "outputs": [],
   "source": [
    "class DataWrangler:\n",
    "    \n",
    "    def __init__(self):\n",
    "        self\n",
    "\n",
    "    def say_hello(self):\n",
    "        print('Hello!')"
   ]
  },
  {
   "cell_type": "code",
   "execution_count": 4,
   "metadata": {},
   "outputs": [
    {
     "name": "stdout",
     "output_type": "stream",
     "text": [
      "Hello!\n"
     ]
    }
   ],
   "source": [
    "DW = DataWrangler()\n",
    "DW.say_hello()"
   ]
  },
  {
   "cell_type": "markdown",
   "metadata": {},
   "source": [
    "A `class` is a \"blueprint\" for what we'd like our object to look, but we don't \"create\" the object when we read in the class code. Rather we do so when we create an **instance** of the class, i.e. use our class constructor `DataWrangeler()` and assign it to some object, `DW`.\n",
    "\n",
    "For a nice post on classes, see [Jeff Knupp's post on the topic](https://jeffknupp.com/blog/2014/06/18/improve-your-python-python-classes-and-object-oriented-programming/)."
   ]
  },
  {
   "cell_type": "markdown",
   "metadata": {},
   "source": [
    "## `class` features\n",
    "\n",
    "- **self** &rarr; the _instance_ of the class.\n",
    "- **__init__** &rarr; allows us to bind object to the instance when initializing the object.\n",
    "- **instance method** &rarr; a function defined within a class. This is a function that takes `self` as an argument.\n",
    "- **method** &rarr; a function can be called on objects that exist outside the class. This is a function that does not take `self` as an argument."
   ]
  },
  {
   "cell_type": "markdown",
   "metadata": {},
   "source": [
    "#### `self`\n",
    "\n",
    "When we initialize our class object, we create an instance of it. `self` offers us a way of referencing that instance."
   ]
  },
  {
   "cell_type": "code",
   "execution_count": 5,
   "metadata": {},
   "outputs": [
    {
     "name": "stdout",
     "output_type": "stream",
     "text": [
      "Cat\n"
     ]
    }
   ],
   "source": [
    "class DataWrangler:\n",
    "\n",
    "    def say_hello(self,word):\n",
    "        print(word)\n",
    "        \n",
    "DW = DataWrangler()\n",
    "DW.say_hello(word=\"Cat\")"
   ]
  },
  {
   "cell_type": "markdown",
   "metadata": {},
   "source": [
    "This is equivalent to passing the following..."
   ]
  },
  {
   "cell_type": "code",
   "execution_count": 6,
   "metadata": {},
   "outputs": [
    {
     "name": "stdout",
     "output_type": "stream",
     "text": [
      "Cat\n"
     ]
    }
   ],
   "source": [
    "DataWrangler.say_hello(DW,word=\"Cat\")"
   ]
  },
  {
   "cell_type": "markdown",
   "metadata": {},
   "source": [
    "#### `__init__`\n",
    "\n",
    "We can store data within it and pass information to the various functionality within the class that is bound to the instance upon initialization. That is, when we first create the object, we can store initial information that we can then share internally with the other methods in our class. The `__init__` attribute is known as the \"initializer\"."
   ]
  },
  {
   "cell_type": "code",
   "execution_count": 7,
   "metadata": {},
   "outputs": [
    {
     "name": "stdout",
     "output_type": "stream",
     "text": [
      "Cat\n"
     ]
    }
   ],
   "source": [
    "class DataWrangler:\n",
    "\n",
    "    def __init__(self,word=''):\n",
    "        self.word = word\n",
    "    \n",
    "    def say_hello(self):\n",
    "        print(self.word)\n",
    "        \n",
    "DW = DataWrangler(word=\"Cat\")\n",
    "DW.say_hello()"
   ]
  },
  {
   "cell_type": "markdown",
   "metadata": {},
   "source": [
    "We can access the data (variables) we assign to the instances and overwrite them just as we would any other object."
   ]
  },
  {
   "cell_type": "code",
   "execution_count": 8,
   "metadata": {},
   "outputs": [
    {
     "data": {
      "text/plain": [
       "'Cat'"
      ]
     },
     "execution_count": 8,
     "metadata": {},
     "output_type": "execute_result"
    }
   ],
   "source": [
    "DW.word"
   ]
  },
  {
   "cell_type": "code",
   "execution_count": 9,
   "metadata": {},
   "outputs": [
    {
     "name": "stdout",
     "output_type": "stream",
     "text": [
      "Dog\n"
     ]
    }
   ],
   "source": [
    "DW.word = \"Dog\"\n",
    "DW.say_hello()"
   ]
  },
  {
   "cell_type": "markdown",
   "metadata": {},
   "source": [
    "#### instance method\n",
    "\n",
    "An instance method is a function that requires an instances of the class in order to run. Put differently, it requires `self` to be an argument in the function. This gives the function to all the data and values contained within a specific instance, which can be a convenient and powerful way to pass around information.\n",
    "\n",
    "The `say_hello()` function is an example of such a method."
   ]
  },
  {
   "cell_type": "markdown",
   "metadata": {},
   "source": [
    "#### method\n",
    "\n",
    "A method is a function that does not require the instance to run. For example, see the function `add()`, note that we do not initialize the object and then use the function. "
   ]
  },
  {
   "cell_type": "code",
   "execution_count": 10,
   "metadata": {},
   "outputs": [
    {
     "data": {
      "text/plain": [
       "5"
      ]
     },
     "execution_count": 10,
     "metadata": {},
     "output_type": "execute_result"
    }
   ],
   "source": [
    "class DataWrangler:\n",
    "\n",
    "    def __init__(self,word=''):\n",
    "        self.word = word\n",
    "    \n",
    "    def say_hello(self):\n",
    "        print(self.word)\n",
    "        \n",
    "    def add(x,y):\n",
    "        return x + y\n",
    "    \n",
    "DataWrangler.add(2,3)"
   ]
  },
  {
   "cell_type": "markdown",
   "metadata": {},
   "source": [
    "#### class objects "
   ]
  },
  {
   "cell_type": "code",
   "execution_count": 11,
   "metadata": {},
   "outputs": [
    {
     "name": "stdout",
     "output_type": "stream",
     "text": [
      "hello!\n"
     ]
    }
   ],
   "source": [
    "class DataWrangler:\n",
    "    \n",
    "    new_word = \"!\"\n",
    "\n",
    "    def __init__(self,word=''):\n",
    "        self.word = word\n",
    "    \n",
    "    def say_hello(self):\n",
    "        print(self.word + DataWrangler.new_word)\n",
    "        \n",
    "    def add(x,y):\n",
    "        return x + y\n",
    "    \n",
    "DW = DataWrangler(word=\"hello\")\n",
    "DW.say_hello()"
   ]
  },
  {
   "cell_type": "code",
   "execution_count": 12,
   "metadata": {},
   "outputs": [
    {
     "data": {
      "text/plain": [
       "[1, 2]"
      ]
     },
     "execution_count": 12,
     "metadata": {},
     "output_type": "execute_result"
    }
   ],
   "source": [
    "class DataWrangler:\n",
    "    \n",
    "    container = []\n",
    "\n",
    "    def __init__(self,word=''):\n",
    "        self.word = word\n",
    "    \n",
    "    def say_hello(self):\n",
    "        print(self.word)\n",
    "        \n",
    "    def load1(self,x):\n",
    "        return DataWrangler.container.append(x)\n",
    "    \n",
    "    def load2(self,x):\n",
    "        return DataWrangler.container.append(x)\n",
    "    \n",
    "DW = DataWrangler(word=\"hello\")\n",
    "DW.container\n",
    "DW.load1(1)\n",
    "DW.container\n",
    "DW.load2(2)\n",
    "DW.container"
   ]
  },
  {
   "cell_type": "markdown",
   "metadata": {},
   "source": [
    "#### attributes\n",
    "\n",
    "We can define how our class should behave to python's other functionality."
   ]
  },
  {
   "cell_type": "code",
   "execution_count": 13,
   "metadata": {
    "execution": {
     "iopub.execute_input": "2020-10-01T20:30:31.193Z",
     "iopub.status.busy": "2020-10-01T20:30:31.184Z",
     "iopub.status.idle": "2020-10-01T20:30:31.211Z",
     "shell.execute_reply": "2020-10-01T20:30:31.220Z"
    }
   },
   "outputs": [
    {
     "name": "stdout",
     "output_type": "stream",
     "text": [
      "Is hello == 1?\n",
      "No :(\n",
      "Is hello == hello?\n",
      "Yes\n"
     ]
    }
   ],
   "source": [
    "class DataWrangler:\n",
    "\n",
    "    def __init__(self,word=''):\n",
    "        self.word = word\n",
    "    \n",
    "    def say_hello(self):\n",
    "        print(self.word)\n",
    "        \n",
    "    def __eq__(self, other):\n",
    "        print(f\"Is {self.word} == {other}?\")\n",
    "        if self.word == other:\n",
    "              print(\"Yes\")\n",
    "        else: \n",
    "              print(\"No :(\")\n",
    "\n",
    "DW = DataWrangler(word=\"hello\")\n",
    "DW == 1\n",
    "DW == \"hello\""
   ]
  },
  {
   "cell_type": "code",
   "execution_count": 14,
   "metadata": {},
   "outputs": [
    {
     "name": "stdout",
     "output_type": "stream",
     "text": [
      "h\n",
      "e\n",
      "l\n",
      "l\n",
      "o\n"
     ]
    }
   ],
   "source": [
    "class DataWrangler:\n",
    "\n",
    "    def __init__(self,word=''):\n",
    "        self.word = word\n",
    "    \n",
    "    def say_hello(self):\n",
    "        print(self.word)\n",
    "        \n",
    "    def __iter__(self):\n",
    "        return iter(self.word)\n",
    "\n",
    "DW = DataWrangler(word=\"hello\")\n",
    "for i in DW:\n",
    "    print(i)"
   ]
  },
  {
   "cell_type": "markdown",
   "metadata": {},
   "source": [
    "### Things to keep in mind\n",
    "\n",
    "- classes should have docstrings, just as functions do, explaining their functionality.\n",
    "- classes are the central to object oriented programming.\n",
    "- all types in python have a class (we've talked about this extensively)\n",
    "- there are other (more advanced) class features that we won't spend any time on here. Specifically, static methods, attributes, decorators, and class inheritance. "
   ]
  },
  {
   "cell_type": "markdown",
   "metadata": {},
   "source": [
    "# Class Example"
   ]
  },
  {
   "cell_type": "code",
   "execution_count": 15,
   "metadata": {},
   "outputs": [],
   "source": [
    "# Here is some example data that we'll read into our class method.\n",
    "from pandas import DataFrame\n",
    "(DataFrame(dict(var1 = [1,2,3,4],\n",
    "               var2 = [.4,.55,6.6,1.7],\n",
    "               var3 = [\"a\",\"b\",\"c\",\"d\"],\n",
    "               var4 = [4,55,100,-3]))\n",
    " .to_csv(\"example_data.csv\"))"
   ]
  },
  {
   "cell_type": "markdown",
   "metadata": {},
   "source": [
    "Here let's write out the entire infrastructure of our class using `pass` as a placeholder for the code we'll eventually write."
   ]
  },
  {
   "cell_type": "code",
   "execution_count": 16,
   "metadata": {},
   "outputs": [],
   "source": [
    "import csv\n",
    "\n",
    "class DataWrangler:\n",
    "    '''\n",
    "    Class that wrangles data\n",
    "    '''\n",
    "\n",
    "    def __init__(self,data_path=''):\n",
    "        pass\n",
    "    \n",
    "    def load_data(self):\n",
    "        '''\n",
    "        Read in data given some provided file path\n",
    "        '''\n",
    "        pass\n",
    "            \n",
    "    def columns(self):\n",
    "        '''\n",
    "        Print off all available columns\n",
    "        '''\n",
    "        pass\n",
    "    \n",
    "    def select(self,variable):\n",
    "        '''\n",
    "        Select a variable\n",
    "        '''\n",
    "        pass\n",
    "    \n",
    "    def display(self):\n",
    "        '''\n",
    "        Display the data frame\n",
    "        '''\n",
    "        pass"
   ]
  },
  {
   "cell_type": "markdown",
   "metadata": {},
   "source": [
    "Let's fill in each function piece by piece."
   ]
  },
  {
   "cell_type": "code",
   "execution_count": 17,
   "metadata": {},
   "outputs": [
    {
     "data": {
      "text/plain": [
       "[['', 'var1', 'var2', 'var3', 'var4'],\n",
       " [0, 1, 0.4, 'a', 4],\n",
       " [1, 2, 0.55, 'b', 55],\n",
       " [2, 3, 6.6, 'c', 100],\n",
       " [3, 4, 1.7, 'd', '-3']]"
      ]
     },
     "execution_count": 17,
     "metadata": {},
     "output_type": "execute_result"
    }
   ],
   "source": [
    "import csv\n",
    "\n",
    "\n",
    "class DataWrangler:\n",
    "    '''\n",
    "    Class that wrangles data\n",
    "    '''\n",
    "\n",
    "    def __init__(self,data_path=''):\n",
    "        self.data_path = data_path\n",
    "       \n",
    "        \n",
    "    def load_data(self):\n",
    "        '''\n",
    "        Read in data given some provided file path\n",
    "        '''\n",
    "        with open(self.data_path) as file:\n",
    "            dat = list(csv.reader(file))\n",
    "            # convert data types\n",
    "            for row in dat:\n",
    "                for ind,val in enumerate(row):\n",
    "                    if '.' in val:\n",
    "                        row[ind] = float(val)\n",
    "                    elif val.isdigit():\n",
    "                        row[ind] = int(val)\n",
    "                    else:\n",
    "                        val\n",
    "            self.data=dat\n",
    "  \n",
    "                \n",
    "    def columns(self):\n",
    "        '''\n",
    "        Print off all available columns\n",
    "        '''\n",
    "        pass\n",
    "    \n",
    "    def select(self,variable):\n",
    "        '''\n",
    "        Select a variable\n",
    "        '''\n",
    "        pass\n",
    "    \n",
    "    def display(self):\n",
    "        '''\n",
    "        Display the data frame\n",
    "        '''\n",
    "        pass \n",
    "    \n",
    "    \n",
    "DW = DataWrangler(data_path='example_data.csv')\n",
    "DW.load_data()\n",
    "DW.data"
   ]
  },
  {
   "cell_type": "code",
   "execution_count": 18,
   "metadata": {},
   "outputs": [
    {
     "name": "stdout",
     "output_type": "stream",
     "text": [
      "File does not exist.\n"
     ]
    },
    {
     "data": {
      "text/plain": [
       "['', 'var1', 'var2', 'var3', 'var4']"
      ]
     },
     "execution_count": 18,
     "metadata": {},
     "output_type": "execute_result"
    }
   ],
   "source": [
    "import csv\n",
    "import pprint\n",
    "\n",
    "class DataWrangler:\n",
    "\n",
    "    def __init__(self,data_path=''):\n",
    "        self.data_path = data_path\n",
    "       \n",
    "        \n",
    "    def load_data(self):\n",
    "        '''\n",
    "        Read in data given some provided file path\n",
    "        '''\n",
    "        with open(self.data_path) as file:\n",
    "            dat = list(csv.reader(file))\n",
    "            # convert data types\n",
    "            for row in dat:\n",
    "                for ind,val in enumerate(row):\n",
    "                    if '.' in val:\n",
    "                        row[ind] = float(val)\n",
    "                    elif val.isdigit():\n",
    "                        row[ind] = int(val)\n",
    "                    else:\n",
    "                        val\n",
    "            self.data=dat\n",
    "            print('File does not exist.')\n",
    "                \n",
    "    def columns(self):\n",
    "        '''\n",
    "        Print off all available columns\n",
    "        '''\n",
    "        return self.data[0]\n",
    "    \n",
    "    \n",
    "    def select(self,variable):\n",
    "        '''\n",
    "        Select a variable\n",
    "        '''\n",
    "        pass\n",
    "    \n",
    "    \n",
    "    def display(self):\n",
    "        '''\n",
    "        Display the data frame\n",
    "        '''\n",
    "        pass \n",
    "    \n",
    "    \n",
    "DW = DataWrangler(data_path='example_data.csv')\n",
    "DW.load_data()\n",
    "DW.columns()"
   ]
  },
  {
   "cell_type": "code",
   "execution_count": 19,
   "metadata": {},
   "outputs": [
    {
     "name": "stdout",
     "output_type": "stream",
     "text": [
      "File does not exist.\n"
     ]
    },
    {
     "data": {
      "text/plain": [
       "['a', 'b', 'c', 'd']"
      ]
     },
     "execution_count": 19,
     "metadata": {},
     "output_type": "execute_result"
    }
   ],
   "source": [
    "import csv\n",
    "\n",
    "class DataWrangler:\n",
    "    '''\n",
    "    Class that wrangles data\n",
    "    '''\n",
    "\n",
    "    def __init__(self,data_path=''):\n",
    "        self.data_path = data_path\n",
    "       \n",
    "        \n",
    "    def load_data(self):\n",
    "        '''\n",
    "        Read in data given some provided file path\n",
    "        '''\n",
    "        with open(self.data_path) as file:\n",
    "            dat = list(csv.reader(file))\n",
    "            # convert data types\n",
    "            for row in dat:\n",
    "                for ind,val in enumerate(row):\n",
    "                    if '.' in val:\n",
    "                        row[ind] = float(val)\n",
    "                    elif val.isdigit():\n",
    "                        row[ind] = int(val)\n",
    "                    else:\n",
    "                        val\n",
    "            self.data=dat\n",
    "            print('File does not exist.')\n",
    "                \n",
    "    def columns(self):\n",
    "        '''\n",
    "        Print off all available columns\n",
    "        '''\n",
    "        return self.data[0]\n",
    "    \n",
    "    \n",
    "    def select(self,variable):\n",
    "        '''\n",
    "        Select a variable\n",
    "        '''\n",
    "        \n",
    "        columns = self.columns()\n",
    "        output = []\n",
    "        if variable in columns:\n",
    "            position = columns.index(variable)\n",
    "            for row in self.data[1:]:\n",
    "                output.append(row[position])\n",
    "        else:\n",
    "            print(f'{variable} is not in the data. Please choose another variable')\n",
    "        return output\n",
    "\n",
    "    \n",
    "    def display(self):\n",
    "        '''\n",
    "        Display the data frame\n",
    "        '''\n",
    "        pass \n",
    "    \n",
    "    \n",
    "DW = DataWrangler(data_path='example_data.csv')\n",
    "DW.load_data()\n",
    "DW.select(variable=\"var3\")"
   ]
  },
  {
   "cell_type": "code",
   "execution_count": 20,
   "metadata": {},
   "outputs": [
    {
     "name": "stdout",
     "output_type": "stream",
     "text": [
      "File does not exist.\n",
      "[['', 'var1', 'var2', 'var3', 'var4'], [0, 1, 0.4, 'a', 4], [1, 2, 0.55, 'b', 55], [2, 3, 6.6, 'c', 100], [3, 4, 1.7, 'd', '-3']]\n"
     ]
    }
   ],
   "source": [
    "import csv\n",
    "\n",
    "class DataWrangler:\n",
    "    '''\n",
    "    Class that wrangles data\n",
    "    '''\n",
    "\n",
    "    def __init__(self,data_path=''):\n",
    "        self.data_path = data_path\n",
    "       \n",
    "        \n",
    "    def load_data(self):\n",
    "        '''\n",
    "        Read in data given some provided file path\n",
    "        '''\n",
    "        with open(self.data_path) as file:\n",
    "            dat = list(csv.reader(file))\n",
    "            # convert data types\n",
    "            for row in dat:\n",
    "                for ind,val in enumerate(row):\n",
    "                    if '.' in val:\n",
    "                        row[ind] = float(val)\n",
    "                    elif val.isdigit():\n",
    "                        row[ind] = int(val)\n",
    "                    else:\n",
    "                        val\n",
    "            self.data=dat\n",
    "            print('File does not exist.')\n",
    "                \n",
    "    def columns(self):\n",
    "        '''\n",
    "        Print off all available columns\n",
    "        '''\n",
    "        return self.data[0]\n",
    "    \n",
    "    \n",
    "    def select(self,variable):\n",
    "        '''\n",
    "        Select a variable\n",
    "        '''\n",
    "        \n",
    "        columns = self.columns()\n",
    "        output = []\n",
    "        if variable in columns:\n",
    "            position = columns.index(variable)\n",
    "            for row in self.data[1:]:\n",
    "                output.append(row[position])\n",
    "        else:\n",
    "            print(f'{variable} is not in the data. Please choose another variable')\n",
    "        return output\n",
    "\n",
    "    def display(self):\n",
    "        '''\n",
    "        Display the data frame\n",
    "        '''\n",
    "        print(self.data)\n",
    "    \n",
    "    \n",
    "DW = DataWrangler(data_path='example_data.csv')\n",
    "DW.load_data()\n",
    "DW.display()"
   ]
  },
  {
   "cell_type": "markdown",
   "metadata": {},
   "source": [
    "We now have a customized object that takes in some .csv as an argument, and allows us to manipulate the data in a contained setting."
   ]
  },
  {
   "cell_type": "code",
   "execution_count": 21,
   "metadata": {},
   "outputs": [
    {
     "name": "stdout",
     "output_type": "stream",
     "text": [
      "File does not exist.\n",
      "['', 'var1', 'var2', 'var3', 'var4']\n",
      "[4, 55, 100, '-3']\n"
     ]
    }
   ],
   "source": [
    "DW = DataWrangler(data_path='example_data.csv')\n",
    "DW.load_data()\n",
    "print(DW.columns())\n",
    "print(DW.select(variable='var4'))"
   ]
  }
 ],
 "metadata": {
  "kernelspec": {
   "display_name": "Python 3",
   "language": "python",
   "name": "python3"
  },
  "language_info": {
   "codemirror_mode": {
    "name": "ipython",
    "version": 3
   },
   "file_extension": ".py",
   "mimetype": "text/x-python",
   "name": "python",
   "nbconvert_exporter": "python",
   "pygments_lexer": "ipython3",
   "version": "3.7.0"
  },
  "nteract": {
   "version": "0.23.3"
  },
  "toc": {
   "base_numbering": 1,
   "nav_menu": {},
   "number_sections": false,
   "sideBar": false,
   "skip_h1_title": false,
   "title_cell": "Table of Contents",
   "title_sidebar": "Contents",
   "toc_cell": false,
   "toc_position": {},
   "toc_section_display": true,
   "toc_window_display": false
  }
 },
 "nbformat": 4,
 "nbformat_minor": 2
}
