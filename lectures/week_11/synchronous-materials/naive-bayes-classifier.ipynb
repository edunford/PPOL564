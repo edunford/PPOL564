{
 "cells": [
  {
   "cell_type": "markdown",
   "metadata": {},
   "source": [
    "<h1><center> PPOL564 | DS1 | Foundations<br><br><font color='grey'> \n",
    "Building a Naive Bayes Classifier </font> </center> <h1>"
   ]
  },
  {
   "cell_type": "code",
   "execution_count": 1,
   "metadata": {},
   "outputs": [],
   "source": [
    "import pandas as pd\n",
    "import numpy as np\n",
    "import pprint as pp # for printing\n",
    "import scipy.stats as st # for Normal PDF\n",
    "\n",
    "# Plotting libraries \n",
    "import matplotlib.pyplot as plt\n",
    "import seaborn as sns\n",
    "from plotnine import *\n",
    "\n",
    "# Silence warnings \n",
    "import warnings\n",
    "warnings.filterwarnings(\"ignore\")"
   ]
  },
  {
   "cell_type": "markdown",
   "metadata": {},
   "source": [
    "Download data used in this notebook from [Dropbox](https://www.dropbox.com/t/YfxmV1pSWMTPvzUa)."
   ]
  },
  {
   "cell_type": "markdown",
   "metadata": {},
   "source": [
    "## Bayes Classifier"
   ]
  },
  {
   "cell_type": "markdown",
   "metadata": {},
   "source": [
    "Let's use what we know of Bayes theorem to predict a binary outcome. If we think carefully, we were trying isolate the probability that $y = 1$ given the values of our predictor.\n",
    "\n",
    "\n",
    "$$Pr(y=1 | X)$$\n",
    "\n",
    "Put more generically, \n",
    "\n",
    "$$Pr(class | data) $$\n",
    "\n",
    "That is, the predicted class is conditional on the predictors. \n",
    "\n",
    "We can use Bayes theorem here to construct a classifier that uses conditional probability to predict a class. \n",
    "\n",
    "<br><br>\n",
    "\n",
    "$$Pr(class | data) = \\frac{Pr(data | class) Pr(class)}{Pr(data)}$$\n",
    "\n",
    "<br><br>\n",
    "\n",
    "This calculation can be performed for more than one class. We just need to calculate probability for each class in the problem. We then look at all the probabilities for each class assignment, and choose the largest (i.e. maximize). \n",
    "\n",
    "However, such a classifier is **_difficult to compute_**.\n",
    "\n",
    "> \"The conditional probability of the observation based on the class $Pr(data|class)$ is not feasible unless the number of examples is extraordinarily large, e.g. large enough to effectively estimate the probability distribution for all different possible combinations of values. This is almost never the case, we will not have sufficient coverage of the domain.\" ([Brownlee](https://machinelearningmastery.com/bayes-theorem-for-machine-learning/))\n",
    "\n",
    "As both the data grows (in either the number of parameters or the size of the data), the estimation task becomes more difficult. "
   ]
  },
  {
   "cell_type": "markdown",
   "metadata": {},
   "source": [
    "## Naive Bayes Classifier\n",
    "\n",
    "We can greatly simplify the above equation by making a simple assumption: <u>**that each variable is _independent_ of the other variables in the model**.</u>\n",
    "\n",
    "<br><br><br>\n",
    "\n",
    "$$Pr(class | data) = \\frac{Pr( x_1| class)\\times Pr( x_2| class) \\times \\dots \\times  Pr(class)}{Pr(data)}$$\n",
    "\n",
    "<br><br><br>\n",
    "\n",
    "where $x_1$ and $x_2$ represent variables in the data. \n",
    "\n",
    "<br><br>\n",
    "\n",
    "We can further simplify by dropping the denominator. As the $Pr(data)$ is a normalizing constant it can be removed.\n",
    "\n",
    "<br><br><br>\n",
    "\n",
    "$$Pr(class | data) = Pr( x_1| class)\\times Pr( x_2| class) \\times \\dots \\times  Pr(class)$$\n",
    "\n",
    "<br><br><br>\n",
    "\n",
    "This is known as a **Naive Bayesian Classifier**, or Naive Bayes. The \"naivety\" stems from the simplifying assumptions we make to the original Bayesian setup. \n",
    "\n",
    "<br><br><br>"
   ]
  },
  {
   "cell_type": "markdown",
   "metadata": {},
   "source": [
    "## Building a Naive Bayesian Classifier"
   ]
  },
  {
   "cell_type": "markdown",
   "metadata": {},
   "source": [
    "Let's build a Naive Bayes classifier on a binary outcome ( $y \\in [0,1]$ ) with binary predictor variables. Below is a dataset that tracks when a country enters into a civil war given their level of economic development and political regime type:\n",
    "- `develop = 1` means a \"developed economy\", \n",
    "- `develop = 0` means a \"developing economy\")\n",
    "- `authoritarian = 1` means an \"authoritarian regime\", \n",
    "- `authoritarian = 0` means a \"quasi/full-democracy\"."
   ]
  },
  {
   "cell_type": "code",
   "execution_count": 2,
   "metadata": {
    "scrolled": true
   },
   "outputs": [
    {
     "name": "stdout",
     "output_type": "stream",
     "text": [
      "Training Data: 80 \n",
      "Test Data: 20\n"
     ]
    },
    {
     "data": {
      "text/html": [
       "<div>\n",
       "<style scoped>\n",
       "    .dataframe tbody tr th:only-of-type {\n",
       "        vertical-align: middle;\n",
       "    }\n",
       "\n",
       "    .dataframe tbody tr th {\n",
       "        vertical-align: top;\n",
       "    }\n",
       "\n",
       "    .dataframe thead th {\n",
       "        text-align: right;\n",
       "    }\n",
       "</style>\n",
       "<table border=\"1\" class=\"dataframe\">\n",
       "  <thead>\n",
       "    <tr style=\"text-align: right;\">\n",
       "      <th></th>\n",
       "      <th>civil_war</th>\n",
       "      <th>developed</th>\n",
       "      <th>authoritarian</th>\n",
       "    </tr>\n",
       "  </thead>\n",
       "  <tbody>\n",
       "    <tr>\n",
       "      <th>0</th>\n",
       "      <td>0</td>\n",
       "      <td>0</td>\n",
       "      <td>0</td>\n",
       "    </tr>\n",
       "    <tr>\n",
       "      <th>1</th>\n",
       "      <td>0</td>\n",
       "      <td>1</td>\n",
       "      <td>0</td>\n",
       "    </tr>\n",
       "    <tr>\n",
       "      <th>2</th>\n",
       "      <td>0</td>\n",
       "      <td>1</td>\n",
       "      <td>0</td>\n",
       "    </tr>\n",
       "    <tr>\n",
       "      <th>3</th>\n",
       "      <td>0</td>\n",
       "      <td>1</td>\n",
       "      <td>1</td>\n",
       "    </tr>\n",
       "    <tr>\n",
       "      <th>4</th>\n",
       "      <td>1</td>\n",
       "      <td>0</td>\n",
       "      <td>1</td>\n",
       "    </tr>\n",
       "  </tbody>\n",
       "</table>\n",
       "</div>"
      ],
      "text/plain": [
       "   civil_war  developed  authoritarian\n",
       "0          0          0              0\n",
       "1          0          1              0\n",
       "2          0          1              0\n",
       "3          0          1              1\n",
       "4          1          0              1"
      ]
     },
     "execution_count": 2,
     "metadata": {},
     "output_type": "execute_result"
    }
   ],
   "source": [
    "# Set seed\n",
    "np.random.seed(1234)\n",
    "\n",
    "# readd in data\n",
    "cw_data = pd.read_csv(\"data/civil_war.csv\")\n",
    "\n",
    "# Train-Test split (just using Pandas)\n",
    "train = cw_data.sample(frac=.8).reset_index(drop=True)\n",
    "test = cw_data.drop(train.index).reset_index(drop=True)\n",
    "\n",
    "# Print off the split count \n",
    "print(\"Training Data:\",train.shape[0],\n",
    "      \"\\nTest Data:\",test.shape[0])\n",
    "\n",
    "# Look at the head of the data\n",
    "train.head()"
   ]
  },
  {
   "cell_type": "markdown",
   "metadata": {},
   "source": [
    "### Calculate Class Probabilities: $Pr(class)$"
   ]
  },
  {
   "cell_type": "code",
   "execution_count": 3,
   "metadata": {},
   "outputs": [
    {
     "name": "stdout",
     "output_type": "stream",
     "text": [
      "\n",
      "Pr(civil_war = 1): 0.3125\n",
      "Pr(civil_war = 0): 0.6875\n",
      "\n"
     ]
    }
   ],
   "source": [
    "N = train.shape[0]\n",
    "\n",
    "# Subset the data by class\n",
    "cw1 = train.query(\"civil_war == 1\")\n",
    "cw0 = train.query(\"civil_war == 0\")\n",
    "\n",
    "# Calculate the probability for each class\n",
    "pr_cw_1 = cw1.shape[0]/N\n",
    "pr_cw_0 = cw0.shape[0]/N\n",
    "\n",
    "# Print the probabilities\n",
    "print(\n",
    "f\"\"\"\n",
    "Pr(civil_war = 1): {pr_cw_1}\n",
    "Pr(civil_war = 0): {pr_cw_0}\n",
    "\"\"\")"
   ]
  },
  {
   "cell_type": "markdown",
   "metadata": {},
   "source": [
    "### Calculate the Conditional Probabilities $Pr(data | class)$\n",
    "\n",
    "- $Pr(developed = 1 | CW = 1)$\n",
    "- $Pr(developed = 0 | CW = 1)$\n",
    "- $Pr(developed = 1 | CW = 0)$\n",
    "- $Pr(developed = 0 | CW = 0)$\n",
    "- $Pr(authoritarian = 1 | CW = 1)$\n",
    "- $Pr(authoritarian = 0 | CW = 1)$\n",
    "- $Pr(authoritarian = 1 | CW = 0)$\n",
    "- $Pr(authoritarian = 0 | CW = 0)$"
   ]
  },
  {
   "cell_type": "code",
   "execution_count": 4,
   "metadata": {},
   "outputs": [
    {
     "name": "stdout",
     "output_type": "stream",
     "text": [
      "\n",
      "Pr(developed = 1 |civil_war = 1): 0.4\n",
      "Pr(developed = 0 |civil_war = 1): 0.6\n",
      "Pr(developed = 1 |civil_war = 0): 0.6909090909090909\n",
      "Pr(developed = 0 |civil_war = 0): 0.3090909090909091\n",
      "Pr(authoritarian = 1 |civil_war = 1): 0.92\n",
      "Pr(authoritarian = 0 |civil_war = 1): 0.08\n",
      "Pr(authoritarian = 1 |civil_war = 0): 0.41818181818181815\n",
      "Pr(authoritarian = 0 |civil_war = 0): 0.5818181818181818\n",
      "\n"
     ]
    }
   ],
   "source": [
    "# Given CW == 1\n",
    "d1_cw1 = cw1.query(\"developed == 1\").shape[0]/cw1.shape[0]\n",
    "d0_cw1 = cw1.query(\"developed == 0\").shape[0]/cw1.shape[0]\n",
    "a1_cw1 = cw1.query(\"authoritarian == 1\").shape[0]/cw1.shape[0]\n",
    "a0_cw1 = cw1.query(\"authoritarian == 0\").shape[0]/cw1.shape[0]\n",
    "\n",
    "# Given CW == 0\n",
    "d1_cw0 = cw0.query(\"developed == 1\").shape[0]/cw0.shape[0]\n",
    "d0_cw0 = cw0.query(\"developed == 0\").shape[0]/cw0.shape[0]\n",
    "a1_cw0 = cw0.query(\"authoritarian == 1\").shape[0]/cw0.shape[0]\n",
    "a0_cw0 = cw0.query(\"authoritarian == 0\").shape[0]/cw0.shape[0]\n",
    "\n",
    "print(\n",
    "f\"\"\"\n",
    "Pr(developed = 1 |civil_war = 1): {d1_cw1}\n",
    "Pr(developed = 0 |civil_war = 1): {d0_cw1}\n",
    "Pr(developed = 1 |civil_war = 0): {d1_cw0}\n",
    "Pr(developed = 0 |civil_war = 0): {d0_cw0}\n",
    "Pr(authoritarian = 1 |civil_war = 1): {a1_cw1}\n",
    "Pr(authoritarian = 0 |civil_war = 1): {a0_cw1}\n",
    "Pr(authoritarian = 1 |civil_war = 0): {a1_cw0}\n",
    "Pr(authoritarian = 0 |civil_war = 0): {a0_cw0}\n",
    "\"\"\")"
   ]
  },
  {
   "cell_type": "markdown",
   "metadata": {},
   "source": [
    "### Make a Prediction"
   ]
  },
  {
   "cell_type": "markdown",
   "metadata": {},
   "source": [
    "Now we simply multiply together the probabilities for each outcome given some configuration of the variables. \n",
    "\n",
    "For example, say we want to predict whether **a country will enter into a civil war given its a _developing democracy_**. "
   ]
  },
  {
   "cell_type": "code",
   "execution_count": 5,
   "metadata": {},
   "outputs": [
    {
     "name": "stdout",
     "output_type": "stream",
     "text": [
      "\n",
      "Pr(cw = 1) = 0.015\n",
      "Pr(cw = 0) = 0.12363636363636363\n",
      "\n"
     ]
    }
   ],
   "source": [
    "prob_cw1 = d0_cw1 * a0_cw1 * pr_cw_1\n",
    "prob_cw0 = d0_cw0 * a0_cw0 * pr_cw_0\n",
    "\n",
    "print(f\"\"\"\n",
    "Pr(cw = 1) = {prob_cw1}\n",
    "Pr(cw = 0) = {prob_cw0}\n",
    "\"\"\")"
   ]
  },
  {
   "cell_type": "markdown",
   "metadata": {},
   "source": [
    "$.124$ is greater than $.015$ so we predict \"no civil war\" ($CW = 0$). "
   ]
  },
  {
   "cell_type": "markdown",
   "metadata": {},
   "source": [
    "Now, let's use the probabilities to predict if an authoritarian developing country will enter into a civil war. "
   ]
  },
  {
   "cell_type": "code",
   "execution_count": 6,
   "metadata": {},
   "outputs": [
    {
     "name": "stdout",
     "output_type": "stream",
     "text": [
      "\n",
      "Pr(cw = 1) = 0.17250000000000001\n",
      "Pr(cw = 0) = 0.08886363636363635\n",
      "\n"
     ]
    }
   ],
   "source": [
    "prob_cw1 = d0_cw1 * a1_cw1 * pr_cw_1\n",
    "prob_cw0 = d0_cw0 * a1_cw0 * pr_cw_0\n",
    "\n",
    "print(f\"\"\"\n",
    "Pr(cw = 1) = {prob_cw1}\n",
    "Pr(cw = 0) = {prob_cw0}\n",
    "\"\"\")"
   ]
  },
  {
   "cell_type": "markdown",
   "metadata": {},
   "source": [
    "$.173$ is greater than $.089$ so we'll predict \"civil war\" for this observation ($CW = 1$). "
   ]
  },
  {
   "cell_type": "markdown",
   "metadata": {},
   "source": [
    "In essence, we do this for every observation in the data. The idea is that we leverage conditional probabilities in the data to predict future class assignment, assuming the data generating process in the training data (i.e. the data we're learning on) is equivalent to the data we test on. "
   ]
  },
  {
   "cell_type": "markdown",
   "metadata": {},
   "source": [
    "### Predicting Multiple Observations"
   ]
  },
  {
   "cell_type": "markdown",
   "metadata": {},
   "source": [
    "Let's now expand this setup so that we can calculate the underlying probabilities and then calculate the predictions for each observation in the data. "
   ]
  },
  {
   "cell_type": "code",
   "execution_count": 7,
   "metadata": {},
   "outputs": [
    {
     "name": "stdout",
     "output_type": "stream",
     "text": [
      "class probabilities\n",
      "\n",
      "{0: 0.6875, 1: 0.3125}\n",
      "\n",
      "\n",
      "conditional probabilities\n",
      "\n",
      "{('authoritarian', 0, 0): 0.5818181818181818,\n",
      " ('authoritarian', 0, 1): 0.07999999999999996,\n",
      " ('authoritarian', 1, 0): 0.41818181818181815,\n",
      " ('authoritarian', 1, 1): 0.92,\n",
      " ('developed', 0, 0): 0.3090909090909091,\n",
      " ('developed', 0, 1): 0.6,\n",
      " ('developed', 1, 0): 0.6909090909090909,\n",
      " ('developed', 1, 1): 0.4}\n"
     ]
    }
   ],
   "source": [
    "def calc_probs(data,outcome_var=\"\"):\n",
    "    '''\n",
    "    Function calculates the class and conditional probabilities in \n",
    "    the binary data. \n",
    "    \n",
    "    Note that I'm using dictionaries with tuple keys to keep\n",
    "    track of the variable, it's val, and the outcome, which we're conditioning on. \n",
    "    '''\n",
    "    # Generate empty dictionary containers.\n",
    "    class_probs = {};cond_probs = {}\n",
    "    # Locate all variables that are not the outcome.\n",
    "    vars = [v for v in data.columns if v != outcome_var]\n",
    "    # iterate through the class outcomes\n",
    "    for y, d in data.groupby(outcome_var): \n",
    "        # calculate the class probabilities\n",
    "        class_probs.update({y: d.shape[0]/data.shape[0]})\n",
    "        for v in vars:\n",
    "            # calculate the conditional probabilities for each variable given the class.\n",
    "            pr = d[v].sum()/d.shape[0]\n",
    "            cond_probs[(v,1,y)] = pr \n",
    "            cond_probs[(v,0,y)] = 1 - pr\n",
    "    return class_probs, cond_probs\n",
    "\n",
    "\n",
    "# Run\n",
    "class_probs, cond_probs = calc_probs(train,outcome_var=\"civil_war\")\n",
    "\n",
    "# Print\n",
    "print(\"class probabilities\",end=\"\\n\\n\")\n",
    "pp.pprint(class_probs)\n",
    "print(\"\\n\")\n",
    "print(\"conditional probabilities\",end=\"\\n\\n\")\n",
    "pp.pprint(cond_probs)"
   ]
  },
  {
   "cell_type": "markdown",
   "metadata": {},
   "source": [
    "Now we've conveniently stored all the probabilities as dictionaries. Let's build a prediction function that combs through the observations in the data and calculates the probabilities and makes a class prediction. "
   ]
  },
  {
   "cell_type": "code",
   "execution_count": 8,
   "metadata": {},
   "outputs": [
    {
     "data": {
      "text/html": [
       "<div>\n",
       "<style scoped>\n",
       "    .dataframe tbody tr th:only-of-type {\n",
       "        vertical-align: middle;\n",
       "    }\n",
       "\n",
       "    .dataframe tbody tr th {\n",
       "        vertical-align: top;\n",
       "    }\n",
       "\n",
       "    .dataframe thead th {\n",
       "        text-align: right;\n",
       "    }\n",
       "</style>\n",
       "<table border=\"1\" class=\"dataframe\">\n",
       "  <thead>\n",
       "    <tr style=\"text-align: right;\">\n",
       "      <th></th>\n",
       "      <th>pr_0</th>\n",
       "      <th>pr_1</th>\n",
       "      <th>pred</th>\n",
       "    </tr>\n",
       "  </thead>\n",
       "  <tbody>\n",
       "    <tr>\n",
       "      <th>0</th>\n",
       "      <td>0.123636</td>\n",
       "      <td>0.0150</td>\n",
       "      <td>0</td>\n",
       "    </tr>\n",
       "    <tr>\n",
       "      <th>1</th>\n",
       "      <td>0.276364</td>\n",
       "      <td>0.0100</td>\n",
       "      <td>0</td>\n",
       "    </tr>\n",
       "    <tr>\n",
       "      <th>2</th>\n",
       "      <td>0.276364</td>\n",
       "      <td>0.0100</td>\n",
       "      <td>0</td>\n",
       "    </tr>\n",
       "    <tr>\n",
       "      <th>3</th>\n",
       "      <td>0.198636</td>\n",
       "      <td>0.1150</td>\n",
       "      <td>0</td>\n",
       "    </tr>\n",
       "    <tr>\n",
       "      <th>4</th>\n",
       "      <td>0.088864</td>\n",
       "      <td>0.1725</td>\n",
       "      <td>1</td>\n",
       "    </tr>\n",
       "  </tbody>\n",
       "</table>\n",
       "</div>"
      ],
      "text/plain": [
       "       pr_0    pr_1  pred\n",
       "0  0.123636  0.0150     0\n",
       "1  0.276364  0.0100     0\n",
       "2  0.276364  0.0100     0\n",
       "3  0.198636  0.1150     0\n",
       "4  0.088864  0.1725     1"
      ]
     },
     "execution_count": 8,
     "metadata": {},
     "output_type": "execute_result"
    }
   ],
   "source": [
    "def predict(data,class_probs,cond_probs):\n",
    "    '''\n",
    "    Function calculates the conditiona probability for membership into each class.\n",
    "    Then returns both the probabilities and the most likely class. \n",
    "    '''\n",
    "    store_preds = []\n",
    "    for i,row in data.iterrows():\n",
    "        pr_1 = 1; pr_0 = 1\n",
    "        for j in range(1,len(row.index)):\n",
    "            pr_0 *= cond_probs[(row.index[j],row.values[j],0)]\n",
    "            pr_1 *= cond_probs[(row.index[j],row.values[j],1)]     \n",
    "        pr_0 *= class_probs[0]\n",
    "        pr_1 *= class_probs[1]\n",
    "        store_preds.append([pr_0,pr_1,max([(pr_0,0),(pr_1,1)])[1]])\n",
    "    return pd.DataFrame(store_preds,columns=[\"pr_0\",\"pr_1\",\"pred\"])\n",
    "\n",
    "# Run \n",
    "preds = predict(train, class_probs, cond_probs)\n",
    "preds.head()"
   ]
  },
  {
   "cell_type": "markdown",
   "metadata": {},
   "source": [
    "Finally, let's calculate predictive accuracy (i.e. how many correct prediction did we make)."
   ]
  },
  {
   "cell_type": "code",
   "execution_count": 9,
   "metadata": {},
   "outputs": [
    {
     "data": {
      "text/plain": [
       "0.7625"
      ]
     },
     "execution_count": 9,
     "metadata": {},
     "output_type": "execute_result"
    }
   ],
   "source": [
    "accuracy = sum(train.civil_war == preds.pred)/train.shape[0]\n",
    "accuracy"
   ]
  },
  {
   "cell_type": "markdown",
   "metadata": {},
   "source": [
    "We obtained predictive accuracy of 76.3% on the training data, not bad!"
   ]
  },
  {
   "cell_type": "markdown",
   "metadata": {},
   "source": [
    "Let's now try to predict the outcomes in the test data and see how we do."
   ]
  },
  {
   "cell_type": "code",
   "execution_count": 10,
   "metadata": {},
   "outputs": [
    {
     "data": {
      "text/plain": [
       "0.9"
      ]
     },
     "execution_count": 10,
     "metadata": {},
     "output_type": "execute_result"
    }
   ],
   "source": [
    "test_preds = predict(test, class_probs, cond_probs)\n",
    "test_accuracy = sum(test.civil_war == test_preds.pred)/test.shape[0]\n",
    "test_accuracy"
   ]
  },
  {
   "cell_type": "markdown",
   "metadata": {},
   "source": [
    "We have an out of sample prediction of 90%."
   ]
  },
  {
   "cell_type": "markdown",
   "metadata": {},
   "source": [
    "Though the **Naive Bayes Classifier**  is quite simplistic when compared to other modeling strategies (such as a neural net or a gradient boosting machine); however, it proves to be effective on a wide array of prediction tasks. "
   ]
  },
  {
   "cell_type": "markdown",
   "metadata": {},
   "source": [
    "## Naive Bayesian Classifier with Continuous Predictors"
   ]
  },
  {
   "cell_type": "markdown",
   "metadata": {},
   "source": [
    "The modeling strategy outlined above assumes that we have binary or discrete predictors (i.e. 0/1). However, what if that's not the case, and we have continuous features that we want to use in the prediction task? "
   ]
  },
  {
   "cell_type": "markdown",
   "metadata": {},
   "source": [
    "For this exercise, let's use the same data as we did in the gradient descent lecture."
   ]
  },
  {
   "cell_type": "code",
   "execution_count": 11,
   "metadata": {},
   "outputs": [
    {
     "data": {
      "text/html": [
       "<div>\n",
       "<style scoped>\n",
       "    .dataframe tbody tr th:only-of-type {\n",
       "        vertical-align: middle;\n",
       "    }\n",
       "\n",
       "    .dataframe tbody tr th {\n",
       "        vertical-align: top;\n",
       "    }\n",
       "\n",
       "    .dataframe thead th {\n",
       "        text-align: right;\n",
       "    }\n",
       "</style>\n",
       "<table border=\"1\" class=\"dataframe\">\n",
       "  <thead>\n",
       "    <tr style=\"text-align: right;\">\n",
       "      <th></th>\n",
       "      <th>y</th>\n",
       "      <th>x1</th>\n",
       "      <th>x2</th>\n",
       "    </tr>\n",
       "  </thead>\n",
       "  <tbody>\n",
       "    <tr>\n",
       "      <th>0</th>\n",
       "      <td>1.0</td>\n",
       "      <td>-1.085631</td>\n",
       "      <td>-0.748827</td>\n",
       "    </tr>\n",
       "    <tr>\n",
       "      <th>1</th>\n",
       "      <td>1.0</td>\n",
       "      <td>0.997345</td>\n",
       "      <td>0.567595</td>\n",
       "    </tr>\n",
       "    <tr>\n",
       "      <th>2</th>\n",
       "      <td>1.0</td>\n",
       "      <td>0.282978</td>\n",
       "      <td>0.718151</td>\n",
       "    </tr>\n",
       "    <tr>\n",
       "      <th>3</th>\n",
       "      <td>0.0</td>\n",
       "      <td>-1.506295</td>\n",
       "      <td>-0.999381</td>\n",
       "    </tr>\n",
       "    <tr>\n",
       "      <th>4</th>\n",
       "      <td>1.0</td>\n",
       "      <td>-0.578600</td>\n",
       "      <td>0.474898</td>\n",
       "    </tr>\n",
       "  </tbody>\n",
       "</table>\n",
       "</div>"
      ],
      "text/plain": [
       "     y        x1        x2\n",
       "0  1.0 -1.085631 -0.748827\n",
       "1  1.0  0.997345  0.567595\n",
       "2  1.0  0.282978  0.718151\n",
       "3  0.0 -1.506295 -0.999381\n",
       "4  1.0 -0.578600  0.474898"
      ]
     },
     "execution_count": 11,
     "metadata": {},
     "output_type": "execute_result"
    }
   ],
   "source": [
    "train = pd.read_csv(\"data/training_data.csv\")\n",
    "test = pd.read_csv(\"data/test_data.csv\")\n",
    "train.head()"
   ]
  },
  {
   "cell_type": "markdown",
   "metadata": {},
   "source": [
    "As we did when in the gradient descent lecture, we need a way to map a continuous variable into a probability space. Here we'll use the probability density function for Gaussian (normal) distribution to convert continuous values into probabilities.\n",
    "\n",
    "Note that we can use information regarding the distribution of each continuous predict and find out where any single point is on that continuous variables probability distribution."
   ]
  },
  {
   "cell_type": "code",
   "execution_count": 12,
   "metadata": {},
   "outputs": [
    {
     "data": {
      "text/plain": [
       "0.09565679616352402"
      ]
     },
     "execution_count": 12,
     "metadata": {},
     "output_type": "execute_result"
    }
   ],
   "source": [
    "st.norm(0, 1).pdf(-1.69) # using the scipy.stats module"
   ]
  },
  {
   "cell_type": "code",
   "execution_count": 13,
   "metadata": {},
   "outputs": [
    {
     "data": {
      "image/png": "[encoded data removed]",
      "text/plain": [
       "<Figure size 1000x400 with 1 Axes>"
      ]
     },
     "metadata": {
      "needs_background": "light"
     },
     "output_type": "display_data"
    },
    {
     "data": {
      "text/plain": [
       "<ggplot: (8794365247422)>"
      ]
     },
     "execution_count": 13,
     "metadata": {},
     "output_type": "execute_result"
    }
   ],
   "source": [
    "# Calculate the CDF for values in-between the interval of -5 and 5\n",
    "d = pd.DataFrame([[i,st.norm(0, 1).pdf(i)] for i in np.linspace(-5,5)],\n",
    "                columns= [\"x\",\"y\"])\n",
    "\n",
    "# Plot (with plotnine/ggplot2)\n",
    "(\n",
    "    ggplot(d,aes(\"x\",\"y\")) +\n",
    "    geom_line(color=\"darkred\",size=1) +\n",
    "    labs(title=\"PDF Normal Distribution\\n(mean = 0, Variance = 1)\",\n",
    "         x = \"X\",y = \"Probability\") +\n",
    "    theme_minimal() +\n",
    "    theme(figure_size=(10,4))\n",
    ")"
   ]
  },
  {
   "cell_type": "markdown",
   "metadata": {},
   "source": [
    "We can calculate the conditional mean and standard deviation for each value of the outcome and then calculate the predictions from there for any one of our continuous variables.\n",
    "\n",
    "Let's go through the steps again."
   ]
  },
  {
   "cell_type": "markdown",
   "metadata": {},
   "source": [
    "### Calculate Class Probabilities: $Pr(class)$"
   ]
  },
  {
   "cell_type": "code",
   "execution_count": 14,
   "metadata": {},
   "outputs": [],
   "source": [
    "y1 = train.query(\"y == 1\")\n",
    "y0 = train.query(\"y == 0\")\n",
    "\n",
    "# Class probabilities.\n",
    "pr_y1 = y1.shape[0]/train.shape[0]\n",
    "pr_y0 = y0.shape[0]/train.shape[0]"
   ]
  },
  {
   "cell_type": "markdown",
   "metadata": {},
   "source": [
    "### Calculate the conditional means/standard deviations"
   ]
  },
  {
   "cell_type": "code",
   "execution_count": 15,
   "metadata": {},
   "outputs": [
    {
     "name": "stdout",
     "output_type": "stream",
     "text": [
      "{('x1', 0): {'mean': 0.5156773594310682, 'sd': 0.9113594482519166},\n",
      " ('x1', 1): {'mean': -0.36705951737634046, 'sd': 0.903305618794902},\n",
      " ('x2', 0): {'mean': -0.7234270807398658, 'sd': 0.7924025069188566},\n",
      " ('x2', 1): {'mean': 0.4400327732120252, 'sd': 0.7671342801807611}}\n"
     ]
    }
   ],
   "source": [
    "# Collect the mean and standard dev. of each conditional distribution\n",
    "dist_locs = \\\n",
    "{(\"x1\",1):{'mean':y1.x1.mean(),'sd':y1.x1.std()},\n",
    " (\"x1\",0):{'mean':y0.x1.mean(),'sd':y0.x1.std()},\n",
    " (\"x2\",1):{'mean':y1.x2.mean(),'sd':y1.x2.std()},\n",
    " (\"x2\",0):{'mean':y0.x2.mean(),'sd':y0.x2.std()}\n",
    "}\n",
    "\n",
    "# Print\n",
    "pp.pprint(dist_locs)"
   ]
  },
  {
   "cell_type": "markdown",
   "metadata": {},
   "source": [
    "View what these different conditional distributions look like:"
   ]
  },
  {
   "cell_type": "code",
   "execution_count": 16,
   "metadata": {
    "scrolled": false
   },
   "outputs": [
    {
     "data": {
      "image/png": "[encoded data removed]",
      "text/plain": [
       "<Figure size 1500x600 with 1 Axes>"
      ]
     },
     "metadata": {
      "needs_background": "light"
     },
     "output_type": "display_data"
    }
   ],
   "source": [
    "# Plot with seaborn\n",
    "plt.figure(figsize=(10,4),dpi=150)\n",
    "for key in dist_locs.keys():\n",
    "    locs = dist_locs[key]\n",
    "    d = pd.DataFrame([[i,st.norm(locs['mean'], locs['sd']).pdf(i)] \n",
    "                      for i in np.linspace(-3,3)])\n",
    "    ax = sns.lineplot(d[0],d[1],label=f\"{key[0]} where y = {key[1]}\")"
   ]
  },
  {
   "cell_type": "markdown",
   "metadata": {},
   "source": [
    "### Predict\n",
    "\n",
    "Let's walk through predicting a single observation."
   ]
  },
  {
   "cell_type": "code",
   "execution_count": 17,
   "metadata": {},
   "outputs": [
    {
     "name": "stdout",
     "output_type": "stream",
     "text": [
      "1.0 0.9973454465835858 0.5675947260277651\n"
     ]
    }
   ],
   "source": [
    "y,x1,x2 = train.iloc[1,:]\n",
    "print(y,x1,x2)"
   ]
  },
  {
   "cell_type": "code",
   "execution_count": 18,
   "metadata": {},
   "outputs": [
    {
     "name": "stdout",
     "output_type": "stream",
     "text": [
      "\n",
      "    Pr(y == 1| X): 0.04553473825311161\n",
      "    Pr(y == 0| X): 0.018857981798910916\n",
      "\n"
     ]
    }
   ],
   "source": [
    "# Prediction for the 1 class\n",
    "a = st.norm(dist_locs[(\"x1\",1)]['mean'], dist_locs[(\"x1\",1)]['sd']).pdf(x1)\n",
    "b = st.norm(dist_locs[(\"x2\",1)]['mean'], dist_locs[(\"x2\",1)]['sd']).pdf(x2)\n",
    "c = pr_y1\n",
    "pr_1 = a * b * c\n",
    "\n",
    "# Prediction for the 0 class\n",
    "a = st.norm(dist_locs[(\"x1\",0)]['mean'], dist_locs[(\"x1\",0)]['sd']).pdf(x1)\n",
    "b = st.norm(dist_locs[(\"x2\",0)]['mean'], dist_locs[(\"x2\",0)]['sd']).pdf(x2)\n",
    "c = pr_y0\n",
    "pr_0 = a * b * c\n",
    "\n",
    "print(\n",
    "f'''\n",
    "    Pr(y == 1| X): {pr_1}\n",
    "    Pr(y == 0| X): {pr_0}\n",
    "''')"
   ]
  },
  {
   "cell_type": "markdown",
   "metadata": {},
   "source": [
    "4.55% is greater than 1.89%, so we predict that $y = 1$"
   ]
  },
  {
   "cell_type": "markdown",
   "metadata": {},
   "source": [
    "### Predicting multiple observations"
   ]
  },
  {
   "cell_type": "code",
   "execution_count": 19,
   "metadata": {},
   "outputs": [],
   "source": [
    "def predict(data,dist_locs):\n",
    "    ''''''\n",
    "    store_preds = []\n",
    "    for i,row in data.iterrows():\n",
    "        \n",
    "        # Get the predictions using a Gaussan distribution\n",
    "        pr_0 = 1; pr_1 = 1\n",
    "        for j in range(1,len(row)):\n",
    "            pr_0 *= st.norm(dist_locs[(row.index[j],0)]['mean'],\n",
    "                            dist_locs[(row.index[j],0)]['sd']).pdf(row.values[j])\n",
    "            pr_1 *= st.norm(dist_locs[(row.index[j],1)]['mean'], \n",
    "                            dist_locs[(row.index[j],1)]['sd']).pdf(row.values[j])\n",
    "        pr_0 *= pr_y0\n",
    "        pr_1 *= pr_y1\n",
    "        \n",
    "        # Assign the class designation to the highest probability\n",
    "        if pr_0 >= pr_1:\n",
    "            class_pred = 0\n",
    "        else:\n",
    "            class_pred = 1\n",
    "            \n",
    "        store_preds.append([pr_0,pr_1,class_pred])\n",
    "        \n",
    "    return pd.DataFrame(store_preds,columns=[\"pr_0\",\"pr_1\",\"pred\"])\n",
    "\n",
    "# Run\n",
    "preds_train = predict(train,dist_locs)"
   ]
  },
  {
   "cell_type": "code",
   "execution_count": 20,
   "metadata": {},
   "outputs": [
    {
     "data": {
      "text/html": [
       "<div>\n",
       "<style scoped>\n",
       "    .dataframe tbody tr th:only-of-type {\n",
       "        vertical-align: middle;\n",
       "    }\n",
       "\n",
       "    .dataframe tbody tr th {\n",
       "        vertical-align: top;\n",
       "    }\n",
       "\n",
       "    .dataframe thead th {\n",
       "        text-align: right;\n",
       "    }\n",
       "</style>\n",
       "<table border=\"1\" class=\"dataframe\">\n",
       "  <thead>\n",
       "    <tr style=\"text-align: right;\">\n",
       "      <th></th>\n",
       "      <th>pr_0</th>\n",
       "      <th>pr_1</th>\n",
       "      <th>pred</th>\n",
       "    </tr>\n",
       "  </thead>\n",
       "  <tbody>\n",
       "    <tr>\n",
       "      <th>0</th>\n",
       "      <td>0.017456</td>\n",
       "      <td>0.031683</td>\n",
       "      <td>1</td>\n",
       "    </tr>\n",
       "    <tr>\n",
       "      <th>1</th>\n",
       "      <td>0.018858</td>\n",
       "      <td>0.045535</td>\n",
       "      <td>1</td>\n",
       "    </tr>\n",
       "    <tr>\n",
       "      <th>2</th>\n",
       "      <td>0.015126</td>\n",
       "      <td>0.104417</td>\n",
       "      <td>1</td>\n",
       "    </tr>\n",
       "    <tr>\n",
       "      <th>3</th>\n",
       "      <td>0.006567</td>\n",
       "      <td>0.011217</td>\n",
       "      <td>1</td>\n",
       "    </tr>\n",
       "    <tr>\n",
       "      <th>4</th>\n",
       "      <td>0.012673</td>\n",
       "      <td>0.140413</td>\n",
       "      <td>1</td>\n",
       "    </tr>\n",
       "    <tr>\n",
       "      <th>5</th>\n",
       "      <td>0.013239</td>\n",
       "      <td>0.000129</td>\n",
       "      <td>0</td>\n",
       "    </tr>\n",
       "    <tr>\n",
       "      <th>6</th>\n",
       "      <td>0.000359</td>\n",
       "      <td>0.007559</td>\n",
       "      <td>1</td>\n",
       "    </tr>\n",
       "    <tr>\n",
       "      <th>7</th>\n",
       "      <td>0.041775</td>\n",
       "      <td>0.017549</td>\n",
       "      <td>0</td>\n",
       "    </tr>\n",
       "    <tr>\n",
       "      <th>8</th>\n",
       "      <td>0.057935</td>\n",
       "      <td>0.007510</td>\n",
       "      <td>0</td>\n",
       "    </tr>\n",
       "    <tr>\n",
       "      <th>9</th>\n",
       "      <td>0.020291</td>\n",
       "      <td>0.010154</td>\n",
       "      <td>0</td>\n",
       "    </tr>\n",
       "  </tbody>\n",
       "</table>\n",
       "</div>"
      ],
      "text/plain": [
       "       pr_0      pr_1  pred\n",
       "0  0.017456  0.031683     1\n",
       "1  0.018858  0.045535     1\n",
       "2  0.015126  0.104417     1\n",
       "3  0.006567  0.011217     1\n",
       "4  0.012673  0.140413     1\n",
       "5  0.013239  0.000129     0\n",
       "6  0.000359  0.007559     1\n",
       "7  0.041775  0.017549     0\n",
       "8  0.057935  0.007510     0\n",
       "9  0.020291  0.010154     0"
      ]
     },
     "execution_count": 20,
     "metadata": {},
     "output_type": "execute_result"
    }
   ],
   "source": [
    "# Predicted output\n",
    "preds_train.head(10)"
   ]
  },
  {
   "cell_type": "markdown",
   "metadata": {},
   "source": [
    "Examine the predictive accuracy of the training data. "
   ]
  },
  {
   "cell_type": "code",
   "execution_count": 21,
   "metadata": {},
   "outputs": [
    {
     "data": {
      "text/plain": [
       "0.862"
      ]
     },
     "execution_count": 21,
     "metadata": {},
     "output_type": "execute_result"
    }
   ],
   "source": [
    "accuracy_train = sum(train.y == preds_train.pred)/train.shape[0]\n",
    "accuracy_train"
   ]
  },
  {
   "cell_type": "markdown",
   "metadata": {},
   "source": [
    "Examine the predictive accuracy on the test data."
   ]
  },
  {
   "cell_type": "code",
   "execution_count": 22,
   "metadata": {},
   "outputs": [],
   "source": [
    "preds_test = predict(test,dist_locs)"
   ]
  },
  {
   "cell_type": "code",
   "execution_count": 23,
   "metadata": {},
   "outputs": [
    {
     "data": {
      "text/plain": [
       "0.862"
      ]
     },
     "execution_count": 23,
     "metadata": {},
     "output_type": "execute_result"
    }
   ],
   "source": [
    "accuracy_test = sum(test.y == preds_test.pred)/test.shape[0]\n",
    "accuracy_test"
   ]
  },
  {
   "cell_type": "markdown",
   "metadata": {},
   "source": [
    "## `sklearn` implementation"
   ]
  },
  {
   "cell_type": "code",
   "execution_count": 24,
   "metadata": {},
   "outputs": [],
   "source": [
    "# Organize our data real quick so it plugs into the sklearn API easily \n",
    "train_y = train['y']\n",
    "train_x = train[['x1','x2']]\n",
    "test_y = test['y']\n",
    "test_x = test[['x1','x2']]"
   ]
  },
  {
   "cell_type": "code",
   "execution_count": 25,
   "metadata": {},
   "outputs": [
    {
     "data": {
      "text/plain": [
       "0.862"
      ]
     },
     "execution_count": 25,
     "metadata": {},
     "output_type": "execute_result"
    }
   ],
   "source": [
    "from sklearn.naive_bayes import GaussianNB # Classifier \n",
    "import sklearn.metrics as m # Metrics to determine the classification \n",
    "\n",
    "# Instantiate the model class\n",
    "gnb = GaussianNB()\n",
    "gnb.fit(train_x, train_y) # Train\n",
    "\n",
    "# Predict \n",
    "y_pred = gnb.predict(test_x)\n",
    "\n",
    "# Out-of-sample performance \n",
    "m.accuracy_score(test_y,y_pred)"
   ]
  },
  {
   "cell_type": "markdown",
   "metadata": {},
   "source": [
    "Consider alternative performance metrics."
   ]
  },
  {
   "cell_type": "code",
   "execution_count": 26,
   "metadata": {},
   "outputs": [
    {
     "data": {
      "text/plain": [
       "0.8441666666666666"
      ]
     },
     "execution_count": 26,
     "metadata": {},
     "output_type": "execute_result"
    }
   ],
   "source": [
    "m.roc_auc_score(test_y,y_pred)"
   ]
  },
  {
   "cell_type": "markdown",
   "metadata": {},
   "source": [
    "Generate a ROC curve plot. First, we need the model to return probabilities not predictions. "
   ]
  },
  {
   "cell_type": "code",
   "execution_count": 27,
   "metadata": {},
   "outputs": [
    {
     "data": {
      "text/html": [
       "<div>\n",
       "<style scoped>\n",
       "    .dataframe tbody tr th:only-of-type {\n",
       "        vertical-align: middle;\n",
       "    }\n",
       "\n",
       "    .dataframe tbody tr th {\n",
       "        vertical-align: top;\n",
       "    }\n",
       "\n",
       "    .dataframe thead th {\n",
       "        text-align: right;\n",
       "    }\n",
       "</style>\n",
       "<table border=\"1\" class=\"dataframe\">\n",
       "  <thead>\n",
       "    <tr style=\"text-align: right;\">\n",
       "      <th></th>\n",
       "      <th>0.0</th>\n",
       "      <th>1.0</th>\n",
       "    </tr>\n",
       "  </thead>\n",
       "  <tbody>\n",
       "    <tr>\n",
       "      <th>0</th>\n",
       "      <td>0.946550</td>\n",
       "      <td>0.053450</td>\n",
       "    </tr>\n",
       "    <tr>\n",
       "      <th>1</th>\n",
       "      <td>0.970974</td>\n",
       "      <td>0.029026</td>\n",
       "    </tr>\n",
       "    <tr>\n",
       "      <th>2</th>\n",
       "      <td>0.136194</td>\n",
       "      <td>0.863806</td>\n",
       "    </tr>\n",
       "    <tr>\n",
       "      <th>3</th>\n",
       "      <td>0.068829</td>\n",
       "      <td>0.931171</td>\n",
       "    </tr>\n",
       "    <tr>\n",
       "      <th>4</th>\n",
       "      <td>0.010823</td>\n",
       "      <td>0.989177</td>\n",
       "    </tr>\n",
       "    <tr>\n",
       "      <th>...</th>\n",
       "      <td>...</td>\n",
       "      <td>...</td>\n",
       "    </tr>\n",
       "    <tr>\n",
       "      <th>495</th>\n",
       "      <td>0.378571</td>\n",
       "      <td>0.621429</td>\n",
       "    </tr>\n",
       "    <tr>\n",
       "      <th>496</th>\n",
       "      <td>0.295044</td>\n",
       "      <td>0.704956</td>\n",
       "    </tr>\n",
       "    <tr>\n",
       "      <th>497</th>\n",
       "      <td>0.726738</td>\n",
       "      <td>0.273262</td>\n",
       "    </tr>\n",
       "    <tr>\n",
       "      <th>498</th>\n",
       "      <td>0.434290</td>\n",
       "      <td>0.565710</td>\n",
       "    </tr>\n",
       "    <tr>\n",
       "      <th>499</th>\n",
       "      <td>0.053058</td>\n",
       "      <td>0.946942</td>\n",
       "    </tr>\n",
       "  </tbody>\n",
       "</table>\n",
       "<p>500 rows × 2 columns</p>\n",
       "</div>"
      ],
      "text/plain": [
       "          0.0       1.0\n",
       "0    0.946550  0.053450\n",
       "1    0.970974  0.029026\n",
       "2    0.136194  0.863806\n",
       "3    0.068829  0.931171\n",
       "4    0.010823  0.989177\n",
       "..        ...       ...\n",
       "495  0.378571  0.621429\n",
       "496  0.295044  0.704956\n",
       "497  0.726738  0.273262\n",
       "498  0.434290  0.565710\n",
       "499  0.053058  0.946942\n",
       "\n",
       "[500 rows x 2 columns]"
      ]
     },
     "execution_count": 27,
     "metadata": {},
     "output_type": "execute_result"
    }
   ],
   "source": [
    "probs = gnb.predict_proba(test_x)\n",
    "probs =  pd.DataFrame(probs,columns=gnb.classes_)\n",
    "probs"
   ]
  },
  {
   "cell_type": "code",
   "execution_count": 28,
   "metadata": {},
   "outputs": [],
   "source": [
    "# Generate the False Positive Rate and True Positive Rate Given different thresholds\n",
    "fpr, tpr, thresholds = m.roc_curve(test_y, probs[1])"
   ]
  },
  {
   "cell_type": "code",
   "execution_count": 29,
   "metadata": {},
   "outputs": [
    {
     "data": {
      "image/png": "[encoded data removed]",
      "text/plain": [
       "<Figure size 700x500 with 1 Axes>"
      ]
     },
     "metadata": {
      "needs_background": "light"
     },
     "output_type": "display_data"
    },
    {
     "data": {
      "text/plain": [
       "<ggplot: (-9223363242422447791)>"
      ]
     },
     "execution_count": 29,
     "metadata": {},
     "output_type": "execute_result"
    }
   ],
   "source": [
    "# Plot the ROC Curve\n",
    "( \n",
    "    ggplot(pd.DataFrame(dict(fpr=fpr,tpr=tpr)),\n",
    "           aes(x=\"fpr\",y=\"tpr\")) +\n",
    "    geom_path(color=\"steelblue\",size=1) +\n",
    "    geom_abline(intercept=0,slope=1,linetype=\"dashed\") +\n",
    "    theme_minimal() +\n",
    "    labs(title=\"ROC Curve\") +\n",
    "    theme(figure_size=(7,5))\n",
    ")"
   ]
  }
 ],
 "metadata": {
  "kernelspec": {
   "display_name": "Python 3 (ipykernel)",
   "language": "python",
   "name": "python3"
  },
  "language_info": {
   "codemirror_mode": {
    "name": "ipython",
    "version": 3
   },
   "file_extension": ".py",
   "mimetype": "text/x-python",
   "name": "python",
   "nbconvert_exporter": "python",
   "pygments_lexer": "ipython3",
   "version": "3.9.7"
  },
  "toc": {
   "base_numbering": 1,
   "nav_menu": {},
   "number_sections": false,
   "sideBar": true,
   "skip_h1_title": false,
   "title_cell": "Table of Contents",
   "title_sidebar": "Contents",
   "toc_cell": false,
   "toc_position": {
    "height": "calc(100% - 180px)",
    "left": "10px",
    "top": "150px",
    "width": "307.2px"
   },
   "toc_section_display": true,
   "toc_window_display": true
  }
 },
 "nbformat": 4,
 "nbformat_minor": 2
}
