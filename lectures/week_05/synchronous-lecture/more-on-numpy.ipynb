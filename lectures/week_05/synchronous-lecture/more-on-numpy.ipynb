{
 "cells": [
  {
   "cell_type": "markdown",
   "metadata": {},
   "source": [
    "<h1><center> PPOL564 - Data Science I: Foundations <br><br><font color='grey'> More on Numpy</font></center><h1>"
   ]
  },
  {
   "cell_type": "markdown",
   "metadata": {},
   "source": [
    "**In this Notebook we cover**\n",
    "\n",
    "- Stacking \n",
    "- Broadcasting\n",
    "- Vectorization \n",
    "- Handling Multiple Data Types in `numpy` arrays"
   ]
  },
  {
   "cell_type": "code",
   "execution_count": 2,
   "metadata": {},
   "outputs": [],
   "source": [
    "import numpy as np \n",
    "import math"
   ]
  },
  {
   "cell_type": "markdown",
   "metadata": {},
   "source": [
    "## Stacking"
   ]
  },
  {
   "cell_type": "markdown",
   "metadata": {},
   "source": [
    "We can easily stack and grow numpy arrays"
   ]
  },
  {
   "cell_type": "code",
   "execution_count": 4,
   "metadata": {},
   "outputs": [],
   "source": [
    "m1 = np.random.randn(10).reshape(5,-1).round(1)\n",
    "m2 = np.random.poisson(1,10).reshape(5,-1)"
   ]
  },
  {
   "cell_type": "code",
   "execution_count": 5,
   "metadata": {},
   "outputs": [
    {
     "data": {
      "text/plain": [
       "array([[-0.6,  0.1],\n",
       "       [-1.1,  0.2],\n",
       "       [ 0.1,  0.4],\n",
       "       [-0.6, -1.5],\n",
       "       [-0.2, -0.1]])"
      ]
     },
     "execution_count": 5,
     "metadata": {},
     "output_type": "execute_result"
    }
   ],
   "source": [
    "m1"
   ]
  },
  {
   "cell_type": "code",
   "execution_count": 6,
   "metadata": {},
   "outputs": [
    {
     "data": {
      "text/plain": [
       "array([[2, 1],\n",
       "       [0, 1],\n",
       "       [2, 0],\n",
       "       [0, 1],\n",
       "       [1, 2]])"
      ]
     },
     "execution_count": 6,
     "metadata": {},
     "output_type": "execute_result"
    }
   ],
   "source": [
    "m2"
   ]
  },
  {
   "cell_type": "markdown",
   "metadata": {},
   "source": [
    "#### `rbind`: binding row"
   ]
  },
  {
   "cell_type": "code",
   "execution_count": 9,
   "metadata": {},
   "outputs": [
    {
     "data": {
      "text/plain": [
       "array([[-0.6,  0.1],\n",
       "       [-1.1,  0.2],\n",
       "       [ 0.1,  0.4],\n",
       "       [-0.6, -1.5],\n",
       "       [-0.2, -0.1],\n",
       "       [ 2. ,  1. ],\n",
       "       [ 0. ,  1. ],\n",
       "       [ 2. ,  0. ],\n",
       "       [ 0. ,  1. ],\n",
       "       [ 1. ,  2. ]])"
      ]
     },
     "execution_count": 9,
     "metadata": {},
     "output_type": "execute_result"
    }
   ],
   "source": [
    "# stack the two columns using concatenate\n",
    "np.concatenate([m1,m2],axis=0)"
   ]
  },
  {
   "cell_type": "code",
   "execution_count": 10,
   "metadata": {},
   "outputs": [
    {
     "data": {
      "text/plain": [
       "array([[-0.6,  0.1],\n",
       "       [-1.1,  0.2],\n",
       "       [ 0.1,  0.4],\n",
       "       [-0.6, -1.5],\n",
       "       [-0.2, -0.1],\n",
       "       [ 2. ,  1. ],\n",
       "       [ 0. ,  1. ],\n",
       "       [ 2. ,  0. ],\n",
       "       [ 0. ,  1. ],\n",
       "       [ 1. ,  2. ]])"
      ]
     },
     "execution_count": 10,
     "metadata": {},
     "output_type": "execute_result"
    }
   ],
   "source": [
    "# or use verticle stack\n",
    "np.vstack([m1,m2])"
   ]
  },
  {
   "cell_type": "markdown",
   "metadata": {},
   "source": [
    "#### `cbind`: binding columns"
   ]
  },
  {
   "cell_type": "code",
   "execution_count": 11,
   "metadata": {},
   "outputs": [
    {
     "data": {
      "text/plain": [
       "array([[-0.6,  0.1,  2. ,  1. ],\n",
       "       [-1.1,  0.2,  0. ,  1. ],\n",
       "       [ 0.1,  0.4,  2. ,  0. ],\n",
       "       [-0.6, -1.5,  0. ,  1. ],\n",
       "       [-0.2, -0.1,  1. ,  2. ]])"
      ]
     },
     "execution_count": 11,
     "metadata": {},
     "output_type": "execute_result"
    }
   ],
   "source": [
    "np.concatenate([m1,m2],axis=1)"
   ]
  },
  {
   "cell_type": "code",
   "execution_count": 15,
   "metadata": {},
   "outputs": [
    {
     "data": {
      "text/plain": [
       "array([[-0.6,  0.1,  2. ,  1. ],\n",
       "       [-1.1,  0.2,  0. ,  1. ],\n",
       "       [ 0.1,  0.4,  2. ,  0. ],\n",
       "       [-0.6, -1.5,  0. ,  1. ],\n",
       "       [-0.2, -0.1,  1. ,  2. ]])"
      ]
     },
     "execution_count": 15,
     "metadata": {},
     "output_type": "execute_result"
    }
   ],
   "source": [
    "M = np.hstack([m1,m2])\n",
    "M"
   ]
  },
  {
   "cell_type": "markdown",
   "metadata": {},
   "source": [
    "## Views vs. Copies"
   ]
  },
  {
   "cell_type": "markdown",
   "metadata": {},
   "source": [
    "Note that when we slice an array we **_do not copy the array_**, rather we get a \"**view**\" of the array. "
   ]
  },
  {
   "cell_type": "code",
   "execution_count": 16,
   "metadata": {},
   "outputs": [
    {
     "data": {
      "text/plain": [
       "[1, 2, 100]"
      ]
     },
     "execution_count": 16,
     "metadata": {},
     "output_type": "execute_result"
    }
   ],
   "source": [
    "# Recall the behavior of double assignment with lists\n",
    "x = [1,2,3]\n",
    "y = x\n",
    "y[2] = 100\n",
    "x"
   ]
  },
  {
   "cell_type": "code",
   "execution_count": 17,
   "metadata": {},
   "outputs": [
    {
     "data": {
      "text/plain": [
       "[1, 2, 100]"
      ]
     },
     "execution_count": 17,
     "metadata": {},
     "output_type": "execute_result"
    }
   ],
   "source": [
    "# We can get around this behavior by making copies. \n",
    "# One way to make a copy is to slice\n",
    "y = x[:]\n",
    "y[2] = -999\n",
    "x"
   ]
  },
  {
   "cell_type": "markdown",
   "metadata": {},
   "source": [
    "When we slice an array, we get a sub-\"view\" of the data that still effects the original data object."
   ]
  },
  {
   "cell_type": "code",
   "execution_count": 18,
   "metadata": {},
   "outputs": [
    {
     "data": {
      "text/plain": [
       "array([[1., 1., 1., 1., 1.],\n",
       "       [1., 1., 1., 1., 1.],\n",
       "       [1., 1., 1., 1., 1.],\n",
       "       [1., 1., 1., 1., 1.],\n",
       "       [1., 1., 1., 1., 1.]])"
      ]
     },
     "execution_count": 18,
     "metadata": {},
     "output_type": "execute_result"
    }
   ],
   "source": [
    "P = np.ones((5,5))\n",
    "P"
   ]
  },
  {
   "cell_type": "code",
   "execution_count": 19,
   "metadata": {},
   "outputs": [
    {
     "data": {
      "text/plain": [
       "array([[1., 1.],\n",
       "       [1., 1.]])"
      ]
     },
     "execution_count": 19,
     "metadata": {},
     "output_type": "execute_result"
    }
   ],
   "source": [
    "g = P[:2,:2] \n",
    "g"
   ]
  },
  {
   "cell_type": "code",
   "execution_count": 20,
   "metadata": {},
   "outputs": [
    {
     "data": {
      "text/plain": [
       "array([[101., 101.],\n",
       "       [101., 101.]])"
      ]
     },
     "execution_count": 20,
     "metadata": {},
     "output_type": "execute_result"
    }
   ],
   "source": [
    "g += 100\n",
    "g"
   ]
  },
  {
   "cell_type": "code",
   "execution_count": 21,
   "metadata": {},
   "outputs": [
    {
     "data": {
      "text/plain": [
       "array([[101., 101.,   1.,   1.,   1.],\n",
       "       [101., 101.,   1.,   1.,   1.],\n",
       "       [  1.,   1.,   1.,   1.,   1.],\n",
       "       [  1.,   1.,   1.,   1.,   1.],\n",
       "       [  1.,   1.,   1.,   1.,   1.]])"
      ]
     },
     "execution_count": 21,
     "metadata": {},
     "output_type": "execute_result"
    }
   ],
   "source": [
    "P"
   ]
  },
  {
   "cell_type": "markdown",
   "metadata": {},
   "source": [
    "As [noted in the reading](https://jakevdp.github.io/PythonDataScienceHandbook/02.02-the-basics-of-numpy-arrays.html): \n",
    "\n",
    "> \"This **_default behavior is actually quite useful_**: it means that when we work with large datasets, we can access and process pieces of these datasets without the need to copy the underlying data buffer.\""
   ]
  },
  {
   "cell_type": "markdown",
   "metadata": {},
   "source": [
    "To get around this behavior, we again just need to make a `.copy()`. "
   ]
  },
  {
   "cell_type": "code",
   "execution_count": 22,
   "metadata": {},
   "outputs": [
    {
     "data": {
      "text/plain": [
       "array([[-899., -899.],\n",
       "       [-899., -899.]])"
      ]
     },
     "execution_count": 22,
     "metadata": {},
     "output_type": "execute_result"
    }
   ],
   "source": [
    "g2 = P[:2,:2].copy()\n",
    "g2 -= 1000\n",
    "g2"
   ]
  },
  {
   "cell_type": "code",
   "execution_count": 23,
   "metadata": {},
   "outputs": [
    {
     "data": {
      "text/plain": [
       "array([[101., 101.,   1.,   1.,   1.],\n",
       "       [101., 101.,   1.,   1.,   1.],\n",
       "       [  1.,   1.,   1.,   1.,   1.],\n",
       "       [  1.,   1.,   1.,   1.,   1.],\n",
       "       [  1.,   1.,   1.,   1.,   1.]])"
      ]
     },
     "execution_count": 23,
     "metadata": {},
     "output_type": "execute_result"
    }
   ],
   "source": [
    "P"
   ]
  },
  {
   "cell_type": "markdown",
   "metadata": {},
   "source": [
    "# Broadcasting "
   ]
  },
  {
   "cell_type": "markdown",
   "metadata": {},
   "source": [
    "**Broadcasting** makes it possible for operations to be performed on arrays of mismatched shapes.\n",
    "\n",
    "Broadcasting describes how numpy treats arrays with different shapes during arithmetic operations. Subject to certain constraints, the smaller array is \"broadcast\" across the larger array so that they have compatible shapes."
   ]
  },
  {
   "cell_type": "markdown",
   "metadata": {},
   "source": [
    "For example, say we have a numpy array of dimensions (5,1)"
   ]
  },
  {
   "cell_type": "markdown",
   "metadata": {},
   "source": [
    "$$ \n",
    "\\begin{bmatrix} 1\\\\2\\\\3\\\\4\\\\5\\end{bmatrix}\n",
    "$$"
   ]
  },
  {
   "cell_type": "markdown",
   "metadata": {},
   "source": [
    "Now say we wanted to add the values in this array by 5\n",
    "\n",
    "$$ \n",
    "\\begin{bmatrix} 1\\\\2\\\\3\\\\4\\\\5\\end{bmatrix} + 5\n",
    "$$"
   ]
  },
  {
   "cell_type": "markdown",
   "metadata": {},
   "source": [
    "Broadcasting \"pads\" the array of 5 (which is shape = 1,1), and extends it so that it has similar dimension to the larger array in which the computation is being performed.\n",
    "\n",
    "$$ \n",
    "\\begin{bmatrix} 1\\\\2\\\\3\\\\4\\\\5\\end{bmatrix} + \\begin{bmatrix} 5\\\\\\color{lightgrey}{5}\\\\\\color{lightgrey}{5}\\\\\\color{lightgrey}{5}\\\\\\color{lightgrey}{5}\\end{bmatrix}\n",
    "$$\n",
    "\n",
    "$$ \n",
    "\\begin{bmatrix} 1 + 5\\\\2 + 5\\\\3 + 5\\\\4 + 5\\\\5 + 5\\end{bmatrix} \n",
    "$$\n",
    "\n",
    "$$ \n",
    "\\begin{bmatrix} 6\\\\7\\\\8\\\\9\\\\10\\end{bmatrix} \n",
    "$$"
   ]
  },
  {
   "cell_type": "code",
   "execution_count": 24,
   "metadata": {},
   "outputs": [
    {
     "data": {
      "text/plain": [
       "array([ 6,  7,  8,  9, 10])"
      ]
     },
     "execution_count": 24,
     "metadata": {},
     "output_type": "execute_result"
    }
   ],
   "source": [
    "A = np.array([1,2,3,4,5])\n",
    "A + 5"
   ]
  },
  {
   "cell_type": "markdown",
   "metadata": {},
   "source": [
    "By 'broadcast', we mean that the smaller array is made to match the size of the larger array in order to allow for element-wise manipulations.\n",
    "\n",
    "### How it works:\n",
    "\n",
    "- Shapes of the two arrays are compared _element-wise_. \n",
    "- Dimensions are considered in reverse order, starting with the trailing dimensions, and working forward \n",
    "- We are stretching the smaller array by making copies of its elements. `numpy` does not actually duplicate the smaller array; instead, it makes computationally efficient use of existing structures in memory that achieve the same result.\n",
    "\n",
    "A general **Rule of thumb**: All corresponding dimension of the arrays must be compatible or one of the two dimensions is 1."
   ]
  },
  {
   "cell_type": "markdown",
   "metadata": {},
   "source": [
    "## Rules of Broadcasting"
   ]
  },
  {
   "cell_type": "markdown",
   "metadata": {},
   "source": [
    "Broadcasting in NumPy follows a strict set of rules to determine the interaction between the two arrays (from [reading](https://jakevdp.github.io/PythonDataScienceHandbook/02.05-computation-on-arrays-broadcasting.html)):\n",
    "\n",
    "\n",
    "### Rule 1\n",
    "> If the two arrays differ in their number of dimensions, the shape of the one with fewer dimensions is padded with ones on its leading (left) side.\n",
    "\n",
    "### Rule 2\n",
    "\n",
    "> If the shape of the two arrays does not match in any dimension, the array with shape equal to 1 in that dimension is stretched to match the other shape.\n",
    "\n",
    "### Rule 3 \n",
    "\n",
    "> If in any dimension the sizes disagree and neither is equal to 1, an error is raised."
   ]
  },
  {
   "cell_type": "markdown",
   "metadata": {},
   "source": [
    "#### Example 1"
   ]
  },
  {
   "cell_type": "code",
   "execution_count": 25,
   "metadata": {},
   "outputs": [
    {
     "data": {
      "text/plain": [
       "array([5, 6, 7])"
      ]
     },
     "execution_count": 25,
     "metadata": {},
     "output_type": "execute_result"
    }
   ],
   "source": [
    "np.arange(3) + 5"
   ]
  },
  {
   "cell_type": "markdown",
   "metadata": {},
   "source": [
    "$$\n",
    "\\texttt{np.arange(3)} = \\begin{bmatrix} 0&1&2\\end{bmatrix}\n",
    "$$\n",
    "\n",
    "<br> \n",
    "\n",
    "$$\n",
    "\\texttt{5}  = \\begin{bmatrix} 5 \\end{bmatrix}\n",
    "$$\n",
    "\n",
    "<br> \n",
    "\n",
    "$$\n",
    "\\begin{bmatrix} 0&1&2\\end{bmatrix} + \\begin{bmatrix} 5 & \\color{lightgrey}{5} & \\color{lightgrey}{5}\\end{bmatrix} = \\begin{bmatrix} 5 & 6 & 7\\end{bmatrix} \n",
    "$$"
   ]
  },
  {
   "cell_type": "markdown",
   "metadata": {},
   "source": [
    "#### Example 2"
   ]
  },
  {
   "cell_type": "code",
   "execution_count": 26,
   "metadata": {},
   "outputs": [
    {
     "data": {
      "text/plain": [
       "array([[1., 2., 3.],\n",
       "       [1., 2., 3.],\n",
       "       [1., 2., 3.]])"
      ]
     },
     "execution_count": 26,
     "metadata": {},
     "output_type": "execute_result"
    }
   ],
   "source": [
    "np.ones((3,3)) + np.arange(3)"
   ]
  },
  {
   "cell_type": "markdown",
   "metadata": {},
   "source": [
    "$$\n",
    "\\texttt{np.ones((3,3)) = }\\begin{bmatrix} 1 & 1 & 1\\\\ 1 & 1 & 1 \\\\ 1 & 1 & 1 \\end{bmatrix}\n",
    "$$\n",
    "\n",
    "<br>\n",
    "\n",
    "$$\n",
    "\\texttt{np.arange(3)} = \\begin{bmatrix} 0 & 1 & 2\\end{bmatrix} \n",
    "$$\n",
    "\n",
    "<br>\n",
    "\n",
    "$$\n",
    "\\begin{bmatrix} 1 & 1 & 1\\\\ 1 & 1 & 1 \\\\ 1 & 1 & 1 \\end{bmatrix} + \n",
    "\\begin{bmatrix} 0 & 1 & 2\\\\ \\color{lightgrey}{0} & \\color{lightgrey}{1} & \\color{lightgrey}{2} \\\\  \\color{lightgrey}{0} & \\color{lightgrey}{1} & \\color{lightgrey}{2}\\end{bmatrix}  = \n",
    "\\begin{bmatrix} 1 & 2 & 3\\\\ 1 & 2 & 3 \\\\ 1 & 2 & 3 \\end{bmatrix} \n",
    "$$"
   ]
  },
  {
   "cell_type": "markdown",
   "metadata": {},
   "source": [
    "#### Example 3"
   ]
  },
  {
   "cell_type": "code",
   "execution_count": 27,
   "metadata": {},
   "outputs": [
    {
     "data": {
      "text/plain": [
       "array([[0, 1, 2],\n",
       "       [1, 2, 3],\n",
       "       [2, 3, 4]])"
      ]
     },
     "execution_count": 27,
     "metadata": {},
     "output_type": "execute_result"
    }
   ],
   "source": [
    "np.arange(3).reshape(3,1) + np.arange(3)"
   ]
  },
  {
   "cell_type": "markdown",
   "metadata": {},
   "source": [
    "$$\n",
    "\\texttt{np.arange(3).reshape(3,1)} = \\begin{bmatrix} 0 \\\\ 1 \\\\ 2\\end{bmatrix} \n",
    "$$\n",
    "\n",
    "<br>\n",
    "\n",
    "$$\n",
    "\\texttt{np.arange(3)} = \\begin{bmatrix} 0 & 1 & 2\\end{bmatrix} \n",
    "$$\n",
    "\n",
    "<br>\n",
    "\n",
    "$$\n",
    "\\begin{bmatrix} 0 & \\color{lightgrey}{0} & \\color{lightgrey}{0} \\\\ 1 & \\color{lightgrey}{1} & \\color{lightgrey}{1} \\\\  2 & \\color{lightgrey}{2} & \\color{lightgrey}{2}\\end{bmatrix} +\n",
    "\\begin{bmatrix} 0 & 1 & 2\\\\ \\color{lightgrey}{0} & \\color{lightgrey}{1} & \\color{lightgrey}{2} \\\\  \\color{lightgrey}{0} & \\color{lightgrey}{1} & \\color{lightgrey}{2}\\end{bmatrix}  =\n",
    "\\begin{bmatrix} 0 & 1 & 2\\\\ 1 &2&3 \\\\ 2& 3 & 4\\end{bmatrix} \n",
    "$$\n"
   ]
  },
  {
   "cell_type": "markdown",
   "metadata": {},
   "source": [
    "#### Example 4\n",
    "\n",
    "Example of dimensional disagreement."
   ]
  },
  {
   "cell_type": "code",
   "execution_count": 28,
   "metadata": {},
   "outputs": [
    {
     "data": {
      "text/plain": [
       "array([[1., 1., 1., 1., 1., 1., 1.],\n",
       "       [1., 1., 1., 1., 1., 1., 1.],\n",
       "       [1., 1., 1., 1., 1., 1., 1.],\n",
       "       [1., 1., 1., 1., 1., 1., 1.]])"
      ]
     },
     "execution_count": 28,
     "metadata": {},
     "output_type": "execute_result"
    }
   ],
   "source": [
    "np.ones((4,7)) "
   ]
  },
  {
   "cell_type": "code",
   "execution_count": 29,
   "metadata": {},
   "outputs": [
    {
     "ename": "ValueError",
     "evalue": "operands could not be broadcast together with shapes (4,7) (5,9) ",
     "output_type": "error",
     "traceback": [
      "\u001b[0;31m---------------------------------------------------------------------------\u001b[0m",
      "\u001b[0;31mValueError\u001b[0m                                Traceback (most recent call last)",
      "\u001b[0;32m<ipython-input-29-46dcb0444846>\u001b[0m in \u001b[0;36m<module>\u001b[0;34m\u001b[0m\n\u001b[0;32m----> 1\u001b[0;31m \u001b[0mnp\u001b[0m\u001b[0;34m.\u001b[0m\u001b[0mones\u001b[0m\u001b[0;34m(\u001b[0m\u001b[0;34m(\u001b[0m\u001b[0;36m4\u001b[0m\u001b[0;34m,\u001b[0m\u001b[0;36m7\u001b[0m\u001b[0;34m)\u001b[0m\u001b[0;34m)\u001b[0m  \u001b[0;34m+\u001b[0m \u001b[0mnp\u001b[0m\u001b[0;34m.\u001b[0m\u001b[0mzeros\u001b[0m\u001b[0;34m(\u001b[0m \u001b[0;34m(\u001b[0m\u001b[0;36m5\u001b[0m\u001b[0;34m,\u001b[0m\u001b[0;36m9\u001b[0m\u001b[0;34m)\u001b[0m \u001b[0;34m)\u001b[0m\u001b[0;34m\u001b[0m\u001b[0m\n\u001b[0m",
      "\u001b[0;31mValueError\u001b[0m: operands could not be broadcast together with shapes (4,7) (5,9) "
     ]
    }
   ],
   "source": [
    "np.ones((4,7))  + np.zeros( (5,9) )"
   ]
  },
  {
   "cell_type": "code",
   "execution_count": 30,
   "metadata": {},
   "outputs": [
    {
     "data": {
      "text/plain": [
       "array([[1., 1., 1., 1., 1., 1., 1.],\n",
       "       [1., 1., 1., 1., 1., 1., 1.],\n",
       "       [1., 1., 1., 1., 1., 1., 1.],\n",
       "       [1., 1., 1., 1., 1., 1., 1.]])"
      ]
     },
     "execution_count": 30,
     "metadata": {},
     "output_type": "execute_result"
    }
   ],
   "source": [
    "np.ones((4,7))  + np.zeros( (1,7) )"
   ]
  },
  {
   "cell_type": "markdown",
   "metadata": {},
   "source": [
    "# Vectorization"
   ]
  },
  {
   "cell_type": "markdown",
   "metadata": {},
   "source": [
    "Similar to broadcasting, vectorization allows for simultaneous computation along all values in the array. "
   ]
  },
  {
   "cell_type": "code",
   "execution_count": 31,
   "metadata": {},
   "outputs": [
    {
     "data": {
      "text/plain": [
       "array([[9, 2, 2, 4, 9],\n",
       "       [4, 8, 8, 8, 4],\n",
       "       [3, 8, 8, 2, 5],\n",
       "       [4, 3, 9, 6, 1],\n",
       "       [9, 2, 9, 8, 5],\n",
       "       [2, 4, 8, 6, 3],\n",
       "       [1, 6, 7, 2, 3],\n",
       "       [8, 6, 1, 8, 3],\n",
       "       [4, 6, 2, 6, 7],\n",
       "       [1, 2, 6, 6, 4]])"
      ]
     },
     "execution_count": 31,
     "metadata": {},
     "output_type": "execute_result"
    }
   ],
   "source": [
    "X = np.random.randint(1,10,50).reshape(10,5)\n",
    "X"
   ]
  },
  {
   "cell_type": "code",
   "execution_count": 32,
   "metadata": {},
   "outputs": [
    {
     "data": {
      "text/plain": [
       "array([[2.19722458, 0.69314718, 0.69314718, 1.38629436, 2.19722458],\n",
       "       [1.38629436, 2.07944154, 2.07944154, 2.07944154, 1.38629436],\n",
       "       [1.09861229, 2.07944154, 2.07944154, 0.69314718, 1.60943791],\n",
       "       [1.38629436, 1.09861229, 2.19722458, 1.79175947, 0.        ],\n",
       "       [2.19722458, 0.69314718, 2.19722458, 2.07944154, 1.60943791],\n",
       "       [0.69314718, 1.38629436, 2.07944154, 1.79175947, 1.09861229],\n",
       "       [0.        , 1.79175947, 1.94591015, 0.69314718, 1.09861229],\n",
       "       [2.07944154, 1.79175947, 0.        , 2.07944154, 1.09861229],\n",
       "       [1.38629436, 1.79175947, 0.69314718, 1.79175947, 1.94591015],\n",
       "       [0.        , 0.69314718, 1.79175947, 1.79175947, 1.38629436]])"
      ]
     },
     "execution_count": 32,
     "metadata": {},
     "output_type": "execute_result"
    }
   ],
   "source": [
    "np.log(X)"
   ]
  },
  {
   "cell_type": "markdown",
   "metadata": {},
   "source": [
    "The computations are performed on each element in the array _simultaneously_. \n",
    "\n",
    "> \"When looping over an array or any data structure in Python, there’s a lot of overhead involved. Vectorized operations in `numpy` delegate the looping internally to highly optimized `C` and `Fortran` functions, making for cleaner and faster Python code.\" - [RealPython](https://realpython.com/numpy-array-programming/)"
   ]
  },
  {
   "cell_type": "markdown",
   "metadata": {},
   "source": [
    "Again, let's consider what this same operation would need to look like if we were dealing with a nested list. We'd need to perform each operation element-by-element in the nested list structure. "
   ]
  },
  {
   "cell_type": "code",
   "execution_count": 33,
   "metadata": {
    "scrolled": true
   },
   "outputs": [
    {
     "data": {
      "text/plain": [
       "[[2.1972245773362196,\n",
       "  0.6931471805599453,\n",
       "  0.6931471805599453,\n",
       "  1.3862943611198906,\n",
       "  2.1972245773362196],\n",
       " [1.3862943611198906,\n",
       "  2.0794415416798357,\n",
       "  2.0794415416798357,\n",
       "  2.0794415416798357,\n",
       "  1.3862943611198906],\n",
       " [1.0986122886681098,\n",
       "  2.0794415416798357,\n",
       "  2.0794415416798357,\n",
       "  0.6931471805599453,\n",
       "  1.6094379124341003],\n",
       " [1.3862943611198906,\n",
       "  1.0986122886681098,\n",
       "  2.1972245773362196,\n",
       "  1.791759469228055,\n",
       "  0.0],\n",
       " [2.1972245773362196,\n",
       "  0.6931471805599453,\n",
       "  2.1972245773362196,\n",
       "  2.0794415416798357,\n",
       "  1.6094379124341003],\n",
       " [0.6931471805599453,\n",
       "  1.3862943611198906,\n",
       "  2.0794415416798357,\n",
       "  1.791759469228055,\n",
       "  1.0986122886681098],\n",
       " [0.0,\n",
       "  1.791759469228055,\n",
       "  1.9459101490553132,\n",
       "  0.6931471805599453,\n",
       "  1.0986122886681098],\n",
       " [2.0794415416798357,\n",
       "  1.791759469228055,\n",
       "  0.0,\n",
       "  2.0794415416798357,\n",
       "  1.0986122886681098],\n",
       " [1.3862943611198906,\n",
       "  1.791759469228055,\n",
       "  0.6931471805599453,\n",
       "  1.791759469228055,\n",
       "  1.9459101490553132],\n",
       " [0.0,\n",
       "  0.6931471805599453,\n",
       "  1.791759469228055,\n",
       "  1.791759469228055,\n",
       "  1.3862943611198906]]"
      ]
     },
     "execution_count": 33,
     "metadata": {},
     "output_type": "execute_result"
    }
   ],
   "source": [
    "X2 = X.tolist()\n",
    "n_rows = len(X2)\n",
    "n_cols = len(X2[0])\n",
    "for i in range(n_rows):\n",
    "    for j in range(n_cols):\n",
    "        X2[i][j] = math.log(X2[i][j])\n",
    "X2"
   ]
  },
  {
   "cell_type": "markdown",
   "metadata": {},
   "source": [
    "Vectorization frees us from this tedium. Moreover, it's extremely efficient so we can perform computations quickly.\n",
    "\n",
    "For example:"
   ]
  },
  {
   "cell_type": "code",
   "execution_count": 34,
   "metadata": {},
   "outputs": [
    {
     "data": {
      "text/plain": [
       "array([1, 2, 6, 7, 8])"
      ]
     },
     "execution_count": 34,
     "metadata": {},
     "output_type": "execute_result"
    }
   ],
   "source": [
    "# Locate the absolute value for an array\n",
    "np.abs([1,2,-6,7,8])"
   ]
  },
  {
   "cell_type": "code",
   "execution_count": 35,
   "metadata": {},
   "outputs": [
    {
     "data": {
      "text/plain": [
       "array([[2.2, 0.7, 0.7, 1.4, 2.2],\n",
       "       [1.4, 2.1, 2.1, 2.1, 1.4],\n",
       "       [1.1, 2.1, 2.1, 0.7, 1.6],\n",
       "       [1.4, 1.1, 2.2, 1.8, 0. ],\n",
       "       [2.2, 0.7, 2.2, 2.1, 1.6],\n",
       "       [0.7, 1.4, 2.1, 1.8, 1.1],\n",
       "       [0. , 1.8, 1.9, 0.7, 1.1],\n",
       "       [2.1, 1.8, 0. , 2.1, 1.1],\n",
       "       [1.4, 1.8, 0.7, 1.8, 1.9],\n",
       "       [0. , 0.7, 1.8, 1.8, 1.4]])"
      ]
     },
     "execution_count": 35,
     "metadata": {},
     "output_type": "execute_result"
    }
   ],
   "source": [
    "# Round Values to the k-th decimal point\n",
    "np.round(np.log(X),1)"
   ]
  },
  {
   "cell_type": "code",
   "execution_count": 36,
   "metadata": {},
   "outputs": [
    {
     "data": {
      "text/plain": [
       "3"
      ]
     },
     "execution_count": 36,
     "metadata": {},
     "output_type": "execute_result"
    }
   ],
   "source": [
    "# Count the number of non zeros\n",
    "np.count_nonzero(np.array([1,0,8,0,1]))"
   ]
  },
  {
   "cell_type": "markdown",
   "metadata": {},
   "source": [
    "Numpy comes baked in with a large number of `ufuncs` (or \"universal functions\") that are all vectorized. [See here for a detailed list of these operations.](https://docs.scipy.org/doc/numpy-1.13.0/reference/routines.math.html)"
   ]
  },
  {
   "cell_type": "markdown",
   "metadata": {},
   "source": [
    "## Vectorization across array dimensions\n",
    "\n",
    "The universal functions constructed in Python come with an `axis` argument that outlines how the function should be applied"
   ]
  },
  {
   "cell_type": "code",
   "execution_count": 37,
   "metadata": {},
   "outputs": [
    {
     "data": {
      "text/plain": [
       "array([[9, 7, 2, 7, 6],\n",
       "       [4, 4, 1, 9, 2],\n",
       "       [4, 3, 4, 9, 5],\n",
       "       [3, 1, 3, 2, 3],\n",
       "       [5, 8, 7, 8, 2],\n",
       "       [1, 5, 8, 2, 1],\n",
       "       [8, 6, 1, 1, 2],\n",
       "       [9, 6, 8, 7, 9],\n",
       "       [6, 9, 2, 8, 3],\n",
       "       [6, 8, 8, 7, 6],\n",
       "       [5, 3, 2, 1, 7],\n",
       "       [8, 2, 4, 4, 5],\n",
       "       [8, 6, 3, 6, 8],\n",
       "       [8, 7, 8, 7, 7],\n",
       "       [7, 8, 2, 4, 4],\n",
       "       [8, 8, 7, 5, 1],\n",
       "       [5, 9, 3, 5, 8],\n",
       "       [2, 6, 5, 4, 4],\n",
       "       [5, 4, 2, 3, 1],\n",
       "       [6, 7, 2, 7, 7]])"
      ]
     },
     "execution_count": 37,
     "metadata": {},
     "output_type": "execute_result"
    }
   ],
   "source": [
    "A = np.random.randint(1,10,100).reshape(20,5)\n",
    "A"
   ]
  },
  {
   "cell_type": "markdown",
   "metadata": {},
   "source": [
    "Consider calculating the average across some data set. By default, the ufunc `.mean()` will calculate the average for the entire data matrix."
   ]
  },
  {
   "cell_type": "code",
   "execution_count": 38,
   "metadata": {},
   "outputs": [
    {
     "data": {
      "text/plain": [
       "5.13"
      ]
     },
     "execution_count": 38,
     "metadata": {},
     "output_type": "execute_result"
    }
   ],
   "source": [
    "A.mean()"
   ]
  },
  {
   "cell_type": "markdown",
   "metadata": {},
   "source": [
    "If we wanted to calculate the mean for each observation (row) or variable (column), we'll need to use the `axis` argument to specify which. \n",
    "\n",
    "- `axis = 0` == move across the columns\n",
    "- `axis = 1` == move across the rows"
   ]
  },
  {
   "cell_type": "code",
   "execution_count": 39,
   "metadata": {},
   "outputs": [
    {
     "data": {
      "text/plain": [
       "array([5.85, 5.85, 4.1 , 5.3 , 4.55])"
      ]
     },
     "execution_count": 39,
     "metadata": {},
     "output_type": "execute_result"
    }
   ],
   "source": [
    "A.mean(axis=0)"
   ]
  },
  {
   "cell_type": "code",
   "execution_count": 40,
   "metadata": {},
   "outputs": [
    {
     "data": {
      "text/plain": [
       "array([6.2, 4. , 5. , 2.4, 6. , 3.4, 3.6, 7.8, 5.6, 7. , 3.6, 4.6, 6.2,\n",
       "       7.4, 5. , 5.8, 6. , 4.2, 3. , 5.8])"
      ]
     },
     "execution_count": 40,
     "metadata": {},
     "output_type": "execute_result"
    }
   ],
   "source": [
    "A.mean(axis=1)"
   ]
  },
  {
   "cell_type": "markdown",
   "metadata": {},
   "source": [
    "## Building vectorized functions"
   ]
  },
  {
   "cell_type": "markdown",
   "metadata": {},
   "source": [
    "Consider the following function that yields a different string when input `a` is larger/smaller than input `b`."
   ]
  },
  {
   "cell_type": "code",
   "execution_count": 41,
   "metadata": {},
   "outputs": [],
   "source": [
    "def bigsmall(a,b):\n",
    "    if a > b:\n",
    "        return \"A is larger\"\n",
    "    else:\n",
    "        return \"B is larger\""
   ]
  },
  {
   "cell_type": "code",
   "execution_count": 42,
   "metadata": {},
   "outputs": [
    {
     "data": {
      "text/plain": [
       "'B is larger'"
      ]
     },
     "execution_count": 42,
     "metadata": {},
     "output_type": "execute_result"
    }
   ],
   "source": [
    "bigsmall(5,6)"
   ]
  },
  {
   "cell_type": "code",
   "execution_count": 43,
   "metadata": {},
   "outputs": [
    {
     "data": {
      "text/plain": [
       "'A is larger'"
      ]
     },
     "execution_count": 43,
     "metadata": {},
     "output_type": "execute_result"
    }
   ],
   "source": [
    "bigsmall(6,5)"
   ]
  },
  {
   "cell_type": "markdown",
   "metadata": {},
   "source": [
    "We can implement this function in a vectorized fashion using the `np.vectorize()` method. "
   ]
  },
  {
   "cell_type": "code",
   "execution_count": 44,
   "metadata": {},
   "outputs": [
    {
     "data": {
      "text/plain": [
       "<numpy.vectorize at 0x7ffac01532b0>"
      ]
     },
     "execution_count": 44,
     "metadata": {},
     "output_type": "execute_result"
    }
   ],
   "source": [
    "# Create a vectorized version of the function\n",
    "vec_bigsmall = np.vectorize(bigsmall)\n",
    "vec_bigsmall "
   ]
  },
  {
   "cell_type": "code",
   "execution_count": 45,
   "metadata": {},
   "outputs": [
    {
     "data": {
      "text/plain": [
       "array(['B is larger', 'B is larger', 'B is larger', 'A is larger',\n",
       "       'B is larger'], dtype='<U11')"
      ]
     },
     "execution_count": 45,
     "metadata": {},
     "output_type": "execute_result"
    }
   ],
   "source": [
    "# And now implement on arrays of numbers!\n",
    "vec_bigsmall([0,2,5,7,0],[4,3,10,2,6])"
   ]
  },
  {
   "cell_type": "markdown",
   "metadata": {},
   "source": [
    "# Road to the DataFrame &rarr; Handling Multiple Data Types"
   ]
  },
  {
   "cell_type": "markdown",
   "metadata": {},
   "source": [
    "Out of the box, numpy arrays can only handle one data class at a time..."
   ]
  },
  {
   "cell_type": "code",
   "execution_count": 46,
   "metadata": {},
   "outputs": [
    {
     "data": {
      "text/plain": [
       "dtype('int64')"
      ]
     },
     "execution_count": 46,
     "metadata": {},
     "output_type": "execute_result"
    }
   ],
   "source": [
    "x = np.array([1,2,3,4])\n",
    "x.dtype                # examine the data type contained within "
   ]
  },
  {
   "cell_type": "markdown",
   "metadata": {},
   "source": [
    "And we can't necessarily change the data type on the fly by ducktyping (i.e. overwriting the data object with different types of values)."
   ]
  },
  {
   "cell_type": "code",
   "execution_count": 47,
   "metadata": {},
   "outputs": [
    {
     "data": {
      "text/plain": [
       "array([1, 0, 3, 4])"
      ]
     },
     "execution_count": 47,
     "metadata": {},
     "output_type": "execute_result"
    }
   ],
   "source": [
    "x[1] = .04\n",
    "x   "
   ]
  },
  {
   "cell_type": "code",
   "execution_count": 48,
   "metadata": {},
   "outputs": [
    {
     "ename": "ValueError",
     "evalue": "invalid literal for int() with base 10: 'this'",
     "output_type": "error",
     "traceback": [
      "\u001b[0;31m---------------------------------------------------------------------------\u001b[0m",
      "\u001b[0;31mValueError\u001b[0m                                Traceback (most recent call last)",
      "\u001b[0;32m<ipython-input-48-b16414e738a9>\u001b[0m in \u001b[0;36m<module>\u001b[0;34m\u001b[0m\n\u001b[0;32m----> 1\u001b[0;31m \u001b[0mx\u001b[0m\u001b[0;34m[\u001b[0m\u001b[0;36m1\u001b[0m\u001b[0;34m]\u001b[0m \u001b[0;34m=\u001b[0m \u001b[0;34m\"this\"\u001b[0m\u001b[0;34m\u001b[0m\u001b[0m\n\u001b[0m\u001b[1;32m      2\u001b[0m \u001b[0mx\u001b[0m\u001b[0;34m\u001b[0m\u001b[0m\n",
      "\u001b[0;31mValueError\u001b[0m: invalid literal for int() with base 10: 'this'"
     ]
    }
   ],
   "source": [
    "x[1] = \"this\"\n",
    "x"
   ]
  },
  {
   "cell_type": "markdown",
   "metadata": {},
   "source": [
    "To do this, we need to alter the data type of the data contained within the array with `.astype()`"
   ]
  },
  {
   "cell_type": "code",
   "execution_count": 49,
   "metadata": {},
   "outputs": [
    {
     "data": {
      "text/plain": [
       "array([1., 0., 3., 4.], dtype=float32)"
      ]
     },
     "execution_count": 49,
     "metadata": {},
     "output_type": "execute_result"
    }
   ],
   "source": [
    "x.astype('f')"
   ]
  },
  {
   "cell_type": "code",
   "execution_count": 50,
   "metadata": {},
   "outputs": [
    {
     "data": {
      "text/plain": [
       "array(['1', '0', '3', '4'], dtype='<U21')"
      ]
     },
     "execution_count": 50,
     "metadata": {},
     "output_type": "execute_result"
    }
   ],
   "source": [
    "x.astype('U')"
   ]
  },
  {
   "cell_type": "markdown",
   "metadata": {},
   "source": [
    "List of all data types and their conversions ([table drawn from reading](https://jakevdp.github.io/PythonDataScienceHandbook/02.09-structured-data-numpy.html))\n",
    "\n",
    "| Character | Description\t | Example  |\n",
    "|:-------:|:------------:|:--------:|\n",
    "| `b` | Byte | `np.dtype('b')` |\n",
    "| `i` | Signed integer | `np.dtype('i4') == np.int32`\n",
    "| `u` | Unsigned integer | `np.dtype('u1') == np.uint8`\n",
    "| `f` | Floating point | `np.dtype('f8') == np.int64`\n",
    "| `c` | Complex floating point | `np.dtype('c16') == np.complex128`\n",
    "| `S`, `a` | String | `np.dtype('S5')`\n",
    "| `U` | Unicode string | `np.dtype('U') == np.str_`\n",
    "| `V` | Raw data (void) | `np.dtype('V') == np.void`"
   ]
  },
  {
   "cell_type": "markdown",
   "metadata": {},
   "source": [
    "**This limitation extends itself to heterogeneous data types contained in the same array.**"
   ]
  },
  {
   "cell_type": "code",
   "execution_count": 51,
   "metadata": {},
   "outputs": [
    {
     "data": {
      "text/plain": [
       "[['a', 'b', 'c'], [1, 2, 3], [0.3, 0.55, 1.2]]"
      ]
     },
     "execution_count": 51,
     "metadata": {},
     "output_type": "execute_result"
    }
   ],
   "source": [
    "nested_list = [['a','b','c'],[1,2,3],[.3,.55,1.2]]\n",
    "nested_list"
   ]
  },
  {
   "cell_type": "code",
   "execution_count": 52,
   "metadata": {},
   "outputs": [
    {
     "data": {
      "text/plain": [
       "array([['a', '1', '0.3'],\n",
       "       ['b', '2', '0.55'],\n",
       "       ['c', '3', '1.2']], dtype='<U4')"
      ]
     },
     "execution_count": 52,
     "metadata": {},
     "output_type": "execute_result"
    }
   ],
   "source": [
    "data = np.array(nested_list).T\n",
    "data"
   ]
  },
  {
   "cell_type": "markdown",
   "metadata": {},
   "source": [
    "All the data in the matrix is treated as a string!"
   ]
  },
  {
   "cell_type": "markdown",
   "metadata": {},
   "source": [
    "### Structured Arrays\n",
    "To get around this, we need to again be explicit about the data type of each column. Here we pre-specify a data table and it's inputs."
   ]
  },
  {
   "cell_type": "code",
   "execution_count": 53,
   "metadata": {},
   "outputs": [
    {
     "data": {
      "text/plain": [
       "array([('', 0, 0.), ('', 0, 0.), ('', 0, 0.)],\n",
       "      dtype=[('v1', '<U5'), ('v2', '<i4'), ('v3', '<f4')])"
      ]
     },
     "execution_count": 53,
     "metadata": {},
     "output_type": "execute_result"
    }
   ],
   "source": [
    "data = np.zeros((3), dtype={'names':('v1', 'v2', 'v3'),\n",
    "                            'formats':('U5', 'i', 'f')})\n",
    "data"
   ]
  },
  {
   "cell_type": "markdown",
   "metadata": {},
   "source": [
    "We then load the data to the specified columns."
   ]
  },
  {
   "cell_type": "code",
   "execution_count": 54,
   "metadata": {},
   "outputs": [
    {
     "data": {
      "text/plain": [
       "array([('a', 1, 0.3 ), ('b', 2, 0.55), ('c', 3, 1.2 )],\n",
       "      dtype=[('v1', '<U5'), ('v2', '<i4'), ('v3', '<f4')])"
      ]
     },
     "execution_count": 54,
     "metadata": {},
     "output_type": "execute_result"
    }
   ],
   "source": [
    "data['v1'] = ['a','b','c']\n",
    "data['v2'] = [1,2,3]\n",
    "data['v3'] = [.3,.55,1.2]\n",
    "data"
   ]
  },
  {
   "cell_type": "markdown",
   "metadata": {},
   "source": [
    "We can then index, but will do so differently than we observed above. "
   ]
  },
  {
   "cell_type": "code",
   "execution_count": 55,
   "metadata": {},
   "outputs": [
    {
     "data": {
      "text/plain": [
       "array(['a', 'b', 'c'], dtype='<U5')"
      ]
     },
     "execution_count": 55,
     "metadata": {},
     "output_type": "execute_result"
    }
   ],
   "source": [
    "data['v1']"
   ]
  },
  {
   "cell_type": "code",
   "execution_count": 56,
   "metadata": {},
   "outputs": [
    {
     "data": {
      "text/plain": [
       "('b', 2)"
      ]
     },
     "execution_count": 56,
     "metadata": {},
     "output_type": "execute_result"
    }
   ],
   "source": [
    "data[1][['v1','v2']]"
   ]
  },
  {
   "cell_type": "markdown",
   "metadata": {},
   "source": [
    "Though possible to deal with heterogeneous data frames using `numpy`, there is a lot of overhead to constructing a data object. As such, we'll use `pandas` `Series` and `DataFrames` to deal with heterogeneous data with less hassle!"
   ]
  },
  {
   "cell_type": "markdown",
   "metadata": {},
   "source": [
    "# Miscellaneous"
   ]
  },
  {
   "cell_type": "markdown",
   "metadata": {},
   "source": [
    "### Printing Numpy Arrays\n",
    "\n",
    "np automatically truncates the data when printing. Handy when you have _alot_ of data"
   ]
  },
  {
   "cell_type": "code",
   "execution_count": null,
   "metadata": {},
   "outputs": [],
   "source": [
    "print(np.arange(10000).reshape(100,100))"
   ]
  },
  {
   "cell_type": "code",
   "execution_count": null,
   "metadata": {},
   "outputs": [],
   "source": [
    "# We can adjust these settings\n",
    "np.set_printoptions(threshold=None)\n",
    "print(np.arange(100).reshape(10,10))"
   ]
  },
  {
   "cell_type": "markdown",
   "metadata": {},
   "source": [
    "### Missing Values"
   ]
  },
  {
   "cell_type": "markdown",
   "metadata": {},
   "source": [
    "Numpy provides a data class for missing values (i.e. `nan` == \"Not a Number\", see [here](https://en.wikipedia.org/wiki/NaN))"
   ]
  },
  {
   "cell_type": "code",
   "execution_count": null,
   "metadata": {},
   "outputs": [],
   "source": [
    "Y = np.random.randint(1,10,25).reshape(5,5) + .0\n",
    "Y"
   ]
  },
  {
   "cell_type": "code",
   "execution_count": null,
   "metadata": {},
   "outputs": [],
   "source": [
    "Y[Y > 5] = np.nan\n",
    "Y"
   ]
  },
  {
   "cell_type": "code",
   "execution_count": null,
   "metadata": {},
   "outputs": [],
   "source": [
    "type(np.nan)"
   ]
  },
  {
   "cell_type": "code",
   "execution_count": null,
   "metadata": {},
   "outputs": [],
   "source": [
    "# scan for missing values\n",
    "np.isnan(Y)"
   ]
  },
  {
   "cell_type": "code",
   "execution_count": null,
   "metadata": {},
   "outputs": [],
   "source": [
    "~np.isnan(Y) # are not NAs"
   ]
  },
  {
   "cell_type": "markdown",
   "metadata": {},
   "source": [
    "When we have missing values, we'll run into issues when computing across the data matrix."
   ]
  },
  {
   "cell_type": "code",
   "execution_count": null,
   "metadata": {},
   "outputs": [],
   "source": [
    "np.mean(Y)"
   ]
  },
  {
   "cell_type": "markdown",
   "metadata": {},
   "source": [
    "To get around this, we need to use special version of the methods that compensate for the existence of `nan`."
   ]
  },
  {
   "cell_type": "code",
   "execution_count": null,
   "metadata": {},
   "outputs": [],
   "source": [
    "np.nanmean(Y)"
   ]
  },
  {
   "cell_type": "code",
   "execution_count": null,
   "metadata": {},
   "outputs": [],
   "source": [
    "np.nanmean(Y,axis=0)"
   ]
  },
  {
   "cell_type": "code",
   "execution_count": null,
   "metadata": {},
   "outputs": [],
   "source": [
    "# Mean impute the missing values\n",
    "Y[np.where(np.isnan(Y))] = np.nanmean(Y)\n",
    "Y"
   ]
  }
 ],
 "metadata": {
  "kernelspec": {
   "display_name": "Python 3",
   "language": "python",
   "name": "python3"
  },
  "language_info": {
   "codemirror_mode": {
    "name": "ipython",
    "version": 3
   },
   "file_extension": ".py",
   "mimetype": "text/x-python",
   "name": "python",
   "nbconvert_exporter": "python",
   "pygments_lexer": "ipython3",
   "version": "3.7.0"
  },
  "toc": {
   "base_numbering": 1,
   "nav_menu": {},
   "number_sections": false,
   "sideBar": true,
   "skip_h1_title": false,
   "title_cell": "Table of Contents",
   "title_sidebar": "Contents",
   "toc_cell": false,
   "toc_position": {
    "height": "982px",
    "left": "10px",
    "top": "150px",
    "width": "212px"
   },
   "toc_section_display": true,
   "toc_window_display": true
  }
 },
 "nbformat": 4,
 "nbformat_minor": 2
}
