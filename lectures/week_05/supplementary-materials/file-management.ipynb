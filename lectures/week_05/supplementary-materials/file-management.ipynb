{
 "cells": [
  {
   "cell_type": "markdown",
   "metadata": {},
   "source": [
    "<h1><center> PPOL564 - Data Science I: Foundations<br><br><font color='grey'> File Management </font> </center><h1>"
   ]
  },
  {
   "cell_type": "markdown",
   "metadata": {},
   "source": [
    "## Contents\n",
    "\n",
    "- connection management: `open()`, `close()`\n",
    "- Reading/writing files \n",
    "- using `with` to manage connections. \n",
    "- Reading `.csv`\n",
    "\n",
    "Note that two files are read in on this notebook. These files need to be in the same working directory as your notebook, else Python will not know where the files are on your computer. Please download the accompanying files (`news-story.txt` and `student_data.csv`) from the class website."
   ]
  },
  {
   "cell_type": "markdown",
   "metadata": {},
   "source": [
    "# Reading Files"
   ]
  },
  {
   "cell_type": "markdown",
   "metadata": {},
   "source": [
    "### `open()`\n",
    "\n",
    "Now, let's open this file in Python. \n",
    "\n",
    "The built-in `open()` function opens files on our system. The function takes the following arguments:\n",
    "\n",
    "- a file path\n",
    "- a mode describing how to treat the file (e.g. read the file, write to the file, append to the file, etc.). Default is read mode (\"r\").\n",
    "- an encoding. Default is \"UTF-8\" for most systems."
   ]
  },
  {
   "cell_type": "code",
   "execution_count": 1,
   "metadata": {},
   "outputs": [],
   "source": [
    "file = open(\"news-story.txt\",mode='rt',encoding='UTF-8')"
   ]
  },
  {
   "cell_type": "markdown",
   "metadata": {},
   "source": [
    "`open()` returns a special item type `_io.TextIOWrapper`. Note that a file-like-object is loosely defined in Python. Again, we see duck-typing in action: if it looks like a file and behave like a file then, heck, it's probably a file."
   ]
  },
  {
   "cell_type": "code",
   "execution_count": 2,
   "metadata": {
    "scrolled": true
   },
   "outputs": [
    {
     "data": {
      "text/plain": [
       "_io.TextIOWrapper"
      ]
     },
     "execution_count": 2,
     "metadata": {},
     "output_type": "execute_result"
    }
   ],
   "source": [
    "type(file)"
   ]
  },
  {
   "cell_type": "code",
   "execution_count": 3,
   "metadata": {},
   "outputs": [
    {
     "name": "stdout",
     "output_type": "stream",
     "text": [
      "Russian planes have reportedly bombed rebel-held targets in the Syrian province of Idlib, as government troops mass before an expected offensive.\n",
      "\n",
      "If confirmed, they would be the first such air strikes there in three weeks.\n",
      "\n",
      "Earlier, US President Donald Trump warned Syria's Bashar al-Assad against launching a \"reckless attack\" on Idlib.\n",
      "\n",
      "But Kremlin spokesman Dmitry Peskov rejected the warning and said the Syrian army was \"getting ready\" to clear a \"cradle of terrorism\" there.\n",
      "\n",
      "Five reasons why the battle for Idlib matters\n",
      "Why is there a war in Syria?\n",
      "Mr Peskov said the al Qaeda-linked jihadists dominating in the north-western province of Idlib were threatening Russian military bases in Syria and blocking a political solution to the civil war.\n",
      "\n",
      "The UN has warned of a humanitarian catastrophe if an all-out assault takes place.\n",
      "\n",
      "The UN envoy to Syria, Staffan de Mistura, called on Russia and Turkey to act urgently to avert \"a bloodbath\" in Idlib.\n",
      "\n",
      "He said telephone talks between Russian President Vladimir Putin and his Turkish counterpart Regep Tayyip Erdogan \"would make a big difference\".\n",
      "\n",
      "Mr de Mistura also welcomed Mr Trump's comments on the issue, saying it was sending \"the right message\".\n",
      "\n",
      "\n",
      "\n"
     ]
    }
   ],
   "source": [
    "print(file.read())"
   ]
  },
  {
   "cell_type": "code",
   "execution_count": 4,
   "metadata": {},
   "outputs": [
    {
     "name": "stdout",
     "output_type": "stream",
     "text": [
      "\n"
     ]
    }
   ],
   "source": [
    "print(file.read()) # Once we've read through the items, the file object is empty"
   ]
  },
  {
   "cell_type": "markdown",
   "metadata": {},
   "source": [
    "----\n",
    "### `close()`\n",
    "\n",
    "Once we are done with a file, we need to close it."
   ]
  },
  {
   "cell_type": "code",
   "execution_count": 5,
   "metadata": {},
   "outputs": [],
   "source": [
    "file.close()"
   ]
  },
  {
   "cell_type": "markdown",
   "metadata": {},
   "source": [
    "Opening and forgetting to close files can lead to a bunch of issues --- mainly the mismanagement of computational resources on your machine. \n",
    "\n",
    "Moreover, `close()` is necessary for actually writing files to our computer"
   ]
  },
  {
   "cell_type": "markdown",
   "metadata": {},
   "source": [
    "___\n",
    "### Methods available when reading in files\n",
    "\n",
    "**<center>Methods in object type `TextIOWrapper`</center>**\n",
    "\n",
    "| Method  | Description |\n",
    "|:---------:|:---------:|\n",
    "|**`._CHUNK_SIZE()`**| int([x]) -> integer int(x, base=10) -> integer|\n",
    "|**`._finalizing()`**| bool(x) -> bool|\n",
    "|**`.buffer()`**| Create a new buffered reader using the given readable raw IO object.|\n",
    "|**`.closed()`**| bool(x) -> bool|\n",
    "|**`.encoding()`**| str(object='') -> str str(bytes_or_buffer[, encoding[, errors]]) -> str|\n",
    "|**`.errors()`**| str(object='') -> str str(bytes_or_buffer[, encoding[, errors]]) -> str|\n",
    "|**`.line_buffering()`**| bool(x) -> bool|\n",
    "|**`.mode()`**| str(object='') -> str str(bytes_or_buffer[, encoding[, errors]]) -> str|\n",
    "|**`.name()`**| str(object='') -> str str(bytes_or_buffer[, encoding[, errors]]) -> str|\n",
    "|**`.readlines()`**| Return a list of lines from the stream.|\n",
    "|**`.reconfigure()`**| Reconfigure the text stream with new parameters.|\n",
    "|**`.write_through()`**| bool(x) -> bool|"
   ]
  },
  {
   "cell_type": "code",
   "execution_count": 6,
   "metadata": {},
   "outputs": [
    {
     "data": {
      "text/plain": [
       "['Russian planes have reportedly bombed rebel-held targets in the Syrian province of Idlib, as government troops mass before an expected offensive.\\n',\n",
       " '\\n',\n",
       " 'If confirmed, they would be the first such air strikes there in three weeks.\\n',\n",
       " '\\n',\n",
       " 'Earlier, US President Donald Trump warned Syria\\'s Bashar al-Assad against launching a \"reckless attack\" on Idlib.\\n',\n",
       " '\\n',\n",
       " 'But Kremlin spokesman Dmitry Peskov rejected the warning and said the Syrian army was \"getting ready\" to clear a \"cradle of terrorism\" there.\\n',\n",
       " '\\n',\n",
       " 'Five reasons why the battle for Idlib matters\\n',\n",
       " 'Why is there a war in Syria?\\n',\n",
       " 'Mr Peskov said the al Qaeda-linked jihadists dominating in the north-western province of Idlib were threatening Russian military bases in Syria and blocking a political solution to the civil war.\\n',\n",
       " '\\n',\n",
       " 'The UN has warned of a humanitarian catastrophe if an all-out assault takes place.\\n',\n",
       " '\\n',\n",
       " 'The UN envoy to Syria, Staffan de Mistura, called on Russia and Turkey to act urgently to avert \"a bloodbath\" in Idlib.\\n',\n",
       " '\\n',\n",
       " 'He said telephone talks between Russian President Vladimir Putin and his Turkish counterpart Regep Tayyip Erdogan \"would make a big difference\".\\n',\n",
       " '\\n',\n",
       " 'Mr de Mistura also welcomed Mr Trump\\'s comments on the issue, saying it was sending \"the right message\".\\n',\n",
       " '\\n',\n",
       " '\\n']"
      ]
     },
     "execution_count": 6,
     "metadata": {},
     "output_type": "execute_result"
    }
   ],
   "source": [
    "file = open(\"news-story.txt\",mode='rt',encoding='UTF-8')\n",
    "file.readlines() # convert all items to a list"
   ]
  },
  {
   "cell_type": "code",
   "execution_count": 7,
   "metadata": {},
   "outputs": [
    {
     "data": {
      "text/plain": [
       "False"
      ]
     },
     "execution_count": 7,
     "metadata": {},
     "output_type": "execute_result"
    }
   ],
   "source": [
    "# Is the file closed?\n",
    "file.closed"
   ]
  },
  {
   "cell_type": "markdown",
   "metadata": {},
   "source": [
    "-----\n",
    "\n",
    "### File `mode`s"
   ]
  },
  {
   "cell_type": "markdown",
   "metadata": {},
   "source": [
    "|Mode|Description|\n",
    "|---|-------|\n",
    "| r | \"open for reading\" default|\n",
    "|w | open for writing |\n",
    "|x  | open for exclusive creation, failing if the file already exists |\n",
    "|a | open for writing, appending to the end of the file if it exists |\n",
    "|b | binary mode |\n",
    "|t | text mode (default) |\n",
    "\n",
    "Examples,\n",
    "\n",
    "- `mode = 'rb'` &rarr; \"read binary\"\n",
    "- `mode = 'wt'` &rarr; \"write text\""
   ]
  },
  {
   "cell_type": "code",
   "execution_count": 8,
   "metadata": {},
   "outputs": [
    {
     "name": "stdout",
     "output_type": "stream",
     "text": [
      "rt\n"
     ]
    }
   ],
   "source": [
    "f = open('news-story.txt',mode=\"rt\",encoding='utf-8')\n",
    "\n",
    "# Print the mode\n",
    "print(f.mode)\n",
    "\n",
    "f.close()"
   ]
  },
  {
   "cell_type": "markdown",
   "metadata": {},
   "source": [
    "----\n",
    "### Writing files"
   ]
  },
  {
   "cell_type": "code",
   "execution_count": 9,
   "metadata": {},
   "outputs": [],
   "source": [
    "f = open('text_file.txt',mode=\"wt\",encoding='utf-8')\n",
    "f.write('This is an example\\n') \n",
    "f.write('Of writing a file...\\n')\n",
    "f.write('Neat!\\n')\n",
    "f.close()"
   ]
  },
  {
   "cell_type": "markdown",
   "metadata": {},
   "source": [
    "> **NOTE that you _must_ `close()` for your lines to be written to the file**"
   ]
  },
  {
   "cell_type": "markdown",
   "metadata": {},
   "source": [
    "Now, read the file back in in \"read mode\""
   ]
  },
  {
   "cell_type": "code",
   "execution_count": 10,
   "metadata": {},
   "outputs": [
    {
     "name": "stdout",
     "output_type": "stream",
     "text": [
      "This is an example\n",
      "Of writing a file...\n",
      "Neat!\n",
      "\n"
     ]
    }
   ],
   "source": [
    "f = open('text_file.txt',mode=\"rt\",encoding='utf-8')\n",
    "print(f.read())"
   ]
  },
  {
   "cell_type": "markdown",
   "metadata": {},
   "source": [
    "We can even batch write using a container."
   ]
  },
  {
   "cell_type": "code",
   "execution_count": 11,
   "metadata": {},
   "outputs": [
    {
     "name": "stdout",
     "output_type": "stream",
     "text": [
      "['This', 'is', 'a', 'sentence.']\n"
     ]
    }
   ],
   "source": [
    "sent = \"This is a sentence.\".split()\n",
    "print(sent)"
   ]
  },
  {
   "cell_type": "code",
   "execution_count": 12,
   "metadata": {},
   "outputs": [],
   "source": [
    "# Note here I'm opening the file in \"append mode\"\n",
    "f = open('text_file.txt',mode=\"at\",encoding='utf-8')\n",
    "f.writelines(sent)\n",
    "f.close()"
   ]
  },
  {
   "cell_type": "code",
   "execution_count": 13,
   "metadata": {},
   "outputs": [
    {
     "name": "stdout",
     "output_type": "stream",
     "text": [
      "This is an example\n",
      "Of writing a file...\n",
      "Neat!\n",
      "Thisisasentence.\n"
     ]
    }
   ],
   "source": [
    "f = open('text_file.txt',mode=\"rt\",encoding='utf-8')\n",
    "print(f.read())"
   ]
  },
  {
   "cell_type": "markdown",
   "metadata": {},
   "source": [
    "Note that `\\n` is the delimiter for line breaks."
   ]
  },
  {
   "cell_type": "code",
   "execution_count": 14,
   "metadata": {},
   "outputs": [
    {
     "name": "stdout",
     "output_type": "stream",
     "text": [
      "['This\\n', 'is\\n', 'a\\n', 'sentence.\\n']\n"
     ]
    }
   ],
   "source": [
    "sent2 = []\n",
    "for word in sent:\n",
    "    new_word = word + \"\\n\"\n",
    "    sent2.append(new_word)\n",
    "print(sent2)"
   ]
  },
  {
   "cell_type": "code",
   "execution_count": 15,
   "metadata": {},
   "outputs": [
    {
     "name": "stdout",
     "output_type": "stream",
     "text": [
      "This is an example\n",
      "Of writing a file...\n",
      "Neat!\n",
      "Thisisasentence.This\n",
      "is\n",
      "a\n",
      "sentence.\n",
      "\n"
     ]
    }
   ],
   "source": [
    "# Open the file, and write our new sentence list object\n",
    "f = open('text_file.txt',mode=\"at\",encoding='utf-8')\n",
    "f.writelines(sent2)\n",
    "f.close()\n",
    "\n",
    "f = open('text_file.txt',mode=\"rt\",encoding='utf-8')\n",
    "print(f.read())"
   ]
  },
  {
   "cell_type": "markdown",
   "metadata": {},
   "source": [
    "---\n",
    "### Iterating over files\n",
    "We'll note when looking at the object's attributes that there is an `__iter__()` and `__next__()` method, meaning we can iterate over the open file object."
   ]
  },
  {
   "cell_type": "code",
   "execution_count": 16,
   "metadata": {},
   "outputs": [
    {
     "name": "stdout",
     "output_type": "stream",
     "text": [
      "Russian planes have reportedly bombed rebel-held targets in the Syrian province of Idlib, as government troops mass before an expected offensive.\n",
      "\n",
      "\n",
      "\n",
      "If confirmed, they would be the first such air strikes there in three weeks.\n",
      "\n",
      "\n",
      "\n",
      "Earlier, US President Donald Trump warned Syria's Bashar al-Assad against launching a \"reckless attack\" on Idlib.\n",
      "\n",
      "\n",
      "\n",
      "But Kremlin spokesman Dmitry Peskov rejected the warning and said the Syrian army was \"getting ready\" to clear a \"cradle of terrorism\" there.\n",
      "\n",
      "\n",
      "\n",
      "Five reasons why the battle for Idlib matters\n",
      "\n",
      "Why is there a war in Syria?\n",
      "\n",
      "Mr Peskov said the al Qaeda-linked jihadists dominating in the north-western province of Idlib were threatening Russian military bases in Syria and blocking a political solution to the civil war.\n",
      "\n",
      "\n",
      "\n",
      "The UN has warned of a humanitarian catastrophe if an all-out assault takes place.\n",
      "\n",
      "\n",
      "\n",
      "The UN envoy to Syria, Staffan de Mistura, called on Russia and Turkey to act urgently to avert \"a bloodbath\" in Idlib.\n",
      "\n",
      "\n",
      "\n",
      "He said telephone talks between Russian President Vladimir Putin and his Turkish counterpart Regep Tayyip Erdogan \"would make a big difference\".\n",
      "\n",
      "\n",
      "\n",
      "Mr de Mistura also welcomed Mr Trump's comments on the issue, saying it was sending \"the right message\".\n",
      "\n",
      "\n",
      "\n",
      "\n",
      "\n"
     ]
    }
   ],
   "source": [
    "file = open(\"news-story.txt\",mode='rt',encoding='UTF-8')\n",
    "for line in file:\n",
    "    print(line)\n",
    "file.close()"
   ]
  },
  {
   "cell_type": "code",
   "execution_count": 17,
   "metadata": {},
   "outputs": [
    {
     "name": "stdout",
     "output_type": "stream",
     "text": [
      "Russian planes have reportedly bombed rebel-held targets in the Syrian province of Idlib, as government troops mass before an expected offensive.\n",
      "\n",
      "If confirmed, they would be the first such air strikes there in three weeks.\n",
      "\n",
      "Earlier, US President Donald Trump warned Syria's Bashar al-Assad against launching a \"reckless attack\" on Idlib.\n",
      "\n",
      "But Kremlin spokesman Dmitry Peskov rejected the warning and said the Syrian army was \"getting ready\" to clear a \"cradle of terrorism\" there.\n",
      "\n",
      "Five reasons why the battle for Idlib matters\n",
      "\n",
      "Why is there a war in Syria?\n",
      "\n",
      "Mr Peskov said the al Qaeda-linked jihadists dominating in the north-western province of Idlib were threatening Russian military bases in Syria and blocking a political solution to the civil war.\n",
      "\n",
      "The UN has warned of a humanitarian catastrophe if an all-out assault takes place.\n",
      "\n",
      "The UN envoy to Syria, Staffan de Mistura, called on Russia and Turkey to act urgently to avert \"a bloodbath\" in Idlib.\n",
      "\n",
      "He said telephone talks between Russian President Vladimir Putin and his Turkish counterpart Regep Tayyip Erdogan \"would make a big difference\".\n",
      "\n",
      "Mr de Mistura also welcomed Mr Trump's comments on the issue, saying it was sending \"the right message\".\n",
      "\n"
     ]
    }
   ],
   "source": [
    "file = open(\"news-story.txt\",mode='rt',encoding='UTF-8')\n",
    "for line in file:\n",
    "    if line == '\\n':\n",
    "        continue\n",
    "    print(line)        \n",
    "file.close()"
   ]
  },
  {
   "cell_type": "code",
   "execution_count": 18,
   "metadata": {},
   "outputs": [
    {
     "name": "stdout",
     "output_type": "stream",
     "text": [
      "21\n",
      "14\n",
      "16\n",
      "23\n",
      "8\n",
      "7\n",
      "30\n",
      "14\n",
      "22\n",
      "21\n",
      "18\n"
     ]
    }
   ],
   "source": [
    "# Example: How many words are in each line?\n",
    "\n",
    "file = open(\"news-story.txt\",mode='rt',encoding='UTF-8')\n",
    "\n",
    "for line in file:\n",
    "    if line == '\\n':\n",
    "        continue\n",
    "    n_words_per_line = len(line.split())\n",
    "    print(n_words_per_line)\n",
    "    \n",
    "file.close()"
   ]
  },
  {
   "cell_type": "markdown",
   "metadata": {},
   "source": [
    "--------\n",
    "\n",
    "### `with`: beyond opening and closing with context managers\n",
    "\n",
    "As you'll note, the need to `open()` and `close()` files can get a bit redundant after awhile. This issue of closing after opening to deal with resource cleanup is common enough that python has a special protocol for it: the `with` code block."
   ]
  },
  {
   "cell_type": "code",
   "execution_count": 19,
   "metadata": {},
   "outputs": [
    {
     "name": "stdout",
     "output_type": "stream",
     "text": [
      "21\n",
      "14\n",
      "16\n",
      "23\n",
      "8\n",
      "7\n",
      "30\n",
      "14\n",
      "22\n",
      "21\n",
      "18\n"
     ]
    }
   ],
   "source": [
    "with open(\"news-story.txt\",mode='rt',encoding='UTF-8') as file:\n",
    "    for line in file:\n",
    "        if line == '\\n':\n",
    "            continue\n",
    "        n_words_per_line = len(line.split())\n",
    "        print(n_words_per_line)"
   ]
  },
  {
   "cell_type": "code",
   "execution_count": 20,
   "metadata": {},
   "outputs": [
    {
     "data": {
      "text/plain": [
       "True"
      ]
     },
     "execution_count": 20,
     "metadata": {},
     "output_type": "execute_result"
    }
   ],
   "source": [
    "file.closed"
   ]
  },
  {
   "cell_type": "markdown",
   "metadata": {},
   "source": [
    "---\n",
    "## Reading Comma Separated Values (CSV)\n",
    "\n",
    "See the [python documentation](https://docs.python.org/2/library/csv.html) for more on the `csv` module located in the standard library."
   ]
  },
  {
   "cell_type": "code",
   "execution_count": 21,
   "metadata": {},
   "outputs": [],
   "source": [
    "import csv"
   ]
  },
  {
   "cell_type": "markdown",
   "metadata": {},
   "source": [
    "Reading in .csv data "
   ]
  },
  {
   "cell_type": "code",
   "execution_count": 22,
   "metadata": {},
   "outputs": [
    {
     "name": "stdout",
     "output_type": "stream",
     "text": [
      "['Student', 'Grade']\n",
      "['Susan', 'A']\n",
      "['Sean', 'B-']\n",
      "['Cody', 'A-']\n",
      "['Karen', 'B+']\n"
     ]
    }
   ],
   "source": [
    "with open(\"student_data.csv\",mode='rt') as file:\n",
    "    data = csv.reader(file)\n",
    "    for row in data:\n",
    "        print(row)"
   ]
  },
  {
   "cell_type": "code",
   "execution_count": 23,
   "metadata": {},
   "outputs": [
    {
     "data": {
      "text/plain": [
       "[['Student', 'Grade'],\n",
       " ['Susan', 'A'],\n",
       " ['Sean', 'B-'],\n",
       " ['Cody', 'A-'],\n",
       " ['Karen', 'B+']]"
      ]
     },
     "execution_count": 23,
     "metadata": {},
     "output_type": "execute_result"
    }
   ],
   "source": [
    "with open(\"student_data.csv\",mode='rt') as file:\n",
    "    data = csv.reader(file)\n",
    "    output = [row for row in data]\n",
    "output"
   ]
  },
  {
   "cell_type": "markdown",
   "metadata": {},
   "source": [
    "Writing csv data"
   ]
  },
  {
   "cell_type": "code",
   "execution_count": 24,
   "metadata": {},
   "outputs": [],
   "source": [
    "# Student data as a nested list.\n",
    "student_data = [[\"Student\",\"Grade\"],\n",
    "                [\"Susan\",\"A\"],\n",
    "                [\"Sean\",\"B-\"],\n",
    "                [\"Cody\",\"A-\"],\n",
    "                [\"Karen\",'B+']]\n",
    "\n",
    "# Write the rows with the .writerows() method\n",
    "with open(\"student_data.csv\",mode='w') as file:\n",
    "    csv_file = csv.writer(file)\n",
    "    csv_file.writerows(student_data)"
   ]
  },
  {
   "cell_type": "markdown",
   "metadata": {},
   "source": [
    "### Reading csv files as dictionaries\n",
    "\n",
    "Assigning value to variables by using `DictReader()`/`DictWriter()` method. Here our variable names operate as keys that we can easily reference. "
   ]
  },
  {
   "cell_type": "code",
   "execution_count": 25,
   "metadata": {},
   "outputs": [
    {
     "name": "stdout",
     "output_type": "stream",
     "text": [
      "OrderedDict([('Student', 'Susan'), ('Grade', 'A')])\n",
      "OrderedDict([('Student', 'Sean'), ('Grade', 'B-')])\n",
      "OrderedDict([('Student', 'Cody'), ('Grade', 'A-')])\n",
      "OrderedDict([('Student', 'Karen'), ('Grade', 'B+')])\n"
     ]
    }
   ],
   "source": [
    "with open(\"student_data.csv\", 'r') as file:\n",
    "    csv_file = csv.DictReader(file)\n",
    "    for row in csv_file:\n",
    "        print(row)"
   ]
  },
  {
   "cell_type": "code",
   "execution_count": 26,
   "metadata": {},
   "outputs": [
    {
     "name": "stdout",
     "output_type": "stream",
     "text": [
      "Susan received a A in the course\n",
      "Sean received a B- in the course\n",
      "Cody received a A- in the course\n",
      "Karen received a B+ in the course\n"
     ]
    }
   ],
   "source": [
    "with open(\"student_data.csv\", 'r') as file:\n",
    "    csv_file = csv.DictReader(file)\n",
    "    for row in csv_file:\n",
    "        print(f\"{row['Student']} received a {row['Grade']} in the course\")"
   ]
  },
  {
   "cell_type": "markdown",
   "metadata": {},
   "source": [
    "Writing csv file types as dictionaries"
   ]
  },
  {
   "cell_type": "code",
   "execution_count": 27,
   "metadata": {},
   "outputs": [],
   "source": [
    "with open(\"student_data.csv\", 'w') as file:\n",
    "    variable_names = [\"Student\",\"Grade\"]\n",
    "    csv_file = csv.DictWriter(file, fieldnames=variable_names)\n",
    "\n",
    "    csv_file.writeheader()\n",
    "    for student in student_data[1:]:\n",
    "        csv_file.writerow({'Student':student[0],'Grade':student[1]})"
   ]
  },
  {
   "cell_type": "markdown",
   "metadata": {},
   "source": [
    "### Dealing with different delimiters\n",
    "\n",
    "In a csv, commas are used to separate values, but we could just as easily use something else to separate values."
   ]
  },
  {
   "cell_type": "code",
   "execution_count": 28,
   "metadata": {},
   "outputs": [],
   "source": [
    "with open(\"student_data.csv\", 'r') as file:\n",
    "    \n",
    "    csv_file = csv.reader(file, delimiter = \",\") # comma separated values  \n",
    "    \n",
    "    with open(\"only_student_data.csv\", 'w') as new_file:\n",
    "        \n",
    "            new_csv_file = csv.writer(new_file, delimiter = \"\\t\") # tab separated values\n",
    "            \n",
    "            for row in csv_file:\n",
    "                \n",
    "                new_csv_file.writerow(row) # only write the student's name                "
   ]
  }
 ],
 "metadata": {
  "kernelspec": {
   "display_name": "Python 3",
   "language": "python",
   "name": "python3"
  },
  "language_info": {
   "codemirror_mode": {
    "name": "ipython",
    "version": 3
   },
   "file_extension": ".py",
   "mimetype": "text/x-python",
   "name": "python",
   "nbconvert_exporter": "python",
   "pygments_lexer": "ipython3",
   "version": "3.7.0"
  },
  "toc": {
   "base_numbering": 1,
   "nav_menu": {},
   "number_sections": false,
   "sideBar": false,
   "skip_h1_title": false,
   "title_cell": "Table of Contents",
   "title_sidebar": "Contents",
   "toc_cell": false,
   "toc_position": {},
   "toc_section_display": true,
   "toc_window_display": false
  }
 },
 "nbformat": 4,
 "nbformat_minor": 2
}
