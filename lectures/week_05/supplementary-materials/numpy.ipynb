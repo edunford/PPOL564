{
 "cells": [
  {
   "cell_type": "markdown",
   "metadata": {},
   "source": [
    "<h1><center> PPOL564 - Data Science I: Foundations<br><br><br><br><font color='grey'> Using Numpy </font> </center><h1>"
   ]
  },
  {
   "cell_type": "markdown",
   "metadata": {},
   "source": [
    "## In this notebook\n",
    "\n",
    "- Beyond nested lists \n",
    "- Basics of using Numpy\n",
    "- Broadcasting and Vectorization\n",
    "- From Matrix to Data Frame: Dealing with multiple data types"
   ]
  },
  {
   "cell_type": "code",
   "execution_count": 2,
   "metadata": {},
   "outputs": [],
   "source": [
    "import numpy as np\n",
    "import csv\n",
    "import math\n",
    "import requests "
   ]
  },
  {
   "cell_type": "markdown",
   "metadata": {},
   "source": [
    "Import data used in the notebook. Data will save to the notebook's directory"
   ]
  },
  {
   "cell_type": "code",
   "execution_count": 4,
   "metadata": {},
   "outputs": [],
   "source": [
    "def download_data(git_loc,dest_name):\n",
    "    '''\n",
    "    Downloads data from Github and saves it to the notebook's working directory.\n",
    "    '''\n",
    "    req = requests.get(git_loc)\n",
    "    with open(dest_name,\"w\") as file:\n",
    "        for line in req.text:\n",
    "            file.writelines(line)\n",
    "download_data('https://raw.githubusercontent.com/edunford/ppol564/master/lectures/lecture_07/gapminder.csv',\n",
    "         \"gapminder.csv\")"
   ]
  },
  {
   "cell_type": "markdown",
   "metadata": {},
   "source": [
    "# Limitations of Nested Lists in DS"
   ]
  },
  {
   "cell_type": "markdown",
   "metadata": {},
   "source": [
    "As we've seen, we can represent data in Python as **nested lists**. For example, consider the again the Gapminder data."
   ]
  },
  {
   "cell_type": "code",
   "execution_count": 2,
   "metadata": {},
   "outputs": [
    {
     "data": {
      "text/plain": [
       "[['country', 'lifeExp', 'gdpPercap'],\n",
       " ['Guinea_Bissau', '39.21', '652.157'],\n",
       " ['Bolivia', '52.505', '2961.229'],\n",
       " ['Austria', '73.103', '20411.916'],\n",
       " ['Malawi', '43.352', '575.447']]"
      ]
     },
     "execution_count": 2,
     "metadata": {},
     "output_type": "execute_result"
    }
   ],
   "source": [
    "gap_data = []\n",
    "with open(\"gapminder.csv\",mode='rt') as file:\n",
    "    data = csv.reader(file)\n",
    "    for row in data:\n",
    "        gap_data.append(row)\n",
    "\n",
    "# Look at the \"head\" of the data (first five entries)        \n",
    "gap_data[:5]"
   ]
  },
  {
   "cell_type": "markdown",
   "metadata": {},
   "source": [
    "One challenge of working with data in this format is how it's **indexed**.\n",
    "\n",
    "We can easily index each row entry accessing the rows position."
   ]
  },
  {
   "cell_type": "code",
   "execution_count": 3,
   "metadata": {},
   "outputs": [
    {
     "data": {
      "text/plain": [
       "['Austria', '73.103', '20411.916']"
      ]
     },
     "execution_count": 3,
     "metadata": {},
     "output_type": "execute_result"
    }
   ],
   "source": [
    "gap_data[3]"
   ]
  },
  {
   "cell_type": "markdown",
   "metadata": {},
   "source": [
    "We can then access a specific (\"column\") value, but referencing the index position of the second list. "
   ]
  },
  {
   "cell_type": "code",
   "execution_count": 4,
   "metadata": {},
   "outputs": [
    {
     "data": {
      "text/plain": [
       "'73.103'"
      ]
     },
     "execution_count": 4,
     "metadata": {},
     "output_type": "execute_result"
    }
   ],
   "source": [
    "gap_data[3][1] "
   ]
  },
  {
   "cell_type": "markdown",
   "metadata": {},
   "source": [
    "To do this systematically, say by referencing a single variable in the data, we need to use information about both these indices and loop through the values. "
   ]
  },
  {
   "cell_type": "code",
   "execution_count": 5,
   "metadata": {},
   "outputs": [
    {
     "data": {
      "text/plain": [
       "['country', 'lifeExp', 'gdpPercap']"
      ]
     },
     "execution_count": 5,
     "metadata": {},
     "output_type": "execute_result"
    }
   ],
   "source": [
    "column_names = gap_data[0] # Get the names of the columns\n",
    "column_names"
   ]
  },
  {
   "cell_type": "code",
   "execution_count": 6,
   "metadata": {},
   "outputs": [
    {
     "data": {
      "text/plain": [
       "2"
      ]
     },
     "execution_count": 6,
     "metadata": {},
     "output_type": "execute_result"
    }
   ],
   "source": [
    "# Draw out the index for the column \n",
    "var_ind = column_names.index(\"gdpPercap\") \n",
    "var_ind"
   ]
  },
  {
   "cell_type": "code",
   "execution_count": 7,
   "metadata": {},
   "outputs": [
    {
     "name": "stdout",
     "output_type": "stream",
     "text": [
      "gdpPercap\n",
      "652.157\n",
      "2961.229\n",
      "20411.916\n",
      "575.447\n",
      "17473.723\n",
      "2591.853\n",
      "5406.038\n",
      "10888.176\n",
      "3312.788\n",
      "2447.909\n",
      "20556.684\n",
      "5733.625\n",
      "65332.91\n",
      "17262.623\n",
      "1356.671\n",
      "810.384\n",
      "2469.167\n",
      "9331.712\n",
      "1741.365\n",
      "22410.746\n",
      "1314.38\n",
      "7208.065\n",
      "14074.582\n",
      "7866.872\n",
      "8416.554\n",
      "780.553\n",
      "16245.209\n",
      "3477.21\n",
      "1200.416\n",
      "680.133\n",
      "3484.779\n",
      "12013.579\n",
      "13969.037\n",
      "1044.582\n",
      "5613.844\n",
      "4469.453\n",
      "4898.398\n",
      "1854.731\n",
      "675.368\n",
      "6384.055\n",
      "7269.216\n",
      "1153.82\n",
      "1569.275\n",
      "6197.645\n",
      "3163.352\n",
      "6703.289\n",
      "14160.936\n",
      "4426.026\n",
      "13920.011\n",
      "2697.833\n",
      "17425.382\n",
      "1488.309\n",
      "817.559\n",
      "648.343\n",
      "6283.259\n",
      "3675.582\n",
      "1835.01\n",
      "3009.288\n",
      "675.669\n",
      "10863.164\n",
      "3255.367\n",
      "1017.713\n",
      "542.278\n",
      "673.093\n",
      "20261.744\n",
      "604.814\n",
      "1335.595\n",
      "1165.454\n",
      "11529.865\n",
      "4768.942\n",
      "1358.199\n",
      "7300.17\n",
      "2844.856\n",
      "3074.031\n",
      "1533.122\n",
      "12138.562\n",
      "635.858\n",
      "5031.504\n",
      "1912.825\n",
      "802.675\n",
      "7724.113\n",
      "1382.782\n",
      "439.333\n",
      "27074.334\n",
      "19380.473\n",
      "17750.87\n",
      "4431.847\n",
      "1057.296\n",
      "3045.966\n",
      "18077.664\n",
      "19980.596\n",
      "1692.805\n",
      "782.729\n",
      "7376.583\n",
      "2834.413\n",
      "776.067\n",
      "10088.516\n",
      "20531.422\n",
      "1140.793\n",
      "471.663\n",
      "5754.827\n",
      "5448.611\n",
      "2174.771\n",
      "21671.825\n",
      "1155.395\n",
      "541.003\n",
      "19900.758\n",
      "3759.997\n",
      "8217.318\n",
      "509.115\n",
      "4015.403\n",
      "4195.343\n",
      "1774.634\n",
      "26261.151\n",
      "1439.271\n",
      "1488.308\n",
      "1072.819\n",
      "10415.531\n",
      "849.281\n",
      "3239.607\n",
      "8955.554\n",
      "14029.826\n",
      "21748.852\n",
      "18833.57\n",
      "781.077\n",
      "958.785\n",
      "9305.049\n",
      "7811.809\n",
      "7100.133\n",
      "3607.101\n",
      "19943.126\n",
      "3424.656\n",
      "7247.431\n",
      "843.991\n",
      "1620.739\n",
      "26747.307\n",
      "10224.807\n",
      "11354.092\n",
      "3128.121\n",
      "15758.606\n",
      "5829.317\n"
     ]
    }
   ],
   "source": [
    "for row in gap_data:\n",
    "    print(row[var_ind])"
   ]
  },
  {
   "cell_type": "markdown",
   "metadata": {},
   "source": [
    "Constantly indexing and looping like this can be _inefficient_. \n",
    "\n",
    "numpy arrays are optimized to handle these types of data _matrix_ computations, by \n",
    "\n",
    "1. offering a way to efficiently index and slice data\n",
    "2. vectorizing operations\n",
    "3. efficiently storing data in memory "
   ]
  },
  {
   "cell_type": "code",
   "execution_count": 8,
   "metadata": {},
   "outputs": [
    {
     "data": {
      "text/plain": [
       "array([['country', 'lifeExp', 'gdpPercap'],\n",
       "       ['Guinea_Bissau', '39.21', '652.157'],\n",
       "       ['Bolivia', '52.505', '2961.229'],\n",
       "       ['Austria', '73.103', '20411.916'],\n",
       "       ['Malawi', '43.352', '575.447'],\n",
       "       ['Finland', '72.992', '17473.723'],\n",
       "       ['North_Korea', '63.607', '2591.853'],\n",
       "       ['Malaysia', '64.28', '5406.038'],\n",
       "       ['Hungary', '69.393', '10888.176'],\n",
       "       ['Congo', '52.502', '3312.788'],\n",
       "       ['Morocco', '57.609', '2447.909'],\n",
       "       ['Germany', '73.444', '20556.684'],\n",
       "       ['Ecuador', '62.817', '5733.625'],\n",
       "       ['Kuwait', '68.922', '65332.91'],\n",
       "       ['New_Zealand', '73.989', '17262.623'],\n",
       "       ['Mauritania', '52.302', '1356.671'],\n",
       "       ['Uganda', '47.619', '810.384'],\n",
       "       ['Equatorial Guinea', '42.96', '2469.167'],\n",
       "       ['Croatia', '70.056', '9331.712'],\n",
       "       ['Indonesia', '54.336', '1741.365'],\n",
       "       ['Canada', '74.903', '22410.746'],\n",
       "       ['Comoros', '52.382', '1314.38'],\n",
       "       ['Montenegro', '70.299', '7208.065'],\n",
       "       ['Slovenia', '71.601', '14074.582'],\n",
       "       ['Trinidad and Tobago', '66.828', '7866.872'],\n",
       "       ['Poland', '70.177', '8416.554'],\n",
       "       ['Lesotho', '50.007', '780.553'],\n",
       "       ['Italy', '74.014', '16245.209'],\n",
       "       ['Tunisia', '60.721', '3477.21'],\n",
       "       ['Kenya', '52.681', '1200.416'],\n",
       "       ['Gambia', '44.401', '680.133'],\n",
       "       ['Bosnia and Herzegovina', '67.708', '3484.779'],\n",
       "       ['Libya', '59.304', '12013.579'],\n",
       "       ['Greece', '73.733', '13969.037'],\n",
       "       ['Ghana', '52.341', '1044.582'],\n",
       "       ['Peru', '58.859', '5613.844'],\n",
       "       ['Turkey', '59.696', '4469.453'],\n",
       "       ['Reunion', '66.644', '4898.398'],\n",
       "       ['Sri_Lanka', '66.526', '1854.731'],\n",
       "       ['Cambodia', '47.903', '675.368'],\n",
       "       ['Bulgaria', '69.744', '6384.055'],\n",
       "       ['Lebanon', '65.866', '7269.216'],\n",
       "       ['Togo', '51.499', '1153.82'],\n",
       "       ['Yemen', '46.78', '1569.275'],\n",
       "       ['Jamaica', '68.749', '6197.645'],\n",
       "       ['Swaziland', '49.002', '3163.352'],\n",
       "       ['Chile', '67.431', '6703.289'],\n",
       "       ['Israel', '73.646', '14160.936'],\n",
       "       ['Algeria', '59.03', '4426.026'],\n",
       "       ['Czech_Republic', '71.511', '13920.011'],\n",
       "       ['Djibouti', '46.381', '2697.833'],\n",
       "       ['Singapore', '71.22', '17425.382'],\n",
       "       ['Nigeria', '43.581', '1488.309'],\n",
       "       ['Bangladesh', '49.834', '817.559'],\n",
       "       ['DRC', '44.544', '648.343'],\n",
       "       ['Cuba', '71.045', '6283.259'],\n",
       "       ['Namibia', '53.491', '3675.582'],\n",
       "       ['Sudan', '48.401', '1835.01'],\n",
       "       ['Syria', '61.346', '3009.288'],\n",
       "       ['Rwanda', '41.482', '675.669'],\n",
       "       ['Puerto Rico', '72.739', '10863.164'],\n",
       "       ['Albania', '68.433', '3255.367'],\n",
       "       ['Vietnam', '57.48', '1017.713'],\n",
       "       ['Mozambique', '40.38', '542.278'],\n",
       "       ['Mali', '43.413', '673.093'],\n",
       "       ['Saudi Arabia', '58.679', '20261.744'],\n",
       "       ['Liberia', '42.476', '604.814'],\n",
       "       ['Madagascar', '47.771', '1335.595'],\n",
       "       ['Chad', '46.774', '1165.454'],\n",
       "       ['Gabon', '51.221', '11529.865'],\n",
       "       ['Mauritius', '64.953', '4768.942'],\n",
       "       ['Zambia', '45.996', '1358.199'],\n",
       "       ['Romania', '68.291', '7300.17'],\n",
       "       ['Dominican Republic', '61.554', '2844.856'],\n",
       "       ['Egypt', '56.243', '3074.031'],\n",
       "       ['Senegal', '50.626', '1533.122'],\n",
       "       ['Oman', '58.443', '12138.562'],\n",
       "       ['Zimbabwe', '52.663', '635.858'],\n",
       "       ['Botswana', '54.598', '5031.504'],\n",
       "       [\"Cote d'Ivoire\", '48.436', '1912.825'],\n",
       "       ['Afghanistan', '37.479', '802.675'],\n",
       "       ['Mexico', '65.409', '7724.113'],\n",
       "       ['Sao Tome and Principe', '57.896', '1382.782'],\n",
       "       ['Myanmar', '53.322', '439.333'],\n",
       "       ['Switzerland', '75.565', '27074.334'],\n",
       "       ['United Kingdom', '73.923', '19380.473'],\n",
       "       ['Japan', '74.827', '17750.87'],\n",
       "       ['El Salvador', '59.633', '4431.847'],\n",
       "       ['India', '53.166', '1057.296'],\n",
       "       ['Thailand', '62.2', '3045.966'],\n",
       "       ['Bahrain', '65.606', '18077.664'],\n",
       "       ['Australia', '74.663', '19980.596'],\n",
       "       ['Mongolia', '55.89', '1692.805'],\n",
       "       ['Nepal', '48.986', '782.729'],\n",
       "       ['Iran', '58.637', '7376.583'],\n",
       "       ['Honduras', '57.921', '2834.413'],\n",
       "       ['Guinea', '43.24', '776.067'],\n",
       "       ['Venezuela', '66.581', '10088.516'],\n",
       "       ['Iceland', '76.511', '20531.422'],\n",
       "       ['Somalia', '40.989', '1140.793'],\n",
       "       ['Burundi', '44.817', '471.663'],\n",
       "       ['Panama', '67.802', '5754.827'],\n",
       "       ['Costa Rica', '70.181', '5448.611'],\n",
       "       ['Philippines', '60.967', '2174.771'],\n",
       "       ['Denmark', '74.37', '21671.825'],\n",
       "       ['Benin', '48.78', '1155.395'],\n",
       "       ['Eritrea', '45.999', '541.003'],\n",
       "       ['Belgium', '73.642', '19900.758'],\n",
       "       ['West Bank and Gaza', '60.329', '3759.997'],\n",
       "       ['South_Korea', '65.001', '8217.318'],\n",
       "       ['Ethiopia', '44.476', '509.115'],\n",
       "       ['Guatemala', '56.729', '4015.403'],\n",
       "       ['Colombia', '63.898', '4195.343'],\n",
       "       ['Cameroon', '48.129', '1774.634'],\n",
       "       ['United States', '73.478', '26261.151'],\n",
       "       ['Pakistan', '54.882', '1439.271'],\n",
       "       ['China', '61.785', '1488.308'],\n",
       "       ['Sierra Leone', '36.769', '1072.819'],\n",
       "       ['Slovak Republic', '70.696', '10415.531'],\n",
       "       ['Tanzania', '47.912', '849.281'],\n",
       "       ['Paraguay', '66.809', '3239.607'],\n",
       "       ['Argentina', '69.06', '8955.554'],\n",
       "       ['Spain', '74.203', '14029.826'],\n",
       "       ['Netherlands', '75.648', '21748.852'],\n",
       "       ['France', '74.349', '18833.57'],\n",
       "       ['Niger', '44.559', '781.077'],\n",
       "       ['Central African Republic', '43.867', '958.785'],\n",
       "       ['Serbia', '68.551', '9305.049'],\n",
       "       ['Iraq', '56.582', '7811.809'],\n",
       "       ['Uruguay', '70.782', '7100.133'],\n",
       "       ['Angola', '37.883', '3607.101'],\n",
       "       ['Sweden', '76.177', '19943.126'],\n",
       "       ['Nicaragua', '58.349', '3424.656'],\n",
       "       ['South Africa', '53.993', '7247.431'],\n",
       "       ['Burkina Faso', '44.694', '843.991'],\n",
       "       ['Haiti', '50.165', '1620.739'],\n",
       "       ['Norway', '75.843', '26747.307'],\n",
       "       ['Taiwan', '70.337', '10224.807'],\n",
       "       ['Portugal', '70.42', '11354.092'],\n",
       "       ['Jordan', '59.786', '3128.121'],\n",
       "       ['Ireland', '73.017', '15758.606'],\n",
       "       ['Brazil', '62.239', '5829.317']], dtype='<U24')"
      ]
     },
     "execution_count": 8,
     "metadata": {},
     "output_type": "execute_result"
    }
   ],
   "source": [
    "# Convert our gap_data to a numpy array\n",
    "gap_data_np = np.array(gap_data)\n",
    "gap_data_np"
   ]
  },
  {
   "cell_type": "code",
   "execution_count": 9,
   "metadata": {},
   "outputs": [
    {
     "data": {
      "text/plain": [
       "array(['gdpPercap', '652.157', '2961.229', '20411.916', '575.447',\n",
       "       '17473.723', '2591.853', '5406.038', '10888.176', '3312.788',\n",
       "       '2447.909', '20556.684', '5733.625', '65332.91', '17262.623',\n",
       "       '1356.671', '810.384', '2469.167', '9331.712', '1741.365',\n",
       "       '22410.746', '1314.38', '7208.065', '14074.582', '7866.872',\n",
       "       '8416.554', '780.553', '16245.209', '3477.21', '1200.416',\n",
       "       '680.133', '3484.779', '12013.579', '13969.037', '1044.582',\n",
       "       '5613.844', '4469.453', '4898.398', '1854.731', '675.368',\n",
       "       '6384.055', '7269.216', '1153.82', '1569.275', '6197.645',\n",
       "       '3163.352', '6703.289', '14160.936', '4426.026', '13920.011',\n",
       "       '2697.833', '17425.382', '1488.309', '817.559', '648.343',\n",
       "       '6283.259', '3675.582', '1835.01', '3009.288', '675.669',\n",
       "       '10863.164', '3255.367', '1017.713', '542.278', '673.093',\n",
       "       '20261.744', '604.814', '1335.595', '1165.454', '11529.865',\n",
       "       '4768.942', '1358.199', '7300.17', '2844.856', '3074.031',\n",
       "       '1533.122', '12138.562', '635.858', '5031.504', '1912.825',\n",
       "       '802.675', '7724.113', '1382.782', '439.333', '27074.334',\n",
       "       '19380.473', '17750.87', '4431.847', '1057.296', '3045.966',\n",
       "       '18077.664', '19980.596', '1692.805', '782.729', '7376.583',\n",
       "       '2834.413', '776.067', '10088.516', '20531.422', '1140.793',\n",
       "       '471.663', '5754.827', '5448.611', '2174.771', '21671.825',\n",
       "       '1155.395', '541.003', '19900.758', '3759.997', '8217.318',\n",
       "       '509.115', '4015.403', '4195.343', '1774.634', '26261.151',\n",
       "       '1439.271', '1488.308', '1072.819', '10415.531', '849.281',\n",
       "       '3239.607', '8955.554', '14029.826', '21748.852', '18833.57',\n",
       "       '781.077', '958.785', '9305.049', '7811.809', '7100.133',\n",
       "       '3607.101', '19943.126', '3424.656', '7247.431', '843.991',\n",
       "       '1620.739', '26747.307', '10224.807', '11354.092', '3128.121',\n",
       "       '15758.606', '5829.317'], dtype='<U24')"
      ]
     },
     "execution_count": 9,
     "metadata": {},
     "output_type": "execute_result"
    }
   ],
   "source": [
    "gap_data_np[:,2]"
   ]
  },
  {
   "cell_type": "markdown",
   "metadata": {},
   "source": [
    "Let's time those two operations: as we can see, the boost in performance (and the conceptual ease of execution) is huge."
   ]
  },
  {
   "cell_type": "code",
   "execution_count": 10,
   "metadata": {},
   "outputs": [
    {
     "name": "stdout",
     "output_type": "stream",
     "text": [
      "6.94 µs ± 47.8 ns per loop (mean ± std. dev. of 7 runs, 100000 loops each)\n"
     ]
    }
   ],
   "source": [
    "%%timeit\n",
    "for row in gap_data:\n",
    "    row[var_ind]"
   ]
  },
  {
   "cell_type": "code",
   "execution_count": 11,
   "metadata": {},
   "outputs": [
    {
     "name": "stdout",
     "output_type": "stream",
     "text": [
      "309 ns ± 2.92 ns per loop (mean ± std. dev. of 7 runs, 1000000 loops each)\n"
     ]
    }
   ],
   "source": [
    "%%timeit\n",
    "gap_data_np[:,2]"
   ]
  },
  {
   "cell_type": "markdown",
   "metadata": {},
   "source": [
    "# Basics of Using Numpy"
   ]
  },
  {
   "cell_type": "markdown",
   "metadata": {},
   "source": [
    "## Vectors, Matrices, and N-Dimensional Arrays"
   ]
  },
  {
   "cell_type": "code",
   "execution_count": 12,
   "metadata": {},
   "outputs": [
    {
     "data": {
      "text/plain": [
       "array([1, 2, 3, 4])"
      ]
     },
     "execution_count": 12,
     "metadata": {},
     "output_type": "execute_result"
    }
   ],
   "source": [
    "# vector as a list\n",
    "v = np.array([1,2,3,4])\n",
    "v"
   ]
  },
  {
   "cell_type": "code",
   "execution_count": 13,
   "metadata": {},
   "outputs": [
    {
     "name": "stdout",
     "output_type": "stream",
     "text": [
      "[[ 1  2  3  4]\n",
      " [ 2  3  4  1]\n",
      " [-1  1  2  1]]\n"
     ]
    },
    {
     "data": {
      "text/plain": [
       "(3, 4)"
      ]
     },
     "execution_count": 13,
     "metadata": {},
     "output_type": "execute_result"
    }
   ],
   "source": [
    "# A matrix is a nested list\n",
    "M = np.array([[1,2,3,4],\n",
    "             [2,3,4,1],\n",
    "             [-1,1,2,1]])\n",
    "print(M)\n",
    "M.shape"
   ]
  },
  {
   "cell_type": "code",
   "execution_count": 14,
   "metadata": {},
   "outputs": [
    {
     "name": "stdout",
     "output_type": "stream",
     "text": [
      "[[[ 1  2  3  4]\n",
      "  [ 2  3  4  1]\n",
      "  [-1  1  2  1]]\n",
      "\n",
      " [[ 1  2  3  4]\n",
      "  [ 2  3  4  1]\n",
      "  [-1  1  2  1]]]\n"
     ]
    },
    {
     "data": {
      "text/plain": [
       "(2, 3, 4)"
      ]
     },
     "execution_count": 14,
     "metadata": {},
     "output_type": "execute_result"
    }
   ],
   "source": [
    "#  An ndimensional array is a nested list\n",
    "A = np.array([\n",
    "              [\n",
    "                [1,2,3,4],\n",
    "                [2,3,4,1],\n",
    "                [-1,1,2,1]\n",
    "              ],\n",
    "             [\n",
    "                 [1,2,3,4],\n",
    "                 [2,3,4,1],\n",
    "                 [-1,1,2,1]]\n",
    "              ])\n",
    "print(A)\n",
    "A.shape"
   ]
  },
  {
   "cell_type": "markdown",
   "metadata": {},
   "source": [
    "## Generating Arrays"
   ]
  },
  {
   "cell_type": "markdown",
   "metadata": {},
   "source": [
    "### `np.arange`\n",
    "Generate a range of numbers by some interval\n",
    "```python\n",
    "np.arange(start,stop,by)\n",
    "```"
   ]
  },
  {
   "cell_type": "code",
   "execution_count": 15,
   "metadata": {},
   "outputs": [
    {
     "data": {
      "text/plain": [
       "array([1. , 1.5, 2. , 2.5, 3. , 3.5, 4. , 4.5, 5. , 5.5, 6. , 6.5, 7. ,\n",
       "       7.5, 8. , 8.5, 9. , 9.5])"
      ]
     },
     "execution_count": 15,
     "metadata": {},
     "output_type": "execute_result"
    }
   ],
   "source": [
    "np.arange(1, 10, .5 )"
   ]
  },
  {
   "cell_type": "code",
   "execution_count": 3,
   "metadata": {},
   "outputs": [
    {
     "data": {
      "text/plain": [
       "array([0.  , 0.01, 0.02, 0.03, 0.04, 0.05, 0.06, 0.07, 0.08, 0.09, 0.1 ,\n",
       "       0.11, 0.12, 0.13, 0.14, 0.15, 0.16, 0.17, 0.18, 0.19, 0.2 , 0.21,\n",
       "       0.22, 0.23, 0.24, 0.25, 0.26, 0.27, 0.28, 0.29, 0.3 , 0.31, 0.32,\n",
       "       0.33, 0.34, 0.35, 0.36, 0.37, 0.38, 0.39, 0.4 , 0.41, 0.42, 0.43,\n",
       "       0.44, 0.45, 0.46, 0.47, 0.48, 0.49, 0.5 , 0.51, 0.52, 0.53, 0.54,\n",
       "       0.55, 0.56, 0.57, 0.58, 0.59, 0.6 , 0.61, 0.62, 0.63, 0.64, 0.65,\n",
       "       0.66, 0.67, 0.68, 0.69, 0.7 , 0.71, 0.72, 0.73, 0.74, 0.75, 0.76,\n",
       "       0.77, 0.78, 0.79, 0.8 , 0.81, 0.82, 0.83, 0.84, 0.85, 0.86, 0.87,\n",
       "       0.88, 0.89, 0.9 , 0.91, 0.92, 0.93, 0.94, 0.95, 0.96, 0.97, 0.98,\n",
       "       0.99, 1.  ])"
      ]
     },
     "execution_count": 3,
     "metadata": {},
     "output_type": "execute_result"
    }
   ],
   "source": [
    "np.arange(0,1+.01,.01)"
   ]
  },
  {
   "cell_type": "markdown",
   "metadata": {},
   "source": [
    "### `np.linspace`\n",
    "\n",
    "Generate a a vector of length N where each entry is evenly spaced between the interval for the number requested.\n",
    "```\n",
    "np.linspace(start,end,length)\n",
    "```"
   ]
  },
  {
   "cell_type": "code",
   "execution_count": 17,
   "metadata": {},
   "outputs": [
    {
     "data": {
      "text/plain": [
       "array([1.        , 1.44444444, 1.88888889, 2.33333333, 2.77777778,\n",
       "       3.22222222, 3.66666667, 4.11111111, 4.55555556, 5.        ])"
      ]
     },
     "execution_count": 17,
     "metadata": {},
     "output_type": "execute_result"
    }
   ],
   "source": [
    "np.linspace(1,5,10) "
   ]
  },
  {
   "cell_type": "code",
   "execution_count": 18,
   "metadata": {},
   "outputs": [
    {
     "data": {
      "text/plain": [
       "array([0. , 0.5, 1. ])"
      ]
     },
     "execution_count": 18,
     "metadata": {},
     "output_type": "execute_result"
    }
   ],
   "source": [
    "np.linspace(0,1,3) "
   ]
  },
  {
   "cell_type": "markdown",
   "metadata": {},
   "source": [
    "### Random Number Generation `np.random.`"
   ]
  },
  {
   "cell_type": "markdown",
   "metadata": {},
   "source": [
    "We'll use the `.random.` sub-library in numpy to generate numerical numpy arrays from known random distributions. "
   ]
  },
  {
   "cell_type": "markdown",
   "metadata": {},
   "source": [
    "Whenever we randomly generate numbers, we normally want to replicate our results. To do so, we need to set a `seed` that ensures we'll generate the same random numbers again. "
   ]
  },
  {
   "cell_type": "code",
   "execution_count": 19,
   "metadata": {},
   "outputs": [],
   "source": [
    "np.random.seed(123)"
   ]
  },
  {
   "cell_type": "markdown",
   "metadata": {},
   "source": [
    "Generate random numbers from a standard normal distribution. "
   ]
  },
  {
   "cell_type": "code",
   "execution_count": 20,
   "metadata": {},
   "outputs": [
    {
     "data": {
      "text/plain": [
       "array([-1.0856306 ,  0.99734545,  0.2829785 , -1.50629471, -0.57860025,\n",
       "        1.65143654, -2.42667924, -0.42891263,  1.26593626, -0.8667404 ])"
      ]
     },
     "execution_count": 20,
     "metadata": {},
     "output_type": "execute_result"
    }
   ],
   "source": [
    "np.random.randn(10) "
   ]
  },
  {
   "cell_type": "markdown",
   "metadata": {},
   "source": [
    "Generate an array of random integers within a range: `np.random.randint(start,end,n)`"
   ]
  },
  {
   "cell_type": "code",
   "execution_count": 21,
   "metadata": {},
   "outputs": [
    {
     "data": {
      "text/plain": [
       "array([4, 5, 1, 1, 5, 2, 8, 4, 3, 5])"
      ]
     },
     "execution_count": 21,
     "metadata": {},
     "output_type": "execute_result"
    }
   ],
   "source": [
    "np.random.randint(1,10,10)"
   ]
  },
  {
   "cell_type": "markdown",
   "metadata": {},
   "source": [
    "Also, we can generate random values from **known distributions**, e.g.\n",
    "\n",
    "- Normal (Gaussian) \n",
    "- Binomial (or Bernoulli \"a.k.a. the coin flip distribution\"when there are only two outcomes)\n",
    "- Poisson"
   ]
  },
  {
   "cell_type": "code",
   "execution_count": 22,
   "metadata": {},
   "outputs": [
    {
     "data": {
      "text/plain": [
       "array([1, 1, 1, 1, 1, 1, 1, 0, 0, 0])"
      ]
     },
     "execution_count": 22,
     "metadata": {},
     "output_type": "execute_result"
    }
   ],
   "source": [
    "np.random.binomial(1,.5,10) # coin flip distribution"
   ]
  },
  {
   "cell_type": "code",
   "execution_count": 23,
   "metadata": {},
   "outputs": [
    {
     "data": {
      "text/plain": [
       "array([5.9071052 , 3.5713193 , 4.85993128, 4.1382451 , 4.74438063,\n",
       "       2.20141089, 3.2284669 , 4.30012277, 5.92746243, 4.82636432])"
      ]
     },
     "execution_count": 23,
     "metadata": {},
     "output_type": "execute_result"
    }
   ],
   "source": [
    "np.random.normal(5,1,10) # normal (continuous) distribution"
   ]
  },
  {
   "cell_type": "code",
   "execution_count": 24,
   "metadata": {},
   "outputs": [
    {
     "data": {
      "text/plain": [
       "array([2, 0, 0, 1, 0, 2, 1, 2, 0, 0])"
      ]
     },
     "execution_count": 24,
     "metadata": {},
     "output_type": "execute_result"
    }
   ],
   "source": [
    "np.random.poisson(1,10) # count distribution"
   ]
  },
  {
   "cell_type": "code",
   "execution_count": 25,
   "metadata": {},
   "outputs": [
    {
     "data": {
      "text/plain": [
       "array([2.66808884, 3.72520306, 4.50182737, 3.04168935, 3.67725513,\n",
       "       3.34374621, 3.49961401, 3.6987562 , 4.36936975, 1.33277995])"
      ]
     },
     "execution_count": 25,
     "metadata": {},
     "output_type": "execute_result"
    }
   ],
   "source": [
    "np.random.uniform(1,5,10) # uniform distribution"
   ]
  },
  {
   "cell_type": "markdown",
   "metadata": {},
   "source": [
    "We'll delve more into random number generation later in the semester."
   ]
  },
  {
   "cell_type": "markdown",
   "metadata": {},
   "source": [
    "## Generating Matrices (2-dimensional Arrays)"
   ]
  },
  {
   "cell_type": "code",
   "execution_count": 26,
   "metadata": {},
   "outputs": [
    {
     "data": {
      "text/plain": [
       "array([[0., 0., 0., 0.],\n",
       "       [0., 0., 0., 0.],\n",
       "       [0., 0., 0., 0.]])"
      ]
     },
     "execution_count": 26,
     "metadata": {},
     "output_type": "execute_result"
    }
   ],
   "source": [
    "# Matrix full of zeros\n",
    "np.zeros((3,4))"
   ]
  },
  {
   "cell_type": "code",
   "execution_count": 27,
   "metadata": {},
   "outputs": [
    {
     "data": {
      "text/plain": [
       "array([[1., 1., 1., 1.],\n",
       "       [1., 1., 1., 1.],\n",
       "       [1., 1., 1., 1.]])"
      ]
     },
     "execution_count": 27,
     "metadata": {},
     "output_type": "execute_result"
    }
   ],
   "source": [
    "# Matrix full of ones\n",
    "np.ones((3,4))"
   ]
  },
  {
   "cell_type": "code",
   "execution_count": 28,
   "metadata": {},
   "outputs": [
    {
     "data": {
      "text/plain": [
       "array([[1., 0., 0., 0.],\n",
       "       [0., 1., 0., 0.],\n",
       "       [0., 0., 1., 0.],\n",
       "       [0., 0., 0., 1.]])"
      ]
     },
     "execution_count": 28,
     "metadata": {},
     "output_type": "execute_result"
    }
   ],
   "source": [
    "# Identity Matrix\n",
    "np.eye(4)"
   ]
  },
  {
   "cell_type": "code",
   "execution_count": 29,
   "metadata": {},
   "outputs": [
    {
     "data": {
      "text/plain": [
       "array([[0., 0., 0.],\n",
       "       [0., 0., 0.]])"
      ]
     },
     "execution_count": 29,
     "metadata": {},
     "output_type": "execute_result"
    }
   ],
   "source": [
    "# empty container\n",
    "empty_array = np.empty((2,3))\n",
    "empty_array"
   ]
  },
  {
   "cell_type": "markdown",
   "metadata": {},
   "source": [
    "Generating a matrix similar to the one you already have"
   ]
  },
  {
   "cell_type": "code",
   "execution_count": 5,
   "metadata": {},
   "outputs": [
    {
     "data": {
      "text/plain": [
       "array([[1., 1., 1., 1.],\n",
       "       [1., 1., 1., 1.],\n",
       "       [1., 1., 1., 1.],\n",
       "       [1., 1., 1., 1.]])"
      ]
     },
     "execution_count": 5,
     "metadata": {},
     "output_type": "execute_result"
    }
   ],
   "source": [
    "X = np.zeros((4,4))\n",
    "np.ones_like(X)"
   ]
  },
  {
   "cell_type": "code",
   "execution_count": null,
   "metadata": {},
   "outputs": [],
   "source": [
    "np.zeros_like(P)"
   ]
  },
  {
   "cell_type": "markdown",
   "metadata": {},
   "source": [
    "## Reshaping Arrays"
   ]
  },
  {
   "cell_type": "code",
   "execution_count": 6,
   "metadata": {},
   "outputs": [
    {
     "data": {
      "text/plain": [
       "array([41, 28,  3, 55, 35, 43,  1, 77,  5, 95, 12, 69, 60,  1, 94, 76, 58,\n",
       "       70, 57, 73, 82,  6, 27, 48, 66, 73, 32, 17, 72, 23])"
      ]
     },
     "execution_count": 6,
     "metadata": {},
     "output_type": "execute_result"
    }
   ],
   "source": [
    "# Call the shape of an array\n",
    "v = np.random.randint(1,100,30)\n",
    "v"
   ]
  },
  {
   "cell_type": "code",
   "execution_count": 7,
   "metadata": {},
   "outputs": [
    {
     "data": {
      "text/plain": [
       "array([[41, 28,  3, 55, 35, 43],\n",
       "       [ 1, 77,  5, 95, 12, 69],\n",
       "       [60,  1, 94, 76, 58, 70],\n",
       "       [57, 73, 82,  6, 27, 48],\n",
       "       [66, 73, 32, 17, 72, 23]])"
      ]
     },
     "execution_count": 7,
     "metadata": {},
     "output_type": "execute_result"
    }
   ],
   "source": [
    "v.reshape(5,6)"
   ]
  },
  {
   "cell_type": "code",
   "execution_count": 8,
   "metadata": {},
   "outputs": [
    {
     "data": {
      "text/plain": [
       "array([[41, 28,  3],\n",
       "       [55, 35, 43],\n",
       "       [ 1, 77,  5],\n",
       "       [95, 12, 69],\n",
       "       [60,  1, 94],\n",
       "       [76, 58, 70],\n",
       "       [57, 73, 82],\n",
       "       [ 6, 27, 48],\n",
       "       [66, 73, 32],\n",
       "       [17, 72, 23]])"
      ]
     },
     "execution_count": 8,
     "metadata": {},
     "output_type": "execute_result"
    }
   ],
   "source": [
    "v.reshape(10,3)"
   ]
  },
  {
   "cell_type": "markdown",
   "metadata": {},
   "source": [
    "Can only reshape given the appropriate dimensions"
   ]
  },
  {
   "cell_type": "code",
   "execution_count": 9,
   "metadata": {},
   "outputs": [
    {
     "ename": "ValueError",
     "evalue": "cannot reshape array of size 30 into shape (10,2)",
     "output_type": "error",
     "traceback": [
      "\u001b[0;31m---------------------------------------------------------------------------\u001b[0m",
      "\u001b[0;31mValueError\u001b[0m                                Traceback (most recent call last)",
      "\u001b[0;32m<ipython-input-9-44ecc721f6a9>\u001b[0m in \u001b[0;36m<module>\u001b[0;34m()\u001b[0m\n\u001b[0;32m----> 1\u001b[0;31m \u001b[0mv\u001b[0m\u001b[0;34m.\u001b[0m\u001b[0mreshape\u001b[0m\u001b[0;34m(\u001b[0m\u001b[0;36m10\u001b[0m\u001b[0;34m,\u001b[0m\u001b[0;36m2\u001b[0m\u001b[0;34m)\u001b[0m\u001b[0;34m\u001b[0m\u001b[0;34m\u001b[0m\u001b[0m\n\u001b[0m",
      "\u001b[0;31mValueError\u001b[0m: cannot reshape array of size 30 into shape (10,2)"
     ]
    }
   ],
   "source": [
    "v.reshape(10,2)"
   ]
  },
  {
   "cell_type": "code",
   "execution_count": 10,
   "metadata": {},
   "outputs": [
    {
     "data": {
      "text/plain": [
       "(10, 2)"
      ]
     },
     "execution_count": 10,
     "metadata": {},
     "output_type": "execute_result"
    }
   ],
   "source": [
    "# use negative 1 to guess the dimension\n",
    "P = np.random.randn(20).reshape(10,-1)\n",
    "P.shape"
   ]
  },
  {
   "cell_type": "code",
   "execution_count": 11,
   "metadata": {},
   "outputs": [
    {
     "data": {
      "text/plain": [
       "array([[-1.48635895e+00, -9.58685682e-01],\n",
       "       [-1.24432742e+00,  3.14553808e-01],\n",
       "       [-4.43642384e-01, -4.53963597e-01],\n",
       "       [ 1.43936170e-01,  6.36996117e-01],\n",
       "       [-1.47723150e+00,  4.55764472e-01],\n",
       "       [-4.59038465e-01, -1.99879197e-01],\n",
       "       [ 4.29367339e-01,  2.05851218e+00],\n",
       "       [-2.13301257e-01,  9.14560780e-04],\n",
       "       [ 6.10234542e-01, -9.69664937e-02],\n",
       "       [-1.23060054e+00, -3.15366792e-01]])"
      ]
     },
     "execution_count": 11,
     "metadata": {},
     "output_type": "execute_result"
    }
   ],
   "source": [
    "P"
   ]
  },
  {
   "cell_type": "code",
   "execution_count": 12,
   "metadata": {},
   "outputs": [
    {
     "data": {
      "text/plain": [
       "(2, 10)"
      ]
     },
     "execution_count": 12,
     "metadata": {},
     "output_type": "execute_result"
    }
   ],
   "source": [
    "# Alternative way to change the shape\n",
    "P.shape = 2,10\n",
    "P.shape"
   ]
  },
  {
   "cell_type": "code",
   "execution_count": 13,
   "metadata": {},
   "outputs": [
    {
     "data": {
      "text/plain": [
       "array([[-1.48635895e+00, -9.58685682e-01, -1.24432742e+00,\n",
       "         3.14553808e-01, -4.43642384e-01, -4.53963597e-01,\n",
       "         1.43936170e-01,  6.36996117e-01, -1.47723150e+00,\n",
       "         4.55764472e-01],\n",
       "       [-4.59038465e-01, -1.99879197e-01,  4.29367339e-01,\n",
       "         2.05851218e+00, -2.13301257e-01,  9.14560780e-04,\n",
       "         6.10234542e-01, -9.69664937e-02, -1.23060054e+00,\n",
       "        -3.15366792e-01]])"
      ]
     },
     "execution_count": 13,
     "metadata": {},
     "output_type": "execute_result"
    }
   ],
   "source": [
    "P"
   ]
  },
  {
   "cell_type": "markdown",
   "metadata": {},
   "source": [
    "## Indexing and Slicing\n",
    "\n",
    "```\n",
    "M[row,column]\n",
    "```"
   ]
  },
  {
   "cell_type": "code",
   "execution_count": 14,
   "metadata": {},
   "outputs": [
    {
     "data": {
      "text/plain": [
       "array([[ 1.,  2.,  3.,  4.,  5.],\n",
       "       [ 6.,  7.,  8.,  9., 10.],\n",
       "       [11., 12., 13., 14., 15.],\n",
       "       [16., 17., 18., 19., 20.],\n",
       "       [21., 22., 23., 24., 25.]])"
      ]
     },
     "execution_count": 14,
     "metadata": {},
     "output_type": "execute_result"
    }
   ],
   "source": [
    "X = np.linspace(1,25,25).reshape(5,5)\n",
    "X"
   ]
  },
  {
   "cell_type": "code",
   "execution_count": 15,
   "metadata": {},
   "outputs": [
    {
     "data": {
      "text/plain": [
       "array([1., 2., 3., 4., 5.])"
      ]
     },
     "execution_count": 15,
     "metadata": {},
     "output_type": "execute_result"
    }
   ],
   "source": [
    "X[0] # index first row "
   ]
  },
  {
   "cell_type": "code",
   "execution_count": 16,
   "metadata": {},
   "outputs": [
    {
     "data": {
      "text/plain": [
       "array([ 1.,  6., 11., 16., 21.])"
      ]
     },
     "execution_count": 16,
     "metadata": {},
     "output_type": "execute_result"
    }
   ],
   "source": [
    "X[:,0] # index first column"
   ]
  },
  {
   "cell_type": "code",
   "execution_count": 17,
   "metadata": {},
   "outputs": [
    {
     "data": {
      "text/plain": [
       "1.0"
      ]
     },
     "execution_count": 17,
     "metadata": {},
     "output_type": "execute_result"
    }
   ],
   "source": [
    "X[0,0] # index a specific cell "
   ]
  },
  {
   "cell_type": "code",
   "execution_count": null,
   "metadata": {},
   "outputs": [],
   "source": [
    "# Can use : or ... for a complete subsection\n",
    "print(X[:,1])\n",
    "print(X[...,1])"
   ]
  },
  {
   "cell_type": "code",
   "execution_count": 18,
   "metadata": {},
   "outputs": [
    {
     "data": {
      "text/plain": [
       "array([[ 1.,  2.,  3.],\n",
       "       [ 6.,  7.,  8.],\n",
       "       [11., 12., 13.]])"
      ]
     },
     "execution_count": 18,
     "metadata": {},
     "output_type": "execute_result"
    }
   ],
   "source": [
    "# slice rows and columns\n",
    "X[0:3,0:3] "
   ]
  },
  {
   "cell_type": "code",
   "execution_count": 19,
   "metadata": {},
   "outputs": [
    {
     "data": {
      "text/plain": [
       "array([21., 22., 23., 24., 25.])"
      ]
     },
     "execution_count": 19,
     "metadata": {},
     "output_type": "execute_result"
    }
   ],
   "source": [
    "X[-1,:] # last row"
   ]
  },
  {
   "cell_type": "code",
   "execution_count": 20,
   "metadata": {},
   "outputs": [
    {
     "data": {
      "text/plain": [
       "array([ 5., 10., 15., 20., 25.])"
      ]
     },
     "execution_count": 20,
     "metadata": {},
     "output_type": "execute_result"
    }
   ],
   "source": [
    "X[:,-1] # last column"
   ]
  },
  {
   "cell_type": "markdown",
   "metadata": {},
   "source": [
    "Demand specific indices in requested order."
   ]
  },
  {
   "cell_type": "code",
   "execution_count": 21,
   "metadata": {},
   "outputs": [
    {
     "data": {
      "text/plain": [
       "array([[16., 17., 18., 19., 20.],\n",
       "       [ 1.,  2.,  3.,  4.,  5.],\n",
       "       [11., 12., 13., 14., 15.]])"
      ]
     },
     "execution_count": 21,
     "metadata": {},
     "output_type": "execute_result"
    }
   ],
   "source": [
    "X[[3,0,2],:]"
   ]
  },
  {
   "cell_type": "code",
   "execution_count": 22,
   "metadata": {},
   "outputs": [
    {
     "data": {
      "text/plain": [
       "array([[ 4.,  1.,  3.],\n",
       "       [ 9.,  6.,  8.],\n",
       "       [14., 11., 13.],\n",
       "       [19., 16., 18.],\n",
       "       [24., 21., 23.]])"
      ]
     },
     "execution_count": 22,
     "metadata": {},
     "output_type": "execute_result"
    }
   ],
   "source": [
    "X[:,[3,0,2]]"
   ]
  },
  {
   "cell_type": "markdown",
   "metadata": {},
   "source": [
    "## Boolean Arrays"
   ]
  },
  {
   "cell_type": "markdown",
   "metadata": {},
   "source": [
    "We can use vectorization (see below) to great effect with boolean (logical) evaluations. This offers a way to quickly and easily subset data by particular conditions"
   ]
  },
  {
   "cell_type": "code",
   "execution_count": 23,
   "metadata": {},
   "outputs": [
    {
     "data": {
      "text/plain": [
       "array([[19, 88, 70,  1, 55],\n",
       "       [24, 54, 92, 52, 56],\n",
       "       [97, 35,  5, 70, 40],\n",
       "       [66,  5, 46, 81, 79],\n",
       "       [35, 13, 12, 37, 42],\n",
       "       [18, 85, 59, 51, 25],\n",
       "       [35, 75, 99, 51, 32],\n",
       "       [14, 39, 78, 19, 43],\n",
       "       [88, 17, 99, 47, 77],\n",
       "       [59,  3, 57, 83, 45]])"
      ]
     },
     "execution_count": 23,
     "metadata": {},
     "output_type": "execute_result"
    }
   ],
   "source": [
    "D = np.random.randint(1,100,50).reshape(10,5)\n",
    "D"
   ]
  },
  {
   "cell_type": "code",
   "execution_count": 24,
   "metadata": {},
   "outputs": [
    {
     "data": {
      "text/plain": [
       "array([[False,  True,  True, False,  True],\n",
       "       [False,  True,  True,  True,  True],\n",
       "       [ True, False, False,  True, False],\n",
       "       [ True, False, False,  True,  True],\n",
       "       [False, False, False, False, False],\n",
       "       [False,  True,  True,  True, False],\n",
       "       [False,  True,  True,  True, False],\n",
       "       [False, False,  True, False, False],\n",
       "       [ True, False,  True, False,  True],\n",
       "       [ True, False,  True,  True, False]])"
      ]
     },
     "execution_count": 24,
     "metadata": {},
     "output_type": "execute_result"
    }
   ],
   "source": [
    "D >= 50"
   ]
  },
  {
   "cell_type": "code",
   "execution_count": 25,
   "metadata": {},
   "outputs": [
    {
     "data": {
      "text/plain": [
       "array([88, 70, 55, 54, 92, 52, 56, 97, 70, 66, 81, 79, 85, 59, 51, 75, 99,\n",
       "       51, 78, 88, 99, 77, 59, 57, 83])"
      ]
     },
     "execution_count": 25,
     "metadata": {},
     "output_type": "execute_result"
    }
   ],
   "source": [
    "D[D >= 50]"
   ]
  },
  {
   "cell_type": "code",
   "execution_count": 26,
   "metadata": {},
   "outputs": [
    {
     "data": {
      "text/plain": [
       "array([[  19, -999, -999,    1, -999],\n",
       "       [  24, -999, -999, -999, -999],\n",
       "       [-999,   35,    5, -999,   40],\n",
       "       [-999,    5,   46, -999, -999],\n",
       "       [  35,   13,   12,   37,   42],\n",
       "       [  18, -999, -999, -999,   25],\n",
       "       [  35, -999, -999, -999,   32],\n",
       "       [  14,   39, -999,   19,   43],\n",
       "       [-999,   17, -999,   47, -999],\n",
       "       [-999,    3, -999, -999,   45]])"
      ]
     },
     "execution_count": 26,
     "metadata": {},
     "output_type": "execute_result"
    }
   ],
   "source": [
    "D[D >= 50] = -999\n",
    "D"
   ]
  },
  {
   "cell_type": "markdown",
   "metadata": {},
   "source": [
    "## Reassignment"
   ]
  },
  {
   "cell_type": "code",
   "execution_count": 27,
   "metadata": {},
   "outputs": [
    {
     "data": {
      "text/plain": [
       "array([[ 1.,  2.,  3.,  4.,  5.],\n",
       "       [ 6.,  7.,  8.,  9., 10.],\n",
       "       [11., 12., 13., 14., 15.],\n",
       "       [16., 17., 18., 19., 20.],\n",
       "       [21., 22., 23., 24., 25.]])"
      ]
     },
     "execution_count": 27,
     "metadata": {},
     "output_type": "execute_result"
    }
   ],
   "source": [
    "X"
   ]
  },
  {
   "cell_type": "code",
   "execution_count": 28,
   "metadata": {},
   "outputs": [
    {
     "data": {
      "text/plain": [
       "array([[ 0.,  0.,  0.,  4.,  5.],\n",
       "       [ 0.,  0.,  0.,  9., 10.],\n",
       "       [ 0.,  0.,  0., 14., 15.],\n",
       "       [16., 17., 18., 19., 20.],\n",
       "       [21., 22., 23., 24., 25.]])"
      ]
     },
     "execution_count": 28,
     "metadata": {},
     "output_type": "execute_result"
    }
   ],
   "source": [
    "X[:3,:3] = 0\n",
    "X"
   ]
  },
  {
   "cell_type": "code",
   "execution_count": 29,
   "metadata": {},
   "outputs": [],
   "source": [
    "X[1,2] = -999\n",
    "X[4,4] = -999"
   ]
  },
  {
   "cell_type": "code",
   "execution_count": 30,
   "metadata": {},
   "outputs": [
    {
     "data": {
      "text/plain": [
       "array([[   0.,    0.,    0.,    4.,    5.],\n",
       "       [   0.,    0., -999.,    9.,   10.],\n",
       "       [   0.,    0.,    0.,   14.,   15.],\n",
       "       [  16.,   17.,   18.,   19.,   20.],\n",
       "       [  21.,   22.,   23.,   24., -999.]])"
      ]
     },
     "execution_count": 30,
     "metadata": {},
     "output_type": "execute_result"
    }
   ],
   "source": [
    "X"
   ]
  },
  {
   "cell_type": "code",
   "execution_count": 31,
   "metadata": {},
   "outputs": [
    {
     "data": {
      "text/plain": [
       "array([[1, 1, 0, 0, 1],\n",
       "       [0, 1, 1, 0, 1],\n",
       "       [0, 0, 1, 1, 0],\n",
       "       [1, 0, 0, 0, 1],\n",
       "       [1, 1, 0, 1, 1],\n",
       "       [0, 0, 1, 1, 1],\n",
       "       [0, 0, 0, 1, 0],\n",
       "       [1, 0, 0, 1, 1],\n",
       "       [0, 1, 0, 1, 0],\n",
       "       [1, 0, 1, 0, 1]])"
      ]
     },
     "execution_count": 31,
     "metadata": {},
     "output_type": "execute_result"
    }
   ],
   "source": [
    "D = np.random.randint(1,100,50).reshape(10,5)\n",
    "D[D <= 50] = 1\n",
    "D[D > 50] = 0\n",
    "D"
   ]
  },
  {
   "cell_type": "markdown",
   "metadata": {},
   "source": [
    "#### If-else with `np.where()`\n",
    "\n",
    "Similar to `R`'s `ifelse()`"
   ]
  },
  {
   "cell_type": "code",
   "execution_count": 32,
   "metadata": {},
   "outputs": [
    {
     "data": {
      "text/plain": [
       "array([[49,  7, 46, 35, 85],\n",
       "       [ 4, 30, 16, 69, 77],\n",
       "       [19, 60, 52,  2, 74],\n",
       "       [61, 95, 25, 28,  2],\n",
       "       [69, 26,  5, 63, 94],\n",
       "       [15, 29, 78, 31, 76],\n",
       "       [ 5, 74, 88, 27, 46],\n",
       "       [ 6, 19, 26, 87, 44],\n",
       "       [79, 65, 78, 24, 48],\n",
       "       [83, 86, 40, 22, 36]])"
      ]
     },
     "execution_count": 32,
     "metadata": {},
     "output_type": "execute_result"
    }
   ],
   "source": [
    "D = np.random.randint(1,100,50).reshape(10,5)\n",
    "D"
   ]
  },
  {
   "cell_type": "code",
   "execution_count": 33,
   "metadata": {},
   "outputs": [
    {
     "data": {
      "text/plain": [
       "array([[1, 1, 1, 1, 0],\n",
       "       [1, 1, 1, 0, 0],\n",
       "       [1, 0, 0, 1, 0],\n",
       "       [0, 0, 1, 1, 1],\n",
       "       [0, 1, 1, 0, 0],\n",
       "       [1, 1, 0, 1, 0],\n",
       "       [1, 0, 0, 1, 1],\n",
       "       [1, 1, 1, 0, 1],\n",
       "       [0, 0, 0, 1, 1],\n",
       "       [0, 0, 1, 1, 1]])"
      ]
     },
     "execution_count": 33,
     "metadata": {},
     "output_type": "execute_result"
    }
   ],
   "source": [
    "np.where(D>50,0,1)"
   ]
  },
  {
   "cell_type": "markdown",
   "metadata": {},
   "source": [
    "#### Reassignment with Compound Boolean Statements"
   ]
  },
  {
   "cell_type": "code",
   "execution_count": 34,
   "metadata": {},
   "outputs": [
    {
     "data": {
      "text/plain": [
       "array([3, 8, 2, 3, 1, 7, 8, 8, 3, 4, 8, 3, 2, 7, 2, 2, 1, 5, 2, 2, 3, 3,\n",
       "       5, 7, 3, 4, 9, 4, 6, 6, 2, 6, 1, 7, 2, 6, 3, 8, 4, 2, 8, 7, 3, 3,\n",
       "       6, 2, 7, 5, 7, 3, 8, 2, 2, 7, 3, 4, 9, 7, 8, 2, 6, 3, 6, 5, 3, 8,\n",
       "       7, 8, 3, 7, 1, 7, 9, 6, 3, 8, 2, 4, 4, 6, 9, 6, 2, 7, 1, 1, 6, 2,\n",
       "       5, 9, 9, 6, 7, 9, 6, 7, 3, 1, 9, 7])"
      ]
     },
     "execution_count": 34,
     "metadata": {},
     "output_type": "execute_result"
    }
   ],
   "source": [
    "b = np.random.randint(1,10,100)\n",
    "b"
   ]
  },
  {
   "cell_type": "code",
   "execution_count": 35,
   "metadata": {},
   "outputs": [
    {
     "data": {
      "text/plain": [
       "array([7, 7, 5, 5, 7, 6, 6, 6, 7, 6, 7, 6, 7, 5, 7, 7, 7, 6, 6, 5, 7, 7,\n",
       "       7, 6, 6, 6, 7, 6, 5, 6, 7, 6, 7, 7])"
      ]
     },
     "execution_count": 35,
     "metadata": {},
     "output_type": "execute_result"
    }
   ],
   "source": [
    "b[(b < 8) & (b > 4)]"
   ]
  },
  {
   "cell_type": "code",
   "execution_count": null,
   "metadata": {},
   "outputs": [],
   "source": [
    "b[(b < 8) & (b > 4)] = -999\n",
    "b"
   ]
  },
  {
   "cell_type": "markdown",
   "metadata": {},
   "source": [
    "## Stacking"
   ]
  },
  {
   "cell_type": "markdown",
   "metadata": {},
   "source": [
    "We can easily stack and grow numpy arrays"
   ]
  },
  {
   "cell_type": "code",
   "execution_count": 36,
   "metadata": {},
   "outputs": [],
   "source": [
    "m1 = np.random.randn(10).reshape(5,-1).round(1)\n",
    "m2 = np.random.poisson(1,10).reshape(5,-1)"
   ]
  },
  {
   "cell_type": "code",
   "execution_count": 37,
   "metadata": {},
   "outputs": [
    {
     "data": {
      "text/plain": [
       "array([[-0.8,  1.5],\n",
       "       [-0.5,  0.7],\n",
       "       [ 1.7, -0.5],\n",
       "       [ 1.7, -2.2],\n",
       "       [ 0.5, -0.8]])"
      ]
     },
     "execution_count": 37,
     "metadata": {},
     "output_type": "execute_result"
    }
   ],
   "source": [
    "m1"
   ]
  },
  {
   "cell_type": "code",
   "execution_count": 38,
   "metadata": {},
   "outputs": [
    {
     "data": {
      "text/plain": [
       "array([[1, 0],\n",
       "       [1, 1],\n",
       "       [0, 0],\n",
       "       [1, 1],\n",
       "       [2, 2]])"
      ]
     },
     "execution_count": 38,
     "metadata": {},
     "output_type": "execute_result"
    }
   ],
   "source": [
    "m2"
   ]
  },
  {
   "cell_type": "markdown",
   "metadata": {},
   "source": [
    "#### `rbind`: binding row"
   ]
  },
  {
   "cell_type": "code",
   "execution_count": 39,
   "metadata": {},
   "outputs": [
    {
     "data": {
      "text/plain": [
       "array([[-0.8,  1.5],\n",
       "       [-0.5,  0.7],\n",
       "       [ 1.7, -0.5],\n",
       "       [ 1.7, -2.2],\n",
       "       [ 0.5, -0.8],\n",
       "       [ 1. ,  0. ],\n",
       "       [ 1. ,  1. ],\n",
       "       [ 0. ,  0. ],\n",
       "       [ 1. ,  1. ],\n",
       "       [ 2. ,  2. ]])"
      ]
     },
     "execution_count": 39,
     "metadata": {},
     "output_type": "execute_result"
    }
   ],
   "source": [
    "# stack the two columns using concatenate\n",
    "np.concatenate([m1,m2],axis=0)"
   ]
  },
  {
   "cell_type": "code",
   "execution_count": 40,
   "metadata": {},
   "outputs": [
    {
     "data": {
      "text/plain": [
       "array([[-0.8,  1.5],\n",
       "       [-0.5,  0.7],\n",
       "       [ 1.7, -0.5],\n",
       "       [ 1.7, -2.2],\n",
       "       [ 0.5, -0.8],\n",
       "       [ 1. ,  0. ],\n",
       "       [ 1. ,  1. ],\n",
       "       [ 0. ,  0. ],\n",
       "       [ 1. ,  1. ],\n",
       "       [ 2. ,  2. ]])"
      ]
     },
     "execution_count": 40,
     "metadata": {},
     "output_type": "execute_result"
    }
   ],
   "source": [
    "# or use verticle stack\n",
    "np.vstack([m1,m2])"
   ]
  },
  {
   "cell_type": "markdown",
   "metadata": {},
   "source": [
    "#### `cbind`: binding columns"
   ]
  },
  {
   "cell_type": "code",
   "execution_count": 41,
   "metadata": {},
   "outputs": [
    {
     "data": {
      "text/plain": [
       "array([[-0.8,  1.5,  1. ,  0. ],\n",
       "       [-0.5,  0.7,  1. ,  1. ],\n",
       "       [ 1.7, -0.5,  0. ,  0. ],\n",
       "       [ 1.7, -2.2,  1. ,  1. ],\n",
       "       [ 0.5, -0.8,  2. ,  2. ]])"
      ]
     },
     "execution_count": 41,
     "metadata": {},
     "output_type": "execute_result"
    }
   ],
   "source": [
    "np.concatenate([m1,m2],axis=1)"
   ]
  },
  {
   "cell_type": "code",
   "execution_count": 42,
   "metadata": {},
   "outputs": [
    {
     "data": {
      "text/plain": [
       "array([[-0.8,  1.5,  1. ,  0. ],\n",
       "       [-0.5,  0.7,  1. ,  1. ],\n",
       "       [ 1.7, -0.5,  0. ,  0. ],\n",
       "       [ 1.7, -2.2,  1. ,  1. ],\n",
       "       [ 0.5, -0.8,  2. ,  2. ]])"
      ]
     },
     "execution_count": 42,
     "metadata": {},
     "output_type": "execute_result"
    }
   ],
   "source": [
    "np.hstack([m1,m2])"
   ]
  },
  {
   "cell_type": "markdown",
   "metadata": {},
   "source": [
    "## Views vs. Copies"
   ]
  },
  {
   "cell_type": "markdown",
   "metadata": {},
   "source": [
    "Note that when we slice an array we **_do not copy the array_**, rather we get a \"**view**\" of the array. "
   ]
  },
  {
   "cell_type": "code",
   "execution_count": 33,
   "metadata": {},
   "outputs": [
    {
     "data": {
      "text/plain": [
       "[1, 2, 100]"
      ]
     },
     "execution_count": 33,
     "metadata": {},
     "output_type": "execute_result"
    }
   ],
   "source": [
    "# Recall the behavior of double assignment with lists\n",
    "x = [1,2,3]\n",
    "y = x\n",
    "y[2] = 100\n",
    "x"
   ]
  },
  {
   "cell_type": "code",
   "execution_count": 34,
   "metadata": {},
   "outputs": [
    {
     "data": {
      "text/plain": [
       "[1, 2, 100]"
      ]
     },
     "execution_count": 34,
     "metadata": {},
     "output_type": "execute_result"
    }
   ],
   "source": [
    "# We can get around this behavior by making copies. \n",
    "# One way to make a copy is to slice\n",
    "y = x[:]\n",
    "y[2] = -999\n",
    "x"
   ]
  },
  {
   "cell_type": "markdown",
   "metadata": {},
   "source": [
    "When we slice an array, we get a sub-\"view\" of the data that still effects the original data object."
   ]
  },
  {
   "cell_type": "code",
   "execution_count": 35,
   "metadata": {},
   "outputs": [
    {
     "data": {
      "text/plain": [
       "array([[1., 1., 1., 1., 1.],\n",
       "       [1., 1., 1., 1., 1.],\n",
       "       [1., 1., 1., 1., 1.],\n",
       "       [1., 1., 1., 1., 1.],\n",
       "       [1., 1., 1., 1., 1.]])"
      ]
     },
     "execution_count": 35,
     "metadata": {},
     "output_type": "execute_result"
    }
   ],
   "source": [
    "P = np.ones((5,5))\n",
    "P"
   ]
  },
  {
   "cell_type": "code",
   "execution_count": 36,
   "metadata": {},
   "outputs": [
    {
     "data": {
      "text/plain": [
       "array([[1., 1.],\n",
       "       [1., 1.]])"
      ]
     },
     "execution_count": 36,
     "metadata": {},
     "output_type": "execute_result"
    }
   ],
   "source": [
    "g = P[:2,:2] \n",
    "g"
   ]
  },
  {
   "cell_type": "code",
   "execution_count": 37,
   "metadata": {},
   "outputs": [
    {
     "data": {
      "text/plain": [
       "array([[101., 101.],\n",
       "       [101., 101.]])"
      ]
     },
     "execution_count": 37,
     "metadata": {},
     "output_type": "execute_result"
    }
   ],
   "source": [
    "g += 100\n",
    "g"
   ]
  },
  {
   "cell_type": "code",
   "execution_count": 38,
   "metadata": {},
   "outputs": [
    {
     "data": {
      "text/plain": [
       "array([[101., 101.,   1.,   1.,   1.],\n",
       "       [101., 101.,   1.,   1.,   1.],\n",
       "       [  1.,   1.,   1.,   1.,   1.],\n",
       "       [  1.,   1.,   1.,   1.,   1.],\n",
       "       [  1.,   1.,   1.,   1.,   1.]])"
      ]
     },
     "execution_count": 38,
     "metadata": {},
     "output_type": "execute_result"
    }
   ],
   "source": [
    "P"
   ]
  },
  {
   "cell_type": "markdown",
   "metadata": {},
   "source": [
    "As [noted in the reading](https://jakevdp.github.io/PythonDataScienceHandbook/02.02-the-basics-of-numpy-arrays.html): \n",
    "\n",
    "> \"This **_default behavior is actually quite useful_**: it means that when we work with large datasets, we can access and process pieces of these datasets without the need to copy the underlying data buffer.\""
   ]
  },
  {
   "cell_type": "markdown",
   "metadata": {},
   "source": [
    "To get around this behavior, we again just need to make a `.copy()`. "
   ]
  },
  {
   "cell_type": "code",
   "execution_count": 39,
   "metadata": {},
   "outputs": [
    {
     "data": {
      "text/plain": [
       "array([[-899., -899.],\n",
       "       [-899., -899.]])"
      ]
     },
     "execution_count": 39,
     "metadata": {},
     "output_type": "execute_result"
    }
   ],
   "source": [
    "g2 = P[:2,:2].copy()\n",
    "g2 -= 1000\n",
    "g2"
   ]
  },
  {
   "cell_type": "code",
   "execution_count": 40,
   "metadata": {},
   "outputs": [
    {
     "data": {
      "text/plain": [
       "array([[101., 101.,   1.,   1.,   1.],\n",
       "       [101., 101.,   1.,   1.,   1.],\n",
       "       [  1.,   1.,   1.,   1.,   1.],\n",
       "       [  1.,   1.,   1.,   1.,   1.],\n",
       "       [  1.,   1.,   1.,   1.,   1.]])"
      ]
     },
     "execution_count": 40,
     "metadata": {},
     "output_type": "execute_result"
    }
   ],
   "source": [
    "P"
   ]
  },
  {
   "cell_type": "markdown",
   "metadata": {
    "heading_collapsed": true
   },
   "source": [
    "# Broadcasting "
   ]
  },
  {
   "cell_type": "markdown",
   "metadata": {
    "hidden": true
   },
   "source": [
    "**Broadcasting** makes it possible for operations to be performed on arrays of mismatched shapes.\n",
    "\n",
    "Broadcasting describes how numpy treats arrays with different shapes during arithmetic operations. Subject to certain constraints, the smaller array is \"broadcast\" across the larger array so that they have compatible shapes."
   ]
  },
  {
   "cell_type": "markdown",
   "metadata": {
    "hidden": true
   },
   "source": [
    "For example, say we have a numpy array of dimensions (5,1)"
   ]
  },
  {
   "cell_type": "markdown",
   "metadata": {
    "hidden": true
   },
   "source": [
    "$$ \n",
    "\\begin{bmatrix} 1\\\\2\\\\3\\\\4\\\\5\\end{bmatrix}\n",
    "$$"
   ]
  },
  {
   "cell_type": "markdown",
   "metadata": {
    "hidden": true
   },
   "source": [
    "Now say we wanted to add the values in this array by 5\n",
    "\n",
    "$$ \n",
    "\\begin{bmatrix} 1\\\\2\\\\3\\\\4\\\\5\\end{bmatrix} + 5\n",
    "$$"
   ]
  },
  {
   "cell_type": "markdown",
   "metadata": {
    "hidden": true
   },
   "source": [
    "Broadcasting \"pads\" the array of 5 (which is shape = 1,1), and extends it so that it has similar dimension to the larger array in which the computation is being performed.\n",
    "\n",
    "$$ \n",
    "\\begin{bmatrix} 1\\\\2\\\\3\\\\4\\\\5\\end{bmatrix} + \\begin{bmatrix} 5\\\\\\color{lightgrey}{5}\\\\\\color{lightgrey}{5}\\\\\\color{lightgrey}{5}\\\\\\color{lightgrey}{5}\\end{bmatrix}\n",
    "$$\n",
    "\n",
    "$$ \n",
    "\\begin{bmatrix} 1 + 5\\\\2 + 5\\\\3 + 5\\\\4 + 5\\\\5 + 5\\end{bmatrix} \n",
    "$$\n",
    "\n",
    "$$ \n",
    "\\begin{bmatrix} 6\\\\7\\\\8\\\\9\\\\10\\end{bmatrix} \n",
    "$$"
   ]
  },
  {
   "cell_type": "code",
   "execution_count": 41,
   "metadata": {
    "hidden": true
   },
   "outputs": [
    {
     "data": {
      "text/plain": [
       "array([ 6,  7,  8,  9, 10])"
      ]
     },
     "execution_count": 41,
     "metadata": {},
     "output_type": "execute_result"
    }
   ],
   "source": [
    "A = np.array([1,2,3,4,5])\n",
    "A + 5"
   ]
  },
  {
   "cell_type": "markdown",
   "metadata": {
    "hidden": true
   },
   "source": [
    "By 'broadcast', we mean that the smaller array is made to match the size of the larger array in order to allow for element-wise manipulations.\n",
    "\n",
    "### How it works:\n",
    "\n",
    "- Shapes of the two arrays are compared _element-wise_. \n",
    "- Dimensions are considered in reverse order, starting with the trailing dimensions, and working forward \n",
    "- We are stretching the smaller array by making copies of its elements. However, and this is key, no actual copies are made, making the method computationally and memory efficient.\n",
    "\n",
    "A general **Rule of thumb**: All corresponding dimension of the arrays must be compatible or one of the two dimensions is 1."
   ]
  },
  {
   "cell_type": "markdown",
   "metadata": {
    "hidden": true
   },
   "source": [
    "## Rules of Broadcasting"
   ]
  },
  {
   "cell_type": "markdown",
   "metadata": {
    "hidden": true
   },
   "source": [
    "Broadcasting in NumPy follows a strict set of rules to determine the interaction between the two arrays (from [reading](https://jakevdp.github.io/PythonDataScienceHandbook/02.05-computation-on-arrays-broadcasting.html)):\n",
    "\n",
    "\n",
    "### Rule 1\n",
    "> If the two arrays differ in their number of dimensions, the shape of the one with fewer dimensions is padded with ones on its leading (left) side.\n",
    "\n",
    "### Rule 2\n",
    "\n",
    "> If the shape of the two arrays does not match in any dimension, the array with shape equal to 1 in that dimension is stretched to match the other shape.\n",
    "\n",
    "### Rule 3 \n",
    "\n",
    "> If in any dimension the sizes disagree and neither is equal to 1, an error is raised."
   ]
  },
  {
   "cell_type": "markdown",
   "metadata": {
    "hidden": true
   },
   "source": [
    "#### Example 1"
   ]
  },
  {
   "cell_type": "code",
   "execution_count": 42,
   "metadata": {
    "hidden": true
   },
   "outputs": [
    {
     "data": {
      "text/plain": [
       "array([5, 6, 7])"
      ]
     },
     "execution_count": 42,
     "metadata": {},
     "output_type": "execute_result"
    }
   ],
   "source": [
    "np.arange(3) + 5"
   ]
  },
  {
   "cell_type": "markdown",
   "metadata": {
    "hidden": true
   },
   "source": [
    "$$\n",
    "\\texttt{np.arange(3)} = \\begin{bmatrix} 0&1&2\\end{bmatrix}\n",
    "$$\n",
    "\n",
    "<br> \n",
    "\n",
    "$$\n",
    "\\texttt{5}  = \\begin{bmatrix} 5 \\end{bmatrix}\n",
    "$$\n",
    "\n",
    "<br> \n",
    "\n",
    "$$\n",
    "\\begin{bmatrix} 0&1&2\\end{bmatrix} + \\begin{bmatrix} 5 & \\color{lightgrey}{5} & \\color{lightgrey}{5}\\end{bmatrix} = \\begin{bmatrix} 5 & 6 & 7\\end{bmatrix} \n",
    "$$"
   ]
  },
  {
   "cell_type": "markdown",
   "metadata": {
    "hidden": true
   },
   "source": [
    "#### Example 2"
   ]
  },
  {
   "cell_type": "code",
   "execution_count": 43,
   "metadata": {
    "hidden": true
   },
   "outputs": [
    {
     "data": {
      "text/plain": [
       "array([[1., 2., 3.],\n",
       "       [1., 2., 3.],\n",
       "       [1., 2., 3.]])"
      ]
     },
     "execution_count": 43,
     "metadata": {},
     "output_type": "execute_result"
    }
   ],
   "source": [
    "np.ones((3,3)) + np.arange(3)"
   ]
  },
  {
   "cell_type": "markdown",
   "metadata": {
    "hidden": true
   },
   "source": [
    "$$\n",
    "\\texttt{np.ones((3,3)) = }\\begin{bmatrix} 1 & 1 & 1\\\\ 1 & 1 & 1 \\\\ 1 & 1 & 1 \\end{bmatrix}\n",
    "$$\n",
    "\n",
    "<br>\n",
    "\n",
    "$$\n",
    "\\texttt{np.arange(3)} = \\begin{bmatrix} 0 & 1 & 2\\end{bmatrix} \n",
    "$$\n",
    "\n",
    "<br>\n",
    "\n",
    "$$\n",
    "\\begin{bmatrix} 1 & 1 & 1\\\\ 1 & 1 & 1 \\\\ 1 & 1 & 1 \\end{bmatrix} + \n",
    "\\begin{bmatrix} 0 & 1 & 2\\\\ \\color{lightgrey}{0} & \\color{lightgrey}{1} & \\color{lightgrey}{2} \\\\  \\color{lightgrey}{0} & \\color{lightgrey}{1} & \\color{lightgrey}{2}\\end{bmatrix}  = \n",
    "\\begin{bmatrix} 1 & 2 & 3\\\\ 1 & 2 & 3 \\\\ 1 & 2 & 3 \\end{bmatrix} \n",
    "$$"
   ]
  },
  {
   "cell_type": "markdown",
   "metadata": {
    "hidden": true
   },
   "source": [
    "#### Example 3"
   ]
  },
  {
   "cell_type": "code",
   "execution_count": 44,
   "metadata": {
    "hidden": true
   },
   "outputs": [
    {
     "data": {
      "text/plain": [
       "array([[0, 1, 2],\n",
       "       [1, 2, 3],\n",
       "       [2, 3, 4]])"
      ]
     },
     "execution_count": 44,
     "metadata": {},
     "output_type": "execute_result"
    }
   ],
   "source": [
    "np.arange(3).reshape(3,1) + np.arange(3)"
   ]
  },
  {
   "cell_type": "markdown",
   "metadata": {
    "hidden": true
   },
   "source": [
    "$$\n",
    "\\texttt{np.arange(3).reshape(3,1)} = \\begin{bmatrix} 0 \\\\ 1 \\\\ 2\\end{bmatrix} \n",
    "$$\n",
    "\n",
    "<br>\n",
    "\n",
    "$$\n",
    "\\texttt{np.arange(3)} = \\begin{bmatrix} 0 & 1 & 2\\end{bmatrix} \n",
    "$$\n",
    "\n",
    "<br>\n",
    "\n",
    "$$\n",
    "\\begin{bmatrix} 0 & \\color{lightgrey}{0} & \\color{lightgrey}{0} \\\\ 1 & \\color{lightgrey}{1} & \\color{lightgrey}{1} \\\\  2 & \\color{lightgrey}{2} & \\color{lightgrey}{2}\\end{bmatrix} +\n",
    "\\begin{bmatrix} 0 & 1 & 2\\\\ \\color{lightgrey}{0} & \\color{lightgrey}{1} & \\color{lightgrey}{2} \\\\  \\color{lightgrey}{0} & \\color{lightgrey}{1} & \\color{lightgrey}{2}\\end{bmatrix}  =\n",
    "\\begin{bmatrix} 0 & 1 & 2\\\\ 1 &2&3 \\\\ 2& 3 & 4\\end{bmatrix} \n",
    "$$\n"
   ]
  },
  {
   "cell_type": "markdown",
   "metadata": {
    "hidden": true
   },
   "source": [
    "#### Example 4\n",
    "\n",
    "Example of dimensional disagreement."
   ]
  },
  {
   "cell_type": "code",
   "execution_count": 45,
   "metadata": {
    "hidden": true
   },
   "outputs": [
    {
     "data": {
      "text/plain": [
       "array([[1., 1., 1., 1., 1., 1., 1.],\n",
       "       [1., 1., 1., 1., 1., 1., 1.],\n",
       "       [1., 1., 1., 1., 1., 1., 1.],\n",
       "       [1., 1., 1., 1., 1., 1., 1.]])"
      ]
     },
     "execution_count": 45,
     "metadata": {},
     "output_type": "execute_result"
    }
   ],
   "source": [
    "np.ones((4,7)) "
   ]
  },
  {
   "cell_type": "code",
   "execution_count": 46,
   "metadata": {
    "hidden": true
   },
   "outputs": [
    {
     "ename": "ValueError",
     "evalue": "operands could not be broadcast together with shapes (4,7) (5,9) ",
     "output_type": "error",
     "traceback": [
      "\u001b[0;31m---------------------------------------------------------------------------\u001b[0m",
      "\u001b[0;31mValueError\u001b[0m                                Traceback (most recent call last)",
      "\u001b[0;32m<ipython-input-46-46dcb0444846>\u001b[0m in \u001b[0;36m<module>\u001b[0;34m()\u001b[0m\n\u001b[0;32m----> 1\u001b[0;31m \u001b[0mnp\u001b[0m\u001b[0;34m.\u001b[0m\u001b[0mones\u001b[0m\u001b[0;34m(\u001b[0m\u001b[0;34m(\u001b[0m\u001b[0;36m4\u001b[0m\u001b[0;34m,\u001b[0m\u001b[0;36m7\u001b[0m\u001b[0;34m)\u001b[0m\u001b[0;34m)\u001b[0m  \u001b[0;34m+\u001b[0m \u001b[0mnp\u001b[0m\u001b[0;34m.\u001b[0m\u001b[0mzeros\u001b[0m\u001b[0;34m(\u001b[0m \u001b[0;34m(\u001b[0m\u001b[0;36m5\u001b[0m\u001b[0;34m,\u001b[0m\u001b[0;36m9\u001b[0m\u001b[0;34m)\u001b[0m \u001b[0;34m)\u001b[0m\u001b[0;34m\u001b[0m\u001b[0m\n\u001b[0m",
      "\u001b[0;31mValueError\u001b[0m: operands could not be broadcast together with shapes (4,7) (5,9) "
     ]
    }
   ],
   "source": [
    "np.ones((4,7))  + np.zeros( (5,9) )"
   ]
  },
  {
   "cell_type": "code",
   "execution_count": null,
   "metadata": {
    "hidden": true
   },
   "outputs": [],
   "source": [
    "np.ones((4,7))  + np.zeros( (1,7) )"
   ]
  },
  {
   "cell_type": "markdown",
   "metadata": {
    "heading_collapsed": true
   },
   "source": [
    "# Vectorization"
   ]
  },
  {
   "cell_type": "markdown",
   "metadata": {
    "hidden": true
   },
   "source": [
    "Similar to broadcasting, vectorization allows for simultaneous computation along all values in the array. "
   ]
  },
  {
   "cell_type": "code",
   "execution_count": 47,
   "metadata": {
    "hidden": true
   },
   "outputs": [
    {
     "data": {
      "text/plain": [
       "array([[7, 4, 7, 7, 7],\n",
       "       [2, 4, 5, 4, 2],\n",
       "       [1, 6, 9, 7, 9],\n",
       "       [2, 1, 4, 2, 4],\n",
       "       [5, 8, 7, 2, 5],\n",
       "       [4, 4, 8, 7, 9],\n",
       "       [7, 5, 5, 8, 1],\n",
       "       [1, 9, 9, 5, 9],\n",
       "       [7, 2, 7, 9, 8],\n",
       "       [2, 8, 2, 8, 9]])"
      ]
     },
     "execution_count": 47,
     "metadata": {},
     "output_type": "execute_result"
    }
   ],
   "source": [
    "X = np.random.randint(1,10,50).reshape(10,5)\n",
    "X"
   ]
  },
  {
   "cell_type": "code",
   "execution_count": 48,
   "metadata": {
    "hidden": true
   },
   "outputs": [
    {
     "data": {
      "text/plain": [
       "array([[1.94591015, 1.38629436, 1.94591015, 1.94591015, 1.94591015],\n",
       "       [0.69314718, 1.38629436, 1.60943791, 1.38629436, 0.69314718],\n",
       "       [0.        , 1.79175947, 2.19722458, 1.94591015, 2.19722458],\n",
       "       [0.69314718, 0.        , 1.38629436, 0.69314718, 1.38629436],\n",
       "       [1.60943791, 2.07944154, 1.94591015, 0.69314718, 1.60943791],\n",
       "       [1.38629436, 1.38629436, 2.07944154, 1.94591015, 2.19722458],\n",
       "       [1.94591015, 1.60943791, 1.60943791, 2.07944154, 0.        ],\n",
       "       [0.        , 2.19722458, 2.19722458, 1.60943791, 2.19722458],\n",
       "       [1.94591015, 0.69314718, 1.94591015, 2.19722458, 2.07944154],\n",
       "       [0.69314718, 2.07944154, 0.69314718, 2.07944154, 2.19722458]])"
      ]
     },
     "execution_count": 48,
     "metadata": {},
     "output_type": "execute_result"
    }
   ],
   "source": [
    "np.log(X)"
   ]
  },
  {
   "cell_type": "markdown",
   "metadata": {
    "hidden": true
   },
   "source": [
    "The computations are performed on each element in the array _simultaneously_."
   ]
  },
  {
   "cell_type": "markdown",
   "metadata": {
    "hidden": true
   },
   "source": [
    "Again, let's consider what this same operation would need to look like if we were dealing with a nested list. We'd need to perform each operation element-by-element in the nested list structure. "
   ]
  },
  {
   "cell_type": "code",
   "execution_count": 49,
   "metadata": {
    "hidden": true,
    "scrolled": true
   },
   "outputs": [
    {
     "data": {
      "text/plain": [
       "[[1.9459101490553132,\n",
       "  1.3862943611198906,\n",
       "  1.9459101490553132,\n",
       "  1.9459101490553132,\n",
       "  1.9459101490553132],\n",
       " [0.6931471805599453,\n",
       "  1.3862943611198906,\n",
       "  1.6094379124341003,\n",
       "  1.3862943611198906,\n",
       "  0.6931471805599453],\n",
       " [0.0,\n",
       "  1.791759469228055,\n",
       "  2.1972245773362196,\n",
       "  1.9459101490553132,\n",
       "  2.1972245773362196],\n",
       " [0.6931471805599453,\n",
       "  0.0,\n",
       "  1.3862943611198906,\n",
       "  0.6931471805599453,\n",
       "  1.3862943611198906],\n",
       " [1.6094379124341003,\n",
       "  2.0794415416798357,\n",
       "  1.9459101490553132,\n",
       "  0.6931471805599453,\n",
       "  1.6094379124341003],\n",
       " [1.3862943611198906,\n",
       "  1.3862943611198906,\n",
       "  2.0794415416798357,\n",
       "  1.9459101490553132,\n",
       "  2.1972245773362196],\n",
       " [1.9459101490553132,\n",
       "  1.6094379124341003,\n",
       "  1.6094379124341003,\n",
       "  2.0794415416798357,\n",
       "  0.0],\n",
       " [0.0,\n",
       "  2.1972245773362196,\n",
       "  2.1972245773362196,\n",
       "  1.6094379124341003,\n",
       "  2.1972245773362196],\n",
       " [1.9459101490553132,\n",
       "  0.6931471805599453,\n",
       "  1.9459101490553132,\n",
       "  2.1972245773362196,\n",
       "  2.0794415416798357],\n",
       " [0.6931471805599453,\n",
       "  2.0794415416798357,\n",
       "  0.6931471805599453,\n",
       "  2.0794415416798357,\n",
       "  2.1972245773362196]]"
      ]
     },
     "execution_count": 49,
     "metadata": {},
     "output_type": "execute_result"
    }
   ],
   "source": [
    "X2 = X.tolist()\n",
    "n_rows = len(X2)\n",
    "n_cols = len(X2[0])\n",
    "for i in range(n_rows):\n",
    "    for j in range(n_cols):\n",
    "        X2[i][j] = math.log(X2[i][j])\n",
    "X2"
   ]
  },
  {
   "cell_type": "markdown",
   "metadata": {
    "hidden": true
   },
   "source": [
    "Vectorization frees us from this tedium. Moreover, it's extremely efficient so we can perform computations quickly.\n",
    "\n",
    "For example:"
   ]
  },
  {
   "cell_type": "code",
   "execution_count": 50,
   "metadata": {
    "hidden": true
   },
   "outputs": [
    {
     "data": {
      "text/plain": [
       "array([1, 2, 6, 7, 8])"
      ]
     },
     "execution_count": 50,
     "metadata": {},
     "output_type": "execute_result"
    }
   ],
   "source": [
    "# Locate the absolute value for an array\n",
    "np.abs([1,2,-6,7,8])"
   ]
  },
  {
   "cell_type": "code",
   "execution_count": 51,
   "metadata": {
    "hidden": true
   },
   "outputs": [
    {
     "data": {
      "text/plain": [
       "array([[1.9, 1.4, 1.9, 1.9, 1.9],\n",
       "       [0.7, 1.4, 1.6, 1.4, 0.7],\n",
       "       [0. , 1.8, 2.2, 1.9, 2.2],\n",
       "       [0.7, 0. , 1.4, 0.7, 1.4],\n",
       "       [1.6, 2.1, 1.9, 0.7, 1.6],\n",
       "       [1.4, 1.4, 2.1, 1.9, 2.2],\n",
       "       [1.9, 1.6, 1.6, 2.1, 0. ],\n",
       "       [0. , 2.2, 2.2, 1.6, 2.2],\n",
       "       [1.9, 0.7, 1.9, 2.2, 2.1],\n",
       "       [0.7, 2.1, 0.7, 2.1, 2.2]])"
      ]
     },
     "execution_count": 51,
     "metadata": {},
     "output_type": "execute_result"
    }
   ],
   "source": [
    "# Round Values to the k-th decimal point\n",
    "np.round(np.log(X),1)"
   ]
  },
  {
   "cell_type": "code",
   "execution_count": 52,
   "metadata": {
    "hidden": true
   },
   "outputs": [
    {
     "data": {
      "text/plain": [
       "3"
      ]
     },
     "execution_count": 52,
     "metadata": {},
     "output_type": "execute_result"
    }
   ],
   "source": [
    "# Count the number of non zeros\n",
    "np.count_nonzero(np.array([1,0,8,0,1]))"
   ]
  },
  {
   "cell_type": "markdown",
   "metadata": {
    "hidden": true
   },
   "source": [
    "Numpy comes baked in with a large number of `ufuncs` (or \"universal functions\") that are all vectorized. [See here for a detailed list of these operations.](https://docs.scipy.org/doc/numpy-1.13.0/reference/routines.math.html)"
   ]
  },
  {
   "cell_type": "markdown",
   "metadata": {
    "hidden": true
   },
   "source": [
    "## Vectorization across array dimensions\n",
    "\n",
    "The universal functions constructed in Python come with an `axis` argument that outlines how the function should be applied"
   ]
  },
  {
   "cell_type": "code",
   "execution_count": 53,
   "metadata": {
    "hidden": true
   },
   "outputs": [
    {
     "data": {
      "text/plain": [
       "array([[8, 2, 4, 2, 9],\n",
       "       [8, 6, 2, 3, 6],\n",
       "       [3, 3, 4, 3, 7],\n",
       "       [8, 2, 4, 9, 4],\n",
       "       [8, 4, 4, 6, 7],\n",
       "       [1, 9, 8, 8, 5],\n",
       "       [5, 6, 1, 9, 3],\n",
       "       [6, 2, 6, 3, 5],\n",
       "       [4, 1, 4, 8, 8],\n",
       "       [3, 6, 2, 8, 6],\n",
       "       [2, 3, 9, 6, 1],\n",
       "       [4, 4, 4, 2, 8],\n",
       "       [7, 4, 2, 8, 3],\n",
       "       [7, 6, 9, 5, 8],\n",
       "       [9, 6, 3, 5, 4],\n",
       "       [4, 2, 8, 9, 6],\n",
       "       [8, 8, 8, 6, 1],\n",
       "       [1, 9, 2, 1, 5],\n",
       "       [6, 5, 6, 1, 8],\n",
       "       [2, 3, 3, 8, 8]])"
      ]
     },
     "execution_count": 53,
     "metadata": {},
     "output_type": "execute_result"
    }
   ],
   "source": [
    "A = np.random.randint(1,10,100).reshape(20,5)\n",
    "A"
   ]
  },
  {
   "cell_type": "markdown",
   "metadata": {
    "hidden": true
   },
   "source": [
    "Consider calculating the average across some data set. By default, the ufunc `.mean()` will calculate the average for the entire data matrix."
   ]
  },
  {
   "cell_type": "code",
   "execution_count": 54,
   "metadata": {
    "hidden": true
   },
   "outputs": [
    {
     "data": {
      "text/plain": [
       "5.1"
      ]
     },
     "execution_count": 54,
     "metadata": {},
     "output_type": "execute_result"
    }
   ],
   "source": [
    "A.mean()"
   ]
  },
  {
   "cell_type": "markdown",
   "metadata": {
    "hidden": true
   },
   "source": [
    "If we wanted to calculate the mean for each observation (row) or variable (column), we'll need to use the `axis` argument to specify which. \n",
    "\n",
    "- `axis = 0` == move across the columns\n",
    "- `axis = 1` == move across the rows"
   ]
  },
  {
   "cell_type": "code",
   "execution_count": 55,
   "metadata": {
    "hidden": true
   },
   "outputs": [
    {
     "data": {
      "text/plain": [
       "array([5.2 , 4.55, 4.65, 5.5 , 5.6 ])"
      ]
     },
     "execution_count": 55,
     "metadata": {},
     "output_type": "execute_result"
    }
   ],
   "source": [
    "A.mean(axis=0)"
   ]
  },
  {
   "cell_type": "code",
   "execution_count": 56,
   "metadata": {
    "hidden": true
   },
   "outputs": [
    {
     "data": {
      "text/plain": [
       "array([5. , 5. , 4. , 5.4, 5.8, 6.2, 4.8, 4.4, 5. , 5. , 4.2, 4.4, 4.8,\n",
       "       7. , 5.4, 5.8, 6.2, 3.6, 5.2, 4.8])"
      ]
     },
     "execution_count": 56,
     "metadata": {},
     "output_type": "execute_result"
    }
   ],
   "source": [
    "A.mean(axis=1)"
   ]
  },
  {
   "cell_type": "markdown",
   "metadata": {
    "hidden": true
   },
   "source": [
    "## Building vectorized functions"
   ]
  },
  {
   "cell_type": "markdown",
   "metadata": {
    "hidden": true
   },
   "source": [
    "Consider the following function that yields a different string when input `a` is larger/smaller than input `b`."
   ]
  },
  {
   "cell_type": "code",
   "execution_count": 57,
   "metadata": {
    "hidden": true
   },
   "outputs": [],
   "source": [
    "def bigsmall(a,b):\n",
    "    if a > b:\n",
    "        return \"A is larger\"\n",
    "    else:\n",
    "        return \"B is larger\""
   ]
  },
  {
   "cell_type": "code",
   "execution_count": 58,
   "metadata": {
    "hidden": true
   },
   "outputs": [
    {
     "data": {
      "text/plain": [
       "'B is larger'"
      ]
     },
     "execution_count": 58,
     "metadata": {},
     "output_type": "execute_result"
    }
   ],
   "source": [
    "bigsmall(5,6)"
   ]
  },
  {
   "cell_type": "code",
   "execution_count": 59,
   "metadata": {
    "hidden": true
   },
   "outputs": [
    {
     "data": {
      "text/plain": [
       "'A is larger'"
      ]
     },
     "execution_count": 59,
     "metadata": {},
     "output_type": "execute_result"
    }
   ],
   "source": [
    "bigsmall(6,5)"
   ]
  },
  {
   "cell_type": "markdown",
   "metadata": {
    "hidden": true
   },
   "source": [
    "We can implement this function in a vectorized fashion using the `np.vectorize()` method. "
   ]
  },
  {
   "cell_type": "code",
   "execution_count": 60,
   "metadata": {
    "hidden": true
   },
   "outputs": [
    {
     "data": {
      "text/plain": [
       "<numpy.lib.function_base.vectorize at 0x7faf1810c9b0>"
      ]
     },
     "execution_count": 60,
     "metadata": {},
     "output_type": "execute_result"
    }
   ],
   "source": [
    "# Create a vectorized version of the function\n",
    "vec_bigsmall = np.vectorize(bigsmall)\n",
    "vec_bigsmall "
   ]
  },
  {
   "cell_type": "code",
   "execution_count": 61,
   "metadata": {
    "hidden": true
   },
   "outputs": [
    {
     "data": {
      "text/plain": [
       "array(['B is larger', 'B is larger', 'B is larger', 'A is larger',\n",
       "       'B is larger'], dtype='<U11')"
      ]
     },
     "execution_count": 61,
     "metadata": {},
     "output_type": "execute_result"
    }
   ],
   "source": [
    "# And now implement on arrays of numbers!\n",
    "vec_bigsmall([0,2,5,7,0],[4,3,10,2,6])"
   ]
  },
  {
   "cell_type": "markdown",
   "metadata": {},
   "source": [
    "# Road to the DataFrame &rarr; Handling Multiple Data Types"
   ]
  },
  {
   "cell_type": "markdown",
   "metadata": {},
   "source": [
    "Out of the box, numpy arrays can only handle one data class at a time..."
   ]
  },
  {
   "cell_type": "code",
   "execution_count": 62,
   "metadata": {},
   "outputs": [
    {
     "data": {
      "text/plain": [
       "dtype('int64')"
      ]
     },
     "execution_count": 62,
     "metadata": {},
     "output_type": "execute_result"
    }
   ],
   "source": [
    "x = np.array([1,2,3,4])\n",
    "x.dtype                # examine the data type contained within "
   ]
  },
  {
   "cell_type": "markdown",
   "metadata": {},
   "source": [
    "And we can't necessarily change the data type on the fly by ducktyping (i.e. overwriting the data object with different types of values)."
   ]
  },
  {
   "cell_type": "code",
   "execution_count": 63,
   "metadata": {},
   "outputs": [
    {
     "data": {
      "text/plain": [
       "array([1, 0, 3, 4])"
      ]
     },
     "execution_count": 63,
     "metadata": {},
     "output_type": "execute_result"
    }
   ],
   "source": [
    "x[1] = .04\n",
    "x   "
   ]
  },
  {
   "cell_type": "code",
   "execution_count": 64,
   "metadata": {},
   "outputs": [
    {
     "ename": "ValueError",
     "evalue": "invalid literal for int() with base 10: 'this'",
     "output_type": "error",
     "traceback": [
      "\u001b[0;31m---------------------------------------------------------------------------\u001b[0m",
      "\u001b[0;31mValueError\u001b[0m                                Traceback (most recent call last)",
      "\u001b[0;32m<ipython-input-64-b16414e738a9>\u001b[0m in \u001b[0;36m<module>\u001b[0;34m()\u001b[0m\n\u001b[0;32m----> 1\u001b[0;31m \u001b[0mx\u001b[0m\u001b[0;34m[\u001b[0m\u001b[0;36m1\u001b[0m\u001b[0;34m]\u001b[0m \u001b[0;34m=\u001b[0m \u001b[0;34m\"this\"\u001b[0m\u001b[0;34m\u001b[0m\u001b[0m\n\u001b[0m\u001b[1;32m      2\u001b[0m \u001b[0mx\u001b[0m\u001b[0;34m\u001b[0m\u001b[0m\n",
      "\u001b[0;31mValueError\u001b[0m: invalid literal for int() with base 10: 'this'"
     ]
    }
   ],
   "source": [
    "x[1] = \"this\"\n",
    "x"
   ]
  },
  {
   "cell_type": "markdown",
   "metadata": {},
   "source": [
    "To do this, we need to alter the data type of the data contained within the array with `.astype()`"
   ]
  },
  {
   "cell_type": "code",
   "execution_count": 65,
   "metadata": {},
   "outputs": [
    {
     "data": {
      "text/plain": [
       "array([1., 0., 3., 4.], dtype=float32)"
      ]
     },
     "execution_count": 65,
     "metadata": {},
     "output_type": "execute_result"
    }
   ],
   "source": [
    "x.astype('f')"
   ]
  },
  {
   "cell_type": "code",
   "execution_count": 66,
   "metadata": {},
   "outputs": [
    {
     "data": {
      "text/plain": [
       "array(['1', '0', '3', '4'], dtype='<U21')"
      ]
     },
     "execution_count": 66,
     "metadata": {},
     "output_type": "execute_result"
    }
   ],
   "source": [
    "x.astype('U')"
   ]
  },
  {
   "cell_type": "markdown",
   "metadata": {},
   "source": [
    "List of all data types and their conversions ([table drawn from reading](https://jakevdp.github.io/PythonDataScienceHandbook/02.09-structured-data-numpy.html))\n",
    "\n",
    "| Character | Description\t | Example  |\n",
    "|:-------:|:------------:|:--------:|\n",
    "| `b` | Byte | `np.dtype('b')` |\n",
    "| `i` | Signed integer | `np.dtype('i4') == np.int32`\n",
    "| `u` | Unsigned integer | `np.dtype('u1') == np.uint8`\n",
    "| `f` | Floating point | `np.dtype('f8') == np.int64`\n",
    "| `c` | Complex floating point | `np.dtype('c16') == np.complex128`\n",
    "| `S`, `a` | String | `np.dtype('S5')`\n",
    "| `U` | Unicode string | `np.dtype('U') == np.str_`\n",
    "| `V` | Raw data (void) | `np.dtype('V') == np.void`"
   ]
  },
  {
   "cell_type": "markdown",
   "metadata": {},
   "source": [
    "This limitation extends itself to heterogeneous data types"
   ]
  },
  {
   "cell_type": "code",
   "execution_count": 67,
   "metadata": {},
   "outputs": [
    {
     "data": {
      "text/plain": [
       "[['a', 'b', 'c'], [1, 2, 3], [0.3, 0.55, 1.2]]"
      ]
     },
     "execution_count": 67,
     "metadata": {},
     "output_type": "execute_result"
    }
   ],
   "source": [
    "nested_list = [['a','b','c'],[1,2,3],[.3,.55,1.2]]\n",
    "nested_list"
   ]
  },
  {
   "cell_type": "code",
   "execution_count": 68,
   "metadata": {},
   "outputs": [
    {
     "data": {
      "text/plain": [
       "array([['a', '1', '0.3'],\n",
       "       ['b', '2', '0.55'],\n",
       "       ['c', '3', '1.2']], dtype='<U4')"
      ]
     },
     "execution_count": 68,
     "metadata": {},
     "output_type": "execute_result"
    }
   ],
   "source": [
    "data = np.array(nested_list).T\n",
    "data"
   ]
  },
  {
   "cell_type": "markdown",
   "metadata": {},
   "source": [
    "All the data in the matrix is treated as a string!"
   ]
  },
  {
   "cell_type": "markdown",
   "metadata": {},
   "source": [
    "### Structured Arrays\n",
    "To get around this, we need to again be explicit about the data type of each column. Here we pre-specify a data table and it's inputs."
   ]
  },
  {
   "cell_type": "code",
   "execution_count": 69,
   "metadata": {},
   "outputs": [
    {
     "data": {
      "text/plain": [
       "array([('', 0, 0.), ('', 0, 0.), ('', 0, 0.)],\n",
       "      dtype=[('v1', '<U5'), ('v2', '<i4'), ('v3', '<f4')])"
      ]
     },
     "execution_count": 69,
     "metadata": {},
     "output_type": "execute_result"
    }
   ],
   "source": [
    "data = np.zeros((3), dtype={'names':('v1', 'v2', 'v3'),\n",
    "                            'formats':('U5', 'i', 'f')})\n",
    "data"
   ]
  },
  {
   "cell_type": "markdown",
   "metadata": {},
   "source": [
    "We then load the data to the specified columns."
   ]
  },
  {
   "cell_type": "code",
   "execution_count": 70,
   "metadata": {},
   "outputs": [
    {
     "data": {
      "text/plain": [
       "array([('a', 1, 0.3 ), ('b', 2, 0.55), ('c', 3, 1.2 )],\n",
       "      dtype=[('v1', '<U5'), ('v2', '<i4'), ('v3', '<f4')])"
      ]
     },
     "execution_count": 70,
     "metadata": {},
     "output_type": "execute_result"
    }
   ],
   "source": [
    "data['v1'] = ['a','b','c']\n",
    "data['v2'] = [1,2,3]\n",
    "data['v3'] = [.3,.55,1.2]\n",
    "data"
   ]
  },
  {
   "cell_type": "markdown",
   "metadata": {},
   "source": [
    "We can then index, but will do so differently than we observed above. "
   ]
  },
  {
   "cell_type": "code",
   "execution_count": 71,
   "metadata": {},
   "outputs": [
    {
     "data": {
      "text/plain": [
       "array(['a', 'b', 'c'], dtype='<U5')"
      ]
     },
     "execution_count": 71,
     "metadata": {},
     "output_type": "execute_result"
    }
   ],
   "source": [
    "data['v1']"
   ]
  },
  {
   "cell_type": "code",
   "execution_count": 72,
   "metadata": {},
   "outputs": [
    {
     "data": {
      "text/plain": [
       "('b', 2)"
      ]
     },
     "execution_count": 72,
     "metadata": {},
     "output_type": "execute_result"
    }
   ],
   "source": [
    "data[1][['v1','v2']]"
   ]
  },
  {
   "cell_type": "markdown",
   "metadata": {},
   "source": [
    "Though possible to deal with heterogeneous data frames using numpy, there is a lot of overhead to constructing a data object. As such, we'll use Pandas series and DataFrames to deal with heterogeneous data. "
   ]
  },
  {
   "cell_type": "markdown",
   "metadata": {
    "heading_collapsed": true
   },
   "source": [
    "# Miscellaneous"
   ]
  },
  {
   "cell_type": "markdown",
   "metadata": {
    "hidden": true
   },
   "source": [
    "### Printing Numpy Arrays\n",
    "\n",
    "np automatically truncates the data when printing. Handy when you have _alot_ of data"
   ]
  },
  {
   "cell_type": "code",
   "execution_count": 73,
   "metadata": {
    "hidden": true
   },
   "outputs": [
    {
     "name": "stdout",
     "output_type": "stream",
     "text": [
      "[[   0    1    2 ...   97   98   99]\n",
      " [ 100  101  102 ...  197  198  199]\n",
      " [ 200  201  202 ...  297  298  299]\n",
      " ...\n",
      " [9700 9701 9702 ... 9797 9798 9799]\n",
      " [9800 9801 9802 ... 9897 9898 9899]\n",
      " [9900 9901 9902 ... 9997 9998 9999]]\n"
     ]
    }
   ],
   "source": [
    "print(np.arange(10000).reshape(100,100))"
   ]
  },
  {
   "cell_type": "code",
   "execution_count": 74,
   "metadata": {
    "hidden": true
   },
   "outputs": [
    {
     "name": "stdout",
     "output_type": "stream",
     "text": [
      "[[ 0  1  2  3  4  5  6  7  8  9]\n",
      " [10 11 12 13 14 15 16 17 18 19]\n",
      " [20 21 22 23 24 25 26 27 28 29]\n",
      " [30 31 32 33 34 35 36 37 38 39]\n",
      " [40 41 42 43 44 45 46 47 48 49]\n",
      " [50 51 52 53 54 55 56 57 58 59]\n",
      " [60 61 62 63 64 65 66 67 68 69]\n",
      " [70 71 72 73 74 75 76 77 78 79]\n",
      " [80 81 82 83 84 85 86 87 88 89]\n",
      " [90 91 92 93 94 95 96 97 98 99]]\n"
     ]
    }
   ],
   "source": [
    "# We can adjust these settings\n",
    "np.set_printoptions(threshold=None)\n",
    "print(np.arange(100).reshape(10,10))"
   ]
  },
  {
   "cell_type": "markdown",
   "metadata": {
    "hidden": true
   },
   "source": [
    "### Missing Values"
   ]
  },
  {
   "cell_type": "markdown",
   "metadata": {
    "hidden": true
   },
   "source": [
    "Numpy provides a data class for missing values (i.e. `nan` == \"Not a Number\", see [here](https://en.wikipedia.org/wiki/NaN))"
   ]
  },
  {
   "cell_type": "code",
   "execution_count": 75,
   "metadata": {
    "hidden": true
   },
   "outputs": [
    {
     "data": {
      "text/plain": [
       "array([[4., 7., 2., 9., 5.],\n",
       "       [2., 7., 6., 1., 4.],\n",
       "       [2., 4., 8., 8., 8.],\n",
       "       [6., 4., 7., 4., 6.],\n",
       "       [2., 6., 2., 4., 2.]])"
      ]
     },
     "execution_count": 75,
     "metadata": {},
     "output_type": "execute_result"
    }
   ],
   "source": [
    "Y = np.random.randint(1,10,25).reshape(5,5) + .0\n",
    "Y"
   ]
  },
  {
   "cell_type": "code",
   "execution_count": 76,
   "metadata": {
    "hidden": true
   },
   "outputs": [
    {
     "data": {
      "text/plain": [
       "array([[ 4., nan,  2., nan,  5.],\n",
       "       [ 2., nan, nan,  1.,  4.],\n",
       "       [ 2.,  4., nan, nan, nan],\n",
       "       [nan,  4., nan,  4., nan],\n",
       "       [ 2., nan,  2.,  4.,  2.]])"
      ]
     },
     "execution_count": 76,
     "metadata": {},
     "output_type": "execute_result"
    }
   ],
   "source": [
    "Y[Y > 5] = np.nan\n",
    "Y"
   ]
  },
  {
   "cell_type": "code",
   "execution_count": 77,
   "metadata": {
    "hidden": true
   },
   "outputs": [
    {
     "data": {
      "text/plain": [
       "float"
      ]
     },
     "execution_count": 77,
     "metadata": {},
     "output_type": "execute_result"
    }
   ],
   "source": [
    "type(np.nan)"
   ]
  },
  {
   "cell_type": "code",
   "execution_count": 78,
   "metadata": {
    "hidden": true
   },
   "outputs": [
    {
     "data": {
      "text/plain": [
       "array([[False,  True, False,  True, False],\n",
       "       [False,  True,  True, False, False],\n",
       "       [False, False,  True,  True,  True],\n",
       "       [ True, False,  True, False,  True],\n",
       "       [False,  True, False, False, False]])"
      ]
     },
     "execution_count": 78,
     "metadata": {},
     "output_type": "execute_result"
    }
   ],
   "source": [
    "# scan for missing values\n",
    "np.isnan(Y)"
   ]
  },
  {
   "cell_type": "code",
   "execution_count": 79,
   "metadata": {
    "hidden": true
   },
   "outputs": [
    {
     "data": {
      "text/plain": [
       "array([[ True, False,  True, False,  True],\n",
       "       [ True, False, False,  True,  True],\n",
       "       [ True,  True, False, False, False],\n",
       "       [False,  True, False,  True, False],\n",
       "       [ True, False,  True,  True,  True]])"
      ]
     },
     "execution_count": 79,
     "metadata": {},
     "output_type": "execute_result"
    }
   ],
   "source": [
    "~np.isnan(Y) # are not NAs"
   ]
  },
  {
   "cell_type": "markdown",
   "metadata": {
    "hidden": true
   },
   "source": [
    "When we have missing values, we'll run into issues when computing across the data matrix."
   ]
  },
  {
   "cell_type": "code",
   "execution_count": 80,
   "metadata": {
    "hidden": true
   },
   "outputs": [
    {
     "data": {
      "text/plain": [
       "nan"
      ]
     },
     "execution_count": 80,
     "metadata": {},
     "output_type": "execute_result"
    }
   ],
   "source": [
    "np.mean(Y)"
   ]
  },
  {
   "cell_type": "markdown",
   "metadata": {
    "hidden": true
   },
   "source": [
    "To get around this, we need to use special version of the methods that compensate for the existence of `nan`."
   ]
  },
  {
   "cell_type": "code",
   "execution_count": 81,
   "metadata": {
    "hidden": true
   },
   "outputs": [
    {
     "data": {
      "text/plain": [
       "3.0"
      ]
     },
     "execution_count": 81,
     "metadata": {},
     "output_type": "execute_result"
    }
   ],
   "source": [
    "np.nanmean(Y)"
   ]
  },
  {
   "cell_type": "code",
   "execution_count": 82,
   "metadata": {
    "hidden": true
   },
   "outputs": [
    {
     "data": {
      "text/plain": [
       "array([2.5       , 4.        , 2.        , 3.        , 3.66666667])"
      ]
     },
     "execution_count": 82,
     "metadata": {},
     "output_type": "execute_result"
    }
   ],
   "source": [
    "np.nanmean(Y,axis=0)"
   ]
  },
  {
   "cell_type": "code",
   "execution_count": 83,
   "metadata": {
    "hidden": true
   },
   "outputs": [
    {
     "data": {
      "text/plain": [
       "array([[4., 3., 2., 3., 5.],\n",
       "       [2., 3., 3., 1., 4.],\n",
       "       [2., 4., 3., 3., 3.],\n",
       "       [3., 4., 3., 4., 3.],\n",
       "       [2., 3., 2., 4., 2.]])"
      ]
     },
     "execution_count": 83,
     "metadata": {},
     "output_type": "execute_result"
    }
   ],
   "source": [
    "# Mean impute the missing values\n",
    "Y[np.where(np.isnan(Y))] = np.nanmean(Y)\n",
    "Y"
   ]
  }
 ],
 "metadata": {
  "kernelspec": {
   "display_name": "Python 3",
   "language": "python",
   "name": "python3"
  },
  "language_info": {
   "codemirror_mode": {
    "name": "ipython",
    "version": 3
   },
   "file_extension": ".py",
   "mimetype": "text/x-python",
   "name": "python",
   "nbconvert_exporter": "python",
   "pygments_lexer": "ipython3",
   "version": "3.7.0"
  },
  "toc": {
   "base_numbering": 1,
   "nav_menu": {},
   "number_sections": false,
   "sideBar": false,
   "skip_h1_title": false,
   "title_cell": "Table of Contents",
   "title_sidebar": "Contents",
   "toc_cell": false,
   "toc_position": {
    "height": "982px",
    "left": "10px",
    "top": "150px",
    "width": "490.188px"
   },
   "toc_section_display": false,
   "toc_window_display": false
  }
 },
 "nbformat": 4,
 "nbformat_minor": 2
}
