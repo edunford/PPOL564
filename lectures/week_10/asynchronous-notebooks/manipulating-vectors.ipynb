{
 "cells": [
  {
   "cell_type": "markdown",
   "metadata": {},
   "source": [
    "<h1><center> PPOL564 - Data Science I: Foundations<br><br><font color='grey'> \n",
    "Manipulating Vectors  <br> </font> </center><h1>"
   ]
  },
  {
   "cell_type": "markdown",
   "metadata": {},
   "source": [
    "The following notebook outlines the main concepts covered in the videos using `numpy` and more mathematical notation (where the videos emphasize the visual intuition behind these operations).\n",
    "\n",
    "# Concepts:\n",
    "\n",
    "- Introduction to Notation, Terminology, and Basics of Latex.\n",
    "- Introduction to Vectors\n",
    "- Scalar multiplication with vectors\n",
    "- Vector Addition and Subtraction \n",
    "- Linear Combinations, Linear Independence, and Basis\n",
    "\n",
    "### Note\n",
    "\n",
    "In the following lectures, we'll delve into exploring linear algebra. Note that I'll be using some original code to help generate some interactive visualizes for some concepts. To use this code yourself, the `bokeh` module must be installed on your machine.\n",
    "\n",
    "```!pip install bokeh```"
   ]
  },
  {
   "cell_type": "code",
   "execution_count": 1,
   "metadata": {},
   "outputs": [
    {
     "data": {
      "text/html": [
       "\n",
       "    <div class=\"bk-root\">\n",
       "        <a href=\"https://bokeh.org\" target=\"_blank\" class=\"bk-logo bk-logo-small bk-logo-notebook\"></a>\n",
       "        <span id=\"1001\">Loading BokehJS ...</span>\n",
       "    </div>"
      ]
     },
     "metadata": {},
     "output_type": "display_data"
    },
    {
     "data": {
      "application/javascript": [
       "\n",
       "(function(root) {\n",
       "  function now() {\n",
       "    return new Date();\n",
       "  }\n",
       "\n",
       "  var force = true;\n",
       "\n",
       "  if (typeof root._bokeh_onload_callbacks === \"undefined\" || force === true) {\n",
       "    root._bokeh_onload_callbacks = [];\n",
       "    root._bokeh_is_loading = undefined;\n",
       "  }\n",
       "\n",
       "  var JS_MIME_TYPE = 'application/javascript';\n",
       "  var HTML_MIME_TYPE = 'text/html';\n",
       "  var EXEC_MIME_TYPE = 'application/vnd.bokehjs_exec.v0+json';\n",
       "  var CLASS_NAME = 'output_bokeh rendered_html';\n",
       "\n",
       "  /**\n",
       "   * Render data to the DOM node\n",
       "   */\n",
       "  function render(props, node) {\n",
       "    var script = document.createElement(\"script\");\n",
       "    node.appendChild(script);\n",
       "  }\n",
       "\n",
       "  /**\n",
       "   * Handle when an output is cleared or removed\n",
       "   */\n",
       "  function handleClearOutput(event, handle) {\n",
       "    var cell = handle.cell;\n",
       "\n",
       "    var id = cell.output_area._bokeh_element_id;\n",
       "    var server_id = cell.output_area._bokeh_server_id;\n",
       "    // Clean up Bokeh references\n",
       "    if (id != null && id in Bokeh.index) {\n",
       "      Bokeh.index[id].model.document.clear();\n",
       "      delete Bokeh.index[id];\n",
       "    }\n",
       "\n",
       "    if (server_id !== undefined) {\n",
       "      // Clean up Bokeh references\n",
       "      var cmd = \"from bokeh.io.state import curstate; print(curstate().uuid_to_server['\" + server_id + \"'].get_sessions()[0].document.roots[0]._id)\";\n",
       "      cell.notebook.kernel.execute(cmd, {\n",
       "        iopub: {\n",
       "          output: function(msg) {\n",
       "            var id = msg.content.text.trim();\n",
       "            if (id in Bokeh.index) {\n",
       "              Bokeh.index[id].model.document.clear();\n",
       "              delete Bokeh.index[id];\n",
       "            }\n",
       "          }\n",
       "        }\n",
       "      });\n",
       "      // Destroy server and session\n",
       "      var cmd = \"import bokeh.io.notebook as ion; ion.destroy_server('\" + server_id + \"')\";\n",
       "      cell.notebook.kernel.execute(cmd);\n",
       "    }\n",
       "  }\n",
       "\n",
       "  /**\n",
       "   * Handle when a new output is added\n",
       "   */\n",
       "  function handleAddOutput(event, handle) {\n",
       "    var output_area = handle.output_area;\n",
       "    var output = handle.output;\n",
       "\n",
       "    // limit handleAddOutput to display_data with EXEC_MIME_TYPE content only\n",
       "    if ((output.output_type != \"display_data\") || (!output.data.hasOwnProperty(EXEC_MIME_TYPE))) {\n",
       "      return\n",
       "    }\n",
       "\n",
       "    var toinsert = output_area.element.find(\".\" + CLASS_NAME.split(' ')[0]);\n",
       "\n",
       "    if (output.metadata[EXEC_MIME_TYPE][\"id\"] !== undefined) {\n",
       "      toinsert[toinsert.length - 1].firstChild.textContent = output.data[JS_MIME_TYPE];\n",
       "      // store reference to embed id on output_area\n",
       "      output_area._bokeh_element_id = output.metadata[EXEC_MIME_TYPE][\"id\"];\n",
       "    }\n",
       "    if (output.metadata[EXEC_MIME_TYPE][\"server_id\"] !== undefined) {\n",
       "      var bk_div = document.createElement(\"div\");\n",
       "      bk_div.innerHTML = output.data[HTML_MIME_TYPE];\n",
       "      var script_attrs = bk_div.children[0].attributes;\n",
       "      for (var i = 0; i < script_attrs.length; i++) {\n",
       "        toinsert[toinsert.length - 1].firstChild.setAttribute(script_attrs[i].name, script_attrs[i].value);\n",
       "        toinsert[toinsert.length - 1].firstChild.textContent = bk_div.children[0].textContent\n",
       "      }\n",
       "      // store reference to server id on output_area\n",
       "      output_area._bokeh_server_id = output.metadata[EXEC_MIME_TYPE][\"server_id\"];\n",
       "    }\n",
       "  }\n",
       "\n",
       "  function register_renderer(events, OutputArea) {\n",
       "\n",
       "    function append_mime(data, metadata, element) {\n",
       "      // create a DOM node to render to\n",
       "      var toinsert = this.create_output_subarea(\n",
       "        metadata,\n",
       "        CLASS_NAME,\n",
       "        EXEC_MIME_TYPE\n",
       "      );\n",
       "      this.keyboard_manager.register_events(toinsert);\n",
       "      // Render to node\n",
       "      var props = {data: data, metadata: metadata[EXEC_MIME_TYPE]};\n",
       "      render(props, toinsert[toinsert.length - 1]);\n",
       "      element.append(toinsert);\n",
       "      return toinsert\n",
       "    }\n",
       "\n",
       "    /* Handle when an output is cleared or removed */\n",
       "    events.on('clear_output.CodeCell', handleClearOutput);\n",
       "    events.on('delete.Cell', handleClearOutput);\n",
       "\n",
       "    /* Handle when a new output is added */\n",
       "    events.on('output_added.OutputArea', handleAddOutput);\n",
       "\n",
       "    /**\n",
       "     * Register the mime type and append_mime function with output_area\n",
       "     */\n",
       "    OutputArea.prototype.register_mime_type(EXEC_MIME_TYPE, append_mime, {\n",
       "      /* Is output safe? */\n",
       "      safe: true,\n",
       "      /* Index of renderer in `output_area.display_order` */\n",
       "      index: 0\n",
       "    });\n",
       "  }\n",
       "\n",
       "  // register the mime type if in Jupyter Notebook environment and previously unregistered\n",
       "  if (root.Jupyter !== undefined) {\n",
       "    var events = require('base/js/events');\n",
       "    var OutputArea = require('notebook/js/outputarea').OutputArea;\n",
       "\n",
       "    if (OutputArea.prototype.mime_types().indexOf(EXEC_MIME_TYPE) == -1) {\n",
       "      register_renderer(events, OutputArea);\n",
       "    }\n",
       "  }\n",
       "\n",
       "  \n",
       "  if (typeof (root._bokeh_timeout) === \"undefined\" || force === true) {\n",
       "    root._bokeh_timeout = Date.now() + 5000;\n",
       "    root._bokeh_failed_load = false;\n",
       "  }\n",
       "\n",
       "  var NB_LOAD_WARNING = {'data': {'text/html':\n",
       "     \"<div style='background-color: #fdd'>\\n\"+\n",
       "     \"<p>\\n\"+\n",
       "     \"BokehJS does not appear to have successfully loaded. If loading BokehJS from CDN, this \\n\"+\n",
       "     \"may be due to a slow or bad network connection. Possible fixes:\\n\"+\n",
       "     \"</p>\\n\"+\n",
       "     \"<ul>\\n\"+\n",
       "     \"<li>re-rerun `output_notebook()` to attempt to load from CDN again, or</li>\\n\"+\n",
       "     \"<li>use INLINE resources instead, as so:</li>\\n\"+\n",
       "     \"</ul>\\n\"+\n",
       "     \"<code>\\n\"+\n",
       "     \"from bokeh.resources import INLINE\\n\"+\n",
       "     \"output_notebook(resources=INLINE)\\n\"+\n",
       "     \"</code>\\n\"+\n",
       "     \"</div>\"}};\n",
       "\n",
       "  function display_loaded() {\n",
       "    var el = document.getElementById(\"1001\");\n",
       "    if (el != null) {\n",
       "      el.textContent = \"BokehJS is loading...\";\n",
       "    }\n",
       "    if (root.Bokeh !== undefined) {\n",
       "      if (el != null) {\n",
       "        el.textContent = \"BokehJS \" + root.Bokeh.version + \" successfully loaded.\";\n",
       "      }\n",
       "    } else if (Date.now() < root._bokeh_timeout) {\n",
       "      setTimeout(display_loaded, 100)\n",
       "    }\n",
       "  }\n",
       "\n",
       "\n",
       "  function run_callbacks() {\n",
       "    try {\n",
       "      root._bokeh_onload_callbacks.forEach(function(callback) {\n",
       "        if (callback != null)\n",
       "          callback();\n",
       "      });\n",
       "    } finally {\n",
       "      delete root._bokeh_onload_callbacks\n",
       "    }\n",
       "    console.debug(\"Bokeh: all callbacks have finished\");\n",
       "  }\n",
       "\n",
       "  function load_libs(css_urls, js_urls, callback) {\n",
       "    if (css_urls == null) css_urls = [];\n",
       "    if (js_urls == null) js_urls = [];\n",
       "\n",
       "    root._bokeh_onload_callbacks.push(callback);\n",
       "    if (root._bokeh_is_loading > 0) {\n",
       "      console.debug(\"Bokeh: BokehJS is being loaded, scheduling callback at\", now());\n",
       "      return null;\n",
       "    }\n",
       "    if (js_urls == null || js_urls.length === 0) {\n",
       "      run_callbacks();\n",
       "      return null;\n",
       "    }\n",
       "    console.debug(\"Bokeh: BokehJS not loaded, scheduling load and callback at\", now());\n",
       "    root._bokeh_is_loading = css_urls.length + js_urls.length;\n",
       "\n",
       "    function on_load() {\n",
       "      root._bokeh_is_loading--;\n",
       "      if (root._bokeh_is_loading === 0) {\n",
       "        console.debug(\"Bokeh: all BokehJS libraries/stylesheets loaded\");\n",
       "        run_callbacks()\n",
       "      }\n",
       "    }\n",
       "\n",
       "    function on_error() {\n",
       "      console.error(\"failed to load \" + url);\n",
       "    }\n",
       "\n",
       "    for (var i = 0; i < css_urls.length; i++) {\n",
       "      var url = css_urls[i];\n",
       "      const element = document.createElement(\"link\");\n",
       "      element.onload = on_load;\n",
       "      element.onerror = on_error;\n",
       "      element.rel = \"stylesheet\";\n",
       "      element.type = \"text/css\";\n",
       "      element.href = url;\n",
       "      console.debug(\"Bokeh: injecting link tag for BokehJS stylesheet: \", url);\n",
       "      document.body.appendChild(element);\n",
       "    }\n",
       "\n",
       "    const hashes = {\"https://cdn.bokeh.org/bokeh/release/bokeh-2.0.1.min.js\": \"JpP8FXbgAZLkfur7LiK3j9AGBhHNIvF742meBJrjO2ShJDhCG2I1uVvW+0DUtrmc\", \"https://cdn.bokeh.org/bokeh/release/bokeh-widgets-2.0.1.min.js\": \"xZlADit0Q04ISQEdKg2k3L4W9AwQBAuDs9nJL9fM/WwzL1tEU9VPNezOFX0nLEAz\", \"https://cdn.bokeh.org/bokeh/release/bokeh-tables-2.0.1.min.js\": \"4BuPRZkdMKSnj3zoxiNrQ86XgNw0rYmBOxe7nshquXwwcauupgBF2DHLVG1WuZlV\", \"https://cdn.bokeh.org/bokeh/release/bokeh-gl-2.0.1.min.js\": \"Dv1SQ87hmDqK6S5OhBf0bCuwAEvL5QYL0PuR/F1SPVhCS/r/abjkbpKDYL2zeM19\"};\n",
       "\n",
       "    for (var i = 0; i < js_urls.length; i++) {\n",
       "      var url = js_urls[i];\n",
       "      var element = document.createElement('script');\n",
       "      element.onload = on_load;\n",
       "      element.onerror = on_error;\n",
       "      element.async = false;\n",
       "      element.src = url;\n",
       "      if (url in hashes) {\n",
       "        element.crossOrigin = \"anonymous\";\n",
       "        element.integrity = \"sha384-\" + hashes[url];\n",
       "      }\n",
       "      console.debug(\"Bokeh: injecting script tag for BokehJS library: \", url);\n",
       "      document.head.appendChild(element);\n",
       "    }\n",
       "  };var element = document.getElementById(\"1001\");\n",
       "  if (element == null) {\n",
       "    console.error(\"Bokeh: ERROR: autoload.js configured with elementid '1001' but no matching script tag was found. \")\n",
       "    return false;\n",
       "  }\n",
       "\n",
       "  function inject_raw_css(css) {\n",
       "    const element = document.createElement(\"style\");\n",
       "    element.appendChild(document.createTextNode(css));\n",
       "    document.body.appendChild(element);\n",
       "  }\n",
       "\n",
       "  \n",
       "  var js_urls = [\"https://cdn.bokeh.org/bokeh/release/bokeh-2.0.1.min.js\", \"https://cdn.bokeh.org/bokeh/release/bokeh-widgets-2.0.1.min.js\", \"https://cdn.bokeh.org/bokeh/release/bokeh-tables-2.0.1.min.js\", \"https://cdn.bokeh.org/bokeh/release/bokeh-gl-2.0.1.min.js\"];\n",
       "  var css_urls = [];\n",
       "  \n",
       "\n",
       "  var inline_js = [\n",
       "    function(Bokeh) {\n",
       "      Bokeh.set_log_level(\"info\");\n",
       "    },\n",
       "    function(Bokeh) {\n",
       "    \n",
       "    \n",
       "    }\n",
       "  ];\n",
       "\n",
       "  function run_inline_js() {\n",
       "    \n",
       "    if (root.Bokeh !== undefined || force === true) {\n",
       "      \n",
       "    for (var i = 0; i < inline_js.length; i++) {\n",
       "      inline_js[i].call(root, root.Bokeh);\n",
       "    }\n",
       "    if (force === true) {\n",
       "        display_loaded();\n",
       "      }} else if (Date.now() < root._bokeh_timeout) {\n",
       "      setTimeout(run_inline_js, 100);\n",
       "    } else if (!root._bokeh_failed_load) {\n",
       "      console.log(\"Bokeh: BokehJS failed to load within specified timeout.\");\n",
       "      root._bokeh_failed_load = true;\n",
       "    } else if (force !== true) {\n",
       "      var cell = $(document.getElementById(\"1001\")).parents('.cell').data().cell;\n",
       "      cell.output_area.append_execute_result(NB_LOAD_WARNING)\n",
       "    }\n",
       "\n",
       "  }\n",
       "\n",
       "  if (root._bokeh_is_loading === 0) {\n",
       "    console.debug(\"Bokeh: BokehJS loaded, going straight to plotting\");\n",
       "    run_inline_js();\n",
       "  } else {\n",
       "    load_libs(css_urls, js_urls, function() {\n",
       "      console.debug(\"Bokeh: BokehJS plotting callback run at\", now());\n",
       "      run_inline_js();\n",
       "    });\n",
       "  }\n",
       "}(window));"
      ],
      "application/vnd.bokehjs_load.v0+json": "\n(function(root) {\n  function now() {\n    return new Date();\n  }\n\n  var force = true;\n\n  if (typeof root._bokeh_onload_callbacks === \"undefined\" || force === true) {\n    root._bokeh_onload_callbacks = [];\n    root._bokeh_is_loading = undefined;\n  }\n\n  \n\n  \n  if (typeof (root._bokeh_timeout) === \"undefined\" || force === true) {\n    root._bokeh_timeout = Date.now() + 5000;\n    root._bokeh_failed_load = false;\n  }\n\n  var NB_LOAD_WARNING = {'data': {'text/html':\n     \"<div style='background-color: #fdd'>\\n\"+\n     \"<p>\\n\"+\n     \"BokehJS does not appear to have successfully loaded. If loading BokehJS from CDN, this \\n\"+\n     \"may be due to a slow or bad network connection. Possible fixes:\\n\"+\n     \"</p>\\n\"+\n     \"<ul>\\n\"+\n     \"<li>re-rerun `output_notebook()` to attempt to load from CDN again, or</li>\\n\"+\n     \"<li>use INLINE resources instead, as so:</li>\\n\"+\n     \"</ul>\\n\"+\n     \"<code>\\n\"+\n     \"from bokeh.resources import INLINE\\n\"+\n     \"output_notebook(resources=INLINE)\\n\"+\n     \"</code>\\n\"+\n     \"</div>\"}};\n\n  function display_loaded() {\n    var el = document.getElementById(\"1001\");\n    if (el != null) {\n      el.textContent = \"BokehJS is loading...\";\n    }\n    if (root.Bokeh !== undefined) {\n      if (el != null) {\n        el.textContent = \"BokehJS \" + root.Bokeh.version + \" successfully loaded.\";\n      }\n    } else if (Date.now() < root._bokeh_timeout) {\n      setTimeout(display_loaded, 100)\n    }\n  }\n\n\n  function run_callbacks() {\n    try {\n      root._bokeh_onload_callbacks.forEach(function(callback) {\n        if (callback != null)\n          callback();\n      });\n    } finally {\n      delete root._bokeh_onload_callbacks\n    }\n    console.debug(\"Bokeh: all callbacks have finished\");\n  }\n\n  function load_libs(css_urls, js_urls, callback) {\n    if (css_urls == null) css_urls = [];\n    if (js_urls == null) js_urls = [];\n\n    root._bokeh_onload_callbacks.push(callback);\n    if (root._bokeh_is_loading > 0) {\n      console.debug(\"Bokeh: BokehJS is being loaded, scheduling callback at\", now());\n      return null;\n    }\n    if (js_urls == null || js_urls.length === 0) {\n      run_callbacks();\n      return null;\n    }\n    console.debug(\"Bokeh: BokehJS not loaded, scheduling load and callback at\", now());\n    root._bokeh_is_loading = css_urls.length + js_urls.length;\n\n    function on_load() {\n      root._bokeh_is_loading--;\n      if (root._bokeh_is_loading === 0) {\n        console.debug(\"Bokeh: all BokehJS libraries/stylesheets loaded\");\n        run_callbacks()\n      }\n    }\n\n    function on_error() {\n      console.error(\"failed to load \" + url);\n    }\n\n    for (var i = 0; i < css_urls.length; i++) {\n      var url = css_urls[i];\n      const element = document.createElement(\"link\");\n      element.onload = on_load;\n      element.onerror = on_error;\n      element.rel = \"stylesheet\";\n      element.type = \"text/css\";\n      element.href = url;\n      console.debug(\"Bokeh: injecting link tag for BokehJS stylesheet: \", url);\n      document.body.appendChild(element);\n    }\n\n    const hashes = {\"https://cdn.bokeh.org/bokeh/release/bokeh-2.0.1.min.js\": \"JpP8FXbgAZLkfur7LiK3j9AGBhHNIvF742meBJrjO2ShJDhCG2I1uVvW+0DUtrmc\", \"https://cdn.bokeh.org/bokeh/release/bokeh-widgets-2.0.1.min.js\": \"xZlADit0Q04ISQEdKg2k3L4W9AwQBAuDs9nJL9fM/WwzL1tEU9VPNezOFX0nLEAz\", \"https://cdn.bokeh.org/bokeh/release/bokeh-tables-2.0.1.min.js\": \"4BuPRZkdMKSnj3zoxiNrQ86XgNw0rYmBOxe7nshquXwwcauupgBF2DHLVG1WuZlV\", \"https://cdn.bokeh.org/bokeh/release/bokeh-gl-2.0.1.min.js\": \"Dv1SQ87hmDqK6S5OhBf0bCuwAEvL5QYL0PuR/F1SPVhCS/r/abjkbpKDYL2zeM19\"};\n\n    for (var i = 0; i < js_urls.length; i++) {\n      var url = js_urls[i];\n      var element = document.createElement('script');\n      element.onload = on_load;\n      element.onerror = on_error;\n      element.async = false;\n      element.src = url;\n      if (url in hashes) {\n        element.crossOrigin = \"anonymous\";\n        element.integrity = \"sha384-\" + hashes[url];\n      }\n      console.debug(\"Bokeh: injecting script tag for BokehJS library: \", url);\n      document.head.appendChild(element);\n    }\n  };var element = document.getElementById(\"1001\");\n  if (element == null) {\n    console.error(\"Bokeh: ERROR: autoload.js configured with elementid '1001' but no matching script tag was found. \")\n    return false;\n  }\n\n  function inject_raw_css(css) {\n    const element = document.createElement(\"style\");\n    element.appendChild(document.createTextNode(css));\n    document.body.appendChild(element);\n  }\n\n  \n  var js_urls = [\"https://cdn.bokeh.org/bokeh/release/bokeh-2.0.1.min.js\", \"https://cdn.bokeh.org/bokeh/release/bokeh-widgets-2.0.1.min.js\", \"https://cdn.bokeh.org/bokeh/release/bokeh-tables-2.0.1.min.js\", \"https://cdn.bokeh.org/bokeh/release/bokeh-gl-2.0.1.min.js\"];\n  var css_urls = [];\n  \n\n  var inline_js = [\n    function(Bokeh) {\n      Bokeh.set_log_level(\"info\");\n    },\n    function(Bokeh) {\n    \n    \n    }\n  ];\n\n  function run_inline_js() {\n    \n    if (root.Bokeh !== undefined || force === true) {\n      \n    for (var i = 0; i < inline_js.length; i++) {\n      inline_js[i].call(root, root.Bokeh);\n    }\n    if (force === true) {\n        display_loaded();\n      }} else if (Date.now() < root._bokeh_timeout) {\n      setTimeout(run_inline_js, 100);\n    } else if (!root._bokeh_failed_load) {\n      console.log(\"Bokeh: BokehJS failed to load within specified timeout.\");\n      root._bokeh_failed_load = true;\n    } else if (force !== true) {\n      var cell = $(document.getElementById(\"1001\")).parents('.cell').data().cell;\n      cell.output_area.append_execute_result(NB_LOAD_WARNING)\n    }\n\n  }\n\n  if (root._bokeh_is_loading === 0) {\n    console.debug(\"Bokeh: BokehJS loaded, going straight to plotting\");\n    run_inline_js();\n  } else {\n    load_libs(css_urls, js_urls, function() {\n      console.debug(\"Bokeh: BokehJS plotting callback run at\", now());\n      run_inline_js();\n    });\n  }\n}(window));"
     },
     "metadata": {},
     "output_type": "display_data"
    }
   ],
   "source": [
    "import numpy as np\n",
    "import requests\n",
    "\n",
    "# Read in Visualization code from Github\n",
    "exec(requests.get('https://raw.githubusercontent.com/edunford/ppol564/master/lectures/week_10/visualization_library/visualize.py').content)\n",
    "vla = LinearAlgebra # assign class to an simplier naming convention."
   ]
  },
  {
   "cell_type": "markdown",
   "metadata": {},
   "source": [
    "## Writing Mathematical Notation Using Latex\n",
    "\n",
    "Latex allows for the simple construction and formulation of mathematical statements. The framework extends to robust text editor that eases scientific writing. Moreover, .tex files (the file type for a latex document) is ultimately a text document, making it ideal for version control software, such as git. \n",
    "\n",
    "Writing math in Latex is involved and can take some time to master. Please refer to the following link for a useful [Wiki](https://en.wikibooks.org/wiki/LaTeX/Mathematics) on composing mathematical statements in Latex.\n",
    "\n",
    "Note that Jupyter Notebooks come equipped with Latex, and we can write Latex code directly in to the markdown code chunks, housing our mathematical statements between dollar signs.\n",
    "\n",
    "`$ <math here> $`\n",
    "\n",
    "or \n",
    "\n",
    "`$$ <math here> $$`\n",
    "\n",
    "The difference between on and two `$` is that the former will write the mathematical statement inline whereas the latter will print the statement on its own line. \n",
    "\n",
    "E.g.\n",
    "\n",
    "_We found that $x = 4$._\n",
    "\n",
    "_We found that $$x = 4$$._\n",
    "\n",
    "We can also compose equations as follows:\n",
    "\n",
    "```\n",
    "\\begin{equation}\n",
    "< math here >\n",
    "\\end{equation}\n",
    "```\n",
    "\n",
    "E.g. \n",
    "\n",
    "\\begin{equation}\n",
    "y_i = \\beta_0 + \\beta_1 x_i + \\epsilon_i\n",
    "\\end{equation}\n",
    "\n",
    "There are a number of resources that ease writing mathematical statements in Latex, such as [Daum Equation Editor](https://chrome.google.com/webstore/detail/daum-equation-editor/dinfmiceliiomokeofbocegmacmagjhe/related?hl=en). "
   ]
  },
  {
   "cell_type": "markdown",
   "metadata": {},
   "source": [
    "# Vectors\n",
    "\n",
    "A **vector** provides both magnitude and direction.\n",
    "\n",
    "$$ \\vec {v} = \\begin{bmatrix} 1 \\\\ 2 \\end{bmatrix} $$\n"
   ]
  },
  {
   "cell_type": "code",
   "execution_count": 2,
   "metadata": {},
   "outputs": [],
   "source": [
    "# Define a vector in R2\n",
    "vec1 = np.array([1,2])"
   ]
  },
  {
   "cell_type": "code",
   "execution_count": 3,
   "metadata": {},
   "outputs": [
    {
     "data": {
      "text/html": [
       "\n",
       "\n",
       "\n",
       "\n",
       "\n",
       "\n",
       "  <div class=\"bk-root\" id=\"054a5140-0da6-4aef-ba48-bcafddc90d9b\" data-root-id=\"1002\"></div>\n"
      ]
     },
     "metadata": {},
     "output_type": "display_data"
    },
    {
     "data": {
      "application/javascript": [
       "(function(root) {\n",
       "  function embed_document(root) {\n",
       "    \n",
       "  var docs_json = {\"6087cf2e-3f03-4655-bf13-9bc63e87c013\":{\"roots\":{\"references\":[{\"attributes\":{\"below\":[{\"id\":\"1011\"}],\"center\":[{\"id\":\"1014\"},{\"id\":\"1018\"},{\"id\":\"1037\"}],\"left\":[{\"id\":\"1015\"}],\"plot_height\":700,\"plot_width\":700,\"renderers\":[{\"id\":\"1029\"},{\"id\":\"1034\"}],\"title\":{\"id\":\"1039\"},\"toolbar\":{\"id\":\"1022\"},\"x_range\":{\"id\":\"1003\"},\"x_scale\":{\"id\":\"1007\"},\"y_range\":{\"id\":\"1005\"},\"y_scale\":{\"id\":\"1009\"}},\"id\":\"1002\",\"subtype\":\"Figure\",\"type\":\"Plot\"},{\"attributes\":{},\"id\":\"1021\",\"type\":\"ResetTool\"},{\"attributes\":{},\"id\":\"1041\",\"type\":\"BasicTickFormatter\"},{\"attributes\":{\"formatter\":{\"id\":\"1043\"},\"ticker\":{\"id\":\"1012\"}},\"id\":\"1011\",\"type\":\"LinearAxis\"},{\"attributes\":{},\"id\":\"1043\",\"type\":\"BasicTickFormatter\"},{\"attributes\":{},\"id\":\"1009\",\"type\":\"LinearScale\"},{\"attributes\":{},\"id\":\"1045\",\"type\":\"Selection\"},{\"attributes\":{\"end\":3.5,\"start\":-3.5},\"id\":\"1003\",\"type\":\"Range1d\"},{\"attributes\":{},\"id\":\"1046\",\"type\":\"UnionRenderers\"},{\"attributes\":{\"active_drag\":\"auto\",\"active_inspect\":\"auto\",\"active_multi\":null,\"active_scroll\":\"auto\",\"active_tap\":\"auto\",\"tools\":[{\"id\":\"1019\"},{\"id\":\"1020\"},{\"id\":\"1021\"}]},\"id\":\"1022\",\"type\":\"Toolbar\"},{\"attributes\":{},\"id\":\"1047\",\"type\":\"Selection\"},{\"attributes\":{\"fill_color\":\"blue\",\"line_color\":\"blue\",\"size\":10},\"id\":\"1036\",\"type\":\"NormalHead\"},{\"attributes\":{},\"id\":\"1048\",\"type\":\"UnionRenderers\"},{\"attributes\":{\"source\":{\"id\":\"1026\"}},\"id\":\"1030\",\"type\":\"CDSView\"},{\"attributes\":{\"data_source\":{\"id\":\"1026\"},\"glyph\":{\"id\":\"1027\"},\"hover_glyph\":null,\"muted_glyph\":null,\"nonselection_glyph\":{\"id\":\"1028\"},\"selection_glyph\":null,\"view\":{\"id\":\"1030\"}},\"id\":\"1029\",\"type\":\"GlyphRenderer\"},{\"attributes\":{\"line_alpha\":0.1,\"line_width\":1.5,\"x\":{\"field\":\"x\"},\"y\":{\"field\":\"y\"}},\"id\":\"1028\",\"type\":\"Line\"},{\"attributes\":{\"axis\":{\"id\":\"1011\"},\"ticker\":null},\"id\":\"1014\",\"type\":\"Grid\"},{\"attributes\":{\"line_width\":1.5,\"x\":{\"field\":\"x\"},\"y\":{\"field\":\"y\"}},\"id\":\"1027\",\"type\":\"Line\"},{\"attributes\":{\"data\":{\"x\":[0.0,0.0],\"y\":[-5.0,5.0]},\"selected\":{\"id\":\"1047\"},\"selection_policy\":{\"id\":\"1048\"}},\"id\":\"1031\",\"type\":\"ColumnDataSource\"},{\"attributes\":{},\"id\":\"1012\",\"type\":\"BasicTicker\"},{\"attributes\":{\"formatter\":{\"id\":\"1041\"},\"ticker\":{\"id\":\"1016\"}},\"id\":\"1015\",\"type\":\"LinearAxis\"},{\"attributes\":{},\"id\":\"1007\",\"type\":\"LinearScale\"},{\"attributes\":{\"line_width\":1.5,\"x\":{\"field\":\"x\"},\"y\":{\"field\":\"y\"}},\"id\":\"1032\",\"type\":\"Line\"},{\"attributes\":{\"source\":{\"id\":\"1031\"}},\"id\":\"1035\",\"type\":\"CDSView\"},{\"attributes\":{},\"id\":\"1016\",\"type\":\"BasicTicker\"},{\"attributes\":{\"line_alpha\":0.1,\"line_width\":1.5,\"x\":{\"field\":\"x\"},\"y\":{\"field\":\"y\"}},\"id\":\"1033\",\"type\":\"Line\"},{\"attributes\":{\"data_source\":{\"id\":\"1031\"},\"glyph\":{\"id\":\"1032\"},\"hover_glyph\":null,\"muted_glyph\":null,\"nonselection_glyph\":{\"id\":\"1033\"},\"selection_glyph\":null,\"view\":{\"id\":\"1035\"}},\"id\":\"1034\",\"type\":\"GlyphRenderer\"},{\"attributes\":{\"text\":\"\"},\"id\":\"1039\",\"type\":\"Title\"},{\"attributes\":{\"axis\":{\"id\":\"1015\"},\"dimension\":1,\"ticker\":null},\"id\":\"1018\",\"type\":\"Grid\"},{\"attributes\":{\"end\":3.5,\"start\":-3.5},\"id\":\"1005\",\"type\":\"Range1d\"},{\"attributes\":{\"data\":{\"x\":[-5.0,5.0],\"y\":[0.0,0.0]},\"selected\":{\"id\":\"1045\"},\"selection_policy\":{\"id\":\"1046\"}},\"id\":\"1026\",\"type\":\"ColumnDataSource\"},{\"attributes\":{\"end\":{\"id\":\"1036\"},\"line_color\":{\"value\":\"blue\"},\"line_width\":{\"value\":3},\"source\":null,\"start\":null,\"x_end\":{\"value\":1.0},\"x_start\":{\"value\":0.0},\"y_end\":{\"value\":2.0},\"y_start\":{\"value\":0.0}},\"id\":\"1037\",\"type\":\"Arrow\"},{\"attributes\":{},\"id\":\"1019\",\"type\":\"WheelZoomTool\"},{\"attributes\":{},\"id\":\"1020\",\"type\":\"PanTool\"}],\"root_ids\":[\"1002\"]},\"title\":\"Bokeh Application\",\"version\":\"2.0.1\"}};\n",
       "  var render_items = [{\"docid\":\"6087cf2e-3f03-4655-bf13-9bc63e87c013\",\"root_ids\":[\"1002\"],\"roots\":{\"1002\":\"054a5140-0da6-4aef-ba48-bcafddc90d9b\"}}];\n",
       "  root.Bokeh.embed.embed_items_notebook(docs_json, render_items);\n",
       "\n",
       "  }\n",
       "  if (root.Bokeh !== undefined) {\n",
       "    embed_document(root);\n",
       "  } else {\n",
       "    var attempts = 0;\n",
       "    var timer = setInterval(function(root) {\n",
       "      if (root.Bokeh !== undefined) {\n",
       "        clearInterval(timer);\n",
       "        embed_document(root);\n",
       "      } else {\n",
       "        attempts++;\n",
       "        if (attempts > 100) {\n",
       "          clearInterval(timer);\n",
       "          console.log(\"Bokeh: ERROR: Unable to run BokehJS code because BokehJS library is missing\");\n",
       "        }\n",
       "      }\n",
       "    }, 10, root)\n",
       "  }\n",
       "})(window);"
      ],
      "application/vnd.bokehjs_exec.v0+json": ""
     },
     "metadata": {
      "application/vnd.bokehjs_exec.v0+json": {
       "id": "1002"
      }
     },
     "output_type": "display_data"
    }
   ],
   "source": [
    "plot = vla()\n",
    "plot.graph()\n",
    "plot.vector(vec1)\n",
    "plot.show()"
   ]
  },
  {
   "cell_type": "markdown",
   "metadata": {},
   "source": [
    "Vectors are normally portrayed as shooting out from the origin (0,0); however, there is nothing implicitly binding them to this location. \n",
    "\n",
    "Note that using the zero vector ($\\vec{0}$) as an origin is known as the \"standard position\""
   ]
  },
  {
   "cell_type": "code",
   "execution_count": 4,
   "metadata": {
    "scrolled": false
   },
   "outputs": [
    {
     "data": {
      "text/html": [
       "\n",
       "\n",
       "\n",
       "\n",
       "\n",
       "\n",
       "  <div class=\"bk-root\" id=\"f879e68f-6874-4d61-ad82-138c81bf0bd8\" data-root-id=\"1002\"></div>\n"
      ]
     },
     "metadata": {},
     "output_type": "display_data"
    },
    {
     "data": {
      "application/javascript": [
       "(function(root) {\n",
       "  function embed_document(root) {\n",
       "    \n",
       "  var docs_json = {\"e73545c0-faeb-46b3-9052-1e4dcc17910b\":{\"roots\":{\"references\":[{\"attributes\":{\"below\":[{\"id\":\"1011\"}],\"center\":[{\"id\":\"1014\"},{\"id\":\"1018\"},{\"id\":\"1037\"},{\"id\":\"1110\"},{\"id\":\"1123\"},{\"id\":\"1136\"}],\"left\":[{\"id\":\"1015\"}],\"plot_height\":700,\"plot_width\":700,\"renderers\":[{\"id\":\"1029\"},{\"id\":\"1034\"}],\"title\":{\"id\":\"1039\"},\"toolbar\":{\"id\":\"1022\"},\"x_range\":{\"id\":\"1003\"},\"x_scale\":{\"id\":\"1007\"},\"y_range\":{\"id\":\"1005\"},\"y_scale\":{\"id\":\"1009\"}},\"id\":\"1002\",\"subtype\":\"Figure\",\"type\":\"Plot\"},{\"attributes\":{},\"id\":\"1021\",\"type\":\"ResetTool\"},{\"attributes\":{},\"id\":\"1041\",\"type\":\"BasicTickFormatter\"},{\"attributes\":{\"formatter\":{\"id\":\"1043\"},\"ticker\":{\"id\":\"1012\"}},\"id\":\"1011\",\"type\":\"LinearAxis\"},{\"attributes\":{},\"id\":\"1043\",\"type\":\"BasicTickFormatter\"},{\"attributes\":{},\"id\":\"1009\",\"type\":\"LinearScale\"},{\"attributes\":{},\"id\":\"1045\",\"type\":\"Selection\"},{\"attributes\":{\"end\":3.5,\"start\":-3.5},\"id\":\"1003\",\"type\":\"Range1d\"},{\"attributes\":{},\"id\":\"1046\",\"type\":\"UnionRenderers\"},{\"attributes\":{\"active_drag\":\"auto\",\"active_inspect\":\"auto\",\"active_multi\":null,\"active_scroll\":\"auto\",\"active_tap\":\"auto\",\"tools\":[{\"id\":\"1019\"},{\"id\":\"1020\"},{\"id\":\"1021\"}]},\"id\":\"1022\",\"type\":\"Toolbar\"},{\"attributes\":{},\"id\":\"1047\",\"type\":\"Selection\"},{\"attributes\":{\"fill_color\":\"blue\",\"line_color\":\"blue\",\"size\":10},\"id\":\"1036\",\"type\":\"NormalHead\"},{\"attributes\":{},\"id\":\"1048\",\"type\":\"UnionRenderers\"},{\"attributes\":{\"source\":{\"id\":\"1026\"}},\"id\":\"1030\",\"type\":\"CDSView\"},{\"attributes\":{\"end\":{\"id\":\"1122\"},\"line_alpha\":{\"value\":0.3},\"line_color\":{\"value\":\"blue\"},\"line_width\":{\"value\":3},\"source\":null,\"start\":null,\"x_end\":{\"value\":2.0},\"x_start\":{\"value\":1},\"y_end\":{\"value\":3.0},\"y_start\":{\"value\":1}},\"id\":\"1123\",\"type\":\"Arrow\"},{\"attributes\":{\"data_source\":{\"id\":\"1026\"},\"glyph\":{\"id\":\"1027\"},\"hover_glyph\":null,\"muted_glyph\":null,\"nonselection_glyph\":{\"id\":\"1028\"},\"selection_glyph\":null,\"view\":{\"id\":\"1030\"}},\"id\":\"1029\",\"type\":\"GlyphRenderer\"},{\"attributes\":{\"line_alpha\":0.1,\"line_width\":1.5,\"x\":{\"field\":\"x\"},\"y\":{\"field\":\"y\"}},\"id\":\"1028\",\"type\":\"Line\"},{\"attributes\":{\"axis\":{\"id\":\"1011\"},\"ticker\":null},\"id\":\"1014\",\"type\":\"Grid\"},{\"attributes\":{\"line_width\":1.5,\"x\":{\"field\":\"x\"},\"y\":{\"field\":\"y\"}},\"id\":\"1027\",\"type\":\"Line\"},{\"attributes\":{\"data\":{\"x\":[0.0,0.0],\"y\":[-5.0,5.0]},\"selected\":{\"id\":\"1047\"},\"selection_policy\":{\"id\":\"1048\"}},\"id\":\"1031\",\"type\":\"ColumnDataSource\"},{\"attributes\":{},\"id\":\"1012\",\"type\":\"BasicTicker\"},{\"attributes\":{\"formatter\":{\"id\":\"1041\"},\"ticker\":{\"id\":\"1016\"}},\"id\":\"1015\",\"type\":\"LinearAxis\"},{\"attributes\":{},\"id\":\"1007\",\"type\":\"LinearScale\"},{\"attributes\":{\"line_width\":1.5,\"x\":{\"field\":\"x\"},\"y\":{\"field\":\"y\"}},\"id\":\"1032\",\"type\":\"Line\"},{\"attributes\":{\"end\":{\"id\":\"1135\"},\"line_alpha\":{\"value\":0.3},\"line_color\":{\"value\":\"blue\"},\"line_width\":{\"value\":3},\"source\":null,\"start\":null,\"x_end\":{\"value\":1.0},\"x_start\":{\"value\":0},\"y_end\":{\"value\":-1.0},\"y_start\":{\"value\":-3}},\"id\":\"1136\",\"type\":\"Arrow\"},{\"attributes\":{\"source\":{\"id\":\"1031\"}},\"id\":\"1035\",\"type\":\"CDSView\"},{\"attributes\":{},\"id\":\"1016\",\"type\":\"BasicTicker\"},{\"attributes\":{\"line_alpha\":0.1,\"line_width\":1.5,\"x\":{\"field\":\"x\"},\"y\":{\"field\":\"y\"}},\"id\":\"1033\",\"type\":\"Line\"},{\"attributes\":{\"data_source\":{\"id\":\"1031\"},\"glyph\":{\"id\":\"1032\"},\"hover_glyph\":null,\"muted_glyph\":null,\"nonselection_glyph\":{\"id\":\"1033\"},\"selection_glyph\":null,\"view\":{\"id\":\"1035\"}},\"id\":\"1034\",\"type\":\"GlyphRenderer\"},{\"attributes\":{\"text\":\"\"},\"id\":\"1039\",\"type\":\"Title\"},{\"attributes\":{\"axis\":{\"id\":\"1015\"},\"dimension\":1,\"ticker\":null},\"id\":\"1018\",\"type\":\"Grid\"},{\"attributes\":{\"end\":3.5,\"start\":-3.5},\"id\":\"1005\",\"type\":\"Range1d\"},{\"attributes\":{\"fill_alpha\":0.3,\"fill_color\":\"blue\",\"line_alpha\":0.3,\"line_color\":\"blue\",\"size\":10},\"id\":\"1109\",\"type\":\"NormalHead\"},{\"attributes\":{\"fill_alpha\":0.3,\"fill_color\":\"blue\",\"line_alpha\":0.3,\"line_color\":\"blue\",\"size\":10},\"id\":\"1122\",\"type\":\"NormalHead\"},{\"attributes\":{\"data\":{\"x\":[-5.0,5.0],\"y\":[0.0,0.0]},\"selected\":{\"id\":\"1045\"},\"selection_policy\":{\"id\":\"1046\"}},\"id\":\"1026\",\"type\":\"ColumnDataSource\"},{\"attributes\":{\"fill_alpha\":0.3,\"fill_color\":\"blue\",\"line_alpha\":0.3,\"line_color\":\"blue\",\"size\":10},\"id\":\"1135\",\"type\":\"NormalHead\"},{\"attributes\":{\"end\":{\"id\":\"1036\"},\"line_color\":{\"value\":\"blue\"},\"line_width\":{\"value\":3},\"source\":null,\"start\":null,\"x_end\":{\"value\":1.0},\"x_start\":{\"value\":0.0},\"y_end\":{\"value\":2.0},\"y_start\":{\"value\":0.0}},\"id\":\"1037\",\"type\":\"Arrow\"},{\"attributes\":{},\"id\":\"1019\",\"type\":\"WheelZoomTool\"},{\"attributes\":{\"end\":{\"id\":\"1109\"},\"line_alpha\":{\"value\":0.3},\"line_color\":{\"value\":\"blue\"},\"line_width\":{\"value\":3},\"source\":null,\"start\":null,\"x_end\":{\"value\":-1.0},\"x_start\":{\"value\":-2},\"y_end\":{\"value\":1.0},\"y_start\":{\"value\":-1}},\"id\":\"1110\",\"type\":\"Arrow\"},{\"attributes\":{},\"id\":\"1020\",\"type\":\"PanTool\"}],\"root_ids\":[\"1002\"]},\"title\":\"Bokeh Application\",\"version\":\"2.0.1\"}};\n",
       "  var render_items = [{\"docid\":\"e73545c0-faeb-46b3-9052-1e4dcc17910b\",\"root_ids\":[\"1002\"],\"roots\":{\"1002\":\"f879e68f-6874-4d61-ad82-138c81bf0bd8\"}}];\n",
       "  root.Bokeh.embed.embed_items_notebook(docs_json, render_items);\n",
       "\n",
       "  }\n",
       "  if (root.Bokeh !== undefined) {\n",
       "    embed_document(root);\n",
       "  } else {\n",
       "    var attempts = 0;\n",
       "    var timer = setInterval(function(root) {\n",
       "      if (root.Bokeh !== undefined) {\n",
       "        clearInterval(timer);\n",
       "        embed_document(root);\n",
       "      } else {\n",
       "        attempts++;\n",
       "        if (attempts > 100) {\n",
       "          clearInterval(timer);\n",
       "          console.log(\"Bokeh: ERROR: Unable to run BokehJS code because BokehJS library is missing\");\n",
       "        }\n",
       "      }\n",
       "    }, 10, root)\n",
       "  }\n",
       "})(window);"
      ],
      "application/vnd.bokehjs_exec.v0+json": ""
     },
     "metadata": {
      "application/vnd.bokehjs_exec.v0+json": {
       "id": "1002"
      }
     },
     "output_type": "display_data"
    }
   ],
   "source": [
    "plot.change_origin(np.array([-2,-1]))\n",
    "plot.vector(vec1,add_color=\"blue\",alpha=.3)\n",
    "\n",
    "plot.change_origin(np.array([1,1]))\n",
    "plot.vector(vec1,add_color=\"blue\",alpha=.3)\n",
    "\n",
    "plot.change_origin(np.array([0,-3]))\n",
    "plot.vector(vec1,add_color=\"blue\",alpha=.3)\n",
    "\n",
    "plot.show()"
   ]
  },
  {
   "cell_type": "markdown",
   "metadata": {},
   "source": [
    "Note that $\\vec{v}$ is a 2-dimensional vector, but we could easily describe vectors in $N$ dimensions (even though we can't visualize them beyond 3 dimensions). \n",
    "\n",
    "We denote a two dimensional plane composing all the real numbers on that plane as $\\Re^2$. Here the superscript captures the number of dimensions, which is 2. We'd denote some $n$ dimensional space as $\\Re^n$\n",
    "\n",
    "For practical reasons, most of the visualizations I'll perform during the lectures will be in $\\Re^2$"
   ]
  },
  {
   "cell_type": "markdown",
   "metadata": {},
   "source": [
    "## Vector Scalar Multiplication \n",
    "\n",
    "\\begin{equation} \n",
    "c\\vec {v} = c\\begin{bmatrix} a \\\\ b \\end{bmatrix} = \\begin{bmatrix} ca \\\\ cb \\end{bmatrix} \n",
    "\\end{equation}\n",
    "\n",
    "Where $c$ is an arbitrary scalar of the real numbers, $c \\in \\Re$\n",
    "\n",
    "**Example**\n",
    "\\begin{equation} \n",
    "2\\vec {v} = 2\\begin{bmatrix} 1 \\\\ 2 \\end{bmatrix} = \\begin{bmatrix} 2(1) \\\\ 2(2) \\end{bmatrix} = \\begin{bmatrix} 2 \\\\ 4 \\end{bmatrix}\n",
    "\\end{equation}\n"
   ]
  },
  {
   "cell_type": "code",
   "execution_count": 5,
   "metadata": {},
   "outputs": [
    {
     "name": "stdout",
     "output_type": "stream",
     "text": [
      "[1 2]\n",
      "[2 4]\n"
     ]
    }
   ],
   "source": [
    "print(vec1)\n",
    "new_vec = 2*vec1\n",
    "print(new_vec)"
   ]
  },
  {
   "cell_type": "code",
   "execution_count": 6,
   "metadata": {},
   "outputs": [
    {
     "data": {
      "text/html": [
       "\n",
       "\n",
       "\n",
       "\n",
       "\n",
       "\n",
       "  <div class=\"bk-root\" id=\"9af14f9b-fc92-42a2-9418-a40195f1411c\" data-root-id=\"1208\"></div>\n"
      ]
     },
     "metadata": {},
     "output_type": "display_data"
    },
    {
     "data": {
      "application/javascript": [
       "(function(root) {\n",
       "  function embed_document(root) {\n",
       "    \n",
       "  var docs_json = {\"b5498f77-97fe-4149-91eb-3df632a2a560\":{\"roots\":{\"references\":[{\"attributes\":{\"below\":[{\"id\":\"1217\"}],\"center\":[{\"id\":\"1220\"},{\"id\":\"1224\"},{\"id\":\"1243\"},{\"id\":\"1246\"}],\"left\":[{\"id\":\"1221\"}],\"plot_height\":700,\"plot_width\":700,\"renderers\":[{\"id\":\"1235\"},{\"id\":\"1240\"}],\"title\":{\"id\":\"1258\"},\"toolbar\":{\"id\":\"1228\"},\"x_range\":{\"id\":\"1209\"},\"x_scale\":{\"id\":\"1213\"},\"y_range\":{\"id\":\"1211\"},\"y_scale\":{\"id\":\"1215\"}},\"id\":\"1208\",\"subtype\":\"Figure\",\"type\":\"Plot\"},{\"attributes\":{},\"id\":\"1260\",\"type\":\"BasicTickFormatter\"},{\"attributes\":{},\"id\":\"1225\",\"type\":\"WheelZoomTool\"},{\"attributes\":{},\"id\":\"1262\",\"type\":\"BasicTickFormatter\"},{\"attributes\":{},\"id\":\"1226\",\"type\":\"PanTool\"},{\"attributes\":{\"data\":{\"x\":[-10.0,10.0],\"y\":[0.0,0.0]},\"selected\":{\"id\":\"1264\"},\"selection_policy\":{\"id\":\"1265\"}},\"id\":\"1232\",\"type\":\"ColumnDataSource\"},{\"attributes\":{\"data_source\":{\"id\":\"1232\"},\"glyph\":{\"id\":\"1233\"},\"hover_glyph\":null,\"muted_glyph\":null,\"nonselection_glyph\":{\"id\":\"1234\"},\"selection_glyph\":null,\"view\":{\"id\":\"1236\"}},\"id\":\"1235\",\"type\":\"GlyphRenderer\"},{\"attributes\":{},\"id\":\"1264\",\"type\":\"Selection\"},{\"attributes\":{},\"id\":\"1227\",\"type\":\"ResetTool\"},{\"attributes\":{},\"id\":\"1265\",\"type\":\"UnionRenderers\"},{\"attributes\":{\"source\":{\"id\":\"1232\"}},\"id\":\"1236\",\"type\":\"CDSView\"},{\"attributes\":{},\"id\":\"1266\",\"type\":\"Selection\"},{\"attributes\":{},\"id\":\"1267\",\"type\":\"UnionRenderers\"},{\"attributes\":{\"active_drag\":\"auto\",\"active_inspect\":\"auto\",\"active_multi\":null,\"active_scroll\":\"auto\",\"active_tap\":\"auto\",\"tools\":[{\"id\":\"1225\"},{\"id\":\"1226\"},{\"id\":\"1227\"}]},\"id\":\"1228\",\"type\":\"Toolbar\"},{\"attributes\":{\"line_alpha\":0.1,\"line_width\":1.5,\"x\":{\"field\":\"x\"},\"y\":{\"field\":\"y\"}},\"id\":\"1234\",\"type\":\"Line\"},{\"attributes\":{\"data\":{\"x\":[0.0,0.0],\"y\":[-10.0,10.0]},\"selected\":{\"id\":\"1266\"},\"selection_policy\":{\"id\":\"1267\"}},\"id\":\"1237\",\"type\":\"ColumnDataSource\"},{\"attributes\":{\"line_width\":1.5,\"x\":{\"field\":\"x\"},\"y\":{\"field\":\"y\"}},\"id\":\"1233\",\"type\":\"Line\"},{\"attributes\":{\"line_width\":1.5,\"x\":{\"field\":\"x\"},\"y\":{\"field\":\"y\"}},\"id\":\"1238\",\"type\":\"Line\"},{\"attributes\":{\"source\":{\"id\":\"1237\"}},\"id\":\"1241\",\"type\":\"CDSView\"},{\"attributes\":{\"line_alpha\":0.1,\"line_width\":1.5,\"x\":{\"field\":\"x\"},\"y\":{\"field\":\"y\"}},\"id\":\"1239\",\"type\":\"Line\"},{\"attributes\":{\"data_source\":{\"id\":\"1237\"},\"glyph\":{\"id\":\"1238\"},\"hover_glyph\":null,\"muted_glyph\":null,\"nonselection_glyph\":{\"id\":\"1239\"},\"selection_glyph\":null,\"view\":{\"id\":\"1241\"}},\"id\":\"1240\",\"type\":\"GlyphRenderer\"},{\"attributes\":{\"end\":7.0,\"start\":-7.0},\"id\":\"1209\",\"type\":\"Range1d\"},{\"attributes\":{},\"id\":\"1218\",\"type\":\"BasicTicker\"},{\"attributes\":{\"end\":7.0,\"start\":-7.0},\"id\":\"1211\",\"type\":\"Range1d\"},{\"attributes\":{\"formatter\":{\"id\":\"1262\"},\"ticker\":{\"id\":\"1218\"}},\"id\":\"1217\",\"type\":\"LinearAxis\"},{\"attributes\":{\"axis\":{\"id\":\"1217\"},\"ticker\":null},\"id\":\"1220\",\"type\":\"Grid\"},{\"attributes\":{\"fill_alpha\":0.2,\"fill_color\":\"blue\",\"line_alpha\":0.2,\"line_color\":\"blue\",\"size\":10},\"id\":\"1245\",\"type\":\"NormalHead\"},{\"attributes\":{},\"id\":\"1222\",\"type\":\"BasicTicker\"},{\"attributes\":{\"formatter\":{\"id\":\"1260\"},\"ticker\":{\"id\":\"1222\"}},\"id\":\"1221\",\"type\":\"LinearAxis\"},{\"attributes\":{\"end\":{\"id\":\"1242\"},\"line_color\":{\"value\":\"blue\"},\"line_width\":{\"value\":3},\"source\":null,\"start\":null,\"x_end\":{\"value\":1},\"x_start\":{\"value\":0.0},\"y_end\":{\"value\":2},\"y_start\":{\"value\":0.0}},\"id\":\"1243\",\"type\":\"Arrow\"},{\"attributes\":{\"axis\":{\"id\":\"1221\"},\"dimension\":1,\"ticker\":null},\"id\":\"1224\",\"type\":\"Grid\"},{\"attributes\":{\"fill_color\":\"blue\",\"line_color\":\"blue\",\"size\":10},\"id\":\"1242\",\"type\":\"NormalHead\"},{\"attributes\":{\"end\":{\"id\":\"1245\"},\"line_alpha\":{\"value\":0.2},\"line_color\":{\"value\":\"blue\"},\"line_width\":{\"value\":3},\"source\":null,\"start\":null,\"x_end\":{\"value\":2},\"x_start\":{\"value\":0.0},\"y_end\":{\"value\":4},\"y_start\":{\"value\":0.0}},\"id\":\"1246\",\"type\":\"Arrow\"},{\"attributes\":{},\"id\":\"1215\",\"type\":\"LinearScale\"},{\"attributes\":{\"text\":\"\"},\"id\":\"1258\",\"type\":\"Title\"},{\"attributes\":{},\"id\":\"1213\",\"type\":\"LinearScale\"}],\"root_ids\":[\"1208\"]},\"title\":\"Bokeh Application\",\"version\":\"2.0.1\"}};\n",
       "  var render_items = [{\"docid\":\"b5498f77-97fe-4149-91eb-3df632a2a560\",\"root_ids\":[\"1208\"],\"roots\":{\"1208\":\"9af14f9b-fc92-42a2-9418-a40195f1411c\"}}];\n",
       "  root.Bokeh.embed.embed_items_notebook(docs_json, render_items);\n",
       "\n",
       "  }\n",
       "  if (root.Bokeh !== undefined) {\n",
       "    embed_document(root);\n",
       "  } else {\n",
       "    var attempts = 0;\n",
       "    var timer = setInterval(function(root) {\n",
       "      if (root.Bokeh !== undefined) {\n",
       "        clearInterval(timer);\n",
       "        embed_document(root);\n",
       "      } else {\n",
       "        attempts++;\n",
       "        if (attempts > 100) {\n",
       "          clearInterval(timer);\n",
       "          console.log(\"Bokeh: ERROR: Unable to run BokehJS code because BokehJS library is missing\");\n",
       "        }\n",
       "      }\n",
       "    }, 10, root)\n",
       "  }\n",
       "})(window);"
      ],
      "application/vnd.bokehjs_exec.v0+json": ""
     },
     "metadata": {
      "application/vnd.bokehjs_exec.v0+json": {
       "id": "1208"
      }
     },
     "output_type": "display_data"
    }
   ],
   "source": [
    "plot.clear()\n",
    "plot.graph(10)\n",
    "plot.vector(vec1,add_color=\"blue\")\n",
    "plot.vector(new_vec,add_color=\"blue\",alpha=.2)\n",
    "plot.show()"
   ]
  },
  {
   "cell_type": "markdown",
   "metadata": {},
   "source": [
    "Scalars increase/decrease the length of a vector. Put differently, the vector is scaled by some magnitude.\n",
    "\n",
    "Thus, we can express any number along a $\\vec{v}$ by scaling it by come constant $c$, where $c \\in \\Re$"
   ]
  },
  {
   "cell_type": "code",
   "execution_count": 7,
   "metadata": {},
   "outputs": [
    {
     "data": {
      "text/html": [
       "\n",
       "\n",
       "\n",
       "\n",
       "\n",
       "\n",
       "  <div class=\"bk-root\" id=\"8e76a0b2-f2c0-4d93-9010-9713bf0e10c1\" data-root-id=\"1208\"></div>\n"
      ]
     },
     "metadata": {},
     "output_type": "display_data"
    },
    {
     "data": {
      "application/javascript": [
       "(function(root) {\n",
       "  function embed_document(root) {\n",
       "    \n",
       "  var docs_json = {\"1c3b7794-4d2a-49c7-8be7-c5b948bd0839\":{\"roots\":{\"references\":[{\"attributes\":{\"below\":[{\"id\":\"1217\"}],\"center\":[{\"id\":\"1220\"},{\"id\":\"1224\"},{\"id\":\"1243\"},{\"id\":\"1246\"},{\"id\":\"1329\"},{\"id\":\"1352\"},{\"id\":\"1375\"},{\"id\":\"1398\"}],\"left\":[{\"id\":\"1221\"}],\"plot_height\":700,\"plot_width\":700,\"renderers\":[{\"id\":\"1235\"},{\"id\":\"1240\"}],\"title\":{\"id\":\"1258\"},\"toolbar\":{\"id\":\"1228\"},\"x_range\":{\"id\":\"1209\"},\"x_scale\":{\"id\":\"1213\"},\"y_range\":{\"id\":\"1211\"},\"y_scale\":{\"id\":\"1215\"}},\"id\":\"1208\",\"subtype\":\"Figure\",\"type\":\"Plot\"},{\"attributes\":{},\"id\":\"1260\",\"type\":\"BasicTickFormatter\"},{\"attributes\":{\"end\":{\"id\":\"1397\"},\"line_alpha\":{\"value\":0.2},\"line_color\":{\"value\":\"blue\"},\"line_width\":{\"value\":3},\"source\":null,\"start\":null,\"x_end\":{\"value\":3.57},\"x_start\":{\"value\":0.0},\"y_end\":{\"value\":7.14},\"y_start\":{\"value\":0.0}},\"id\":\"1398\",\"type\":\"Arrow\"},{\"attributes\":{},\"id\":\"1225\",\"type\":\"WheelZoomTool\"},{\"attributes\":{},\"id\":\"1262\",\"type\":\"BasicTickFormatter\"},{\"attributes\":{},\"id\":\"1226\",\"type\":\"PanTool\"},{\"attributes\":{\"data\":{\"x\":[-10.0,10.0],\"y\":[0.0,0.0]},\"selected\":{\"id\":\"1264\"},\"selection_policy\":{\"id\":\"1265\"}},\"id\":\"1232\",\"type\":\"ColumnDataSource\"},{\"attributes\":{\"fill_alpha\":0.2,\"fill_color\":\"blue\",\"line_alpha\":0.2,\"line_color\":\"blue\",\"size\":10},\"id\":\"1374\",\"type\":\"NormalHead\"},{\"attributes\":{\"data_source\":{\"id\":\"1232\"},\"glyph\":{\"id\":\"1233\"},\"hover_glyph\":null,\"muted_glyph\":null,\"nonselection_glyph\":{\"id\":\"1234\"},\"selection_glyph\":null,\"view\":{\"id\":\"1236\"}},\"id\":\"1235\",\"type\":\"GlyphRenderer\"},{\"attributes\":{},\"id\":\"1264\",\"type\":\"Selection\"},{\"attributes\":{},\"id\":\"1227\",\"type\":\"ResetTool\"},{\"attributes\":{},\"id\":\"1265\",\"type\":\"UnionRenderers\"},{\"attributes\":{\"end\":{\"id\":\"1374\"},\"line_alpha\":{\"value\":0.2},\"line_color\":{\"value\":\"blue\"},\"line_width\":{\"value\":3},\"source\":null,\"start\":null,\"x_end\":{\"value\":-2.3},\"x_start\":{\"value\":0.0},\"y_end\":{\"value\":-4.6},\"y_start\":{\"value\":0.0}},\"id\":\"1375\",\"type\":\"Arrow\"},{\"attributes\":{\"source\":{\"id\":\"1232\"}},\"id\":\"1236\",\"type\":\"CDSView\"},{\"attributes\":{},\"id\":\"1266\",\"type\":\"Selection\"},{\"attributes\":{},\"id\":\"1267\",\"type\":\"UnionRenderers\"},{\"attributes\":{\"active_drag\":\"auto\",\"active_inspect\":\"auto\",\"active_multi\":null,\"active_scroll\":\"auto\",\"active_tap\":\"auto\",\"tools\":[{\"id\":\"1225\"},{\"id\":\"1226\"},{\"id\":\"1227\"}]},\"id\":\"1228\",\"type\":\"Toolbar\"},{\"attributes\":{\"line_alpha\":0.1,\"line_width\":1.5,\"x\":{\"field\":\"x\"},\"y\":{\"field\":\"y\"}},\"id\":\"1234\",\"type\":\"Line\"},{\"attributes\":{\"data\":{\"x\":[0.0,0.0],\"y\":[-10.0,10.0]},\"selected\":{\"id\":\"1266\"},\"selection_policy\":{\"id\":\"1267\"}},\"id\":\"1237\",\"type\":\"ColumnDataSource\"},{\"attributes\":{\"line_width\":1.5,\"x\":{\"field\":\"x\"},\"y\":{\"field\":\"y\"}},\"id\":\"1233\",\"type\":\"Line\"},{\"attributes\":{\"line_width\":1.5,\"x\":{\"field\":\"x\"},\"y\":{\"field\":\"y\"}},\"id\":\"1238\",\"type\":\"Line\"},{\"attributes\":{\"fill_alpha\":0.2,\"fill_color\":\"blue\",\"line_alpha\":0.2,\"line_color\":\"blue\",\"size\":10},\"id\":\"1328\",\"type\":\"NormalHead\"},{\"attributes\":{\"fill_alpha\":0.2,\"fill_color\":\"blue\",\"line_alpha\":0.2,\"line_color\":\"blue\",\"size\":10},\"id\":\"1397\",\"type\":\"NormalHead\"},{\"attributes\":{\"source\":{\"id\":\"1237\"}},\"id\":\"1241\",\"type\":\"CDSView\"},{\"attributes\":{\"line_alpha\":0.1,\"line_width\":1.5,\"x\":{\"field\":\"x\"},\"y\":{\"field\":\"y\"}},\"id\":\"1239\",\"type\":\"Line\"},{\"attributes\":{\"data_source\":{\"id\":\"1237\"},\"glyph\":{\"id\":\"1238\"},\"hover_glyph\":null,\"muted_glyph\":null,\"nonselection_glyph\":{\"id\":\"1239\"},\"selection_glyph\":null,\"view\":{\"id\":\"1241\"}},\"id\":\"1240\",\"type\":\"GlyphRenderer\"},{\"attributes\":{\"end\":{\"id\":\"1328\"},\"line_alpha\":{\"value\":0.2},\"line_color\":{\"value\":\"blue\"},\"line_width\":{\"value\":3},\"source\":null,\"start\":null,\"x_end\":{\"value\":-1.2},\"x_start\":{\"value\":0.0},\"y_end\":{\"value\":-2.4},\"y_start\":{\"value\":0.0}},\"id\":\"1329\",\"type\":\"Arrow\"},{\"attributes\":{\"end\":7.0,\"start\":-7.0},\"id\":\"1209\",\"type\":\"Range1d\"},{\"attributes\":{},\"id\":\"1218\",\"type\":\"BasicTicker\"},{\"attributes\":{\"end\":7.0,\"start\":-7.0},\"id\":\"1211\",\"type\":\"Range1d\"},{\"attributes\":{\"formatter\":{\"id\":\"1262\"},\"ticker\":{\"id\":\"1218\"}},\"id\":\"1217\",\"type\":\"LinearAxis\"},{\"attributes\":{\"axis\":{\"id\":\"1217\"},\"ticker\":null},\"id\":\"1220\",\"type\":\"Grid\"},{\"attributes\":{\"fill_alpha\":0.2,\"fill_color\":\"blue\",\"line_alpha\":0.2,\"line_color\":\"blue\",\"size\":10},\"id\":\"1245\",\"type\":\"NormalHead\"},{\"attributes\":{\"end\":{\"id\":\"1351\"},\"line_alpha\":{\"value\":0.2},\"line_color\":{\"value\":\"blue\"},\"line_width\":{\"value\":3},\"source\":null,\"start\":null,\"x_end\":{\"value\":-0.3},\"x_start\":{\"value\":0.0},\"y_end\":{\"value\":-0.6},\"y_start\":{\"value\":0.0}},\"id\":\"1352\",\"type\":\"Arrow\"},{\"attributes\":{},\"id\":\"1222\",\"type\":\"BasicTicker\"},{\"attributes\":{\"formatter\":{\"id\":\"1260\"},\"ticker\":{\"id\":\"1222\"}},\"id\":\"1221\",\"type\":\"LinearAxis\"},{\"attributes\":{\"end\":{\"id\":\"1242\"},\"line_color\":{\"value\":\"blue\"},\"line_width\":{\"value\":3},\"source\":null,\"start\":null,\"x_end\":{\"value\":1},\"x_start\":{\"value\":0.0},\"y_end\":{\"value\":2},\"y_start\":{\"value\":0.0}},\"id\":\"1243\",\"type\":\"Arrow\"},{\"attributes\":{\"axis\":{\"id\":\"1221\"},\"dimension\":1,\"ticker\":null},\"id\":\"1224\",\"type\":\"Grid\"},{\"attributes\":{\"fill_alpha\":0.2,\"fill_color\":\"blue\",\"line_alpha\":0.2,\"line_color\":\"blue\",\"size\":10},\"id\":\"1351\",\"type\":\"NormalHead\"},{\"attributes\":{\"fill_color\":\"blue\",\"line_color\":\"blue\",\"size\":10},\"id\":\"1242\",\"type\":\"NormalHead\"},{\"attributes\":{\"end\":{\"id\":\"1245\"},\"line_alpha\":{\"value\":0.2},\"line_color\":{\"value\":\"blue\"},\"line_width\":{\"value\":3},\"source\":null,\"start\":null,\"x_end\":{\"value\":2},\"x_start\":{\"value\":0.0},\"y_end\":{\"value\":4},\"y_start\":{\"value\":0.0}},\"id\":\"1246\",\"type\":\"Arrow\"},{\"attributes\":{},\"id\":\"1215\",\"type\":\"LinearScale\"},{\"attributes\":{\"text\":\"\"},\"id\":\"1258\",\"type\":\"Title\"},{\"attributes\":{},\"id\":\"1213\",\"type\":\"LinearScale\"}],\"root_ids\":[\"1208\"]},\"title\":\"Bokeh Application\",\"version\":\"2.0.1\"}};\n",
       "  var render_items = [{\"docid\":\"1c3b7794-4d2a-49c7-8be7-c5b948bd0839\",\"root_ids\":[\"1208\"],\"roots\":{\"1208\":\"8e76a0b2-f2c0-4d93-9010-9713bf0e10c1\"}}];\n",
       "  root.Bokeh.embed.embed_items_notebook(docs_json, render_items);\n",
       "\n",
       "  }\n",
       "  if (root.Bokeh !== undefined) {\n",
       "    embed_document(root);\n",
       "  } else {\n",
       "    var attempts = 0;\n",
       "    var timer = setInterval(function(root) {\n",
       "      if (root.Bokeh !== undefined) {\n",
       "        clearInterval(timer);\n",
       "        embed_document(root);\n",
       "      } else {\n",
       "        attempts++;\n",
       "        if (attempts > 100) {\n",
       "          clearInterval(timer);\n",
       "          console.log(\"Bokeh: ERROR: Unable to run BokehJS code because BokehJS library is missing\");\n",
       "        }\n",
       "      }\n",
       "    }, 10, root)\n",
       "  }\n",
       "})(window);"
      ],
      "application/vnd.bokehjs_exec.v0+json": ""
     },
     "metadata": {
      "application/vnd.bokehjs_exec.v0+json": {
       "id": "1208"
      }
     },
     "output_type": "display_data"
    }
   ],
   "source": [
    "for scalar in [-1.2,-.3,-2.3,3.57]:\n",
    "    new_vec = scalar*vec1\n",
    "    plot.vector(new_vec,add_color=\"blue\",alpha=.2)\n",
    "plot.show()"
   ]
  },
  {
   "cell_type": "markdown",
   "metadata": {},
   "source": [
    "# Vector Addition\n",
    "\n",
    "Given $\\vec{a},~\\vec{b} \\in \\Re^2$\n",
    "\n",
    "$$\\vec{a} = \\begin{bmatrix} a_1 \\\\ a_2 \\end{bmatrix}$$\n",
    "$$\\vec{b} = \\begin{bmatrix} b_1 \\\\ b_2 \\end{bmatrix}$$\n",
    "\n",
    "then \n",
    "\\begin{equation}\n",
    "\\vec{a} + \\vec{b} = \\begin{bmatrix} a_1+b_1 \\\\ a_2+b_2 \\end{bmatrix}\n",
    "\\end{equation}"
   ]
  },
  {
   "cell_type": "code",
   "execution_count": 8,
   "metadata": {},
   "outputs": [
    {
     "data": {
      "text/plain": [
       "array([3, 3])"
      ]
     },
     "execution_count": 8,
     "metadata": {},
     "output_type": "execute_result"
    }
   ],
   "source": [
    "a = np.array([2,1])\n",
    "b = np.array([1,2])\n",
    "c = a + b\n",
    "c"
   ]
  },
  {
   "cell_type": "markdown",
   "metadata": {},
   "source": [
    "$$\\vec{a} = \\begin{bmatrix} 2 \\\\ 1 \\end{bmatrix}$$\n",
    "$$\\vec{b} = \\begin{bmatrix} 1 \\\\ 2 \\end{bmatrix}$$\n",
    "\n",
    "then \n",
    "\\begin{equation}\n",
    "\\vec{a} + \\vec{b} = \\begin{bmatrix} 1+2 \\\\ 2+1 \\end{bmatrix} = \\begin{bmatrix} 3 \\\\ 3 \\end{bmatrix}\n",
    "\\end{equation}"
   ]
  },
  {
   "cell_type": "code",
   "execution_count": 9,
   "metadata": {},
   "outputs": [
    {
     "data": {
      "text/html": [
       "\n",
       "\n",
       "\n",
       "\n",
       "\n",
       "\n",
       "  <div class=\"bk-root\" id=\"c053e80a-8c88-43c6-b7ed-74bdf517329c\" data-root-id=\"1480\"></div>\n"
      ]
     },
     "metadata": {},
     "output_type": "display_data"
    },
    {
     "data": {
      "application/javascript": [
       "(function(root) {\n",
       "  function embed_document(root) {\n",
       "    \n",
       "  var docs_json = {\"a66c2602-347f-43f5-bab6-fa4d9e2ebb29\":{\"roots\":{\"references\":[{\"attributes\":{\"below\":[{\"id\":\"1489\"}],\"center\":[{\"id\":\"1492\"},{\"id\":\"1496\"},{\"id\":\"1515\"},{\"id\":\"1518\"},{\"id\":\"1521\"}],\"left\":[{\"id\":\"1493\"}],\"plot_height\":700,\"plot_width\":700,\"renderers\":[{\"id\":\"1507\"},{\"id\":\"1512\"}],\"title\":{\"id\":\"1543\"},\"toolbar\":{\"id\":\"1500\"},\"x_range\":{\"id\":\"1481\"},\"x_scale\":{\"id\":\"1485\"},\"y_range\":{\"id\":\"1483\"},\"y_scale\":{\"id\":\"1487\"}},\"id\":\"1480\",\"subtype\":\"Figure\",\"type\":\"Plot\"},{\"attributes\":{\"fill_color\":\"green\",\"line_color\":\"green\",\"size\":10},\"id\":\"1520\",\"type\":\"NormalHead\"},{\"attributes\":{\"end\":{\"id\":\"1520\"},\"line_color\":{\"value\":\"green\"},\"line_width\":{\"value\":3},\"source\":null,\"start\":null,\"x_end\":{\"value\":3},\"x_start\":{\"value\":0.0},\"y_end\":{\"value\":3},\"y_start\":{\"value\":0.0}},\"id\":\"1521\",\"type\":\"Arrow\"},{\"attributes\":{\"source\":{\"id\":\"1509\"}},\"id\":\"1513\",\"type\":\"CDSView\"},{\"attributes\":{\"fill_color\":\"blue\",\"line_color\":\"blue\",\"size\":10},\"id\":\"1514\",\"type\":\"NormalHead\"},{\"attributes\":{\"text\":\"\"},\"id\":\"1543\",\"type\":\"Title\"},{\"attributes\":{\"data\":{\"x\":[-5.0,5.0],\"y\":[0.0,0.0]},\"selected\":{\"id\":\"1549\"},\"selection_policy\":{\"id\":\"1550\"}},\"id\":\"1504\",\"type\":\"ColumnDataSource\"},{\"attributes\":{},\"id\":\"1545\",\"type\":\"BasicTickFormatter\"},{\"attributes\":{\"end\":3.5,\"start\":-3.5},\"id\":\"1481\",\"type\":\"Range1d\"},{\"attributes\":{\"line_width\":1.5,\"x\":{\"field\":\"x\"},\"y\":{\"field\":\"y\"}},\"id\":\"1505\",\"type\":\"Line\"},{\"attributes\":{\"formatter\":{\"id\":\"1545\"},\"ticker\":{\"id\":\"1494\"}},\"id\":\"1493\",\"type\":\"LinearAxis\"},{\"attributes\":{},\"id\":\"1547\",\"type\":\"BasicTickFormatter\"},{\"attributes\":{},\"id\":\"1549\",\"type\":\"Selection\"},{\"attributes\":{\"data_source\":{\"id\":\"1509\"},\"glyph\":{\"id\":\"1510\"},\"hover_glyph\":null,\"muted_glyph\":null,\"nonselection_glyph\":{\"id\":\"1511\"},\"selection_glyph\":null,\"view\":{\"id\":\"1513\"}},\"id\":\"1512\",\"type\":\"GlyphRenderer\"},{\"attributes\":{\"end\":{\"id\":\"1514\"},\"line_color\":{\"value\":\"blue\"},\"line_width\":{\"value\":3},\"source\":null,\"start\":null,\"x_end\":{\"value\":2},\"x_start\":{\"value\":0.0},\"y_end\":{\"value\":1},\"y_start\":{\"value\":0.0}},\"id\":\"1515\",\"type\":\"Arrow\"},{\"attributes\":{},\"id\":\"1550\",\"type\":\"UnionRenderers\"},{\"attributes\":{\"line_width\":1.5,\"x\":{\"field\":\"x\"},\"y\":{\"field\":\"y\"}},\"id\":\"1510\",\"type\":\"Line\"},{\"attributes\":{\"fill_color\":\"red\",\"line_color\":\"red\",\"size\":10},\"id\":\"1517\",\"type\":\"NormalHead\"},{\"attributes\":{},\"id\":\"1551\",\"type\":\"Selection\"},{\"attributes\":{\"end\":{\"id\":\"1517\"},\"line_color\":{\"value\":\"red\"},\"line_width\":{\"value\":3},\"source\":null,\"start\":null,\"x_end\":{\"value\":1},\"x_start\":{\"value\":0.0},\"y_end\":{\"value\":2},\"y_start\":{\"value\":0.0}},\"id\":\"1518\",\"type\":\"Arrow\"},{\"attributes\":{},\"id\":\"1552\",\"type\":\"UnionRenderers\"},{\"attributes\":{\"end\":3.5,\"start\":-3.5},\"id\":\"1483\",\"type\":\"Range1d\"},{\"attributes\":{\"data\":{\"x\":[0.0,0.0],\"y\":[-5.0,5.0]},\"selected\":{\"id\":\"1551\"},\"selection_policy\":{\"id\":\"1552\"}},\"id\":\"1509\",\"type\":\"ColumnDataSource\"},{\"attributes\":{\"data_source\":{\"id\":\"1504\"},\"glyph\":{\"id\":\"1505\"},\"hover_glyph\":null,\"muted_glyph\":null,\"nonselection_glyph\":{\"id\":\"1506\"},\"selection_glyph\":null,\"view\":{\"id\":\"1508\"}},\"id\":\"1507\",\"type\":\"GlyphRenderer\"},{\"attributes\":{\"active_drag\":\"auto\",\"active_inspect\":\"auto\",\"active_multi\":null,\"active_scroll\":\"auto\",\"active_tap\":\"auto\",\"tools\":[{\"id\":\"1497\"},{\"id\":\"1498\"},{\"id\":\"1499\"}]},\"id\":\"1500\",\"type\":\"Toolbar\"},{\"attributes\":{},\"id\":\"1490\",\"type\":\"BasicTicker\"},{\"attributes\":{},\"id\":\"1485\",\"type\":\"LinearScale\"},{\"attributes\":{\"line_alpha\":0.1,\"line_width\":1.5,\"x\":{\"field\":\"x\"},\"y\":{\"field\":\"y\"}},\"id\":\"1506\",\"type\":\"Line\"},{\"attributes\":{\"formatter\":{\"id\":\"1547\"},\"ticker\":{\"id\":\"1490\"}},\"id\":\"1489\",\"type\":\"LinearAxis\"},{\"attributes\":{\"source\":{\"id\":\"1504\"}},\"id\":\"1508\",\"type\":\"CDSView\"},{\"attributes\":{},\"id\":\"1487\",\"type\":\"LinearScale\"},{\"attributes\":{\"axis\":{\"id\":\"1489\"},\"ticker\":null},\"id\":\"1492\",\"type\":\"Grid\"},{\"attributes\":{},\"id\":\"1498\",\"type\":\"PanTool\"},{\"attributes\":{},\"id\":\"1494\",\"type\":\"BasicTicker\"},{\"attributes\":{},\"id\":\"1499\",\"type\":\"ResetTool\"},{\"attributes\":{},\"id\":\"1497\",\"type\":\"WheelZoomTool\"},{\"attributes\":{\"axis\":{\"id\":\"1493\"},\"dimension\":1,\"ticker\":null},\"id\":\"1496\",\"type\":\"Grid\"},{\"attributes\":{\"line_alpha\":0.1,\"line_width\":1.5,\"x\":{\"field\":\"x\"},\"y\":{\"field\":\"y\"}},\"id\":\"1511\",\"type\":\"Line\"}],\"root_ids\":[\"1480\"]},\"title\":\"Bokeh Application\",\"version\":\"2.0.1\"}};\n",
       "  var render_items = [{\"docid\":\"a66c2602-347f-43f5-bab6-fa4d9e2ebb29\",\"root_ids\":[\"1480\"],\"roots\":{\"1480\":\"c053e80a-8c88-43c6-b7ed-74bdf517329c\"}}];\n",
       "  root.Bokeh.embed.embed_items_notebook(docs_json, render_items);\n",
       "\n",
       "  }\n",
       "  if (root.Bokeh !== undefined) {\n",
       "    embed_document(root);\n",
       "  } else {\n",
       "    var attempts = 0;\n",
       "    var timer = setInterval(function(root) {\n",
       "      if (root.Bokeh !== undefined) {\n",
       "        clearInterval(timer);\n",
       "        embed_document(root);\n",
       "      } else {\n",
       "        attempts++;\n",
       "        if (attempts > 100) {\n",
       "          clearInterval(timer);\n",
       "          console.log(\"Bokeh: ERROR: Unable to run BokehJS code because BokehJS library is missing\");\n",
       "        }\n",
       "      }\n",
       "    }, 10, root)\n",
       "  }\n",
       "})(window);"
      ],
      "application/vnd.bokehjs_exec.v0+json": ""
     },
     "metadata": {
      "application/vnd.bokehjs_exec.v0+json": {
       "id": "1480"
      }
     },
     "output_type": "display_data"
    }
   ],
   "source": [
    "plot.clear()\n",
    "plot.graph()\n",
    "plot.vector(a)\n",
    "plot.vector(b)\n",
    "plot.vector(c)\n",
    "plot.show()"
   ]
  },
  {
   "cell_type": "markdown",
   "metadata": {},
   "source": [
    "What is really going on here when we add two vectors?"
   ]
  },
  {
   "cell_type": "code",
   "execution_count": 10,
   "metadata": {},
   "outputs": [
    {
     "data": {
      "text/html": [
       "\n",
       "\n",
       "\n",
       "\n",
       "\n",
       "\n",
       "  <div class=\"bk-root\" id=\"9c3e111f-bc76-4e71-991c-bfa5c2c4be7c\" data-root-id=\"1613\"></div>\n"
      ]
     },
     "metadata": {},
     "output_type": "display_data"
    },
    {
     "data": {
      "application/javascript": [
       "(function(root) {\n",
       "  function embed_document(root) {\n",
       "    \n",
       "  var docs_json = {\"b151d552-17c1-4fcf-998a-386cbed6a474\":{\"roots\":{\"references\":[{\"attributes\":{\"below\":[{\"id\":\"1622\"}],\"center\":[{\"id\":\"1625\"},{\"id\":\"1629\"},{\"id\":\"1648\"},{\"id\":\"1651\"},{\"id\":\"1654\"}],\"left\":[{\"id\":\"1626\"}],\"plot_height\":700,\"plot_width\":700,\"renderers\":[{\"id\":\"1640\"},{\"id\":\"1645\"}],\"title\":{\"id\":\"1686\"},\"toolbar\":{\"id\":\"1633\"},\"x_range\":{\"id\":\"1614\"},\"x_scale\":{\"id\":\"1618\"},\"y_range\":{\"id\":\"1616\"},\"y_scale\":{\"id\":\"1620\"}},\"id\":\"1613\",\"subtype\":\"Figure\",\"type\":\"Plot\"},{\"attributes\":{\"data\":{\"x\":[0.0,0.0],\"y\":[-8.0,8.0]},\"selected\":{\"id\":\"1694\"},\"selection_policy\":{\"id\":\"1695\"}},\"id\":\"1642\",\"type\":\"ColumnDataSource\"},{\"attributes\":{\"end\":{\"id\":\"1653\"},\"line_alpha\":{\"value\":0.3},\"line_color\":{\"value\":\"red\"},\"line_width\":{\"value\":3},\"source\":null,\"start\":null,\"x_end\":{\"value\":3},\"x_start\":{\"value\":2},\"y_end\":{\"value\":3},\"y_start\":{\"value\":1}},\"id\":\"1654\",\"type\":\"Arrow\"},{\"attributes\":{\"line_alpha\":0.1,\"line_width\":1.5,\"x\":{\"field\":\"x\"},\"y\":{\"field\":\"y\"}},\"id\":\"1639\",\"type\":\"Line\"},{\"attributes\":{\"line_width\":1.5,\"x\":{\"field\":\"x\"},\"y\":{\"field\":\"y\"}},\"id\":\"1643\",\"type\":\"Line\"},{\"attributes\":{\"fill_color\":\"gold\",\"line_color\":\"gold\",\"size\":10},\"id\":\"1650\",\"type\":\"NormalHead\"},{\"attributes\":{\"text\":\"\"},\"id\":\"1686\",\"type\":\"Title\"},{\"attributes\":{},\"id\":\"1688\",\"type\":\"BasicTickFormatter\"},{\"attributes\":{\"active_drag\":\"auto\",\"active_inspect\":\"auto\",\"active_multi\":null,\"active_scroll\":\"auto\",\"active_tap\":\"auto\",\"tools\":[{\"id\":\"1630\"},{\"id\":\"1631\"},{\"id\":\"1632\"}]},\"id\":\"1633\",\"type\":\"Toolbar\"},{\"attributes\":{\"axis\":{\"id\":\"1622\"},\"ticker\":null},\"id\":\"1625\",\"type\":\"Grid\"},{\"attributes\":{},\"id\":\"1690\",\"type\":\"BasicTickFormatter\"},{\"attributes\":{\"data_source\":{\"id\":\"1637\"},\"glyph\":{\"id\":\"1638\"},\"hover_glyph\":null,\"muted_glyph\":null,\"nonselection_glyph\":{\"id\":\"1639\"},\"selection_glyph\":null,\"view\":{\"id\":\"1641\"}},\"id\":\"1640\",\"type\":\"GlyphRenderer\"},{\"attributes\":{},\"id\":\"1692\",\"type\":\"Selection\"},{\"attributes\":{\"end\":{\"id\":\"1647\"},\"line_alpha\":{\"value\":0.3},\"line_color\":{\"value\":\"blue\"},\"line_width\":{\"value\":3},\"source\":null,\"start\":null,\"x_end\":{\"value\":2},\"x_start\":{\"value\":0.0},\"y_end\":{\"value\":1},\"y_start\":{\"value\":0.0}},\"id\":\"1648\",\"type\":\"Arrow\"},{\"attributes\":{\"end\":{\"id\":\"1650\"},\"line_color\":{\"value\":\"gold\"},\"line_width\":{\"value\":3},\"source\":null,\"start\":null,\"x_end\":{\"value\":3},\"x_start\":{\"value\":0.0},\"y_end\":{\"value\":3},\"y_start\":{\"value\":0.0}},\"id\":\"1651\",\"type\":\"Arrow\"},{\"attributes\":{},\"id\":\"1693\",\"type\":\"UnionRenderers\"},{\"attributes\":{},\"id\":\"1694\",\"type\":\"Selection\"},{\"attributes\":{},\"id\":\"1695\",\"type\":\"UnionRenderers\"},{\"attributes\":{\"fill_alpha\":0.3,\"fill_color\":\"red\",\"line_alpha\":0.3,\"line_color\":\"red\",\"size\":10},\"id\":\"1653\",\"type\":\"NormalHead\"},{\"attributes\":{\"formatter\":{\"id\":\"1690\"},\"ticker\":{\"id\":\"1623\"}},\"id\":\"1622\",\"type\":\"LinearAxis\"},{\"attributes\":{},\"id\":\"1631\",\"type\":\"PanTool\"},{\"attributes\":{},\"id\":\"1620\",\"type\":\"LinearScale\"},{\"attributes\":{\"data\":{\"x\":[-8.0,8.0],\"y\":[0.0,0.0]},\"selected\":{\"id\":\"1692\"},\"selection_policy\":{\"id\":\"1693\"}},\"id\":\"1637\",\"type\":\"ColumnDataSource\"},{\"attributes\":{\"axis\":{\"id\":\"1626\"},\"dimension\":1,\"ticker\":null},\"id\":\"1629\",\"type\":\"Grid\"},{\"attributes\":{},\"id\":\"1618\",\"type\":\"LinearScale\"},{\"attributes\":{\"source\":{\"id\":\"1637\"}},\"id\":\"1641\",\"type\":\"CDSView\"},{\"attributes\":{},\"id\":\"1627\",\"type\":\"BasicTicker\"},{\"attributes\":{\"formatter\":{\"id\":\"1688\"},\"ticker\":{\"id\":\"1627\"}},\"id\":\"1626\",\"type\":\"LinearAxis\"},{\"attributes\":{\"line_width\":1.5,\"x\":{\"field\":\"x\"},\"y\":{\"field\":\"y\"}},\"id\":\"1638\",\"type\":\"Line\"},{\"attributes\":{\"source\":{\"id\":\"1642\"}},\"id\":\"1646\",\"type\":\"CDSView\"},{\"attributes\":{\"end\":5.6,\"start\":-5.6},\"id\":\"1614\",\"type\":\"Range1d\"},{\"attributes\":{},\"id\":\"1623\",\"type\":\"BasicTicker\"},{\"attributes\":{\"line_alpha\":0.1,\"line_width\":1.5,\"x\":{\"field\":\"x\"},\"y\":{\"field\":\"y\"}},\"id\":\"1644\",\"type\":\"Line\"},{\"attributes\":{},\"id\":\"1632\",\"type\":\"ResetTool\"},{\"attributes\":{\"data_source\":{\"id\":\"1642\"},\"glyph\":{\"id\":\"1643\"},\"hover_glyph\":null,\"muted_glyph\":null,\"nonselection_glyph\":{\"id\":\"1644\"},\"selection_glyph\":null,\"view\":{\"id\":\"1646\"}},\"id\":\"1645\",\"type\":\"GlyphRenderer\"},{\"attributes\":{\"end\":5.6,\"start\":-5.6},\"id\":\"1616\",\"type\":\"Range1d\"},{\"attributes\":{\"fill_alpha\":0.3,\"fill_color\":\"blue\",\"line_alpha\":0.3,\"line_color\":\"blue\",\"size\":10},\"id\":\"1647\",\"type\":\"NormalHead\"},{\"attributes\":{},\"id\":\"1630\",\"type\":\"WheelZoomTool\"}],\"root_ids\":[\"1613\"]},\"title\":\"Bokeh Application\",\"version\":\"2.0.1\"}};\n",
       "  var render_items = [{\"docid\":\"b151d552-17c1-4fcf-998a-386cbed6a474\",\"root_ids\":[\"1613\"],\"roots\":{\"1613\":\"9c3e111f-bc76-4e71-991c-bfa5c2c4be7c\"}}];\n",
       "  root.Bokeh.embed.embed_items_notebook(docs_json, render_items);\n",
       "\n",
       "  }\n",
       "  if (root.Bokeh !== undefined) {\n",
       "    embed_document(root);\n",
       "  } else {\n",
       "    var attempts = 0;\n",
       "    var timer = setInterval(function(root) {\n",
       "      if (root.Bokeh !== undefined) {\n",
       "        clearInterval(timer);\n",
       "        embed_document(root);\n",
       "      } else {\n",
       "        attempts++;\n",
       "        if (attempts > 100) {\n",
       "          clearInterval(timer);\n",
       "          console.log(\"Bokeh: ERROR: Unable to run BokehJS code because BokehJS library is missing\");\n",
       "        }\n",
       "      }\n",
       "    }, 10, root)\n",
       "  }\n",
       "})(window);"
      ],
      "application/vnd.bokehjs_exec.v0+json": ""
     },
     "metadata": {
      "application/vnd.bokehjs_exec.v0+json": {
       "id": "1613"
      }
     },
     "output_type": "display_data"
    }
   ],
   "source": [
    "plot.clear()\n",
    "plot.graph(8)\n",
    "plot.add_vectors(a,b)\n",
    "plot.show()"
   ]
  },
  {
   "cell_type": "markdown",
   "metadata": {},
   "source": [
    "# Vector Subtraction\n",
    "\n",
    "Given $\\vec{a},~\\vec{b} \\in \\Re^2$\n",
    "\n",
    "$$\\vec{a} = \\begin{bmatrix} a_1 \\\\ a_2 \\end{bmatrix}$$\n",
    "$$\\vec{b} = \\begin{bmatrix} b_1 \\\\ b_2 \\end{bmatrix}$$\n",
    "\n",
    "then \n",
    "\\begin{equation}\n",
    "\\vec{a} - \\vec{b} = \\begin{bmatrix} a_1-b_1 \\\\ a_2-b_2 \\end{bmatrix}\n",
    "\\end{equation}"
   ]
  },
  {
   "cell_type": "code",
   "execution_count": 11,
   "metadata": {},
   "outputs": [
    {
     "data": {
      "text/plain": [
       "array([ 1, -1])"
      ]
     },
     "execution_count": 11,
     "metadata": {},
     "output_type": "execute_result"
    }
   ],
   "source": [
    "a = np.array([2,1])\n",
    "b = np.array([1,2])\n",
    "c = a - b\n",
    "c"
   ]
  },
  {
   "cell_type": "markdown",
   "metadata": {},
   "source": [
    "$$\\vec{a} = \\begin{bmatrix} 2 \\\\ 1 \\end{bmatrix}$$\n",
    "$$\\vec{b} = \\begin{bmatrix} 1 \\\\ 2 \\end{bmatrix}$$\n",
    "\n",
    "then \n",
    "\\begin{equation}\n",
    "\\vec{a} - \\vec{b} = \\begin{bmatrix} 2-1 \\\\ 1-2 \\end{bmatrix} = \\begin{bmatrix} 1 \\\\ -1 \\end{bmatrix}\n",
    "\\end{equation}"
   ]
  },
  {
   "cell_type": "code",
   "execution_count": 12,
   "metadata": {},
   "outputs": [
    {
     "data": {
      "text/html": [
       "\n",
       "\n",
       "\n",
       "\n",
       "\n",
       "\n",
       "  <div class=\"bk-root\" id=\"ebf51ee2-db6d-4514-816a-7ed1f81f2c50\" data-root-id=\"1756\"></div>\n"
      ]
     },
     "metadata": {},
     "output_type": "display_data"
    },
    {
     "data": {
      "application/javascript": [
       "(function(root) {\n",
       "  function embed_document(root) {\n",
       "    \n",
       "  var docs_json = {\"33970f27-0c1e-4b26-bef6-02b257a75a9b\":{\"roots\":{\"references\":[{\"attributes\":{\"below\":[{\"id\":\"1765\"}],\"center\":[{\"id\":\"1768\"},{\"id\":\"1772\"},{\"id\":\"1791\"},{\"id\":\"1794\"},{\"id\":\"1797\"}],\"left\":[{\"id\":\"1769\"}],\"plot_height\":700,\"plot_width\":700,\"renderers\":[{\"id\":\"1783\"},{\"id\":\"1788\"}],\"title\":{\"id\":\"1839\"},\"toolbar\":{\"id\":\"1776\"},\"x_range\":{\"id\":\"1757\"},\"x_scale\":{\"id\":\"1761\"},\"y_range\":{\"id\":\"1759\"},\"y_scale\":{\"id\":\"1763\"}},\"id\":\"1756\",\"subtype\":\"Figure\",\"type\":\"Plot\"},{\"attributes\":{\"fill_color\":\"purple\",\"line_color\":\"purple\",\"size\":10},\"id\":\"1796\",\"type\":\"NormalHead\"},{\"attributes\":{\"axis\":{\"id\":\"1769\"},\"dimension\":1,\"ticker\":null},\"id\":\"1772\",\"type\":\"Grid\"},{\"attributes\":{\"formatter\":{\"id\":\"1841\"},\"ticker\":{\"id\":\"1770\"}},\"id\":\"1769\",\"type\":\"LinearAxis\"},{\"attributes\":{\"end\":{\"id\":\"1793\"},\"line_color\":{\"value\":\"red\"},\"line_width\":{\"value\":3},\"source\":null,\"start\":null,\"x_end\":{\"value\":1},\"x_start\":{\"value\":0.0},\"y_end\":{\"value\":2},\"y_start\":{\"value\":0.0}},\"id\":\"1794\",\"type\":\"Arrow\"},{\"attributes\":{\"data_source\":{\"id\":\"1780\"},\"glyph\":{\"id\":\"1781\"},\"hover_glyph\":null,\"muted_glyph\":null,\"nonselection_glyph\":{\"id\":\"1782\"},\"selection_glyph\":null,\"view\":{\"id\":\"1784\"}},\"id\":\"1783\",\"type\":\"GlyphRenderer\"},{\"attributes\":{},\"id\":\"1773\",\"type\":\"WheelZoomTool\"},{\"attributes\":{\"line_width\":1.5,\"x\":{\"field\":\"x\"},\"y\":{\"field\":\"y\"}},\"id\":\"1781\",\"type\":\"Line\"},{\"attributes\":{\"end\":{\"id\":\"1796\"},\"line_color\":{\"value\":\"purple\"},\"line_width\":{\"value\":3},\"source\":null,\"start\":null,\"x_end\":{\"value\":1},\"x_start\":{\"value\":0.0},\"y_end\":{\"value\":-1},\"y_start\":{\"value\":0.0}},\"id\":\"1797\",\"type\":\"Arrow\"},{\"attributes\":{},\"id\":\"1774\",\"type\":\"PanTool\"},{\"attributes\":{},\"id\":\"1763\",\"type\":\"LinearScale\"},{\"attributes\":{},\"id\":\"1775\",\"type\":\"ResetTool\"},{\"attributes\":{\"text\":\"\"},\"id\":\"1839\",\"type\":\"Title\"},{\"attributes\":{},\"id\":\"1841\",\"type\":\"BasicTickFormatter\"},{\"attributes\":{\"source\":{\"id\":\"1780\"}},\"id\":\"1784\",\"type\":\"CDSView\"},{\"attributes\":{},\"id\":\"1843\",\"type\":\"BasicTickFormatter\"},{\"attributes\":{\"fill_color\":\"blue\",\"line_color\":\"blue\",\"size\":10},\"id\":\"1790\",\"type\":\"NormalHead\"},{\"attributes\":{},\"id\":\"1845\",\"type\":\"Selection\"},{\"attributes\":{\"formatter\":{\"id\":\"1843\"},\"ticker\":{\"id\":\"1766\"}},\"id\":\"1765\",\"type\":\"LinearAxis\"},{\"attributes\":{},\"id\":\"1846\",\"type\":\"UnionRenderers\"},{\"attributes\":{\"end\":3.5,\"start\":-3.5},\"id\":\"1757\",\"type\":\"Range1d\"},{\"attributes\":{\"line_alpha\":0.1,\"line_width\":1.5,\"x\":{\"field\":\"x\"},\"y\":{\"field\":\"y\"}},\"id\":\"1782\",\"type\":\"Line\"},{\"attributes\":{},\"id\":\"1847\",\"type\":\"Selection\"},{\"attributes\":{\"data\":{\"x\":[0.0,0.0],\"y\":[-5.0,5.0]},\"selected\":{\"id\":\"1847\"},\"selection_policy\":{\"id\":\"1848\"}},\"id\":\"1785\",\"type\":\"ColumnDataSource\"},{\"attributes\":{},\"id\":\"1761\",\"type\":\"LinearScale\"},{\"attributes\":{},\"id\":\"1770\",\"type\":\"BasicTicker\"},{\"attributes\":{},\"id\":\"1848\",\"type\":\"UnionRenderers\"},{\"attributes\":{\"line_width\":1.5,\"x\":{\"field\":\"x\"},\"y\":{\"field\":\"y\"}},\"id\":\"1786\",\"type\":\"Line\"},{\"attributes\":{\"axis\":{\"id\":\"1765\"},\"ticker\":null},\"id\":\"1768\",\"type\":\"Grid\"},{\"attributes\":{\"source\":{\"id\":\"1785\"}},\"id\":\"1789\",\"type\":\"CDSView\"},{\"attributes\":{\"end\":3.5,\"start\":-3.5},\"id\":\"1759\",\"type\":\"Range1d\"},{\"attributes\":{\"line_alpha\":0.1,\"line_width\":1.5,\"x\":{\"field\":\"x\"},\"y\":{\"field\":\"y\"}},\"id\":\"1787\",\"type\":\"Line\"},{\"attributes\":{\"data_source\":{\"id\":\"1785\"},\"glyph\":{\"id\":\"1786\"},\"hover_glyph\":null,\"muted_glyph\":null,\"nonselection_glyph\":{\"id\":\"1787\"},\"selection_glyph\":null,\"view\":{\"id\":\"1789\"}},\"id\":\"1788\",\"type\":\"GlyphRenderer\"},{\"attributes\":{\"data\":{\"x\":[-5.0,5.0],\"y\":[0.0,0.0]},\"selected\":{\"id\":\"1845\"},\"selection_policy\":{\"id\":\"1846\"}},\"id\":\"1780\",\"type\":\"ColumnDataSource\"},{\"attributes\":{\"fill_color\":\"red\",\"line_color\":\"red\",\"size\":10},\"id\":\"1793\",\"type\":\"NormalHead\"},{\"attributes\":{},\"id\":\"1766\",\"type\":\"BasicTicker\"},{\"attributes\":{\"active_drag\":\"auto\",\"active_inspect\":\"auto\",\"active_multi\":null,\"active_scroll\":\"auto\",\"active_tap\":\"auto\",\"tools\":[{\"id\":\"1773\"},{\"id\":\"1774\"},{\"id\":\"1775\"}]},\"id\":\"1776\",\"type\":\"Toolbar\"},{\"attributes\":{\"end\":{\"id\":\"1790\"},\"line_color\":{\"value\":\"blue\"},\"line_width\":{\"value\":3},\"source\":null,\"start\":null,\"x_end\":{\"value\":2},\"x_start\":{\"value\":0.0},\"y_end\":{\"value\":1},\"y_start\":{\"value\":0.0}},\"id\":\"1791\",\"type\":\"Arrow\"}],\"root_ids\":[\"1756\"]},\"title\":\"Bokeh Application\",\"version\":\"2.0.1\"}};\n",
       "  var render_items = [{\"docid\":\"33970f27-0c1e-4b26-bef6-02b257a75a9b\",\"root_ids\":[\"1756\"],\"roots\":{\"1756\":\"ebf51ee2-db6d-4514-816a-7ed1f81f2c50\"}}];\n",
       "  root.Bokeh.embed.embed_items_notebook(docs_json, render_items);\n",
       "\n",
       "  }\n",
       "  if (root.Bokeh !== undefined) {\n",
       "    embed_document(root);\n",
       "  } else {\n",
       "    var attempts = 0;\n",
       "    var timer = setInterval(function(root) {\n",
       "      if (root.Bokeh !== undefined) {\n",
       "        clearInterval(timer);\n",
       "        embed_document(root);\n",
       "      } else {\n",
       "        attempts++;\n",
       "        if (attempts > 100) {\n",
       "          clearInterval(timer);\n",
       "          console.log(\"Bokeh: ERROR: Unable to run BokehJS code because BokehJS library is missing\");\n",
       "        }\n",
       "      }\n",
       "    }, 10, root)\n",
       "  }\n",
       "})(window);"
      ],
      "application/vnd.bokehjs_exec.v0+json": ""
     },
     "metadata": {
      "application/vnd.bokehjs_exec.v0+json": {
       "id": "1756"
      }
     },
     "output_type": "display_data"
    }
   ],
   "source": [
    "plot.clear()\n",
    "plot.graph()\n",
    "plot.vector(a)\n",
    "plot.vector(b)\n",
    "plot.vector(c,add_color=\"purple\")\n",
    "plot.show()"
   ]
  },
  {
   "cell_type": "markdown",
   "metadata": {},
   "source": [
    "What is really going on here when we subtract two vectors?"
   ]
  },
  {
   "cell_type": "code",
   "execution_count": 13,
   "metadata": {},
   "outputs": [
    {
     "data": {
      "text/html": [
       "\n",
       "\n",
       "\n",
       "\n",
       "\n",
       "\n",
       "  <div class=\"bk-root\" id=\"ee25eb90-58ce-4fa6-a6ba-cfec797e9fa6\" data-root-id=\"1909\"></div>\n"
      ]
     },
     "metadata": {},
     "output_type": "display_data"
    },
    {
     "data": {
      "application/javascript": [
       "(function(root) {\n",
       "  function embed_document(root) {\n",
       "    \n",
       "  var docs_json = {\"98728709-0233-4e47-82fc-611834210d1a\":{\"roots\":{\"references\":[{\"attributes\":{\"below\":[{\"id\":\"1918\"}],\"center\":[{\"id\":\"1921\"},{\"id\":\"1925\"},{\"id\":\"1944\"},{\"id\":\"1947\"},{\"id\":\"1950\"}],\"left\":[{\"id\":\"1922\"}],\"plot_height\":700,\"plot_width\":700,\"renderers\":[{\"id\":\"1936\"},{\"id\":\"1941\"}],\"title\":{\"id\":\"2002\"},\"toolbar\":{\"id\":\"1929\"},\"x_range\":{\"id\":\"1910\"},\"x_scale\":{\"id\":\"1914\"},\"y_range\":{\"id\":\"1912\"},\"y_scale\":{\"id\":\"1916\"}},\"id\":\"1909\",\"subtype\":\"Figure\",\"type\":\"Plot\"},{\"attributes\":{\"line_width\":1.5,\"x\":{\"field\":\"x\"},\"y\":{\"field\":\"y\"}},\"id\":\"1939\",\"type\":\"Line\"},{\"attributes\":{\"formatter\":{\"id\":\"2006\"},\"ticker\":{\"id\":\"1919\"}},\"id\":\"1918\",\"type\":\"LinearAxis\"},{\"attributes\":{\"source\":{\"id\":\"1938\"}},\"id\":\"1942\",\"type\":\"CDSView\"},{\"attributes\":{\"line_alpha\":0.1,\"line_width\":1.5,\"x\":{\"field\":\"x\"},\"y\":{\"field\":\"y\"}},\"id\":\"1940\",\"type\":\"Line\"},{\"attributes\":{},\"id\":\"1919\",\"type\":\"BasicTicker\"},{\"attributes\":{\"data_source\":{\"id\":\"1938\"},\"glyph\":{\"id\":\"1939\"},\"hover_glyph\":null,\"muted_glyph\":null,\"nonselection_glyph\":{\"id\":\"1940\"},\"selection_glyph\":null,\"view\":{\"id\":\"1942\"}},\"id\":\"1941\",\"type\":\"GlyphRenderer\"},{\"attributes\":{\"data\":{\"x\":[-5.0,5.0],\"y\":[0.0,0.0]},\"selected\":{\"id\":\"2008\"},\"selection_policy\":{\"id\":\"2009\"}},\"id\":\"1933\",\"type\":\"ColumnDataSource\"},{\"attributes\":{\"axis\":{\"id\":\"1918\"},\"ticker\":null},\"id\":\"1921\",\"type\":\"Grid\"},{\"attributes\":{\"fill_color\":\"blue\",\"line_color\":\"blue\",\"size\":10},\"id\":\"1943\",\"type\":\"NormalHead\"},{\"attributes\":{\"formatter\":{\"id\":\"2004\"},\"ticker\":{\"id\":\"1923\"}},\"id\":\"1922\",\"type\":\"LinearAxis\"},{\"attributes\":{},\"id\":\"1916\",\"type\":\"LinearScale\"},{\"attributes\":{},\"id\":\"1923\",\"type\":\"BasicTicker\"},{\"attributes\":{\"end\":{\"id\":\"1943\"},\"line_color\":{\"value\":\"blue\"},\"line_width\":{\"value\":3},\"source\":null,\"start\":null,\"x_end\":{\"value\":2},\"x_start\":{\"value\":0.0},\"y_end\":{\"value\":1},\"y_start\":{\"value\":0.0}},\"id\":\"1944\",\"type\":\"Arrow\"},{\"attributes\":{\"axis\":{\"id\":\"1922\"},\"dimension\":1,\"ticker\":null},\"id\":\"1925\",\"type\":\"Grid\"},{\"attributes\":{\"fill_color\":\"red\",\"line_color\":\"red\",\"size\":10},\"id\":\"1946\",\"type\":\"NormalHead\"},{\"attributes\":{\"end\":{\"id\":\"1946\"},\"line_color\":{\"value\":\"red\"},\"line_width\":{\"value\":3},\"source\":null,\"start\":null,\"x_end\":{\"value\":1},\"x_start\":{\"value\":0.0},\"y_end\":{\"value\":2},\"y_start\":{\"value\":0.0}},\"id\":\"1947\",\"type\":\"Arrow\"},{\"attributes\":{\"data_source\":{\"id\":\"1933\"},\"glyph\":{\"id\":\"1934\"},\"hover_glyph\":null,\"muted_glyph\":null,\"nonselection_glyph\":{\"id\":\"1935\"},\"selection_glyph\":null,\"view\":{\"id\":\"1937\"}},\"id\":\"1936\",\"type\":\"GlyphRenderer\"},{\"attributes\":{\"fill_alpha\":0.3,\"fill_color\":\"purple\",\"line_alpha\":0.3,\"line_color\":\"purple\",\"size\":10},\"id\":\"1949\",\"type\":\"NormalHead\"},{\"attributes\":{},\"id\":\"1926\",\"type\":\"WheelZoomTool\"},{\"attributes\":{\"end\":{\"id\":\"1949\"},\"line_alpha\":{\"value\":0.3},\"line_color\":{\"value\":\"purple\"},\"line_width\":{\"value\":3},\"source\":null,\"start\":null,\"x_end\":{\"value\":2},\"x_start\":{\"value\":1},\"y_end\":{\"value\":1},\"y_start\":{\"value\":2}},\"id\":\"1950\",\"type\":\"Arrow\"},{\"attributes\":{},\"id\":\"1927\",\"type\":\"PanTool\"},{\"attributes\":{},\"id\":\"1928\",\"type\":\"ResetTool\"},{\"attributes\":{\"text\":\"\"},\"id\":\"2002\",\"type\":\"Title\"},{\"attributes\":{},\"id\":\"2004\",\"type\":\"BasicTickFormatter\"},{\"attributes\":{},\"id\":\"1914\",\"type\":\"LinearScale\"},{\"attributes\":{},\"id\":\"2006\",\"type\":\"BasicTickFormatter\"},{\"attributes\":{\"active_drag\":\"auto\",\"active_inspect\":\"auto\",\"active_multi\":null,\"active_scroll\":\"auto\",\"active_tap\":\"auto\",\"tools\":[{\"id\":\"1926\"},{\"id\":\"1927\"},{\"id\":\"1928\"}]},\"id\":\"1929\",\"type\":\"Toolbar\"},{\"attributes\":{\"line_width\":1.5,\"x\":{\"field\":\"x\"},\"y\":{\"field\":\"y\"}},\"id\":\"1934\",\"type\":\"Line\"},{\"attributes\":{\"end\":3.5,\"start\":-3.5},\"id\":\"1910\",\"type\":\"Range1d\"},{\"attributes\":{},\"id\":\"2008\",\"type\":\"Selection\"},{\"attributes\":{},\"id\":\"2009\",\"type\":\"UnionRenderers\"},{\"attributes\":{\"end\":3.5,\"start\":-3.5},\"id\":\"1912\",\"type\":\"Range1d\"},{\"attributes\":{\"source\":{\"id\":\"1933\"}},\"id\":\"1937\",\"type\":\"CDSView\"},{\"attributes\":{},\"id\":\"2010\",\"type\":\"Selection\"},{\"attributes\":{\"line_alpha\":0.1,\"line_width\":1.5,\"x\":{\"field\":\"x\"},\"y\":{\"field\":\"y\"}},\"id\":\"1935\",\"type\":\"Line\"},{\"attributes\":{\"data\":{\"x\":[0.0,0.0],\"y\":[-5.0,5.0]},\"selected\":{\"id\":\"2010\"},\"selection_policy\":{\"id\":\"2011\"}},\"id\":\"1938\",\"type\":\"ColumnDataSource\"},{\"attributes\":{},\"id\":\"2011\",\"type\":\"UnionRenderers\"}],\"root_ids\":[\"1909\"]},\"title\":\"Bokeh Application\",\"version\":\"2.0.1\"}};\n",
       "  var render_items = [{\"docid\":\"98728709-0233-4e47-82fc-611834210d1a\",\"root_ids\":[\"1909\"],\"roots\":{\"1909\":\"ee25eb90-58ce-4fa6-a6ba-cfec797e9fa6\"}}];\n",
       "  root.Bokeh.embed.embed_items_notebook(docs_json, render_items);\n",
       "\n",
       "  }\n",
       "  if (root.Bokeh !== undefined) {\n",
       "    embed_document(root);\n",
       "  } else {\n",
       "    var attempts = 0;\n",
       "    var timer = setInterval(function(root) {\n",
       "      if (root.Bokeh !== undefined) {\n",
       "        clearInterval(timer);\n",
       "        embed_document(root);\n",
       "      } else {\n",
       "        attempts++;\n",
       "        if (attempts > 100) {\n",
       "          clearInterval(timer);\n",
       "          console.log(\"Bokeh: ERROR: Unable to run BokehJS code because BokehJS library is missing\");\n",
       "        }\n",
       "      }\n",
       "    }, 10, root)\n",
       "  }\n",
       "})(window);"
      ],
      "application/vnd.bokehjs_exec.v0+json": ""
     },
     "metadata": {
      "application/vnd.bokehjs_exec.v0+json": {
       "id": "1909"
      }
     },
     "output_type": "display_data"
    }
   ],
   "source": [
    "plot.clear()\n",
    "plot.graph()\n",
    "plot.subtract_vectors(a,b)\n",
    "plot.show()"
   ]
  },
  {
   "cell_type": "markdown",
   "metadata": {},
   "source": [
    "# Linear Combinations"
   ]
  },
  {
   "cell_type": "code",
   "execution_count": 14,
   "metadata": {},
   "outputs": [
    {
     "data": {
      "text/plain": [
       "array([ 1, -4])"
      ]
     },
     "execution_count": 14,
     "metadata": {},
     "output_type": "execute_result"
    }
   ],
   "source": [
    "# Two Vectors\n",
    "a = np.array([2,1])\n",
    "b = np.array([1,2])\n",
    "\n",
    "# Scaled by some arbitrary constants\n",
    "c1 = 2\n",
    "c2 = -3\n",
    "\n",
    "# generate a new vector \n",
    "v = c1*a + c2*b\n",
    "v"
   ]
  },
  {
   "cell_type": "markdown",
   "metadata": {},
   "source": [
    "Given that $\\vec{a}$ and $\\vec{b}$ are linearly independent. We can use some combination of the two to describe every point in $\\Re^2$"
   ]
  },
  {
   "cell_type": "code",
   "execution_count": 15,
   "metadata": {},
   "outputs": [
    {
     "data": {
      "text/html": [
       "\n",
       "\n",
       "\n",
       "\n",
       "\n",
       "\n",
       "  <div class=\"bk-root\" id=\"0b5adb90-849a-45f0-a661-0a264b48748d\" data-root-id=\"2072\"></div>\n"
      ]
     },
     "metadata": {},
     "output_type": "display_data"
    },
    {
     "data": {
      "application/javascript": [
       "(function(root) {\n",
       "  function embed_document(root) {\n",
       "    \n",
       "  var docs_json = {\"2d1539e3-8832-4c3f-a3af-6078c864b0d4\":{\"roots\":{\"references\":[{\"attributes\":{\"below\":[{\"id\":\"2081\"}],\"center\":[{\"id\":\"2084\"},{\"id\":\"2088\"},{\"id\":\"2107\"},{\"id\":\"2110\"},{\"id\":\"2113\"},{\"id\":\"2116\"},{\"id\":\"2119\"}],\"left\":[{\"id\":\"2085\"}],\"plot_height\":700,\"plot_width\":700,\"renderers\":[{\"id\":\"2099\"},{\"id\":\"2104\"}],\"title\":{\"id\":\"2181\"},\"toolbar\":{\"id\":\"2092\"},\"x_range\":{\"id\":\"2073\"},\"x_scale\":{\"id\":\"2077\"},\"y_range\":{\"id\":\"2075\"},\"y_scale\":{\"id\":\"2079\"}},\"id\":\"2072\",\"subtype\":\"Figure\",\"type\":\"Plot\"},{\"attributes\":{\"source\":{\"id\":\"2096\"}},\"id\":\"2100\",\"type\":\"CDSView\"},{\"attributes\":{\"text\":\"\"},\"id\":\"2181\",\"type\":\"Title\"},{\"attributes\":{},\"id\":\"2079\",\"type\":\"LinearScale\"},{\"attributes\":{\"line_alpha\":0.1,\"line_width\":1.5,\"x\":{\"field\":\"x\"},\"y\":{\"field\":\"y\"}},\"id\":\"2098\",\"type\":\"Line\"},{\"attributes\":{\"data_source\":{\"id\":\"2096\"},\"glyph\":{\"id\":\"2097\"},\"hover_glyph\":null,\"muted_glyph\":null,\"nonselection_glyph\":{\"id\":\"2098\"},\"selection_glyph\":null,\"view\":{\"id\":\"2100\"}},\"id\":\"2099\",\"type\":\"GlyphRenderer\"},{\"attributes\":{\"formatter\":{\"id\":\"2185\"},\"ticker\":{\"id\":\"2082\"}},\"id\":\"2081\",\"type\":\"LinearAxis\"},{\"attributes\":{},\"id\":\"2077\",\"type\":\"LinearScale\"},{\"attributes\":{},\"id\":\"2183\",\"type\":\"BasicTickFormatter\"},{\"attributes\":{\"end\":14.0,\"start\":-14.0},\"id\":\"2073\",\"type\":\"Range1d\"},{\"attributes\":{},\"id\":\"2082\",\"type\":\"BasicTicker\"},{\"attributes\":{},\"id\":\"2185\",\"type\":\"BasicTickFormatter\"},{\"attributes\":{\"data\":{\"x\":[0.0,0.0],\"y\":[-20.0,20.0]},\"selected\":{\"id\":\"2189\"},\"selection_policy\":{\"id\":\"2190\"}},\"id\":\"2101\",\"type\":\"ColumnDataSource\"},{\"attributes\":{\"axis\":{\"id\":\"2081\"},\"ticker\":null},\"id\":\"2084\",\"type\":\"Grid\"},{\"attributes\":{},\"id\":\"2187\",\"type\":\"Selection\"},{\"attributes\":{\"line_width\":1.5,\"x\":{\"field\":\"x\"},\"y\":{\"field\":\"y\"}},\"id\":\"2102\",\"type\":\"Line\"},{\"attributes\":{\"formatter\":{\"id\":\"2183\"},\"ticker\":{\"id\":\"2086\"}},\"id\":\"2085\",\"type\":\"LinearAxis\"},{\"attributes\":{},\"id\":\"2188\",\"type\":\"UnionRenderers\"},{\"attributes\":{\"source\":{\"id\":\"2101\"}},\"id\":\"2105\",\"type\":\"CDSView\"},{\"attributes\":{},\"id\":\"2086\",\"type\":\"BasicTicker\"},{\"attributes\":{\"line_alpha\":0.1,\"line_width\":1.5,\"x\":{\"field\":\"x\"},\"y\":{\"field\":\"y\"}},\"id\":\"2103\",\"type\":\"Line\"},{\"attributes\":{},\"id\":\"2189\",\"type\":\"Selection\"},{\"attributes\":{\"data_source\":{\"id\":\"2101\"},\"glyph\":{\"id\":\"2102\"},\"hover_glyph\":null,\"muted_glyph\":null,\"nonselection_glyph\":{\"id\":\"2103\"},\"selection_glyph\":null,\"view\":{\"id\":\"2105\"}},\"id\":\"2104\",\"type\":\"GlyphRenderer\"},{\"attributes\":{\"axis\":{\"id\":\"2085\"},\"dimension\":1,\"ticker\":null},\"id\":\"2088\",\"type\":\"Grid\"},{\"attributes\":{},\"id\":\"2190\",\"type\":\"UnionRenderers\"},{\"attributes\":{\"end\":14.0,\"start\":-14.0},\"id\":\"2075\",\"type\":\"Range1d\"},{\"attributes\":{\"fill_color\":\"red\",\"line_color\":\"red\",\"size\":10},\"id\":\"2109\",\"type\":\"NormalHead\"},{\"attributes\":{},\"id\":\"2089\",\"type\":\"WheelZoomTool\"},{\"attributes\":{\"end\":{\"id\":\"2106\"},\"line_color\":{\"value\":\"blue\"},\"line_width\":{\"value\":3},\"source\":null,\"start\":null,\"x_end\":{\"value\":2},\"x_start\":{\"value\":0.0},\"y_end\":{\"value\":1},\"y_start\":{\"value\":0.0}},\"id\":\"2107\",\"type\":\"Arrow\"},{\"attributes\":{},\"id\":\"2090\",\"type\":\"PanTool\"},{\"attributes\":{\"fill_color\":\"green\",\"line_color\":\"green\",\"size\":10},\"id\":\"2112\",\"type\":\"NormalHead\"},{\"attributes\":{},\"id\":\"2091\",\"type\":\"ResetTool\"},{\"attributes\":{\"end\":{\"id\":\"2109\"},\"line_color\":{\"value\":\"red\"},\"line_width\":{\"value\":3},\"source\":null,\"start\":null,\"x_end\":{\"value\":1},\"x_start\":{\"value\":0.0},\"y_end\":{\"value\":2},\"y_start\":{\"value\":0.0}},\"id\":\"2110\",\"type\":\"Arrow\"},{\"attributes\":{\"fill_color\":\"orange\",\"line_color\":\"orange\",\"size\":10},\"id\":\"2115\",\"type\":\"NormalHead\"},{\"attributes\":{\"active_drag\":\"auto\",\"active_inspect\":\"auto\",\"active_multi\":null,\"active_scroll\":\"auto\",\"active_tap\":\"auto\",\"tools\":[{\"id\":\"2089\"},{\"id\":\"2090\"},{\"id\":\"2091\"}]},\"id\":\"2092\",\"type\":\"Toolbar\"},{\"attributes\":{\"end\":{\"id\":\"2112\"},\"line_color\":{\"value\":\"green\"},\"line_width\":{\"value\":3},\"source\":null,\"start\":null,\"x_end\":{\"value\":-10},\"x_start\":{\"value\":0.0},\"y_end\":{\"value\":-8},\"y_start\":{\"value\":0.0}},\"id\":\"2113\",\"type\":\"Arrow\"},{\"attributes\":{\"fill_color\":\"purple\",\"line_color\":\"purple\",\"size\":10},\"id\":\"2118\",\"type\":\"NormalHead\"},{\"attributes\":{\"data\":{\"x\":[-20.0,20.0],\"y\":[0.0,0.0]},\"selected\":{\"id\":\"2187\"},\"selection_policy\":{\"id\":\"2188\"}},\"id\":\"2096\",\"type\":\"ColumnDataSource\"},{\"attributes\":{\"end\":{\"id\":\"2115\"},\"line_color\":{\"value\":\"orange\"},\"line_width\":{\"value\":3},\"source\":null,\"start\":null,\"x_end\":{\"value\":5.6},\"x_start\":{\"value\":0.0},\"y_end\":{\"value\":10.3},\"y_start\":{\"value\":0.0}},\"id\":\"2116\",\"type\":\"Arrow\"},{\"attributes\":{\"fill_color\":\"blue\",\"line_color\":\"blue\",\"size\":10},\"id\":\"2106\",\"type\":\"NormalHead\"},{\"attributes\":{\"line_width\":1.5,\"x\":{\"field\":\"x\"},\"y\":{\"field\":\"y\"}},\"id\":\"2097\",\"type\":\"Line\"},{\"attributes\":{\"end\":{\"id\":\"2118\"},\"line_color\":{\"value\":\"purple\"},\"line_width\":{\"value\":3},\"source\":null,\"start\":null,\"x_end\":{\"value\":-4.2},\"x_start\":{\"value\":0.0},\"y_end\":{\"value\":-5.4},\"y_start\":{\"value\":0.0}},\"id\":\"2119\",\"type\":\"Arrow\"}],\"root_ids\":[\"2072\"]},\"title\":\"Bokeh Application\",\"version\":\"2.0.1\"}};\n",
       "  var render_items = [{\"docid\":\"2d1539e3-8832-4c3f-a3af-6078c864b0d4\",\"root_ids\":[\"2072\"],\"roots\":{\"2072\":\"0b5adb90-849a-45f0-a661-0a264b48748d\"}}];\n",
       "  root.Bokeh.embed.embed_items_notebook(docs_json, render_items);\n",
       "\n",
       "  }\n",
       "  if (root.Bokeh !== undefined) {\n",
       "    embed_document(root);\n",
       "  } else {\n",
       "    var attempts = 0;\n",
       "    var timer = setInterval(function(root) {\n",
       "      if (root.Bokeh !== undefined) {\n",
       "        clearInterval(timer);\n",
       "        embed_document(root);\n",
       "      } else {\n",
       "        attempts++;\n",
       "        if (attempts > 100) {\n",
       "          clearInterval(timer);\n",
       "          console.log(\"Bokeh: ERROR: Unable to run BokehJS code because BokehJS library is missing\");\n",
       "        }\n",
       "      }\n",
       "    }, 10, root)\n",
       "  }\n",
       "})(window);"
      ],
      "application/vnd.bokehjs_exec.v0+json": ""
     },
     "metadata": {
      "application/vnd.bokehjs_exec.v0+json": {
       "id": "2072"
      }
     },
     "output_type": "display_data"
    }
   ],
   "source": [
    "plot.clear()\n",
    "plot.graph(20)\n",
    "plot.vector(a)\n",
    "plot.vector(b)\n",
    "plot.vector(-4*a + -2*b)\n",
    "plot.vector(.3*a + 5*b)\n",
    "plot.vector(-1*a + -2.2*b)\n",
    "plot.show()"
   ]
  },
  {
   "cell_type": "markdown",
   "metadata": {},
   "source": [
    "Let's randomly generate a whole bunch of arbitrary constants for $\\vec{a}$ and $\\vec{b}$."
   ]
  },
  {
   "cell_type": "code",
   "execution_count": 16,
   "metadata": {},
   "outputs": [
    {
     "data": {
      "text/plain": [
       "array([-0.76087297])"
      ]
     },
     "execution_count": 16,
     "metadata": {},
     "output_type": "execute_result"
    }
   ],
   "source": [
    "# We can draw random values from known distributions using Numpy\n",
    "\n",
    "# Here I'm drawing one value from a uniform distribution.\n",
    "np.random.uniform(low=-5,high=5,size=1)"
   ]
  },
  {
   "cell_type": "code",
   "execution_count": 17,
   "metadata": {},
   "outputs": [],
   "source": [
    "# Let's draw two random constants 50 times\n",
    "for i in range(50):\n",
    "    c1,c2 = np.random.uniform(low=-5,high=5,size=2)\n",
    "    plot.vector(c1*a + c2*b,add_color='black',alpha=.2)"
   ]
  },
  {
   "cell_type": "code",
   "execution_count": 18,
   "metadata": {},
   "outputs": [
    {
     "data": {
      "text/html": [
       "\n",
       "\n",
       "\n",
       "\n",
       "\n",
       "\n",
       "  <div class=\"bk-root\" id=\"94c2f953-debe-4583-8107-0a2fab965512\" data-root-id=\"2072\"></div>\n"
      ]
     },
     "metadata": {},
     "output_type": "display_data"
    },
    {
     "data": {
      "application/javascript": [
       "(function(root) {\n",
       "  function embed_document(root) {\n",
       "    \n",
       "  var docs_json = {\"0be2159c-01aa-4ebd-998d-765f3d397117\":{\"roots\":{\"references\":[{\"attributes\":{\"below\":[{\"id\":\"2081\"}],\"center\":[{\"id\":\"2084\"},{\"id\":\"2088\"},{\"id\":\"2107\"},{\"id\":\"2110\"},{\"id\":\"2113\"},{\"id\":\"2116\"},{\"id\":\"2119\"},{\"id\":\"2252\"},{\"id\":\"2325\"},{\"id\":\"2398\"},{\"id\":\"2471\"},{\"id\":\"2544\"},{\"id\":\"2617\"},{\"id\":\"2690\"},{\"id\":\"2763\"},{\"id\":\"2836\"},{\"id\":\"2909\"},{\"id\":\"2982\"},{\"id\":\"3055\"},{\"id\":\"3128\"},{\"id\":\"3201\"},{\"id\":\"3274\"},{\"id\":\"3347\"},{\"id\":\"3420\"},{\"id\":\"3493\"},{\"id\":\"3566\"},{\"id\":\"3639\"},{\"id\":\"3712\"},{\"id\":\"3785\"},{\"id\":\"3858\"},{\"id\":\"3931\"},{\"id\":\"4004\"},{\"id\":\"4077\"},{\"id\":\"4150\"},{\"id\":\"4223\"},{\"id\":\"4296\"},{\"id\":\"4369\"},{\"id\":\"4442\"},{\"id\":\"4515\"},{\"id\":\"4588\"},{\"id\":\"4661\"},{\"id\":\"4734\"},{\"id\":\"4807\"},{\"id\":\"4880\"},{\"id\":\"4953\"},{\"id\":\"5026\"},{\"id\":\"5099\"},{\"id\":\"5172\"},{\"id\":\"5245\"},{\"id\":\"5318\"},{\"id\":\"5391\"},{\"id\":\"5464\"},{\"id\":\"5537\"},{\"id\":\"5610\"},{\"id\":\"5683\"},{\"id\":\"5756\"},{\"id\":\"5829\"}],\"left\":[{\"id\":\"2085\"}],\"plot_height\":700,\"plot_width\":700,\"renderers\":[{\"id\":\"2099\"},{\"id\":\"2104\"}],\"title\":{\"id\":\"2181\"},\"toolbar\":{\"id\":\"2092\"},\"x_range\":{\"id\":\"2073\"},\"x_scale\":{\"id\":\"2077\"},\"y_range\":{\"id\":\"2075\"},\"y_scale\":{\"id\":\"2079\"}},\"id\":\"2072\",\"subtype\":\"Figure\",\"type\":\"Plot\"},{\"attributes\":{\"end\":{\"id\":\"3273\"},\"line_alpha\":{\"value\":0.2},\"line_width\":{\"value\":3},\"source\":null,\"start\":null,\"x_end\":{\"value\":3.9731004360376225},\"x_start\":{\"value\":0.0},\"y_end\":{\"value\":8.935052312600309},\"y_start\":{\"value\":0.0}},\"id\":\"3274\",\"type\":\"Arrow\"},{\"attributes\":{\"text\":\"\"},\"id\":\"2181\",\"type\":\"Title\"},{\"attributes\":{\"fill_alpha\":0.2,\"line_alpha\":0.2,\"size\":10},\"id\":\"3419\",\"type\":\"NormalHead\"},{\"attributes\":{\"end\":{\"id\":\"3346\"},\"line_alpha\":{\"value\":0.2},\"line_width\":{\"value\":3},\"source\":null,\"start\":null,\"x_end\":{\"value\":7.781871051674871},\"x_start\":{\"value\":0.0},\"y_end\":{\"value\":6.108329347647782},\"y_start\":{\"value\":0.0}},\"id\":\"3347\",\"type\":\"Arrow\"},{\"attributes\":{\"end\":{\"id\":\"3419\"},\"line_alpha\":{\"value\":0.2},\"line_width\":{\"value\":3},\"source\":null,\"start\":null,\"x_end\":{\"value\":4.453873052944525},\"x_start\":{\"value\":0.0},\"y_end\":{\"value\":7.733328331557639},\"y_start\":{\"value\":0.0}},\"id\":\"3420\",\"type\":\"Arrow\"},{\"attributes\":{\"end\":{\"id\":\"3492\"},\"line_alpha\":{\"value\":0.2},\"line_width\":{\"value\":3},\"source\":null,\"start\":null,\"x_end\":{\"value\":6.380947128215838},\"x_start\":{\"value\":0.0},\"y_end\":{\"value\":3.4104195892467075},\"y_start\":{\"value\":0.0}},\"id\":\"3493\",\"type\":\"Arrow\"},{\"attributes\":{\"fill_alpha\":0.2,\"line_alpha\":0.2,\"size\":10},\"id\":\"3638\",\"type\":\"NormalHead\"},{\"attributes\":{\"end\":{\"id\":\"2118\"},\"line_color\":{\"value\":\"purple\"},\"line_width\":{\"value\":3},\"source\":null,\"start\":null,\"x_end\":{\"value\":-4.2},\"x_start\":{\"value\":0.0},\"y_end\":{\"value\":-5.4},\"y_start\":{\"value\":0.0}},\"id\":\"2119\",\"type\":\"Arrow\"},{\"attributes\":{\"end\":{\"id\":\"3565\"},\"line_alpha\":{\"value\":0.2},\"line_width\":{\"value\":3},\"source\":null,\"start\":null,\"x_end\":{\"value\":-4.470700812503781},\"x_start\":{\"value\":0.0},\"y_end\":{\"value\":-2.0080121728610134},\"y_start\":{\"value\":0.0}},\"id\":\"3566\",\"type\":\"Arrow\"},{\"attributes\":{\"fill_alpha\":0.2,\"line_alpha\":0.2,\"size\":10},\"id\":\"3711\",\"type\":\"NormalHead\"},{\"attributes\":{\"end\":{\"id\":\"3638\"},\"line_alpha\":{\"value\":0.2},\"line_width\":{\"value\":3},\"source\":null,\"start\":null,\"x_end\":{\"value\":-4.185739259705917},\"x_start\":{\"value\":0.0},\"y_end\":{\"value\":-0.645804507706468},\"y_start\":{\"value\":0.0}},\"id\":\"3639\",\"type\":\"Arrow\"},{\"attributes\":{\"fill_alpha\":0.2,\"line_alpha\":0.2,\"size\":10},\"id\":\"3784\",\"type\":\"NormalHead\"},{\"attributes\":{\"end\":{\"id\":\"3711\"},\"line_alpha\":{\"value\":0.2},\"line_width\":{\"value\":3},\"source\":null,\"start\":null,\"x_end\":{\"value\":6.70059396709007},\"x_start\":{\"value\":0.0},\"y_end\":{\"value\":2.4140775152074134},\"y_start\":{\"value\":0.0}},\"id\":\"3712\",\"type\":\"Arrow\"},{\"attributes\":{\"fill_alpha\":0.2,\"line_alpha\":0.2,\"size\":10},\"id\":\"3857\",\"type\":\"NormalHead\"},{\"attributes\":{\"end\":{\"id\":\"3784\"},\"line_alpha\":{\"value\":0.2},\"line_width\":{\"value\":3},\"source\":null,\"start\":null,\"x_end\":{\"value\":-7.455967311215007},\"x_start\":{\"value\":0.0},\"y_end\":{\"value\":-4.4167550230217225},\"y_start\":{\"value\":0.0}},\"id\":\"3785\",\"type\":\"Arrow\"},{\"attributes\":{\"fill_alpha\":0.2,\"line_alpha\":0.2,\"size\":10},\"id\":\"2251\",\"type\":\"NormalHead\"},{\"attributes\":{\"fill_alpha\":0.2,\"line_alpha\":0.2,\"size\":10},\"id\":\"3930\",\"type\":\"NormalHead\"},{\"attributes\":{\"end\":{\"id\":\"3857\"},\"line_alpha\":{\"value\":0.2},\"line_width\":{\"value\":3},\"source\":null,\"start\":null,\"x_end\":{\"value\":-7.232074151074647},\"x_start\":{\"value\":0.0},\"y_end\":{\"value\":-4.2746110375529955},\"y_start\":{\"value\":0.0}},\"id\":\"3858\",\"type\":\"Arrow\"},{\"attributes\":{\"fill_alpha\":0.2,\"line_alpha\":0.2,\"size\":10},\"id\":\"4003\",\"type\":\"NormalHead\"},{\"attributes\":{\"end\":{\"id\":\"3930\"},\"line_alpha\":{\"value\":0.2},\"line_width\":{\"value\":3},\"source\":null,\"start\":null,\"x_end\":{\"value\":-9.245121860370737},\"x_start\":{\"value\":0.0},\"y_end\":{\"value\":-4.888198550697702},\"y_start\":{\"value\":0.0}},\"id\":\"3931\",\"type\":\"Arrow\"},{\"attributes\":{\"fill_alpha\":0.2,\"line_alpha\":0.2,\"size\":10},\"id\":\"4076\",\"type\":\"NormalHead\"},{\"attributes\":{\"end\":{\"id\":\"4003\"},\"line_alpha\":{\"value\":0.2},\"line_width\":{\"value\":3},\"source\":null,\"start\":null,\"x_end\":{\"value\":8.57151430325376},\"x_start\":{\"value\":0.0},\"y_end\":{\"value\":5.542982288460372},\"y_start\":{\"value\":0.0}},\"id\":\"4004\",\"type\":\"Arrow\"},{\"attributes\":{\"fill_alpha\":0.2,\"line_alpha\":0.2,\"size\":10},\"id\":\"4149\",\"type\":\"NormalHead\"},{\"attributes\":{\"end\":{\"id\":\"4076\"},\"line_alpha\":{\"value\":0.2},\"line_width\":{\"value\":3},\"source\":null,\"start\":null,\"x_end\":{\"value\":-5.038072140433146},\"x_start\":{\"value\":0.0},\"y_end\":{\"value\":-6.048789044082752},\"y_start\":{\"value\":0.0}},\"id\":\"4077\",\"type\":\"Arrow\"},{\"attributes\":{\"fill_alpha\":0.2,\"line_alpha\":0.2,\"size\":10},\"id\":\"4222\",\"type\":\"NormalHead\"},{\"attributes\":{\"end\":{\"id\":\"4149\"},\"line_alpha\":{\"value\":0.2},\"line_width\":{\"value\":3},\"source\":null,\"start\":null,\"x_end\":{\"value\":4.414949065389468},\"x_start\":{\"value\":0.0},\"y_end\":{\"value\":6.84656641478747},\"y_start\":{\"value\":0.0}},\"id\":\"4150\",\"type\":\"Arrow\"},{\"attributes\":{\"fill_alpha\":0.2,\"line_alpha\":0.2,\"size\":10},\"id\":\"4295\",\"type\":\"NormalHead\"},{\"attributes\":{\"end\":{\"id\":\"4222\"},\"line_alpha\":{\"value\":0.2},\"line_width\":{\"value\":3},\"source\":null,\"start\":null,\"x_end\":{\"value\":-2.5484223426185224},\"x_start\":{\"value\":0.0},\"y_end\":{\"value\":-1.4669949419923163},\"y_start\":{\"value\":0.0}},\"id\":\"4223\",\"type\":\"Arrow\"},{\"attributes\":{\"fill_alpha\":0.2,\"line_alpha\":0.2,\"size\":10},\"id\":\"4368\",\"type\":\"NormalHead\"},{\"attributes\":{\"end\":{\"id\":\"4295\"},\"line_alpha\":{\"value\":0.2},\"line_width\":{\"value\":3},\"source\":null,\"start\":null,\"x_end\":{\"value\":-7.670288972374658},\"x_start\":{\"value\":0.0},\"y_end\":{\"value\":-10.654335670183658},\"y_start\":{\"value\":0.0}},\"id\":\"4296\",\"type\":\"Arrow\"},{\"attributes\":{\"fill_alpha\":0.2,\"line_alpha\":0.2,\"size\":10},\"id\":\"4441\",\"type\":\"NormalHead\"},{\"attributes\":{\"end\":{\"id\":\"4368\"},\"line_alpha\":{\"value\":0.2},\"line_width\":{\"value\":3},\"source\":null,\"start\":null,\"x_end\":{\"value\":-10.59564059213229},\"x_start\":{\"value\":0.0},\"y_end\":{\"value\":-9.230586172790733},\"y_start\":{\"value\":0.0}},\"id\":\"4369\",\"type\":\"Arrow\"},{\"attributes\":{\"fill_alpha\":0.2,\"line_alpha\":0.2,\"size\":10},\"id\":\"4514\",\"type\":\"NormalHead\"},{\"attributes\":{\"end\":{\"id\":\"4441\"},\"line_alpha\":{\"value\":0.2},\"line_width\":{\"value\":3},\"source\":null,\"start\":null,\"x_end\":{\"value\":-4.064452419198101},\"x_start\":{\"value\":0.0},\"y_end\":{\"value\":-5.3093628304239},\"y_start\":{\"value\":0.0}},\"id\":\"4442\",\"type\":\"Arrow\"},{\"attributes\":{\"fill_alpha\":0.2,\"line_alpha\":0.2,\"size\":10},\"id\":\"4587\",\"type\":\"NormalHead\"},{\"attributes\":{\"end\":{\"id\":\"4514\"},\"line_alpha\":{\"value\":0.2},\"line_width\":{\"value\":3},\"source\":null,\"start\":null,\"x_end\":{\"value\":-3.7579544021980262},\"x_start\":{\"value\":0.0},\"y_end\":{\"value\":-6.427328073321978},\"y_start\":{\"value\":0.0}},\"id\":\"4515\",\"type\":\"Arrow\"},{\"attributes\":{\"fill_alpha\":0.2,\"line_alpha\":0.2,\"size\":10},\"id\":\"4660\",\"type\":\"NormalHead\"},{\"attributes\":{\"end\":{\"id\":\"4587\"},\"line_alpha\":{\"value\":0.2},\"line_width\":{\"value\":3},\"source\":null,\"start\":null,\"x_end\":{\"value\":2.3803121545128203},\"x_start\":{\"value\":0.0},\"y_end\":{\"value\":-1.2241733861953428},\"y_start\":{\"value\":0.0}},\"id\":\"4588\",\"type\":\"Arrow\"},{\"attributes\":{\"fill_alpha\":0.2,\"line_alpha\":0.2,\"size\":10},\"id\":\"4733\",\"type\":\"NormalHead\"},{\"attributes\":{},\"id\":\"2079\",\"type\":\"LinearScale\"},{\"attributes\":{\"end\":{\"id\":\"4660\"},\"line_alpha\":{\"value\":0.2},\"line_width\":{\"value\":3},\"source\":null,\"start\":null,\"x_end\":{\"value\":-9.873383160459593},\"x_start\":{\"value\":0.0},\"y_end\":{\"value\":-9.79016446595182},\"y_start\":{\"value\":0.0}},\"id\":\"4661\",\"type\":\"Arrow\"},{\"attributes\":{\"formatter\":{\"id\":\"2185\"},\"ticker\":{\"id\":\"2082\"}},\"id\":\"2081\",\"type\":\"LinearAxis\"},{\"attributes\":{},\"id\":\"2183\",\"type\":\"BasicTickFormatter\"},{\"attributes\":{\"fill_alpha\":0.2,\"line_alpha\":0.2,\"size\":10},\"id\":\"4806\",\"type\":\"NormalHead\"},{\"attributes\":{},\"id\":\"2082\",\"type\":\"BasicTicker\"},{\"attributes\":{\"end\":{\"id\":\"4733\"},\"line_alpha\":{\"value\":0.2},\"line_width\":{\"value\":3},\"source\":null,\"start\":null,\"x_end\":{\"value\":-1.3484869700110327},\"x_start\":{\"value\":0.0},\"y_end\":{\"value\":-4.5379582048633464},\"y_start\":{\"value\":0.0}},\"id\":\"4734\",\"type\":\"Arrow\"},{\"attributes\":{},\"id\":\"2185\",\"type\":\"BasicTickFormatter\"},{\"attributes\":{\"axis\":{\"id\":\"2081\"},\"ticker\":null},\"id\":\"2084\",\"type\":\"Grid\"},{\"attributes\":{\"fill_alpha\":0.2,\"line_alpha\":0.2,\"size\":10},\"id\":\"4879\",\"type\":\"NormalHead\"},{\"attributes\":{},\"id\":\"2187\",\"type\":\"Selection\"},{\"attributes\":{\"formatter\":{\"id\":\"2183\"},\"ticker\":{\"id\":\"2086\"}},\"id\":\"2085\",\"type\":\"LinearAxis\"},{\"attributes\":{\"end\":{\"id\":\"4806\"},\"line_alpha\":{\"value\":0.2},\"line_width\":{\"value\":3},\"source\":null,\"start\":null,\"x_end\":{\"value\":-10.33186997729906},\"x_start\":{\"value\":0.0},\"y_end\":{\"value\":-11.384911720052285},\"y_start\":{\"value\":0.0}},\"id\":\"4807\",\"type\":\"Arrow\"},{\"attributes\":{},\"id\":\"2188\",\"type\":\"UnionRenderers\"},{\"attributes\":{},\"id\":\"2086\",\"type\":\"BasicTicker\"},{\"attributes\":{\"fill_alpha\":0.2,\"line_alpha\":0.2,\"size\":10},\"id\":\"4952\",\"type\":\"NormalHead\"},{\"attributes\":{},\"id\":\"2189\",\"type\":\"Selection\"},{\"attributes\":{\"axis\":{\"id\":\"2085\"},\"dimension\":1,\"ticker\":null},\"id\":\"2088\",\"type\":\"Grid\"},{\"attributes\":{\"end\":{\"id\":\"4879\"},\"line_alpha\":{\"value\":0.2},\"line_width\":{\"value\":3},\"source\":null,\"start\":null,\"x_end\":{\"value\":0.23644396513176424},\"x_start\":{\"value\":0.0},\"y_end\":{\"value\":-2.8160920796464097},\"y_start\":{\"value\":0.0}},\"id\":\"4880\",\"type\":\"Arrow\"},{\"attributes\":{},\"id\":\"2190\",\"type\":\"UnionRenderers\"},{\"attributes\":{\"end\":{\"id\":\"3127\"},\"line_alpha\":{\"value\":0.2},\"line_width\":{\"value\":3},\"source\":null,\"start\":null,\"x_end\":{\"value\":-2.601383374215936},\"x_start\":{\"value\":0.0},\"y_end\":{\"value\":-2.2391506578454416},\"y_start\":{\"value\":0.0}},\"id\":\"3128\",\"type\":\"Arrow\"},{\"attributes\":{\"fill_alpha\":0.2,\"line_alpha\":0.2,\"size\":10},\"id\":\"5025\",\"type\":\"NormalHead\"},{\"attributes\":{\"end\":{\"id\":\"2689\"},\"line_alpha\":{\"value\":0.2},\"line_width\":{\"value\":3},\"source\":null,\"start\":null,\"x_end\":{\"value\":4.599799869843327},\"x_start\":{\"value\":0.0},\"y_end\":{\"value\":5.322627083852604},\"y_start\":{\"value\":0.0}},\"id\":\"2690\",\"type\":\"Arrow\"},{\"attributes\":{\"fill_alpha\":0.2,\"line_alpha\":0.2,\"size\":10},\"id\":\"3492\",\"type\":\"NormalHead\"},{\"attributes\":{\"end\":{\"id\":\"4952\"},\"line_alpha\":{\"value\":0.2},\"line_width\":{\"value\":3},\"source\":null,\"start\":null,\"x_end\":{\"value\":3.1030266058043283},\"x_start\":{\"value\":0.0},\"y_end\":{\"value\":-0.9392066543763757},\"y_start\":{\"value\":0.0}},\"id\":\"4953\",\"type\":\"Arrow\"},{\"attributes\":{},\"id\":\"2089\",\"type\":\"WheelZoomTool\"},{\"attributes\":{},\"id\":\"2090\",\"type\":\"PanTool\"},{\"attributes\":{\"fill_alpha\":0.2,\"line_alpha\":0.2,\"size\":10},\"id\":\"5098\",\"type\":\"NormalHead\"},{\"attributes\":{\"end\":{\"id\":\"2251\"},\"line_alpha\":{\"value\":0.2},\"line_width\":{\"value\":3},\"source\":null,\"start\":null,\"x_end\":{\"value\":-8.529054572343746},\"x_start\":{\"value\":0.0},\"y_end\":{\"value\":-7.718333671299344},\"y_start\":{\"value\":0.0}},\"id\":\"2252\",\"type\":\"Arrow\"},{\"attributes\":{\"end\":{\"id\":\"5025\"},\"line_alpha\":{\"value\":0.2},\"line_width\":{\"value\":3},\"source\":null,\"start\":null,\"x_end\":{\"value\":-12.972006482317951},\"x_start\":{\"value\":0.0},\"y_end\":{\"value\":-13.707582680914957},\"y_start\":{\"value\":0.0}},\"id\":\"5026\",\"type\":\"Arrow\"},{\"attributes\":{},\"id\":\"2091\",\"type\":\"ResetTool\"},{\"attributes\":{\"fill_alpha\":0.2,\"line_alpha\":0.2,\"size\":10},\"id\":\"2762\",\"type\":\"NormalHead\"},{\"attributes\":{\"fill_alpha\":0.2,\"line_alpha\":0.2,\"size\":10},\"id\":\"3565\",\"type\":\"NormalHead\"},{\"attributes\":{\"fill_alpha\":0.2,\"line_alpha\":0.2,\"size\":10},\"id\":\"5171\",\"type\":\"NormalHead\"},{\"attributes\":{\"active_drag\":\"auto\",\"active_inspect\":\"auto\",\"active_multi\":null,\"active_scroll\":\"auto\",\"active_tap\":\"auto\",\"tools\":[{\"id\":\"2089\"},{\"id\":\"2090\"},{\"id\":\"2091\"}]},\"id\":\"2092\",\"type\":\"Toolbar\"},{\"attributes\":{\"end\":{\"id\":\"2543\"},\"line_alpha\":{\"value\":0.2},\"line_width\":{\"value\":3},\"source\":null,\"start\":null,\"x_end\":{\"value\":-7.385562051647157},\"x_start\":{\"value\":0.0},\"y_end\":{\"value\":-4.1570085749416865},\"y_start\":{\"value\":0.0}},\"id\":\"2544\",\"type\":\"Arrow\"},{\"attributes\":{\"end\":{\"id\":\"5098\"},\"line_alpha\":{\"value\":0.2},\"line_width\":{\"value\":3},\"source\":null,\"start\":null,\"x_end\":{\"value\":1.0590743515902838},\"x_start\":{\"value\":0.0},\"y_end\":{\"value\":5.759513829639873},\"y_start\":{\"value\":0.0}},\"id\":\"5099\",\"type\":\"Arrow\"},{\"attributes\":{\"fill_alpha\":0.2,\"line_alpha\":0.2,\"size\":10},\"id\":\"2689\",\"type\":\"NormalHead\"},{\"attributes\":{\"fill_alpha\":0.2,\"line_alpha\":0.2,\"size\":10},\"id\":\"5244\",\"type\":\"NormalHead\"},{\"attributes\":{\"end\":{\"id\":\"2616\"},\"line_alpha\":{\"value\":0.2},\"line_width\":{\"value\":3},\"source\":null,\"start\":null,\"x_end\":{\"value\":-5.8198986974256774},\"x_start\":{\"value\":0.0},\"y_end\":{\"value\":-9.308508704633237},\"y_start\":{\"value\":0.0}},\"id\":\"2617\",\"type\":\"Arrow\"},{\"attributes\":{\"end\":{\"id\":\"5171\"},\"line_alpha\":{\"value\":0.2},\"line_width\":{\"value\":3},\"source\":null,\"start\":null,\"x_end\":{\"value\":-6.4239384590370365},\"x_start\":{\"value\":0.0},\"y_end\":{\"value\":-2.4480690342107585},\"y_start\":{\"value\":0.0}},\"id\":\"5172\",\"type\":\"Arrow\"},{\"attributes\":{\"data\":{\"x\":[-20.0,20.0],\"y\":[0.0,0.0]},\"selected\":{\"id\":\"2187\"},\"selection_policy\":{\"id\":\"2188\"}},\"id\":\"2096\",\"type\":\"ColumnDataSource\"},{\"attributes\":{\"fill_color\":\"blue\",\"line_color\":\"blue\",\"size\":10},\"id\":\"2106\",\"type\":\"NormalHead\"},{\"attributes\":{\"fill_alpha\":0.2,\"line_alpha\":0.2,\"size\":10},\"id\":\"2616\",\"type\":\"NormalHead\"},{\"attributes\":{\"fill_alpha\":0.2,\"line_alpha\":0.2,\"size\":10},\"id\":\"5317\",\"type\":\"NormalHead\"},{\"attributes\":{\"line_width\":1.5,\"x\":{\"field\":\"x\"},\"y\":{\"field\":\"y\"}},\"id\":\"2097\",\"type\":\"Line\"},{\"attributes\":{\"end\":{\"id\":\"5244\"},\"line_alpha\":{\"value\":0.2},\"line_width\":{\"value\":3},\"source\":null,\"start\":null,\"x_end\":{\"value\":8.63492050048059},\"x_start\":{\"value\":0.0},\"y_end\":{\"value\":10.049746424553893},\"y_start\":{\"value\":0.0}},\"id\":\"5245\",\"type\":\"Arrow\"},{\"attributes\":{\"fill_alpha\":0.2,\"line_alpha\":0.2,\"size\":10},\"id\":\"2543\",\"type\":\"NormalHead\"},{\"attributes\":{\"end\":{\"id\":\"2470\"},\"line_alpha\":{\"value\":0.2},\"line_width\":{\"value\":3},\"source\":null,\"start\":null,\"x_end\":{\"value\":3.623852388670585},\"x_start\":{\"value\":0.0},\"y_end\":{\"value\":9.240076254000325},\"y_start\":{\"value\":0.0}},\"id\":\"2471\",\"type\":\"Arrow\"},{\"attributes\":{\"fill_alpha\":0.2,\"line_alpha\":0.2,\"size\":10},\"id\":\"5390\",\"type\":\"NormalHead\"},{\"attributes\":{\"source\":{\"id\":\"2096\"}},\"id\":\"2100\",\"type\":\"CDSView\"},{\"attributes\":{\"end\":{\"id\":\"2397\"},\"line_alpha\":{\"value\":0.2},\"line_width\":{\"value\":3},\"source\":null,\"start\":null,\"x_end\":{\"value\":-4.806497320680487},\"x_start\":{\"value\":0.0},\"y_end\":{\"value\":-9.367943467443595},\"y_start\":{\"value\":0.0}},\"id\":\"2398\",\"type\":\"Arrow\"},{\"attributes\":{\"line_alpha\":0.1,\"line_width\":1.5,\"x\":{\"field\":\"x\"},\"y\":{\"field\":\"y\"}},\"id\":\"2098\",\"type\":\"Line\"},{\"attributes\":{\"end\":{\"id\":\"5317\"},\"line_alpha\":{\"value\":0.2},\"line_width\":{\"value\":3},\"source\":null,\"start\":null,\"x_end\":{\"value\":-5.6360970089237785},\"x_start\":{\"value\":0.0},\"y_end\":{\"value\":1.2396954571189758},\"y_start\":{\"value\":0.0}},\"id\":\"5318\",\"type\":\"Arrow\"},{\"attributes\":{\"data_source\":{\"id\":\"2096\"},\"glyph\":{\"id\":\"2097\"},\"hover_glyph\":null,\"muted_glyph\":null,\"nonselection_glyph\":{\"id\":\"2098\"},\"selection_glyph\":null,\"view\":{\"id\":\"2100\"}},\"id\":\"2099\",\"type\":\"GlyphRenderer\"},{\"attributes\":{\"end\":{\"id\":\"3200\"},\"line_alpha\":{\"value\":0.2},\"line_width\":{\"value\":3},\"source\":null,\"start\":null,\"x_end\":{\"value\":-0.22450970389312008},\"x_start\":{\"value\":0.0},\"y_end\":{\"value\":-0.05492452277007942},\"y_start\":{\"value\":0.0}},\"id\":\"3201\",\"type\":\"Arrow\"},{\"attributes\":{},\"id\":\"2077\",\"type\":\"LinearScale\"},{\"attributes\":{\"fill_alpha\":0.2,\"line_alpha\":0.2,\"size\":10},\"id\":\"5463\",\"type\":\"NormalHead\"},{\"attributes\":{\"end\":14.0,\"start\":-14.0},\"id\":\"2073\",\"type\":\"Range1d\"},{\"attributes\":{\"end\":{\"id\":\"2324\"},\"line_alpha\":{\"value\":0.2},\"line_width\":{\"value\":3},\"source\":null,\"start\":null,\"x_end\":{\"value\":-1.9780782740754344},\"x_start\":{\"value\":0.0},\"y_end\":{\"value\":3.642039641393688},\"y_start\":{\"value\":0.0}},\"id\":\"2325\",\"type\":\"Arrow\"},{\"attributes\":{\"end\":{\"id\":\"5390\"},\"line_alpha\":{\"value\":0.2},\"line_width\":{\"value\":3},\"source\":null,\"start\":null,\"x_end\":{\"value\":-10.502198349886296},\"x_start\":{\"value\":0.0},\"y_end\":{\"value\":-6.594669843700814},\"y_start\":{\"value\":0.0}},\"id\":\"5391\",\"type\":\"Arrow\"},{\"attributes\":{\"data\":{\"x\":[0.0,0.0],\"y\":[-20.0,20.0]},\"selected\":{\"id\":\"2189\"},\"selection_policy\":{\"id\":\"2190\"}},\"id\":\"2101\",\"type\":\"ColumnDataSource\"},{\"attributes\":{\"fill_alpha\":0.2,\"line_alpha\":0.2,\"size\":10},\"id\":\"2470\",\"type\":\"NormalHead\"},{\"attributes\":{\"fill_alpha\":0.2,\"line_alpha\":0.2,\"size\":10},\"id\":\"3273\",\"type\":\"NormalHead\"},{\"attributes\":{\"fill_alpha\":0.2,\"line_alpha\":0.2,\"size\":10},\"id\":\"5536\",\"type\":\"NormalHead\"},{\"attributes\":{\"line_width\":1.5,\"x\":{\"field\":\"x\"},\"y\":{\"field\":\"y\"}},\"id\":\"2102\",\"type\":\"Line\"},{\"attributes\":{\"end\":{\"id\":\"5463\"},\"line_alpha\":{\"value\":0.2},\"line_width\":{\"value\":3},\"source\":null,\"start\":null,\"x_end\":{\"value\":3.5185383474784286},\"x_start\":{\"value\":0.0},\"y_end\":{\"value\":0.9701897675349027},\"y_start\":{\"value\":0.0}},\"id\":\"5464\",\"type\":\"Arrow\"},{\"attributes\":{\"source\":{\"id\":\"2101\"}},\"id\":\"2105\",\"type\":\"CDSView\"},{\"attributes\":{\"line_alpha\":0.1,\"line_width\":1.5,\"x\":{\"field\":\"x\"},\"y\":{\"field\":\"y\"}},\"id\":\"2103\",\"type\":\"Line\"},{\"attributes\":{\"fill_alpha\":0.2,\"line_alpha\":0.2,\"size\":10},\"id\":\"2981\",\"type\":\"NormalHead\"},{\"attributes\":{\"fill_alpha\":0.2,\"line_alpha\":0.2,\"size\":10},\"id\":\"5609\",\"type\":\"NormalHead\"},{\"attributes\":{\"data_source\":{\"id\":\"2101\"},\"glyph\":{\"id\":\"2102\"},\"hover_glyph\":null,\"muted_glyph\":null,\"nonselection_glyph\":{\"id\":\"2103\"},\"selection_glyph\":null,\"view\":{\"id\":\"2105\"}},\"id\":\"2104\",\"type\":\"GlyphRenderer\"},{\"attributes\":{\"fill_alpha\":0.2,\"line_alpha\":0.2,\"size\":10},\"id\":\"2397\",\"type\":\"NormalHead\"},{\"attributes\":{\"end\":{\"id\":\"5536\"},\"line_alpha\":{\"value\":0.2},\"line_width\":{\"value\":3},\"source\":null,\"start\":null,\"x_end\":{\"value\":5.884472500773413},\"x_start\":{\"value\":0.0},\"y_end\":{\"value\":5.55331122410731},\"y_start\":{\"value\":0.0}},\"id\":\"5537\",\"type\":\"Arrow\"},{\"attributes\":{\"end\":14.0,\"start\":-14.0},\"id\":\"2075\",\"type\":\"Range1d\"},{\"attributes\":{\"fill_alpha\":0.2,\"line_alpha\":0.2,\"size\":10},\"id\":\"5682\",\"type\":\"NormalHead\"},{\"attributes\":{\"end\":{\"id\":\"2762\"},\"line_alpha\":{\"value\":0.2},\"line_width\":{\"value\":3},\"source\":null,\"start\":null,\"x_end\":{\"value\":-12.450524129262812},\"x_start\":{\"value\":0.0},\"y_end\":{\"value\":-11.519156336294412},\"y_start\":{\"value\":0.0}},\"id\":\"2763\",\"type\":\"Arrow\"},{\"attributes\":{\"fill_color\":\"red\",\"line_color\":\"red\",\"size\":10},\"id\":\"2109\",\"type\":\"NormalHead\"},{\"attributes\":{\"end\":{\"id\":\"5609\"},\"line_alpha\":{\"value\":0.2},\"line_width\":{\"value\":3},\"source\":null,\"start\":null,\"x_end\":{\"value\":-4.442085152571505},\"x_start\":{\"value\":0.0},\"y_end\":{\"value\":-0.4923941621805157},\"y_start\":{\"value\":0.0}},\"id\":\"5610\",\"type\":\"Arrow\"},{\"attributes\":{\"end\":{\"id\":\"2106\"},\"line_color\":{\"value\":\"blue\"},\"line_width\":{\"value\":3},\"source\":null,\"start\":null,\"x_end\":{\"value\":2},\"x_start\":{\"value\":0.0},\"y_end\":{\"value\":1},\"y_start\":{\"value\":0.0}},\"id\":\"2107\",\"type\":\"Arrow\"},{\"attributes\":{\"fill_alpha\":0.2,\"line_alpha\":0.2,\"size\":10},\"id\":\"2835\",\"type\":\"NormalHead\"},{\"attributes\":{\"fill_alpha\":0.2,\"line_alpha\":0.2,\"size\":10},\"id\":\"5755\",\"type\":\"NormalHead\"},{\"attributes\":{\"fill_color\":\"green\",\"line_color\":\"green\",\"size\":10},\"id\":\"2112\",\"type\":\"NormalHead\"},{\"attributes\":{\"fill_alpha\":0.2,\"line_alpha\":0.2,\"size\":10},\"id\":\"3346\",\"type\":\"NormalHead\"},{\"attributes\":{\"end\":{\"id\":\"5682\"},\"line_alpha\":{\"value\":0.2},\"line_width\":{\"value\":3},\"source\":null,\"start\":null,\"x_end\":{\"value\":14.843353319691623},\"x_start\":{\"value\":0.0},\"y_end\":{\"value\":14.711240200263287},\"y_start\":{\"value\":0.0}},\"id\":\"5683\",\"type\":\"Arrow\"},{\"attributes\":{\"fill_alpha\":0.2,\"line_alpha\":0.2,\"size\":10},\"id\":\"2908\",\"type\":\"NormalHead\"},{\"attributes\":{\"end\":{\"id\":\"2109\"},\"line_color\":{\"value\":\"red\"},\"line_width\":{\"value\":3},\"source\":null,\"start\":null,\"x_end\":{\"value\":1},\"x_start\":{\"value\":0.0},\"y_end\":{\"value\":2},\"y_start\":{\"value\":0.0}},\"id\":\"2110\",\"type\":\"Arrow\"},{\"attributes\":{\"end\":{\"id\":\"2835\"},\"line_alpha\":{\"value\":0.2},\"line_width\":{\"value\":3},\"source\":null,\"start\":null,\"x_end\":{\"value\":-4.349329389450434},\"x_start\":{\"value\":0.0},\"y_end\":{\"value\":-8.209160378643588},\"y_start\":{\"value\":0.0}},\"id\":\"2836\",\"type\":\"Arrow\"},{\"attributes\":{\"fill_alpha\":0.2,\"line_alpha\":0.2,\"size\":10},\"id\":\"5828\",\"type\":\"NormalHead\"},{\"attributes\":{\"fill_color\":\"orange\",\"line_color\":\"orange\",\"size\":10},\"id\":\"2115\",\"type\":\"NormalHead\"},{\"attributes\":{\"end\":{\"id\":\"5755\"},\"line_alpha\":{\"value\":0.2},\"line_width\":{\"value\":3},\"source\":null,\"start\":null,\"x_end\":{\"value\":-14.350212849209186},\"x_start\":{\"value\":0.0},\"y_end\":{\"value\":-13.828371883582992},\"y_start\":{\"value\":0.0}},\"id\":\"5756\",\"type\":\"Arrow\"},{\"attributes\":{\"fill_alpha\":0.2,\"line_alpha\":0.2,\"size\":10},\"id\":\"3127\",\"type\":\"NormalHead\"},{\"attributes\":{\"end\":{\"id\":\"2112\"},\"line_color\":{\"value\":\"green\"},\"line_width\":{\"value\":3},\"source\":null,\"start\":null,\"x_end\":{\"value\":-10},\"x_start\":{\"value\":0.0},\"y_end\":{\"value\":-8},\"y_start\":{\"value\":0.0}},\"id\":\"2113\",\"type\":\"Arrow\"},{\"attributes\":{\"fill_alpha\":0.2,\"line_alpha\":0.2,\"size\":10},\"id\":\"3054\",\"type\":\"NormalHead\"},{\"attributes\":{\"end\":{\"id\":\"2981\"},\"line_alpha\":{\"value\":0.2},\"line_width\":{\"value\":3},\"source\":null,\"start\":null,\"x_end\":{\"value\":8.285223685967892},\"x_start\":{\"value\":0.0},\"y_end\":{\"value\":3.7653242093225714},\"y_start\":{\"value\":0.0}},\"id\":\"2982\",\"type\":\"Arrow\"},{\"attributes\":{\"end\":{\"id\":\"5828\"},\"line_alpha\":{\"value\":0.2},\"line_width\":{\"value\":3},\"source\":null,\"start\":null,\"x_end\":{\"value\":-4.6381196122619315},\"x_start\":{\"value\":0.0},\"y_end\":{\"value\":3.546361549143061},\"y_start\":{\"value\":0.0}},\"id\":\"5829\",\"type\":\"Arrow\"},{\"attributes\":{\"fill_color\":\"purple\",\"line_color\":\"purple\",\"size\":10},\"id\":\"2118\",\"type\":\"NormalHead\"},{\"attributes\":{\"end\":{\"id\":\"2115\"},\"line_color\":{\"value\":\"orange\"},\"line_width\":{\"value\":3},\"source\":null,\"start\":null,\"x_end\":{\"value\":5.6},\"x_start\":{\"value\":0.0},\"y_end\":{\"value\":10.3},\"y_start\":{\"value\":0.0}},\"id\":\"2116\",\"type\":\"Arrow\"},{\"attributes\":{\"end\":{\"id\":\"2908\"},\"line_alpha\":{\"value\":0.2},\"line_width\":{\"value\":3},\"source\":null,\"start\":null,\"x_end\":{\"value\":-12.963728260975671},\"x_start\":{\"value\":0.0},\"y_end\":{\"value\":-10.981279013183507},\"y_start\":{\"value\":0.0}},\"id\":\"2909\",\"type\":\"Arrow\"},{\"attributes\":{\"fill_alpha\":0.2,\"line_alpha\":0.2,\"size\":10},\"id\":\"2324\",\"type\":\"NormalHead\"},{\"attributes\":{\"fill_alpha\":0.2,\"line_alpha\":0.2,\"size\":10},\"id\":\"3200\",\"type\":\"NormalHead\"},{\"attributes\":{\"end\":{\"id\":\"3054\"},\"line_alpha\":{\"value\":0.2},\"line_width\":{\"value\":3},\"source\":null,\"start\":null,\"x_end\":{\"value\":-3.6363734866757955},\"x_start\":{\"value\":0.0},\"y_end\":{\"value\":-3.250152015582927},\"y_start\":{\"value\":0.0}},\"id\":\"3055\",\"type\":\"Arrow\"}],\"root_ids\":[\"2072\"]},\"title\":\"Bokeh Application\",\"version\":\"2.0.1\"}};\n",
       "  var render_items = [{\"docid\":\"0be2159c-01aa-4ebd-998d-765f3d397117\",\"root_ids\":[\"2072\"],\"roots\":{\"2072\":\"94c2f953-debe-4583-8107-0a2fab965512\"}}];\n",
       "  root.Bokeh.embed.embed_items_notebook(docs_json, render_items);\n",
       "\n",
       "  }\n",
       "  if (root.Bokeh !== undefined) {\n",
       "    embed_document(root);\n",
       "  } else {\n",
       "    var attempts = 0;\n",
       "    var timer = setInterval(function(root) {\n",
       "      if (root.Bokeh !== undefined) {\n",
       "        clearInterval(timer);\n",
       "        embed_document(root);\n",
       "      } else {\n",
       "        attempts++;\n",
       "        if (attempts > 100) {\n",
       "          clearInterval(timer);\n",
       "          console.log(\"Bokeh: ERROR: Unable to run BokehJS code because BokehJS library is missing\");\n",
       "        }\n",
       "      }\n",
       "    }, 10, root)\n",
       "  }\n",
       "})(window);"
      ],
      "application/vnd.bokehjs_exec.v0+json": ""
     },
     "metadata": {
      "application/vnd.bokehjs_exec.v0+json": {
       "id": "2072"
      }
     },
     "output_type": "display_data"
    }
   ],
   "source": [
    "plot.show()"
   ]
  },
  {
   "cell_type": "markdown",
   "metadata": {},
   "source": [
    "Eventually we could define the entire $\\Re^2$ space with just these two vectors."
   ]
  },
  {
   "cell_type": "markdown",
   "metadata": {},
   "source": [
    "# Linear Dependence\n",
    "\n",
    "When we can describe a vector with some linear combination of other vectors, we call that vector linearly dependent. Put differently, the addition of that new vector to our set does not provide any additional information that we do not already have with the existing vectors in our set.\n",
    "\n",
    "This concept is a little tricky at first, so let's examine this visually."
   ]
  },
  {
   "cell_type": "code",
   "execution_count": 19,
   "metadata": {},
   "outputs": [],
   "source": [
    "# Are these two vectors linearly dependent?\n",
    "a = np.array([1,4])\n",
    "b = np.array([2.5,10])"
   ]
  },
  {
   "cell_type": "code",
   "execution_count": 20,
   "metadata": {},
   "outputs": [
    {
     "data": {
      "text/html": [
       "\n",
       "\n",
       "\n",
       "\n",
       "\n",
       "\n",
       "  <div class=\"bk-root\" id=\"f74e4be0-63ef-4e32-966b-655771647012\" data-root-id=\"5961\"></div>\n"
      ]
     },
     "metadata": {},
     "output_type": "display_data"
    },
    {
     "data": {
      "application/javascript": [
       "(function(root) {\n",
       "  function embed_document(root) {\n",
       "    \n",
       "  var docs_json = {\"e48a79b3-f0b0-4ec3-a03a-c53b4f0ba0c3\":{\"roots\":{\"references\":[{\"attributes\":{\"below\":[{\"id\":\"5970\"}],\"center\":[{\"id\":\"5973\"},{\"id\":\"5977\"},{\"id\":\"5996\"},{\"id\":\"5999\"}],\"left\":[{\"id\":\"5974\"}],\"plot_height\":700,\"plot_width\":700,\"renderers\":[{\"id\":\"5988\"},{\"id\":\"5993\"}],\"title\":{\"id\":\"6071\"},\"toolbar\":{\"id\":\"5981\"},\"x_range\":{\"id\":\"5962\"},\"x_scale\":{\"id\":\"5966\"},\"y_range\":{\"id\":\"5964\"},\"y_scale\":{\"id\":\"5968\"}},\"id\":\"5961\",\"subtype\":\"Figure\",\"type\":\"Plot\"},{\"attributes\":{},\"id\":\"6080\",\"type\":\"UnionRenderers\"},{\"attributes\":{\"data_source\":{\"id\":\"5985\"},\"glyph\":{\"id\":\"5986\"},\"hover_glyph\":null,\"muted_glyph\":null,\"nonselection_glyph\":{\"id\":\"5987\"},\"selection_glyph\":null,\"view\":{\"id\":\"5989\"}},\"id\":\"5988\",\"type\":\"GlyphRenderer\"},{\"attributes\":{},\"id\":\"5968\",\"type\":\"LinearScale\"},{\"attributes\":{\"source\":{\"id\":\"5985\"}},\"id\":\"5989\",\"type\":\"CDSView\"},{\"attributes\":{\"formatter\":{\"id\":\"6075\"},\"ticker\":{\"id\":\"5971\"}},\"id\":\"5970\",\"type\":\"LinearAxis\"},{\"attributes\":{\"data\":{\"x\":[0.0,0.0],\"y\":[-30.0,30.0]},\"selected\":{\"id\":\"6079\"},\"selection_policy\":{\"id\":\"6080\"}},\"id\":\"5990\",\"type\":\"ColumnDataSource\"},{\"attributes\":{},\"id\":\"5971\",\"type\":\"BasicTicker\"},{\"attributes\":{\"line_width\":1.5,\"x\":{\"field\":\"x\"},\"y\":{\"field\":\"y\"}},\"id\":\"5991\",\"type\":\"Line\"},{\"attributes\":{\"axis\":{\"id\":\"5970\"},\"ticker\":null},\"id\":\"5973\",\"type\":\"Grid\"},{\"attributes\":{\"source\":{\"id\":\"5990\"}},\"id\":\"5994\",\"type\":\"CDSView\"},{\"attributes\":{\"line_alpha\":0.1,\"line_width\":1.5,\"x\":{\"field\":\"x\"},\"y\":{\"field\":\"y\"}},\"id\":\"5992\",\"type\":\"Line\"},{\"attributes\":{\"formatter\":{\"id\":\"6073\"},\"ticker\":{\"id\":\"5975\"}},\"id\":\"5974\",\"type\":\"LinearAxis\"},{\"attributes\":{\"data_source\":{\"id\":\"5990\"},\"glyph\":{\"id\":\"5991\"},\"hover_glyph\":null,\"muted_glyph\":null,\"nonselection_glyph\":{\"id\":\"5992\"},\"selection_glyph\":null,\"view\":{\"id\":\"5994\"}},\"id\":\"5993\",\"type\":\"GlyphRenderer\"},{\"attributes\":{},\"id\":\"5975\",\"type\":\"BasicTicker\"},{\"attributes\":{\"axis\":{\"id\":\"5974\"},\"dimension\":1,\"ticker\":null},\"id\":\"5977\",\"type\":\"Grid\"},{\"attributes\":{\"data\":{\"x\":[-30.0,30.0],\"y\":[0.0,0.0]},\"selected\":{\"id\":\"6077\"},\"selection_policy\":{\"id\":\"6078\"}},\"id\":\"5985\",\"type\":\"ColumnDataSource\"},{\"attributes\":{\"end\":{\"id\":\"5995\"},\"line_alpha\":{\"value\":0.4},\"line_color\":{\"value\":\"blue\"},\"line_width\":{\"value\":3},\"source\":null,\"start\":null,\"x_end\":{\"value\":1},\"x_start\":{\"value\":0.0},\"y_end\":{\"value\":4},\"y_start\":{\"value\":0.0}},\"id\":\"5996\",\"type\":\"Arrow\"},{\"attributes\":{},\"id\":\"5978\",\"type\":\"WheelZoomTool\"},{\"attributes\":{},\"id\":\"5979\",\"type\":\"PanTool\"},{\"attributes\":{\"fill_alpha\":0.4,\"fill_color\":\"red\",\"line_alpha\":0.4,\"line_color\":\"red\",\"size\":10},\"id\":\"5998\",\"type\":\"NormalHead\"},{\"attributes\":{},\"id\":\"5980\",\"type\":\"ResetTool\"},{\"attributes\":{\"end\":{\"id\":\"5998\"},\"line_alpha\":{\"value\":0.4},\"line_color\":{\"value\":\"red\"},\"line_width\":{\"value\":3},\"source\":null,\"start\":null,\"x_end\":{\"value\":2.5},\"x_start\":{\"value\":0.0},\"y_end\":{\"value\":10.0},\"y_start\":{\"value\":0.0}},\"id\":\"5999\",\"type\":\"Arrow\"},{\"attributes\":{},\"id\":\"6079\",\"type\":\"Selection\"},{\"attributes\":{},\"id\":\"6073\",\"type\":\"BasicTickFormatter\"},{\"attributes\":{\"fill_alpha\":0.4,\"fill_color\":\"blue\",\"line_alpha\":0.4,\"line_color\":\"blue\",\"size\":10},\"id\":\"5995\",\"type\":\"NormalHead\"},{\"attributes\":{\"text\":\"\"},\"id\":\"6071\",\"type\":\"Title\"},{\"attributes\":{\"active_drag\":\"auto\",\"active_inspect\":\"auto\",\"active_multi\":null,\"active_scroll\":\"auto\",\"active_tap\":\"auto\",\"tools\":[{\"id\":\"5978\"},{\"id\":\"5979\"},{\"id\":\"5980\"}]},\"id\":\"5981\",\"type\":\"Toolbar\"},{\"attributes\":{\"line_width\":1.5,\"x\":{\"field\":\"x\"},\"y\":{\"field\":\"y\"}},\"id\":\"5986\",\"type\":\"Line\"},{\"attributes\":{},\"id\":\"6075\",\"type\":\"BasicTickFormatter\"},{\"attributes\":{\"end\":21.0,\"start\":-21.0},\"id\":\"5962\",\"type\":\"Range1d\"},{\"attributes\":{},\"id\":\"6077\",\"type\":\"Selection\"},{\"attributes\":{\"end\":21.0,\"start\":-21.0},\"id\":\"5964\",\"type\":\"Range1d\"},{\"attributes\":{\"line_alpha\":0.1,\"line_width\":1.5,\"x\":{\"field\":\"x\"},\"y\":{\"field\":\"y\"}},\"id\":\"5987\",\"type\":\"Line\"},{\"attributes\":{},\"id\":\"6078\",\"type\":\"UnionRenderers\"},{\"attributes\":{},\"id\":\"5966\",\"type\":\"LinearScale\"}],\"root_ids\":[\"5961\"]},\"title\":\"Bokeh Application\",\"version\":\"2.0.1\"}};\n",
       "  var render_items = [{\"docid\":\"e48a79b3-f0b0-4ec3-a03a-c53b4f0ba0c3\",\"root_ids\":[\"5961\"],\"roots\":{\"5961\":\"f74e4be0-63ef-4e32-966b-655771647012\"}}];\n",
       "  root.Bokeh.embed.embed_items_notebook(docs_json, render_items);\n",
       "\n",
       "  }\n",
       "  if (root.Bokeh !== undefined) {\n",
       "    embed_document(root);\n",
       "  } else {\n",
       "    var attempts = 0;\n",
       "    var timer = setInterval(function(root) {\n",
       "      if (root.Bokeh !== undefined) {\n",
       "        clearInterval(timer);\n",
       "        embed_document(root);\n",
       "      } else {\n",
       "        attempts++;\n",
       "        if (attempts > 100) {\n",
       "          clearInterval(timer);\n",
       "          console.log(\"Bokeh: ERROR: Unable to run BokehJS code because BokehJS library is missing\");\n",
       "        }\n",
       "      }\n",
       "    }, 10, root)\n",
       "  }\n",
       "})(window);"
      ],
      "application/vnd.bokehjs_exec.v0+json": ""
     },
     "metadata": {
      "application/vnd.bokehjs_exec.v0+json": {
       "id": "5961"
      }
     },
     "output_type": "display_data"
    }
   ],
   "source": [
    "# Let's visualize them...\n",
    "plot.clear()\n",
    "plot.graph(30)\n",
    "plot.vector(a,alpha=.4)\n",
    "plot.vector(b,alpha=.4)\n",
    "plot.show()"
   ]
  },
  {
   "cell_type": "markdown",
   "metadata": {},
   "source": [
    "When visualized the dependence becomes apparent. No linear combination of these two vectors will allow them to break into a new dimension.\n",
    "\n",
    "To run this point home, let's repeat the exercise from above."
   ]
  },
  {
   "cell_type": "code",
   "execution_count": 21,
   "metadata": {},
   "outputs": [],
   "source": [
    "# Let's draw two random constants 50 times\n",
    "for i in range(50):\n",
    "    c1,c2 = np.random.uniform(low=-5,high=5,size=2)\n",
    "    plot.vector(c1*a + c2*b,add_color='black',alpha=.2)"
   ]
  },
  {
   "cell_type": "code",
   "execution_count": 22,
   "metadata": {},
   "outputs": [
    {
     "data": {
      "text/html": [
       "\n",
       "\n",
       "\n",
       "\n",
       "\n",
       "\n",
       "  <div class=\"bk-root\" id=\"d60a5920-6f0a-41a9-b9a9-2a0bd1be25d4\" data-root-id=\"5961\"></div>\n"
      ]
     },
     "metadata": {},
     "output_type": "display_data"
    },
    {
     "data": {
      "application/javascript": [
       "(function(root) {\n",
       "  function embed_document(root) {\n",
       "    \n",
       "  var docs_json = {\"c720acdb-0978-4953-a8eb-69d6e696a1b9\":{\"roots\":{\"references\":[{\"attributes\":{\"below\":[{\"id\":\"5970\"}],\"center\":[{\"id\":\"5973\"},{\"id\":\"5977\"},{\"id\":\"5996\"},{\"id\":\"5999\"},{\"id\":\"6142\"},{\"id\":\"6225\"},{\"id\":\"6308\"},{\"id\":\"6391\"},{\"id\":\"6474\"},{\"id\":\"6557\"},{\"id\":\"6640\"},{\"id\":\"6723\"},{\"id\":\"6806\"},{\"id\":\"6889\"},{\"id\":\"6972\"},{\"id\":\"7055\"},{\"id\":\"7138\"},{\"id\":\"7221\"},{\"id\":\"7304\"},{\"id\":\"7387\"},{\"id\":\"7470\"},{\"id\":\"7553\"},{\"id\":\"7636\"},{\"id\":\"7719\"},{\"id\":\"7802\"},{\"id\":\"7885\"},{\"id\":\"7968\"},{\"id\":\"8051\"},{\"id\":\"8134\"},{\"id\":\"8217\"},{\"id\":\"8300\"},{\"id\":\"8383\"},{\"id\":\"8466\"},{\"id\":\"8549\"},{\"id\":\"8632\"},{\"id\":\"8715\"},{\"id\":\"8798\"},{\"id\":\"8881\"},{\"id\":\"8964\"},{\"id\":\"9047\"},{\"id\":\"9130\"},{\"id\":\"9213\"},{\"id\":\"9296\"},{\"id\":\"9379\"},{\"id\":\"9462\"},{\"id\":\"9545\"},{\"id\":\"9628\"},{\"id\":\"9711\"},{\"id\":\"9794\"},{\"id\":\"9877\"},{\"id\":\"9960\"},{\"id\":\"10043\"},{\"id\":\"10126\"},{\"id\":\"10209\"}],\"left\":[{\"id\":\"5974\"}],\"plot_height\":700,\"plot_width\":700,\"renderers\":[{\"id\":\"5988\"},{\"id\":\"5993\"}],\"title\":{\"id\":\"6071\"},\"toolbar\":{\"id\":\"5981\"},\"x_range\":{\"id\":\"5962\"},\"x_scale\":{\"id\":\"5966\"},\"y_range\":{\"id\":\"5964\"},\"y_scale\":{\"id\":\"5968\"}},\"id\":\"5961\",\"subtype\":\"Figure\",\"type\":\"Plot\"},{\"attributes\":{\"data_source\":{\"id\":\"5985\"},\"glyph\":{\"id\":\"5986\"},\"hover_glyph\":null,\"muted_glyph\":null,\"nonselection_glyph\":{\"id\":\"5987\"},\"selection_glyph\":null,\"view\":{\"id\":\"5989\"}},\"id\":\"5988\",\"type\":\"GlyphRenderer\"},{\"attributes\":{\"end\":{\"id\":\"9461\"},\"line_alpha\":{\"value\":0.2},\"line_width\":{\"value\":3},\"source\":null,\"start\":null,\"x_end\":{\"value\":-7.320053404349895},\"x_start\":{\"value\":0.0},\"y_end\":{\"value\":-29.28021361739958},\"y_start\":{\"value\":0.0}},\"id\":\"9462\",\"type\":\"Arrow\"},{\"attributes\":{\"source\":{\"id\":\"5985\"}},\"id\":\"5989\",\"type\":\"CDSView\"},{\"attributes\":{\"fill_alpha\":0.2,\"line_alpha\":0.2,\"size\":10},\"id\":\"9627\",\"type\":\"NormalHead\"},{\"attributes\":{\"data\":{\"x\":[0.0,0.0],\"y\":[-30.0,30.0]},\"selected\":{\"id\":\"6079\"},\"selection_policy\":{\"id\":\"6080\"}},\"id\":\"5990\",\"type\":\"ColumnDataSource\"},{\"attributes\":{\"end\":{\"id\":\"9544\"},\"line_alpha\":{\"value\":0.2},\"line_width\":{\"value\":3},\"source\":null,\"start\":null,\"x_end\":{\"value\":-5.65787517153739},\"x_start\":{\"value\":0.0},\"y_end\":{\"value\":-22.63150068614956},\"y_start\":{\"value\":0.0}},\"id\":\"9545\",\"type\":\"Arrow\"},{\"attributes\":{\"line_width\":1.5,\"x\":{\"field\":\"x\"},\"y\":{\"field\":\"y\"}},\"id\":\"5991\",\"type\":\"Line\"},{\"attributes\":{\"fill_alpha\":0.2,\"line_alpha\":0.2,\"size\":10},\"id\":\"9710\",\"type\":\"NormalHead\"},{\"attributes\":{\"source\":{\"id\":\"5990\"}},\"id\":\"5994\",\"type\":\"CDSView\"},{\"attributes\":{\"end\":{\"id\":\"9627\"},\"line_alpha\":{\"value\":0.2},\"line_width\":{\"value\":3},\"source\":null,\"start\":null,\"x_end\":{\"value\":-6.937349629533997},\"x_start\":{\"value\":0.0},\"y_end\":{\"value\":-27.749398518135987},\"y_start\":{\"value\":0.0}},\"id\":\"9628\",\"type\":\"Arrow\"},{\"attributes\":{\"line_alpha\":0.1,\"line_width\":1.5,\"x\":{\"field\":\"x\"},\"y\":{\"field\":\"y\"}},\"id\":\"5992\",\"type\":\"Line\"},{\"attributes\":{\"data_source\":{\"id\":\"5990\"},\"glyph\":{\"id\":\"5991\"},\"hover_glyph\":null,\"muted_glyph\":null,\"nonselection_glyph\":{\"id\":\"5992\"},\"selection_glyph\":null,\"view\":{\"id\":\"5994\"}},\"id\":\"5993\",\"type\":\"GlyphRenderer\"},{\"attributes\":{\"fill_alpha\":0.2,\"line_alpha\":0.2,\"size\":10},\"id\":\"6224\",\"type\":\"NormalHead\"},{\"attributes\":{\"fill_alpha\":0.2,\"line_alpha\":0.2,\"size\":10},\"id\":\"9793\",\"type\":\"NormalHead\"},{\"attributes\":{\"end\":{\"id\":\"9710\"},\"line_alpha\":{\"value\":0.2},\"line_width\":{\"value\":3},\"source\":null,\"start\":null,\"x_end\":{\"value\":7.779030144218894},\"x_start\":{\"value\":0.0},\"y_end\":{\"value\":31.116120576875577},\"y_start\":{\"value\":0.0}},\"id\":\"9711\",\"type\":\"Arrow\"},{\"attributes\":{\"fill_alpha\":0.2,\"line_alpha\":0.2,\"size\":10},\"id\":\"9876\",\"type\":\"NormalHead\"},{\"attributes\":{\"end\":{\"id\":\"6307\"},\"line_alpha\":{\"value\":0.2},\"line_width\":{\"value\":3},\"source\":null,\"start\":null,\"x_end\":{\"value\":10.898874570020066},\"x_start\":{\"value\":0.0},\"y_end\":{\"value\":43.595498280080264},\"y_start\":{\"value\":0.0}},\"id\":\"6308\",\"type\":\"Arrow\"},{\"attributes\":{\"end\":{\"id\":\"5995\"},\"line_alpha\":{\"value\":0.4},\"line_color\":{\"value\":\"blue\"},\"line_width\":{\"value\":3},\"source\":null,\"start\":null,\"x_end\":{\"value\":1},\"x_start\":{\"value\":0.0},\"y_end\":{\"value\":4},\"y_start\":{\"value\":0.0}},\"id\":\"5996\",\"type\":\"Arrow\"},{\"attributes\":{\"end\":{\"id\":\"9793\"},\"line_alpha\":{\"value\":0.2},\"line_width\":{\"value\":3},\"source\":null,\"start\":null,\"x_end\":{\"value\":-13.752063353848621},\"x_start\":{\"value\":0.0},\"y_end\":{\"value\":-55.008253415394485},\"y_start\":{\"value\":0.0}},\"id\":\"9794\",\"type\":\"Arrow\"},{\"attributes\":{\"end\":{\"id\":\"6224\"},\"line_alpha\":{\"value\":0.2},\"line_width\":{\"value\":3},\"source\":null,\"start\":null,\"x_end\":{\"value\":-4.5532935161553665},\"x_start\":{\"value\":0.0},\"y_end\":{\"value\":-18.213174064621466},\"y_start\":{\"value\":0.0}},\"id\":\"6225\",\"type\":\"Arrow\"},{\"attributes\":{\"fill_alpha\":0.2,\"line_alpha\":0.2,\"size\":10},\"id\":\"9959\",\"type\":\"NormalHead\"},{\"attributes\":{\"end\":{\"id\":\"9876\"},\"line_alpha\":{\"value\":0.2},\"line_width\":{\"value\":3},\"source\":null,\"start\":null,\"x_end\":{\"value\":4.144750373509386},\"x_start\":{\"value\":0.0},\"y_end\":{\"value\":16.579001494037545},\"y_start\":{\"value\":0.0}},\"id\":\"9877\",\"type\":\"Arrow\"},{\"attributes\":{\"fill_alpha\":0.4,\"fill_color\":\"red\",\"line_alpha\":0.4,\"line_color\":\"red\",\"size\":10},\"id\":\"5998\",\"type\":\"NormalHead\"},{\"attributes\":{\"fill_alpha\":0.2,\"line_alpha\":0.2,\"size\":10},\"id\":\"10042\",\"type\":\"NormalHead\"},{\"attributes\":{\"end\":{\"id\":\"5998\"},\"line_alpha\":{\"value\":0.4},\"line_color\":{\"value\":\"red\"},\"line_width\":{\"value\":3},\"source\":null,\"start\":null,\"x_end\":{\"value\":2.5},\"x_start\":{\"value\":0.0},\"y_end\":{\"value\":10.0},\"y_start\":{\"value\":0.0}},\"id\":\"5999\",\"type\":\"Arrow\"},{\"attributes\":{\"end\":{\"id\":\"9959\"},\"line_alpha\":{\"value\":0.2},\"line_width\":{\"value\":3},\"source\":null,\"start\":null,\"x_end\":{\"value\":-13.238132032244504},\"x_start\":{\"value\":0.0},\"y_end\":{\"value\":-52.95252812897802},\"y_start\":{\"value\":0.0}},\"id\":\"9960\",\"type\":\"Arrow\"},{\"attributes\":{\"fill_alpha\":0.2,\"line_alpha\":0.2,\"size\":10},\"id\":\"10125\",\"type\":\"NormalHead\"},{\"attributes\":{},\"id\":\"6073\",\"type\":\"BasicTickFormatter\"},{\"attributes\":{\"fill_alpha\":0.2,\"line_alpha\":0.2,\"size\":10},\"id\":\"6390\",\"type\":\"NormalHead\"},{\"attributes\":{\"end\":{\"id\":\"10042\"},\"line_alpha\":{\"value\":0.2},\"line_width\":{\"value\":3},\"source\":null,\"start\":null,\"x_end\":{\"value\":-3.3952229595718255},\"x_start\":{\"value\":0.0},\"y_end\":{\"value\":-13.580891838287302},\"y_start\":{\"value\":0.0}},\"id\":\"10043\",\"type\":\"Arrow\"},{\"attributes\":{},\"id\":\"6075\",\"type\":\"BasicTickFormatter\"},{\"attributes\":{\"fill_alpha\":0.2,\"line_alpha\":0.2,\"size\":10},\"id\":\"10208\",\"type\":\"NormalHead\"},{\"attributes\":{},\"id\":\"6077\",\"type\":\"Selection\"},{\"attributes\":{\"end\":{\"id\":\"10125\"},\"line_alpha\":{\"value\":0.2},\"line_width\":{\"value\":3},\"source\":null,\"start\":null,\"x_end\":{\"value\":10.34871910753174},\"x_start\":{\"value\":0.0},\"y_end\":{\"value\":41.39487643012696},\"y_start\":{\"value\":0.0}},\"id\":\"10126\",\"type\":\"Arrow\"},{\"attributes\":{},\"id\":\"6078\",\"type\":\"UnionRenderers\"},{\"attributes\":{},\"id\":\"6080\",\"type\":\"UnionRenderers\"},{\"attributes\":{\"end\":{\"id\":\"10208\"},\"line_alpha\":{\"value\":0.2},\"line_width\":{\"value\":3},\"source\":null,\"start\":null,\"x_end\":{\"value\":2.391544032157965},\"x_start\":{\"value\":0.0},\"y_end\":{\"value\":9.56617612863186},\"y_start\":{\"value\":0.0}},\"id\":\"10209\",\"type\":\"Arrow\"},{\"attributes\":{\"fill_alpha\":0.2,\"line_alpha\":0.2,\"size\":10},\"id\":\"7469\",\"type\":\"NormalHead\"},{\"attributes\":{\"fill_alpha\":0.2,\"line_alpha\":0.2,\"size\":10},\"id\":\"7386\",\"type\":\"NormalHead\"},{\"attributes\":{\"fill_alpha\":0.2,\"line_alpha\":0.2,\"size\":10},\"id\":\"6473\",\"type\":\"NormalHead\"},{\"attributes\":{\"fill_alpha\":0.2,\"line_alpha\":0.2,\"size\":10},\"id\":\"6141\",\"type\":\"NormalHead\"},{\"attributes\":{\"end\":{\"id\":\"6390\"},\"line_alpha\":{\"value\":0.2},\"line_width\":{\"value\":3},\"source\":null,\"start\":null,\"x_end\":{\"value\":15.917713629327787},\"x_start\":{\"value\":0.0},\"y_end\":{\"value\":63.67085451731115},\"y_start\":{\"value\":0.0}},\"id\":\"6391\",\"type\":\"Arrow\"},{\"attributes\":{\"fill_alpha\":0.2,\"line_alpha\":0.2,\"size\":10},\"id\":\"6307\",\"type\":\"NormalHead\"},{\"attributes\":{\"end\":{\"id\":\"6141\"},\"line_alpha\":{\"value\":0.2},\"line_width\":{\"value\":3},\"source\":null,\"start\":null,\"x_end\":{\"value\":1.8802635806849066},\"x_start\":{\"value\":0.0},\"y_end\":{\"value\":7.5210543227396265},\"y_start\":{\"value\":0.0}},\"id\":\"6142\",\"type\":\"Arrow\"},{\"attributes\":{\"text\":\"\"},\"id\":\"6071\",\"type\":\"Title\"},{\"attributes\":{\"end\":{\"id\":\"7967\"},\"line_alpha\":{\"value\":0.2},\"line_width\":{\"value\":3},\"source\":null,\"start\":null,\"x_end\":{\"value\":-9.79883797462745},\"x_start\":{\"value\":0.0},\"y_end\":{\"value\":-39.1953518985098},\"y_start\":{\"value\":0.0}},\"id\":\"7968\",\"type\":\"Arrow\"},{\"attributes\":{\"fill_alpha\":0.2,\"line_alpha\":0.2,\"size\":10},\"id\":\"6556\",\"type\":\"NormalHead\"},{\"attributes\":{\"end\":{\"id\":\"6473\"},\"line_alpha\":{\"value\":0.2},\"line_width\":{\"value\":3},\"source\":null,\"start\":null,\"x_end\":{\"value\":-3.8221729450151143},\"x_start\":{\"value\":0.0},\"y_end\":{\"value\":-15.288691780060457},\"y_start\":{\"value\":0.0}},\"id\":\"6474\",\"type\":\"Arrow\"},{\"attributes\":{\"fill_alpha\":0.2,\"line_alpha\":0.2,\"size\":10},\"id\":\"8133\",\"type\":\"NormalHead\"},{\"attributes\":{\"end\":{\"id\":\"8050\"},\"line_alpha\":{\"value\":0.2},\"line_width\":{\"value\":3},\"source\":null,\"start\":null,\"x_end\":{\"value\":13.601138041737153},\"x_start\":{\"value\":0.0},\"y_end\":{\"value\":54.40455216694861},\"y_start\":{\"value\":0.0}},\"id\":\"8051\",\"type\":\"Arrow\"},{\"attributes\":{\"fill_alpha\":0.2,\"line_alpha\":0.2,\"size\":10},\"id\":\"6639\",\"type\":\"NormalHead\"},{\"attributes\":{\"end\":{\"id\":\"6556\"},\"line_alpha\":{\"value\":0.2},\"line_width\":{\"value\":3},\"source\":null,\"start\":null,\"x_end\":{\"value\":8.45752532135703},\"x_start\":{\"value\":0.0},\"y_end\":{\"value\":33.83010128542812},\"y_start\":{\"value\":0.0}},\"id\":\"6557\",\"type\":\"Arrow\"},{\"attributes\":{\"fill_alpha\":0.2,\"line_alpha\":0.2,\"size\":10},\"id\":\"8216\",\"type\":\"NormalHead\"},{\"attributes\":{\"fill_alpha\":0.2,\"line_alpha\":0.2,\"size\":10},\"id\":\"9544\",\"type\":\"NormalHead\"},{\"attributes\":{\"end\":{\"id\":\"8133\"},\"line_alpha\":{\"value\":0.2},\"line_width\":{\"value\":3},\"source\":null,\"start\":null,\"x_end\":{\"value\":-4.910162631525424},\"x_start\":{\"value\":0.0},\"y_end\":{\"value\":-19.640650526101695},\"y_start\":{\"value\":0.0}},\"id\":\"8134\",\"type\":\"Arrow\"},{\"attributes\":{\"fill_alpha\":0.2,\"line_alpha\":0.2,\"size\":10},\"id\":\"6722\",\"type\":\"NormalHead\"},{\"attributes\":{\"end\":{\"id\":\"6639\"},\"line_alpha\":{\"value\":0.2},\"line_width\":{\"value\":3},\"source\":null,\"start\":null,\"x_end\":{\"value\":3.9987226247859518},\"x_start\":{\"value\":0.0},\"y_end\":{\"value\":15.994890499143807},\"y_start\":{\"value\":0.0}},\"id\":\"6640\",\"type\":\"Arrow\"},{\"attributes\":{\"fill_alpha\":0.2,\"line_alpha\":0.2,\"size\":10},\"id\":\"8299\",\"type\":\"NormalHead\"},{\"attributes\":{\"end\":{\"id\":\"8216\"},\"line_alpha\":{\"value\":0.2},\"line_width\":{\"value\":3},\"source\":null,\"start\":null,\"x_end\":{\"value\":-0.6073080688541377},\"x_start\":{\"value\":0.0},\"y_end\":{\"value\":-2.4292322754165507},\"y_start\":{\"value\":0.0}},\"id\":\"8217\",\"type\":\"Arrow\"},{\"attributes\":{\"fill_alpha\":0.2,\"line_alpha\":0.2,\"size\":10},\"id\":\"6805\",\"type\":\"NormalHead\"},{\"attributes\":{\"end\":{\"id\":\"6722\"},\"line_alpha\":{\"value\":0.2},\"line_width\":{\"value\":3},\"source\":null,\"start\":null,\"x_end\":{\"value\":-3.7690571906006056},\"x_start\":{\"value\":0.0},\"y_end\":{\"value\":-15.076228762402422},\"y_start\":{\"value\":0.0}},\"id\":\"6723\",\"type\":\"Arrow\"},{\"attributes\":{\"fill_alpha\":0.2,\"line_alpha\":0.2,\"size\":10},\"id\":\"8382\",\"type\":\"NormalHead\"},{\"attributes\":{\"end\":{\"id\":\"8299\"},\"line_alpha\":{\"value\":0.2},\"line_width\":{\"value\":3},\"source\":null,\"start\":null,\"x_end\":{\"value\":-9.215702394283412},\"x_start\":{\"value\":0.0},\"y_end\":{\"value\":-36.862809577133646},\"y_start\":{\"value\":0.0}},\"id\":\"8300\",\"type\":\"Arrow\"},{\"attributes\":{\"fill_alpha\":0.2,\"line_alpha\":0.2,\"size\":10},\"id\":\"6888\",\"type\":\"NormalHead\"},{\"attributes\":{\"end\":{\"id\":\"6805\"},\"line_alpha\":{\"value\":0.2},\"line_width\":{\"value\":3},\"source\":null,\"start\":null,\"x_end\":{\"value\":-4.408767726638523},\"x_start\":{\"value\":0.0},\"y_end\":{\"value\":-17.63507090655409},\"y_start\":{\"value\":0.0}},\"id\":\"6806\",\"type\":\"Arrow\"},{\"attributes\":{\"fill_alpha\":0.2,\"line_alpha\":0.2,\"size\":10},\"id\":\"8465\",\"type\":\"NormalHead\"},{\"attributes\":{\"end\":{\"id\":\"8382\"},\"line_alpha\":{\"value\":0.2},\"line_width\":{\"value\":3},\"source\":null,\"start\":null,\"x_end\":{\"value\":1.7951471559376806},\"x_start\":{\"value\":0.0},\"y_end\":{\"value\":7.180588623750722},\"y_start\":{\"value\":0.0}},\"id\":\"8383\",\"type\":\"Arrow\"},{\"attributes\":{\"fill_alpha\":0.2,\"line_alpha\":0.2,\"size\":10},\"id\":\"6971\",\"type\":\"NormalHead\"},{\"attributes\":{\"end\":{\"id\":\"6888\"},\"line_alpha\":{\"value\":0.2},\"line_width\":{\"value\":3},\"source\":null,\"start\":null,\"x_end\":{\"value\":-0.38091926873930504},\"x_start\":{\"value\":0.0},\"y_end\":{\"value\":-1.5236770749572202},\"y_start\":{\"value\":0.0}},\"id\":\"6889\",\"type\":\"Arrow\"},{\"attributes\":{\"fill_alpha\":0.2,\"line_alpha\":0.2,\"size\":10},\"id\":\"8548\",\"type\":\"NormalHead\"},{\"attributes\":{\"end\":{\"id\":\"8465\"},\"line_alpha\":{\"value\":0.2},\"line_width\":{\"value\":3},\"source\":null,\"start\":null,\"x_end\":{\"value\":9.223356555529058},\"x_start\":{\"value\":0.0},\"y_end\":{\"value\":36.89342622211623},\"y_start\":{\"value\":0.0}},\"id\":\"8466\",\"type\":\"Arrow\"},{\"attributes\":{\"fill_alpha\":0.2,\"line_alpha\":0.2,\"size\":10},\"id\":\"7054\",\"type\":\"NormalHead\"},{\"attributes\":{\"end\":{\"id\":\"6971\"},\"line_alpha\":{\"value\":0.2},\"line_width\":{\"value\":3},\"source\":null,\"start\":null,\"x_end\":{\"value\":-15.053227378915171},\"x_start\":{\"value\":0.0},\"y_end\":{\"value\":-60.212909515660684},\"y_start\":{\"value\":0.0}},\"id\":\"6972\",\"type\":\"Arrow\"},{\"attributes\":{\"fill_alpha\":0.2,\"line_alpha\":0.2,\"size\":10},\"id\":\"8631\",\"type\":\"NormalHead\"},{\"attributes\":{\"fill_alpha\":0.4,\"fill_color\":\"blue\",\"line_alpha\":0.4,\"line_color\":\"blue\",\"size\":10},\"id\":\"5995\",\"type\":\"NormalHead\"},{\"attributes\":{\"end\":{\"id\":\"8548\"},\"line_alpha\":{\"value\":0.2},\"line_width\":{\"value\":3},\"source\":null,\"start\":null,\"x_end\":{\"value\":-13.541039740272149},\"x_start\":{\"value\":0.0},\"y_end\":{\"value\":-54.164158961088596},\"y_start\":{\"value\":0.0}},\"id\":\"8549\",\"type\":\"Arrow\"},{\"attributes\":{\"fill_alpha\":0.2,\"line_alpha\":0.2,\"size\":10},\"id\":\"7137\",\"type\":\"NormalHead\"},{\"attributes\":{\"line_width\":1.5,\"x\":{\"field\":\"x\"},\"y\":{\"field\":\"y\"}},\"id\":\"5986\",\"type\":\"Line\"},{\"attributes\":{\"end\":21.0,\"start\":-21.0},\"id\":\"5962\",\"type\":\"Range1d\"},{\"attributes\":{\"end\":{\"id\":\"7054\"},\"line_alpha\":{\"value\":0.2},\"line_width\":{\"value\":3},\"source\":null,\"start\":null,\"x_end\":{\"value\":-4.9947241787096495},\"x_start\":{\"value\":0.0},\"y_end\":{\"value\":-19.978896714838598},\"y_start\":{\"value\":0.0}},\"id\":\"7055\",\"type\":\"Arrow\"},{\"attributes\":{\"fill_alpha\":0.2,\"line_alpha\":0.2,\"size\":10},\"id\":\"8714\",\"type\":\"NormalHead\"},{\"attributes\":{\"end\":{\"id\":\"8631\"},\"line_alpha\":{\"value\":0.2},\"line_width\":{\"value\":3},\"source\":null,\"start\":null,\"x_end\":{\"value\":-5.191177520725839},\"x_start\":{\"value\":0.0},\"y_end\":{\"value\":-20.764710082903356},\"y_start\":{\"value\":0.0}},\"id\":\"8632\",\"type\":\"Arrow\"},{\"attributes\":{\"end\":21.0,\"start\":-21.0},\"id\":\"5964\",\"type\":\"Range1d\"},{\"attributes\":{\"fill_alpha\":0.2,\"line_alpha\":0.2,\"size\":10},\"id\":\"7220\",\"type\":\"NormalHead\"},{\"attributes\":{\"end\":{\"id\":\"7137\"},\"line_alpha\":{\"value\":0.2},\"line_width\":{\"value\":3},\"source\":null,\"start\":null,\"x_end\":{\"value\":-4.793567438782324},\"x_start\":{\"value\":0.0},\"y_end\":{\"value\":-19.174269755129295},\"y_start\":{\"value\":0.0}},\"id\":\"7138\",\"type\":\"Arrow\"},{\"attributes\":{},\"id\":\"5966\",\"type\":\"LinearScale\"},{\"attributes\":{\"fill_alpha\":0.2,\"line_alpha\":0.2,\"size\":10},\"id\":\"8797\",\"type\":\"NormalHead\"},{\"attributes\":{},\"id\":\"5968\",\"type\":\"LinearScale\"},{\"attributes\":{\"end\":{\"id\":\"8714\"},\"line_alpha\":{\"value\":0.2},\"line_width\":{\"value\":3},\"source\":null,\"start\":null,\"x_end\":{\"value\":-9.488804964777628},\"x_start\":{\"value\":0.0},\"y_end\":{\"value\":-37.955219859110514},\"y_start\":{\"value\":0.0}},\"id\":\"8715\",\"type\":\"Arrow\"},{\"attributes\":{\"fill_alpha\":0.2,\"line_alpha\":0.2,\"size\":10},\"id\":\"7303\",\"type\":\"NormalHead\"},{\"attributes\":{\"formatter\":{\"id\":\"6075\"},\"ticker\":{\"id\":\"5971\"}},\"id\":\"5970\",\"type\":\"LinearAxis\"},{\"attributes\":{\"end\":{\"id\":\"7220\"},\"line_alpha\":{\"value\":0.2},\"line_width\":{\"value\":3},\"source\":null,\"start\":null,\"x_end\":{\"value\":8.78139036625242},\"x_start\":{\"value\":0.0},\"y_end\":{\"value\":35.12556146500968},\"y_start\":{\"value\":0.0}},\"id\":\"7221\",\"type\":\"Arrow\"},{\"attributes\":{\"fill_alpha\":0.2,\"line_alpha\":0.2,\"size\":10},\"id\":\"8880\",\"type\":\"NormalHead\"},{\"attributes\":{\"end\":{\"id\":\"8797\"},\"line_alpha\":{\"value\":0.2},\"line_width\":{\"value\":3},\"source\":null,\"start\":null,\"x_end\":{\"value\":-11.85152359096274},\"x_start\":{\"value\":0.0},\"y_end\":{\"value\":-47.40609436385096},\"y_start\":{\"value\":0.0}},\"id\":\"8798\",\"type\":\"Arrow\"},{\"attributes\":{},\"id\":\"5971\",\"type\":\"BasicTicker\"},{\"attributes\":{\"axis\":{\"id\":\"5970\"},\"ticker\":null},\"id\":\"5973\",\"type\":\"Grid\"},{\"attributes\":{\"end\":{\"id\":\"7303\"},\"line_alpha\":{\"value\":0.2},\"line_width\":{\"value\":3},\"source\":null,\"start\":null,\"x_end\":{\"value\":2.041978275314473},\"x_start\":{\"value\":0.0},\"y_end\":{\"value\":8.167913101257891},\"y_start\":{\"value\":0.0}},\"id\":\"7304\",\"type\":\"Arrow\"},{\"attributes\":{\"fill_alpha\":0.2,\"line_alpha\":0.2,\"size\":10},\"id\":\"8963\",\"type\":\"NormalHead\"},{\"attributes\":{\"end\":{\"id\":\"7386\"},\"line_alpha\":{\"value\":0.2},\"line_width\":{\"value\":3},\"source\":null,\"start\":null,\"x_end\":{\"value\":-6.824224362162665},\"x_start\":{\"value\":0.0},\"y_end\":{\"value\":-27.29689744865066},\"y_start\":{\"value\":0.0}},\"id\":\"7387\",\"type\":\"Arrow\"},{\"attributes\":{\"end\":{\"id\":\"8880\"},\"line_alpha\":{\"value\":0.2},\"line_width\":{\"value\":3},\"source\":null,\"start\":null,\"x_end\":{\"value\":-0.7626896253875817},\"x_start\":{\"value\":0.0},\"y_end\":{\"value\":-3.0507585015503267},\"y_start\":{\"value\":0.0}},\"id\":\"8881\",\"type\":\"Arrow\"},{\"attributes\":{\"formatter\":{\"id\":\"6073\"},\"ticker\":{\"id\":\"5975\"}},\"id\":\"5974\",\"type\":\"LinearAxis\"},{\"attributes\":{\"fill_alpha\":0.2,\"line_alpha\":0.2,\"size\":10},\"id\":\"7552\",\"type\":\"NormalHead\"},{\"attributes\":{\"fill_alpha\":0.2,\"line_alpha\":0.2,\"size\":10},\"id\":\"9046\",\"type\":\"NormalHead\"},{\"attributes\":{},\"id\":\"5975\",\"type\":\"BasicTicker\"},{\"attributes\":{\"end\":{\"id\":\"7469\"},\"line_alpha\":{\"value\":0.2},\"line_width\":{\"value\":3},\"source\":null,\"start\":null,\"x_end\":{\"value\":1.9938627883985713},\"x_start\":{\"value\":0.0},\"y_end\":{\"value\":7.975451153594285},\"y_start\":{\"value\":0.0}},\"id\":\"7470\",\"type\":\"Arrow\"},{\"attributes\":{\"end\":{\"id\":\"8963\"},\"line_alpha\":{\"value\":0.2},\"line_width\":{\"value\":3},\"source\":null,\"start\":null,\"x_end\":{\"value\":5.799572543481367},\"x_start\":{\"value\":0.0},\"y_end\":{\"value\":23.198290173925468},\"y_start\":{\"value\":0.0}},\"id\":\"8964\",\"type\":\"Arrow\"},{\"attributes\":{\"axis\":{\"id\":\"5974\"},\"dimension\":1,\"ticker\":null},\"id\":\"5977\",\"type\":\"Grid\"},{\"attributes\":{\"fill_alpha\":0.2,\"line_alpha\":0.2,\"size\":10},\"id\":\"7635\",\"type\":\"NormalHead\"},{\"attributes\":{\"fill_alpha\":0.2,\"line_alpha\":0.2,\"size\":10},\"id\":\"9129\",\"type\":\"NormalHead\"},{\"attributes\":{\"end\":{\"id\":\"7552\"},\"line_alpha\":{\"value\":0.2},\"line_width\":{\"value\":3},\"source\":null,\"start\":null,\"x_end\":{\"value\":11.740332139654026},\"x_start\":{\"value\":0.0},\"y_end\":{\"value\":46.9613285586161},\"y_start\":{\"value\":0.0}},\"id\":\"7553\",\"type\":\"Arrow\"},{\"attributes\":{\"end\":{\"id\":\"9046\"},\"line_alpha\":{\"value\":0.2},\"line_width\":{\"value\":3},\"source\":null,\"start\":null,\"x_end\":{\"value\":0.4163334948854849},\"x_start\":{\"value\":0.0},\"y_end\":{\"value\":1.6653339795419395},\"y_start\":{\"value\":0.0}},\"id\":\"9047\",\"type\":\"Arrow\"},{\"attributes\":{\"data\":{\"x\":[-30.0,30.0],\"y\":[0.0,0.0]},\"selected\":{\"id\":\"6077\"},\"selection_policy\":{\"id\":\"6078\"}},\"id\":\"5985\",\"type\":\"ColumnDataSource\"},{\"attributes\":{},\"id\":\"5978\",\"type\":\"WheelZoomTool\"},{\"attributes\":{\"fill_alpha\":0.2,\"line_alpha\":0.2,\"size\":10},\"id\":\"7718\",\"type\":\"NormalHead\"},{\"attributes\":{\"fill_alpha\":0.2,\"line_alpha\":0.2,\"size\":10},\"id\":\"9212\",\"type\":\"NormalHead\"},{\"attributes\":{\"end\":{\"id\":\"7635\"},\"line_alpha\":{\"value\":0.2},\"line_width\":{\"value\":3},\"source\":null,\"start\":null,\"x_end\":{\"value\":-11.379907014104589},\"x_start\":{\"value\":0.0},\"y_end\":{\"value\":-45.519628056418355},\"y_start\":{\"value\":0.0}},\"id\":\"7636\",\"type\":\"Arrow\"},{\"attributes\":{\"end\":{\"id\":\"9129\"},\"line_alpha\":{\"value\":0.2},\"line_width\":{\"value\":3},\"source\":null,\"start\":null,\"x_end\":{\"value\":-0.6533513084520481},\"x_start\":{\"value\":0.0},\"y_end\":{\"value\":-2.6134052338081926},\"y_start\":{\"value\":0.0}},\"id\":\"9130\",\"type\":\"Arrow\"},{\"attributes\":{},\"id\":\"5979\",\"type\":\"PanTool\"},{\"attributes\":{},\"id\":\"5980\",\"type\":\"ResetTool\"},{\"attributes\":{\"fill_alpha\":0.2,\"line_alpha\":0.2,\"size\":10},\"id\":\"7801\",\"type\":\"NormalHead\"},{\"attributes\":{\"fill_alpha\":0.2,\"line_alpha\":0.2,\"size\":10},\"id\":\"9295\",\"type\":\"NormalHead\"},{\"attributes\":{\"end\":{\"id\":\"7718\"},\"line_alpha\":{\"value\":0.2},\"line_width\":{\"value\":3},\"source\":null,\"start\":null,\"x_end\":{\"value\":-1.3345379793846468},\"x_start\":{\"value\":0.0},\"y_end\":{\"value\":-5.338151917538587},\"y_start\":{\"value\":0.0}},\"id\":\"7719\",\"type\":\"Arrow\"},{\"attributes\":{\"end\":{\"id\":\"9212\"},\"line_alpha\":{\"value\":0.2},\"line_width\":{\"value\":3},\"source\":null,\"start\":null,\"x_end\":{\"value\":3.221355085530397},\"x_start\":{\"value\":0.0},\"y_end\":{\"value\":12.885420342121588},\"y_start\":{\"value\":0.0}},\"id\":\"9213\",\"type\":\"Arrow\"},{\"attributes\":{\"fill_alpha\":0.2,\"line_alpha\":0.2,\"size\":10},\"id\":\"7884\",\"type\":\"NormalHead\"},{\"attributes\":{\"fill_alpha\":0.2,\"line_alpha\":0.2,\"size\":10},\"id\":\"9378\",\"type\":\"NormalHead\"},{\"attributes\":{},\"id\":\"6079\",\"type\":\"Selection\"},{\"attributes\":{\"active_drag\":\"auto\",\"active_inspect\":\"auto\",\"active_multi\":null,\"active_scroll\":\"auto\",\"active_tap\":\"auto\",\"tools\":[{\"id\":\"5978\"},{\"id\":\"5979\"},{\"id\":\"5980\"}]},\"id\":\"5981\",\"type\":\"Toolbar\"},{\"attributes\":{\"end\":{\"id\":\"7801\"},\"line_alpha\":{\"value\":0.2},\"line_width\":{\"value\":3},\"source\":null,\"start\":null,\"x_end\":{\"value\":-0.05778058730107949},\"x_start\":{\"value\":0.0},\"y_end\":{\"value\":-0.23112234920431796},\"y_start\":{\"value\":0.0}},\"id\":\"7802\",\"type\":\"Arrow\"},{\"attributes\":{\"end\":{\"id\":\"9295\"},\"line_alpha\":{\"value\":0.2},\"line_width\":{\"value\":3},\"source\":null,\"start\":null,\"x_end\":{\"value\":2.8902963277608595},\"x_start\":{\"value\":0.0},\"y_end\":{\"value\":11.561185311043438},\"y_start\":{\"value\":0.0}},\"id\":\"9296\",\"type\":\"Arrow\"},{\"attributes\":{\"fill_alpha\":0.2,\"line_alpha\":0.2,\"size\":10},\"id\":\"7967\",\"type\":\"NormalHead\"},{\"attributes\":{\"fill_alpha\":0.2,\"line_alpha\":0.2,\"size\":10},\"id\":\"9461\",\"type\":\"NormalHead\"},{\"attributes\":{\"end\":{\"id\":\"7884\"},\"line_alpha\":{\"value\":0.2},\"line_width\":{\"value\":3},\"source\":null,\"start\":null,\"x_end\":{\"value\":-5.31684072218531},\"x_start\":{\"value\":0.0},\"y_end\":{\"value\":-21.26736288874124},\"y_start\":{\"value\":0.0}},\"id\":\"7885\",\"type\":\"Arrow\"},{\"attributes\":{\"end\":{\"id\":\"9378\"},\"line_alpha\":{\"value\":0.2},\"line_width\":{\"value\":3},\"source\":null,\"start\":null,\"x_end\":{\"value\":7.591722825398858},\"x_start\":{\"value\":0.0},\"y_end\":{\"value\":30.36689130159543},\"y_start\":{\"value\":0.0}},\"id\":\"9379\",\"type\":\"Arrow\"},{\"attributes\":{\"line_alpha\":0.1,\"line_width\":1.5,\"x\":{\"field\":\"x\"},\"y\":{\"field\":\"y\"}},\"id\":\"5987\",\"type\":\"Line\"},{\"attributes\":{\"fill_alpha\":0.2,\"line_alpha\":0.2,\"size\":10},\"id\":\"8050\",\"type\":\"NormalHead\"}],\"root_ids\":[\"5961\"]},\"title\":\"Bokeh Application\",\"version\":\"2.0.1\"}};\n",
       "  var render_items = [{\"docid\":\"c720acdb-0978-4953-a8eb-69d6e696a1b9\",\"root_ids\":[\"5961\"],\"roots\":{\"5961\":\"d60a5920-6f0a-41a9-b9a9-2a0bd1be25d4\"}}];\n",
       "  root.Bokeh.embed.embed_items_notebook(docs_json, render_items);\n",
       "\n",
       "  }\n",
       "  if (root.Bokeh !== undefined) {\n",
       "    embed_document(root);\n",
       "  } else {\n",
       "    var attempts = 0;\n",
       "    var timer = setInterval(function(root) {\n",
       "      if (root.Bokeh !== undefined) {\n",
       "        clearInterval(timer);\n",
       "        embed_document(root);\n",
       "      } else {\n",
       "        attempts++;\n",
       "        if (attempts > 100) {\n",
       "          clearInterval(timer);\n",
       "          console.log(\"Bokeh: ERROR: Unable to run BokehJS code because BokehJS library is missing\");\n",
       "        }\n",
       "      }\n",
       "    }, 10, root)\n",
       "  }\n",
       "})(window);"
      ],
      "application/vnd.bokehjs_exec.v0+json": ""
     },
     "metadata": {
      "application/vnd.bokehjs_exec.v0+json": {
       "id": "5961"
      }
     },
     "output_type": "display_data"
    }
   ],
   "source": [
    "plot.show()"
   ]
  },
  {
   "cell_type": "markdown",
   "metadata": {},
   "source": [
    "Linear independence is an important concept because it tells us how much information is contained within a system. "
   ]
  },
  {
   "cell_type": "markdown",
   "metadata": {},
   "source": [
    "# Unit Vectors\n",
    "\n",
    "As we've seen, linear combinations of linearly independent can be used to locate any space within the dimensions the vectors describe. To an extent, all linearly independent vectors are linear combinations of their unit vectors. \n",
    "\n",
    "A **unit vector** (or basis vector) is a one unit movement along a specific dimension in some $\\Re^n$ dimensional space. A unit vector is denoted by $\\hat{i}$ and $\\hat{j}$ (and $\\hat{k}$ when referring to $\\Re^3$).\n",
    "\n",
    "\n",
    "$$\\hat{i} = \\begin{bmatrix} 1 \\\\ 0 \\end{bmatrix}$$\n",
    "$$\\hat{j} = \\begin{bmatrix} 0 \\\\ 1 \\end{bmatrix}$$\n"
   ]
  },
  {
   "cell_type": "code",
   "execution_count": 23,
   "metadata": {},
   "outputs": [
    {
     "data": {
      "text/html": [
       "\n",
       "\n",
       "\n",
       "\n",
       "\n",
       "\n",
       "  <div class=\"bk-root\" id=\"e2fd3637-5b1b-4aee-b49e-9dd9b82e0bfa\" data-root-id=\"10351\"></div>\n"
      ]
     },
     "metadata": {},
     "output_type": "display_data"
    },
    {
     "data": {
      "application/javascript": [
       "(function(root) {\n",
       "  function embed_document(root) {\n",
       "    \n",
       "  var docs_json = {\"941d5ec7-e56c-48c5-8d94-da720cac21d0\":{\"roots\":{\"references\":[{\"attributes\":{\"below\":[{\"id\":\"10360\"}],\"center\":[{\"id\":\"10363\"},{\"id\":\"10367\"},{\"id\":\"10386\"},{\"id\":\"10389\"}],\"left\":[{\"id\":\"10364\"}],\"plot_height\":700,\"plot_width\":700,\"renderers\":[{\"id\":\"10378\"},{\"id\":\"10383\"}],\"title\":{\"id\":\"10471\"},\"toolbar\":{\"id\":\"10371\"},\"x_range\":{\"id\":\"10352\"},\"x_scale\":{\"id\":\"10356\"},\"y_range\":{\"id\":\"10354\"},\"y_scale\":{\"id\":\"10358\"}},\"id\":\"10351\",\"subtype\":\"Figure\",\"type\":\"Plot\"},{\"attributes\":{\"data_source\":{\"id\":\"10380\"},\"glyph\":{\"id\":\"10381\"},\"hover_glyph\":null,\"muted_glyph\":null,\"nonselection_glyph\":{\"id\":\"10382\"},\"selection_glyph\":null,\"view\":{\"id\":\"10384\"}},\"id\":\"10383\",\"type\":\"GlyphRenderer\"},{\"attributes\":{\"source\":{\"id\":\"10380\"}},\"id\":\"10384\",\"type\":\"CDSView\"},{\"attributes\":{},\"id\":\"10361\",\"type\":\"BasicTicker\"},{\"attributes\":{\"fill_color\":\"red\",\"line_color\":\"red\",\"size\":10},\"id\":\"10388\",\"type\":\"NormalHead\"},{\"attributes\":{\"end\":{\"id\":\"10385\"},\"line_color\":{\"value\":\"blue\"},\"line_width\":{\"value\":3},\"source\":null,\"start\":null,\"x_end\":{\"value\":1},\"x_start\":{\"value\":0.0},\"y_end\":{\"value\":0},\"y_start\":{\"value\":0.0}},\"id\":\"10386\",\"type\":\"Arrow\"},{\"attributes\":{\"text\":\"\"},\"id\":\"10471\",\"type\":\"Title\"},{\"attributes\":{\"line_alpha\":0.1,\"line_width\":1.5,\"x\":{\"field\":\"x\"},\"y\":{\"field\":\"y\"}},\"id\":\"10377\",\"type\":\"Line\"},{\"attributes\":{\"end\":{\"id\":\"10388\"},\"line_color\":{\"value\":\"red\"},\"line_width\":{\"value\":3},\"source\":null,\"start\":null,\"x_end\":{\"value\":0},\"x_start\":{\"value\":0.0},\"y_end\":{\"value\":1},\"y_start\":{\"value\":0.0}},\"id\":\"10389\",\"type\":\"Arrow\"},{\"attributes\":{\"data\":{\"x\":[0.0,0.0],\"y\":[-8.0,8.0]},\"selected\":{\"id\":\"10479\"},\"selection_policy\":{\"id\":\"10480\"}},\"id\":\"10380\",\"type\":\"ColumnDataSource\"},{\"attributes\":{\"axis\":{\"id\":\"10360\"},\"ticker\":null},\"id\":\"10363\",\"type\":\"Grid\"},{\"attributes\":{},\"id\":\"10477\",\"type\":\"Selection\"},{\"attributes\":{\"data_source\":{\"id\":\"10375\"},\"glyph\":{\"id\":\"10376\"},\"hover_glyph\":null,\"muted_glyph\":null,\"nonselection_glyph\":{\"id\":\"10377\"},\"selection_glyph\":null,\"view\":{\"id\":\"10379\"}},\"id\":\"10378\",\"type\":\"GlyphRenderer\"},{\"attributes\":{},\"id\":\"10365\",\"type\":\"BasicTicker\"},{\"attributes\":{},\"id\":\"10473\",\"type\":\"BasicTickFormatter\"},{\"attributes\":{},\"id\":\"10370\",\"type\":\"ResetTool\"},{\"attributes\":{\"formatter\":{\"id\":\"10473\"},\"ticker\":{\"id\":\"10365\"}},\"id\":\"10364\",\"type\":\"LinearAxis\"},{\"attributes\":{},\"id\":\"10475\",\"type\":\"BasicTickFormatter\"},{\"attributes\":{\"line_width\":1.5,\"x\":{\"field\":\"x\"},\"y\":{\"field\":\"y\"}},\"id\":\"10376\",\"type\":\"Line\"},{\"attributes\":{},\"id\":\"10478\",\"type\":\"UnionRenderers\"},{\"attributes\":{\"axis\":{\"id\":\"10364\"},\"dimension\":1,\"ticker\":null},\"id\":\"10367\",\"type\":\"Grid\"},{\"attributes\":{},\"id\":\"10479\",\"type\":\"Selection\"},{\"attributes\":{},\"id\":\"10368\",\"type\":\"WheelZoomTool\"},{\"attributes\":{\"fill_color\":\"blue\",\"line_color\":\"blue\",\"size\":10},\"id\":\"10385\",\"type\":\"NormalHead\"},{\"attributes\":{},\"id\":\"10480\",\"type\":\"UnionRenderers\"},{\"attributes\":{\"end\":5.6,\"start\":-5.6},\"id\":\"10352\",\"type\":\"Range1d\"},{\"attributes\":{},\"id\":\"10369\",\"type\":\"PanTool\"},{\"attributes\":{\"data\":{\"x\":[-8.0,8.0],\"y\":[0.0,0.0]},\"selected\":{\"id\":\"10477\"},\"selection_policy\":{\"id\":\"10478\"}},\"id\":\"10375\",\"type\":\"ColumnDataSource\"},{\"attributes\":{\"end\":5.6,\"start\":-5.6},\"id\":\"10354\",\"type\":\"Range1d\"},{\"attributes\":{\"source\":{\"id\":\"10375\"}},\"id\":\"10379\",\"type\":\"CDSView\"},{\"attributes\":{\"active_drag\":\"auto\",\"active_inspect\":\"auto\",\"active_multi\":null,\"active_scroll\":\"auto\",\"active_tap\":\"auto\",\"tools\":[{\"id\":\"10368\"},{\"id\":\"10369\"},{\"id\":\"10370\"}]},\"id\":\"10371\",\"type\":\"Toolbar\"},{\"attributes\":{},\"id\":\"10356\",\"type\":\"LinearScale\"},{\"attributes\":{},\"id\":\"10358\",\"type\":\"LinearScale\"},{\"attributes\":{\"line_alpha\":0.1,\"line_width\":1.5,\"x\":{\"field\":\"x\"},\"y\":{\"field\":\"y\"}},\"id\":\"10382\",\"type\":\"Line\"},{\"attributes\":{\"line_width\":1.5,\"x\":{\"field\":\"x\"},\"y\":{\"field\":\"y\"}},\"id\":\"10381\",\"type\":\"Line\"},{\"attributes\":{\"formatter\":{\"id\":\"10475\"},\"ticker\":{\"id\":\"10361\"}},\"id\":\"10360\",\"type\":\"LinearAxis\"}],\"root_ids\":[\"10351\"]},\"title\":\"Bokeh Application\",\"version\":\"2.0.1\"}};\n",
       "  var render_items = [{\"docid\":\"941d5ec7-e56c-48c5-8d94-da720cac21d0\",\"root_ids\":[\"10351\"],\"roots\":{\"10351\":\"e2fd3637-5b1b-4aee-b49e-9dd9b82e0bfa\"}}];\n",
       "  root.Bokeh.embed.embed_items_notebook(docs_json, render_items);\n",
       "\n",
       "  }\n",
       "  if (root.Bokeh !== undefined) {\n",
       "    embed_document(root);\n",
       "  } else {\n",
       "    var attempts = 0;\n",
       "    var timer = setInterval(function(root) {\n",
       "      if (root.Bokeh !== undefined) {\n",
       "        clearInterval(timer);\n",
       "        embed_document(root);\n",
       "      } else {\n",
       "        attempts++;\n",
       "        if (attempts > 100) {\n",
       "          clearInterval(timer);\n",
       "          console.log(\"Bokeh: ERROR: Unable to run BokehJS code because BokehJS library is missing\");\n",
       "        }\n",
       "      }\n",
       "    }, 10, root)\n",
       "  }\n",
       "})(window);"
      ],
      "application/vnd.bokehjs_exec.v0+json": ""
     },
     "metadata": {
      "application/vnd.bokehjs_exec.v0+json": {
       "id": "10351"
      }
     },
     "output_type": "display_data"
    }
   ],
   "source": [
    "i = np.array([1,0])\n",
    "j = np.array([0,1])\n",
    "plot.clear()\n",
    "plot.graph(8)\n",
    "plot.vector(i,add_color=\"blue\")\n",
    "plot.vector(j,add_color=\"red\")\n",
    "plot.show()"
   ]
  },
  {
   "cell_type": "markdown",
   "metadata": {},
   "source": [
    "Any specific vector can be treated as a linear combination of the unit vectors.\n",
    "\n",
    "To get to the position $\\begin{bmatrix} 2 \\\\ 3 \\end{bmatrix}$, we could just scale and combine $\\hat{i}$ and $\\hat{j}$ accordingly.\n",
    "\n",
    "$$2\\hat{i} + 3\\hat{j}= 2\\begin{bmatrix} 1 \\\\ 0 \\end{bmatrix} + 3\\begin{bmatrix} 0 \\\\ 1 \\end{bmatrix} = \\begin{bmatrix} 2 \\\\ 3 \\end{bmatrix}$$\n",
    "\n",
    "This concept of a unit vector helps us define the \"**basis**\" of our coordinate system. That is, they help use establish the fundamental units that describe the positions within a specific space. "
   ]
  },
  {
   "cell_type": "code",
   "execution_count": 24,
   "metadata": {},
   "outputs": [
    {
     "data": {
      "text/plain": [
       "array([2, 3])"
      ]
     },
     "execution_count": 24,
     "metadata": {},
     "output_type": "execute_result"
    }
   ],
   "source": [
    "2*i+3*j"
   ]
  },
  {
   "cell_type": "code",
   "execution_count": 25,
   "metadata": {},
   "outputs": [
    {
     "data": {
      "text/html": [
       "\n",
       "\n",
       "\n",
       "\n",
       "\n",
       "\n",
       "  <div class=\"bk-root\" id=\"8c27f1d2-2d02-4bee-893c-d3a39a05145a\" data-root-id=\"10351\"></div>\n"
      ]
     },
     "metadata": {},
     "output_type": "display_data"
    },
    {
     "data": {
      "application/javascript": [
       "(function(root) {\n",
       "  function embed_document(root) {\n",
       "    \n",
       "  var docs_json = {\"7202a24a-0963-40aa-993a-b5175f463299\":{\"roots\":{\"references\":[{\"attributes\":{\"below\":[{\"id\":\"10360\"}],\"center\":[{\"id\":\"10363\"},{\"id\":\"10367\"},{\"id\":\"10386\"},{\"id\":\"10389\"},{\"id\":\"10542\"},{\"id\":\"10635\"},{\"id\":\"10728\"},{\"id\":\"10821\"},{\"id\":\"10914\"},{\"id\":\"11007\"},{\"id\":\"11100\"},{\"id\":\"11193\"},{\"id\":\"11286\"},{\"id\":\"11379\"},{\"id\":\"11472\"},{\"id\":\"11565\"},{\"id\":\"11658\"},{\"id\":\"11751\"},{\"id\":\"11844\"},{\"id\":\"11937\"},{\"id\":\"12030\"},{\"id\":\"12123\"},{\"id\":\"12216\"},{\"id\":\"12309\"},{\"id\":\"12402\"},{\"id\":\"12495\"},{\"id\":\"12588\"},{\"id\":\"12681\"},{\"id\":\"12774\"},{\"id\":\"12867\"},{\"id\":\"12960\"},{\"id\":\"13053\"},{\"id\":\"13146\"},{\"id\":\"13239\"},{\"id\":\"13332\"},{\"id\":\"13425\"},{\"id\":\"13518\"},{\"id\":\"13611\"},{\"id\":\"13704\"},{\"id\":\"13797\"},{\"id\":\"13890\"},{\"id\":\"13983\"},{\"id\":\"14076\"},{\"id\":\"14169\"},{\"id\":\"14262\"},{\"id\":\"14355\"},{\"id\":\"14448\"},{\"id\":\"14541\"},{\"id\":\"14634\"},{\"id\":\"14727\"},{\"id\":\"14820\"},{\"id\":\"14913\"},{\"id\":\"15006\"},{\"id\":\"15099\"},{\"id\":\"15192\"}],\"left\":[{\"id\":\"10364\"}],\"plot_height\":700,\"plot_width\":700,\"renderers\":[{\"id\":\"10378\"},{\"id\":\"10383\"}],\"title\":{\"id\":\"10471\"},\"toolbar\":{\"id\":\"10371\"},\"x_range\":{\"id\":\"10352\"},\"x_scale\":{\"id\":\"10356\"},\"y_range\":{\"id\":\"10354\"},\"y_scale\":{\"id\":\"10358\"}},\"id\":\"10351\",\"subtype\":\"Figure\",\"type\":\"Plot\"},{\"attributes\":{\"data_source\":{\"id\":\"10380\"},\"glyph\":{\"id\":\"10381\"},\"hover_glyph\":null,\"muted_glyph\":null,\"nonselection_glyph\":{\"id\":\"10382\"},\"selection_glyph\":null,\"view\":{\"id\":\"10384\"}},\"id\":\"10383\",\"type\":\"GlyphRenderer\"},{\"attributes\":{\"fill_alpha\":0.2,\"line_alpha\":0.2,\"size\":10},\"id\":\"14912\",\"type\":\"NormalHead\"},{\"attributes\":{\"end\":{\"id\":\"14819\"},\"line_alpha\":{\"value\":0.2},\"line_width\":{\"value\":3},\"source\":null,\"start\":null,\"x_end\":{\"value\":-0.9501645082746606},\"x_start\":{\"value\":0.0},\"y_end\":{\"value\":1.875220652502902},\"y_start\":{\"value\":0.0}},\"id\":\"14820\",\"type\":\"Arrow\"},{\"attributes\":{\"source\":{\"id\":\"10380\"}},\"id\":\"10384\",\"type\":\"CDSView\"},{\"attributes\":{\"fill_color\":\"red\",\"line_color\":\"red\",\"size\":10},\"id\":\"10388\",\"type\":\"NormalHead\"},{\"attributes\":{\"fill_alpha\":0.2,\"line_alpha\":0.2,\"size\":10},\"id\":\"15005\",\"type\":\"NormalHead\"},{\"attributes\":{\"end\":{\"id\":\"14912\"},\"line_alpha\":{\"value\":0.2},\"line_width\":{\"value\":3},\"source\":null,\"start\":null,\"x_end\":{\"value\":-0.43288547965490487},\"x_start\":{\"value\":0.0},\"y_end\":{\"value\":-3.065011529685849},\"y_start\":{\"value\":0.0}},\"id\":\"14913\",\"type\":\"Arrow\"},{\"attributes\":{\"end\":{\"id\":\"10385\"},\"line_color\":{\"value\":\"blue\"},\"line_width\":{\"value\":3},\"source\":null,\"start\":null,\"x_end\":{\"value\":1},\"x_start\":{\"value\":0.0},\"y_end\":{\"value\":0},\"y_start\":{\"value\":0.0}},\"id\":\"10386\",\"type\":\"Arrow\"},{\"attributes\":{\"text\":\"\"},\"id\":\"10471\",\"type\":\"Title\"},{\"attributes\":{\"line_alpha\":0.1,\"line_width\":1.5,\"x\":{\"field\":\"x\"},\"y\":{\"field\":\"y\"}},\"id\":\"10377\",\"type\":\"Line\"},{\"attributes\":{\"fill_alpha\":0.2,\"line_alpha\":0.2,\"size\":10},\"id\":\"15098\",\"type\":\"NormalHead\"},{\"attributes\":{\"end\":{\"id\":\"10388\"},\"line_color\":{\"value\":\"red\"},\"line_width\":{\"value\":3},\"source\":null,\"start\":null,\"x_end\":{\"value\":0},\"x_start\":{\"value\":0.0},\"y_end\":{\"value\":1},\"y_start\":{\"value\":0.0}},\"id\":\"10389\",\"type\":\"Arrow\"},{\"attributes\":{\"end\":{\"id\":\"15005\"},\"line_alpha\":{\"value\":0.2},\"line_width\":{\"value\":3},\"source\":null,\"start\":null,\"x_end\":{\"value\":2.611913502923554},\"x_start\":{\"value\":0.0},\"y_end\":{\"value\":0.4022615983820108},\"y_start\":{\"value\":0.0}},\"id\":\"15006\",\"type\":\"Arrow\"},{\"attributes\":{\"data\":{\"x\":[0.0,0.0],\"y\":[-8.0,8.0]},\"selected\":{\"id\":\"10479\"},\"selection_policy\":{\"id\":\"10480\"}},\"id\":\"10380\",\"type\":\"ColumnDataSource\"},{\"attributes\":{\"fill_alpha\":0.2,\"line_alpha\":0.2,\"size\":10},\"id\":\"15191\",\"type\":\"NormalHead\"},{\"attributes\":{\"data_source\":{\"id\":\"10375\"},\"glyph\":{\"id\":\"10376\"},\"hover_glyph\":null,\"muted_glyph\":null,\"nonselection_glyph\":{\"id\":\"10377\"},\"selection_glyph\":null,\"view\":{\"id\":\"10379\"}},\"id\":\"10378\",\"type\":\"GlyphRenderer\"},{\"attributes\":{\"end\":{\"id\":\"15098\"},\"line_alpha\":{\"value\":0.2},\"line_width\":{\"value\":3},\"source\":null,\"start\":null,\"x_end\":{\"value\":1.8619461127997203},\"x_start\":{\"value\":0.0},\"y_end\":{\"value\":-2.81499632957423},\"y_start\":{\"value\":0.0}},\"id\":\"15099\",\"type\":\"Arrow\"},{\"attributes\":{},\"id\":\"10473\",\"type\":\"BasicTickFormatter\"},{\"attributes\":{\"end\":{\"id\":\"15191\"},\"line_alpha\":{\"value\":0.2},\"line_width\":{\"value\":3},\"source\":null,\"start\":null,\"x_end\":{\"value\":-3.87668081507604},\"x_start\":{\"value\":0.0},\"y_end\":{\"value\":-4.027276366497944},\"y_start\":{\"value\":0.0}},\"id\":\"15192\",\"type\":\"Arrow\"},{\"attributes\":{},\"id\":\"10475\",\"type\":\"BasicTickFormatter\"},{\"attributes\":{},\"id\":\"10478\",\"type\":\"UnionRenderers\"},{\"attributes\":{},\"id\":\"10479\",\"type\":\"Selection\"},{\"attributes\":{},\"id\":\"10480\",\"type\":\"UnionRenderers\"},{\"attributes\":{\"fill_alpha\":0.2,\"line_alpha\":0.2,\"size\":10},\"id\":\"12122\",\"type\":\"NormalHead\"},{\"attributes\":{\"fill_alpha\":0.2,\"line_alpha\":0.2,\"size\":10},\"id\":\"12029\",\"type\":\"NormalHead\"},{\"attributes\":{\"active_drag\":\"auto\",\"active_inspect\":\"auto\",\"active_multi\":null,\"active_scroll\":\"auto\",\"active_tap\":\"auto\",\"tools\":[{\"id\":\"10368\"},{\"id\":\"10369\"},{\"id\":\"10370\"}]},\"id\":\"10371\",\"type\":\"Toolbar\"},{\"attributes\":{\"fill_alpha\":0.2,\"line_alpha\":0.2,\"size\":10},\"id\":\"11006\",\"type\":\"NormalHead\"},{\"attributes\":{\"end\":{\"id\":\"10820\"},\"line_alpha\":{\"value\":0.2},\"line_width\":{\"value\":3},\"source\":null,\"start\":null,\"x_end\":{\"value\":0.9084959372077943},\"x_start\":{\"value\":0.0},\"y_end\":{\"value\":2.412342636778815},\"y_start\":{\"value\":0.0}},\"id\":\"10821\",\"type\":\"Arrow\"},{\"attributes\":{\"line_width\":1.5,\"x\":{\"field\":\"x\"},\"y\":{\"field\":\"y\"}},\"id\":\"10381\",\"type\":\"Line\"},{\"attributes\":{\"end\":{\"id\":\"10913\"},\"line_alpha\":{\"value\":0.2},\"line_width\":{\"value\":3},\"source\":null,\"start\":null,\"x_end\":{\"value\":-3.6895689393249285},\"x_start\":{\"value\":0.0},\"y_end\":{\"value\":1.779080894400562},\"y_start\":{\"value\":0.0}},\"id\":\"10914\",\"type\":\"Arrow\"},{\"attributes\":{\"fill_alpha\":0.2,\"line_alpha\":0.2,\"size\":10},\"id\":\"11471\",\"type\":\"NormalHead\"},{\"attributes\":{},\"id\":\"10361\",\"type\":\"BasicTicker\"},{\"attributes\":{\"end\":{\"id\":\"11006\"},\"line_alpha\":{\"value\":0.2},\"line_width\":{\"value\":3},\"source\":null,\"start\":null,\"x_end\":{\"value\":-0.6638947049457311},\"x_start\":{\"value\":0.0},\"y_end\":{\"value\":1.267685603304428},\"y_start\":{\"value\":0.0}},\"id\":\"11007\",\"type\":\"Arrow\"},{\"attributes\":{\"fill_alpha\":0.2,\"line_alpha\":0.2,\"size\":10},\"id\":\"11099\",\"type\":\"NormalHead\"},{\"attributes\":{\"fill_alpha\":0.2,\"line_alpha\":0.2,\"size\":10},\"id\":\"11192\",\"type\":\"NormalHead\"},{\"attributes\":{\"end\":{\"id\":\"11192\"},\"line_alpha\":{\"value\":0.2},\"line_width\":{\"value\":3},\"source\":null,\"start\":null,\"x_end\":{\"value\":1.3361873779743032},\"x_start\":{\"value\":0.0},\"y_end\":{\"value\":3.253442547169188},\"y_start\":{\"value\":0.0}},\"id\":\"11193\",\"type\":\"Arrow\"},{\"attributes\":{\"fill_alpha\":0.2,\"line_alpha\":0.2,\"size\":10},\"id\":\"11285\",\"type\":\"NormalHead\"},{\"attributes\":{\"end\":{\"id\":\"11099\"},\"line_alpha\":{\"value\":0.2},\"line_width\":{\"value\":3},\"source\":null,\"start\":null,\"x_end\":{\"value\":-2.4676690730811357},\"x_start\":{\"value\":0.0},\"y_end\":{\"value\":-2.00162788554184},\"y_start\":{\"value\":0.0}},\"id\":\"11100\",\"type\":\"Arrow\"},{\"attributes\":{\"end\":{\"id\":\"14726\"},\"line_alpha\":{\"value\":0.2},\"line_width\":{\"value\":3},\"source\":null,\"start\":null,\"x_end\":{\"value\":-4.859577155878755},\"x_start\":{\"value\":0.0},\"y_end\":{\"value\":2.7715021248006515},\"y_start\":{\"value\":0.0}},\"id\":\"14727\",\"type\":\"Arrow\"},{\"attributes\":{\"fill_alpha\":0.2,\"line_alpha\":0.2,\"size\":10},\"id\":\"10541\",\"type\":\"NormalHead\"},{\"attributes\":{\"fill_alpha\":0.2,\"line_alpha\":0.2,\"size\":10},\"id\":\"11378\",\"type\":\"NormalHead\"},{\"attributes\":{\"end\":{\"id\":\"11285\"},\"line_alpha\":{\"value\":0.2},\"line_width\":{\"value\":3},\"source\":null,\"start\":null,\"x_end\":{\"value\":0.8771265799540497},\"x_start\":{\"value\":0.0},\"y_end\":{\"value\":-3.571612413866184},\"y_start\":{\"value\":0.0}},\"id\":\"11286\",\"type\":\"Arrow\"},{\"attributes\":{\"fill_color\":\"blue\",\"line_color\":\"blue\",\"size\":10},\"id\":\"10385\",\"type\":\"NormalHead\"},{\"attributes\":{\"end\":5.6,\"start\":-5.6},\"id\":\"10352\",\"type\":\"Range1d\"},{\"attributes\":{\"data\":{\"x\":[-8.0,8.0],\"y\":[0.0,0.0]},\"selected\":{\"id\":\"10477\"},\"selection_policy\":{\"id\":\"10478\"}},\"id\":\"10375\",\"type\":\"ColumnDataSource\"},{\"attributes\":{\"fill_alpha\":0.2,\"line_alpha\":0.2,\"size\":10},\"id\":\"10634\",\"type\":\"NormalHead\"},{\"attributes\":{\"end\":5.6,\"start\":-5.6},\"id\":\"10354\",\"type\":\"Range1d\"},{\"attributes\":{\"end\":{\"id\":\"10634\"},\"line_alpha\":{\"value\":0.2},\"line_width\":{\"value\":3},\"source\":null,\"start\":null,\"x_end\":{\"value\":4.677760409835489},\"x_start\":{\"value\":0.0},\"y_end\":{\"value\":4.606333970369732},\"y_start\":{\"value\":0.0}},\"id\":\"10635\",\"type\":\"Arrow\"},{\"attributes\":{},\"id\":\"10356\",\"type\":\"LinearScale\"},{\"attributes\":{\"end\":{\"id\":\"10541\"},\"line_alpha\":{\"value\":0.2},\"line_width\":{\"value\":3},\"source\":null,\"start\":null,\"x_end\":{\"value\":0.5190383722848644},\"x_start\":{\"value\":0.0},\"y_end\":{\"value\":0.1658489782867525},\"y_start\":{\"value\":0.0}},\"id\":\"10542\",\"type\":\"Arrow\"},{\"attributes\":{},\"id\":\"10358\",\"type\":\"LinearScale\"},{\"attributes\":{\"line_alpha\":0.1,\"line_width\":1.5,\"x\":{\"field\":\"x\"},\"y\":{\"field\":\"y\"}},\"id\":\"10382\",\"type\":\"Line\"},{\"attributes\":{\"fill_alpha\":0.2,\"line_alpha\":0.2,\"size\":10},\"id\":\"10913\",\"type\":\"NormalHead\"},{\"attributes\":{\"end\":{\"id\":\"10727\"},\"line_alpha\":{\"value\":0.2},\"line_width\":{\"value\":3},\"source\":null,\"start\":null,\"x_end\":{\"value\":-2.242591045996668},\"x_start\":{\"value\":0.0},\"y_end\":{\"value\":1.611967142529906},\"y_start\":{\"value\":0.0}},\"id\":\"10728\",\"type\":\"Arrow\"},{\"attributes\":{\"source\":{\"id\":\"10375\"}},\"id\":\"10379\",\"type\":\"CDSView\"},{\"attributes\":{\"formatter\":{\"id\":\"10475\"},\"ticker\":{\"id\":\"10361\"}},\"id\":\"10360\",\"type\":\"LinearAxis\"},{\"attributes\":{\"end\":{\"id\":\"11378\"},\"line_alpha\":{\"value\":0.2},\"line_width\":{\"value\":3},\"source\":null,\"start\":null,\"x_end\":{\"value\":3.6327963266310235},\"x_start\":{\"value\":0.0},\"y_end\":{\"value\":1.422127014862907},\"y_start\":{\"value\":0.0}},\"id\":\"11379\",\"type\":\"Arrow\"},{\"attributes\":{\"fill_alpha\":0.2,\"line_alpha\":0.2,\"size\":10},\"id\":\"13238\",\"type\":\"NormalHead\"},{\"attributes\":{\"end\":{\"id\":\"13145\"},\"line_alpha\":{\"value\":0.2},\"line_width\":{\"value\":3},\"source\":null,\"start\":null,\"x_end\":{\"value\":-2.127388332015996},\"x_start\":{\"value\":0.0},\"y_end\":{\"value\":-0.29050306191928144},\"y_start\":{\"value\":0.0}},\"id\":\"13146\",\"type\":\"Arrow\"},{\"attributes\":{\"fill_alpha\":0.2,\"line_alpha\":0.2,\"size\":10},\"id\":\"11564\",\"type\":\"NormalHead\"},{\"attributes\":{\"end\":{\"id\":\"11471\"},\"line_alpha\":{\"value\":0.2},\"line_width\":{\"value\":3},\"source\":null,\"start\":null,\"x_end\":{\"value\":2.126892902285351},\"x_start\":{\"value\":0.0},\"y_end\":{\"value\":0.07245807626400502},\"y_start\":{\"value\":0.0}},\"id\":\"11472\",\"type\":\"Arrow\"},{\"attributes\":{\"fill_alpha\":0.2,\"line_alpha\":0.2,\"size\":10},\"id\":\"13331\",\"type\":\"NormalHead\"},{\"attributes\":{\"end\":{\"id\":\"13238\"},\"line_alpha\":{\"value\":0.2},\"line_width\":{\"value\":3},\"source\":null,\"start\":null,\"x_end\":{\"value\":-1.7147509797160132},\"x_start\":{\"value\":0.0},\"y_end\":{\"value\":-0.4119360445788276},\"y_start\":{\"value\":0.0}},\"id\":\"13239\",\"type\":\"Arrow\"},{\"attributes\":{\"fill_alpha\":0.2,\"line_alpha\":0.2,\"size\":10},\"id\":\"11657\",\"type\":\"NormalHead\"},{\"attributes\":{\"end\":{\"id\":\"11564\"},\"line_alpha\":{\"value\":0.2},\"line_width\":{\"value\":3},\"source\":null,\"start\":null,\"x_end\":{\"value\":2.112072032523714},\"x_start\":{\"value\":0.0},\"y_end\":{\"value\":-2.89525675943752},\"y_start\":{\"value\":0.0}},\"id\":\"11565\",\"type\":\"Arrow\"},{\"attributes\":{\"fill_alpha\":0.2,\"line_alpha\":0.2,\"size\":10},\"id\":\"13424\",\"type\":\"NormalHead\"},{\"attributes\":{\"end\":{\"id\":\"13331\"},\"line_alpha\":{\"value\":0.2},\"line_width\":{\"value\":3},\"source\":null,\"start\":null,\"x_end\":{\"value\":0.9906398046140596},\"x_start\":{\"value\":0.0},\"y_end\":{\"value\":3.5064615790829166},\"y_start\":{\"value\":0.0}},\"id\":\"13332\",\"type\":\"Arrow\"},{\"attributes\":{\"fill_alpha\":0.2,\"line_alpha\":0.2,\"size\":10},\"id\":\"11750\",\"type\":\"NormalHead\"},{\"attributes\":{},\"id\":\"10477\",\"type\":\"Selection\"},{\"attributes\":{\"end\":{\"id\":\"11657\"},\"line_alpha\":{\"value\":0.2},\"line_width\":{\"value\":3},\"source\":null,\"start\":null,\"x_end\":{\"value\":2.991583664910703},\"x_start\":{\"value\":0.0},\"y_end\":{\"value\":-3.0133307440495702},\"y_start\":{\"value\":0.0}},\"id\":\"11658\",\"type\":\"Arrow\"},{\"attributes\":{\"fill_alpha\":0.2,\"line_alpha\":0.2,\"size\":10},\"id\":\"13517\",\"type\":\"NormalHead\"},{\"attributes\":{\"end\":{\"id\":\"13424\"},\"line_alpha\":{\"value\":0.2},\"line_width\":{\"value\":3},\"source\":null,\"start\":null,\"x_end\":{\"value\":1.704404336905788},\"x_start\":{\"value\":0.0},\"y_end\":{\"value\":-1.1511759172715563},\"y_start\":{\"value\":0.0}},\"id\":\"13425\",\"type\":\"Arrow\"},{\"attributes\":{\"fill_alpha\":0.2,\"line_alpha\":0.2,\"size\":10},\"id\":\"11843\",\"type\":\"NormalHead\"},{\"attributes\":{},\"id\":\"10365\",\"type\":\"BasicTicker\"},{\"attributes\":{\"end\":{\"id\":\"11750\"},\"line_alpha\":{\"value\":0.2},\"line_width\":{\"value\":3},\"source\":null,\"start\":null,\"x_end\":{\"value\":-1.8983472782034871},\"x_start\":{\"value\":0.0},\"y_end\":{\"value\":1.6357442384393668},\"y_start\":{\"value\":0.0}},\"id\":\"11751\",\"type\":\"Arrow\"},{\"attributes\":{},\"id\":\"10370\",\"type\":\"ResetTool\"},{\"attributes\":{\"fill_alpha\":0.2,\"line_alpha\":0.2,\"size\":10},\"id\":\"13610\",\"type\":\"NormalHead\"},{\"attributes\":{\"formatter\":{\"id\":\"10473\"},\"ticker\":{\"id\":\"10365\"}},\"id\":\"10364\",\"type\":\"LinearAxis\"},{\"attributes\":{\"end\":{\"id\":\"13517\"},\"line_alpha\":{\"value\":0.2},\"line_width\":{\"value\":3},\"source\":null,\"start\":null,\"x_end\":{\"value\":2.5808869616145627},\"x_start\":{\"value\":0.0},\"y_end\":{\"value\":1.4884797881696628},\"y_start\":{\"value\":0.0}},\"id\":\"13518\",\"type\":\"Arrow\"},{\"attributes\":{\"fill_alpha\":0.2,\"line_alpha\":0.2,\"size\":10},\"id\":\"11936\",\"type\":\"NormalHead\"},{\"attributes\":{\"line_width\":1.5,\"x\":{\"field\":\"x\"},\"y\":{\"field\":\"y\"}},\"id\":\"10376\",\"type\":\"Line\"},{\"attributes\":{\"end\":{\"id\":\"11843\"},\"line_alpha\":{\"value\":0.2},\"line_width\":{\"value\":3},\"source\":null,\"start\":null,\"x_end\":{\"value\":-0.11516650401370576},\"x_start\":{\"value\":0.0},\"y_end\":{\"value\":0.09346966026337533},\"y_start\":{\"value\":0.0}},\"id\":\"11844\",\"type\":\"Arrow\"},{\"attributes\":{\"fill_alpha\":0.2,\"line_alpha\":0.2,\"size\":10},\"id\":\"13703\",\"type\":\"NormalHead\"},{\"attributes\":{\"axis\":{\"id\":\"10364\"},\"dimension\":1,\"ticker\":null},\"id\":\"10367\",\"type\":\"Grid\"},{\"attributes\":{\"end\":{\"id\":\"13610\"},\"line_alpha\":{\"value\":0.2},\"line_width\":{\"value\":3},\"source\":null,\"start\":null,\"x_end\":{\"value\":-2.8847772663328772},\"x_start\":{\"value\":0.0},\"y_end\":{\"value\":2.8484540219672736},\"y_start\":{\"value\":0.0}},\"id\":\"13611\",\"type\":\"Arrow\"},{\"attributes\":{},\"id\":\"10368\",\"type\":\"WheelZoomTool\"},{\"attributes\":{\"end\":{\"id\":\"11936\"},\"line_alpha\":{\"value\":0.2},\"line_width\":{\"value\":3},\"source\":null,\"start\":null,\"x_end\":{\"value\":-4.476238542865925},\"x_start\":{\"value\":0.0},\"y_end\":{\"value\":1.4440014106339936},\"y_start\":{\"value\":0.0}},\"id\":\"11937\",\"type\":\"Arrow\"},{\"attributes\":{\"fill_alpha\":0.2,\"line_alpha\":0.2,\"size\":10},\"id\":\"13796\",\"type\":\"NormalHead\"},{\"attributes\":{},\"id\":\"10369\",\"type\":\"PanTool\"},{\"attributes\":{\"end\":{\"id\":\"12029\"},\"line_alpha\":{\"value\":0.2},\"line_width\":{\"value\":3},\"source\":null,\"start\":null,\"x_end\":{\"value\":0.840314104223129},\"x_start\":{\"value\":0.0},\"y_end\":{\"value\":1.5851319787899074},\"y_start\":{\"value\":0.0}},\"id\":\"12030\",\"type\":\"Arrow\"},{\"attributes\":{\"end\":{\"id\":\"13703\"},\"line_alpha\":{\"value\":0.2},\"line_width\":{\"value\":3},\"source\":null,\"start\":null,\"x_end\":{\"value\":-0.02271641407795233},\"x_start\":{\"value\":0.0},\"y_end\":{\"value\":0.4013158399870047},\"y_start\":{\"value\":0.0}},\"id\":\"13704\",\"type\":\"Arrow\"},{\"attributes\":{\"fill_alpha\":0.2,\"line_alpha\":0.2,\"size\":10},\"id\":\"12215\",\"type\":\"NormalHead\"},{\"attributes\":{\"fill_alpha\":0.2,\"line_alpha\":0.2,\"size\":10},\"id\":\"13889\",\"type\":\"NormalHead\"},{\"attributes\":{\"end\":{\"id\":\"12122\"},\"line_alpha\":{\"value\":0.2},\"line_width\":{\"value\":3},\"source\":null,\"start\":null,\"x_end\":{\"value\":3.1998220076742676},\"x_start\":{\"value\":0.0},\"y_end\":{\"value\":-0.4174885543980187},\"y_start\":{\"value\":0.0}},\"id\":\"12123\",\"type\":\"Arrow\"},{\"attributes\":{\"end\":{\"id\":\"13796\"},\"line_alpha\":{\"value\":0.2},\"line_width\":{\"value\":3},\"source\":null,\"start\":null,\"x_end\":{\"value\":-3.392135208205609},\"x_start\":{\"value\":0.0},\"y_end\":{\"value\":-4.256169024896215},\"y_start\":{\"value\":0.0}},\"id\":\"13797\",\"type\":\"Arrow\"},{\"attributes\":{\"fill_alpha\":0.2,\"line_alpha\":0.2,\"size\":10},\"id\":\"12308\",\"type\":\"NormalHead\"},{\"attributes\":{\"fill_alpha\":0.2,\"line_alpha\":0.2,\"size\":10},\"id\":\"13982\",\"type\":\"NormalHead\"},{\"attributes\":{\"end\":{\"id\":\"13889\"},\"line_alpha\":{\"value\":0.2},\"line_width\":{\"value\":3},\"source\":null,\"start\":null,\"x_end\":{\"value\":-1.1665871794156377},\"x_start\":{\"value\":0.0},\"y_end\":{\"value\":2.362608208747208},\"y_start\":{\"value\":0.0}},\"id\":\"13890\",\"type\":\"Arrow\"},{\"attributes\":{\"end\":{\"id\":\"12215\"},\"line_alpha\":{\"value\":0.2},\"line_width\":{\"value\":3},\"source\":null,\"start\":null,\"x_end\":{\"value\":-3.3211131409683126},\"x_start\":{\"value\":0.0},\"y_end\":{\"value\":1.9418534890634387},\"y_start\":{\"value\":0.0}},\"id\":\"12216\",\"type\":\"Arrow\"},{\"attributes\":{\"fill_alpha\":0.2,\"line_alpha\":0.2,\"size\":10},\"id\":\"12401\",\"type\":\"NormalHead\"},{\"attributes\":{\"fill_alpha\":0.2,\"line_alpha\":0.2,\"size\":10},\"id\":\"14075\",\"type\":\"NormalHead\"},{\"attributes\":{\"end\":{\"id\":\"12308\"},\"line_alpha\":{\"value\":0.2},\"line_width\":{\"value\":3},\"source\":null,\"start\":null,\"x_end\":{\"value\":4.96083896735157},\"x_start\":{\"value\":0.0},\"y_end\":{\"value\":2.0215097645865496},\"y_start\":{\"value\":0.0}},\"id\":\"12309\",\"type\":\"Arrow\"},{\"attributes\":{\"end\":{\"id\":\"13982\"},\"line_alpha\":{\"value\":0.2},\"line_width\":{\"value\":3},\"source\":null,\"start\":null,\"x_end\":{\"value\":-4.862288133431216},\"x_start\":{\"value\":0.0},\"y_end\":{\"value\":-4.4496638086628675},\"y_start\":{\"value\":0.0}},\"id\":\"13983\",\"type\":\"Arrow\"},{\"attributes\":{\"fill_alpha\":0.2,\"line_alpha\":0.2,\"size\":10},\"id\":\"12494\",\"type\":\"NormalHead\"},{\"attributes\":{\"fill_alpha\":0.2,\"line_alpha\":0.2,\"size\":10},\"id\":\"14168\",\"type\":\"NormalHead\"},{\"attributes\":{\"end\":{\"id\":\"12401\"},\"line_alpha\":{\"value\":0.2},\"line_width\":{\"value\":3},\"source\":null,\"start\":null,\"x_end\":{\"value\":2.1853175747930873},\"x_start\":{\"value\":0.0},\"y_end\":{\"value\":-2.2422459434029274},\"y_start\":{\"value\":0.0}},\"id\":\"12402\",\"type\":\"Arrow\"},{\"attributes\":{\"end\":{\"id\":\"14075\"},\"line_alpha\":{\"value\":0.2},\"line_width\":{\"value\":3},\"source\":null,\"start\":null,\"x_end\":{\"value\":-0.8320439594904929},\"x_start\":{\"value\":0.0},\"y_end\":{\"value\":-0.9049204791105385},\"y_start\":{\"value\":0.0}},\"id\":\"14076\",\"type\":\"Arrow\"},{\"attributes\":{\"fill_alpha\":0.2,\"line_alpha\":0.2,\"size\":10},\"id\":\"12587\",\"type\":\"NormalHead\"},{\"attributes\":{\"fill_alpha\":0.2,\"line_alpha\":0.2,\"size\":10},\"id\":\"14261\",\"type\":\"NormalHead\"},{\"attributes\":{\"fill_alpha\":0.2,\"line_alpha\":0.2,\"size\":10},\"id\":\"10820\",\"type\":\"NormalHead\"},{\"attributes\":{\"end\":{\"id\":\"12494\"},\"line_alpha\":{\"value\":0.2},\"line_width\":{\"value\":3},\"source\":null,\"start\":null,\"x_end\":{\"value\":-3.7043169565186043},\"x_start\":{\"value\":0.0},\"y_end\":{\"value\":-4.055910367570047},\"y_start\":{\"value\":0.0}},\"id\":\"12495\",\"type\":\"Arrow\"},{\"attributes\":{\"end\":{\"id\":\"14168\"},\"line_alpha\":{\"value\":0.2},\"line_width\":{\"value\":3},\"source\":null,\"start\":null,\"x_end\":{\"value\":1.6270302928323135},\"x_start\":{\"value\":0.0},\"y_end\":{\"value\":3.0770429745328123},\"y_start\":{\"value\":0.0}},\"id\":\"14169\",\"type\":\"Arrow\"},{\"attributes\":{\"axis\":{\"id\":\"10360\"},\"ticker\":null},\"id\":\"10363\",\"type\":\"Grid\"},{\"attributes\":{\"fill_alpha\":0.2,\"line_alpha\":0.2,\"size\":10},\"id\":\"12680\",\"type\":\"NormalHead\"},{\"attributes\":{\"fill_alpha\":0.2,\"line_alpha\":0.2,\"size\":10},\"id\":\"14354\",\"type\":\"NormalHead\"},{\"attributes\":{\"end\":{\"id\":\"12587\"},\"line_alpha\":{\"value\":0.2},\"line_width\":{\"value\":3},\"source\":null,\"start\":null,\"x_end\":{\"value\":2.8183385951002338},\"x_start\":{\"value\":0.0},\"y_end\":{\"value\":-1.866783530350257},\"y_start\":{\"value\":0.0}},\"id\":\"12588\",\"type\":\"Arrow\"},{\"attributes\":{\"end\":{\"id\":\"14261\"},\"line_alpha\":{\"value\":0.2},\"line_width\":{\"value\":3},\"source\":null,\"start\":null,\"x_end\":{\"value\":-0.871476178851621},\"x_start\":{\"value\":0.0},\"y_end\":{\"value\":3.1289513755693363},\"y_start\":{\"value\":0.0}},\"id\":\"14262\",\"type\":\"Arrow\"},{\"attributes\":{\"fill_alpha\":0.2,\"line_alpha\":0.2,\"size\":10},\"id\":\"10727\",\"type\":\"NormalHead\"},{\"attributes\":{\"fill_alpha\":0.2,\"line_alpha\":0.2,\"size\":10},\"id\":\"12773\",\"type\":\"NormalHead\"},{\"attributes\":{\"fill_alpha\":0.2,\"line_alpha\":0.2,\"size\":10},\"id\":\"14447\",\"type\":\"NormalHead\"},{\"attributes\":{\"end\":{\"id\":\"12680\"},\"line_alpha\":{\"value\":0.2},\"line_width\":{\"value\":3},\"source\":null,\"start\":null,\"x_end\":{\"value\":-0.6074945414243178},\"x_start\":{\"value\":0.0},\"y_end\":{\"value\":0.37245792014543344},\"y_start\":{\"value\":0.0}},\"id\":\"12681\",\"type\":\"Arrow\"},{\"attributes\":{\"end\":{\"id\":\"14354\"},\"line_alpha\":{\"value\":0.2},\"line_width\":{\"value\":3},\"source\":null,\"start\":null,\"x_end\":{\"value\":0.36059236303371023},\"x_start\":{\"value\":0.0},\"y_end\":{\"value\":-3.483493091848678},\"y_start\":{\"value\":0.0}},\"id\":\"14355\",\"type\":\"Arrow\"},{\"attributes\":{\"fill_alpha\":0.2,\"line_alpha\":0.2,\"size\":10},\"id\":\"12866\",\"type\":\"NormalHead\"},{\"attributes\":{\"fill_alpha\":0.2,\"line_alpha\":0.2,\"size\":10},\"id\":\"14540\",\"type\":\"NormalHead\"},{\"attributes\":{\"end\":{\"id\":\"12773\"},\"line_alpha\":{\"value\":0.2},\"line_width\":{\"value\":3},\"source\":null,\"start\":null,\"x_end\":{\"value\":-0.43244468276749526},\"x_start\":{\"value\":0.0},\"y_end\":{\"value\":-2.773175132095642},\"y_start\":{\"value\":0.0}},\"id\":\"12774\",\"type\":\"Arrow\"},{\"attributes\":{\"end\":{\"id\":\"14447\"},\"line_alpha\":{\"value\":0.2},\"line_width\":{\"value\":3},\"source\":null,\"start\":null,\"x_end\":{\"value\":1.9277500053168346},\"x_start\":{\"value\":0.0},\"y_end\":{\"value\":-4.042899498639296},\"y_start\":{\"value\":0.0}},\"id\":\"14448\",\"type\":\"Arrow\"},{\"attributes\":{\"fill_alpha\":0.2,\"line_alpha\":0.2,\"size\":10},\"id\":\"12959\",\"type\":\"NormalHead\"},{\"attributes\":{\"fill_alpha\":0.2,\"line_alpha\":0.2,\"size\":10},\"id\":\"14633\",\"type\":\"NormalHead\"},{\"attributes\":{\"end\":{\"id\":\"12866\"},\"line_alpha\":{\"value\":0.2},\"line_width\":{\"value\":3},\"source\":null,\"start\":null,\"x_end\":{\"value\":-3.2224794383742816},\"x_start\":{\"value\":0.0},\"y_end\":{\"value\":-4.621041238934026},\"y_start\":{\"value\":0.0}},\"id\":\"12867\",\"type\":\"Arrow\"},{\"attributes\":{\"end\":{\"id\":\"14540\"},\"line_alpha\":{\"value\":0.2},\"line_width\":{\"value\":3},\"source\":null,\"start\":null,\"x_end\":{\"value\":-1.490997500881707},\"x_start\":{\"value\":0.0},\"y_end\":{\"value\":-3.159411041504474},\"y_start\":{\"value\":0.0}},\"id\":\"14541\",\"type\":\"Arrow\"},{\"attributes\":{\"fill_alpha\":0.2,\"line_alpha\":0.2,\"size\":10},\"id\":\"13052\",\"type\":\"NormalHead\"},{\"attributes\":{\"fill_alpha\":0.2,\"line_alpha\":0.2,\"size\":10},\"id\":\"14726\",\"type\":\"NormalHead\"},{\"attributes\":{\"end\":{\"id\":\"12959\"},\"line_alpha\":{\"value\":0.2},\"line_width\":{\"value\":3},\"source\":null,\"start\":null,\"x_end\":{\"value\":0.19809222415415473},\"x_start\":{\"value\":0.0},\"y_end\":{\"value\":1.331493909296424},\"y_start\":{\"value\":0.0}},\"id\":\"12960\",\"type\":\"Arrow\"},{\"attributes\":{\"end\":{\"id\":\"14633\"},\"line_alpha\":{\"value\":0.2},\"line_width\":{\"value\":3},\"source\":null,\"start\":null,\"x_end\":{\"value\":-3.0297576572804488},\"x_start\":{\"value\":0.0},\"y_end\":{\"value\":4.332292474359793},\"y_start\":{\"value\":0.0}},\"id\":\"14634\",\"type\":\"Arrow\"},{\"attributes\":{\"fill_alpha\":0.2,\"line_alpha\":0.2,\"size\":10},\"id\":\"13145\",\"type\":\"NormalHead\"},{\"attributes\":{\"fill_alpha\":0.2,\"line_alpha\":0.2,\"size\":10},\"id\":\"14819\",\"type\":\"NormalHead\"},{\"attributes\":{\"end\":{\"id\":\"13052\"},\"line_alpha\":{\"value\":0.2},\"line_width\":{\"value\":3},\"source\":null,\"start\":null,\"x_end\":{\"value\":-4.895661833023439},\"x_start\":{\"value\":0.0},\"y_end\":{\"value\":4.420449175854907},\"y_start\":{\"value\":0.0}},\"id\":\"13053\",\"type\":\"Arrow\"}],\"root_ids\":[\"10351\"]},\"title\":\"Bokeh Application\",\"version\":\"2.0.1\"}};\n",
       "  var render_items = [{\"docid\":\"7202a24a-0963-40aa-993a-b5175f463299\",\"root_ids\":[\"10351\"],\"roots\":{\"10351\":\"8c27f1d2-2d02-4bee-893c-d3a39a05145a\"}}];\n",
       "  root.Bokeh.embed.embed_items_notebook(docs_json, render_items);\n",
       "\n",
       "  }\n",
       "  if (root.Bokeh !== undefined) {\n",
       "    embed_document(root);\n",
       "  } else {\n",
       "    var attempts = 0;\n",
       "    var timer = setInterval(function(root) {\n",
       "      if (root.Bokeh !== undefined) {\n",
       "        clearInterval(timer);\n",
       "        embed_document(root);\n",
       "      } else {\n",
       "        attempts++;\n",
       "        if (attempts > 100) {\n",
       "          clearInterval(timer);\n",
       "          console.log(\"Bokeh: ERROR: Unable to run BokehJS code because BokehJS library is missing\");\n",
       "        }\n",
       "      }\n",
       "    }, 10, root)\n",
       "  }\n",
       "})(window);"
      ],
      "application/vnd.bokehjs_exec.v0+json": ""
     },
     "metadata": {
      "application/vnd.bokehjs_exec.v0+json": {
       "id": "10351"
      }
     },
     "output_type": "display_data"
    }
   ],
   "source": [
    "cnt =0 \n",
    "while cnt <= 50:\n",
    "    c1,c2 = np.random.uniform(low=-5,high=5,size=2)\n",
    "    plot.vector(c1*i + c2*j,\n",
    "                add_color='black',alpha=.2)\n",
    "    cnt += 1\n",
    "plot.show()"
   ]
  },
  {
   "cell_type": "markdown",
   "metadata": {},
   "source": [
    "As the figure above loosely demonstrates, a set of vectors **spans** a vector space if every vector in that vector space can be written as a linear combination of vectors from that set. A set of linearly independent vectors that span a vector space define a **basis** for that vector space. \n",
    "\n",
    "The reason why linear independence is so important is that we are interested in the minimum number of spanning vectors among a set of vectors, which tells us the dimension of that vector space. The **dimension** of a vector space is equal to the number of vectors in its basis."
   ]
  }
 ],
 "metadata": {
  "kernelspec": {
   "display_name": "Python 3",
   "language": "python",
   "name": "python3"
  },
  "language_info": {
   "codemirror_mode": {
    "name": "ipython",
    "version": 3
   },
   "file_extension": ".py",
   "mimetype": "text/x-python",
   "name": "python",
   "nbconvert_exporter": "python",
   "pygments_lexer": "ipython3",
   "version": "3.7.0"
  },
  "toc": {
   "base_numbering": 1,
   "nav_menu": {},
   "number_sections": false,
   "sideBar": true,
   "skip_h1_title": false,
   "title_cell": "Table of Contents",
   "title_sidebar": "Contents",
   "toc_cell": false,
   "toc_position": {
    "height": "calc(100% - 180px)",
    "left": "10px",
    "top": "150px",
    "width": "272.95px"
   },
   "toc_section_display": true,
   "toc_window_display": true
  }
 },
 "nbformat": 4,
 "nbformat_minor": 2
}
