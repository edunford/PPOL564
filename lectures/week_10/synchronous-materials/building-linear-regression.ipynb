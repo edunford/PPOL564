{
 "cells": [
  {
   "cell_type": "markdown",
   "metadata": {},
   "source": [
    "<h1><center> PPOL564 | Data Science 1: Foundations<br><br><font color='grey'> A Geometric Interpretation of Ordinary Least Squares Regression </font> </center><h1>"
   ]
  },
  {
   "cell_type": "markdown",
   "metadata": {},
   "source": [
    "### Concept:\n",
    "\n",
    "- Derive the linear model from scratch"
   ]
  },
  {
   "cell_type": "code",
   "execution_count": 1,
   "metadata": {},
   "outputs": [],
   "source": [
    "import numpy as np\n",
    "import numpy.linalg as la # Easily access the linear algebra api\n",
    "import pandas as pd\n",
    "import matplotlib.pyplot as plt\n",
    "import statsmodels.formula.api as smf"
   ]
  },
  {
   "cell_type": "markdown",
   "metadata": {},
   "source": [
    "## Generating Fake Data \n",
    "\n",
    "Let's generate some fake data where we know the true coefficient values. It's useful to know the population values when playing around with estimators because we can easily assess if our answers are correct or not."
   ]
  },
  {
   "cell_type": "code",
   "execution_count": 2,
   "metadata": {},
   "outputs": [],
   "source": [
    "np.random.seed(123)         # set seed to repoduce results\n",
    "N = 100                     # set sample size\n",
    "x = np.random.normal(0,1,N) # simulate a random variable\n",
    "e = np.random.normal(0,1,N) # simulate error\n",
    "y = 1 +  3*x + e            # generate some y that is a function of x and random error"
   ]
  },
  {
   "cell_type": "markdown",
   "metadata": {},
   "source": [
    "Combine $X$ in into a design matrix with a columns of ones, which we'll use to estimate the constant."
   ]
  },
  {
   "cell_type": "code",
   "execution_count": 3,
   "metadata": {},
   "outputs": [
    {
     "data": {
      "text/plain": [
       "array([[ 1.        ,  0.99734545],\n",
       "       [ 1.        ,  0.2829785 ],\n",
       "       [ 1.        , -1.50629471],\n",
       "       [ 1.        , -0.57860025]])"
      ]
     },
     "execution_count": 3,
     "metadata": {},
     "output_type": "execute_result"
    }
   ],
   "source": [
    "X  = np.vstack([np.ones(N),x]).T\n",
    "X[1:5,:]"
   ]
  },
  {
   "cell_type": "markdown",
   "metadata": {},
   "source": [
    "Plot the data to get a feel for what is going on."
   ]
  },
  {
   "cell_type": "code",
   "execution_count": 4,
   "metadata": {},
   "outputs": [
    {
     "data": {
      "image/png": "[encoded data removed]",
      "text/plain": [
       "<Figure size 1080x360 with 1 Axes>"
      ]
     },
     "metadata": {
      "needs_background": "light"
     },
     "output_type": "display_data"
    }
   ],
   "source": [
    "plt.figure(figsize=(15,5))\n",
    "plt.scatter(X[:,1],y)\n",
    "plt.show()"
   ]
  },
  {
   "cell_type": "markdown",
   "metadata": {},
   "source": [
    "# Geometric Interpretation of Linear Regression\n",
    "\n",
    "The following discussion will tie together what we've learned up to this point about linear algebra and apply it one of the most commonly used statistical learning model in our toolkit: linear regression."
   ]
  },
  {
   "cell_type": "markdown",
   "metadata": {},
   "source": [
    "## Design Matrix: Column Space of a Matrix of Explanatory Variables"
   ]
  },
  {
   "cell_type": "markdown",
   "metadata": {},
   "source": [
    "Say we had a some variables in matrix $\\textbf{X}$ that we wanted to use to predict some outcome $\\textbf{y}$. That is, we have some variables that we want use to help train a model to predict future values of some outcome, like housing prices or the number of crimes.\n",
    "\n",
    "$\\textbf{X}_{n\\times p}$ is a matrix with dimensions $n$ (the number of observations) and $p$ (the number of variables). We call this matrix a \"design matrix\". It holds all of the variables we intend to use in our prediction. \n",
    "\n",
    "First, as we've learned, if the column space of $\\textbf{X}$ &mdash; $C(\\textbf{X})$ &mdash; is of full rank (meaning each column vector is linearly independent) then we can think of $C(\\textbf{X})$ as spanning the space in $\\Re^p$ (which we'll represent for the sake of convenience as a two dimensional plane in $\\Re^2$)"
   ]
  },
  {
   "cell_type": "markdown",
   "metadata": {},
   "source": [
    "<img src=\"https://raw.githubusercontent.com/edunford/ppol564/master/lectures/week_10/synchronous-materials/figures/col-space-fig.png\" width=\"500\">"
   ]
  },
  {
   "cell_type": "markdown",
   "metadata": {},
   "source": [
    "## Outcome as a Vector "
   ]
  },
  {
   "cell_type": "markdown",
   "metadata": {},
   "source": [
    "As we've seen in previous lectures, our outcome variable can be represented as a column vector $\\vec{\\textbf{y}}$ with some magnitude and direction.\n",
    "\n",
    "The dimensions of this column vector are $\\textbf{y}_{n\\times 1}$, where $n$ corresponds with the number of observations. "
   ]
  },
  {
   "cell_type": "markdown",
   "metadata": {},
   "source": [
    "##  Using a linear combination of $\\textbf{X}_{n\\times p}$ to approximate $\\textbf{y}_{n\\times 1}$"
   ]
  },
  {
   "cell_type": "markdown",
   "metadata": {},
   "source": [
    "**_Our goal_** is to find a linear combination of the vectors in matrix $\\textbf{X}_{n\\times p}$ that yields $\\textbf{y}_{n\\times 1}$.\n",
    "\n",
    "However, there might not be enough information in $\\textbf{X}_{n\\times p}$ to do this. \n",
    "\n",
    "Put differently, $\\textbf{y}_{n\\times 1}$ could be thought of as shooting off the plane of $\\textbf{X}_{n\\times p}$. "
   ]
  },
  {
   "cell_type": "markdown",
   "metadata": {},
   "source": [
    "<img src=\"https://raw.githubusercontent.com/edunford/ppol564/master/lectures/week_10/synchronous-materials/figures/outcome-vec-fig.png\" width=\"500\">"
   ]
  },
  {
   "cell_type": "markdown",
   "metadata": {},
   "source": [
    "Given that we can't find a linear combination of $\\textbf{X}_{n\\times p}$ to get to   $\\textbf{y}_{n\\times 1}$. We can approximate the relationship by taking the **projection** of $\\textbf{y}_{n\\times 1}$ ( $\\hat{\\textbf{y}}$) on $C(\\textbf{X}_{n\\times p})$.\n",
    "\n",
    "This projection is going to be some **linear combination** of the column vectors of $\\textbf{X}$. Recall that we can get anywhere in the span of $\\textbf{X}$ by arbitrarily scaling and adding the linearly independent vectors.\n",
    "\n",
    "$$ c_1\\vec{x}_1 +  c_2\\vec{x}_2 + \\dots + c_p\\vec{x}_p $$\n",
    "\n",
    "We want to find the constants that generate the projection of $\\hat{\\textbf{y}}$. We'll call this vector $\\beta$."
   ]
  },
  {
   "cell_type": "markdown",
   "metadata": {},
   "source": [
    "## Finding $\\beta$"
   ]
  },
  {
   "cell_type": "markdown",
   "metadata": {},
   "source": [
    "Recall that to find the projection of $\\textbf{y}_{n\\times 1}$ onto $C(\\textbf{X}_{n\\times p})$, we need to shoot an **orthogonal vector** from our plane to the vector $\\textbf{y}_{n\\times 1}$. We'll call this vector $\\epsilon$. "
   ]
  },
  {
   "cell_type": "markdown",
   "metadata": {},
   "source": [
    "<img src=\"https://raw.githubusercontent.com/edunford/ppol564/master/lectures/week_10/synchronous-materials/figures/full-fig.png\" width=\"500\">"
   ]
  },
  {
   "cell_type": "markdown",
   "metadata": {},
   "source": [
    "Another way to think about $\\epsilon$ is that it is the distance between vectors $\\textbf{y}$ (the outcome) and $\\hat{\\textbf{y}}$ (our prediction).\n",
    "\n",
    "<br>\n",
    "<br>\n",
    "\n",
    "\\begin{equation}\n",
    "e_{n \\times 1} = \\textbf{y}_{n \\times 1} - \\hat{\\textbf{y}}_{n \\times 1}\n",
    "\\end{equation}\n",
    "\n",
    "<br>\n",
    "<br>\n",
    "\n",
    "Which we can re-express as\n",
    "\n",
    "<br>\n",
    "<br>\n",
    "\n",
    "\\begin{equation}\n",
    "e_{n \\times 1} = \\textbf{y} - \\textbf{X}\\beta\n",
    "\\end{equation}\n",
    "\n",
    "<br>\n",
    "<br>\n",
    "\n",
    "Recall that two vectors are **perpendicular (orthogonal) to one another when their dot products equal 0**. \n",
    "\n",
    "> Do you recall why?\n",
    "\n",
    "We want $\\epsilon$ epsilon to be orthogonal to the span of $\\textbf{X}_{n\\times p}$. Note that we must transpose $\\textbf{X}_{n\\times p}$ to multiply it by $\\epsilon_{n\\times 1}$\n",
    "\n",
    "<br>\n",
    "<br>\n",
    "\n",
    "\\begin{equation}\n",
    "\\textbf{X}_{p \\times n}^T \\cdot e_{n \\times 1} = 0\n",
    "\\end{equation}\n",
    "\n",
    "<br>\n",
    "<br>\n",
    "\n",
    "Now, let's rearrange so that we can isolate our vector $\\beta$, which will yield the equation for $\\beta$.\n",
    "\n",
    "<br>\n",
    "<br>\n",
    "\n",
    "\\begin{equation}\n",
    "\\textbf{X}_{p \\times n}^T  \\cdot ( \\textbf{y}_{n \\times 1} - \\textbf{X}_{n \\times p} \\beta_{p \\times 1} ) = 0\n",
    "\\end{equation}\n",
    "\n",
    "<br>\n",
    "<br>\n",
    "\n",
    "\\begin{equation}\n",
    "\\textbf{X}_{p \\times n}^T \\textbf{y}_{n \\times 1} - \\textbf{X}_{p \\times n}^T \\textbf{X}_{n \\times p} \\beta_{p \\times 1} = 0\n",
    "\\end{equation}\n",
    "\n",
    "<br>\n",
    "<br>\n",
    "\n",
    "\\begin{equation}\n",
    "\\textbf{X}_{p \\times n}^T \\textbf{y}_{n \\times 1} = \\textbf{X}_{p \\times n}^T \\textbf{X}_{n \\times p} \\beta_{p \\times 1}\n",
    "\\end{equation}\n",
    "\n",
    "<br>\n",
    "<br>\n",
    "\n",
    "\\begin{equation}\n",
    "(\\textbf{X}_{p \\times n}^T \\textbf{X}_{n \\times p})^{-1} \\textbf{X}_{p \\times n}^T \\textbf{y}_{n \\times 1} = \\beta_{p \\times 1}\n",
    "\\end{equation}\n",
    "\n",
    "\n",
    "<br>\n",
    "<br>\n",
    "\n",
    "This provides a formula to find our constants for the linear combination of $\\textbf{X}$ that generates our projection $\\hat{\\textbf{y}}$\n",
    "\n",
    "<br>\n",
    "<br>\n",
    "\n",
    "$$ \\beta = (\\textbf{X}^T \\textbf{X})^{-1} \\textbf{X}^T \\textbf{y}$$\n",
    "\n",
    "<br>\n",
    "<br>"
   ]
  },
  {
   "cell_type": "code",
   "execution_count": 5,
   "metadata": {},
   "outputs": [
    {
     "data": {
      "text/plain": [
       "array([0.98091425, 2.98340745])"
      ]
     },
     "execution_count": 5,
     "metadata": {},
     "output_type": "execute_result"
    }
   ],
   "source": [
    "B = la.inv(X.T.dot(X)).dot(X.T.dot(y))\n",
    "B"
   ]
  },
  {
   "cell_type": "markdown",
   "metadata": {},
   "source": [
    "## Generating a prediction ( $\\hat{\\textbf{y}}$ )\n",
    "\n",
    "We can now generate a projection of $\\textbf{y}$ by dotting the vector $\\beta$ by $\\textbf{X}$.\n",
    "\n",
    "$$ \\hat{\\textbf{y}}_{n \\times p} = \\textbf{X}_{n \\times p} \\cdot \\beta_{p \\times 1}$$"
   ]
  },
  {
   "cell_type": "code",
   "execution_count": 6,
   "metadata": {},
   "outputs": [],
   "source": [
    "y_hat = X.dot(B)"
   ]
  },
  {
   "cell_type": "markdown",
   "metadata": {},
   "source": [
    "Let's plot this line through the data. As we see, we produced a linear fit. In fact, we produced the best linear fit. One that minimizes the sum of the squared error."
   ]
  },
  {
   "cell_type": "code",
   "execution_count": 7,
   "metadata": {},
   "outputs": [
    {
     "data": {
      "image/png": "[encoded data removed]",
      "text/plain": [
       "<Figure size 1080x360 with 1 Axes>"
      ]
     },
     "metadata": {
      "needs_background": "light"
     },
     "output_type": "display_data"
    }
   ],
   "source": [
    "plt.figure(figsize=(15,5))\n",
    "plt.scatter(X[:,1],y)\n",
    "plt.plot(X[:,1],y_hat,color=\"orange\")\n",
    "plt.show()"
   ]
  },
  {
   "cell_type": "markdown",
   "metadata": {},
   "source": [
    "## What is $e$? \n",
    "\n",
    "It's our error! We can think of it as the distance between our approximation of $\\textbf{y}$ and the actual observed $\\textbf{y}$. Can you see why $\\epsilon$ minimizes the squared distance? \n",
    "\n",
    "Recall that we can get a vectors squared length by dotting the vector by itself.\n",
    "\n",
    "<br>\n",
    "<br>\n",
    "\n",
    "$$ e_{1 \\times n}^T \\cdot e_{n \\times 1} = ||e||^2$$\n",
    "\n",
    "<br>\n",
    "<br>\n",
    "\n",
    "When $\\epsilon$ is orthogonal to $\\textbf{X}$ we're minimizing the length of $\\epsilon$. Any other (non-orthogonal) vector would have a greater length than our current vector $\\epsilon$. Consider the many grey lines below. Each one has an angle greater or less than 90 degrees, and each has a length longer than the orange line."
   ]
  },
  {
   "cell_type": "markdown",
   "metadata": {},
   "source": [
    "<img src=\"figures/alt-epsilon-fig.png\" width=\"400\">"
   ]
  },
  {
   "cell_type": "code",
   "execution_count": 8,
   "metadata": {},
   "outputs": [],
   "source": [
    "e = y - y_hat"
   ]
  },
  {
   "cell_type": "markdown",
   "metadata": {},
   "source": [
    "Note that when we plot the values of $e$ we can see that they are normally distributed with mean of 0. This is a key assumption of the linear model. "
   ]
  },
  {
   "cell_type": "code",
   "execution_count": 9,
   "metadata": {},
   "outputs": [
    {
     "data": {
      "image/png": "[encoded data removed]",
      "text/plain": [
       "<Figure size 504x360 with 1 Axes>"
      ]
     },
     "metadata": {
      "needs_background": "light"
     },
     "output_type": "display_data"
    }
   ],
   "source": [
    "plt.figure(figsize=(7,5))\n",
    "plt.hist(e,alpha=.6,bins=10)\n",
    "plt.show()"
   ]
  },
  {
   "cell_type": "code",
   "execution_count": 10,
   "metadata": {},
   "outputs": [
    {
     "data": {
      "text/plain": [
       "-0.0"
      ]
     },
     "execution_count": 10,
     "metadata": {},
     "output_type": "execute_result"
    }
   ],
   "source": [
    "e.mean().round(2)"
   ]
  },
  {
   "cell_type": "markdown",
   "metadata": {},
   "source": [
    "## Assessing Fit: Mean Squared Error"
   ]
  },
  {
   "cell_type": "markdown",
   "metadata": {},
   "source": [
    "With the above in mind, we can evaluate the fit of the model by examining the **mean squared error**. When comparing different models (and algorithms), a model with less error fits the data than a model with more error.\n",
    "\n",
    "Recall that we defined mean squared error last week as:\n",
    "\n",
    "$$MSE = \\frac{\\sum_{i=1}^N (y_i - \\hat{y}_i)^2 }{N}$$"
   ]
  },
  {
   "cell_type": "markdown",
   "metadata": {},
   "source": [
    "We can use dotting the error vector with itself tells use the length of the error (i.e. squared error), if we then divide this by the number of observations, we get the mean squared error.\n",
    "\n",
    "$$MSE = \\frac{e^T\\cdot e}{N}$$"
   ]
  },
  {
   "cell_type": "code",
   "execution_count": 11,
   "metadata": {},
   "outputs": [
    {
     "data": {
      "text/plain": [
       "0.9406535118757604"
      ]
     },
     "execution_count": 11,
     "metadata": {},
     "output_type": "execute_result"
    }
   ],
   "source": [
    "(e.T.dot(e))/N"
   ]
  },
  {
   "cell_type": "code",
   "execution_count": 12,
   "metadata": {},
   "outputs": [
    {
     "data": {
      "text/plain": [
       "0.940653511875761"
      ]
     },
     "execution_count": 12,
     "metadata": {},
     "output_type": "execute_result"
    }
   ],
   "source": [
    "# Compare this to the first equation\n",
    "sum((y - y_hat)**2)/N"
   ]
  },
  {
   "cell_type": "markdown",
   "metadata": {},
   "source": [
    "## Assessing Fit: $R^2$"
   ]
  },
  {
   "cell_type": "markdown",
   "metadata": {},
   "source": [
    "Recall a projection is really a scaled down version of the vector being projected (e.g. $y$, the outcome vector). Keeping this in mind, there is an intuitive way to think of the model fit. \n",
    "\n",
    "\n",
    "\n",
    "We'll first need to center our outcome and prediction variables. \n",
    "\n",
    "<br>\n",
    "<br>\n",
    "\n",
    "$$\\textbf{y}^* = \\textbf{y}-\\bar{y}$$ \n",
    "\n",
    "$$\\hat{\\textbf{y}}^* = \\hat{\\textbf{y}} - \\bar{\\hat{y}}$$\n",
    "\n",
    "<br>\n",
    "<br>\n",
    "\n",
    "We can take the length of the projection and divided it by the length of the observed vector. \n",
    "\n",
    "<br>\n",
    "<br>\n",
    "\n",
    "$$ \\frac{||\\hat{\\textbf{y}}^*||^2}{||\\textbf{y}^* ||^2} $$\n",
    "\n",
    "<br>\n",
    "<br>\n",
    "\n",
    "If the lengths are the same, then this ratio will equal 1 &mdash; that is, if $\\textbf{y}$ lands on the plane created by $C(\\textbf{X})$, then our projection and $\\textbf{y}$ are equivalent (i.e. $\\textbf{y}$ is a linear dependent on $C(\\textbf{X})$). \n",
    "\n",
    "If the $\\textbf{y}$ doesn't project onto $C(\\textbf{X})$) at all then this ratio will equal 0 (meaning that all $C(\\textbf{X})$ is completely orthogonal to our outcome vector $\\textbf{y}$).\n",
    "\n",
    "This ratio is our **R-Squared**, which we use to assess model fit."
   ]
  },
  {
   "cell_type": "code",
   "execution_count": 13,
   "metadata": {},
   "outputs": [
    {
     "data": {
      "text/plain": [
       "0.9233409734326696"
      ]
     },
     "execution_count": 13,
     "metadata": {},
     "output_type": "execute_result"
    }
   ],
   "source": [
    "y_hat_center = y_hat - y_hat.mean()\n",
    "y_center = y - y.mean()\n",
    "\n",
    "# R Squared\n",
    "r_squared = y_hat_center.dot(y_hat_center)/y_center.dot(y_center)\n",
    "r_squared"
   ]
  },
  {
   "cell_type": "markdown",
   "metadata": {},
   "source": [
    "An alternative specification of $R^2$ uses the length of the error vector instead.\n",
    "\n",
    "<br>\n",
    "<br>\n",
    "\n",
    "$$ 1- \\frac{||\\hat{ e }||^2}{||\\textbf{y}^* ||^2}$$\n",
    "\n",
    "<br>\n",
    "<br>"
   ]
  },
  {
   "cell_type": "code",
   "execution_count": 14,
   "metadata": {},
   "outputs": [
    {
     "data": {
      "text/plain": [
       "0.9233409734326684"
      ]
     },
     "execution_count": 14,
     "metadata": {},
     "output_type": "execute_result"
    }
   ],
   "source": [
    "1 - (e.dot(e)/y_center.dot(y_center))"
   ]
  },
  {
   "cell_type": "markdown",
   "metadata": {},
   "source": [
    "## Calculating Uncertainty\n",
    "\n",
    "Calculating the uncertainty in our estimates of $\\beta$ relies on the Gauss-Markov assumptions and some manipulations of the resulting equations. (We won't not cover these in class, but see [here](https://web.stanford.edu/~mrosenfe/soc_meth_proj3/matrix_OLS_NYU_notes.pdf) for more details on how these estimates are derived and why they are unbiased given the assumptions). That said, let's think through how to calculate the uncertainty. \n",
    "\n",
    "Recall that our orthogonal vector $\\textbf{e}$ is the error in the model. \n",
    "\n",
    "We can calculate our estimate of uncertainty by taking the length of $\\textbf{e}$ and dividing it by our sample size $N$ adjusted for our degrees of freedom (i.e. the number of parameters we had $p$). \n",
    "\n",
    "<br>\n",
    "<br>\n",
    "\n",
    "$$\\hat{\\sigma}^2 = \\frac{||e||^2}{n-p}   = \\frac{e^T\\cdot e}{n-p}  $$\n",
    "\n",
    "<br>\n",
    "<br>\n",
    "\n",
    "This will provide use with a scalar that we'll then apply to our matrix of explanatory variables to calculate the **standard error** of our coefficients $\\beta$.\n",
    "\n",
    "<br>\n",
    "<br>\n",
    "\n",
    "$$ cov(\\beta) = \\hat{\\sigma}^2 (\\textbf{X}^T \\textbf{X})^{-1} $$\n",
    "\n",
    "\n",
    "<br>\n",
    "<br>\n",
    "\n",
    "$$ D = diag(cov(\\beta)) $$\n",
    "\n",
    "<br>\n",
    "<br>\n",
    "\n",
    "$$ se(\\beta) = \\sqrt{D} $$\n",
    "\n",
    "\n",
    "<br>\n",
    "<br>\n"
   ]
  },
  {
   "cell_type": "code",
   "execution_count": 15,
   "metadata": {},
   "outputs": [
    {
     "data": {
      "text/plain": [
       "0.9598505223222045"
      ]
     },
     "execution_count": 15,
     "metadata": {},
     "output_type": "execute_result"
    }
   ],
   "source": [
    "# Let's calculate the uncertainty\n",
    "n = X.shape[0]\n",
    "p = X.shape[1]\n",
    "sigma2 = e.T.dot(e)/(n-p)\n",
    "sigma2"
   ]
  },
  {
   "cell_type": "code",
   "execution_count": 16,
   "metadata": {},
   "outputs": [
    {
     "data": {
      "text/plain": [
       "array([[ 0.00960405, -0.00020442],\n",
       "       [-0.00020442,  0.0075405 ]])"
      ]
     },
     "execution_count": 16,
     "metadata": {},
     "output_type": "execute_result"
    }
   ],
   "source": [
    "cov_B = sigma2*la.inv(X.T.dot(X))\n",
    "cov_B"
   ]
  },
  {
   "cell_type": "code",
   "execution_count": 17,
   "metadata": {},
   "outputs": [
    {
     "data": {
      "text/plain": [
       "array([0.00960405, 0.0075405 ])"
      ]
     },
     "execution_count": 17,
     "metadata": {},
     "output_type": "execute_result"
    }
   ],
   "source": [
    "D = cov_B.diagonal()\n",
    "D"
   ]
  },
  {
   "cell_type": "code",
   "execution_count": 18,
   "metadata": {},
   "outputs": [
    {
     "data": {
      "text/plain": [
       "array([0.09800024, 0.08683606])"
      ]
     },
     "execution_count": 18,
     "metadata": {},
     "output_type": "execute_result"
    }
   ],
   "source": [
    "se = np.sqrt(D)\n",
    "se"
   ]
  },
  {
   "cell_type": "markdown",
   "metadata": {},
   "source": [
    "### How did we do?\n",
    "\n",
    "Let's compare our calculations those yielded by the `statsmodels` module, which can estimate a range of statistical models for us in Python."
   ]
  },
  {
   "cell_type": "code",
   "execution_count": 19,
   "metadata": {},
   "outputs": [
    {
     "name": "stdout",
     "output_type": "stream",
     "text": [
      "\n",
      "Our Manually Generated Values:\n",
      "\n",
      "    Intercept: 0.9809 (0.098)\n",
      "            x: 2.9834 (0.087)\n",
      "\n",
      "    R-Squared: 0.923\n",
      "\n"
     ]
    }
   ],
   "source": [
    "# Use \n",
    "\n",
    "print(f'''\n",
    "Our Manually Generated Values:\n",
    "\n",
    "    Intercept: {B[0].round(4)} ({se[0].round(3)})\n",
    "            x: {B[1].round(4)} ({se[1].round(3)})\n",
    "\n",
    "    R-Squared: {r_squared.round(3)}\n",
    "''')"
   ]
  },
  {
   "cell_type": "code",
   "execution_count": 20,
   "metadata": {},
   "outputs": [
    {
     "name": "stderr",
     "output_type": "stream",
     "text": [
      "/Library/Frameworks/Python.framework/Versions/3.7/lib/python3.7/site-packages/statsmodels/compat/pandas.py:49: FutureWarning: The Panel class is removed from pandas. Accessing it from the top-level namespace will also be removed in the next version\n",
      "  data_klasses = (pandas.Series, pandas.DataFrame, pandas.Panel)\n"
     ]
    },
    {
     "data": {
      "text/html": [
       "<table class=\"simpletable\">\n",
       "<caption>OLS Regression Results</caption>\n",
       "<tr>\n",
       "  <th>Dep. Variable:</th>            <td>y</td>        <th>  R-squared:         </th> <td>   0.923</td>\n",
       "</tr>\n",
       "<tr>\n",
       "  <th>Model:</th>                   <td>OLS</td>       <th>  Adj. R-squared:    </th> <td>   0.923</td>\n",
       "</tr>\n",
       "<tr>\n",
       "  <th>Method:</th>             <td>Least Squares</td>  <th>  F-statistic:       </th> <td>   1180.</td>\n",
       "</tr>\n",
       "<tr>\n",
       "  <th>Date:</th>             <td>Mon, 28 Sep 2020</td> <th>  Prob (F-statistic):</th> <td>1.84e-56</td>\n",
       "</tr>\n",
       "<tr>\n",
       "  <th>Time:</th>                 <td>13:15:21</td>     <th>  Log-Likelihood:    </th> <td> -138.83</td>\n",
       "</tr>\n",
       "<tr>\n",
       "  <th>No. Observations:</th>      <td>   100</td>      <th>  AIC:               </th> <td>   281.7</td>\n",
       "</tr>\n",
       "<tr>\n",
       "  <th>Df Residuals:</th>          <td>    98</td>      <th>  BIC:               </th> <td>   286.9</td>\n",
       "</tr>\n",
       "<tr>\n",
       "  <th>Df Model:</th>              <td>     1</td>      <th>                     </th>     <td> </td>   \n",
       "</tr>\n",
       "<tr>\n",
       "  <th>Covariance Type:</th>      <td>nonrobust</td>    <th>                     </th>     <td> </td>   \n",
       "</tr>\n",
       "</table>\n",
       "<table class=\"simpletable\">\n",
       "<tr>\n",
       "      <td></td>         <th>coef</th>     <th>std err</th>      <th>t</th>      <th>P>|t|</th>  <th>[0.025</th>    <th>0.975]</th>  \n",
       "</tr>\n",
       "<tr>\n",
       "  <th>Intercept</th> <td>    0.9809</td> <td>    0.098</td> <td>   10.009</td> <td> 0.000</td> <td>    0.786</td> <td>    1.175</td>\n",
       "</tr>\n",
       "<tr>\n",
       "  <th>x</th>         <td>    2.9834</td> <td>    0.087</td> <td>   34.357</td> <td> 0.000</td> <td>    2.811</td> <td>    3.156</td>\n",
       "</tr>\n",
       "</table>\n",
       "<table class=\"simpletable\">\n",
       "<tr>\n",
       "  <th>Omnibus:</th>       <td> 5.027</td> <th>  Durbin-Watson:     </th> <td>   1.860</td>\n",
       "</tr>\n",
       "<tr>\n",
       "  <th>Prob(Omnibus):</th> <td> 0.081</td> <th>  Jarque-Bera (JB):  </th> <td>   5.131</td>\n",
       "</tr>\n",
       "<tr>\n",
       "  <th>Skew:</th>          <td>-0.308</td> <th>  Prob(JB):          </th> <td>  0.0769</td>\n",
       "</tr>\n",
       "<tr>\n",
       "  <th>Kurtosis:</th>      <td> 3.924</td> <th>  Cond. No.          </th> <td>    1.13</td>\n",
       "</tr>\n",
       "</table><br/><br/>Warnings:<br/>[1] Standard Errors assume that the covariance matrix of the errors is correctly specified."
      ],
      "text/plain": [
       "<class 'statsmodels.iolib.summary.Summary'>\n",
       "\"\"\"\n",
       "                            OLS Regression Results                            \n",
       "==============================================================================\n",
       "Dep. Variable:                      y   R-squared:                       0.923\n",
       "Model:                            OLS   Adj. R-squared:                  0.923\n",
       "Method:                 Least Squares   F-statistic:                     1180.\n",
       "Date:                Mon, 28 Sep 2020   Prob (F-statistic):           1.84e-56\n",
       "Time:                        13:15:21   Log-Likelihood:                -138.83\n",
       "No. Observations:                 100   AIC:                             281.7\n",
       "Df Residuals:                      98   BIC:                             286.9\n",
       "Df Model:                           1                                         \n",
       "Covariance Type:            nonrobust                                         \n",
       "==============================================================================\n",
       "                 coef    std err          t      P>|t|      [0.025      0.975]\n",
       "------------------------------------------------------------------------------\n",
       "Intercept      0.9809      0.098     10.009      0.000       0.786       1.175\n",
       "x              2.9834      0.087     34.357      0.000       2.811       3.156\n",
       "==============================================================================\n",
       "Omnibus:                        5.027   Durbin-Watson:                   1.860\n",
       "Prob(Omnibus):                  0.081   Jarque-Bera (JB):                5.131\n",
       "Skew:                          -0.308   Prob(JB):                       0.0769\n",
       "Kurtosis:                       3.924   Cond. No.                         1.13\n",
       "==============================================================================\n",
       "\n",
       "Warnings:\n",
       "[1] Standard Errors assume that the covariance matrix of the errors is correctly specified.\n",
       "\"\"\""
      ]
     },
     "execution_count": 20,
     "metadata": {},
     "output_type": "execute_result"
    }
   ],
   "source": [
    "model = smf.ols('y ~ x', data=pd.DataFrame(dict(y=y,x=X[:,1]))).fit()\n",
    "model.summary()"
   ]
  },
  {
   "cell_type": "code",
   "execution_count": null,
   "metadata": {},
   "outputs": [],
   "source": []
  }
 ],
 "metadata": {
  "kernelspec": {
   "display_name": "Python 3",
   "language": "python",
   "name": "python3"
  },
  "language_info": {
   "codemirror_mode": {
    "name": "ipython",
    "version": 3
   },
   "file_extension": ".py",
   "mimetype": "text/x-python",
   "name": "python",
   "nbconvert_exporter": "python",
   "pygments_lexer": "ipython3",
   "version": "3.7.0"
  },
  "toc": {
   "base_numbering": 1,
   "nav_menu": {},
   "number_sections": false,
   "sideBar": true,
   "skip_h1_title": false,
   "title_cell": "Table of Contents",
   "title_sidebar": "Contents",
   "toc_cell": false,
   "toc_position": {
    "height": "calc(100% - 180px)",
    "left": "10px",
    "top": "150px",
    "width": "272.95px"
   },
   "toc_section_display": true,
   "toc_window_display": true
  }
 },
 "nbformat": 4,
 "nbformat_minor": 2
}
