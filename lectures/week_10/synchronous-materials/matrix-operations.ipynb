{
 "cells": [
  {
   "cell_type": "markdown",
   "metadata": {},
   "source": [
    "<h1><center> PPOLS564: Foundations of Data Science<br><br><font color='grey'> Matrix Operations </font> </center><h1>"
   ]
  },
  {
   "cell_type": "markdown",
   "metadata": {},
   "source": [
    "# Concepts:\n",
    "\n",
    "- Recap \n",
    "    - Matrix Multiplication \n",
    "    - Matrix Addition & Subtraction \n",
    "- Transposing Matrices\n",
    "- Different Types of Matrices"
   ]
  },
  {
   "cell_type": "code",
   "execution_count": 1,
   "metadata": {},
   "outputs": [],
   "source": [
    "import numpy as np"
   ]
  },
  {
   "cell_type": "markdown",
   "metadata": {},
   "source": [
    "# Multiplying Matrices"
   ]
  },
  {
   "cell_type": "markdown",
   "metadata": {},
   "source": [
    "Matrix multiplication can be thought of as a transformation/function. \n",
    "\n",
    "<br> \n",
    "\n",
    "$$f(\\vec{x}) = \\textbf{A}\\vec{x}$$"
   ]
  },
  {
   "cell_type": "code",
   "execution_count": 2,
   "metadata": {},
   "outputs": [],
   "source": [
    "# an arbitrary vector in R^2\n",
    "x = np.array([1,2])\n",
    "\n",
    "# a function that transforms the vector\n",
    "def f(x): \n",
    "    return np.array([x[0] - x[1],3*x[1]])\n",
    "\n",
    "# a matrix that performs the same transformation\n",
    "A = np.array([[ 1., -1.],[ 0.,  3.]])"
   ]
  },
  {
   "cell_type": "code",
   "execution_count": 3,
   "metadata": {},
   "outputs": [
    {
     "data": {
      "text/plain": [
       "array([-1,  6])"
      ]
     },
     "execution_count": 3,
     "metadata": {},
     "output_type": "execute_result"
    }
   ],
   "source": [
    "f(x)"
   ]
  },
  {
   "cell_type": "code",
   "execution_count": 4,
   "metadata": {},
   "outputs": [
    {
     "data": {
      "text/plain": [
       "array([-1.,  6.])"
      ]
     },
     "execution_count": 4,
     "metadata": {},
     "output_type": "execute_result"
    }
   ],
   "source": [
    "A.dot(x)"
   ]
  },
  {
   "cell_type": "markdown",
   "metadata": {},
   "source": [
    "Multiplying matrices is equivalent to nesting two functions.\n",
    "\n",
    "<br>\n",
    "<br>\n",
    "\n",
    "$$ f(g(\\vec{x}_{2x1})) = \\textbf{A}_{2x2}\\textbf{B}_{2x2}  \\vec{x}_{2x1} = \\vec{z}_{2x1}$$\n",
    "\n",
    "<br>\n",
    "<br>\n",
    "\n",
    "That is, it's the same as performing the operation independently. \n",
    "\n",
    "<br>\n",
    "<br>\n",
    "\n",
    "$$ \\textbf{B}_{2x2}\\vec{x} = \\vec{y}_{2x1}$$\n",
    "\n",
    "$$ \\textbf{A}_{2x2}\\vec{y} = \\vec{z}_{2x1}$$\n",
    "\n",
    "<br>\n",
    "<br>\n",
    "\n",
    "Which is the same as \n",
    "\n",
    "<br>\n",
    "<br>\n",
    "\n",
    "$$ g(\\vec{x}_{2x1}) = \\vec{y}_{2x1}$$\n",
    "\n",
    "$$ f(\\vec{y}_{2x1}) = \\vec{z}_{2x1} $$\n",
    "\n",
    "\n",
    "<br>\n",
    "<br>\n",
    "\n",
    "\n",
    "That is, we transform $\\vec{x}$ by $\\textbf{B}$ and then transform that resulting vector by $\\textbf{A}$ much as we would with the nested function $f(g(\\vec{x}))$. "
   ]
  },
  {
   "cell_type": "code",
   "execution_count": 5,
   "metadata": {},
   "outputs": [
    {
     "data": {
      "text/plain": [
       "array([[-3. ,  1. ],\n",
       "       [ 0.5,  2.3]])"
      ]
     },
     "execution_count": 5,
     "metadata": {},
     "output_type": "execute_result"
    }
   ],
   "source": [
    "B = np.array([[-3. ,  1. ],[ 0.5,  2.3]])\n",
    "B"
   ]
  },
  {
   "cell_type": "code",
   "execution_count": 6,
   "metadata": {},
   "outputs": [
    {
     "data": {
      "text/plain": [
       "array([-6.1, 15.3])"
      ]
     },
     "execution_count": 6,
     "metadata": {},
     "output_type": "execute_result"
    }
   ],
   "source": [
    "# Multiplying to conforming matrices and then multiplying the vector\n",
    "A.dot(B.dot(x))"
   ]
  },
  {
   "cell_type": "code",
   "execution_count": 7,
   "metadata": {},
   "outputs": [
    {
     "data": {
      "text/plain": [
       "array([-6.1, 15.3])"
      ]
     },
     "execution_count": 7,
     "metadata": {},
     "output_type": "execute_result"
    }
   ],
   "source": [
    "# Is the same as doing each step independently\n",
    "y = B.dot(x)\n",
    "z = A.dot(y)\n",
    "z"
   ]
  },
  {
   "cell_type": "markdown",
   "metadata": {},
   "source": [
    "# Properties of Matrix Multiplication "
   ]
  },
  {
   "cell_type": "markdown",
   "metadata": {},
   "source": [
    "~~**COMMUNITIVE**~~\n",
    "\n",
    "$$ \\textbf{A} \\textbf{B} \\ne \\textbf{B} \\textbf{A}  $$  \n",
    "\n",
    "\n",
    "**ASSOCIATIVE**\n",
    "\n",
    "$$(\\textbf{A} \\textbf{B}) \\textbf{C} = \\textbf{A} (\\textbf{B} \\textbf{C}) = \\textbf{A} \\textbf{B} \\textbf{C} $$\n",
    "\n",
    "\n",
    "**DISTRIBUTIVE**\n",
    "\n",
    "$$\\textbf{A}(\\textbf{B} + \\textbf{C}) = \\textbf{A}\\textbf{B} + \\textbf{A}\\textbf{C}$$\n",
    "\n",
    "But remember it's not communicative, so order matters!"
   ]
  },
  {
   "cell_type": "markdown",
   "metadata": {},
   "source": [
    "# Matrix Addition and Substitution\n",
    "\n",
    "Much like vectors, multiply and adding vectors is done so element-wise."
   ]
  },
  {
   "cell_type": "markdown",
   "metadata": {},
   "source": [
    "$$\\textbf{B}_{3x2} = \n",
    "                    \\begin{bmatrix} 2 & 1 \\\\ \n",
    "                                    -1 & -2 \\\\\n",
    "                                    4 & 3 \\\\\n",
    "                     \\end{bmatrix} $$\n",
    "\n",
    "$$\\textbf{C}_{3x2} = \n",
    "                    \\begin{bmatrix} 1 & 2 \\\\ \n",
    "                                    -2 & 1 \\\\\n",
    "                                    2 & 1 \\\\\n",
    "                     \\end{bmatrix} $$"
   ]
  },
  {
   "cell_type": "code",
   "execution_count": 8,
   "metadata": {},
   "outputs": [
    {
     "data": {
      "text/plain": [
       "array([[ 2,  1],\n",
       "       [-1, -2],\n",
       "       [ 4,  3]])"
      ]
     },
     "execution_count": 8,
     "metadata": {},
     "output_type": "execute_result"
    }
   ],
   "source": [
    "B = np.array([[2,1],[-1,-2],[4,3]])\n",
    "B"
   ]
  },
  {
   "cell_type": "code",
   "execution_count": 9,
   "metadata": {},
   "outputs": [
    {
     "data": {
      "text/plain": [
       "array([[ 1,  2],\n",
       "       [-2,  1],\n",
       "       [ 2,  1]])"
      ]
     },
     "execution_count": 9,
     "metadata": {},
     "output_type": "execute_result"
    }
   ],
   "source": [
    "C = np.array([[1,2],[-2,1],[2,1]])\n",
    "C"
   ]
  },
  {
   "cell_type": "markdown",
   "metadata": {},
   "source": [
    "### Addition \n",
    "$$ \\textbf{B}_{3x2} + \\textbf{C}_{3x2} $$\n",
    "\n",
    "\n",
    "$$   \\begin{bmatrix} 2 & 1 \\\\ \n",
    "                                    -1 & -2 \\\\\n",
    "                                    4 & 3 \\\\\n",
    "                     \\end{bmatrix} +  \\begin{bmatrix} 1 & 2 \\\\ \n",
    "                                    -2 & 1 \\\\\n",
    "                                    2 & 1 \\\\\n",
    "                     \\end{bmatrix} $$\n",
    "                     \n",
    "                     \n",
    "$$  \\begin{bmatrix} 2 + 1 & 1 + 2 \\\\ \n",
    "                                   -1 + -2 & -2 + 1 \\\\\n",
    "                                    4 + 2& 3 + 1\\\\\n",
    "                     \\end{bmatrix} $$  \n",
    "                     \n",
    "                     \n",
    "$$  \\begin{bmatrix} 3 & 3 \\\\ \n",
    "                   -3 & -1 \\\\\n",
    "                    6 & 4\\\\\n",
    "    \\end{bmatrix} $$                       "
   ]
  },
  {
   "cell_type": "code",
   "execution_count": 10,
   "metadata": {},
   "outputs": [
    {
     "data": {
      "text/plain": [
       "array([[ 3,  3],\n",
       "       [-3, -1],\n",
       "       [ 6,  4]])"
      ]
     },
     "execution_count": 10,
     "metadata": {},
     "output_type": "execute_result"
    }
   ],
   "source": [
    "B + C"
   ]
  },
  {
   "cell_type": "markdown",
   "metadata": {},
   "source": [
    "### Subtraction \n",
    "$$ \\textbf{B}_{3x2} + \\textbf{C}_{3x2} $$\n",
    "\n",
    "\n",
    "$$   \\begin{bmatrix} 2 & 1 \\\\ \n",
    "                                    -1 & -2 \\\\\n",
    "                                    4 & 3 \\\\\n",
    "                     \\end{bmatrix} +  \\begin{bmatrix} 1 & 2 \\\\ \n",
    "                                    -2 & 1 \\\\\n",
    "                                    2 & 1 \\\\\n",
    "                     \\end{bmatrix} $$\n",
    "                     \n",
    "                     \n",
    "$$  \\begin{bmatrix} 2 - 1 & 1 - 2 \\\\ \n",
    "                                   -1 - -2 & -2 - 1 \\\\\n",
    "                                    4 - 2& 3 - 1\\\\\n",
    "                     \\end{bmatrix} $$  \n",
    "                     \n",
    "                     \n",
    "$$  \\begin{bmatrix} 1 & -1 \\\\ \n",
    "                    1 & -3 \\\\\n",
    "                    2 & 2\\\\\n",
    "    \\end{bmatrix} $$                       "
   ]
  },
  {
   "cell_type": "code",
   "execution_count": 11,
   "metadata": {},
   "outputs": [
    {
     "data": {
      "text/plain": [
       "array([[ 1, -1],\n",
       "       [ 1, -3],\n",
       "       [ 2,  2]])"
      ]
     },
     "execution_count": 11,
     "metadata": {},
     "output_type": "execute_result"
    }
   ],
   "source": [
    "B - C"
   ]
  },
  {
   "cell_type": "markdown",
   "metadata": {},
   "source": [
    "#### Must have corresponding elements"
   ]
  },
  {
   "cell_type": "code",
   "execution_count": 12,
   "metadata": {},
   "outputs": [
    {
     "data": {
      "text/plain": [
       "array([[1, 2],\n",
       "       [2, 4]])"
      ]
     },
     "execution_count": 12,
     "metadata": {},
     "output_type": "execute_result"
    }
   ],
   "source": [
    "D = np.array([[1,2],[2,4]])\n",
    "D"
   ]
  },
  {
   "cell_type": "code",
   "execution_count": 13,
   "metadata": {},
   "outputs": [
    {
     "ename": "ValueError",
     "evalue": "operands could not be broadcast together with shapes (3,2) (2,2) ",
     "output_type": "error",
     "traceback": [
      "\u001b[0;31m---------------------------------------------------------------------------\u001b[0m",
      "\u001b[0;31mValueError\u001b[0m                                Traceback (most recent call last)",
      "\u001b[0;32m<ipython-input-13-7135e4a29578>\u001b[0m in \u001b[0;36m<module>\u001b[0;34m()\u001b[0m\n\u001b[0;32m----> 1\u001b[0;31m \u001b[0mB\u001b[0m \u001b[0;34m-\u001b[0m \u001b[0mD\u001b[0m\u001b[0;34m\u001b[0m\u001b[0m\n\u001b[0m",
      "\u001b[0;31mValueError\u001b[0m: operands could not be broadcast together with shapes (3,2) (2,2) "
     ]
    }
   ],
   "source": [
    "B - D"
   ]
  },
  {
   "cell_type": "markdown",
   "metadata": {},
   "source": [
    "# Transposing a Matrix\n",
    "\n",
    "\n",
    "$$\\textbf{A}_{2x3} = \\begin{bmatrix} a_{11} & a_{12} & a_{13}  \\\\ \n",
    "                                     a_{21}  & a_{22} & a_{23} \\\\\n",
    "                     \\end{bmatrix} $$\n",
    "                     \n",
    "                     \n",
    "\n",
    "$$\\textbf{A}^T_{3x2} = \\begin{bmatrix} a_{11} & a_{12} \\\\ \n",
    "                                       a_{21}  & a_{22}\\\\\n",
    "                                       a_{31}  & a_{32}\\\\\n",
    "                     \\end{bmatrix} $$"
   ]
  },
  {
   "cell_type": "code",
   "execution_count": null,
   "metadata": {},
   "outputs": [],
   "source": [
    "A = np.array([[1,2,3],\n",
    "             [4,5,6]])\n",
    "A"
   ]
  },
  {
   "cell_type": "code",
   "execution_count": null,
   "metadata": {},
   "outputs": [],
   "source": [
    "A.T"
   ]
  },
  {
   "cell_type": "markdown",
   "metadata": {},
   "source": [
    "### Properties\n",
    "\n",
    "$$ (\\textbf{A}^T)^T = A $$\n",
    "\n",
    "$$ (\\textbf{A} + \\textbf{B})^T = \\textbf{A}^T + \\textbf{B}^T $$\n",
    "\n",
    "$$ (c\\textbf{A})^T = cA^T $$\n",
    "\n",
    "$$ (\\textbf{A}\\textbf{B})^T = \\textbf{A}^T \\textbf{B}^T $$"
   ]
  },
  {
   "cell_type": "markdown",
   "metadata": {},
   "source": [
    "## \"Squaring\" a matrix: Sum of Squares\n",
    "\n",
    "Recall that to multiply two matrices, their rows and columns must correspond. We can manufacture this condition by taking the dot product of a matrix transposed with itself."
   ]
  },
  {
   "cell_type": "code",
   "execution_count": 14,
   "metadata": {},
   "outputs": [
    {
     "data": {
      "text/plain": [
       "array([[ 1., -1.],\n",
       "       [ 0.,  3.]])"
      ]
     },
     "execution_count": 14,
     "metadata": {},
     "output_type": "execute_result"
    }
   ],
   "source": [
    "A"
   ]
  },
  {
   "cell_type": "code",
   "execution_count": 15,
   "metadata": {},
   "outputs": [
    {
     "data": {
      "text/plain": [
       "array([[ 1.,  0.],\n",
       "       [-1.,  3.]])"
      ]
     },
     "execution_count": 15,
     "metadata": {},
     "output_type": "execute_result"
    }
   ],
   "source": [
    "At = A.T\n",
    "At"
   ]
  },
  {
   "cell_type": "code",
   "execution_count": 16,
   "metadata": {},
   "outputs": [
    {
     "data": {
      "text/plain": [
       "array([[ 2., -3.],\n",
       "       [-3.,  9.]])"
      ]
     },
     "execution_count": 16,
     "metadata": {},
     "output_type": "execute_result"
    }
   ],
   "source": [
    "A.dot(At)"
   ]
  },
  {
   "cell_type": "code",
   "execution_count": 17,
   "metadata": {},
   "outputs": [
    {
     "data": {
      "text/plain": [
       "array([[ 1., -1.],\n",
       "       [-1., 10.]])"
      ]
     },
     "execution_count": 17,
     "metadata": {},
     "output_type": "execute_result"
    }
   ],
   "source": [
    "At.dot(A)"
   ]
  },
  {
   "cell_type": "markdown",
   "metadata": {},
   "source": [
    "What is going on here?"
   ]
  },
  {
   "cell_type": "markdown",
   "metadata": {},
   "source": [
    "<br>\n",
    "<br>\n",
    "\n",
    "$$ \\textbf{A}_{2x3} \\textbf{A}^T_{3x2} $$\n",
    "\n",
    "<br>\n",
    "<br>\n",
    "\n",
    "$$\\begin{bmatrix} a_{11} & a_{12} & a_{13}  \\\\ \n",
    "                                     a_{21}  & a_{22} & a_{23} \\\\\n",
    "                     \\end{bmatrix} \n",
    "                     \\begin{bmatrix} a_{11} & a_{12} \\\\ \n",
    "                                       a_{21}  & a_{22}\\\\\n",
    "                                       a_{31}  & a_{32}\\\\\n",
    "                     \\end{bmatrix} $$\n",
    "\n",
    "<br>\n",
    "<br>\n",
    "\n",
    "$$  \\begin{bmatrix} a_{11}a_{11} + a_{12}a_{21}  + a_{13}a_{31} &  a_{11}a_{11}  + a_{12}a_{21} + a_{13}a_{31}\\\\ \n",
    "                    a_{21}a_{11}  + a_{22}a_{21} + a_{23}a_{31} &  a_{21}a_{12}  + a_{22}a_{22} + a_{23}a_{32}\\\\\n",
    "    \\end{bmatrix}  $$  \n",
    "    \n",
    "<br>\n",
    "<br>\n",
    "\n",
    "$$  \\begin{bmatrix}a & b\\\\ \n",
    "                   c & d\\\\\n",
    "    \\end{bmatrix}  $$      \n",
    "    \n",
    "<br>\n",
    "<br>\n",
    "    \n",
    "With numbers this time ...    \n",
    "\n",
    "\n",
    "<br>\n",
    "<br>\n",
    "\n",
    "$$\\begin{bmatrix} 1 & 2 & 3  \\\\ \n",
    "                   4  & 5 & 6 \\\\\n",
    "                     \\end{bmatrix} \n",
    "                     \\begin{bmatrix} 1 & 4\\\\ \n",
    "                                       2  & 5\\\\\n",
    "                                       3  & 6\\\\\n",
    "                     \\end{bmatrix} $$\n",
    "                     \n",
    "<br>\n",
    "<br>\n",
    "                     \n",
    "$$  \\begin{bmatrix} 1(1) + (2)(2) + (3)(3) &  1(4) + 2(5) + 3(6)\\\\ \n",
    "                    4(1) + 5(2) + 3(6) &  4(4) + (5)(5) + (6)(6)\\\\\n",
    "    \\end{bmatrix}  $$     \n",
    "    \n",
    "<br>\n",
    "<br>\n",
    "    \n",
    "$$  \\begin{bmatrix}14 &  32\\\\ \n",
    "                    32&  77\\\\\n",
    "    \\end{bmatrix}  $$  \n",
    "    \n",
    "<br>\n",
    "<br>\n",
    "    \n",
    "Given what we know about vector dot products...\n",
    "\n",
    "<br>\n",
    "<br>\n",
    "\n",
    "$$  \\begin{bmatrix}\n",
    "    length &  projection\\\\ \n",
    "    projection &  length\\\\\n",
    "    \\end{bmatrix}  $$  \n",
    "    \n",
    "<br>\n",
    "<br>"
   ]
  },
  {
   "cell_type": "markdown",
   "metadata": {},
   "source": [
    "In other words, a matrix dotted by its transpose generates a sum of squares. "
   ]
  },
  {
   "cell_type": "code",
   "execution_count": 18,
   "metadata": {},
   "outputs": [
    {
     "data": {
      "text/plain": [
       "array([[ 16,   0],\n",
       "       [  0, 289]])"
      ]
     },
     "execution_count": 18,
     "metadata": {},
     "output_type": "execute_result"
    }
   ],
   "source": [
    "# Consider what the squared matrix would look like if the\n",
    "# colunn vectors are orthogonal\n",
    "\n",
    "G = np.array([[4,0],\n",
    "              [0,17]])\n",
    "\n",
    "\n",
    "# They don't project onto one another. \n",
    "G.dot(G.T)"
   ]
  },
  {
   "cell_type": "markdown",
   "metadata": {},
   "source": [
    "# Different Types of Matrices"
   ]
  },
  {
   "cell_type": "code",
   "execution_count": 19,
   "metadata": {},
   "outputs": [
    {
     "data": {
      "text/plain": [
       "array([[-0.5, -0.4, -0. , -0.7, -0.7],\n",
       "       [ 0.6,  1.5, -2.1,  0.8, -0.8],\n",
       "       [ 1.6, -0.4,  0.9,  0.8, -0.8],\n",
       "       [ 0.2,  0.3,  1. , -0.9,  0.6],\n",
       "       [ 0.7,  0.1,  0.4,  0. ,  0.7]])"
      ]
     },
     "execution_count": 19,
     "metadata": {},
     "output_type": "execute_result"
    }
   ],
   "source": [
    "X = np.random.randn(25).reshape(5,5).round(1)\n",
    "X"
   ]
  },
  {
   "cell_type": "markdown",
   "metadata": {},
   "source": [
    "### Symmetric Matrices"
   ]
  },
  {
   "cell_type": "code",
   "execution_count": 20,
   "metadata": {},
   "outputs": [
    {
     "data": {
      "text/plain": [
       "array([[ 1.4, -0.9, -0.6, -0. , -0.9],\n",
       "       [-0.9,  8.3, -0.2, -2.7, -0.8],\n",
       "       [-0.6, -0.2,  4.8, -0.1,  0.9],\n",
       "       [-0. , -2.7, -0.1,  2.3,  1. ],\n",
       "       [-0.9, -0.8,  0.9,  1. ,  1.2]])"
      ]
     },
     "execution_count": 20,
     "metadata": {},
     "output_type": "execute_result"
    }
   ],
   "source": [
    "X.dot(X.T).round(1)"
   ]
  },
  {
   "cell_type": "markdown",
   "metadata": {},
   "source": [
    "### Upper Triangle Matrices"
   ]
  },
  {
   "cell_type": "code",
   "execution_count": 21,
   "metadata": {},
   "outputs": [
    {
     "data": {
      "text/plain": [
       "array([[-0.5, -0.4, -0. , -0.7, -0.7],\n",
       "       [ 0. ,  1.5, -2.1,  0.8, -0.8],\n",
       "       [ 0. ,  0. ,  0.9,  0.8, -0.8],\n",
       "       [ 0. ,  0. ,  0. , -0.9,  0.6],\n",
       "       [ 0. ,  0. ,  0. ,  0. ,  0.7]])"
      ]
     },
     "execution_count": 21,
     "metadata": {},
     "output_type": "execute_result"
    }
   ],
   "source": [
    "np.triu(X)"
   ]
  },
  {
   "cell_type": "markdown",
   "metadata": {},
   "source": [
    "### Lower Triangle Matrices"
   ]
  },
  {
   "cell_type": "code",
   "execution_count": 22,
   "metadata": {},
   "outputs": [
    {
     "data": {
      "text/plain": [
       "array([[-0.5,  0. ,  0. ,  0. ,  0. ],\n",
       "       [ 0.6,  1.5,  0. ,  0. ,  0. ],\n",
       "       [ 1.6, -0.4,  0.9,  0. ,  0. ],\n",
       "       [ 0.2,  0.3,  1. , -0.9,  0. ],\n",
       "       [ 0.7,  0.1,  0.4,  0. ,  0.7]])"
      ]
     },
     "execution_count": 22,
     "metadata": {},
     "output_type": "execute_result"
    }
   ],
   "source": [
    "# Lower Triangle\n",
    "np.tril(X)"
   ]
  },
  {
   "cell_type": "markdown",
   "metadata": {},
   "source": [
    "### Diagonal Matrices"
   ]
  },
  {
   "cell_type": "code",
   "execution_count": 23,
   "metadata": {},
   "outputs": [
    {
     "data": {
      "text/plain": [
       "array([[ 4,  0,  0,  0],\n",
       "       [ 0,  2,  0,  0],\n",
       "       [ 0,  0, 10,  0],\n",
       "       [ 0,  0,  0, -1]])"
      ]
     },
     "execution_count": 23,
     "metadata": {},
     "output_type": "execute_result"
    }
   ],
   "source": [
    "np.diag(np.array([4,2,10,-1]))"
   ]
  },
  {
   "cell_type": "markdown",
   "metadata": {},
   "source": [
    "### Zero Matrices"
   ]
  },
  {
   "cell_type": "code",
   "execution_count": 24,
   "metadata": {},
   "outputs": [
    {
     "data": {
      "text/plain": [
       "array([[0., 0., 0., 0., 0.],\n",
       "       [0., 0., 0., 0., 0.],\n",
       "       [0., 0., 0., 0., 0.],\n",
       "       [0., 0., 0., 0., 0.],\n",
       "       [0., 0., 0., 0., 0.]])"
      ]
     },
     "execution_count": 24,
     "metadata": {},
     "output_type": "execute_result"
    }
   ],
   "source": [
    "np.zeros((5,5))"
   ]
  },
  {
   "cell_type": "markdown",
   "metadata": {},
   "source": [
    "### Idempotent Matrices\n",
    "\n",
    "A matrix that when multiplied with itself yields itself. "
   ]
  },
  {
   "cell_type": "code",
   "execution_count": 25,
   "metadata": {},
   "outputs": [
    {
     "data": {
      "text/plain": [
       "array([[ 2, -2, -4],\n",
       "       [-1,  3,  4],\n",
       "       [ 1, -2, -3]])"
      ]
     },
     "execution_count": 25,
     "metadata": {},
     "output_type": "execute_result"
    }
   ],
   "source": [
    "P = np.array([[2,-2,-4],[-1,3,4],[1,-2,-3]])\n",
    "P"
   ]
  },
  {
   "cell_type": "code",
   "execution_count": 26,
   "metadata": {},
   "outputs": [
    {
     "data": {
      "text/plain": [
       "array([[ 2, -2, -4],\n",
       "       [-1,  3,  4],\n",
       "       [ 1, -2, -3]])"
      ]
     },
     "execution_count": 26,
     "metadata": {},
     "output_type": "execute_result"
    }
   ],
   "source": [
    "P.dot(P)"
   ]
  },
  {
   "cell_type": "markdown",
   "metadata": {},
   "source": [
    "### Identity Matrix"
   ]
  },
  {
   "cell_type": "code",
   "execution_count": 27,
   "metadata": {},
   "outputs": [
    {
     "data": {
      "text/plain": [
       "array([[1., 0., 0., 0., 0.],\n",
       "       [0., 1., 0., 0., 0.],\n",
       "       [0., 0., 1., 0., 0.],\n",
       "       [0., 0., 0., 1., 0.],\n",
       "       [0., 0., 0., 0., 1.]])"
      ]
     },
     "execution_count": 27,
     "metadata": {},
     "output_type": "execute_result"
    }
   ],
   "source": [
    "I = np.eye(5)\n",
    "I"
   ]
  },
  {
   "cell_type": "markdown",
   "metadata": {},
   "source": [
    "Note that an identity matrix is also a diagonal and idempotent matrix."
   ]
  },
  {
   "cell_type": "code",
   "execution_count": 28,
   "metadata": {},
   "outputs": [
    {
     "data": {
      "text/plain": [
       "array([[1., 0., 0., 0., 0.],\n",
       "       [0., 1., 0., 0., 0.],\n",
       "       [0., 0., 1., 0., 0.],\n",
       "       [0., 0., 0., 1., 0.],\n",
       "       [0., 0., 0., 0., 1.]])"
      ]
     },
     "execution_count": 28,
     "metadata": {},
     "output_type": "execute_result"
    }
   ],
   "source": [
    "I.dot(I)"
   ]
  },
  {
   "cell_type": "markdown",
   "metadata": {},
   "source": [
    "A matrix multiplied by by the identity matrix returns the original matrix."
   ]
  },
  {
   "cell_type": "code",
   "execution_count": 29,
   "metadata": {},
   "outputs": [
    {
     "data": {
      "text/plain": [
       "array([[-0.5, -0.4,  0. , -0.7, -0.7],\n",
       "       [ 0.6,  1.5, -2.1,  0.8, -0.8],\n",
       "       [ 1.6, -0.4,  0.9,  0.8, -0.8],\n",
       "       [ 0.2,  0.3,  1. , -0.9,  0.6],\n",
       "       [ 0.7,  0.1,  0.4,  0. ,  0.7]])"
      ]
     },
     "execution_count": 29,
     "metadata": {},
     "output_type": "execute_result"
    }
   ],
   "source": [
    "I.dot(X)"
   ]
  },
  {
   "cell_type": "markdown",
   "metadata": {},
   "source": [
    "### Sparse Matrices"
   ]
  },
  {
   "cell_type": "code",
   "execution_count": 30,
   "metadata": {},
   "outputs": [
    {
     "data": {
      "text/plain": [
       "array([[0., 0., 0., 0., 0., 0., 0., 0., 0., 0.],\n",
       "       [0., 1., 0., 0., 0., 0., 0., 0., 0., 0.],\n",
       "       [0., 1., 0., 0., 0., 0., 0., 0., 0., 0.],\n",
       "       [0., 0., 0., 0., 0., 0., 0., 0., 0., 0.],\n",
       "       [0., 0., 0., 0., 0., 1., 0., 0., 0., 0.],\n",
       "       [0., 0., 0., 0., 0., 1., 0., 0., 0., 0.],\n",
       "       [0., 0., 0., 1., 0., 0., 0., 0., 0., 0.],\n",
       "       [0., 0., 0., 0., 0., 0., 0., 0., 0., 0.],\n",
       "       [0., 0., 0., 0., 0., 0., 0., 0., 0., 0.],\n",
       "       [0., 0., 0., 0., 0., 0., 0., 0., 0., 0.]])"
      ]
     },
     "execution_count": 30,
     "metadata": {},
     "output_type": "execute_result"
    }
   ],
   "source": [
    "X = np.zeros((10,10))\n",
    "X[[1,4,6,5,2],[1,5,3,5,1]] = 1\n",
    "X"
   ]
  },
  {
   "cell_type": "code",
   "execution_count": 31,
   "metadata": {},
   "outputs": [
    {
     "data": {
      "text/plain": [
       "(array([1, 2, 4, 5, 6]), array([1, 1, 5, 5, 3]))"
      ]
     },
     "execution_count": 31,
     "metadata": {},
     "output_type": "execute_result"
    }
   ],
   "source": [
    "np.nonzero(X)"
   ]
  },
  {
   "cell_type": "markdown",
   "metadata": {},
   "source": [
    "Save as an adjacency list"
   ]
  },
  {
   "cell_type": "code",
   "execution_count": 32,
   "metadata": {},
   "outputs": [
    {
     "name": "stdout",
     "output_type": "stream",
     "text": [
      "  (1, 1)\t1.0\n",
      "  (2, 1)\t1.0\n",
      "  (6, 3)\t1.0\n",
      "  (4, 5)\t1.0\n",
      "  (5, 5)\t1.0\n"
     ]
    }
   ],
   "source": [
    "from scipy import sparse\n",
    "print(sparse.csc_matrix(X))"
   ]
  }
 ],
 "metadata": {
  "kernelspec": {
   "display_name": "Python 3",
   "language": "python",
   "name": "python3"
  },
  "language_info": {
   "codemirror_mode": {
    "name": "ipython",
    "version": 3
   },
   "file_extension": ".py",
   "mimetype": "text/x-python",
   "name": "python",
   "nbconvert_exporter": "python",
   "pygments_lexer": "ipython3",
   "version": "3.7.0"
  },
  "toc": {
   "base_numbering": 1,
   "nav_menu": {},
   "number_sections": false,
   "sideBar": false,
   "skip_h1_title": false,
   "title_cell": "Table of Contents",
   "title_sidebar": "Contents",
   "toc_cell": false,
   "toc_position": {},
   "toc_section_display": true,
   "toc_window_display": false
  }
 },
 "nbformat": 4,
 "nbformat_minor": 2
}
