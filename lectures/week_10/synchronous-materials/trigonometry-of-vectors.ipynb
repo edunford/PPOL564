{
 "cells": [
  {
   "cell_type": "markdown",
   "metadata": {},
   "source": [
    "<h1><center> PPOL564 - Data Science I: Foundations<br><br><font color='grey'> \n",
    "Trigonometry of Vectors </font> </center><h1>"
   ]
  },
  {
   "cell_type": "markdown",
   "metadata": {},
   "source": [
    "# Concepts:\n",
    "\n",
    "- Vector Dot Product\n",
    "- Orthogonality\n",
    "- Projection\n",
    "- Normalizing vectors\n",
    "- Example: comparing the texts\n",
    "\n",
    "### Note\n",
    "\n",
    "In the following lectures, we'll delve into exploring linear algebra. Note that I'll be using some original code to help generate some interactive visualizes for some concepts. To use this code yourself, the `bokeh` module must be installed on your machine.\n",
    "\n",
    "```!pip install bokeh```"
   ]
  },
  {
   "cell_type": "code",
   "execution_count": 1,
   "metadata": {},
   "outputs": [
    {
     "data": {
      "text/html": [
       "\n",
       "    <div class=\"bk-root\">\n",
       "        <a href=\"https://bokeh.org\" target=\"_blank\" class=\"bk-logo bk-logo-small bk-logo-notebook\"></a>\n",
       "        <span id=\"1001\">Loading BokehJS ...</span>\n",
       "    </div>"
      ]
     },
     "metadata": {},
     "output_type": "display_data"
    },
    {
     "data": {
      "application/javascript": [
       "\n",
       "(function(root) {\n",
       "  function now() {\n",
       "    return new Date();\n",
       "  }\n",
       "\n",
       "  var force = true;\n",
       "\n",
       "  if (typeof root._bokeh_onload_callbacks === \"undefined\" || force === true) {\n",
       "    root._bokeh_onload_callbacks = [];\n",
       "    root._bokeh_is_loading = undefined;\n",
       "  }\n",
       "\n",
       "  var JS_MIME_TYPE = 'application/javascript';\n",
       "  var HTML_MIME_TYPE = 'text/html';\n",
       "  var EXEC_MIME_TYPE = 'application/vnd.bokehjs_exec.v0+json';\n",
       "  var CLASS_NAME = 'output_bokeh rendered_html';\n",
       "\n",
       "  /**\n",
       "   * Render data to the DOM node\n",
       "   */\n",
       "  function render(props, node) {\n",
       "    var script = document.createElement(\"script\");\n",
       "    node.appendChild(script);\n",
       "  }\n",
       "\n",
       "  /**\n",
       "   * Handle when an output is cleared or removed\n",
       "   */\n",
       "  function handleClearOutput(event, handle) {\n",
       "    var cell = handle.cell;\n",
       "\n",
       "    var id = cell.output_area._bokeh_element_id;\n",
       "    var server_id = cell.output_area._bokeh_server_id;\n",
       "    // Clean up Bokeh references\n",
       "    if (id != null && id in Bokeh.index) {\n",
       "      Bokeh.index[id].model.document.clear();\n",
       "      delete Bokeh.index[id];\n",
       "    }\n",
       "\n",
       "    if (server_id !== undefined) {\n",
       "      // Clean up Bokeh references\n",
       "      var cmd = \"from bokeh.io.state import curstate; print(curstate().uuid_to_server['\" + server_id + \"'].get_sessions()[0].document.roots[0]._id)\";\n",
       "      cell.notebook.kernel.execute(cmd, {\n",
       "        iopub: {\n",
       "          output: function(msg) {\n",
       "            var id = msg.content.text.trim();\n",
       "            if (id in Bokeh.index) {\n",
       "              Bokeh.index[id].model.document.clear();\n",
       "              delete Bokeh.index[id];\n",
       "            }\n",
       "          }\n",
       "        }\n",
       "      });\n",
       "      // Destroy server and session\n",
       "      var cmd = \"import bokeh.io.notebook as ion; ion.destroy_server('\" + server_id + \"')\";\n",
       "      cell.notebook.kernel.execute(cmd);\n",
       "    }\n",
       "  }\n",
       "\n",
       "  /**\n",
       "   * Handle when a new output is added\n",
       "   */\n",
       "  function handleAddOutput(event, handle) {\n",
       "    var output_area = handle.output_area;\n",
       "    var output = handle.output;\n",
       "\n",
       "    // limit handleAddOutput to display_data with EXEC_MIME_TYPE content only\n",
       "    if ((output.output_type != \"display_data\") || (!output.data.hasOwnProperty(EXEC_MIME_TYPE))) {\n",
       "      return\n",
       "    }\n",
       "\n",
       "    var toinsert = output_area.element.find(\".\" + CLASS_NAME.split(' ')[0]);\n",
       "\n",
       "    if (output.metadata[EXEC_MIME_TYPE][\"id\"] !== undefined) {\n",
       "      toinsert[toinsert.length - 1].firstChild.textContent = output.data[JS_MIME_TYPE];\n",
       "      // store reference to embed id on output_area\n",
       "      output_area._bokeh_element_id = output.metadata[EXEC_MIME_TYPE][\"id\"];\n",
       "    }\n",
       "    if (output.metadata[EXEC_MIME_TYPE][\"server_id\"] !== undefined) {\n",
       "      var bk_div = document.createElement(\"div\");\n",
       "      bk_div.innerHTML = output.data[HTML_MIME_TYPE];\n",
       "      var script_attrs = bk_div.children[0].attributes;\n",
       "      for (var i = 0; i < script_attrs.length; i++) {\n",
       "        toinsert[toinsert.length - 1].firstChild.setAttribute(script_attrs[i].name, script_attrs[i].value);\n",
       "        toinsert[toinsert.length - 1].firstChild.textContent = bk_div.children[0].textContent\n",
       "      }\n",
       "      // store reference to server id on output_area\n",
       "      output_area._bokeh_server_id = output.metadata[EXEC_MIME_TYPE][\"server_id\"];\n",
       "    }\n",
       "  }\n",
       "\n",
       "  function register_renderer(events, OutputArea) {\n",
       "\n",
       "    function append_mime(data, metadata, element) {\n",
       "      // create a DOM node to render to\n",
       "      var toinsert = this.create_output_subarea(\n",
       "        metadata,\n",
       "        CLASS_NAME,\n",
       "        EXEC_MIME_TYPE\n",
       "      );\n",
       "      this.keyboard_manager.register_events(toinsert);\n",
       "      // Render to node\n",
       "      var props = {data: data, metadata: metadata[EXEC_MIME_TYPE]};\n",
       "      render(props, toinsert[toinsert.length - 1]);\n",
       "      element.append(toinsert);\n",
       "      return toinsert\n",
       "    }\n",
       "\n",
       "    /* Handle when an output is cleared or removed */\n",
       "    events.on('clear_output.CodeCell', handleClearOutput);\n",
       "    events.on('delete.Cell', handleClearOutput);\n",
       "\n",
       "    /* Handle when a new output is added */\n",
       "    events.on('output_added.OutputArea', handleAddOutput);\n",
       "\n",
       "    /**\n",
       "     * Register the mime type and append_mime function with output_area\n",
       "     */\n",
       "    OutputArea.prototype.register_mime_type(EXEC_MIME_TYPE, append_mime, {\n",
       "      /* Is output safe? */\n",
       "      safe: true,\n",
       "      /* Index of renderer in `output_area.display_order` */\n",
       "      index: 0\n",
       "    });\n",
       "  }\n",
       "\n",
       "  // register the mime type if in Jupyter Notebook environment and previously unregistered\n",
       "  if (root.Jupyter !== undefined) {\n",
       "    var events = require('base/js/events');\n",
       "    var OutputArea = require('notebook/js/outputarea').OutputArea;\n",
       "\n",
       "    if (OutputArea.prototype.mime_types().indexOf(EXEC_MIME_TYPE) == -1) {\n",
       "      register_renderer(events, OutputArea);\n",
       "    }\n",
       "  }\n",
       "\n",
       "  \n",
       "  if (typeof (root._bokeh_timeout) === \"undefined\" || force === true) {\n",
       "    root._bokeh_timeout = Date.now() + 5000;\n",
       "    root._bokeh_failed_load = false;\n",
       "  }\n",
       "\n",
       "  var NB_LOAD_WARNING = {'data': {'text/html':\n",
       "     \"<div style='background-color: #fdd'>\\n\"+\n",
       "     \"<p>\\n\"+\n",
       "     \"BokehJS does not appear to have successfully loaded. If loading BokehJS from CDN, this \\n\"+\n",
       "     \"may be due to a slow or bad network connection. Possible fixes:\\n\"+\n",
       "     \"</p>\\n\"+\n",
       "     \"<ul>\\n\"+\n",
       "     \"<li>re-rerun `output_notebook()` to attempt to load from CDN again, or</li>\\n\"+\n",
       "     \"<li>use INLINE resources instead, as so:</li>\\n\"+\n",
       "     \"</ul>\\n\"+\n",
       "     \"<code>\\n\"+\n",
       "     \"from bokeh.resources import INLINE\\n\"+\n",
       "     \"output_notebook(resources=INLINE)\\n\"+\n",
       "     \"</code>\\n\"+\n",
       "     \"</div>\"}};\n",
       "\n",
       "  function display_loaded() {\n",
       "    var el = document.getElementById(\"1001\");\n",
       "    if (el != null) {\n",
       "      el.textContent = \"BokehJS is loading...\";\n",
       "    }\n",
       "    if (root.Bokeh !== undefined) {\n",
       "      if (el != null) {\n",
       "        el.textContent = \"BokehJS \" + root.Bokeh.version + \" successfully loaded.\";\n",
       "      }\n",
       "    } else if (Date.now() < root._bokeh_timeout) {\n",
       "      setTimeout(display_loaded, 100)\n",
       "    }\n",
       "  }\n",
       "\n",
       "\n",
       "  function run_callbacks() {\n",
       "    try {\n",
       "      root._bokeh_onload_callbacks.forEach(function(callback) {\n",
       "        if (callback != null)\n",
       "          callback();\n",
       "      });\n",
       "    } finally {\n",
       "      delete root._bokeh_onload_callbacks\n",
       "    }\n",
       "    console.debug(\"Bokeh: all callbacks have finished\");\n",
       "  }\n",
       "\n",
       "  function load_libs(css_urls, js_urls, callback) {\n",
       "    if (css_urls == null) css_urls = [];\n",
       "    if (js_urls == null) js_urls = [];\n",
       "\n",
       "    root._bokeh_onload_callbacks.push(callback);\n",
       "    if (root._bokeh_is_loading > 0) {\n",
       "      console.debug(\"Bokeh: BokehJS is being loaded, scheduling callback at\", now());\n",
       "      return null;\n",
       "    }\n",
       "    if (js_urls == null || js_urls.length === 0) {\n",
       "      run_callbacks();\n",
       "      return null;\n",
       "    }\n",
       "    console.debug(\"Bokeh: BokehJS not loaded, scheduling load and callback at\", now());\n",
       "    root._bokeh_is_loading = css_urls.length + js_urls.length;\n",
       "\n",
       "    function on_load() {\n",
       "      root._bokeh_is_loading--;\n",
       "      if (root._bokeh_is_loading === 0) {\n",
       "        console.debug(\"Bokeh: all BokehJS libraries/stylesheets loaded\");\n",
       "        run_callbacks()\n",
       "      }\n",
       "    }\n",
       "\n",
       "    function on_error() {\n",
       "      console.error(\"failed to load \" + url);\n",
       "    }\n",
       "\n",
       "    for (var i = 0; i < css_urls.length; i++) {\n",
       "      var url = css_urls[i];\n",
       "      const element = document.createElement(\"link\");\n",
       "      element.onload = on_load;\n",
       "      element.onerror = on_error;\n",
       "      element.rel = \"stylesheet\";\n",
       "      element.type = \"text/css\";\n",
       "      element.href = url;\n",
       "      console.debug(\"Bokeh: injecting link tag for BokehJS stylesheet: \", url);\n",
       "      document.body.appendChild(element);\n",
       "    }\n",
       "\n",
       "    const hashes = {\"https://cdn.bokeh.org/bokeh/release/bokeh-2.0.1.min.js\": \"JpP8FXbgAZLkfur7LiK3j9AGBhHNIvF742meBJrjO2ShJDhCG2I1uVvW+0DUtrmc\", \"https://cdn.bokeh.org/bokeh/release/bokeh-widgets-2.0.1.min.js\": \"xZlADit0Q04ISQEdKg2k3L4W9AwQBAuDs9nJL9fM/WwzL1tEU9VPNezOFX0nLEAz\", \"https://cdn.bokeh.org/bokeh/release/bokeh-tables-2.0.1.min.js\": \"4BuPRZkdMKSnj3zoxiNrQ86XgNw0rYmBOxe7nshquXwwcauupgBF2DHLVG1WuZlV\", \"https://cdn.bokeh.org/bokeh/release/bokeh-gl-2.0.1.min.js\": \"Dv1SQ87hmDqK6S5OhBf0bCuwAEvL5QYL0PuR/F1SPVhCS/r/abjkbpKDYL2zeM19\"};\n",
       "\n",
       "    for (var i = 0; i < js_urls.length; i++) {\n",
       "      var url = js_urls[i];\n",
       "      var element = document.createElement('script');\n",
       "      element.onload = on_load;\n",
       "      element.onerror = on_error;\n",
       "      element.async = false;\n",
       "      element.src = url;\n",
       "      if (url in hashes) {\n",
       "        element.crossOrigin = \"anonymous\";\n",
       "        element.integrity = \"sha384-\" + hashes[url];\n",
       "      }\n",
       "      console.debug(\"Bokeh: injecting script tag for BokehJS library: \", url);\n",
       "      document.head.appendChild(element);\n",
       "    }\n",
       "  };var element = document.getElementById(\"1001\");\n",
       "  if (element == null) {\n",
       "    console.error(\"Bokeh: ERROR: autoload.js configured with elementid '1001' but no matching script tag was found. \")\n",
       "    return false;\n",
       "  }\n",
       "\n",
       "  function inject_raw_css(css) {\n",
       "    const element = document.createElement(\"style\");\n",
       "    element.appendChild(document.createTextNode(css));\n",
       "    document.body.appendChild(element);\n",
       "  }\n",
       "\n",
       "  \n",
       "  var js_urls = [\"https://cdn.bokeh.org/bokeh/release/bokeh-2.0.1.min.js\", \"https://cdn.bokeh.org/bokeh/release/bokeh-widgets-2.0.1.min.js\", \"https://cdn.bokeh.org/bokeh/release/bokeh-tables-2.0.1.min.js\", \"https://cdn.bokeh.org/bokeh/release/bokeh-gl-2.0.1.min.js\"];\n",
       "  var css_urls = [];\n",
       "  \n",
       "\n",
       "  var inline_js = [\n",
       "    function(Bokeh) {\n",
       "      Bokeh.set_log_level(\"info\");\n",
       "    },\n",
       "    function(Bokeh) {\n",
       "    \n",
       "    \n",
       "    }\n",
       "  ];\n",
       "\n",
       "  function run_inline_js() {\n",
       "    \n",
       "    if (root.Bokeh !== undefined || force === true) {\n",
       "      \n",
       "    for (var i = 0; i < inline_js.length; i++) {\n",
       "      inline_js[i].call(root, root.Bokeh);\n",
       "    }\n",
       "    if (force === true) {\n",
       "        display_loaded();\n",
       "      }} else if (Date.now() < root._bokeh_timeout) {\n",
       "      setTimeout(run_inline_js, 100);\n",
       "    } else if (!root._bokeh_failed_load) {\n",
       "      console.log(\"Bokeh: BokehJS failed to load within specified timeout.\");\n",
       "      root._bokeh_failed_load = true;\n",
       "    } else if (force !== true) {\n",
       "      var cell = $(document.getElementById(\"1001\")).parents('.cell').data().cell;\n",
       "      cell.output_area.append_execute_result(NB_LOAD_WARNING)\n",
       "    }\n",
       "\n",
       "  }\n",
       "\n",
       "  if (root._bokeh_is_loading === 0) {\n",
       "    console.debug(\"Bokeh: BokehJS loaded, going straight to plotting\");\n",
       "    run_inline_js();\n",
       "  } else {\n",
       "    load_libs(css_urls, js_urls, function() {\n",
       "      console.debug(\"Bokeh: BokehJS plotting callback run at\", now());\n",
       "      run_inline_js();\n",
       "    });\n",
       "  }\n",
       "}(window));"
      ],
      "application/vnd.bokehjs_load.v0+json": "\n(function(root) {\n  function now() {\n    return new Date();\n  }\n\n  var force = true;\n\n  if (typeof root._bokeh_onload_callbacks === \"undefined\" || force === true) {\n    root._bokeh_onload_callbacks = [];\n    root._bokeh_is_loading = undefined;\n  }\n\n  \n\n  \n  if (typeof (root._bokeh_timeout) === \"undefined\" || force === true) {\n    root._bokeh_timeout = Date.now() + 5000;\n    root._bokeh_failed_load = false;\n  }\n\n  var NB_LOAD_WARNING = {'data': {'text/html':\n     \"<div style='background-color: #fdd'>\\n\"+\n     \"<p>\\n\"+\n     \"BokehJS does not appear to have successfully loaded. If loading BokehJS from CDN, this \\n\"+\n     \"may be due to a slow or bad network connection. Possible fixes:\\n\"+\n     \"</p>\\n\"+\n     \"<ul>\\n\"+\n     \"<li>re-rerun `output_notebook()` to attempt to load from CDN again, or</li>\\n\"+\n     \"<li>use INLINE resources instead, as so:</li>\\n\"+\n     \"</ul>\\n\"+\n     \"<code>\\n\"+\n     \"from bokeh.resources import INLINE\\n\"+\n     \"output_notebook(resources=INLINE)\\n\"+\n     \"</code>\\n\"+\n     \"</div>\"}};\n\n  function display_loaded() {\n    var el = document.getElementById(\"1001\");\n    if (el != null) {\n      el.textContent = \"BokehJS is loading...\";\n    }\n    if (root.Bokeh !== undefined) {\n      if (el != null) {\n        el.textContent = \"BokehJS \" + root.Bokeh.version + \" successfully loaded.\";\n      }\n    } else if (Date.now() < root._bokeh_timeout) {\n      setTimeout(display_loaded, 100)\n    }\n  }\n\n\n  function run_callbacks() {\n    try {\n      root._bokeh_onload_callbacks.forEach(function(callback) {\n        if (callback != null)\n          callback();\n      });\n    } finally {\n      delete root._bokeh_onload_callbacks\n    }\n    console.debug(\"Bokeh: all callbacks have finished\");\n  }\n\n  function load_libs(css_urls, js_urls, callback) {\n    if (css_urls == null) css_urls = [];\n    if (js_urls == null) js_urls = [];\n\n    root._bokeh_onload_callbacks.push(callback);\n    if (root._bokeh_is_loading > 0) {\n      console.debug(\"Bokeh: BokehJS is being loaded, scheduling callback at\", now());\n      return null;\n    }\n    if (js_urls == null || js_urls.length === 0) {\n      run_callbacks();\n      return null;\n    }\n    console.debug(\"Bokeh: BokehJS not loaded, scheduling load and callback at\", now());\n    root._bokeh_is_loading = css_urls.length + js_urls.length;\n\n    function on_load() {\n      root._bokeh_is_loading--;\n      if (root._bokeh_is_loading === 0) {\n        console.debug(\"Bokeh: all BokehJS libraries/stylesheets loaded\");\n        run_callbacks()\n      }\n    }\n\n    function on_error() {\n      console.error(\"failed to load \" + url);\n    }\n\n    for (var i = 0; i < css_urls.length; i++) {\n      var url = css_urls[i];\n      const element = document.createElement(\"link\");\n      element.onload = on_load;\n      element.onerror = on_error;\n      element.rel = \"stylesheet\";\n      element.type = \"text/css\";\n      element.href = url;\n      console.debug(\"Bokeh: injecting link tag for BokehJS stylesheet: \", url);\n      document.body.appendChild(element);\n    }\n\n    const hashes = {\"https://cdn.bokeh.org/bokeh/release/bokeh-2.0.1.min.js\": \"JpP8FXbgAZLkfur7LiK3j9AGBhHNIvF742meBJrjO2ShJDhCG2I1uVvW+0DUtrmc\", \"https://cdn.bokeh.org/bokeh/release/bokeh-widgets-2.0.1.min.js\": \"xZlADit0Q04ISQEdKg2k3L4W9AwQBAuDs9nJL9fM/WwzL1tEU9VPNezOFX0nLEAz\", \"https://cdn.bokeh.org/bokeh/release/bokeh-tables-2.0.1.min.js\": \"4BuPRZkdMKSnj3zoxiNrQ86XgNw0rYmBOxe7nshquXwwcauupgBF2DHLVG1WuZlV\", \"https://cdn.bokeh.org/bokeh/release/bokeh-gl-2.0.1.min.js\": \"Dv1SQ87hmDqK6S5OhBf0bCuwAEvL5QYL0PuR/F1SPVhCS/r/abjkbpKDYL2zeM19\"};\n\n    for (var i = 0; i < js_urls.length; i++) {\n      var url = js_urls[i];\n      var element = document.createElement('script');\n      element.onload = on_load;\n      element.onerror = on_error;\n      element.async = false;\n      element.src = url;\n      if (url in hashes) {\n        element.crossOrigin = \"anonymous\";\n        element.integrity = \"sha384-\" + hashes[url];\n      }\n      console.debug(\"Bokeh: injecting script tag for BokehJS library: \", url);\n      document.head.appendChild(element);\n    }\n  };var element = document.getElementById(\"1001\");\n  if (element == null) {\n    console.error(\"Bokeh: ERROR: autoload.js configured with elementid '1001' but no matching script tag was found. \")\n    return false;\n  }\n\n  function inject_raw_css(css) {\n    const element = document.createElement(\"style\");\n    element.appendChild(document.createTextNode(css));\n    document.body.appendChild(element);\n  }\n\n  \n  var js_urls = [\"https://cdn.bokeh.org/bokeh/release/bokeh-2.0.1.min.js\", \"https://cdn.bokeh.org/bokeh/release/bokeh-widgets-2.0.1.min.js\", \"https://cdn.bokeh.org/bokeh/release/bokeh-tables-2.0.1.min.js\", \"https://cdn.bokeh.org/bokeh/release/bokeh-gl-2.0.1.min.js\"];\n  var css_urls = [];\n  \n\n  var inline_js = [\n    function(Bokeh) {\n      Bokeh.set_log_level(\"info\");\n    },\n    function(Bokeh) {\n    \n    \n    }\n  ];\n\n  function run_inline_js() {\n    \n    if (root.Bokeh !== undefined || force === true) {\n      \n    for (var i = 0; i < inline_js.length; i++) {\n      inline_js[i].call(root, root.Bokeh);\n    }\n    if (force === true) {\n        display_loaded();\n      }} else if (Date.now() < root._bokeh_timeout) {\n      setTimeout(run_inline_js, 100);\n    } else if (!root._bokeh_failed_load) {\n      console.log(\"Bokeh: BokehJS failed to load within specified timeout.\");\n      root._bokeh_failed_load = true;\n    } else if (force !== true) {\n      var cell = $(document.getElementById(\"1001\")).parents('.cell').data().cell;\n      cell.output_area.append_execute_result(NB_LOAD_WARNING)\n    }\n\n  }\n\n  if (root._bokeh_is_loading === 0) {\n    console.debug(\"Bokeh: BokehJS loaded, going straight to plotting\");\n    run_inline_js();\n  } else {\n    load_libs(css_urls, js_urls, function() {\n      console.debug(\"Bokeh: BokehJS plotting callback run at\", now());\n      run_inline_js();\n    });\n  }\n}(window));"
     },
     "metadata": {},
     "output_type": "display_data"
    }
   ],
   "source": [
    "import numpy as np\n",
    "import pandas as pd\n",
    "import requests\n",
    "\n",
    "# Read in Visualization code from Github (requires bokeh module)\n",
    "exec(requests.get('https://raw.githubusercontent.com/edunford/ppol564/master/lectures/week_10/visualization_library/visualize.py').content)\n",
    "vla = LinearAlgebra # assign class to an simplier naming convention."
   ]
  },
  {
   "cell_type": "markdown",
   "metadata": {},
   "source": [
    "# Vector Multiplication (Vector Dot Product)"
   ]
  },
  {
   "cell_type": "markdown",
   "metadata": {},
   "source": [
    "Given $\\vec{a}, \\vec{b} \\in \\Re^n$\n",
    "\n",
    "\n",
    "\n",
    "$$ \\vec{a} \\cdot \\vec{b} $$\n",
    "\n",
    "$$ \\begin{bmatrix}  a_1 \\\\ a_2 \\\\  \\vdots \\\\ a_n  \\end{bmatrix} \\cdot \n",
    "\\begin{bmatrix}  b_1 \\\\ b_2 \\\\  \\vdots \\\\ b_n  \\end{bmatrix}$$\n",
    "\n",
    "$$ a_1 b_1 + a_2 b_2 + \\dots + a_n b_n $$\n",
    "\n",
    "$$ \\vec{a} \\cdot \\vec{b} = \\sum_{i=1}^n a_i b_i$$\n",
    "\n",
    "The dot product between two column vectors produces a scalar ($c$)."
   ]
  },
  {
   "cell_type": "code",
   "execution_count": 2,
   "metadata": {},
   "outputs": [
    {
     "name": "stdout",
     "output_type": "stream",
     "text": [
      "4\n",
      "4\n",
      "4\n"
     ]
    }
   ],
   "source": [
    "# Computationally \n",
    "a = np.array([1,2])\n",
    "b = np.array([2,1])\n",
    "\n",
    "# Three ways to take the dot product using numpy\n",
    "print(a.dot(b))\n",
    "\n",
    "# or \n",
    "\n",
    "print(np.dot(a,b))\n",
    "\n",
    "# or\n",
    "\n",
    "print(a @ b)"
   ]
  },
  {
   "cell_type": "markdown",
   "metadata": {},
   "source": [
    "## Properties \n",
    "\n",
    "|Property| Expression|\n",
    "|-------------|---------------|\n",
    "| **Communicative** | $\\vec{a} \\cdot \\vec{b} = \\vec{b} \\cdot \\vec{a} $|\n",
    "| **Distributive** | $ \\vec{v} \\cdot (\\vec{a} + \\vec{b}) = \\vec{v} \\cdot \\vec{a} + \\vec{v} \\cdot \\vec{b} $|\n",
    "| **Associative** | $ c(\\vec{a}) \\cdot \\vec{b} = c(\\vec{a} \\cdot \\vec{b}) $|"
   ]
  },
  {
   "cell_type": "markdown",
   "metadata": {},
   "source": [
    "# Magnitude (Length) of a Vector \n",
    "\n",
    "**_What is the length of $\\vec{c}$?_**\n",
    "\n",
    "In linear algebra, we'll use the notation $||c||$ to denote the _length_ of a vector."
   ]
  },
  {
   "cell_type": "code",
   "execution_count": 3,
   "metadata": {},
   "outputs": [
    {
     "data": {
      "text/html": [
       "\n",
       "\n",
       "\n",
       "\n",
       "\n",
       "\n",
       "  <div class=\"bk-root\" id=\"6c0152f6-eeae-466c-ac40-1d345d024ecf\"></div>\n"
      ]
     },
     "metadata": {},
     "output_type": "display_data"
    },
    {
     "data": {
      "application/javascript": [
       "(function(root) {\n",
       "  function embed_document(root) {\n",
       "    \n",
       "  var docs_json = {\"c54db3a3-b76c-499c-a791-f0f7437309f2\":{\"roots\":{\"references\":[{\"attributes\":{},\"id\":\"050c5180-02a4-41c3-9921-51f17edd7681\",\"type\":\"UnionRenderers\"},{\"attributes\":{},\"id\":\"cfb1b896-798a-4cec-9bff-7d678faa6d13\",\"type\":\"Selection\"},{\"attributes\":{\"callback\":null,\"data\":{\"x\":[0.0,0.0],\"y\":[-5.0,5.0]},\"selected\":{\"id\":\"cfb1b896-798a-4cec-9bff-7d678faa6d13\",\"type\":\"Selection\"},\"selection_policy\":{\"id\":\"050c5180-02a4-41c3-9921-51f17edd7681\",\"type\":\"UnionRenderers\"}},\"id\":\"f2c8dc68-68c2-4ebe-8d69-b8512c65c2c6\",\"type\":\"ColumnDataSource\"},{\"attributes\":{},\"id\":\"c441b261-1092-4ded-8f70-92f4d50ef001\",\"type\":\"LinearScale\"},{\"attributes\":{},\"id\":\"dd689945-721f-4883-a517-c3b49b1c97ea\",\"type\":\"LinearScale\"},{\"attributes\":{\"formatter\":{\"id\":\"7d93d4fc-ee80-437f-a27d-44a8af48bb40\",\"type\":\"BasicTickFormatter\"},\"plot\":{\"id\":\"431f71ab-b212-49a2-ac85-fe2bf92461e4\",\"subtype\":\"Figure\",\"type\":\"Plot\"},\"ticker\":{\"id\":\"835fd87b-18ae-4e5d-b77f-5b7a64379e9b\",\"type\":\"BasicTicker\"}},\"id\":\"78019f87-f976-4d05-8fea-30f24839ed8a\",\"type\":\"LinearAxis\"},{\"attributes\":{\"source\":{\"id\":\"645c98ad-34cd-4ccc-bf18-f2d707033cdf\",\"type\":\"ColumnDataSource\"}},\"id\":\"1064bf06-0e31-4cd2-b7b8-04fec0208fde\",\"type\":\"CDSView\"},{\"attributes\":{},\"id\":\"835fd87b-18ae-4e5d-b77f-5b7a64379e9b\",\"type\":\"BasicTicker\"},{\"attributes\":{\"callback\":null,\"end\":3.5,\"start\":-3.5},\"id\":\"9343a146-9426-4372-8bf6-41d061e75769\",\"type\":\"Range1d\"},{\"attributes\":{\"line_width\":1.5,\"x\":{\"field\":\"x\"},\"y\":{\"field\":\"y\"}},\"id\":\"3eea40b4-75fc-4613-9e6b-238cc96d9703\",\"type\":\"Line\"},{\"attributes\":{\"data_source\":{\"id\":\"645c98ad-34cd-4ccc-bf18-f2d707033cdf\",\"type\":\"ColumnDataSource\"},\"glyph\":{\"id\":\"3fe4b5ea-d76b-4e99-a9df-fb3e0358c021\",\"type\":\"Line\"},\"hover_glyph\":null,\"muted_glyph\":null,\"nonselection_glyph\":{\"id\":\"7102fee9-41a5-4ec1-8ebb-b6aa0b3dafb1\",\"type\":\"Line\"},\"selection_glyph\":null,\"view\":{\"id\":\"1064bf06-0e31-4cd2-b7b8-04fec0208fde\",\"type\":\"CDSView\"}},\"id\":\"a9182e40-5f3e-4451-91d1-b39b03065c10\",\"type\":\"GlyphRenderer\"},{\"attributes\":{\"callback\":null,\"end\":3.5,\"start\":-3.5},\"id\":\"024671cd-e7a5-4d18-b1e7-aac6650327f3\",\"type\":\"Range1d\"},{\"attributes\":{\"line_width\":1.5,\"x\":{\"field\":\"x\"},\"y\":{\"field\":\"y\"}},\"id\":\"3fe4b5ea-d76b-4e99-a9df-fb3e0358c021\",\"type\":\"Line\"},{\"attributes\":{\"end\":{\"id\":\"6dd793fa-9ff9-4118-8f88-a9b481b7a382\",\"type\":\"NormalHead\"},\"line_color\":{\"value\":\"blue\"},\"line_width\":{\"value\":3},\"plot\":{\"id\":\"431f71ab-b212-49a2-ac85-fe2bf92461e4\",\"subtype\":\"Figure\",\"type\":\"Plot\"},\"source\":null,\"start\":null,\"x_end\":{\"value\":1.0},\"x_start\":{\"value\":0.0},\"y_end\":{\"value\":2.0},\"y_start\":{\"value\":0.0}},\"id\":\"d41bd80c-5765-4be6-8337-6e55c18740cc\",\"type\":\"Arrow\"},{\"attributes\":{},\"id\":\"0b51cd80-d5e3-4a0f-8046-a574ea16d052\",\"type\":\"WheelZoomTool\"},{\"attributes\":{},\"id\":\"b38f5a79-1158-488e-a542-180d15a81b98\",\"type\":\"PanTool\"},{\"attributes\":{},\"id\":\"251b207c-4247-47df-b572-0d078dd66e36\",\"type\":\"ResetTool\"},{\"attributes\":{\"dimension\":1,\"plot\":{\"id\":\"431f71ab-b212-49a2-ac85-fe2bf92461e4\",\"subtype\":\"Figure\",\"type\":\"Plot\"},\"ticker\":{\"id\":\"835fd87b-18ae-4e5d-b77f-5b7a64379e9b\",\"type\":\"BasicTicker\"}},\"id\":\"ba812b94-5525-4842-a613-86f27f53fbff\",\"type\":\"Grid\"},{\"attributes\":{\"below\":[{\"id\":\"00b63360-4210-418c-ac3e-8f476f6a7fde\",\"type\":\"LinearAxis\"}],\"left\":[{\"id\":\"78019f87-f976-4d05-8fea-30f24839ed8a\",\"type\":\"LinearAxis\"}],\"plot_height\":700,\"plot_width\":700,\"renderers\":[{\"id\":\"00b63360-4210-418c-ac3e-8f476f6a7fde\",\"type\":\"LinearAxis\"},{\"id\":\"9e523c57-210a-49a6-bc20-992d5886818f\",\"type\":\"Grid\"},{\"id\":\"78019f87-f976-4d05-8fea-30f24839ed8a\",\"type\":\"LinearAxis\"},{\"id\":\"ba812b94-5525-4842-a613-86f27f53fbff\",\"type\":\"Grid\"},{\"id\":\"a9182e40-5f3e-4451-91d1-b39b03065c10\",\"type\":\"GlyphRenderer\"},{\"id\":\"87b8d7e4-6c3a-45ec-a1e8-561d30a34403\",\"type\":\"GlyphRenderer\"},{\"id\":\"d41bd80c-5765-4be6-8337-6e55c18740cc\",\"type\":\"Arrow\"}],\"title\":{\"id\":\"7de8ad0a-46fc-469e-9440-ad38bc51f548\",\"type\":\"Title\"},\"toolbar\":{\"id\":\"5ec47a73-d7df-440f-ba43-7a084ce7cb34\",\"type\":\"Toolbar\"},\"x_range\":{\"id\":\"024671cd-e7a5-4d18-b1e7-aac6650327f3\",\"type\":\"Range1d\"},\"x_scale\":{\"id\":\"c441b261-1092-4ded-8f70-92f4d50ef001\",\"type\":\"LinearScale\"},\"y_range\":{\"id\":\"9343a146-9426-4372-8bf6-41d061e75769\",\"type\":\"Range1d\"},\"y_scale\":{\"id\":\"dd689945-721f-4883-a517-c3b49b1c97ea\",\"type\":\"LinearScale\"}},\"id\":\"431f71ab-b212-49a2-ac85-fe2bf92461e4\",\"subtype\":\"Figure\",\"type\":\"Plot\"},{\"attributes\":{\"line_alpha\":0.1,\"line_color\":\"#1f77b4\",\"line_width\":1.5,\"x\":{\"field\":\"x\"},\"y\":{\"field\":\"y\"}},\"id\":\"7102fee9-41a5-4ec1-8ebb-b6aa0b3dafb1\",\"type\":\"Line\"},{\"attributes\":{\"callback\":null,\"data\":{\"x\":[-5.0,5.0],\"y\":[0.0,0.0]},\"selected\":{\"id\":\"198ffffb-09fa-436d-bdae-8ead6154eb85\",\"type\":\"Selection\"},\"selection_policy\":{\"id\":\"ade2f81d-91dd-4ada-89f6-206deecc0491\",\"type\":\"UnionRenderers\"}},\"id\":\"645c98ad-34cd-4ccc-bf18-f2d707033cdf\",\"type\":\"ColumnDataSource\"},{\"attributes\":{\"line_alpha\":0.1,\"line_color\":\"#1f77b4\",\"line_width\":1.5,\"x\":{\"field\":\"x\"},\"y\":{\"field\":\"y\"}},\"id\":\"34b3de8a-e691-48ac-b467-048293af1f5e\",\"type\":\"Line\"},{\"attributes\":{\"fill_color\":{\"value\":\"blue\"},\"line_color\":{\"value\":\"blue\"},\"plot\":null,\"size\":10},\"id\":\"6dd793fa-9ff9-4118-8f88-a9b481b7a382\",\"type\":\"NormalHead\"},{\"attributes\":{\"data_source\":{\"id\":\"f2c8dc68-68c2-4ebe-8d69-b8512c65c2c6\",\"type\":\"ColumnDataSource\"},\"glyph\":{\"id\":\"3eea40b4-75fc-4613-9e6b-238cc96d9703\",\"type\":\"Line\"},\"hover_glyph\":null,\"muted_glyph\":null,\"nonselection_glyph\":{\"id\":\"34b3de8a-e691-48ac-b467-048293af1f5e\",\"type\":\"Line\"},\"selection_glyph\":null,\"view\":{\"id\":\"ae1bd7f1-d5e4-46a6-8880-a7f772bb642e\",\"type\":\"CDSView\"}},\"id\":\"87b8d7e4-6c3a-45ec-a1e8-561d30a34403\",\"type\":\"GlyphRenderer\"},{\"attributes\":{},\"id\":\"0b612b11-8bfc-48db-824a-5ab84a0f17c0\",\"type\":\"BasicTicker\"},{\"attributes\":{\"source\":{\"id\":\"f2c8dc68-68c2-4ebe-8d69-b8512c65c2c6\",\"type\":\"ColumnDataSource\"}},\"id\":\"ae1bd7f1-d5e4-46a6-8880-a7f772bb642e\",\"type\":\"CDSView\"},{\"attributes\":{\"active_drag\":\"auto\",\"active_inspect\":\"auto\",\"active_multi\":null,\"active_scroll\":\"auto\",\"active_tap\":\"auto\",\"tools\":[{\"id\":\"0b51cd80-d5e3-4a0f-8046-a574ea16d052\",\"type\":\"WheelZoomTool\"},{\"id\":\"b38f5a79-1158-488e-a542-180d15a81b98\",\"type\":\"PanTool\"},{\"id\":\"251b207c-4247-47df-b572-0d078dd66e36\",\"type\":\"ResetTool\"}]},\"id\":\"5ec47a73-d7df-440f-ba43-7a084ce7cb34\",\"type\":\"Toolbar\"},{\"attributes\":{\"plot\":null,\"text\":\"\"},\"id\":\"7de8ad0a-46fc-469e-9440-ad38bc51f548\",\"type\":\"Title\"},{\"attributes\":{},\"id\":\"7d93d4fc-ee80-437f-a27d-44a8af48bb40\",\"type\":\"BasicTickFormatter\"},{\"attributes\":{},\"id\":\"ff85e5fc-0048-4108-ac18-ca0e76ee43a2\",\"type\":\"BasicTickFormatter\"},{\"attributes\":{\"plot\":{\"id\":\"431f71ab-b212-49a2-ac85-fe2bf92461e4\",\"subtype\":\"Figure\",\"type\":\"Plot\"},\"ticker\":{\"id\":\"0b612b11-8bfc-48db-824a-5ab84a0f17c0\",\"type\":\"BasicTicker\"}},\"id\":\"9e523c57-210a-49a6-bc20-992d5886818f\",\"type\":\"Grid\"},{\"attributes\":{},\"id\":\"ade2f81d-91dd-4ada-89f6-206deecc0491\",\"type\":\"UnionRenderers\"},{\"attributes\":{\"formatter\":{\"id\":\"ff85e5fc-0048-4108-ac18-ca0e76ee43a2\",\"type\":\"BasicTickFormatter\"},\"plot\":{\"id\":\"431f71ab-b212-49a2-ac85-fe2bf92461e4\",\"subtype\":\"Figure\",\"type\":\"Plot\"},\"ticker\":{\"id\":\"0b612b11-8bfc-48db-824a-5ab84a0f17c0\",\"type\":\"BasicTicker\"}},\"id\":\"00b63360-4210-418c-ac3e-8f476f6a7fde\",\"type\":\"LinearAxis\"},{\"attributes\":{},\"id\":\"198ffffb-09fa-436d-bdae-8ead6154eb85\",\"type\":\"Selection\"}],\"root_ids\":[\"431f71ab-b212-49a2-ac85-fe2bf92461e4\"]},\"title\":\"Bokeh Application\",\"version\":\"0.13.0\"}};\n",
       "  var render_items = [{\"docid\":\"c54db3a3-b76c-499c-a791-f0f7437309f2\",\"roots\":{\"431f71ab-b212-49a2-ac85-fe2bf92461e4\":\"6c0152f6-eeae-466c-ac40-1d345d024ecf\"}}];\n",
       "  root.Bokeh.embed.embed_items_notebook(docs_json, render_items);\n",
       "\n",
       "  }\n",
       "  if (root.Bokeh !== undefined) {\n",
       "    embed_document(root);\n",
       "  } else {\n",
       "    var attempts = 0;\n",
       "    var timer = setInterval(function(root) {\n",
       "      if (root.Bokeh !== undefined) {\n",
       "        embed_document(root);\n",
       "        clearInterval(timer);\n",
       "      }\n",
       "      attempts++;\n",
       "      if (attempts > 100) {\n",
       "        console.log(\"Bokeh: ERROR: Unable to run BokehJS code because BokehJS library is missing\")\n",
       "        clearInterval(timer);\n",
       "      }\n",
       "    }, 10, root)\n",
       "  }\n",
       "})(window);"
      ],
      "application/vnd.bokehjs_exec.v0+json": ""
     },
     "metadata": {
      "application/vnd.bokehjs_exec.v0+json": {
       "id": "431f71ab-b212-49a2-ac85-fe2bf92461e4"
      }
     },
     "output_type": "display_data"
    }
   ],
   "source": [
    "# Vector a\n",
    "c = np.array([1,2])\n",
    "\n",
    "# Plot the vector\n",
    "plot = vla()\n",
    "plot.graph()\n",
    "plot.vector(c)\n",
    "plot.show()"
   ]
  },
  {
   "cell_type": "markdown",
   "metadata": {},
   "source": [
    "Recall the Pythagorean Theorem\n",
    "\n",
    "$$ a^2 + b^2 = c^2 $$\n",
    "\n",
    "If we can express the vector $\\vec{c}$ as a triangle, then we can use the Pythagorean theorem to calculate the length of $\\vec{c}$. "
   ]
  },
  {
   "cell_type": "markdown",
   "metadata": {},
   "source": [
    "Now recall our discussion of \"unit vectors\""
   ]
  },
  {
   "cell_type": "code",
   "execution_count": 4,
   "metadata": {},
   "outputs": [
    {
     "data": {
      "text/plain": [
       "array([1, 2])"
      ]
     },
     "execution_count": 4,
     "metadata": {},
     "output_type": "execute_result"
    }
   ],
   "source": [
    "i = np.array([1,0])\n",
    "j = np.array([0,1])\n",
    "\n",
    "(1*i) + (2*j) "
   ]
  },
  {
   "cell_type": "code",
   "execution_count": 5,
   "metadata": {},
   "outputs": [
    {
     "data": {
      "text/html": [
       "\n",
       "\n",
       "\n",
       "\n",
       "\n",
       "\n",
       "  <div class=\"bk-root\" id=\"7fc7754c-59db-48cb-944d-790ec492b52c\"></div>\n"
      ]
     },
     "metadata": {},
     "output_type": "display_data"
    },
    {
     "data": {
      "application/javascript": [
       "(function(root) {\n",
       "  function embed_document(root) {\n",
       "    \n",
       "  var docs_json = {\"e0f01967-764b-4cf7-8416-e3633cad7d7b\":{\"roots\":{\"references\":[{\"attributes\":{},\"id\":\"050c5180-02a4-41c3-9921-51f17edd7681\",\"type\":\"UnionRenderers\"},{\"attributes\":{\"fill_color\":{\"value\":\"green\"},\"line_color\":{\"value\":\"green\"},\"plot\":null,\"size\":10},\"id\":\"4382497f-7db5-4fba-938c-8e8ee8e41cc0\",\"type\":\"NormalHead\"},{\"attributes\":{},\"id\":\"cfb1b896-798a-4cec-9bff-7d678faa6d13\",\"type\":\"Selection\"},{\"attributes\":{\"callback\":null,\"data\":{\"x\":[0.0,0.0],\"y\":[-5.0,5.0]},\"selected\":{\"id\":\"cfb1b896-798a-4cec-9bff-7d678faa6d13\",\"type\":\"Selection\"},\"selection_policy\":{\"id\":\"050c5180-02a4-41c3-9921-51f17edd7681\",\"type\":\"UnionRenderers\"}},\"id\":\"f2c8dc68-68c2-4ebe-8d69-b8512c65c2c6\",\"type\":\"ColumnDataSource\"},{\"attributes\":{\"end\":{\"id\":\"cff3f62b-232a-4895-b410-8208f7a78df2\",\"type\":\"NormalHead\"},\"line_color\":{\"value\":\"red\"},\"line_width\":{\"value\":3},\"plot\":{\"id\":\"431f71ab-b212-49a2-ac85-fe2bf92461e4\",\"subtype\":\"Figure\",\"type\":\"Plot\"},\"source\":null,\"start\":null,\"x_end\":{\"value\":1.0},\"x_start\":{\"value\":0.0},\"y_end\":{\"value\":0.0},\"y_start\":{\"value\":0.0}},\"id\":\"7b693f50-9fa8-457c-8427-4abae53b6845\",\"type\":\"Arrow\"},{\"attributes\":{},\"id\":\"c441b261-1092-4ded-8f70-92f4d50ef001\",\"type\":\"LinearScale\"},{\"attributes\":{},\"id\":\"dd689945-721f-4883-a517-c3b49b1c97ea\",\"type\":\"LinearScale\"},{\"attributes\":{\"formatter\":{\"id\":\"7d93d4fc-ee80-437f-a27d-44a8af48bb40\",\"type\":\"BasicTickFormatter\"},\"plot\":{\"id\":\"431f71ab-b212-49a2-ac85-fe2bf92461e4\",\"subtype\":\"Figure\",\"type\":\"Plot\"},\"ticker\":{\"id\":\"835fd87b-18ae-4e5d-b77f-5b7a64379e9b\",\"type\":\"BasicTicker\"}},\"id\":\"78019f87-f976-4d05-8fea-30f24839ed8a\",\"type\":\"LinearAxis\"},{\"attributes\":{\"fill_color\":{\"value\":\"red\"},\"line_color\":{\"value\":\"red\"},\"plot\":null,\"size\":10},\"id\":\"cff3f62b-232a-4895-b410-8208f7a78df2\",\"type\":\"NormalHead\"},{\"attributes\":{\"source\":{\"id\":\"645c98ad-34cd-4ccc-bf18-f2d707033cdf\",\"type\":\"ColumnDataSource\"}},\"id\":\"1064bf06-0e31-4cd2-b7b8-04fec0208fde\",\"type\":\"CDSView\"},{\"attributes\":{},\"id\":\"835fd87b-18ae-4e5d-b77f-5b7a64379e9b\",\"type\":\"BasicTicker\"},{\"attributes\":{\"callback\":null,\"end\":3.5,\"start\":-3.5},\"id\":\"9343a146-9426-4372-8bf6-41d061e75769\",\"type\":\"Range1d\"},{\"attributes\":{\"line_width\":1.5,\"x\":{\"field\":\"x\"},\"y\":{\"field\":\"y\"}},\"id\":\"3eea40b4-75fc-4613-9e6b-238cc96d9703\",\"type\":\"Line\"},{\"attributes\":{\"data_source\":{\"id\":\"645c98ad-34cd-4ccc-bf18-f2d707033cdf\",\"type\":\"ColumnDataSource\"},\"glyph\":{\"id\":\"3fe4b5ea-d76b-4e99-a9df-fb3e0358c021\",\"type\":\"Line\"},\"hover_glyph\":null,\"muted_glyph\":null,\"nonselection_glyph\":{\"id\":\"7102fee9-41a5-4ec1-8ebb-b6aa0b3dafb1\",\"type\":\"Line\"},\"selection_glyph\":null,\"view\":{\"id\":\"1064bf06-0e31-4cd2-b7b8-04fec0208fde\",\"type\":\"CDSView\"}},\"id\":\"a9182e40-5f3e-4451-91d1-b39b03065c10\",\"type\":\"GlyphRenderer\"},{\"attributes\":{\"end\":{\"id\":\"4382497f-7db5-4fba-938c-8e8ee8e41cc0\",\"type\":\"NormalHead\"},\"line_color\":{\"value\":\"green\"},\"line_width\":{\"value\":3},\"plot\":{\"id\":\"431f71ab-b212-49a2-ac85-fe2bf92461e4\",\"subtype\":\"Figure\",\"type\":\"Plot\"},\"source\":null,\"start\":null,\"x_end\":{\"value\":1.0},\"x_start\":{\"value\":1},\"y_end\":{\"value\":2.0},\"y_start\":{\"value\":0}},\"id\":\"e12edf11-3050-43bc-b99c-996264dbfc4d\",\"type\":\"Arrow\"},{\"attributes\":{\"callback\":null,\"end\":3.5,\"start\":-3.5},\"id\":\"024671cd-e7a5-4d18-b1e7-aac6650327f3\",\"type\":\"Range1d\"},{\"attributes\":{\"line_width\":1.5,\"x\":{\"field\":\"x\"},\"y\":{\"field\":\"y\"}},\"id\":\"3fe4b5ea-d76b-4e99-a9df-fb3e0358c021\",\"type\":\"Line\"},{\"attributes\":{\"end\":{\"id\":\"6dd793fa-9ff9-4118-8f88-a9b481b7a382\",\"type\":\"NormalHead\"},\"line_color\":{\"value\":\"blue\"},\"line_width\":{\"value\":3},\"plot\":{\"id\":\"431f71ab-b212-49a2-ac85-fe2bf92461e4\",\"subtype\":\"Figure\",\"type\":\"Plot\"},\"source\":null,\"start\":null,\"x_end\":{\"value\":1.0},\"x_start\":{\"value\":0.0},\"y_end\":{\"value\":2.0},\"y_start\":{\"value\":0.0}},\"id\":\"d41bd80c-5765-4be6-8337-6e55c18740cc\",\"type\":\"Arrow\"},{\"attributes\":{},\"id\":\"0b51cd80-d5e3-4a0f-8046-a574ea16d052\",\"type\":\"WheelZoomTool\"},{\"attributes\":{},\"id\":\"b38f5a79-1158-488e-a542-180d15a81b98\",\"type\":\"PanTool\"},{\"attributes\":{},\"id\":\"251b207c-4247-47df-b572-0d078dd66e36\",\"type\":\"ResetTool\"},{\"attributes\":{\"dimension\":1,\"plot\":{\"id\":\"431f71ab-b212-49a2-ac85-fe2bf92461e4\",\"subtype\":\"Figure\",\"type\":\"Plot\"},\"ticker\":{\"id\":\"835fd87b-18ae-4e5d-b77f-5b7a64379e9b\",\"type\":\"BasicTicker\"}},\"id\":\"ba812b94-5525-4842-a613-86f27f53fbff\",\"type\":\"Grid\"},{\"attributes\":{\"below\":[{\"id\":\"00b63360-4210-418c-ac3e-8f476f6a7fde\",\"type\":\"LinearAxis\"}],\"left\":[{\"id\":\"78019f87-f976-4d05-8fea-30f24839ed8a\",\"type\":\"LinearAxis\"}],\"plot_height\":700,\"plot_width\":700,\"renderers\":[{\"id\":\"00b63360-4210-418c-ac3e-8f476f6a7fde\",\"type\":\"LinearAxis\"},{\"id\":\"9e523c57-210a-49a6-bc20-992d5886818f\",\"type\":\"Grid\"},{\"id\":\"78019f87-f976-4d05-8fea-30f24839ed8a\",\"type\":\"LinearAxis\"},{\"id\":\"ba812b94-5525-4842-a613-86f27f53fbff\",\"type\":\"Grid\"},{\"id\":\"a9182e40-5f3e-4451-91d1-b39b03065c10\",\"type\":\"GlyphRenderer\"},{\"id\":\"87b8d7e4-6c3a-45ec-a1e8-561d30a34403\",\"type\":\"GlyphRenderer\"},{\"id\":\"d41bd80c-5765-4be6-8337-6e55c18740cc\",\"type\":\"Arrow\"},{\"id\":\"7b693f50-9fa8-457c-8427-4abae53b6845\",\"type\":\"Arrow\"},{\"id\":\"e12edf11-3050-43bc-b99c-996264dbfc4d\",\"type\":\"Arrow\"}],\"title\":{\"id\":\"7de8ad0a-46fc-469e-9440-ad38bc51f548\",\"type\":\"Title\"},\"toolbar\":{\"id\":\"5ec47a73-d7df-440f-ba43-7a084ce7cb34\",\"type\":\"Toolbar\"},\"x_range\":{\"id\":\"024671cd-e7a5-4d18-b1e7-aac6650327f3\",\"type\":\"Range1d\"},\"x_scale\":{\"id\":\"c441b261-1092-4ded-8f70-92f4d50ef001\",\"type\":\"LinearScale\"},\"y_range\":{\"id\":\"9343a146-9426-4372-8bf6-41d061e75769\",\"type\":\"Range1d\"},\"y_scale\":{\"id\":\"dd689945-721f-4883-a517-c3b49b1c97ea\",\"type\":\"LinearScale\"}},\"id\":\"431f71ab-b212-49a2-ac85-fe2bf92461e4\",\"subtype\":\"Figure\",\"type\":\"Plot\"},{\"attributes\":{\"line_alpha\":0.1,\"line_color\":\"#1f77b4\",\"line_width\":1.5,\"x\":{\"field\":\"x\"},\"y\":{\"field\":\"y\"}},\"id\":\"7102fee9-41a5-4ec1-8ebb-b6aa0b3dafb1\",\"type\":\"Line\"},{\"attributes\":{\"callback\":null,\"data\":{\"x\":[-5.0,5.0],\"y\":[0.0,0.0]},\"selected\":{\"id\":\"198ffffb-09fa-436d-bdae-8ead6154eb85\",\"type\":\"Selection\"},\"selection_policy\":{\"id\":\"ade2f81d-91dd-4ada-89f6-206deecc0491\",\"type\":\"UnionRenderers\"}},\"id\":\"645c98ad-34cd-4ccc-bf18-f2d707033cdf\",\"type\":\"ColumnDataSource\"},{\"attributes\":{\"line_alpha\":0.1,\"line_color\":\"#1f77b4\",\"line_width\":1.5,\"x\":{\"field\":\"x\"},\"y\":{\"field\":\"y\"}},\"id\":\"34b3de8a-e691-48ac-b467-048293af1f5e\",\"type\":\"Line\"},{\"attributes\":{\"fill_color\":{\"value\":\"blue\"},\"line_color\":{\"value\":\"blue\"},\"plot\":null,\"size\":10},\"id\":\"6dd793fa-9ff9-4118-8f88-a9b481b7a382\",\"type\":\"NormalHead\"},{\"attributes\":{\"data_source\":{\"id\":\"f2c8dc68-68c2-4ebe-8d69-b8512c65c2c6\",\"type\":\"ColumnDataSource\"},\"glyph\":{\"id\":\"3eea40b4-75fc-4613-9e6b-238cc96d9703\",\"type\":\"Line\"},\"hover_glyph\":null,\"muted_glyph\":null,\"nonselection_glyph\":{\"id\":\"34b3de8a-e691-48ac-b467-048293af1f5e\",\"type\":\"Line\"},\"selection_glyph\":null,\"view\":{\"id\":\"ae1bd7f1-d5e4-46a6-8880-a7f772bb642e\",\"type\":\"CDSView\"}},\"id\":\"87b8d7e4-6c3a-45ec-a1e8-561d30a34403\",\"type\":\"GlyphRenderer\"},{\"attributes\":{},\"id\":\"0b612b11-8bfc-48db-824a-5ab84a0f17c0\",\"type\":\"BasicTicker\"},{\"attributes\":{\"source\":{\"id\":\"f2c8dc68-68c2-4ebe-8d69-b8512c65c2c6\",\"type\":\"ColumnDataSource\"}},\"id\":\"ae1bd7f1-d5e4-46a6-8880-a7f772bb642e\",\"type\":\"CDSView\"},{\"attributes\":{\"active_drag\":\"auto\",\"active_inspect\":\"auto\",\"active_multi\":null,\"active_scroll\":\"auto\",\"active_tap\":\"auto\",\"tools\":[{\"id\":\"0b51cd80-d5e3-4a0f-8046-a574ea16d052\",\"type\":\"WheelZoomTool\"},{\"id\":\"b38f5a79-1158-488e-a542-180d15a81b98\",\"type\":\"PanTool\"},{\"id\":\"251b207c-4247-47df-b572-0d078dd66e36\",\"type\":\"ResetTool\"}]},\"id\":\"5ec47a73-d7df-440f-ba43-7a084ce7cb34\",\"type\":\"Toolbar\"},{\"attributes\":{\"plot\":null,\"text\":\"\"},\"id\":\"7de8ad0a-46fc-469e-9440-ad38bc51f548\",\"type\":\"Title\"},{\"attributes\":{},\"id\":\"7d93d4fc-ee80-437f-a27d-44a8af48bb40\",\"type\":\"BasicTickFormatter\"},{\"attributes\":{},\"id\":\"ff85e5fc-0048-4108-ac18-ca0e76ee43a2\",\"type\":\"BasicTickFormatter\"},{\"attributes\":{\"plot\":{\"id\":\"431f71ab-b212-49a2-ac85-fe2bf92461e4\",\"subtype\":\"Figure\",\"type\":\"Plot\"},\"ticker\":{\"id\":\"0b612b11-8bfc-48db-824a-5ab84a0f17c0\",\"type\":\"BasicTicker\"}},\"id\":\"9e523c57-210a-49a6-bc20-992d5886818f\",\"type\":\"Grid\"},{\"attributes\":{},\"id\":\"ade2f81d-91dd-4ada-89f6-206deecc0491\",\"type\":\"UnionRenderers\"},{\"attributes\":{\"formatter\":{\"id\":\"ff85e5fc-0048-4108-ac18-ca0e76ee43a2\",\"type\":\"BasicTickFormatter\"},\"plot\":{\"id\":\"431f71ab-b212-49a2-ac85-fe2bf92461e4\",\"subtype\":\"Figure\",\"type\":\"Plot\"},\"ticker\":{\"id\":\"0b612b11-8bfc-48db-824a-5ab84a0f17c0\",\"type\":\"BasicTicker\"}},\"id\":\"00b63360-4210-418c-ac3e-8f476f6a7fde\",\"type\":\"LinearAxis\"},{\"attributes\":{},\"id\":\"198ffffb-09fa-436d-bdae-8ead6154eb85\",\"type\":\"Selection\"}],\"root_ids\":[\"431f71ab-b212-49a2-ac85-fe2bf92461e4\"]},\"title\":\"Bokeh Application\",\"version\":\"0.13.0\"}};\n",
       "  var render_items = [{\"docid\":\"e0f01967-764b-4cf7-8416-e3633cad7d7b\",\"roots\":{\"431f71ab-b212-49a2-ac85-fe2bf92461e4\":\"7fc7754c-59db-48cb-944d-790ec492b52c\"}}];\n",
       "  root.Bokeh.embed.embed_items_notebook(docs_json, render_items);\n",
       "\n",
       "  }\n",
       "  if (root.Bokeh !== undefined) {\n",
       "    embed_document(root);\n",
       "  } else {\n",
       "    var attempts = 0;\n",
       "    var timer = setInterval(function(root) {\n",
       "      if (root.Bokeh !== undefined) {\n",
       "        embed_document(root);\n",
       "        clearInterval(timer);\n",
       "      }\n",
       "      attempts++;\n",
       "      if (attempts > 100) {\n",
       "        console.log(\"Bokeh: ERROR: Unable to run BokehJS code because BokehJS library is missing\")\n",
       "        clearInterval(timer);\n",
       "      }\n",
       "    }, 10, root)\n",
       "  }\n",
       "})(window);"
      ],
      "application/vnd.bokehjs_exec.v0+json": ""
     },
     "metadata": {
      "application/vnd.bokehjs_exec.v0+json": {
       "id": "431f71ab-b212-49a2-ac85-fe2bf92461e4"
      }
     },
     "output_type": "display_data"
    }
   ],
   "source": [
    "# Create our scaled unit vectors\n",
    "a = i\n",
    "b = 2*j\n",
    "\n",
    "plot.vector(a)\n",
    "plot.change_origin(i)\n",
    "plot.vector(b)\n",
    "plot.show()"
   ]
  },
  {
   "cell_type": "markdown",
   "metadata": {},
   "source": [
    "Again let's express the above in terms of the Pythagorean Theorem.\n",
    "\n",
    "$$ \\left\\| a \\right\\|^2 + \\left\\| b \\right\\|^2 = \\left\\| c \\right\\|^2 $$\n",
    "\n",
    "We can see that if we add the squared lengths of the two unit vectors and then take the square root of that sum, we will get the length of $\\vec{c}$.\n",
    "\n",
    "$$ \\sqrt{\\left\\| a \\right\\|^2 + \\left\\| b \\right\\|^2} = \\left\\| c \\right\\| $$"
   ]
  },
  {
   "cell_type": "code",
   "execution_count": 6,
   "metadata": {},
   "outputs": [
    {
     "data": {
      "text/plain": [
       "5"
      ]
     },
     "execution_count": 6,
     "metadata": {},
     "output_type": "execute_result"
    }
   ],
   "source": [
    "a.dot(a) + b.dot(b) # = ||c||^2"
   ]
  },
  {
   "cell_type": "code",
   "execution_count": 7,
   "metadata": {},
   "outputs": [
    {
     "data": {
      "text/plain": [
       "2.23606797749979"
      ]
     },
     "execution_count": 7,
     "metadata": {},
     "output_type": "execute_result"
    }
   ],
   "source": [
    "np.sqrt(a.dot(a) + b.dot(b)) # = ||c||"
   ]
  },
  {
   "cell_type": "markdown",
   "metadata": {},
   "source": [
    "What's critical to note here is that if we take the dot product of $\\vec{c}$ with itself we get $||c||^2$, which offers a handy way of calculating the length of $\\vec{c}$"
   ]
  },
  {
   "cell_type": "markdown",
   "metadata": {},
   "source": [
    "$$ \\vec{c} \\cdot \\vec{c} $$\n",
    "\n",
    "<br>\n",
    "\n",
    "$$ \\begin{bmatrix}  c_1 \\\\ c_2 \\\\  \\vdots \\\\ c_n  \\end{bmatrix} \\cdot \n",
    "\\begin{bmatrix}  c_1 \\\\ c_2 \\\\  \\vdots \\\\ c_n  \\end{bmatrix}$$\n",
    "\n",
    "<br>\n",
    "\n",
    "$$ c_1 c_1 + c_2 c_2 + \\dots + c_n c_n $$ \n",
    "\n",
    "<br>\n",
    "\n",
    "$$ c_1^2 + c_2^2 + \\dots + c_n^2 =  \\left\\| c \\right\\|^2 $$ \n",
    "\n",
    "<br>\n",
    "\n",
    "$$ \\sqrt{\\left\\| c \\right\\|^2} = \\left\\| c \\right\\| $$ \n",
    "\n",
    "<br>\n",
    "\n",
    "Put concisely, \n",
    "\n",
    "$$ \\sqrt{\\vec{c} \\cdot \\vec{c}} = \\left\\| c \\right\\|  $$ "
   ]
  },
  {
   "cell_type": "markdown",
   "metadata": {},
   "source": [
    "For example,\n",
    "\n",
    "$$ \\vec{c} = \\begin{bmatrix}  1 \\\\ 2 \\end{bmatrix} $$\n",
    "\n",
    "$$ \\begin{bmatrix}  1 \\\\ 2 \\end{bmatrix} \\cdot \n",
    "\\begin{bmatrix}  1 \\\\ 2 \\\\ \\end{bmatrix}$$\n",
    "\n",
    "$$ 1(1) + 2(2) $$ \n",
    "\n",
    "$$ 1 + 4 $$ \n",
    "\n",
    "$$ \\left\\| c \\right\\|^2 = 5$$ \n",
    "\n",
    "$$ \\sqrt{\\left\\| c \\right\\|^2} = \\sqrt{5}$$ \n",
    "\n",
    "$$ \\left\\| c \\right\\| = 2.24 $$"
   ]
  },
  {
   "cell_type": "code",
   "execution_count": 8,
   "metadata": {},
   "outputs": [
    {
     "data": {
      "text/plain": [
       "2.23606797749979"
      ]
     },
     "execution_count": 8,
     "metadata": {},
     "output_type": "execute_result"
    }
   ],
   "source": [
    "# The above via numpy. Note that it matches our earlier calculation.\n",
    "np.sqrt(c.dot(c))"
   ]
  },
  {
   "cell_type": "markdown",
   "metadata": {},
   "source": [
    "Numpy offers a quick method for calculating the magnitude of a vector in its `.linalg` sub-library."
   ]
  },
  {
   "cell_type": "code",
   "execution_count": 9,
   "metadata": {},
   "outputs": [
    {
     "data": {
      "text/plain": [
       "2.23606797749979"
      ]
     },
     "execution_count": 9,
     "metadata": {},
     "output_type": "execute_result"
    }
   ],
   "source": [
    "np.linalg.norm(c)"
   ]
  },
  {
   "cell_type": "markdown",
   "metadata": {},
   "source": [
    "# Angles between Vectors"
   ]
  },
  {
   "cell_type": "code",
   "execution_count": 10,
   "metadata": {},
   "outputs": [
    {
     "data": {
      "text/html": [
       "\n",
       "\n",
       "\n",
       "\n",
       "\n",
       "\n",
       "  <div class=\"bk-root\" id=\"cba641df-a67c-40ca-a258-b13160caf950\"></div>\n"
      ]
     },
     "metadata": {},
     "output_type": "display_data"
    },
    {
     "data": {
      "application/javascript": [
       "(function(root) {\n",
       "  function embed_document(root) {\n",
       "    \n",
       "  var docs_json = {\"4b6ec122-59bf-439e-9946-ff95f147ac9b\":{\"roots\":{\"references\":[{\"attributes\":{\"callback\":null,\"data\":{\"x\":[0.0,0.0],\"y\":[-7.0,7.0]},\"selected\":{\"id\":\"977997ea-1b86-498a-90fc-963a85453730\",\"type\":\"Selection\"},\"selection_policy\":{\"id\":\"7d07a703-e135-4bca-b89c-4b0503261182\",\"type\":\"UnionRenderers\"}},\"id\":\"a5ff16c4-3d2b-4400-97d5-65f80727a463\",\"type\":\"ColumnDataSource\"},{\"attributes\":{},\"id\":\"5e4c240b-0273-460e-a194-53131f7d4f65\",\"type\":\"LinearScale\"},{\"attributes\":{\"below\":[{\"id\":\"16b67ba8-75e9-4422-8963-8a1efac5e398\",\"type\":\"LinearAxis\"}],\"left\":[{\"id\":\"8158927e-aad8-4ff2-8571-fe9877fab05c\",\"type\":\"LinearAxis\"}],\"plot_height\":700,\"plot_width\":700,\"renderers\":[{\"id\":\"16b67ba8-75e9-4422-8963-8a1efac5e398\",\"type\":\"LinearAxis\"},{\"id\":\"d15a95fc-73d5-4154-a1ca-d9b7ec72eb2a\",\"type\":\"Grid\"},{\"id\":\"8158927e-aad8-4ff2-8571-fe9877fab05c\",\"type\":\"LinearAxis\"},{\"id\":\"a7867c15-3981-4316-b91a-f047365c1a82\",\"type\":\"Grid\"},{\"id\":\"6aa7bc6f-c894-4a21-8a5a-46478ed369dc\",\"type\":\"GlyphRenderer\"},{\"id\":\"0d69fd8a-7054-4a45-8193-76d762ab06cc\",\"type\":\"GlyphRenderer\"},{\"id\":\"20023979-2227-4eb4-9015-a45237dc2c50\",\"type\":\"Arrow\"},{\"id\":\"67f1f33f-a903-44a1-911c-95cfb2dc0ef9\",\"type\":\"Arrow\"}],\"title\":{\"id\":\"0439cb03-e204-4356-9e95-8e68e42df567\",\"type\":\"Title\"},\"toolbar\":{\"id\":\"1709d2b9-9f55-48b1-b61c-50b626d39eda\",\"type\":\"Toolbar\"},\"x_range\":{\"id\":\"3b95454d-de9c-493f-8fd2-6ddfbac0e1e0\",\"type\":\"Range1d\"},\"x_scale\":{\"id\":\"5e4c240b-0273-460e-a194-53131f7d4f65\",\"type\":\"LinearScale\"},\"y_range\":{\"id\":\"b6cc49ae-324a-4684-bfc6-21f800d38c96\",\"type\":\"Range1d\"},\"y_scale\":{\"id\":\"38b2d036-ad17-488f-aa65-f896d1a19096\",\"type\":\"LinearScale\"}},\"id\":\"8d4362b6-acfe-4976-8e2b-e1eaae0e83c5\",\"subtype\":\"Figure\",\"type\":\"Plot\"},{\"attributes\":{},\"id\":\"88e3dd56-b5b8-4088-89c9-fdd5b1efc4eb\",\"type\":\"Selection\"},{\"attributes\":{\"line_alpha\":0.1,\"line_color\":\"#1f77b4\",\"line_width\":1.5,\"x\":{\"field\":\"x\"},\"y\":{\"field\":\"y\"}},\"id\":\"c55f179d-04a9-45e4-87cc-a04cd2919f1e\",\"type\":\"Line\"},{\"attributes\":{\"source\":{\"id\":\"a5ff16c4-3d2b-4400-97d5-65f80727a463\",\"type\":\"ColumnDataSource\"}},\"id\":\"f44241c8-f21a-4fc2-8f93-174d4153db0a\",\"type\":\"CDSView\"},{\"attributes\":{},\"id\":\"38b2d036-ad17-488f-aa65-f896d1a19096\",\"type\":\"LinearScale\"},{\"attributes\":{\"plot\":null,\"text\":\"\"},\"id\":\"0439cb03-e204-4356-9e95-8e68e42df567\",\"type\":\"Title\"},{\"attributes\":{\"data_source\":{\"id\":\"a5ff16c4-3d2b-4400-97d5-65f80727a463\",\"type\":\"ColumnDataSource\"},\"glyph\":{\"id\":\"360b8080-937e-4c46-b1c5-b2bece20a0f5\",\"type\":\"Line\"},\"hover_glyph\":null,\"muted_glyph\":null,\"nonselection_glyph\":{\"id\":\"0a3762af-8a92-44a0-9023-ed334a058aa8\",\"type\":\"Line\"},\"selection_glyph\":null,\"view\":{\"id\":\"f44241c8-f21a-4fc2-8f93-174d4153db0a\",\"type\":\"CDSView\"}},\"id\":\"0d69fd8a-7054-4a45-8193-76d762ab06cc\",\"type\":\"GlyphRenderer\"},{\"attributes\":{},\"id\":\"977997ea-1b86-498a-90fc-963a85453730\",\"type\":\"Selection\"},{\"attributes\":{\"active_drag\":\"auto\",\"active_inspect\":\"auto\",\"active_multi\":null,\"active_scroll\":\"auto\",\"active_tap\":\"auto\",\"tools\":[{\"id\":\"1e388b1c-ff7a-479a-934a-98d06f07fdb1\",\"type\":\"WheelZoomTool\"},{\"id\":\"9817bad1-0452-4877-9e69-57604203d78d\",\"type\":\"PanTool\"},{\"id\":\"b3924376-aca4-4397-ae87-92d2cea50d69\",\"type\":\"ResetTool\"}]},\"id\":\"1709d2b9-9f55-48b1-b61c-50b626d39eda\",\"type\":\"Toolbar\"},{\"attributes\":{\"fill_color\":{\"value\":\"red\"},\"line_color\":{\"value\":\"red\"},\"plot\":null,\"size\":10},\"id\":\"68ebe03d-01a3-429a-a2a1-d469ffd84165\",\"type\":\"NormalHead\"},{\"attributes\":{\"formatter\":{\"id\":\"4d07d65d-4135-4715-b993-e22acca94b6b\",\"type\":\"BasicTickFormatter\"},\"plot\":{\"id\":\"8d4362b6-acfe-4976-8e2b-e1eaae0e83c5\",\"subtype\":\"Figure\",\"type\":\"Plot\"},\"ticker\":{\"id\":\"1359449a-2e45-4186-81cc-2f5621a98f49\",\"type\":\"BasicTicker\"}},\"id\":\"16b67ba8-75e9-4422-8963-8a1efac5e398\",\"type\":\"LinearAxis\"},{\"attributes\":{\"line_width\":1.5,\"x\":{\"field\":\"x\"},\"y\":{\"field\":\"y\"}},\"id\":\"6a20acd9-8b82-4c20-903c-dfb25b954ca4\",\"type\":\"Line\"},{\"attributes\":{\"callback\":null,\"end\":4.8999999999999995,\"start\":-4.8999999999999995},\"id\":\"3b95454d-de9c-493f-8fd2-6ddfbac0e1e0\",\"type\":\"Range1d\"},{\"attributes\":{\"end\":{\"id\":\"68ebe03d-01a3-429a-a2a1-d469ffd84165\",\"type\":\"NormalHead\"},\"line_color\":{\"value\":\"red\"},\"line_width\":{\"value\":3},\"plot\":{\"id\":\"8d4362b6-acfe-4976-8e2b-e1eaae0e83c5\",\"subtype\":\"Figure\",\"type\":\"Plot\"},\"source\":null,\"start\":null,\"x_end\":{\"value\":1},\"x_start\":{\"value\":0.0},\"y_end\":{\"value\":2},\"y_start\":{\"value\":0.0}},\"id\":\"67f1f33f-a903-44a1-911c-95cfb2dc0ef9\",\"type\":\"Arrow\"},{\"attributes\":{\"callback\":null,\"data\":{\"x\":[-7.0,7.0],\"y\":[0.0,0.0]},\"selected\":{\"id\":\"88e3dd56-b5b8-4088-89c9-fdd5b1efc4eb\",\"type\":\"Selection\"},\"selection_policy\":{\"id\":\"310bb436-74de-4a48-89d2-27f4a43335a3\",\"type\":\"UnionRenderers\"}},\"id\":\"95312e9d-bb1a-4690-be12-237f8ac87bb3\",\"type\":\"ColumnDataSource\"},{\"attributes\":{},\"id\":\"4d07d65d-4135-4715-b993-e22acca94b6b\",\"type\":\"BasicTickFormatter\"},{\"attributes\":{\"callback\":null,\"end\":4.8999999999999995,\"start\":-4.8999999999999995},\"id\":\"b6cc49ae-324a-4684-bfc6-21f800d38c96\",\"type\":\"Range1d\"},{\"attributes\":{\"plot\":{\"id\":\"8d4362b6-acfe-4976-8e2b-e1eaae0e83c5\",\"subtype\":\"Figure\",\"type\":\"Plot\"},\"ticker\":{\"id\":\"1359449a-2e45-4186-81cc-2f5621a98f49\",\"type\":\"BasicTicker\"}},\"id\":\"d15a95fc-73d5-4154-a1ca-d9b7ec72eb2a\",\"type\":\"Grid\"},{\"attributes\":{\"line_alpha\":0.1,\"line_color\":\"#1f77b4\",\"line_width\":1.5,\"x\":{\"field\":\"x\"},\"y\":{\"field\":\"y\"}},\"id\":\"0a3762af-8a92-44a0-9023-ed334a058aa8\",\"type\":\"Line\"},{\"attributes\":{},\"id\":\"7d07a703-e135-4bca-b89c-4b0503261182\",\"type\":\"UnionRenderers\"},{\"attributes\":{\"line_width\":1.5,\"x\":{\"field\":\"x\"},\"y\":{\"field\":\"y\"}},\"id\":\"360b8080-937e-4c46-b1c5-b2bece20a0f5\",\"type\":\"Line\"},{\"attributes\":{},\"id\":\"03c3901c-d49e-4cea-943d-c1506f69c813\",\"type\":\"BasicTicker\"},{\"attributes\":{},\"id\":\"b3924376-aca4-4397-ae87-92d2cea50d69\",\"type\":\"ResetTool\"},{\"attributes\":{},\"id\":\"8dbb09cd-fb9e-47c4-b066-be661347466c\",\"type\":\"BasicTickFormatter\"},{\"attributes\":{\"data_source\":{\"id\":\"95312e9d-bb1a-4690-be12-237f8ac87bb3\",\"type\":\"ColumnDataSource\"},\"glyph\":{\"id\":\"6a20acd9-8b82-4c20-903c-dfb25b954ca4\",\"type\":\"Line\"},\"hover_glyph\":null,\"muted_glyph\":null,\"nonselection_glyph\":{\"id\":\"c55f179d-04a9-45e4-87cc-a04cd2919f1e\",\"type\":\"Line\"},\"selection_glyph\":null,\"view\":{\"id\":\"6ea25c82-f107-4d4d-ad8a-9d5a20ab15d4\",\"type\":\"CDSView\"}},\"id\":\"6aa7bc6f-c894-4a21-8a5a-46478ed369dc\",\"type\":\"GlyphRenderer\"},{\"attributes\":{},\"id\":\"9817bad1-0452-4877-9e69-57604203d78d\",\"type\":\"PanTool\"},{\"attributes\":{},\"id\":\"1e388b1c-ff7a-479a-934a-98d06f07fdb1\",\"type\":\"WheelZoomTool\"},{\"attributes\":{\"dimension\":1,\"plot\":{\"id\":\"8d4362b6-acfe-4976-8e2b-e1eaae0e83c5\",\"subtype\":\"Figure\",\"type\":\"Plot\"},\"ticker\":{\"id\":\"03c3901c-d49e-4cea-943d-c1506f69c813\",\"type\":\"BasicTicker\"}},\"id\":\"a7867c15-3981-4316-b91a-f047365c1a82\",\"type\":\"Grid\"},{\"attributes\":{\"end\":{\"id\":\"3e9cc32f-6568-4de6-8cfa-129937378fee\",\"type\":\"NormalHead\"},\"line_color\":{\"value\":\"blue\"},\"line_width\":{\"value\":3},\"plot\":{\"id\":\"8d4362b6-acfe-4976-8e2b-e1eaae0e83c5\",\"subtype\":\"Figure\",\"type\":\"Plot\"},\"source\":null,\"start\":null,\"x_end\":{\"value\":4},\"x_start\":{\"value\":0.0},\"y_end\":{\"value\":1},\"y_start\":{\"value\":0.0}},\"id\":\"20023979-2227-4eb4-9015-a45237dc2c50\",\"type\":\"Arrow\"},{\"attributes\":{\"fill_color\":{\"value\":\"blue\"},\"line_color\":{\"value\":\"blue\"},\"plot\":null,\"size\":10},\"id\":\"3e9cc32f-6568-4de6-8cfa-129937378fee\",\"type\":\"NormalHead\"},{\"attributes\":{},\"id\":\"310bb436-74de-4a48-89d2-27f4a43335a3\",\"type\":\"UnionRenderers\"},{\"attributes\":{\"source\":{\"id\":\"95312e9d-bb1a-4690-be12-237f8ac87bb3\",\"type\":\"ColumnDataSource\"}},\"id\":\"6ea25c82-f107-4d4d-ad8a-9d5a20ab15d4\",\"type\":\"CDSView\"},{\"attributes\":{},\"id\":\"1359449a-2e45-4186-81cc-2f5621a98f49\",\"type\":\"BasicTicker\"},{\"attributes\":{\"formatter\":{\"id\":\"8dbb09cd-fb9e-47c4-b066-be661347466c\",\"type\":\"BasicTickFormatter\"},\"plot\":{\"id\":\"8d4362b6-acfe-4976-8e2b-e1eaae0e83c5\",\"subtype\":\"Figure\",\"type\":\"Plot\"},\"ticker\":{\"id\":\"03c3901c-d49e-4cea-943d-c1506f69c813\",\"type\":\"BasicTicker\"}},\"id\":\"8158927e-aad8-4ff2-8571-fe9877fab05c\",\"type\":\"LinearAxis\"}],\"root_ids\":[\"8d4362b6-acfe-4976-8e2b-e1eaae0e83c5\"]},\"title\":\"Bokeh Application\",\"version\":\"0.13.0\"}};\n",
       "  var render_items = [{\"docid\":\"4b6ec122-59bf-439e-9946-ff95f147ac9b\",\"roots\":{\"8d4362b6-acfe-4976-8e2b-e1eaae0e83c5\":\"cba641df-a67c-40ca-a258-b13160caf950\"}}];\n",
       "  root.Bokeh.embed.embed_items_notebook(docs_json, render_items);\n",
       "\n",
       "  }\n",
       "  if (root.Bokeh !== undefined) {\n",
       "    embed_document(root);\n",
       "  } else {\n",
       "    var attempts = 0;\n",
       "    var timer = setInterval(function(root) {\n",
       "      if (root.Bokeh !== undefined) {\n",
       "        embed_document(root);\n",
       "        clearInterval(timer);\n",
       "      }\n",
       "      attempts++;\n",
       "      if (attempts > 100) {\n",
       "        console.log(\"Bokeh: ERROR: Unable to run BokehJS code because BokehJS library is missing\")\n",
       "        clearInterval(timer);\n",
       "      }\n",
       "    }, 10, root)\n",
       "  }\n",
       "})(window);"
      ],
      "application/vnd.bokehjs_exec.v0+json": ""
     },
     "metadata": {
      "application/vnd.bokehjs_exec.v0+json": {
       "id": "8d4362b6-acfe-4976-8e2b-e1eaae0e83c5"
      }
     },
     "output_type": "display_data"
    }
   ],
   "source": [
    "a = np.array([4,1])\n",
    "b = np.array([1,2])\n",
    "\n",
    "plot.clear().graph(7)\n",
    "plot.vector(a)\n",
    "plot.vector(b)\n",
    "plot.show()"
   ]
  },
  {
   "cell_type": "markdown",
   "metadata": {},
   "source": [
    "### Law of Cosines\n",
    "\n",
    "Recall the Law of Cosines from trigonometry. Law of Cosines can be thought of as a _generalized version of the Pythagorean Theorem_.\n",
    "\n",
    "$$ c^2 = a^2 + b^2 - 2ab\\cos{\\theta} $$"
   ]
  },
  {
   "cell_type": "markdown",
   "metadata": {},
   "source": [
    "For example, when the angle ($\\theta$) between $a$ and $b$ is 90 degrees, the $cos{\\theta}$ equals $0$ and the equation reduces to the Pythagorean Theorem.  \n",
    "\n",
    "$$ c^2 = a^2 + b^2 - 0 $$"
   ]
  },
  {
   "cell_type": "markdown",
   "metadata": {},
   "source": [
    "Considering the two vectors presented above, let's subtract the two to produce a third vector $\\vec{c}$. This will give us a triangle. "
   ]
  },
  {
   "cell_type": "code",
   "execution_count": 11,
   "metadata": {},
   "outputs": [
    {
     "data": {
      "text/html": [
       "\n",
       "\n",
       "\n",
       "\n",
       "\n",
       "\n",
       "  <div class=\"bk-root\" id=\"b4289f52-0157-486a-86a9-e1fd96643e15\"></div>\n"
      ]
     },
     "metadata": {},
     "output_type": "display_data"
    },
    {
     "data": {
      "application/javascript": [
       "(function(root) {\n",
       "  function embed_document(root) {\n",
       "    \n",
       "  var docs_json = {\"ae3e161a-9974-47d1-b12b-71052558f4d4\":{\"roots\":{\"references\":[{\"attributes\":{\"callback\":null,\"data\":{\"x\":[0.0,0.0],\"y\":[-7.0,7.0]},\"selected\":{\"id\":\"977997ea-1b86-498a-90fc-963a85453730\",\"type\":\"Selection\"},\"selection_policy\":{\"id\":\"7d07a703-e135-4bca-b89c-4b0503261182\",\"type\":\"UnionRenderers\"}},\"id\":\"a5ff16c4-3d2b-4400-97d5-65f80727a463\",\"type\":\"ColumnDataSource\"},{\"attributes\":{},\"id\":\"5e4c240b-0273-460e-a194-53131f7d4f65\",\"type\":\"LinearScale\"},{\"attributes\":{\"below\":[{\"id\":\"16b67ba8-75e9-4422-8963-8a1efac5e398\",\"type\":\"LinearAxis\"}],\"left\":[{\"id\":\"8158927e-aad8-4ff2-8571-fe9877fab05c\",\"type\":\"LinearAxis\"}],\"plot_height\":700,\"plot_width\":700,\"renderers\":[{\"id\":\"16b67ba8-75e9-4422-8963-8a1efac5e398\",\"type\":\"LinearAxis\"},{\"id\":\"d15a95fc-73d5-4154-a1ca-d9b7ec72eb2a\",\"type\":\"Grid\"},{\"id\":\"8158927e-aad8-4ff2-8571-fe9877fab05c\",\"type\":\"LinearAxis\"},{\"id\":\"a7867c15-3981-4316-b91a-f047365c1a82\",\"type\":\"Grid\"},{\"id\":\"6aa7bc6f-c894-4a21-8a5a-46478ed369dc\",\"type\":\"GlyphRenderer\"},{\"id\":\"0d69fd8a-7054-4a45-8193-76d762ab06cc\",\"type\":\"GlyphRenderer\"},{\"id\":\"20023979-2227-4eb4-9015-a45237dc2c50\",\"type\":\"Arrow\"},{\"id\":\"67f1f33f-a903-44a1-911c-95cfb2dc0ef9\",\"type\":\"Arrow\"},{\"id\":\"bc2fbb63-c222-4e18-8d3f-baca3dcc21a7\",\"type\":\"Arrow\"},{\"id\":\"b777b3ea-ed27-4147-b887-f5a8b251058b\",\"type\":\"Arrow\"},{\"id\":\"e22f71a4-aa46-412a-9d3c-682ea79561c8\",\"type\":\"Arrow\"}],\"title\":{\"id\":\"0439cb03-e204-4356-9e95-8e68e42df567\",\"type\":\"Title\"},\"toolbar\":{\"id\":\"1709d2b9-9f55-48b1-b61c-50b626d39eda\",\"type\":\"Toolbar\"},\"x_range\":{\"id\":\"3b95454d-de9c-493f-8fd2-6ddfbac0e1e0\",\"type\":\"Range1d\"},\"x_scale\":{\"id\":\"5e4c240b-0273-460e-a194-53131f7d4f65\",\"type\":\"LinearScale\"},\"y_range\":{\"id\":\"b6cc49ae-324a-4684-bfc6-21f800d38c96\",\"type\":\"Range1d\"},\"y_scale\":{\"id\":\"38b2d036-ad17-488f-aa65-f896d1a19096\",\"type\":\"LinearScale\"}},\"id\":\"8d4362b6-acfe-4976-8e2b-e1eaae0e83c5\",\"subtype\":\"Figure\",\"type\":\"Plot\"},{\"attributes\":{},\"id\":\"88e3dd56-b5b8-4088-89c9-fdd5b1efc4eb\",\"type\":\"Selection\"},{\"attributes\":{\"fill_color\":{\"value\":\"green\"},\"line_color\":{\"value\":\"green\"},\"plot\":null,\"size\":10},\"id\":\"48cdee2e-80cf-476a-9e32-144c21790355\",\"type\":\"NormalHead\"},{\"attributes\":{\"end\":{\"id\":\"aa5e7799-91a5-4328-8dc5-5fab1f689c73\",\"type\":\"NormalHead\"},\"line_alpha\":{\"value\":0.3},\"line_color\":{\"value\":\"purple\"},\"line_width\":{\"value\":3},\"plot\":{\"id\":\"8d4362b6-acfe-4976-8e2b-e1eaae0e83c5\",\"subtype\":\"Figure\",\"type\":\"Plot\"},\"source\":null,\"start\":null,\"x_end\":{\"value\":4},\"x_start\":{\"value\":1},\"y_end\":{\"value\":1},\"y_start\":{\"value\":2}},\"id\":\"e22f71a4-aa46-412a-9d3c-682ea79561c8\",\"type\":\"Arrow\"},{\"attributes\":{\"line_alpha\":0.1,\"line_color\":\"#1f77b4\",\"line_width\":1.5,\"x\":{\"field\":\"x\"},\"y\":{\"field\":\"y\"}},\"id\":\"c55f179d-04a9-45e4-87cc-a04cd2919f1e\",\"type\":\"Line\"},{\"attributes\":{\"source\":{\"id\":\"a5ff16c4-3d2b-4400-97d5-65f80727a463\",\"type\":\"ColumnDataSource\"}},\"id\":\"f44241c8-f21a-4fc2-8f93-174d4153db0a\",\"type\":\"CDSView\"},{\"attributes\":{},\"id\":\"38b2d036-ad17-488f-aa65-f896d1a19096\",\"type\":\"LinearScale\"},{\"attributes\":{\"plot\":null,\"text\":\"\"},\"id\":\"0439cb03-e204-4356-9e95-8e68e42df567\",\"type\":\"Title\"},{\"attributes\":{\"data_source\":{\"id\":\"a5ff16c4-3d2b-4400-97d5-65f80727a463\",\"type\":\"ColumnDataSource\"},\"glyph\":{\"id\":\"360b8080-937e-4c46-b1c5-b2bece20a0f5\",\"type\":\"Line\"},\"hover_glyph\":null,\"muted_glyph\":null,\"nonselection_glyph\":{\"id\":\"0a3762af-8a92-44a0-9023-ed334a058aa8\",\"type\":\"Line\"},\"selection_glyph\":null,\"view\":{\"id\":\"f44241c8-f21a-4fc2-8f93-174d4153db0a\",\"type\":\"CDSView\"}},\"id\":\"0d69fd8a-7054-4a45-8193-76d762ab06cc\",\"type\":\"GlyphRenderer\"},{\"attributes\":{},\"id\":\"977997ea-1b86-498a-90fc-963a85453730\",\"type\":\"Selection\"},{\"attributes\":{\"active_drag\":\"auto\",\"active_inspect\":\"auto\",\"active_multi\":null,\"active_scroll\":\"auto\",\"active_tap\":\"auto\",\"tools\":[{\"id\":\"1e388b1c-ff7a-479a-934a-98d06f07fdb1\",\"type\":\"WheelZoomTool\"},{\"id\":\"9817bad1-0452-4877-9e69-57604203d78d\",\"type\":\"PanTool\"},{\"id\":\"b3924376-aca4-4397-ae87-92d2cea50d69\",\"type\":\"ResetTool\"}]},\"id\":\"1709d2b9-9f55-48b1-b61c-50b626d39eda\",\"type\":\"Toolbar\"},{\"attributes\":{\"fill_color\":{\"value\":\"red\"},\"line_color\":{\"value\":\"red\"},\"plot\":null,\"size\":10},\"id\":\"68ebe03d-01a3-429a-a2a1-d469ffd84165\",\"type\":\"NormalHead\"},{\"attributes\":{\"fill_color\":{\"value\":\"orange\"},\"line_color\":{\"value\":\"orange\"},\"plot\":null,\"size\":10},\"id\":\"a0e7b062-8c86-40a8-be0c-f82dd17ebdf1\",\"type\":\"NormalHead\"},{\"attributes\":{\"end\":{\"id\":\"a0e7b062-8c86-40a8-be0c-f82dd17ebdf1\",\"type\":\"NormalHead\"},\"line_color\":{\"value\":\"orange\"},\"line_width\":{\"value\":3},\"plot\":{\"id\":\"8d4362b6-acfe-4976-8e2b-e1eaae0e83c5\",\"subtype\":\"Figure\",\"type\":\"Plot\"},\"source\":null,\"start\":null,\"x_end\":{\"value\":1},\"x_start\":{\"value\":0.0},\"y_end\":{\"value\":2},\"y_start\":{\"value\":0.0}},\"id\":\"b777b3ea-ed27-4147-b887-f5a8b251058b\",\"type\":\"Arrow\"},{\"attributes\":{\"formatter\":{\"id\":\"4d07d65d-4135-4715-b993-e22acca94b6b\",\"type\":\"BasicTickFormatter\"},\"plot\":{\"id\":\"8d4362b6-acfe-4976-8e2b-e1eaae0e83c5\",\"subtype\":\"Figure\",\"type\":\"Plot\"},\"ticker\":{\"id\":\"1359449a-2e45-4186-81cc-2f5621a98f49\",\"type\":\"BasicTicker\"}},\"id\":\"16b67ba8-75e9-4422-8963-8a1efac5e398\",\"type\":\"LinearAxis\"},{\"attributes\":{\"line_width\":1.5,\"x\":{\"field\":\"x\"},\"y\":{\"field\":\"y\"}},\"id\":\"6a20acd9-8b82-4c20-903c-dfb25b954ca4\",\"type\":\"Line\"},{\"attributes\":{\"callback\":null,\"end\":4.8999999999999995,\"start\":-4.8999999999999995},\"id\":\"3b95454d-de9c-493f-8fd2-6ddfbac0e1e0\",\"type\":\"Range1d\"},{\"attributes\":{\"end\":{\"id\":\"68ebe03d-01a3-429a-a2a1-d469ffd84165\",\"type\":\"NormalHead\"},\"line_color\":{\"value\":\"red\"},\"line_width\":{\"value\":3},\"plot\":{\"id\":\"8d4362b6-acfe-4976-8e2b-e1eaae0e83c5\",\"subtype\":\"Figure\",\"type\":\"Plot\"},\"source\":null,\"start\":null,\"x_end\":{\"value\":1},\"x_start\":{\"value\":0.0},\"y_end\":{\"value\":2},\"y_start\":{\"value\":0.0}},\"id\":\"67f1f33f-a903-44a1-911c-95cfb2dc0ef9\",\"type\":\"Arrow\"},{\"attributes\":{\"callback\":null,\"data\":{\"x\":[-7.0,7.0],\"y\":[0.0,0.0]},\"selected\":{\"id\":\"88e3dd56-b5b8-4088-89c9-fdd5b1efc4eb\",\"type\":\"Selection\"},\"selection_policy\":{\"id\":\"310bb436-74de-4a48-89d2-27f4a43335a3\",\"type\":\"UnionRenderers\"}},\"id\":\"95312e9d-bb1a-4690-be12-237f8ac87bb3\",\"type\":\"ColumnDataSource\"},{\"attributes\":{},\"id\":\"4d07d65d-4135-4715-b993-e22acca94b6b\",\"type\":\"BasicTickFormatter\"},{\"attributes\":{\"callback\":null,\"end\":4.8999999999999995,\"start\":-4.8999999999999995},\"id\":\"b6cc49ae-324a-4684-bfc6-21f800d38c96\",\"type\":\"Range1d\"},{\"attributes\":{\"plot\":{\"id\":\"8d4362b6-acfe-4976-8e2b-e1eaae0e83c5\",\"subtype\":\"Figure\",\"type\":\"Plot\"},\"ticker\":{\"id\":\"1359449a-2e45-4186-81cc-2f5621a98f49\",\"type\":\"BasicTicker\"}},\"id\":\"d15a95fc-73d5-4154-a1ca-d9b7ec72eb2a\",\"type\":\"Grid\"},{\"attributes\":{\"end\":{\"id\":\"48cdee2e-80cf-476a-9e32-144c21790355\",\"type\":\"NormalHead\"},\"line_color\":{\"value\":\"green\"},\"line_width\":{\"value\":3},\"plot\":{\"id\":\"8d4362b6-acfe-4976-8e2b-e1eaae0e83c5\",\"subtype\":\"Figure\",\"type\":\"Plot\"},\"source\":null,\"start\":null,\"x_end\":{\"value\":4},\"x_start\":{\"value\":0.0},\"y_end\":{\"value\":1},\"y_start\":{\"value\":0.0}},\"id\":\"bc2fbb63-c222-4e18-8d3f-baca3dcc21a7\",\"type\":\"Arrow\"},{\"attributes\":{\"line_alpha\":0.1,\"line_color\":\"#1f77b4\",\"line_width\":1.5,\"x\":{\"field\":\"x\"},\"y\":{\"field\":\"y\"}},\"id\":\"0a3762af-8a92-44a0-9023-ed334a058aa8\",\"type\":\"Line\"},{\"attributes\":{},\"id\":\"7d07a703-e135-4bca-b89c-4b0503261182\",\"type\":\"UnionRenderers\"},{\"attributes\":{\"line_width\":1.5,\"x\":{\"field\":\"x\"},\"y\":{\"field\":\"y\"}},\"id\":\"360b8080-937e-4c46-b1c5-b2bece20a0f5\",\"type\":\"Line\"},{\"attributes\":{},\"id\":\"03c3901c-d49e-4cea-943d-c1506f69c813\",\"type\":\"BasicTicker\"},{\"attributes\":{},\"id\":\"b3924376-aca4-4397-ae87-92d2cea50d69\",\"type\":\"ResetTool\"},{\"attributes\":{},\"id\":\"8dbb09cd-fb9e-47c4-b066-be661347466c\",\"type\":\"BasicTickFormatter\"},{\"attributes\":{\"data_source\":{\"id\":\"95312e9d-bb1a-4690-be12-237f8ac87bb3\",\"type\":\"ColumnDataSource\"},\"glyph\":{\"id\":\"6a20acd9-8b82-4c20-903c-dfb25b954ca4\",\"type\":\"Line\"},\"hover_glyph\":null,\"muted_glyph\":null,\"nonselection_glyph\":{\"id\":\"c55f179d-04a9-45e4-87cc-a04cd2919f1e\",\"type\":\"Line\"},\"selection_glyph\":null,\"view\":{\"id\":\"6ea25c82-f107-4d4d-ad8a-9d5a20ab15d4\",\"type\":\"CDSView\"}},\"id\":\"6aa7bc6f-c894-4a21-8a5a-46478ed369dc\",\"type\":\"GlyphRenderer\"},{\"attributes\":{},\"id\":\"9817bad1-0452-4877-9e69-57604203d78d\",\"type\":\"PanTool\"},{\"attributes\":{},\"id\":\"1e388b1c-ff7a-479a-934a-98d06f07fdb1\",\"type\":\"WheelZoomTool\"},{\"attributes\":{\"dimension\":1,\"plot\":{\"id\":\"8d4362b6-acfe-4976-8e2b-e1eaae0e83c5\",\"subtype\":\"Figure\",\"type\":\"Plot\"},\"ticker\":{\"id\":\"03c3901c-d49e-4cea-943d-c1506f69c813\",\"type\":\"BasicTicker\"}},\"id\":\"a7867c15-3981-4316-b91a-f047365c1a82\",\"type\":\"Grid\"},{\"attributes\":{\"fill_alpha\":{\"value\":0.3},\"fill_color\":{\"value\":\"purple\"},\"line_alpha\":{\"value\":0.3},\"line_color\":{\"value\":\"purple\"},\"plot\":null,\"size\":10},\"id\":\"aa5e7799-91a5-4328-8dc5-5fab1f689c73\",\"type\":\"NormalHead\"},{\"attributes\":{\"end\":{\"id\":\"3e9cc32f-6568-4de6-8cfa-129937378fee\",\"type\":\"NormalHead\"},\"line_color\":{\"value\":\"blue\"},\"line_width\":{\"value\":3},\"plot\":{\"id\":\"8d4362b6-acfe-4976-8e2b-e1eaae0e83c5\",\"subtype\":\"Figure\",\"type\":\"Plot\"},\"source\":null,\"start\":null,\"x_end\":{\"value\":4},\"x_start\":{\"value\":0.0},\"y_end\":{\"value\":1},\"y_start\":{\"value\":0.0}},\"id\":\"20023979-2227-4eb4-9015-a45237dc2c50\",\"type\":\"Arrow\"},{\"attributes\":{\"fill_color\":{\"value\":\"blue\"},\"line_color\":{\"value\":\"blue\"},\"plot\":null,\"size\":10},\"id\":\"3e9cc32f-6568-4de6-8cfa-129937378fee\",\"type\":\"NormalHead\"},{\"attributes\":{},\"id\":\"310bb436-74de-4a48-89d2-27f4a43335a3\",\"type\":\"UnionRenderers\"},{\"attributes\":{\"source\":{\"id\":\"95312e9d-bb1a-4690-be12-237f8ac87bb3\",\"type\":\"ColumnDataSource\"}},\"id\":\"6ea25c82-f107-4d4d-ad8a-9d5a20ab15d4\",\"type\":\"CDSView\"},{\"attributes\":{},\"id\":\"1359449a-2e45-4186-81cc-2f5621a98f49\",\"type\":\"BasicTicker\"},{\"attributes\":{\"formatter\":{\"id\":\"8dbb09cd-fb9e-47c4-b066-be661347466c\",\"type\":\"BasicTickFormatter\"},\"plot\":{\"id\":\"8d4362b6-acfe-4976-8e2b-e1eaae0e83c5\",\"subtype\":\"Figure\",\"type\":\"Plot\"},\"ticker\":{\"id\":\"03c3901c-d49e-4cea-943d-c1506f69c813\",\"type\":\"BasicTicker\"}},\"id\":\"8158927e-aad8-4ff2-8571-fe9877fab05c\",\"type\":\"LinearAxis\"}],\"root_ids\":[\"8d4362b6-acfe-4976-8e2b-e1eaae0e83c5\"]},\"title\":\"Bokeh Application\",\"version\":\"0.13.0\"}};\n",
       "  var render_items = [{\"docid\":\"ae3e161a-9974-47d1-b12b-71052558f4d4\",\"roots\":{\"8d4362b6-acfe-4976-8e2b-e1eaae0e83c5\":\"b4289f52-0157-486a-86a9-e1fd96643e15\"}}];\n",
       "  root.Bokeh.embed.embed_items_notebook(docs_json, render_items);\n",
       "\n",
       "  }\n",
       "  if (root.Bokeh !== undefined) {\n",
       "    embed_document(root);\n",
       "  } else {\n",
       "    var attempts = 0;\n",
       "    var timer = setInterval(function(root) {\n",
       "      if (root.Bokeh !== undefined) {\n",
       "        embed_document(root);\n",
       "        clearInterval(timer);\n",
       "      }\n",
       "      attempts++;\n",
       "      if (attempts > 100) {\n",
       "        console.log(\"Bokeh: ERROR: Unable to run BokehJS code because BokehJS library is missing\")\n",
       "        clearInterval(timer);\n",
       "      }\n",
       "    }, 10, root)\n",
       "  }\n",
       "})(window);"
      ],
      "application/vnd.bokehjs_exec.v0+json": ""
     },
     "metadata": {
      "application/vnd.bokehjs_exec.v0+json": {
       "id": "8d4362b6-acfe-4976-8e2b-e1eaae0e83c5"
      }
     },
     "output_type": "display_data"
    }
   ],
   "source": [
    "plot.subtract_vectors(a,b)\n",
    "plot.show()"
   ]
  },
  {
   "cell_type": "markdown",
   "metadata": {},
   "source": [
    "Applying the law of cosigns to these vectors, something interesting pops out!\n",
    "\n",
    "<br>\n",
    "\n",
    "$$  \\left\\| c \\right\\|^2 = \\left\\|  a \\right\\|^2 + \\left\\| b  \\right\\|^2 - 2\\left\\| a \\right\\| \\left\\| b \\right\\|\\cos{\\theta}  $$\n",
    "\n",
    "<br>\n",
    "\n",
    "$$  \\left\\|  a - b \\right\\|^2 = \\left\\|  a \\right\\|^2 + \\left\\| b  \\right\\|^2 - 2\\left\\| a \\right\\| \\left\\| b \\right\\|\\cos{\\theta}  $$\n",
    "\n",
    "<br>\n",
    "\n",
    "$$ (\\vec{a} - \\vec{b}) \\cdot (\\vec{a} - \\vec{b}) = \\left\\|  a \\right\\|^2 + \\left\\| b  \\right\\|^2 - 2\\left\\| a \\right\\| \\left\\| b \\right\\|\\cos{\\theta}  $$\n",
    "\n",
    "<br>\n",
    "\n",
    "$$ \\vec{a}\\vec{a} - 2(\\vec{a} \\cdot \\vec{b}) + \\vec{b}\\vec{b} = \\left\\|  a \\right\\|^2 + \\left\\| b  \\right\\|^2 - 2\\left\\| a \\right\\| \\left\\| b \\right\\|\\cos{\\theta}  $$\n",
    "\n",
    "<br>\n",
    "\n",
    "$$  \\left\\| a \\right\\|^2 - 2(\\vec{a} \\cdot \\vec{b}) + \\left\\| b \\right\\|^2 = \\left\\|  a \\right\\|^2 + \\left\\| b  \\right\\|^2 - 2\\left\\| a \\right\\| \\left\\| b \\right\\|\\cos{\\theta}  $$\n",
    "\n",
    "<br>\n",
    "\n",
    "$$ - 2(\\vec{a} \\cdot \\vec{b}) = - 2\\left\\| a \\right\\| \\left\\| b \\right\\|\\cos{\\theta}  $$\n",
    "\n",
    "<br>\n",
    "\n",
    "$$ \\vec{a} \\cdot \\vec{b} =  \\left\\| a \\right\\| \\left\\| b \\right\\|\\cos{\\theta} $$ "
   ]
  },
  {
   "cell_type": "markdown",
   "metadata": {},
   "source": [
    "**_In words, the dot product of two vectors is equal to the product of their lengths times the cosine of the angle between them._**"
   ]
  },
  {
   "cell_type": "markdown",
   "metadata": {},
   "source": [
    "## Triangle Inequality\n",
    "\n",
    "An important rule to keep in mind: the sum of two sides of a triangle must always be greater than or equal to the third length. In linear algebra, we take this important property from trigonometry and apply it to _$N$-dimensional space_.\n",
    "\n",
    "$$ \\left\\| \\vec{a} + \\vec{b} \\right\\| \\le \\left\\| \\vec{a} \\right\\| + \\left\\|\\vec{b} \\right\\| $$"
   ]
  },
  {
   "cell_type": "markdown",
   "metadata": {},
   "source": [
    "## Orthogonal Vectors \n",
    "\n",
    "Again, when the angle between two vectors is 90 degrees (i.e. when the vectors are pointing in the **opposite direction**) the $\\cos{\\theta} = 0$"
   ]
  },
  {
   "cell_type": "code",
   "execution_count": 12,
   "metadata": {},
   "outputs": [
    {
     "data": {
      "text/html": [
       "\n",
       "\n",
       "\n",
       "\n",
       "\n",
       "\n",
       "  <div class=\"bk-root\" id=\"69063e24-912f-48a6-912d-a90d0437d6a5\"></div>\n"
      ]
     },
     "metadata": {},
     "output_type": "display_data"
    },
    {
     "data": {
      "application/javascript": [
       "(function(root) {\n",
       "  function embed_document(root) {\n",
       "    \n",
       "  var docs_json = {\"82cf73c7-d8c9-4475-9805-2944fbb868bd\":{\"roots\":{\"references\":[{\"attributes\":{},\"id\":\"4f5b00e0-cdd2-443b-8288-b741c5e0dfc3\",\"type\":\"LinearScale\"},{\"attributes\":{\"fill_color\":{\"value\":\"red\"},\"line_color\":{\"value\":\"red\"},\"plot\":null,\"size\":10},\"id\":\"75e8160c-8b38-4490-b9d4-0c7bac0e3b45\",\"type\":\"NormalHead\"},{\"attributes\":{\"line_alpha\":0.1,\"line_color\":\"#1f77b4\",\"line_width\":1.5,\"x\":{\"field\":\"x\"},\"y\":{\"field\":\"y\"}},\"id\":\"a3a45cd5-7805-456d-954b-b470d05571d9\",\"type\":\"Line\"},{\"attributes\":{\"callback\":null,\"end\":7.0,\"start\":-7.0},\"id\":\"acc57373-f4d4-47d7-848f-3ae42f6d92df\",\"type\":\"Range1d\"},{\"attributes\":{},\"id\":\"4b4a138a-1737-405d-9f17-e99139c21c39\",\"type\":\"UnionRenderers\"},{\"attributes\":{\"callback\":null,\"data\":{\"x\":[-10.0,10.0],\"y\":[0.0,0.0]},\"selected\":{\"id\":\"1d8c7785-fafe-4ff2-a031-3a62c1ca9a8a\",\"type\":\"Selection\"},\"selection_policy\":{\"id\":\"4b4a138a-1737-405d-9f17-e99139c21c39\",\"type\":\"UnionRenderers\"}},\"id\":\"96913b06-8fbf-49f1-a5d3-0607fb6c6737\",\"type\":\"ColumnDataSource\"},{\"attributes\":{\"formatter\":{\"id\":\"1e2a0b95-d5a2-4d47-a306-a673db9a164d\",\"type\":\"BasicTickFormatter\"},\"plot\":{\"id\":\"cb475a92-8f33-48ab-9d4f-3c42ba6f535d\",\"subtype\":\"Figure\",\"type\":\"Plot\"},\"ticker\":{\"id\":\"172158ce-ed95-4b65-9062-8b3a9026afa1\",\"type\":\"BasicTicker\"}},\"id\":\"05479128-0ec0-48c1-98a0-7b64713cd151\",\"type\":\"LinearAxis\"},{\"attributes\":{},\"id\":\"172158ce-ed95-4b65-9062-8b3a9026afa1\",\"type\":\"BasicTicker\"},{\"attributes\":{\"below\":[{\"id\":\"46d55650-67c9-4d3e-ac1e-3c894a7b3c0a\",\"type\":\"LinearAxis\"}],\"left\":[{\"id\":\"05479128-0ec0-48c1-98a0-7b64713cd151\",\"type\":\"LinearAxis\"}],\"plot_height\":700,\"plot_width\":700,\"renderers\":[{\"id\":\"46d55650-67c9-4d3e-ac1e-3c894a7b3c0a\",\"type\":\"LinearAxis\"},{\"id\":\"01caa9b7-4440-478b-af90-61e40464f562\",\"type\":\"Grid\"},{\"id\":\"05479128-0ec0-48c1-98a0-7b64713cd151\",\"type\":\"LinearAxis\"},{\"id\":\"a9911152-1eca-48b9-8b65-5338b62d9a4d\",\"type\":\"Grid\"},{\"id\":\"c6585db0-14a5-4d1b-82ba-389df34a7b9d\",\"type\":\"GlyphRenderer\"},{\"id\":\"c57b217f-bcf5-40eb-aa20-109ccc2bc524\",\"type\":\"GlyphRenderer\"},{\"id\":\"cef54309-0539-4231-bb73-6e19d94d912b\",\"type\":\"Arrow\"},{\"id\":\"05714891-cdd0-42b5-886e-8cab9f347973\",\"type\":\"Arrow\"}],\"title\":{\"id\":\"6278c5d7-d488-4332-b0d8-d15e12f8a3c5\",\"type\":\"Title\"},\"toolbar\":{\"id\":\"7563ab01-2ab8-49f2-a5ce-e8f80c54e395\",\"type\":\"Toolbar\"},\"x_range\":{\"id\":\"c2c4334f-36ae-4f5a-92dd-6e47e365c0b2\",\"type\":\"Range1d\"},\"x_scale\":{\"id\":\"4f5b00e0-cdd2-443b-8288-b741c5e0dfc3\",\"type\":\"LinearScale\"},\"y_range\":{\"id\":\"acc57373-f4d4-47d7-848f-3ae42f6d92df\",\"type\":\"Range1d\"},\"y_scale\":{\"id\":\"08550ef8-ce50-4e42-8bf7-128f3329b5d0\",\"type\":\"LinearScale\"}},\"id\":\"cb475a92-8f33-48ab-9d4f-3c42ba6f535d\",\"subtype\":\"Figure\",\"type\":\"Plot\"},{\"attributes\":{\"plot\":{\"id\":\"cb475a92-8f33-48ab-9d4f-3c42ba6f535d\",\"subtype\":\"Figure\",\"type\":\"Plot\"},\"ticker\":{\"id\":\"eb898a32-d2fe-4db8-add0-cbdd8f1d005c\",\"type\":\"BasicTicker\"}},\"id\":\"01caa9b7-4440-478b-af90-61e40464f562\",\"type\":\"Grid\"},{\"attributes\":{\"line_width\":1.5,\"x\":{\"field\":\"x\"},\"y\":{\"field\":\"y\"}},\"id\":\"fc967f9e-6388-4edf-b516-360ec119ebcf\",\"type\":\"Line\"},{\"attributes\":{\"end\":{\"id\":\"75e8160c-8b38-4490-b9d4-0c7bac0e3b45\",\"type\":\"NormalHead\"},\"line_color\":{\"value\":\"red\"},\"line_width\":{\"value\":3},\"plot\":{\"id\":\"cb475a92-8f33-48ab-9d4f-3c42ba6f535d\",\"subtype\":\"Figure\",\"type\":\"Plot\"},\"source\":null,\"start\":null,\"x_end\":{\"value\":0},\"x_start\":{\"value\":0.0},\"y_end\":{\"value\":5},\"y_start\":{\"value\":0.0}},\"id\":\"05714891-cdd0-42b5-886e-8cab9f347973\",\"type\":\"Arrow\"},{\"attributes\":{\"data_source\":{\"id\":\"72e1a836-9d0c-440e-b859-f4f80e1b0c10\",\"type\":\"ColumnDataSource\"},\"glyph\":{\"id\":\"fc967f9e-6388-4edf-b516-360ec119ebcf\",\"type\":\"Line\"},\"hover_glyph\":null,\"muted_glyph\":null,\"nonselection_glyph\":{\"id\":\"f40c07a5-7cd6-4069-8b39-858ecd618289\",\"type\":\"Line\"},\"selection_glyph\":null,\"view\":{\"id\":\"7e427d7e-b51f-47da-981d-08f3caa36fb5\",\"type\":\"CDSView\"}},\"id\":\"c57b217f-bcf5-40eb-aa20-109ccc2bc524\",\"type\":\"GlyphRenderer\"},{\"attributes\":{},\"id\":\"ca1c694e-f3c3-479f-b4b9-87e58503d60e\",\"type\":\"BasicTickFormatter\"},{\"attributes\":{\"line_alpha\":0.1,\"line_color\":\"#1f77b4\",\"line_width\":1.5,\"x\":{\"field\":\"x\"},\"y\":{\"field\":\"y\"}},\"id\":\"f40c07a5-7cd6-4069-8b39-858ecd618289\",\"type\":\"Line\"},{\"attributes\":{},\"id\":\"1d8c7785-fafe-4ff2-a031-3a62c1ca9a8a\",\"type\":\"Selection\"},{\"attributes\":{},\"id\":\"1087bcb1-c041-46b8-a996-9167818e7da1\",\"type\":\"WheelZoomTool\"},{\"attributes\":{\"active_drag\":\"auto\",\"active_inspect\":\"auto\",\"active_multi\":null,\"active_scroll\":\"auto\",\"active_tap\":\"auto\",\"tools\":[{\"id\":\"1087bcb1-c041-46b8-a996-9167818e7da1\",\"type\":\"WheelZoomTool\"},{\"id\":\"a6681953-0092-46a4-9760-e37511938edb\",\"type\":\"PanTool\"},{\"id\":\"189ac437-1291-4903-a47c-31ead23b2609\",\"type\":\"ResetTool\"}]},\"id\":\"7563ab01-2ab8-49f2-a5ce-e8f80c54e395\",\"type\":\"Toolbar\"},{\"attributes\":{},\"id\":\"eb898a32-d2fe-4db8-add0-cbdd8f1d005c\",\"type\":\"BasicTicker\"},{\"attributes\":{},\"id\":\"387fc579-161b-4cc0-b418-98dc65726934\",\"type\":\"UnionRenderers\"},{\"attributes\":{},\"id\":\"1e97eef8-89ac-42ce-8706-d9cfdd0f4fc8\",\"type\":\"Selection\"},{\"attributes\":{},\"id\":\"189ac437-1291-4903-a47c-31ead23b2609\",\"type\":\"ResetTool\"},{\"attributes\":{\"line_width\":1.5,\"x\":{\"field\":\"x\"},\"y\":{\"field\":\"y\"}},\"id\":\"d7116a93-61c3-4638-a45d-4587339f0119\",\"type\":\"Line\"},{\"attributes\":{},\"id\":\"1e2a0b95-d5a2-4d47-a306-a673db9a164d\",\"type\":\"BasicTickFormatter\"},{\"attributes\":{\"data_source\":{\"id\":\"96913b06-8fbf-49f1-a5d3-0607fb6c6737\",\"type\":\"ColumnDataSource\"},\"glyph\":{\"id\":\"d7116a93-61c3-4638-a45d-4587339f0119\",\"type\":\"Line\"},\"hover_glyph\":null,\"muted_glyph\":null,\"nonselection_glyph\":{\"id\":\"a3a45cd5-7805-456d-954b-b470d05571d9\",\"type\":\"Line\"},\"selection_glyph\":null,\"view\":{\"id\":\"1bcde3df-3b50-4441-8bd5-77b4d78d366c\",\"type\":\"CDSView\"}},\"id\":\"c6585db0-14a5-4d1b-82ba-389df34a7b9d\",\"type\":\"GlyphRenderer\"},{\"attributes\":{\"formatter\":{\"id\":\"ca1c694e-f3c3-479f-b4b9-87e58503d60e\",\"type\":\"BasicTickFormatter\"},\"plot\":{\"id\":\"cb475a92-8f33-48ab-9d4f-3c42ba6f535d\",\"subtype\":\"Figure\",\"type\":\"Plot\"},\"ticker\":{\"id\":\"eb898a32-d2fe-4db8-add0-cbdd8f1d005c\",\"type\":\"BasicTicker\"}},\"id\":\"46d55650-67c9-4d3e-ac1e-3c894a7b3c0a\",\"type\":\"LinearAxis\"},{\"attributes\":{},\"id\":\"a6681953-0092-46a4-9760-e37511938edb\",\"type\":\"PanTool\"},{\"attributes\":{\"callback\":null,\"data\":{\"x\":[0.0,0.0],\"y\":[-10.0,10.0]},\"selected\":{\"id\":\"1e97eef8-89ac-42ce-8706-d9cfdd0f4fc8\",\"type\":\"Selection\"},\"selection_policy\":{\"id\":\"387fc579-161b-4cc0-b418-98dc65726934\",\"type\":\"UnionRenderers\"}},\"id\":\"72e1a836-9d0c-440e-b859-f4f80e1b0c10\",\"type\":\"ColumnDataSource\"},{\"attributes\":{\"dimension\":1,\"plot\":{\"id\":\"cb475a92-8f33-48ab-9d4f-3c42ba6f535d\",\"subtype\":\"Figure\",\"type\":\"Plot\"},\"ticker\":{\"id\":\"172158ce-ed95-4b65-9062-8b3a9026afa1\",\"type\":\"BasicTicker\"}},\"id\":\"a9911152-1eca-48b9-8b65-5338b62d9a4d\",\"type\":\"Grid\"},{\"attributes\":{\"fill_color\":{\"value\":\"blue\"},\"line_color\":{\"value\":\"blue\"},\"plot\":null,\"size\":10},\"id\":\"38b95d17-bc45-486a-94ec-057c3f5d2a6f\",\"type\":\"NormalHead\"},{\"attributes\":{\"callback\":null,\"end\":7.0,\"start\":-7.0},\"id\":\"c2c4334f-36ae-4f5a-92dd-6e47e365c0b2\",\"type\":\"Range1d\"},{\"attributes\":{\"source\":{\"id\":\"72e1a836-9d0c-440e-b859-f4f80e1b0c10\",\"type\":\"ColumnDataSource\"}},\"id\":\"7e427d7e-b51f-47da-981d-08f3caa36fb5\",\"type\":\"CDSView\"},{\"attributes\":{\"end\":{\"id\":\"38b95d17-bc45-486a-94ec-057c3f5d2a6f\",\"type\":\"NormalHead\"},\"line_color\":{\"value\":\"blue\"},\"line_width\":{\"value\":3},\"plot\":{\"id\":\"cb475a92-8f33-48ab-9d4f-3c42ba6f535d\",\"subtype\":\"Figure\",\"type\":\"Plot\"},\"source\":null,\"start\":null,\"x_end\":{\"value\":4},\"x_start\":{\"value\":0.0},\"y_end\":{\"value\":0},\"y_start\":{\"value\":0.0}},\"id\":\"cef54309-0539-4231-bb73-6e19d94d912b\",\"type\":\"Arrow\"},{\"attributes\":{},\"id\":\"08550ef8-ce50-4e42-8bf7-128f3329b5d0\",\"type\":\"LinearScale\"},{\"attributes\":{\"source\":{\"id\":\"96913b06-8fbf-49f1-a5d3-0607fb6c6737\",\"type\":\"ColumnDataSource\"}},\"id\":\"1bcde3df-3b50-4441-8bd5-77b4d78d366c\",\"type\":\"CDSView\"},{\"attributes\":{\"plot\":null,\"text\":\"\"},\"id\":\"6278c5d7-d488-4332-b0d8-d15e12f8a3c5\",\"type\":\"Title\"}],\"root_ids\":[\"cb475a92-8f33-48ab-9d4f-3c42ba6f535d\"]},\"title\":\"Bokeh Application\",\"version\":\"0.13.0\"}};\n",
       "  var render_items = [{\"docid\":\"82cf73c7-d8c9-4475-9805-2944fbb868bd\",\"roots\":{\"cb475a92-8f33-48ab-9d4f-3c42ba6f535d\":\"69063e24-912f-48a6-912d-a90d0437d6a5\"}}];\n",
       "  root.Bokeh.embed.embed_items_notebook(docs_json, render_items);\n",
       "\n",
       "  }\n",
       "  if (root.Bokeh !== undefined) {\n",
       "    embed_document(root);\n",
       "  } else {\n",
       "    var attempts = 0;\n",
       "    var timer = setInterval(function(root) {\n",
       "      if (root.Bokeh !== undefined) {\n",
       "        embed_document(root);\n",
       "        clearInterval(timer);\n",
       "      }\n",
       "      attempts++;\n",
       "      if (attempts > 100) {\n",
       "        console.log(\"Bokeh: ERROR: Unable to run BokehJS code because BokehJS library is missing\")\n",
       "        clearInterval(timer);\n",
       "      }\n",
       "    }, 10, root)\n",
       "  }\n",
       "})(window);"
      ],
      "application/vnd.bokehjs_exec.v0+json": ""
     },
     "metadata": {
      "application/vnd.bokehjs_exec.v0+json": {
       "id": "cb475a92-8f33-48ab-9d4f-3c42ba6f535d"
      }
     },
     "output_type": "display_data"
    }
   ],
   "source": [
    "a = np.array([4,0])\n",
    "b = np.array([0,5])\n",
    "\n",
    "plot.clear().graph(10)\n",
    "plot.vector(a)\n",
    "plot.vector(b)\n",
    "plot.show()"
   ]
  },
  {
   "cell_type": "markdown",
   "metadata": {},
   "source": [
    "$$ \\vec{a} \\cdot \\vec{b} =  \\left\\| a \\right\\| \\left\\| b \\right\\|\\cos{90}$$ \n",
    "\n",
    "$$ \\vec{a} \\cdot \\vec{b} =  \\left\\| a \\right\\| \\left\\| b \\right\\|0$$ \n",
    "\n",
    "$$ \\vec{a} \\cdot \\vec{b} =  0 $$ "
   ]
  },
  {
   "cell_type": "code",
   "execution_count": 13,
   "metadata": {},
   "outputs": [
    {
     "data": {
      "text/plain": [
       "0"
      ]
     },
     "execution_count": 13,
     "metadata": {},
     "output_type": "execute_result"
    }
   ],
   "source": [
    "np.dot(a,b)"
   ]
  },
  {
   "cell_type": "markdown",
   "metadata": {},
   "source": [
    "This when we take the dot product between two vectors and they're corresponding dot product is 0, we know that the two vectors are orthogonal to one another."
   ]
  },
  {
   "cell_type": "code",
   "execution_count": 14,
   "metadata": {},
   "outputs": [
    {
     "data": {
      "text/html": [
       "\n",
       "\n",
       "\n",
       "\n",
       "\n",
       "\n",
       "  <div class=\"bk-root\" id=\"e8a24690-fc07-4ce3-a9af-15099c9d4473\"></div>\n"
      ]
     },
     "metadata": {},
     "output_type": "display_data"
    },
    {
     "data": {
      "application/javascript": [
       "(function(root) {\n",
       "  function embed_document(root) {\n",
       "    \n",
       "  var docs_json = {\"1a4477cc-f40e-42e9-89cf-1eaa034de608\":{\"roots\":{\"references\":[{\"attributes\":{\"data_source\":{\"id\":\"8bfea683-32ae-46f8-9d8a-ecefe3ecc0be\",\"type\":\"ColumnDataSource\"},\"glyph\":{\"id\":\"1548e307-d341-4db2-b4c5-cccf0d73775e\",\"type\":\"Line\"},\"hover_glyph\":null,\"muted_glyph\":null,\"nonselection_glyph\":{\"id\":\"f58793e8-3bb9-405c-99ad-365cb8b35462\",\"type\":\"Line\"},\"selection_glyph\":null,\"view\":{\"id\":\"bb871c26-07b2-4fb1-b4a6-aa6da086fe39\",\"type\":\"CDSView\"}},\"id\":\"94b9554b-9d95-45a8-a76f-f2c4378ffd17\",\"type\":\"GlyphRenderer\"},{\"attributes\":{},\"id\":\"b0ac0aea-5e3e-4422-ba7b-82733fe779d3\",\"type\":\"UnionRenderers\"},{\"attributes\":{\"source\":{\"id\":\"8bfea683-32ae-46f8-9d8a-ecefe3ecc0be\",\"type\":\"ColumnDataSource\"}},\"id\":\"bb871c26-07b2-4fb1-b4a6-aa6da086fe39\",\"type\":\"CDSView\"},{\"attributes\":{\"dimension\":1,\"plot\":{\"id\":\"ae021628-db3b-404a-9a7d-726e57468207\",\"subtype\":\"Figure\",\"type\":\"Plot\"},\"ticker\":{\"id\":\"99c95ee4-1cba-480c-a4f8-7ac73d462b02\",\"type\":\"BasicTicker\"}},\"id\":\"93ad2661-e2cb-488f-ab1e-b5e6fd54c291\",\"type\":\"Grid\"},{\"attributes\":{},\"id\":\"99c95ee4-1cba-480c-a4f8-7ac73d462b02\",\"type\":\"BasicTicker\"},{\"attributes\":{\"formatter\":{\"id\":\"d08a18ef-7fd8-4702-9c06-d5cc631fe01c\",\"type\":\"BasicTickFormatter\"},\"plot\":{\"id\":\"ae021628-db3b-404a-9a7d-726e57468207\",\"subtype\":\"Figure\",\"type\":\"Plot\"},\"ticker\":{\"id\":\"99c95ee4-1cba-480c-a4f8-7ac73d462b02\",\"type\":\"BasicTicker\"}},\"id\":\"6e71289c-0962-47bc-aa5d-ab4f8986baa8\",\"type\":\"LinearAxis\"},{\"attributes\":{\"plot\":null,\"text\":\"\"},\"id\":\"1d2e7154-1246-4c14-9c88-bb789e2af44f\",\"type\":\"Title\"},{\"attributes\":{},\"id\":\"d08a18ef-7fd8-4702-9c06-d5cc631fe01c\",\"type\":\"BasicTickFormatter\"},{\"attributes\":{\"active_drag\":\"auto\",\"active_inspect\":\"auto\",\"active_multi\":null,\"active_scroll\":\"auto\",\"active_tap\":\"auto\",\"tools\":[{\"id\":\"27c4588a-61f5-472b-8ac8-6dd4a121ea08\",\"type\":\"WheelZoomTool\"},{\"id\":\"1d166bbf-ddcb-4121-a032-81d9333f46e3\",\"type\":\"PanTool\"},{\"id\":\"56779941-73ab-4bfc-ad77-6c35745659b3\",\"type\":\"ResetTool\"}]},\"id\":\"b075f608-42de-4931-8102-261c994922f5\",\"type\":\"Toolbar\"},{\"attributes\":{\"end\":{\"id\":\"8878f276-d4b5-4b22-b7e6-2ba1fb25ab8c\",\"type\":\"NormalHead\"},\"line_color\":{\"value\":\"red\"},\"line_width\":{\"value\":3},\"plot\":{\"id\":\"ae021628-db3b-404a-9a7d-726e57468207\",\"subtype\":\"Figure\",\"type\":\"Plot\"},\"source\":null,\"start\":null,\"x_end\":{\"value\":1},\"x_start\":{\"value\":0.0},\"y_end\":{\"value\":5},\"y_start\":{\"value\":0.0}},\"id\":\"152a14bf-5090-4a3a-b239-d064fc3ef563\",\"type\":\"Arrow\"},{\"attributes\":{\"plot\":{\"id\":\"ae021628-db3b-404a-9a7d-726e57468207\",\"subtype\":\"Figure\",\"type\":\"Plot\"},\"ticker\":{\"id\":\"7f84c764-ec04-4a17-a61b-97d130631ba4\",\"type\":\"BasicTicker\"}},\"id\":\"9572918a-e185-49da-a856-e06059da322f\",\"type\":\"Grid\"},{\"attributes\":{},\"id\":\"459fdfed-835f-4821-960d-4c4bcb6a9cd0\",\"type\":\"UnionRenderers\"},{\"attributes\":{\"fill_color\":{\"value\":\"blue\"},\"line_color\":{\"value\":\"blue\"},\"plot\":null,\"size\":10},\"id\":\"55c01881-a97b-4a39-bd20-18bfc8df2656\",\"type\":\"NormalHead\"},{\"attributes\":{\"callback\":null,\"data\":{\"x\":[0.0,0.0],\"y\":[-10.0,10.0]},\"selected\":{\"id\":\"8a22eb71-539a-462f-b404-814dfed00229\",\"type\":\"Selection\"},\"selection_policy\":{\"id\":\"b0ac0aea-5e3e-4422-ba7b-82733fe779d3\",\"type\":\"UnionRenderers\"}},\"id\":\"b5013f6e-c6e8-44fa-9d3f-0752d0755f5f\",\"type\":\"ColumnDataSource\"},{\"attributes\":{},\"id\":\"8a22eb71-539a-462f-b404-814dfed00229\",\"type\":\"Selection\"},{\"attributes\":{\"line_width\":1.5,\"x\":{\"field\":\"x\"},\"y\":{\"field\":\"y\"}},\"id\":\"1548e307-d341-4db2-b4c5-cccf0d73775e\",\"type\":\"Line\"},{\"attributes\":{\"line_alpha\":0.1,\"line_color\":\"#1f77b4\",\"line_width\":1.5,\"x\":{\"field\":\"x\"},\"y\":{\"field\":\"y\"}},\"id\":\"ec78091b-41be-474f-9c66-e894f317a187\",\"type\":\"Line\"},{\"attributes\":{},\"id\":\"2078d2c0-82af-483c-b8e0-e377a9ae94ca\",\"type\":\"Selection\"},{\"attributes\":{\"below\":[{\"id\":\"f427269f-7149-44fe-8432-273fe552e39b\",\"type\":\"LinearAxis\"}],\"left\":[{\"id\":\"6e71289c-0962-47bc-aa5d-ab4f8986baa8\",\"type\":\"LinearAxis\"}],\"plot_height\":700,\"plot_width\":700,\"renderers\":[{\"id\":\"f427269f-7149-44fe-8432-273fe552e39b\",\"type\":\"LinearAxis\"},{\"id\":\"9572918a-e185-49da-a856-e06059da322f\",\"type\":\"Grid\"},{\"id\":\"6e71289c-0962-47bc-aa5d-ab4f8986baa8\",\"type\":\"LinearAxis\"},{\"id\":\"93ad2661-e2cb-488f-ab1e-b5e6fd54c291\",\"type\":\"Grid\"},{\"id\":\"94b9554b-9d95-45a8-a76f-f2c4378ffd17\",\"type\":\"GlyphRenderer\"},{\"id\":\"921a3480-8590-49f1-a11f-25f0eaa69e92\",\"type\":\"GlyphRenderer\"},{\"id\":\"c0466883-4f20-4bab-957f-84a826123458\",\"type\":\"Arrow\"},{\"id\":\"152a14bf-5090-4a3a-b239-d064fc3ef563\",\"type\":\"Arrow\"}],\"title\":{\"id\":\"1d2e7154-1246-4c14-9c88-bb789e2af44f\",\"type\":\"Title\"},\"toolbar\":{\"id\":\"b075f608-42de-4931-8102-261c994922f5\",\"type\":\"Toolbar\"},\"x_range\":{\"id\":\"3fe98a90-06a4-4cf7-a341-2fa83b24b225\",\"type\":\"Range1d\"},\"x_scale\":{\"id\":\"093fbeb0-87c1-4f02-9614-3081ac265226\",\"type\":\"LinearScale\"},\"y_range\":{\"id\":\"63da69e7-4a71-499c-bf28-872b1a19f725\",\"type\":\"Range1d\"},\"y_scale\":{\"id\":\"4a7c7e45-1358-47b5-93f9-da2f134edf10\",\"type\":\"LinearScale\"}},\"id\":\"ae021628-db3b-404a-9a7d-726e57468207\",\"subtype\":\"Figure\",\"type\":\"Plot\"},{\"attributes\":{},\"id\":\"4faba180-3ff0-46de-a6b4-08eb83c84600\",\"type\":\"BasicTickFormatter\"},{\"attributes\":{},\"id\":\"7f84c764-ec04-4a17-a61b-97d130631ba4\",\"type\":\"BasicTicker\"},{\"attributes\":{},\"id\":\"093fbeb0-87c1-4f02-9614-3081ac265226\",\"type\":\"LinearScale\"},{\"attributes\":{},\"id\":\"4a7c7e45-1358-47b5-93f9-da2f134edf10\",\"type\":\"LinearScale\"},{\"attributes\":{\"callback\":null,\"end\":7.0,\"start\":-7.0},\"id\":\"63da69e7-4a71-499c-bf28-872b1a19f725\",\"type\":\"Range1d\"},{\"attributes\":{\"line_alpha\":0.1,\"line_color\":\"#1f77b4\",\"line_width\":1.5,\"x\":{\"field\":\"x\"},\"y\":{\"field\":\"y\"}},\"id\":\"f58793e8-3bb9-405c-99ad-365cb8b35462\",\"type\":\"Line\"},{\"attributes\":{\"callback\":null,\"data\":{\"x\":[-10.0,10.0],\"y\":[0.0,0.0]},\"selected\":{\"id\":\"2078d2c0-82af-483c-b8e0-e377a9ae94ca\",\"type\":\"Selection\"},\"selection_policy\":{\"id\":\"459fdfed-835f-4821-960d-4c4bcb6a9cd0\",\"type\":\"UnionRenderers\"}},\"id\":\"8bfea683-32ae-46f8-9d8a-ecefe3ecc0be\",\"type\":\"ColumnDataSource\"},{\"attributes\":{\"data_source\":{\"id\":\"b5013f6e-c6e8-44fa-9d3f-0752d0755f5f\",\"type\":\"ColumnDataSource\"},\"glyph\":{\"id\":\"518b5ca4-4ae2-44cd-a5c4-140b8c65729a\",\"type\":\"Line\"},\"hover_glyph\":null,\"muted_glyph\":null,\"nonselection_glyph\":{\"id\":\"ec78091b-41be-474f-9c66-e894f317a187\",\"type\":\"Line\"},\"selection_glyph\":null,\"view\":{\"id\":\"f2479e96-93d4-48a0-a7f5-a8a643a4b724\",\"type\":\"CDSView\"}},\"id\":\"921a3480-8590-49f1-a11f-25f0eaa69e92\",\"type\":\"GlyphRenderer\"},{\"attributes\":{\"source\":{\"id\":\"b5013f6e-c6e8-44fa-9d3f-0752d0755f5f\",\"type\":\"ColumnDataSource\"}},\"id\":\"f2479e96-93d4-48a0-a7f5-a8a643a4b724\",\"type\":\"CDSView\"},{\"attributes\":{},\"id\":\"56779941-73ab-4bfc-ad77-6c35745659b3\",\"type\":\"ResetTool\"},{\"attributes\":{\"fill_color\":{\"value\":\"red\"},\"line_color\":{\"value\":\"red\"},\"plot\":null,\"size\":10},\"id\":\"8878f276-d4b5-4b22-b7e6-2ba1fb25ab8c\",\"type\":\"NormalHead\"},{\"attributes\":{\"line_width\":1.5,\"x\":{\"field\":\"x\"},\"y\":{\"field\":\"y\"}},\"id\":\"518b5ca4-4ae2-44cd-a5c4-140b8c65729a\",\"type\":\"Line\"},{\"attributes\":{},\"id\":\"1d166bbf-ddcb-4121-a032-81d9333f46e3\",\"type\":\"PanTool\"},{\"attributes\":{\"end\":{\"id\":\"55c01881-a97b-4a39-bd20-18bfc8df2656\",\"type\":\"NormalHead\"},\"line_color\":{\"value\":\"blue\"},\"line_width\":{\"value\":3},\"plot\":{\"id\":\"ae021628-db3b-404a-9a7d-726e57468207\",\"subtype\":\"Figure\",\"type\":\"Plot\"},\"source\":null,\"start\":null,\"x_end\":{\"value\":4},\"x_start\":{\"value\":0.0},\"y_end\":{\"value\":1},\"y_start\":{\"value\":0.0}},\"id\":\"c0466883-4f20-4bab-957f-84a826123458\",\"type\":\"Arrow\"},{\"attributes\":{\"formatter\":{\"id\":\"4faba180-3ff0-46de-a6b4-08eb83c84600\",\"type\":\"BasicTickFormatter\"},\"plot\":{\"id\":\"ae021628-db3b-404a-9a7d-726e57468207\",\"subtype\":\"Figure\",\"type\":\"Plot\"},\"ticker\":{\"id\":\"7f84c764-ec04-4a17-a61b-97d130631ba4\",\"type\":\"BasicTicker\"}},\"id\":\"f427269f-7149-44fe-8432-273fe552e39b\",\"type\":\"LinearAxis\"},{\"attributes\":{},\"id\":\"27c4588a-61f5-472b-8ac8-6dd4a121ea08\",\"type\":\"WheelZoomTool\"},{\"attributes\":{\"callback\":null,\"end\":7.0,\"start\":-7.0},\"id\":\"3fe98a90-06a4-4cf7-a341-2fa83b24b225\",\"type\":\"Range1d\"}],\"root_ids\":[\"ae021628-db3b-404a-9a7d-726e57468207\"]},\"title\":\"Bokeh Application\",\"version\":\"0.13.0\"}};\n",
       "  var render_items = [{\"docid\":\"1a4477cc-f40e-42e9-89cf-1eaa034de608\",\"roots\":{\"ae021628-db3b-404a-9a7d-726e57468207\":\"e8a24690-fc07-4ce3-a9af-15099c9d4473\"}}];\n",
       "  root.Bokeh.embed.embed_items_notebook(docs_json, render_items);\n",
       "\n",
       "  }\n",
       "  if (root.Bokeh !== undefined) {\n",
       "    embed_document(root);\n",
       "  } else {\n",
       "    var attempts = 0;\n",
       "    var timer = setInterval(function(root) {\n",
       "      if (root.Bokeh !== undefined) {\n",
       "        embed_document(root);\n",
       "        clearInterval(timer);\n",
       "      }\n",
       "      attempts++;\n",
       "      if (attempts > 100) {\n",
       "        console.log(\"Bokeh: ERROR: Unable to run BokehJS code because BokehJS library is missing\")\n",
       "        clearInterval(timer);\n",
       "      }\n",
       "    }, 10, root)\n",
       "  }\n",
       "})(window);"
      ],
      "application/vnd.bokehjs_exec.v0+json": ""
     },
     "metadata": {
      "application/vnd.bokehjs_exec.v0+json": {
       "id": "ae021628-db3b-404a-9a7d-726e57468207"
      }
     },
     "output_type": "display_data"
    }
   ],
   "source": [
    "a = np.array([4,1])\n",
    "b = np.array([1,5])\n",
    "\n",
    "plot.clear().graph(10)\n",
    "plot.vector(a)\n",
    "plot.vector(b)\n",
    "plot.show()"
   ]
  },
  {
   "cell_type": "code",
   "execution_count": 15,
   "metadata": {},
   "outputs": [
    {
     "data": {
      "text/plain": [
       "9"
      ]
     },
     "execution_count": 15,
     "metadata": {},
     "output_type": "execute_result"
    }
   ],
   "source": [
    "np.dot(a,b)"
   ]
  },
  {
   "cell_type": "markdown",
   "metadata": {},
   "source": [
    "### Calculating the cosine\n",
    "\n",
    "Taking what we now know, we can easily **calculate the angle between two vectors**!\n",
    "\n",
    "<br>\n",
    "\n",
    "$$ \\vec{a} \\cdot \\vec{b} =  \\left\\| a \\right\\| \\left\\| b \\right\\|\\cos{\\theta}$$\n",
    "\n",
    "<br>\n",
    "\n",
    "$$ \\cos{\\theta} =  \\frac{\\vec{a} \\cdot \\vec{b}}{\\left\\| a \\right\\| \\left\\| b \\right\\|}$$"
   ]
  },
  {
   "cell_type": "code",
   "execution_count": 16,
   "metadata": {},
   "outputs": [],
   "source": [
    "# Let's define the above as a function:\n",
    "\n",
    "def cosine(a,b):\n",
    "    cos = np.dot(a,b)/(np.sqrt(np.dot(a,a)) * np.sqrt(np.dot(b,b))  )\n",
    "    return cos"
   ]
  },
  {
   "cell_type": "code",
   "execution_count": 17,
   "metadata": {},
   "outputs": [
    {
     "data": {
      "text/plain": [
       "0.428"
      ]
     },
     "execution_count": 17,
     "metadata": {},
     "output_type": "execute_result"
    }
   ],
   "source": [
    "round(cosine(a,b),3)"
   ]
  },
  {
   "cell_type": "code",
   "execution_count": 18,
   "metadata": {},
   "outputs": [
    {
     "data": {
      "text/plain": [
       "9.0"
      ]
     },
     "execution_count": 18,
     "metadata": {},
     "output_type": "execute_result"
    }
   ],
   "source": [
    "# Let's reverse engineer this to get the dot product again.\n",
    "np.sqrt(a.dot(a)) * np.sqrt(b.dot(b)) * cosine(a,b)"
   ]
  },
  {
   "cell_type": "markdown",
   "metadata": {},
   "source": [
    "# Dot product as a projection\n",
    "\n",
    "So what is the dot product between two vectors exactly?\n",
    "\n",
    "> We can think of the dot product of two vectors as the length of two vectors that **moves in the same direction**\n",
    "\n",
    "Imagine we cast a vector down from the tip of $\\vec{a}$ onto $\\vec{b}$ such that the angle between that vector (which we'll call $\\vec{v}$) and vector $\\vec{b}$ is orthogonal (90 degrees). "
   ]
  },
  {
   "cell_type": "code",
   "execution_count": 19,
   "metadata": {},
   "outputs": [
    {
     "data": {
      "text/html": [
       "\n",
       "\n",
       "\n",
       "\n",
       "\n",
       "\n",
       "  <div class=\"bk-root\" id=\"19b8b188-1434-46bc-b17e-e40131a25c08\"></div>\n"
      ]
     },
     "metadata": {},
     "output_type": "display_data"
    },
    {
     "data": {
      "application/javascript": [
       "(function(root) {\n",
       "  function embed_document(root) {\n",
       "    \n",
       "  var docs_json = {\"69b2b91b-38ba-49a8-821d-057e98386c99\":{\"roots\":{\"references\":[{\"attributes\":{},\"id\":\"286feed4-250a-4766-80d4-06ba75bb6973\",\"type\":\"BasicTickFormatter\"},{\"attributes\":{\"callback\":null,\"end\":5.6,\"start\":-5.6},\"id\":\"40dc52f1-79e7-4134-a5d8-52f1be57ac36\",\"type\":\"Range1d\"},{\"attributes\":{\"line_width\":1.5,\"x\":{\"field\":\"x\"},\"y\":{\"field\":\"y\"}},\"id\":\"cd9ae7dd-415d-467c-9c1e-846aaa26ebdc\",\"type\":\"Line\"},{\"attributes\":{},\"id\":\"9c69c770-accf-4b7e-8913-a82db6aed078\",\"type\":\"Selection\"},{\"attributes\":{},\"id\":\"7844a2e0-64dc-4d8f-b99a-b54c5de9ffbf\",\"type\":\"UnionRenderers\"},{\"attributes\":{\"end\":{\"id\":\"dcd37cdf-d260-4bfb-9b60-be4cab57c9b9\",\"type\":\"NormalHead\"},\"line_width\":{\"value\":4},\"plot\":{\"id\":\"d3100216-936b-47ab-84ed-352d001eb598\",\"subtype\":\"Figure\",\"type\":\"Plot\"},\"source\":null,\"start\":null,\"x_end\":{\"value\":2.1176470588235294},\"x_start\":{\"value\":0.0},\"y_end\":{\"value\":0.5294117647058824},\"y_start\":{\"value\":0.0}},\"id\":\"a85dcc38-3a79-4638-8318-b7de15582a99\",\"type\":\"Arrow\"},{\"attributes\":{\"end\":{\"id\":\"b0f58ecc-9c31-432a-8909-77325882e199\",\"type\":\"NormalHead\"},\"line_alpha\":{\"value\":0.7},\"line_color\":{\"value\":\"blue\"},\"line_width\":{\"value\":3},\"plot\":{\"id\":\"d3100216-936b-47ab-84ed-352d001eb598\",\"subtype\":\"Figure\",\"type\":\"Plot\"},\"source\":null,\"start\":null,\"x_end\":{\"value\":4},\"x_start\":{\"value\":0.0},\"y_end\":{\"value\":1},\"y_start\":{\"value\":0.0}},\"id\":\"39ed451e-ac29-4bd0-ae56-c9e56ffb5ad5\",\"type\":\"Arrow\"},{\"attributes\":{\"fill_alpha\":{\"value\":0.7},\"fill_color\":{\"value\":\"red\"},\"line_alpha\":{\"value\":0.7},\"line_color\":{\"value\":\"red\"},\"plot\":null,\"size\":10},\"id\":\"5fe6db4f-0424-4084-9446-39c3ea0cdb12\",\"type\":\"NormalHead\"},{\"attributes\":{},\"id\":\"8155b0f1-9f89-483f-a5e6-b4f585620834\",\"type\":\"UnionRenderers\"},{\"attributes\":{\"callback\":null,\"end\":5.6,\"start\":-5.6},\"id\":\"f0f1a904-997e-45bb-9d7f-531520c27b89\",\"type\":\"Range1d\"},{\"attributes\":{},\"id\":\"0328d8cf-da9a-467e-a9ca-c765dd291bb1\",\"type\":\"BasicTicker\"},{\"attributes\":{},\"id\":\"930d984e-bcd2-4b18-9f18-9fba7519dcad\",\"type\":\"Selection\"},{\"attributes\":{\"active_drag\":\"auto\",\"active_inspect\":\"auto\",\"active_multi\":null,\"active_scroll\":\"auto\",\"active_tap\":\"auto\",\"tools\":[{\"id\":\"f2aff1cd-3180-4141-ae6c-b6bc1a1cfe97\",\"type\":\"WheelZoomTool\"},{\"id\":\"66c08ca2-b174-4e51-8805-166b3474bbca\",\"type\":\"PanTool\"},{\"id\":\"d69b5ee5-9f53-4ca6-99d1-130bb3de8911\",\"type\":\"ResetTool\"}]},\"id\":\"cd605f9c-d0cc-49a1-a295-e511f804d1be\",\"type\":\"Toolbar\"},{\"attributes\":{\"below\":[{\"id\":\"7bc85dfa-1b19-4950-bba7-df74c6185a5c\",\"type\":\"LinearAxis\"}],\"left\":[{\"id\":\"b4b48b63-3043-401c-8d8a-a908ecfc78b6\",\"type\":\"LinearAxis\"}],\"plot_height\":700,\"plot_width\":700,\"renderers\":[{\"id\":\"7bc85dfa-1b19-4950-bba7-df74c6185a5c\",\"type\":\"LinearAxis\"},{\"id\":\"28329ae7-40ca-41a7-8cf5-e3218a43b7c8\",\"type\":\"Grid\"},{\"id\":\"b4b48b63-3043-401c-8d8a-a908ecfc78b6\",\"type\":\"LinearAxis\"},{\"id\":\"1e7377be-e181-4a4f-bee3-5263299ed2c9\",\"type\":\"Grid\"},{\"id\":\"861c78cd-7b68-4b3e-ba74-030f49bc0fb5\",\"type\":\"GlyphRenderer\"},{\"id\":\"40851456-e9d5-4b78-82a2-31aa67426dae\",\"type\":\"GlyphRenderer\"},{\"id\":\"39ed451e-ac29-4bd0-ae56-c9e56ffb5ad5\",\"type\":\"Arrow\"},{\"id\":\"f64307ed-6587-4c05-bfdb-05821b5ab4fe\",\"type\":\"Arrow\"},{\"id\":\"a85dcc38-3a79-4638-8318-b7de15582a99\",\"type\":\"Arrow\"},{\"id\":\"ff76d6dc-2a16-414b-b752-d891a4ebcced\",\"type\":\"Arrow\"}],\"title\":{\"id\":\"f18c2b29-ec94-4302-b6af-e16d7548fc57\",\"type\":\"Title\"},\"toolbar\":{\"id\":\"cd605f9c-d0cc-49a1-a295-e511f804d1be\",\"type\":\"Toolbar\"},\"x_range\":{\"id\":\"f0f1a904-997e-45bb-9d7f-531520c27b89\",\"type\":\"Range1d\"},\"x_scale\":{\"id\":\"67137382-34bb-46ae-906a-0eb5f38e6290\",\"type\":\"LinearScale\"},\"y_range\":{\"id\":\"40dc52f1-79e7-4134-a5d8-52f1be57ac36\",\"type\":\"Range1d\"},\"y_scale\":{\"id\":\"ef83fb7d-6e3e-42ad-bbd5-ffa43424f606\",\"type\":\"LinearScale\"}},\"id\":\"d3100216-936b-47ab-84ed-352d001eb598\",\"subtype\":\"Figure\",\"type\":\"Plot\"},{\"attributes\":{\"fill_alpha\":{\"value\":0.4},\"fill_color\":{\"value\":\"grey\"},\"line_alpha\":{\"value\":0.4},\"line_color\":{\"value\":\"grey\"},\"plot\":null,\"size\":10},\"id\":\"f85bdd89-d563-4e24-b792-105bd950eccf\",\"type\":\"NormalHead\"},{\"attributes\":{\"plot\":{\"id\":\"d3100216-936b-47ab-84ed-352d001eb598\",\"subtype\":\"Figure\",\"type\":\"Plot\"},\"ticker\":{\"id\":\"0328d8cf-da9a-467e-a9ca-c765dd291bb1\",\"type\":\"BasicTicker\"}},\"id\":\"28329ae7-40ca-41a7-8cf5-e3218a43b7c8\",\"type\":\"Grid\"},{\"attributes\":{\"line_alpha\":0.1,\"line_color\":\"#1f77b4\",\"line_width\":1.5,\"x\":{\"field\":\"x\"},\"y\":{\"field\":\"y\"}},\"id\":\"62584c70-39f7-4615-8acb-756bb8f43a1c\",\"type\":\"Line\"},{\"attributes\":{\"callback\":null,\"data\":{\"x\":[0.0,0.0],\"y\":[-8.0,8.0]},\"selected\":{\"id\":\"930d984e-bcd2-4b18-9f18-9fba7519dcad\",\"type\":\"Selection\"},\"selection_policy\":{\"id\":\"8155b0f1-9f89-483f-a5e6-b4f585620834\",\"type\":\"UnionRenderers\"}},\"id\":\"f2e36f27-a9a4-436a-bb01-fc4fe41fef18\",\"type\":\"ColumnDataSource\"},{\"attributes\":{\"plot\":null,\"text\":\"\"},\"id\":\"f18c2b29-ec94-4302-b6af-e16d7548fc57\",\"type\":\"Title\"},{\"attributes\":{\"formatter\":{\"id\":\"acf0a325-ff53-4db2-971a-897ce3c9b28a\",\"type\":\"BasicTickFormatter\"},\"plot\":{\"id\":\"d3100216-936b-47ab-84ed-352d001eb598\",\"subtype\":\"Figure\",\"type\":\"Plot\"},\"ticker\":{\"id\":\"2ba20f86-e189-4ce2-b851-5ee232393ce8\",\"type\":\"BasicTicker\"}},\"id\":\"b4b48b63-3043-401c-8d8a-a908ecfc78b6\",\"type\":\"LinearAxis\"},{\"attributes\":{\"plot\":null,\"size\":10},\"id\":\"dcd37cdf-d260-4bfb-9b60-be4cab57c9b9\",\"type\":\"NormalHead\"},{\"attributes\":{},\"id\":\"ef83fb7d-6e3e-42ad-bbd5-ffa43424f606\",\"type\":\"LinearScale\"},{\"attributes\":{\"data_source\":{\"id\":\"72eeb2ca-9ecc-43e8-ab42-b186cc5975d9\",\"type\":\"ColumnDataSource\"},\"glyph\":{\"id\":\"8557340c-ca92-4f86-bd8d-6b90a6c35c23\",\"type\":\"Line\"},\"hover_glyph\":null,\"muted_glyph\":null,\"nonselection_glyph\":{\"id\":\"62584c70-39f7-4615-8acb-756bb8f43a1c\",\"type\":\"Line\"},\"selection_glyph\":null,\"view\":{\"id\":\"8b43bff9-0f7c-4952-88e8-bfe6d920029d\",\"type\":\"CDSView\"}},\"id\":\"861c78cd-7b68-4b3e-ba74-030f49bc0fb5\",\"type\":\"GlyphRenderer\"},{\"attributes\":{},\"id\":\"acf0a325-ff53-4db2-971a-897ce3c9b28a\",\"type\":\"BasicTickFormatter\"},{\"attributes\":{},\"id\":\"f2aff1cd-3180-4141-ae6c-b6bc1a1cfe97\",\"type\":\"WheelZoomTool\"},{\"attributes\":{},\"id\":\"2ba20f86-e189-4ce2-b851-5ee232393ce8\",\"type\":\"BasicTicker\"},{\"attributes\":{\"line_alpha\":0.1,\"line_color\":\"#1f77b4\",\"line_width\":1.5,\"x\":{\"field\":\"x\"},\"y\":{\"field\":\"y\"}},\"id\":\"7d7a4fe7-e50b-410c-b983-32d9e44eb74d\",\"type\":\"Line\"},{\"attributes\":{\"source\":{\"id\":\"f2e36f27-a9a4-436a-bb01-fc4fe41fef18\",\"type\":\"ColumnDataSource\"}},\"id\":\"69a9d7c9-7fd7-4d72-bd5e-2f69efaac6da\",\"type\":\"CDSView\"},{\"attributes\":{\"callback\":null,\"data\":{\"x\":[-8.0,8.0],\"y\":[0.0,0.0]},\"selected\":{\"id\":\"9c69c770-accf-4b7e-8913-a82db6aed078\",\"type\":\"Selection\"},\"selection_policy\":{\"id\":\"7844a2e0-64dc-4d8f-b99a-b54c5de9ffbf\",\"type\":\"UnionRenderers\"}},\"id\":\"72eeb2ca-9ecc-43e8-ab42-b186cc5975d9\",\"type\":\"ColumnDataSource\"},{\"attributes\":{\"source\":{\"id\":\"72eeb2ca-9ecc-43e8-ab42-b186cc5975d9\",\"type\":\"ColumnDataSource\"}},\"id\":\"8b43bff9-0f7c-4952-88e8-bfe6d920029d\",\"type\":\"CDSView\"},{\"attributes\":{\"line_width\":1.5,\"x\":{\"field\":\"x\"},\"y\":{\"field\":\"y\"}},\"id\":\"8557340c-ca92-4f86-bd8d-6b90a6c35c23\",\"type\":\"Line\"},{\"attributes\":{\"formatter\":{\"id\":\"286feed4-250a-4766-80d4-06ba75bb6973\",\"type\":\"BasicTickFormatter\"},\"plot\":{\"id\":\"d3100216-936b-47ab-84ed-352d001eb598\",\"subtype\":\"Figure\",\"type\":\"Plot\"},\"ticker\":{\"id\":\"0328d8cf-da9a-467e-a9ca-c765dd291bb1\",\"type\":\"BasicTicker\"}},\"id\":\"7bc85dfa-1b19-4950-bba7-df74c6185a5c\",\"type\":\"LinearAxis\"},{\"attributes\":{\"dimension\":1,\"plot\":{\"id\":\"d3100216-936b-47ab-84ed-352d001eb598\",\"subtype\":\"Figure\",\"type\":\"Plot\"},\"ticker\":{\"id\":\"2ba20f86-e189-4ce2-b851-5ee232393ce8\",\"type\":\"BasicTicker\"}},\"id\":\"1e7377be-e181-4a4f-bee3-5263299ed2c9\",\"type\":\"Grid\"},{\"attributes\":{\"end\":{\"id\":\"f85bdd89-d563-4e24-b792-105bd950eccf\",\"type\":\"NormalHead\"},\"line_alpha\":{\"value\":0.4},\"line_color\":{\"value\":\"grey\"},\"line_width\":{\"value\":3},\"plot\":{\"id\":\"d3100216-936b-47ab-84ed-352d001eb598\",\"subtype\":\"Figure\",\"type\":\"Plot\"},\"source\":null,\"start\":null,\"x_end\":{\"value\":2.1176470588235294},\"x_start\":{\"value\":1},\"y_end\":{\"value\":0.5294117647058822},\"y_start\":{\"value\":5}},\"id\":\"ff76d6dc-2a16-414b-b752-d891a4ebcced\",\"type\":\"Arrow\"},{\"attributes\":{},\"id\":\"d69b5ee5-9f53-4ca6-99d1-130bb3de8911\",\"type\":\"ResetTool\"},{\"attributes\":{},\"id\":\"67137382-34bb-46ae-906a-0eb5f38e6290\",\"type\":\"LinearScale\"},{\"attributes\":{},\"id\":\"66c08ca2-b174-4e51-8805-166b3474bbca\",\"type\":\"PanTool\"},{\"attributes\":{\"fill_alpha\":{\"value\":0.7},\"fill_color\":{\"value\":\"blue\"},\"line_alpha\":{\"value\":0.7},\"line_color\":{\"value\":\"blue\"},\"plot\":null,\"size\":10},\"id\":\"b0f58ecc-9c31-432a-8909-77325882e199\",\"type\":\"NormalHead\"},{\"attributes\":{\"data_source\":{\"id\":\"f2e36f27-a9a4-436a-bb01-fc4fe41fef18\",\"type\":\"ColumnDataSource\"},\"glyph\":{\"id\":\"cd9ae7dd-415d-467c-9c1e-846aaa26ebdc\",\"type\":\"Line\"},\"hover_glyph\":null,\"muted_glyph\":null,\"nonselection_glyph\":{\"id\":\"7d7a4fe7-e50b-410c-b983-32d9e44eb74d\",\"type\":\"Line\"},\"selection_glyph\":null,\"view\":{\"id\":\"69a9d7c9-7fd7-4d72-bd5e-2f69efaac6da\",\"type\":\"CDSView\"}},\"id\":\"40851456-e9d5-4b78-82a2-31aa67426dae\",\"type\":\"GlyphRenderer\"},{\"attributes\":{\"end\":{\"id\":\"5fe6db4f-0424-4084-9446-39c3ea0cdb12\",\"type\":\"NormalHead\"},\"line_alpha\":{\"value\":0.7},\"line_color\":{\"value\":\"red\"},\"line_width\":{\"value\":3},\"plot\":{\"id\":\"d3100216-936b-47ab-84ed-352d001eb598\",\"subtype\":\"Figure\",\"type\":\"Plot\"},\"source\":null,\"start\":null,\"x_end\":{\"value\":1},\"x_start\":{\"value\":0.0},\"y_end\":{\"value\":5},\"y_start\":{\"value\":0.0}},\"id\":\"f64307ed-6587-4c05-bfdb-05821b5ab4fe\",\"type\":\"Arrow\"}],\"root_ids\":[\"d3100216-936b-47ab-84ed-352d001eb598\"]},\"title\":\"Bokeh Application\",\"version\":\"0.13.0\"}};\n",
       "  var render_items = [{\"docid\":\"69b2b91b-38ba-49a8-821d-057e98386c99\",\"roots\":{\"d3100216-936b-47ab-84ed-352d001eb598\":\"19b8b188-1434-46bc-b17e-e40131a25c08\"}}];\n",
       "  root.Bokeh.embed.embed_items_notebook(docs_json, render_items);\n",
       "\n",
       "  }\n",
       "  if (root.Bokeh !== undefined) {\n",
       "    embed_document(root);\n",
       "  } else {\n",
       "    var attempts = 0;\n",
       "    var timer = setInterval(function(root) {\n",
       "      if (root.Bokeh !== undefined) {\n",
       "        embed_document(root);\n",
       "        clearInterval(timer);\n",
       "      }\n",
       "      attempts++;\n",
       "      if (attempts > 100) {\n",
       "        console.log(\"Bokeh: ERROR: Unable to run BokehJS code because BokehJS library is missing\")\n",
       "        clearInterval(timer);\n",
       "      }\n",
       "    }, 10, root)\n",
       "  }\n",
       "})(window);"
      ],
      "application/vnd.bokehjs_exec.v0+json": ""
     },
     "metadata": {
      "application/vnd.bokehjs_exec.v0+json": {
       "id": "d3100216-936b-47ab-84ed-352d001eb598"
      }
     },
     "output_type": "display_data"
    }
   ],
   "source": [
    "plot.clear().graph(8)\n",
    "plot.projection(a,b)\n",
    "plot.show()"
   ]
  },
  {
   "cell_type": "markdown",
   "metadata": {},
   "source": [
    "**What is the _size_ (magnitude) of the \"shadow\" cast by that vector onto $\\vec{b}$?**\n",
    "\n",
    "<br>\n",
    "\n",
    "$$ \\vec{v} = \\vec{a} - c\\vec{b} $$\n",
    "\n",
    "<br>\n",
    "\n",
    "By design, $\\vec{b} \\cdot \\vec{v} = 0$\n",
    "\n",
    "<br>\n",
    "\n",
    "$$ (\\vec{a}-c\\vec{b}) \\cdot \\vec{b}  = 0 $$ \n",
    "\n",
    "<br>\n",
    "\n",
    "$$ \\vec{a} \\cdot \\vec{b} -c\\vec{b} \\cdot \\vec{b}  = 0 $$ \n",
    "\n",
    "<br>\n",
    "\n",
    "$$ \\vec{a} \\cdot \\vec{b} = c\\vec{b} \\cdot \\vec{b}  $$ \n",
    "\n",
    "<br>\n",
    "\n",
    "$$ \\frac{\\vec{a} \\cdot \\vec{b}}{\\vec{b} \\cdot \\vec{b}} = c  $$ \n",
    "\n",
    "<br>\n",
    "\n",
    "$$ c = \\frac{\\vec{a} \\cdot \\vec{b}}{\\left\\| b \\right\\|^2} $$ \n",
    "\n",
    "<br>\n",
    "\n",
    "Thus, our \"shadow\" vector is merely a scaled version of $\\vec{b}$\n",
    "\n",
    "<br>\n",
    "\n",
    "$$ shadow = c\\vec{b}$$\n",
    "\n",
    "<br>\n",
    "\n",
    "$\\vec{a}$ is moving in the direction of $\\vec{b}$ by  $c\\vec{b}$"
   ]
  },
  {
   "cell_type": "markdown",
   "metadata": {},
   "source": [
    "**Applied**: What is the length of the projection of $\\vec{a}$ onto $\\vec{b}$ ?"
   ]
  },
  {
   "cell_type": "code",
   "execution_count": 20,
   "metadata": {},
   "outputs": [
    {
     "data": {
      "text/plain": [
       "array([0.34615385, 1.73076923])"
      ]
     },
     "execution_count": 20,
     "metadata": {},
     "output_type": "execute_result"
    }
   ],
   "source": [
    "c = np.dot(a,b)/np.dot(b,b)\n",
    "projection_vector = c*b\n",
    "\n",
    "projection_vector"
   ]
  },
  {
   "cell_type": "markdown",
   "metadata": {},
   "source": [
    "### What is this really?\n",
    "The projection is equal to the cosine if we normalize the vectors. That is, if we reset the vectors so that their lengths are equal to 1. This puts the vectors onto the **_unit circle_**.\n",
    "\n",
    "To **normalize** a vector, we scale the vector by its length.\n",
    "\n",
    "<br>\n",
    "\n",
    "$$ \\vec{a}_{norm} = \\frac{1}{\\left\\| a \\right\\|} \\vec{a} $$\n",
    "\n",
    "where\n",
    "\n",
    "$$ \\left\\| \\vec{a}_{norm} \\right\\| = 1 $$"
   ]
  },
  {
   "cell_type": "code",
   "execution_count": 21,
   "metadata": {},
   "outputs": [],
   "source": [
    "a_norm = 1/np.sqrt(np.dot(a,a))*a\n",
    "b_norm = 1/np.sqrt(np.dot(b,b))*b"
   ]
  },
  {
   "cell_type": "code",
   "execution_count": 22,
   "metadata": {},
   "outputs": [
    {
     "data": {
      "text/html": [
       "\n",
       "\n",
       "\n",
       "\n",
       "\n",
       "\n",
       "  <div class=\"bk-root\" id=\"ecaa51b8-d505-49ef-88c8-4d8ee11cb914\"></div>\n"
      ]
     },
     "metadata": {},
     "output_type": "display_data"
    },
    {
     "data": {
      "application/javascript": [
       "(function(root) {\n",
       "  function embed_document(root) {\n",
       "    \n",
       "  var docs_json = {\"b016de53-4e22-4432-863c-2099d454f391\":{\"roots\":{\"references\":[{\"attributes\":{},\"id\":\"9e8878f3-183a-4290-90e7-ce305bb25fa7\",\"type\":\"WheelZoomTool\"},{\"attributes\":{\"dimension\":1,\"plot\":{\"id\":\"e7a93f83-e0b5-473a-ab74-1e39f031656b\",\"subtype\":\"Figure\",\"type\":\"Plot\"},\"ticker\":{\"id\":\"29a7d788-aa18-4f2f-9161-a6f643b6473f\",\"type\":\"BasicTicker\"}},\"id\":\"86464489-203e-45ac-9ae1-23de3674f07f\",\"type\":\"Grid\"},{\"attributes\":{\"data_source\":{\"id\":\"c5e6e078-18ae-42e1-9fa5-8c7df582f73b\",\"type\":\"ColumnDataSource\"},\"glyph\":{\"id\":\"e150f39d-b105-4e2d-b05a-1e8a7a07c4f9\",\"type\":\"Line\"},\"hover_glyph\":null,\"muted_glyph\":null,\"nonselection_glyph\":{\"id\":\"0b4a2cca-a887-477e-b96b-9cbd22f63b10\",\"type\":\"Line\"},\"selection_glyph\":null,\"view\":{\"id\":\"5ed391b9-45b3-412b-806b-314cb29e3d35\",\"type\":\"CDSView\"}},\"id\":\"15a99a0d-eb57-4d32-9025-e5506974f7c2\",\"type\":\"GlyphRenderer\"},{\"attributes\":{\"line_alpha\":0.1,\"line_color\":\"#1f77b4\",\"line_width\":1.5,\"x\":{\"field\":\"x\"},\"y\":{\"field\":\"y\"}},\"id\":\"0b4a2cca-a887-477e-b96b-9cbd22f63b10\",\"type\":\"Line\"},{\"attributes\":{\"line_alpha\":0.1,\"line_color\":\"#1f77b4\",\"line_width\":1.5,\"x\":{\"field\":\"x\"},\"y\":{\"field\":\"y\"}},\"id\":\"b331a870-6d48-4ed8-bf27-d21833e7bb7e\",\"type\":\"Line\"},{\"attributes\":{},\"id\":\"6bc33896-8762-45c7-8a35-04ede49056cb\",\"type\":\"ResetTool\"},{\"attributes\":{},\"id\":\"64acc75d-920e-4c13-9ba8-6625c9d2c0dc\",\"type\":\"PanTool\"},{\"attributes\":{},\"id\":\"15401215-883b-4935-9ed3-560cdf656ca8\",\"type\":\"UnionRenderers\"},{\"attributes\":{},\"id\":\"56e14630-1c7a-4731-bcd3-bb0f14f4d7a4\",\"type\":\"Selection\"},{\"attributes\":{},\"id\":\"de34a4fc-d8dd-408f-aeb4-6ef0df126f86\",\"type\":\"BasicTickFormatter\"},{\"attributes\":{},\"id\":\"148057c8-7a98-40bc-844e-63b66e841a8c\",\"type\":\"UnionRenderers\"},{\"attributes\":{\"source\":{\"id\":\"910af83d-e4fe-4f5b-889c-1f8d39f7b6a8\",\"type\":\"ColumnDataSource\"}},\"id\":\"bfe6a90f-86b8-476e-981d-57c60a5795e6\",\"type\":\"CDSView\"},{\"attributes\":{},\"id\":\"7883c08b-680c-41e6-992a-2bef455b7b9c\",\"type\":\"Selection\"},{\"attributes\":{\"below\":[{\"id\":\"08f87d0e-1aec-48f8-bdff-647708c2c65f\",\"type\":\"LinearAxis\"}],\"left\":[{\"id\":\"8a70418d-30b4-4ee7-a921-244505dc9c36\",\"type\":\"LinearAxis\"}],\"plot_height\":700,\"plot_width\":700,\"renderers\":[{\"id\":\"08f87d0e-1aec-48f8-bdff-647708c2c65f\",\"type\":\"LinearAxis\"},{\"id\":\"49fbfadc-69d3-4943-acc7-108b7f94b95b\",\"type\":\"Grid\"},{\"id\":\"8a70418d-30b4-4ee7-a921-244505dc9c36\",\"type\":\"LinearAxis\"},{\"id\":\"86464489-203e-45ac-9ae1-23de3674f07f\",\"type\":\"Grid\"},{\"id\":\"5a78b630-c0ec-40f2-b249-0333c1b6f0ca\",\"type\":\"GlyphRenderer\"},{\"id\":\"15a99a0d-eb57-4d32-9025-e5506974f7c2\",\"type\":\"GlyphRenderer\"},{\"id\":\"655ca729-e01c-4a01-9600-f4200cafa34c\",\"type\":\"Arrow\"},{\"id\":\"d01af033-13c2-449c-8807-245faa3f3fca\",\"type\":\"Arrow\"},{\"id\":\"bb189c6a-4b48-4f6c-b7a9-a5e98195c018\",\"type\":\"Arrow\"},{\"id\":\"5602ab3e-0e1e-4f50-bc5f-f8079b777224\",\"type\":\"Arrow\"}],\"title\":{\"id\":\"292f0f7c-bf89-4c1e-bfde-12453433ed85\",\"type\":\"Title\"},\"toolbar\":{\"id\":\"ac54e25d-f8cd-4650-8ff6-fa0bc43c7cfe\",\"type\":\"Toolbar\"},\"x_range\":{\"id\":\"d6fe3abe-44d3-4bcd-a500-8f9a2f25c890\",\"type\":\"Range1d\"},\"x_scale\":{\"id\":\"23d3e915-f8ca-4633-8ee5-3ffc7efd4b2c\",\"type\":\"LinearScale\"},\"y_range\":{\"id\":\"0c036188-b65b-4385-bf51-a9667d430a94\",\"type\":\"Range1d\"},\"y_scale\":{\"id\":\"be038930-70c9-4bf4-b352-e64f1fb6c45e\",\"type\":\"LinearScale\"}},\"id\":\"e7a93f83-e0b5-473a-ab74-1e39f031656b\",\"subtype\":\"Figure\",\"type\":\"Plot\"},{\"attributes\":{\"end\":{\"id\":\"9a5ad36c-a141-4f6e-bd4e-67ee1d3ef81a\",\"type\":\"NormalHead\"},\"line_alpha\":{\"value\":0.4},\"line_color\":{\"value\":\"grey\"},\"line_width\":{\"value\":3},\"plot\":{\"id\":\"e7a93f83-e0b5-473a-ab74-1e39f031656b\",\"subtype\":\"Figure\",\"type\":\"Plot\"},\"source\":null,\"start\":null,\"x_end\":{\"value\":0.41530475676321327},\"x_start\":{\"value\":0.19611613513818404},\"y_end\":{\"value\":0.10382618919080333},\"y_start\":{\"value\":0.9805806756909202}},\"id\":\"5602ab3e-0e1e-4f50-bc5f-f8079b777224\",\"type\":\"Arrow\"},{\"attributes\":{\"callback\":null,\"data\":{\"x\":[-2.0,2.0],\"y\":[0.0,0.0]},\"selected\":{\"id\":\"56e14630-1c7a-4731-bcd3-bb0f14f4d7a4\",\"type\":\"Selection\"},\"selection_policy\":{\"id\":\"15401215-883b-4935-9ed3-560cdf656ca8\",\"type\":\"UnionRenderers\"}},\"id\":\"910af83d-e4fe-4f5b-889c-1f8d39f7b6a8\",\"type\":\"ColumnDataSource\"},{\"attributes\":{\"line_width\":1.5,\"x\":{\"field\":\"x\"},\"y\":{\"field\":\"y\"}},\"id\":\"9593a661-cc8b-4f8d-9c26-173dc41a4790\",\"type\":\"Line\"},{\"attributes\":{\"callback\":null,\"end\":1.4,\"start\":-1.4},\"id\":\"0c036188-b65b-4385-bf51-a9667d430a94\",\"type\":\"Range1d\"},{\"attributes\":{\"active_drag\":\"auto\",\"active_inspect\":\"auto\",\"active_multi\":null,\"active_scroll\":\"auto\",\"active_tap\":\"auto\",\"tools\":[{\"id\":\"9e8878f3-183a-4290-90e7-ce305bb25fa7\",\"type\":\"WheelZoomTool\"},{\"id\":\"64acc75d-920e-4c13-9ba8-6625c9d2c0dc\",\"type\":\"PanTool\"},{\"id\":\"6bc33896-8762-45c7-8a35-04ede49056cb\",\"type\":\"ResetTool\"}]},\"id\":\"ac54e25d-f8cd-4650-8ff6-fa0bc43c7cfe\",\"type\":\"Toolbar\"},{\"attributes\":{},\"id\":\"be038930-70c9-4bf4-b352-e64f1fb6c45e\",\"type\":\"LinearScale\"},{\"attributes\":{\"end\":{\"id\":\"105c6faa-c233-41cc-a455-3052168c1af0\",\"type\":\"NormalHead\"},\"line_width\":{\"value\":4},\"plot\":{\"id\":\"e7a93f83-e0b5-473a-ab74-1e39f031656b\",\"subtype\":\"Figure\",\"type\":\"Plot\"},\"source\":null,\"start\":null,\"x_end\":{\"value\":0.41530475676321327},\"x_start\":{\"value\":0.0},\"y_end\":{\"value\":0.10382618919080332},\"y_start\":{\"value\":0.0}},\"id\":\"bb189c6a-4b48-4f6c-b7a9-a5e98195c018\",\"type\":\"Arrow\"},{\"attributes\":{\"fill_alpha\":{\"value\":0.4},\"fill_color\":{\"value\":\"grey\"},\"line_alpha\":{\"value\":0.4},\"line_color\":{\"value\":\"grey\"},\"plot\":null,\"size\":10},\"id\":\"9a5ad36c-a141-4f6e-bd4e-67ee1d3ef81a\",\"type\":\"NormalHead\"},{\"attributes\":{\"end\":{\"id\":\"dac138a7-b56c-4cda-9a45-28957ff221a7\",\"type\":\"NormalHead\"},\"line_alpha\":{\"value\":0.7},\"line_color\":{\"value\":\"red\"},\"line_width\":{\"value\":3},\"plot\":{\"id\":\"e7a93f83-e0b5-473a-ab74-1e39f031656b\",\"subtype\":\"Figure\",\"type\":\"Plot\"},\"source\":null,\"start\":null,\"x_end\":{\"value\":0.19611613513818404},\"x_start\":{\"value\":0.0},\"y_end\":{\"value\":0.9805806756909202},\"y_start\":{\"value\":0.0}},\"id\":\"d01af033-13c2-449c-8807-245faa3f3fca\",\"type\":\"Arrow\"},{\"attributes\":{\"fill_alpha\":{\"value\":0.7},\"fill_color\":{\"value\":\"blue\"},\"line_alpha\":{\"value\":0.7},\"line_color\":{\"value\":\"blue\"},\"plot\":null,\"size\":10},\"id\":\"e841c2c9-86a0-4df9-8b14-f39ecf5e4cba\",\"type\":\"NormalHead\"},{\"attributes\":{\"plot\":null,\"size\":10},\"id\":\"105c6faa-c233-41cc-a455-3052168c1af0\",\"type\":\"NormalHead\"},{\"attributes\":{},\"id\":\"617995e7-d536-440f-8164-e5333ee2b22c\",\"type\":\"BasicTickFormatter\"},{\"attributes\":{\"callback\":null,\"end\":1.4,\"start\":-1.4},\"id\":\"d6fe3abe-44d3-4bcd-a500-8f9a2f25c890\",\"type\":\"Range1d\"},{\"attributes\":{\"fill_alpha\":{\"value\":0.7},\"fill_color\":{\"value\":\"red\"},\"line_alpha\":{\"value\":0.7},\"line_color\":{\"value\":\"red\"},\"plot\":null,\"size\":10},\"id\":\"dac138a7-b56c-4cda-9a45-28957ff221a7\",\"type\":\"NormalHead\"},{\"attributes\":{\"end\":{\"id\":\"e841c2c9-86a0-4df9-8b14-f39ecf5e4cba\",\"type\":\"NormalHead\"},\"line_alpha\":{\"value\":0.7},\"line_color\":{\"value\":\"blue\"},\"line_width\":{\"value\":3},\"plot\":{\"id\":\"e7a93f83-e0b5-473a-ab74-1e39f031656b\",\"subtype\":\"Figure\",\"type\":\"Plot\"},\"source\":null,\"start\":null,\"x_end\":{\"value\":0.9701425001453319},\"x_start\":{\"value\":0.0},\"y_end\":{\"value\":0.24253562503633297},\"y_start\":{\"value\":0.0}},\"id\":\"655ca729-e01c-4a01-9600-f4200cafa34c\",\"type\":\"Arrow\"},{\"attributes\":{\"plot\":null,\"text\":\"\"},\"id\":\"292f0f7c-bf89-4c1e-bfde-12453433ed85\",\"type\":\"Title\"},{\"attributes\":{\"source\":{\"id\":\"c5e6e078-18ae-42e1-9fa5-8c7df582f73b\",\"type\":\"ColumnDataSource\"}},\"id\":\"5ed391b9-45b3-412b-806b-314cb29e3d35\",\"type\":\"CDSView\"},{\"attributes\":{},\"id\":\"fd9d0188-2487-45e7-b545-4bb2a1186657\",\"type\":\"BasicTicker\"},{\"attributes\":{\"formatter\":{\"id\":\"de34a4fc-d8dd-408f-aeb4-6ef0df126f86\",\"type\":\"BasicTickFormatter\"},\"plot\":{\"id\":\"e7a93f83-e0b5-473a-ab74-1e39f031656b\",\"subtype\":\"Figure\",\"type\":\"Plot\"},\"ticker\":{\"id\":\"fd9d0188-2487-45e7-b545-4bb2a1186657\",\"type\":\"BasicTicker\"}},\"id\":\"08f87d0e-1aec-48f8-bdff-647708c2c65f\",\"type\":\"LinearAxis\"},{\"attributes\":{\"plot\":{\"id\":\"e7a93f83-e0b5-473a-ab74-1e39f031656b\",\"subtype\":\"Figure\",\"type\":\"Plot\"},\"ticker\":{\"id\":\"fd9d0188-2487-45e7-b545-4bb2a1186657\",\"type\":\"BasicTicker\"}},\"id\":\"49fbfadc-69d3-4943-acc7-108b7f94b95b\",\"type\":\"Grid\"},{\"attributes\":{\"callback\":null,\"data\":{\"x\":[0.0,0.0],\"y\":[-2.0,2.0]},\"selected\":{\"id\":\"7883c08b-680c-41e6-992a-2bef455b7b9c\",\"type\":\"Selection\"},\"selection_policy\":{\"id\":\"148057c8-7a98-40bc-844e-63b66e841a8c\",\"type\":\"UnionRenderers\"}},\"id\":\"c5e6e078-18ae-42e1-9fa5-8c7df582f73b\",\"type\":\"ColumnDataSource\"},{\"attributes\":{},\"id\":\"23d3e915-f8ca-4633-8ee5-3ffc7efd4b2c\",\"type\":\"LinearScale\"},{\"attributes\":{\"data_source\":{\"id\":\"910af83d-e4fe-4f5b-889c-1f8d39f7b6a8\",\"type\":\"ColumnDataSource\"},\"glyph\":{\"id\":\"9593a661-cc8b-4f8d-9c26-173dc41a4790\",\"type\":\"Line\"},\"hover_glyph\":null,\"muted_glyph\":null,\"nonselection_glyph\":{\"id\":\"b331a870-6d48-4ed8-bf27-d21833e7bb7e\",\"type\":\"Line\"},\"selection_glyph\":null,\"view\":{\"id\":\"bfe6a90f-86b8-476e-981d-57c60a5795e6\",\"type\":\"CDSView\"}},\"id\":\"5a78b630-c0ec-40f2-b249-0333c1b6f0ca\",\"type\":\"GlyphRenderer\"},{\"attributes\":{},\"id\":\"29a7d788-aa18-4f2f-9161-a6f643b6473f\",\"type\":\"BasicTicker\"},{\"attributes\":{\"line_width\":1.5,\"x\":{\"field\":\"x\"},\"y\":{\"field\":\"y\"}},\"id\":\"e150f39d-b105-4e2d-b05a-1e8a7a07c4f9\",\"type\":\"Line\"},{\"attributes\":{\"formatter\":{\"id\":\"617995e7-d536-440f-8164-e5333ee2b22c\",\"type\":\"BasicTickFormatter\"},\"plot\":{\"id\":\"e7a93f83-e0b5-473a-ab74-1e39f031656b\",\"subtype\":\"Figure\",\"type\":\"Plot\"},\"ticker\":{\"id\":\"29a7d788-aa18-4f2f-9161-a6f643b6473f\",\"type\":\"BasicTicker\"}},\"id\":\"8a70418d-30b4-4ee7-a921-244505dc9c36\",\"type\":\"LinearAxis\"}],\"root_ids\":[\"e7a93f83-e0b5-473a-ab74-1e39f031656b\"]},\"title\":\"Bokeh Application\",\"version\":\"0.13.0\"}};\n",
       "  var render_items = [{\"docid\":\"b016de53-4e22-4432-863c-2099d454f391\",\"roots\":{\"e7a93f83-e0b5-473a-ab74-1e39f031656b\":\"ecaa51b8-d505-49ef-88c8-4d8ee11cb914\"}}];\n",
       "  root.Bokeh.embed.embed_items_notebook(docs_json, render_items);\n",
       "\n",
       "  }\n",
       "  if (root.Bokeh !== undefined) {\n",
       "    embed_document(root);\n",
       "  } else {\n",
       "    var attempts = 0;\n",
       "    var timer = setInterval(function(root) {\n",
       "      if (root.Bokeh !== undefined) {\n",
       "        embed_document(root);\n",
       "        clearInterval(timer);\n",
       "      }\n",
       "      attempts++;\n",
       "      if (attempts > 100) {\n",
       "        console.log(\"Bokeh: ERROR: Unable to run BokehJS code because BokehJS library is missing\")\n",
       "        clearInterval(timer);\n",
       "      }\n",
       "    }, 10, root)\n",
       "  }\n",
       "})(window);"
      ],
      "application/vnd.bokehjs_exec.v0+json": ""
     },
     "metadata": {
      "application/vnd.bokehjs_exec.v0+json": {
       "id": "e7a93f83-e0b5-473a-ab74-1e39f031656b"
      }
     },
     "output_type": "display_data"
    }
   ],
   "source": [
    "plot.clear().graph(2)\n",
    "plot.projection(a_norm,b_norm)\n",
    "plot.show()"
   ]
  },
  {
   "cell_type": "code",
   "execution_count": 23,
   "metadata": {},
   "outputs": [
    {
     "data": {
      "text/plain": [
       "0.4280863447390447"
      ]
     },
     "execution_count": 23,
     "metadata": {},
     "output_type": "execute_result"
    }
   ],
   "source": [
    "c = np.dot(a_norm,b_norm)\n",
    "c"
   ]
  },
  {
   "cell_type": "code",
   "execution_count": 24,
   "metadata": {},
   "outputs": [
    {
     "data": {
      "text/plain": [
       "0.4280863447390447"
      ]
     },
     "execution_count": 24,
     "metadata": {},
     "output_type": "execute_result"
    }
   ],
   "source": [
    "cosine(a,b)"
   ]
  },
  {
   "cell_type": "markdown",
   "metadata": {},
   "source": [
    "# Applied Example: cosine similarity "
   ]
  },
  {
   "cell_type": "markdown",
   "metadata": {},
   "source": [
    "Consider the two statements: how similar are they?"
   ]
  },
  {
   "cell_type": "code",
   "execution_count": 25,
   "metadata": {},
   "outputs": [],
   "source": [
    "descrip1 = \"This is a speech given by current President Trump about Trump.\"\n",
    "descrip2 = \"This is a speech given by former President Obama about Trump.\""
   ]
  },
  {
   "cell_type": "markdown",
   "metadata": {},
   "source": [
    "To process these texts, we need to turn them into numerical data. One way to do this to break up the sentences into individual words (along the way we'll also scrub capitalization and punctuation)"
   ]
  },
  {
   "cell_type": "code",
   "execution_count": 26,
   "metadata": {},
   "outputs": [
    {
     "data": {
      "text/plain": [
       "['this',\n",
       " 'is',\n",
       " 'a',\n",
       " 'speech',\n",
       " 'given',\n",
       " 'by',\n",
       " 'current',\n",
       " 'president',\n",
       " 'trump',\n",
       " 'about',\n",
       " 'trump']"
      ]
     },
     "execution_count": 26,
     "metadata": {},
     "output_type": "execute_result"
    }
   ],
   "source": [
    "def tokenize(text=None):\n",
    "    text = text.lower()\n",
    "    text = text.replace('.','')\n",
    "    text_list = text.split()\n",
    "    return text_list\n",
    "\n",
    "# When applied we get a simplified version of the string\n",
    "tokenize(descrip1)"
   ]
  },
  {
   "cell_type": "markdown",
   "metadata": {},
   "source": [
    "Next we'll want to count the number of times a word occurs in the text."
   ]
  },
  {
   "cell_type": "code",
   "execution_count": 27,
   "metadata": {},
   "outputs": [
    {
     "data": {
      "text/plain": [
       "{'this': [1],\n",
       " 'is': [1],\n",
       " 'a': [1],\n",
       " 'speech': [1],\n",
       " 'given': [1],\n",
       " 'by': [1],\n",
       " 'current': [1],\n",
       " 'president': [1],\n",
       " 'trump': [2],\n",
       " 'about': [1]}"
      ]
     },
     "execution_count": 27,
     "metadata": {},
     "output_type": "execute_result"
    }
   ],
   "source": [
    "d = dict()\n",
    "for word in tokenize(descrip1):\n",
    "    if word in d:\n",
    "        d[word][0] += 1\n",
    "    else:\n",
    "        d[word] = [1]\n",
    "d"
   ]
  },
  {
   "cell_type": "markdown",
   "metadata": {},
   "source": [
    "Next we can represent this dictionary as a data frame, where the columns reflect the words in a text, and the index reflects the text id (i.e. where those words came from), and the cells reflect the number of times those words appear in a text. This is known as a **document term matrix**."
   ]
  },
  {
   "cell_type": "code",
   "execution_count": 28,
   "metadata": {},
   "outputs": [
    {
     "data": {
      "text/html": [
       "<div>\n",
       "<style scoped>\n",
       "    .dataframe tbody tr th:only-of-type {\n",
       "        vertical-align: middle;\n",
       "    }\n",
       "\n",
       "    .dataframe tbody tr th {\n",
       "        vertical-align: top;\n",
       "    }\n",
       "\n",
       "    .dataframe thead th {\n",
       "        text-align: right;\n",
       "    }\n",
       "</style>\n",
       "<table border=\"1\" class=\"dataframe\">\n",
       "  <thead>\n",
       "    <tr style=\"text-align: right;\">\n",
       "      <th></th>\n",
       "      <th>this</th>\n",
       "      <th>is</th>\n",
       "      <th>a</th>\n",
       "      <th>speech</th>\n",
       "      <th>given</th>\n",
       "      <th>by</th>\n",
       "      <th>current</th>\n",
       "      <th>president</th>\n",
       "      <th>trump</th>\n",
       "      <th>about</th>\n",
       "    </tr>\n",
       "  </thead>\n",
       "  <tbody>\n",
       "    <tr>\n",
       "      <th>0</th>\n",
       "      <td>1</td>\n",
       "      <td>1</td>\n",
       "      <td>1</td>\n",
       "      <td>1</td>\n",
       "      <td>1</td>\n",
       "      <td>1</td>\n",
       "      <td>1</td>\n",
       "      <td>1</td>\n",
       "      <td>2</td>\n",
       "      <td>1</td>\n",
       "    </tr>\n",
       "  </tbody>\n",
       "</table>\n",
       "</div>"
      ],
      "text/plain": [
       "   this  is  a  speech  given  by  current  president  trump  about\n",
       "0     1   1  1       1      1   1        1          1      2      1"
      ]
     },
     "execution_count": 28,
     "metadata": {},
     "output_type": "execute_result"
    }
   ],
   "source": [
    "DTM = pd.DataFrame(d)\n",
    "DTM"
   ]
  },
  {
   "cell_type": "markdown",
   "metadata": {},
   "source": [
    "Let's wrap the above code in a function."
   ]
  },
  {
   "cell_type": "code",
   "execution_count": 29,
   "metadata": {},
   "outputs": [
    {
     "data": {
      "text/html": [
       "<div>\n",
       "<style scoped>\n",
       "    .dataframe tbody tr th:only-of-type {\n",
       "        vertical-align: middle;\n",
       "    }\n",
       "\n",
       "    .dataframe tbody tr th {\n",
       "        vertical-align: top;\n",
       "    }\n",
       "\n",
       "    .dataframe thead th {\n",
       "        text-align: right;\n",
       "    }\n",
       "</style>\n",
       "<table border=\"1\" class=\"dataframe\">\n",
       "  <thead>\n",
       "    <tr style=\"text-align: right;\">\n",
       "      <th></th>\n",
       "      <th>this</th>\n",
       "      <th>is</th>\n",
       "      <th>a</th>\n",
       "      <th>speech</th>\n",
       "      <th>given</th>\n",
       "      <th>by</th>\n",
       "      <th>current</th>\n",
       "      <th>president</th>\n",
       "      <th>trump</th>\n",
       "      <th>about</th>\n",
       "    </tr>\n",
       "  </thead>\n",
       "  <tbody>\n",
       "    <tr>\n",
       "      <th>0</th>\n",
       "      <td>1</td>\n",
       "      <td>1</td>\n",
       "      <td>1</td>\n",
       "      <td>1</td>\n",
       "      <td>1</td>\n",
       "      <td>1</td>\n",
       "      <td>1</td>\n",
       "      <td>1</td>\n",
       "      <td>2</td>\n",
       "      <td>1</td>\n",
       "    </tr>\n",
       "  </tbody>\n",
       "</table>\n",
       "</div>"
      ],
      "text/plain": [
       "   this  is  a  speech  given  by  current  president  trump  about\n",
       "0     1   1  1       1      1   1        1          1      2      1"
      ]
     },
     "execution_count": 29,
     "metadata": {},
     "output_type": "execute_result"
    }
   ],
   "source": [
    "def convert_text_to_dtm(txt):\n",
    "    '''\n",
    "    Converts text into a document term matrix.\n",
    "    '''\n",
    "    d = dict()\n",
    "    for word in tokenize(txt):\n",
    "        if word in d:\n",
    "            d[word][0] += 1\n",
    "        else:\n",
    "            d[word] = [1]\n",
    "    return pd.DataFrame(d)\n",
    "\n",
    "convert_text_to_dtm(descrip1)"
   ]
  },
  {
   "cell_type": "markdown",
   "metadata": {},
   "source": [
    "Let's now build a function that processes many texts at once."
   ]
  },
  {
   "cell_type": "code",
   "execution_count": 30,
   "metadata": {},
   "outputs": [
    {
     "data": {
      "text/html": [
       "<div>\n",
       "<style scoped>\n",
       "    .dataframe tbody tr th:only-of-type {\n",
       "        vertical-align: middle;\n",
       "    }\n",
       "\n",
       "    .dataframe tbody tr th {\n",
       "        vertical-align: top;\n",
       "    }\n",
       "\n",
       "    .dataframe thead th {\n",
       "        text-align: right;\n",
       "    }\n",
       "</style>\n",
       "<table border=\"1\" class=\"dataframe\">\n",
       "  <thead>\n",
       "    <tr style=\"text-align: right;\">\n",
       "      <th></th>\n",
       "      <th>a</th>\n",
       "      <th>about</th>\n",
       "      <th>by</th>\n",
       "      <th>current</th>\n",
       "      <th>former</th>\n",
       "      <th>given</th>\n",
       "      <th>is</th>\n",
       "      <th>obama</th>\n",
       "      <th>president</th>\n",
       "      <th>speech</th>\n",
       "      <th>this</th>\n",
       "      <th>trump</th>\n",
       "    </tr>\n",
       "  </thead>\n",
       "  <tbody>\n",
       "    <tr>\n",
       "      <th>0</th>\n",
       "      <td>1</td>\n",
       "      <td>1</td>\n",
       "      <td>1</td>\n",
       "      <td>1.0</td>\n",
       "      <td>0.0</td>\n",
       "      <td>1</td>\n",
       "      <td>1</td>\n",
       "      <td>0.0</td>\n",
       "      <td>1</td>\n",
       "      <td>1</td>\n",
       "      <td>1</td>\n",
       "      <td>2</td>\n",
       "    </tr>\n",
       "    <tr>\n",
       "      <th>1</th>\n",
       "      <td>1</td>\n",
       "      <td>1</td>\n",
       "      <td>1</td>\n",
       "      <td>0.0</td>\n",
       "      <td>1.0</td>\n",
       "      <td>1</td>\n",
       "      <td>1</td>\n",
       "      <td>1.0</td>\n",
       "      <td>1</td>\n",
       "      <td>1</td>\n",
       "      <td>1</td>\n",
       "      <td>1</td>\n",
       "    </tr>\n",
       "  </tbody>\n",
       "</table>\n",
       "</div>"
      ],
      "text/plain": [
       "   a  about  by  current  former  given  is  obama  president  speech  this  \\\n",
       "0  1      1   1      1.0     0.0      1   1    0.0          1       1     1   \n",
       "1  1      1   1      0.0     1.0      1   1    1.0          1       1     1   \n",
       "\n",
       "   trump  \n",
       "0      2  \n",
       "1      1  "
      ]
     },
     "execution_count": 30,
     "metadata": {},
     "output_type": "execute_result"
    }
   ],
   "source": [
    "# Now build a function that does this for a list of texts\n",
    "def gen_DTM(texts=None):\n",
    "    '''\n",
    "    Generate a document term matrix\n",
    "    '''\n",
    "    DTM = pd.DataFrame()\n",
    "    for text in texts:\n",
    "        entry = convert_text_to_dtm(text)\n",
    "        DTM = DTM.append(pd.DataFrame(entry),ignore_index=True,sort=True) # Row bind\n",
    "    \n",
    "    DTM.fillna(0, inplace=True) # Fill in any missing values with 0s (i.e. when a word is in one text but not another)\n",
    "    return DTM\n",
    "\n",
    "# Test it out!        \n",
    "gen_DTM([descrip1,descrip2]) "
   ]
  },
  {
   "cell_type": "markdown",
   "metadata": {},
   "source": [
    "How similar are these two statements?"
   ]
  },
  {
   "cell_type": "code",
   "execution_count": 31,
   "metadata": {},
   "outputs": [
    {
     "data": {
      "text/plain": [
       "array([1., 1., 1., 1., 0., 1., 1., 0., 1., 1., 1., 2.])"
      ]
     },
     "execution_count": 31,
     "metadata": {},
     "output_type": "execute_result"
    }
   ],
   "source": [
    "D = gen_DTM([descrip1,descrip2]) \n",
    "\n",
    "# We can index the pandas dataframe to draw out a numpy array ( a vector! )\n",
    "D.iloc[0].values"
   ]
  },
  {
   "cell_type": "code",
   "execution_count": 32,
   "metadata": {},
   "outputs": [],
   "source": [
    "a = D.iloc[0].values\n",
    "b = D.iloc[1].values"
   ]
  },
  {
   "cell_type": "markdown",
   "metadata": {},
   "source": [
    "Let's use cosine similarity to understand the relationship between these two statements."
   ]
  },
  {
   "cell_type": "code",
   "execution_count": 33,
   "metadata": {},
   "outputs": [
    {
     "data": {
      "text/plain": [
       "0.8362420100070909"
      ]
     },
     "execution_count": 33,
     "metadata": {},
     "output_type": "execute_result"
    }
   ],
   "source": [
    "cosine(a,b)"
   ]
  },
  {
   "cell_type": "markdown",
   "metadata": {},
   "source": [
    "Pretty similar!\n",
    "\n",
    "Now, to really run home the intuition, how similar are these two statements?"
   ]
  },
  {
   "cell_type": "code",
   "execution_count": 34,
   "metadata": {},
   "outputs": [],
   "source": [
    "docs = [\n",
    "    \"On Saturday, Samantha likes to go shopping at the mall.\",\n",
    "    \"The results show that the marginal effect of x on y was trivial and overstated by the original authors.\"\n",
    "]"
   ]
  },
  {
   "cell_type": "code",
   "execution_count": 35,
   "metadata": {},
   "outputs": [
    {
     "data": {
      "text/html": [
       "<div>\n",
       "<style scoped>\n",
       "    .dataframe tbody tr th:only-of-type {\n",
       "        vertical-align: middle;\n",
       "    }\n",
       "\n",
       "    .dataframe tbody tr th {\n",
       "        vertical-align: top;\n",
       "    }\n",
       "\n",
       "    .dataframe thead th {\n",
       "        text-align: right;\n",
       "    }\n",
       "</style>\n",
       "<table border=\"1\" class=\"dataframe\">\n",
       "  <thead>\n",
       "    <tr style=\"text-align: right;\">\n",
       "      <th></th>\n",
       "      <th>and</th>\n",
       "      <th>at</th>\n",
       "      <th>authors</th>\n",
       "      <th>by</th>\n",
       "      <th>effect</th>\n",
       "      <th>go</th>\n",
       "      <th>likes</th>\n",
       "      <th>mall</th>\n",
       "      <th>marginal</th>\n",
       "      <th>of</th>\n",
       "      <th>...</th>\n",
       "      <th>saturday,</th>\n",
       "      <th>shopping</th>\n",
       "      <th>show</th>\n",
       "      <th>that</th>\n",
       "      <th>the</th>\n",
       "      <th>to</th>\n",
       "      <th>trivial</th>\n",
       "      <th>was</th>\n",
       "      <th>x</th>\n",
       "      <th>y</th>\n",
       "    </tr>\n",
       "  </thead>\n",
       "  <tbody>\n",
       "    <tr>\n",
       "      <th>0</th>\n",
       "      <td>0.0</td>\n",
       "      <td>1.0</td>\n",
       "      <td>0.0</td>\n",
       "      <td>0.0</td>\n",
       "      <td>0.0</td>\n",
       "      <td>1.0</td>\n",
       "      <td>1.0</td>\n",
       "      <td>1.0</td>\n",
       "      <td>0.0</td>\n",
       "      <td>0.0</td>\n",
       "      <td>...</td>\n",
       "      <td>1.0</td>\n",
       "      <td>1.0</td>\n",
       "      <td>0.0</td>\n",
       "      <td>0.0</td>\n",
       "      <td>1</td>\n",
       "      <td>1.0</td>\n",
       "      <td>0.0</td>\n",
       "      <td>0.0</td>\n",
       "      <td>0.0</td>\n",
       "      <td>0.0</td>\n",
       "    </tr>\n",
       "    <tr>\n",
       "      <th>1</th>\n",
       "      <td>1.0</td>\n",
       "      <td>0.0</td>\n",
       "      <td>1.0</td>\n",
       "      <td>1.0</td>\n",
       "      <td>1.0</td>\n",
       "      <td>0.0</td>\n",
       "      <td>0.0</td>\n",
       "      <td>0.0</td>\n",
       "      <td>1.0</td>\n",
       "      <td>1.0</td>\n",
       "      <td>...</td>\n",
       "      <td>0.0</td>\n",
       "      <td>0.0</td>\n",
       "      <td>1.0</td>\n",
       "      <td>1.0</td>\n",
       "      <td>3</td>\n",
       "      <td>0.0</td>\n",
       "      <td>1.0</td>\n",
       "      <td>1.0</td>\n",
       "      <td>1.0</td>\n",
       "      <td>1.0</td>\n",
       "    </tr>\n",
       "  </tbody>\n",
       "</table>\n",
       "<p>2 rows × 25 columns</p>\n",
       "</div>"
      ],
      "text/plain": [
       "   and   at  authors   by  effect   go  likes  mall  marginal   of ...   \\\n",
       "0  0.0  1.0      0.0  0.0     0.0  1.0    1.0   1.0       0.0  0.0 ...    \n",
       "1  1.0  0.0      1.0  1.0     1.0  0.0    0.0   0.0       1.0  1.0 ...    \n",
       "\n",
       "   saturday,  shopping  show  that  the   to  trivial  was    x    y  \n",
       "0        1.0       1.0   0.0   0.0    1  1.0      0.0  0.0  0.0  0.0  \n",
       "1        0.0       0.0   1.0   1.0    3  0.0      1.0  1.0  1.0  1.0  \n",
       "\n",
       "[2 rows x 25 columns]"
      ]
     },
     "execution_count": 35,
     "metadata": {},
     "output_type": "execute_result"
    }
   ],
   "source": [
    "D = gen_DTM(docs)\n",
    "D "
   ]
  },
  {
   "cell_type": "code",
   "execution_count": 36,
   "metadata": {},
   "outputs": [
    {
     "data": {
      "text/plain": [
       "0.25298221281347033"
      ]
     },
     "execution_count": 36,
     "metadata": {},
     "output_type": "execute_result"
    }
   ],
   "source": [
    "a = D.iloc[0].values\n",
    "b = D.iloc[1].values\n",
    "cosine(a,b) "
   ]
  },
  {
   "cell_type": "markdown",
   "metadata": {},
   "source": [
    "Much less a alike! Actually the only real similarity between these two statements is the parts of speech. If we were to clean those out, we'd find that there was very little in common between these two statements. Let's do that!"
   ]
  },
  {
   "cell_type": "markdown",
   "metadata": {},
   "source": [
    "**Removing Stopwords**"
   ]
  },
  {
   "cell_type": "code",
   "execution_count": 37,
   "metadata": {},
   "outputs": [],
   "source": [
    "# Words common to the English Language\n",
    "stopwords = ['on', 'to', 'go', 'at', 'the','that','of','was', 'and', 'by']"
   ]
  },
  {
   "cell_type": "code",
   "execution_count": 38,
   "metadata": {},
   "outputs": [
    {
     "name": "stdout",
     "output_type": "stream",
     "text": [
      "['saturday,', 'samantha', 'likes', 'shopping', 'mall']\n",
      "['results', 'show', 'marginal', 'effect', 'x', 'y', 'trivial', 'overstated', 'original', 'authors']\n"
     ]
    }
   ],
   "source": [
    "# Rewrite our token function to clean out these words\n",
    "def tokenize(text=None):\n",
    "    text = text.lower()\n",
    "    text = text.replace('.','')\n",
    "    text_list = text.split()\n",
    "    text_list2 = [word for word in text_list if word not in stopwords]\n",
    "    return text_list2\n",
    "\n",
    "print(tokenize(docs[0]))\n",
    "print(tokenize(docs[1]))"
   ]
  },
  {
   "cell_type": "code",
   "execution_count": 39,
   "metadata": {},
   "outputs": [
    {
     "data": {
      "text/plain": [
       "0.0"
      ]
     },
     "execution_count": 39,
     "metadata": {},
     "output_type": "execute_result"
    }
   ],
   "source": [
    "D = gen_DTM(docs)\n",
    "a = D.iloc[0].values\n",
    "b = D.iloc[1].values\n",
    "cosine(a,b) "
   ]
  },
  {
   "cell_type": "markdown",
   "metadata": {},
   "source": [
    "The two statements are **completely orthogonal**! They go in completely different directions, substantively speaking. \n",
    "\n",
    "Given this conceptualization, we could think of any document in this way! Our knowledge of vectors helps us make substantive comparisons between unstructured text. Pretty neat!"
   ]
  }
 ],
 "metadata": {
  "kernelspec": {
   "display_name": "Python 3",
   "language": "python",
   "name": "python3"
  },
  "language_info": {
   "codemirror_mode": {
    "name": "ipython",
    "version": 3
   },
   "file_extension": ".py",
   "mimetype": "text/x-python",
   "name": "python",
   "nbconvert_exporter": "python",
   "pygments_lexer": "ipython3",
   "version": "3.7.0"
  },
  "toc": {
   "base_numbering": 1,
   "nav_menu": {},
   "number_sections": false,
   "sideBar": true,
   "skip_h1_title": false,
   "title_cell": "Table of Contents",
   "title_sidebar": "Contents",
   "toc_cell": false,
   "toc_position": {
    "height": "calc(100% - 180px)",
    "left": "10px",
    "top": "150px",
    "width": "272.95px"
   },
   "toc_section_display": true,
   "toc_window_display": true
  }
 },
 "nbformat": 4,
 "nbformat_minor": 2
}
